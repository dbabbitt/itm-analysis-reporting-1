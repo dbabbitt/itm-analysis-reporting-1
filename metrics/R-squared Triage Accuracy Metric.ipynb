{
 "cells": [
  {
   "cell_type": "code",
   "execution_count": 1,
   "id": "f303819c-dc03-46ab-a5fc-d1de4fe42714",
   "metadata": {},
   "outputs": [
    {
     "name": "stdout",
     "output_type": "stream",
     "text": [
      "Pretty printing has been turned OFF\n"
     ]
    }
   ],
   "source": [
    "\n",
    "%pprint\n",
    "import sys\n",
    "if (osp.join('..', 'py') not in sys.path): sys.path.insert(1, osp.join('..', 'py'))"
   ]
  },
  {
   "cell_type": "code",
   "execution_count": 2,
   "id": "f88993e1-de14-424b-a21c-ca2308d8ee91",
   "metadata": {},
   "outputs": [],
   "source": [
    "\n",
    "from FRVRS import (nu, fu, DataFrame, osp, display)\n",
    "import os"
   ]
  },
  {
   "cell_type": "code",
   "execution_count": 4,
   "id": "a6971d12-57c5-48d0-97a4-1fd8abeb97c7",
   "metadata": {},
   "outputs": [
    {
     "name": "stdout",
     "output_type": "stream",
     "text": [
      "(829277, 114)\n"
     ]
    }
   ],
   "source": [
    "\n",
    "# Get all CSVs into one data frame\n",
    "if nu.pickle_exists('frvrs_logs_df'):\n",
    "    frvrs_logs_df = nu.load_object('frvrs_logs_df')\n",
    "    print(frvrs_logs_df.shape) # (842663, 112)\n",
    "    # df = frvrs_logs_df.sample(4).dropna(axis='columns', how='all')\n",
    "    # display(df.T)"
   ]
  },
  {
   "cell_type": "code",
   "execution_count": 5,
   "id": "9e647ee7-da0a-4aca-b31e-cc2673dede90",
   "metadata": {},
   "outputs": [
    {
     "data": {
      "text/html": [
       "<div>\n",
       "<style scoped>\n",
       "    .dataframe tbody tr th:only-of-type {\n",
       "        vertical-align: middle;\n",
       "    }\n",
       "\n",
       "    .dataframe tbody tr th {\n",
       "        vertical-align: top;\n",
       "    }\n",
       "\n",
       "    .dataframe thead th {\n",
       "        text-align: right;\n",
       "    }\n",
       "</style>\n",
       "<table border=\"1\" class=\"dataframe\">\n",
       "  <thead>\n",
       "    <tr style=\"text-align: right;\">\n",
       "      <th></th>\n",
       "      <th>scene_type</th>\n",
       "      <th>is_scene_aborted</th>\n",
       "      <th>is_a_one_triage_file</th>\n",
       "    </tr>\n",
       "  </thead>\n",
       "  <tbody>\n",
       "    <tr>\n",
       "      <th>131522</th>\n",
       "      <td>Orientation</td>\n",
       "      <td>False</td>\n",
       "      <td>False</td>\n",
       "    </tr>\n",
       "    <tr>\n",
       "      <th>0</th>\n",
       "      <td>Orientation</td>\n",
       "      <td>False</td>\n",
       "      <td>True</td>\n",
       "    </tr>\n",
       "    <tr>\n",
       "      <th>71303</th>\n",
       "      <td>Triage</td>\n",
       "      <td>False</td>\n",
       "      <td>False</td>\n",
       "    </tr>\n",
       "    <tr>\n",
       "      <th>228</th>\n",
       "      <td>Triage</td>\n",
       "      <td>False</td>\n",
       "      <td>True</td>\n",
       "    </tr>\n",
       "  </tbody>\n",
       "</table>\n",
       "</div>"
      ],
      "text/plain": [
       "         scene_type  is_scene_aborted  is_a_one_triage_file\n",
       "131522  Orientation             False                 False\n",
       "0       Orientation             False                  True\n",
       "71303        Triage             False                 False\n",
       "228          Triage             False                  True"
      ]
     },
     "execution_count": 5,
     "metadata": {},
     "output_type": "execute_result"
    }
   ],
   "source": [
    "\n",
    "columns_list = ['scene_type', 'is_scene_aborted', 'is_a_one_triage_file']\n",
    "frvrs_logs_df[columns_list].drop_duplicates().sort_values(columns_list)"
   ]
  },
  {
   "cell_type": "markdown",
   "id": "d5c52311-5909-477d-a708-dbb4a8133df1",
   "metadata": {},
   "source": [
    "\n",
    "# Triage Accuracy\n",
    "\n",
    "(How many patients did they get right and do they do it in the right order, for example: still or obvious life threat first (Red, Gray, Black), then wavers, then walkers last.)"
   ]
  },
  {
   "cell_type": "markdown",
   "id": "01800a78-04bb-4350-8e29-d27d8eaa30cb",
   "metadata": {},
   "source": [
    "\n",
    "### R-squared\n",
    "\n",
    "I am using the R-squared value of a linear regression model fit as a measure of how well responders engaged the still first, then wavers, then walkers last. A score of 1.0 will mean that the responder performed the ideal sequence. A score of -1.0 means that the responder performed the opposite sequence.\n",
    "\n",
    "The algorithm will work for any number of patients. It allows for any number of still patients, which will be correctly placed in the beginning of the ideal sequence. The numbers are just the milliseconds of elapsed time at the engagement of a patient. The scenes are zero-indexed _SESSION_START_ to _SESSION_END_ segments. Time group 1 is the 2nd session in the file, for instance.\n",
    "\n",
    "This is possibly also a measure of Tolerance for Risk (see https://nextcentury.atlassian.net/wiki/spaces/ITMC/pages/2998960129/KDMAs)."
   ]
  },
  {
   "cell_type": "code",
   "execution_count": 7,
   "id": "f7f54c03-cb20-497c-b010-1892c6c6fafe",
   "metadata": {},
   "outputs": [],
   "source": [
    "\n",
    "# Create a dataset of measures of right ordering\n",
    "if nu.pickle_exists('engagement_sort_df'):\n",
    "    engagement_sort_df = nu.load_object('engagement_sort_df')\n",
    "else:\n",
    "    \n",
    "    # Group the data by session and scene\n",
    "    groupby_columns = fu.scene_groupby_columns + ['logger_version', 'is_scene_aborted', 'scene_type', 'is_a_one_triage_file']\n",
    "    gb = frvrs_logs_df.groupby(groupby_columns)\n",
    "    \n",
    "    # Iterate over each run to get the data rows\n",
    "    rows_list = []\n",
    "    for (session_uuid, scene_id, logger_version, is_scene_aborted, scene_type, is_a_one_triage_file), scene_df in gb:\n",
    "        row_dict = {}\n",
    "        \n",
    "        # Populate the row dictionary with values from the groupby_columns\n",
    "        for cn in groupby_columns: row_dict[cn] = eval(cn)\n",
    "    \n",
    "        # Set the last engagement time among all the obvious life threats\n",
    "        assert ('tag_applied_type' in scene_df.columns)\n",
    "        mask_series = scene_df.tag_applied_type.isin(['red', 'gray', 'black'])\n",
    "        df = scene_df[mask_series]\n",
    "        if df.shape[0]:\n",
    "            patient_ids_list = df.patient_id.unique().tolist()\n",
    "            mask_series = frvrs_logs_df.patient_id.isin(patient_ids_list)\n",
    "            for cn in fu.scene_groupby_columns: mask_series &= (frvrs_logs_df[cn] == eval(cn))\n",
    "            row_dict['last_threat_engaged'] = fu.get_last_patient_interaction(frvrs_logs_df[mask_series])\n",
    "        \n",
    "        # Group the patients by their SORT category and get the last elapsed times\n",
    "        sort_dict = {}\n",
    "        for sort, patient_sort_df in scene_df.groupby('patient_sort'):\n",
    "            if sort in fu.patient_sort_order:\n",
    "                \n",
    "                # Get the SORT's entire history\n",
    "                patient_ids_list = patient_sort_df.patient_id.unique()\n",
    "                mask_series = frvrs_logs_df.patient_id.isin(patient_ids_list)\n",
    "                for cn in fu.scene_groupby_columns: mask_series &= (frvrs_logs_df[cn] == eval(cn))\n",
    "                \n",
    "                # Add the last engaged sort\n",
    "                row_dict[f'last_{sort}_engaged'] = fu.get_last_patient_interaction(frvrs_logs_df[mask_series])\n",
    "        \n",
    "        # Get an R-squared Adjusted as a measure of right ordering\n",
    "        row_dict['rsquared_adj'] = fu.get_measure_of_right_ordering(scene_df)\n",
    "        \n",
    "        rows_list.append(row_dict)\n",
    "    \n",
    "    engagement_sort_df = DataFrame(rows_list)\n",
    "    nu.store_objects(engagement_sort_df=engagement_sort_df)"
   ]
  },
  {
   "cell_type": "code",
   "execution_count": 8,
   "id": "db8dadf0-d5ec-4428-bb66-b8e3593b1b43",
   "metadata": {},
   "outputs": [
    {
     "name": "stdout",
     "output_type": "stream",
     "text": [
      "(136, 11)\n"
     ]
    },
    {
     "data": {
      "text/html": [
       "<div>\n",
       "<style scoped>\n",
       "    .dataframe tbody tr th:only-of-type {\n",
       "        vertical-align: middle;\n",
       "    }\n",
       "\n",
       "    .dataframe tbody tr th {\n",
       "        vertical-align: top;\n",
       "    }\n",
       "\n",
       "    .dataframe thead th {\n",
       "        text-align: right;\n",
       "    }\n",
       "</style>\n",
       "<table border=\"1\" class=\"dataframe\">\n",
       "  <thead>\n",
       "    <tr style=\"text-align: right;\">\n",
       "      <th></th>\n",
       "      <th>84</th>\n",
       "      <th>242</th>\n",
       "      <th>414</th>\n",
       "      <th>87</th>\n",
       "    </tr>\n",
       "  </thead>\n",
       "  <tbody>\n",
       "    <tr>\n",
       "      <th>session_uuid</th>\n",
       "      <td>1df10bfd-0f85-42ff-a873-36dfe05df77b</td>\n",
       "      <td>5c2a444a-9c8d-4c65-bef2-c5f47f6b258d</td>\n",
       "      <td>9a6d2f32-10fb-40ea-bacc-dd6a7d2f4a13</td>\n",
       "      <td>1e7d274d-f393-4888-9f28-4de53b0260e3</td>\n",
       "    </tr>\n",
       "    <tr>\n",
       "      <th>scene_id</th>\n",
       "      <td>1</td>\n",
       "      <td>0</td>\n",
       "      <td>1</td>\n",
       "      <td>1</td>\n",
       "    </tr>\n",
       "    <tr>\n",
       "      <th>logger_version</th>\n",
       "      <td>1.3</td>\n",
       "      <td>1.0</td>\n",
       "      <td>1.3</td>\n",
       "      <td>1.0</td>\n",
       "    </tr>\n",
       "    <tr>\n",
       "      <th>is_scene_aborted</th>\n",
       "      <td>False</td>\n",
       "      <td>False</td>\n",
       "      <td>False</td>\n",
       "      <td>False</td>\n",
       "    </tr>\n",
       "    <tr>\n",
       "      <th>scene_type</th>\n",
       "      <td>Triage</td>\n",
       "      <td>Triage</td>\n",
       "      <td>Triage</td>\n",
       "      <td>Triage</td>\n",
       "    </tr>\n",
       "    <tr>\n",
       "      <th>is_a_one_triage_file</th>\n",
       "      <td>False</td>\n",
       "      <td>True</td>\n",
       "      <td>False</td>\n",
       "      <td>False</td>\n",
       "    </tr>\n",
       "    <tr>\n",
       "      <th>last_threat_engaged</th>\n",
       "      <td>124494.0</td>\n",
       "      <td>NaN</td>\n",
       "      <td>NaN</td>\n",
       "      <td>NaN</td>\n",
       "    </tr>\n",
       "    <tr>\n",
       "      <th>last_still_engaged</th>\n",
       "      <td>124494.0</td>\n",
       "      <td>53785.0</td>\n",
       "      <td>219308.0</td>\n",
       "      <td>NaN</td>\n",
       "    </tr>\n",
       "    <tr>\n",
       "      <th>last_walker_engaged</th>\n",
       "      <td>256861.0</td>\n",
       "      <td>43400.0</td>\n",
       "      <td>224285.0</td>\n",
       "      <td>479691.0</td>\n",
       "    </tr>\n",
       "    <tr>\n",
       "      <th>last_waver_engaged</th>\n",
       "      <td>181150.0</td>\n",
       "      <td>68077.0</td>\n",
       "      <td>219308.0</td>\n",
       "      <td>479691.0</td>\n",
       "    </tr>\n",
       "  </tbody>\n",
       "</table>\n",
       "</div>"
      ],
      "text/plain": [
       "                                                       84   \\\n",
       "session_uuid          1df10bfd-0f85-42ff-a873-36dfe05df77b   \n",
       "scene_id                                              1   \n",
       "logger_version                                         1.3   \n",
       "is_scene_aborted                                     False   \n",
       "scene_type                                          Triage   \n",
       "is_a_one_triage_file                                 False   \n",
       "last_threat_engaged                               124494.0   \n",
       "last_still_engaged                                124494.0   \n",
       "last_walker_engaged                               256861.0   \n",
       "last_waver_engaged                                181150.0   \n",
       "\n",
       "                                                       242  \\\n",
       "session_uuid          5c2a444a-9c8d-4c65-bef2-c5f47f6b258d   \n",
       "scene_id                                              0   \n",
       "logger_version                                         1.0   \n",
       "is_scene_aborted                                     False   \n",
       "scene_type                                          Triage   \n",
       "is_a_one_triage_file                                  True   \n",
       "last_threat_engaged                                    NaN   \n",
       "last_still_engaged                                 53785.0   \n",
       "last_walker_engaged                                43400.0   \n",
       "last_waver_engaged                                 68077.0   \n",
       "\n",
       "                                                       414  \\\n",
       "session_uuid          9a6d2f32-10fb-40ea-bacc-dd6a7d2f4a13   \n",
       "scene_id                                              1   \n",
       "logger_version                                         1.3   \n",
       "is_scene_aborted                                     False   \n",
       "scene_type                                          Triage   \n",
       "is_a_one_triage_file                                 False   \n",
       "last_threat_engaged                                    NaN   \n",
       "last_still_engaged                                219308.0   \n",
       "last_walker_engaged                               224285.0   \n",
       "last_waver_engaged                                219308.0   \n",
       "\n",
       "                                                       87   \n",
       "session_uuid          1e7d274d-f393-4888-9f28-4de53b0260e3  \n",
       "scene_id                                              1  \n",
       "logger_version                                         1.0  \n",
       "is_scene_aborted                                     False  \n",
       "scene_type                                          Triage  \n",
       "is_a_one_triage_file                                 False  \n",
       "last_threat_engaged                                    NaN  \n",
       "last_still_engaged                                     NaN  \n",
       "last_walker_engaged                               479691.0  \n",
       "last_waver_engaged                                479691.0  "
      ]
     },
     "metadata": {},
     "output_type": "display_data"
    }
   ],
   "source": [
    "\n",
    "# Display a sample of the data frame, dropping columns with all NaN values and transposing it\n",
    "mask_series = engagement_sort_df.rsquared_adj.isnull()\n",
    "df = engagement_sort_df[mask_series]\n",
    "print(df.shape)\n",
    "display(df.sample(min(4, df.shape[0])).dropna(axis='columns', how='all').T)"
   ]
  },
  {
   "cell_type": "code",
   "execution_count": 8,
   "id": "a9220eea-cf8a-418a-a9ae-53ae369bf6ad",
   "metadata": {},
   "outputs": [
    {
     "data": {
      "text/html": [
       "<div>\n",
       "<style scoped>\n",
       "    .dataframe tbody tr th:only-of-type {\n",
       "        vertical-align: middle;\n",
       "    }\n",
       "\n",
       "    .dataframe tbody tr th {\n",
       "        vertical-align: top;\n",
       "    }\n",
       "\n",
       "    .dataframe thead th {\n",
       "        text-align: right;\n",
       "    }\n",
       "</style>\n",
       "<table border=\"1\" class=\"dataframe\">\n",
       "  <thead>\n",
       "    <tr style=\"text-align: right;\">\n",
       "      <th></th>\n",
       "      <th>session_uuid</th>\n",
       "      <th>scene_id</th>\n",
       "      <th>logger_version</th>\n",
       "      <th>is_scene_aborted</th>\n",
       "      <th>scene_type</th>\n",
       "      <th>is_a_one_triage_file</th>\n",
       "      <th>last_threat_engaged</th>\n",
       "      <th>last_still_engaged</th>\n",
       "      <th>last_walker_engaged</th>\n",
       "      <th>last_waver_engaged</th>\n",
       "      <th>rsquared_adj</th>\n",
       "    </tr>\n",
       "  </thead>\n",
       "  <tbody>\n",
       "    <tr>\n",
       "      <th>415</th>\n",
       "      <td>9a6d2f32-10fb-40ea-bacc-dd6a7d2f4a13</td>\n",
       "      <td>2</td>\n",
       "      <td>1.3</td>\n",
       "      <td>False</td>\n",
       "      <td>Triage</td>\n",
       "      <td>False</td>\n",
       "      <td>813809.0</td>\n",
       "      <td>801090.0</td>\n",
       "      <td>781805.0</td>\n",
       "      <td>830217.0</td>\n",
       "      <td>-0.059906</td>\n",
       "    </tr>\n",
       "    <tr>\n",
       "      <th>4</th>\n",
       "      <td>02f6a42e-5211-40ea-8384-824a83ab6760</td>\n",
       "      <td>0</td>\n",
       "      <td>1.0</td>\n",
       "      <td>False</td>\n",
       "      <td>Triage</td>\n",
       "      <td>True</td>\n",
       "      <td>407473.0</td>\n",
       "      <td>407473.0</td>\n",
       "      <td>562962.0</td>\n",
       "      <td>630524.0</td>\n",
       "      <td>0.844740</td>\n",
       "    </tr>\n",
       "  </tbody>\n",
       "</table>\n",
       "</div>"
      ],
      "text/plain": [
       "                             session_uuid scene_id  logger_version  \\\n",
       "415  9a6d2f32-10fb-40ea-bacc-dd6a7d2f4a13           2             1.3   \n",
       "4    02f6a42e-5211-40ea-8384-824a83ab6760           0             1.0   \n",
       "\n",
       "    is_scene_aborted scene_type is_a_one_triage_file  last_threat_engaged  \\\n",
       "415            False     Triage                False             813809.0   \n",
       "4              False     Triage                 True             407473.0   \n",
       "\n",
       "     last_still_engaged  last_walker_engaged  last_waver_engaged  rsquared_adj  \n",
       "415            801090.0             781805.0            830217.0     -0.059906  \n",
       "4              407473.0             562962.0            630524.0      0.844740  "
      ]
     },
     "execution_count": 8,
     "metadata": {},
     "output_type": "execute_result"
    }
   ],
   "source": [
    "\n",
    "columns_list = ['is_scene_aborted', 'is_a_one_triage_file']\n",
    "nu.get_minority_combinations(engagement_sort_df, columns_list)"
   ]
  },
  {
   "cell_type": "markdown",
   "id": "832b498d-6064-4e8f-baa3-b2d23375cb7e",
   "metadata": {},
   "source": [
    "\n",
    "Here is a histogram of the values:"
   ]
  },
  {
   "cell_type": "code",
   "execution_count": 9,
   "id": "1e234605-ddc4-45d7-a4c0-b04662b30f84",
   "metadata": {},
   "outputs": [
    {
     "data": {
      "image/png": "[encoded data removed]",
      "text/plain": [
       "<Figure size 1800x900 with 1 Axes>"
      ]
     },
     "metadata": {},
     "output_type": "display_data"
    }
   ],
   "source": [
    "\n",
    "# Display a histogram of the distribution of the measure of\n",
    "# how well responders engaged the still first, then wavers, then walkers last\n",
    "xlabel = 'R-squared as a Measure of Right Ordering'\n",
    "get_xtick_text = lambda text_obj: round(text_obj.get_position()[0], 2)\n",
    "title = 'Histogram of the Measure of how well Trainees Engaged the Still First, then Wavers, then Walkers Last'\n",
    "ylabel = 'Count of Responders in Range'\n",
    "mask_series = (engagement_sort_df.scene_type == 'Triage') & (engagement_sort_df.is_scene_aborted == False) & (engagement_sort_df.is_a_one_triage_file == True)\n",
    "ax = nu.plot_histogram(engagement_sort_df[mask_series], 'rsquared_adj', xlabel=xlabel, xtick_text_fn=get_xtick_text, title=title, ylabel=ylabel, xticks_are_temporal=False)"
   ]
  },
  {
   "cell_type": "code",
   "execution_count": 10,
   "id": "20e29a1a-d124-4cbd-bcfe-9d44d00f0ab4",
   "metadata": {},
   "outputs": [
    {
     "data": {
      "text/html": [
       "<div>\n",
       "<style scoped>\n",
       "    .dataframe tbody tr th:only-of-type {\n",
       "        vertical-align: middle;\n",
       "    }\n",
       "\n",
       "    .dataframe tbody tr th {\n",
       "        vertical-align: top;\n",
       "    }\n",
       "\n",
       "    .dataframe thead th {\n",
       "        text-align: right;\n",
       "    }\n",
       "</style>\n",
       "<table border=\"1\" class=\"dataframe\">\n",
       "  <thead>\n",
       "    <tr style=\"text-align: right;\">\n",
       "      <th></th>\n",
       "      <th>mean</th>\n",
       "      <th>mode</th>\n",
       "      <th>median</th>\n",
       "      <th>SD</th>\n",
       "      <th>min</th>\n",
       "      <th>25%</th>\n",
       "      <th>50%</th>\n",
       "      <th>75%</th>\n",
       "      <th>max</th>\n",
       "    </tr>\n",
       "  </thead>\n",
       "  <tbody>\n",
       "    <tr>\n",
       "      <th>rsquared_adj</th>\n",
       "      <td>0.6</td>\n",
       "      <td>1.0</td>\n",
       "      <td>0.6</td>\n",
       "      <td>0.4</td>\n",
       "      <td>-0.5</td>\n",
       "      <td>0.3</td>\n",
       "      <td>0.6</td>\n",
       "      <td>0.9</td>\n",
       "      <td>1.0</td>\n",
       "    </tr>\n",
       "  </tbody>\n",
       "</table>\n",
       "</div>"
      ],
      "text/plain": [
       "              mean  mode  median   SD  min  25%  50%  75%  max\n",
       "rsquared_adj   0.6   1.0     0.6  0.4 -0.5  0.3  0.6  0.9  1.0"
      ]
     },
     "metadata": {},
     "output_type": "display_data"
    }
   ],
   "source": [
    "\n",
    "# Can you provide the following statistics for this distribution: mean, median, mode, SD, Interquartile range?\n",
    "mask_series = (engagement_sort_df.scene_type == 'Triage') & (engagement_sort_df.is_scene_aborted == False) & (engagement_sort_df.is_a_one_triage_file == True)\n",
    "columns_list = [\n",
    "    'rsquared_adj'\n",
    "]\n",
    "df = engagement_sort_df[mask_series][columns_list]\n",
    "display(nu.get_statistics(df, columns_list).applymap(lambda x: round(x, 1), na_action='ignore').T)"
   ]
  },
  {
   "cell_type": "code",
   "execution_count": 11,
   "id": "4e6d99a4-3dbc-4ce4-896e-1fa49000f726",
   "metadata": {},
   "outputs": [
    {
     "data": {
      "text/plain": [
       "rsquared_adj\n",
       "1.000000        63\n",
       "0.674873         1\n",
       "0.687743         1\n",
       "0.686416         1\n",
       "0.682185         1\n",
       "                ..\n",
       "0.312529         1\n",
       "0.312119         1\n",
       "0.311334         1\n",
       "0.311082         1\n",
       "0.512724         1\n",
       "Name: count, Length: 311, dtype: int64"
      ]
     },
     "metadata": {},
     "output_type": "display_data"
    },
    {
     "name": "stdout",
     "output_type": "stream",
     "text": [
      "20.257234726688104\n"
     ]
    }
   ],
   "source": [
    "\n",
    "mask_series = (engagement_sort_df.scene_type == 'Triage') & (engagement_sort_df.is_scene_aborted == False) & (engagement_sort_df.is_a_one_triage_file == True)\n",
    "df = engagement_sort_df[mask_series]\n",
    "srs = df.value_counts(subset=['rsquared_adj'])\n",
    "display(srs)\n",
    "print(100*srs.iloc[0]/srs.size)"
   ]
  },
  {
   "cell_type": "code",
   "execution_count": 8,
   "id": "c8174120-b527-4e3d-b021-193d95029c19",
   "metadata": {},
   "outputs": [
    {
     "data": {
      "image/png": "[encoded data removed]",
      "text/plain": [
       "<Figure size 900x900 with 1 Axes>"
      ]
     },
     "metadata": {},
     "output_type": "display_data"
    }
   ],
   "source": [
    "\n",
    "# Filter out anything after 16 minutes per Nicholas Kman\n",
    "mask_series = (engagement_sort_df.is_scene_aborted == False)\n",
    "df = engagement_sort_df[mask_series]\n",
    "fu.plot_grouped_box_and_whiskers(df, 'scene_type', 'rsquared_adj', 'Scene Type', 'Measure of Right Ordering', transformer_name=None, is_y_temporal=False)"
   ]
  },
  {
   "cell_type": "code",
   "execution_count": 9,
   "id": "620b476c-d2ad-4dc2-a1db-e857adacdc6a",
   "metadata": {},
   "outputs": [
    {
     "data": {
      "image/png": "[encoded data removed]",
      "text/plain": [
       "<Figure size 900x900 with 1 Axes>"
      ]
     },
     "metadata": {},
     "output_type": "display_data"
    }
   ],
   "source": [
    "\n",
    "mask_series = (engagement_sort_df.scene_type == 'Triage')\n",
    "df = engagement_sort_df[mask_series]\n",
    "fu.plot_grouped_box_and_whiskers(df, 'is_scene_aborted', 'rsquared_adj', 'Was the Run Aborted?', 'Measure of Right Ordering', transformer_name=None, is_y_temporal=False)"
   ]
  },
  {
   "cell_type": "markdown",
   "id": "a7798ac0-ea5e-4eec-a283-64fe7434221c",
   "metadata": {},
   "source": [
    "\n",
    "## How many responders did the right order? Should be a percentage of all responders\n"
   ]
  },
  {
   "cell_type": "code",
   "execution_count": 10,
   "id": "f04d3a88-3edc-4499-99c1-bd3fd710c773",
   "metadata": {},
   "outputs": [
    {
     "name": "stdout",
     "output_type": "stream",
     "text": [
      "19.28% of non-orientation, not-scene-aborted responders engaged the still first, then wavers, then walkers last, in an ideal sequence.\n"
     ]
    }
   ],
   "source": [
    "\n",
    "mask_series = (engagement_sort_df.scene_type == 'Triage') & (engagement_sort_df.is_scene_aborted == False)\n",
    "total_count = engagement_sort_df[mask_series].shape[0]\n",
    "mask_series &= (engagement_sort_df.rsquared_adj == 1.0)\n",
    "correct_count = engagement_sort_df[mask_series].shape[0]\n",
    "percentage_tag_correct = 100*correct_count/total_count\n",
    "print(f'{percentage_tag_correct:.2f}% of non-orientation, not-scene-aborted responders engaged the still first, then wavers, then walkers last, in an ideal sequence.')"
   ]
  },
  {
   "cell_type": "code",
   "execution_count": null,
   "id": "769bfcba-6ea3-42bf-948c-15fe3fb1ecef",
   "metadata": {},
   "outputs": [],
   "source": []
  }
 ],
 "metadata": {
  "kernelspec": {
   "display_name": "Python 3 (ipykernel)",
   "language": "python",
   "name": "python3"
  },
  "language_info": {
   "codemirror_mode": {
    "name": "ipython",
    "version": 3
   },
   "file_extension": ".py",
   "mimetype": "text/x-python",
   "name": "python",
   "nbconvert_exporter": "python",
   "pygments_lexer": "ipython3",
   "version": "3.11.7"
  }
 },
 "nbformat": 4,
 "nbformat_minor": 5
}
