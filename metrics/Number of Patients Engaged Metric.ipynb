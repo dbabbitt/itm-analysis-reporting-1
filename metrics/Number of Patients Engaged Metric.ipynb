{
 "cells": [
  {
   "cell_type": "code",
   "execution_count": 1,
   "id": "f303819c-dc03-46ab-a5fc-d1de4fe42714",
   "metadata": {},
   "outputs": [
    {
     "name": "stdout",
     "output_type": "stream",
     "text": [
      "Pretty printing has been turned OFF\n"
     ]
    }
   ],
   "source": [
    "\n",
    "%pprint\n",
    "import sys\n",
    "if (osp.join('..', 'py') not in sys.path): sys.path.insert(1, osp.join('..', 'py'))"
   ]
  },
  {
   "cell_type": "code",
   "execution_count": 2,
   "id": "d165278c-0e72-4384-b3dd-3e163dbfe21a",
   "metadata": {},
   "outputs": [],
   "source": [
    "\n",
    "from FRVRS import (fu, nu, DataFrame, osp, display)\n",
    "from datetime import timedelta\n",
    "from edstan_data import EdstanData\n",
    "import humanize\n",
    "import pandas as pd"
   ]
  },
  {
   "cell_type": "code",
   "execution_count": 3,
   "id": "a6971d12-57c5-48d0-97a4-1fd8abeb97c7",
   "metadata": {},
   "outputs": [
    {
     "name": "stdout",
     "output_type": "stream",
     "text": [
      "(829116, 114)\n"
     ]
    }
   ],
   "source": [
    "\n",
    "# Get all CSVs into one data frame\n",
    "if nu.pickle_exists('frvrs_logs_df'):\n",
    "    frvrs_logs_df = nu.load_object('frvrs_logs_df')\n",
    "    print(frvrs_logs_df.shape)\n",
    "    # df = frvrs_logs_df.sample(4).dropna(axis='columns', how='all')\n",
    "    # display(df.T)"
   ]
  },
  {
   "cell_type": "markdown",
   "id": "d5c52311-5909-477d-a708-dbb4a8133df1",
   "metadata": {},
   "source": [
    "\n",
    "# Number of Patients Engaged"
   ]
  },
  {
   "cell_type": "code",
   "execution_count": 4,
   "id": "f81cfa03-5dcd-4380-9c1a-5c9f6116687a",
   "metadata": {},
   "outputs": [
    {
     "name": "stdout",
     "output_type": "stream",
     "text": [
      "Pickling to /mnt/c/Users/DaveBabbitt/Documents/GitHub/itm-analysis-reporting/saves/pkl/percentage_engaged_df.pkl\n"
     ]
    }
   ],
   "source": [
    "\n",
    "# Number of patients engaged\n",
    "if nu.pickle_exists('percentage_engaged_df'):\n",
    "    percentage_engaged_df = nu.load_object('percentage_engaged_df')\n",
    "else:\n",
    "    \n",
    "    # Initialize an empty list to store the data for each session\n",
    "    rows_list = []\n",
    "    \n",
    "    # Loop through each unique UUID and scene combination\n",
    "    for (session_uuid, scene_id), scene_df in frvrs_logs_df.groupby(fu.scene_groupby_columns):\n",
    "        \n",
    "        # Get the logger version and scene categories\n",
    "        logger_version = fu.get_logger_version(scene_df)\n",
    "        is_scene_aborted = fu.get_is_scene_aborted(scene_df)\n",
    "        scene_type = fu.get_scene_type(scene_df)\n",
    "    \n",
    "        # Get the number of patients in the group\n",
    "        patients_count = fu.get_patient_count(scene_df)\n",
    "    \n",
    "        # Initialize a counter for patients engaged in the current group\n",
    "        patients_engaged = 0\n",
    "        \n",
    "        # Loop through each unique patient_id in the current group\n",
    "        for patient_id, patient_df in scene_df.groupby('patient_id'):\n",
    "            \n",
    "            # Create a mask to filter rows where action_type is 'PATIENT_ENGAGED'\n",
    "            mask_series = (patient_df.action_type == 'PATIENT_ENGAGED')\n",
    "            \n",
    "            # If the filtered dataframe has any rows, increment the number of patients engaged\n",
    "            if mask_series.any(): patients_engaged += 1\n",
    "    \n",
    "        # If there are any patients in the group, add a row to the results list with the following information:\n",
    "        # * logger version\n",
    "        # * session uuid\n",
    "        # * scene\n",
    "        # * number of patients in the group\n",
    "        # * number of patients engaged in the group\n",
    "        # * percentage of patients engaged in the group\n",
    "        if patients_count:\n",
    "            \n",
    "            # Create a dictionary to store the data for the current group\n",
    "            row_dict = {}\n",
    "            for cn in fu.scene_groupby_columns: row_dict[cn] = eval(cn)\n",
    "            row_dict['logger_version'] = logger_version\n",
    "            row_dict['is_scene_aborted'] = is_scene_aborted\n",
    "            row_dict['scene_type'] = scene_type\n",
    "            row_dict['patients_count'] = patients_count\n",
    "            row_dict['patients_engaged'] = patients_engaged\n",
    "            row_dict['percentage_engaged'] = patients_engaged / patients_count\n",
    "            \n",
    "            # Append the dictionary to the list of rows\n",
    "            rows_list.append(row_dict)\n",
    "    \n",
    "    # Create a data frame from the list of dictionaries\n",
    "    percentage_engaged_df = DataFrame(rows_list)\n",
    "    nu.store_objects(percentage_engaged_df=percentage_engaged_df)"
   ]
  },
  {
   "cell_type": "code",
   "execution_count": 8,
   "id": "36673ec5-94ac-4040-bc97-b779d56ff773",
   "metadata": {},
   "outputs": [
    {
     "name": "stdout",
     "output_type": "stream",
     "text": [
      "The average number of patients engaged per scene is 9.6.\n"
     ]
    }
   ],
   "source": [
    "\n",
    "# Get average number of patients engaged (this could be including the ones that wave, walk, put hands up)\n",
    "mask_series = (percentage_engaged_df.scene_type == 'Triage') & (percentage_engaged_df.is_scene_aborted == False)\n",
    "ave_patients_engaged = percentage_engaged_df[mask_series].patients_engaged.mean()\n",
    "print(f'The average number of patients engaged per scene is {ave_patients_engaged:0.2}.')"
   ]
  },
  {
   "cell_type": "code",
   "execution_count": null,
   "id": "141424cc-4a2e-41a0-8ab1-42237ba77cf8",
   "metadata": {},
   "outputs": [],
   "source": [
    "\n",
    "# Get scene with the most ignored patients, v1.3\n",
    "mask_series = (percentage_engaged_df.percentage_engaged == 0) & (percentage_engaged_df.logger_version == 1.3)\n",
    "fu.visualize_extreme_player_movement(\n",
    "    frvrs_logs_df,\n",
    "    percentage_engaged_df,\n",
    "    'patients_count',\n",
    "    mask_series=mask_series,\n",
    "    is_ascending=False,\n",
    "    humanize_type='intword',\n",
    "    title_str='most ignored patients'\n",
    ")"
   ]
  },
  {
   "cell_type": "code",
   "execution_count": null,
   "id": "158bbffe-ed46-48e1-9e8c-ca171333e141",
   "metadata": {},
   "outputs": [],
   "source": [
    "\n",
    "# Get scene with the most ignored patients, v1.0\n",
    "mask_series = (percentage_engaged_df.percentage_engaged == 0) & (percentage_engaged_df.logger_version == 1.0)\n",
    "fu.visualize_extreme_player_movement(\n",
    "    frvrs_logs_df, percentage_engaged_df, 'patients_count', mask_series=mask_series, is_ascending=False,\n",
    "    humanize_type='intword', title_str='most ignored patients', verbose=False\n",
    ")"
   ]
  },
  {
   "cell_type": "code",
   "execution_count": null,
   "id": "e4b3659a-b3d2-44c1-a1ed-27fdeaea3c14",
   "metadata": {},
   "outputs": [],
   "source": [
    "\n",
    "# Get scene with the least ignored patients, v1.3\n",
    "mask_series = (percentage_engaged_df.logger_version == 1.3)\n",
    "df = percentage_engaged_df[mask_series].sort_values(['percentage_engaged', 'patients_count']).tail(1)\n",
    "patients_session_uuid = df.session_uuid.squeeze()\n",
    "patients_time_group = df.scene_id.squeeze()\n",
    "base_mask_series = (frvrs_logs_df.session_uuid == patients_session_uuid) & (frvrs_logs_df.scene_id == patients_time_group)\n",
    "\n",
    "title = f'Location Map for UUID {patients_session_uuid} ({humanize.ordinal(patients_time_group+1)} Session)'\n",
    "title += ' showing Trainee with the Least Ignored Patients'\n",
    "fu.visualize_player_movement(frvrs_logs_df, base_mask_series, title=title)"
   ]
  },
  {
   "cell_type": "code",
   "execution_count": null,
   "id": "f558cadc-717f-45a7-9c0b-37935f6f5e8a",
   "metadata": {},
   "outputs": [],
   "source": [
    "\n",
    "# Get scene with the least ignored patients, v1.0\n",
    "mask_series = (percentage_engaged_df.logger_version == 1.0)\n",
    "df = percentage_engaged_df[mask_series].sort_values(['percentage_engaged', 'patients_count']).tail(1)\n",
    "patients_session_uuid = df.session_uuid.squeeze()\n",
    "patients_time_group = df.scene_id.squeeze()\n",
    "base_mask_series = (frvrs_logs_df.session_uuid == patients_session_uuid) & (frvrs_logs_df.scene_id == patients_time_group)\n",
    "\n",
    "title = f'Location Map for UUID {patients_session_uuid} ({humanize.ordinal(patients_time_group+1)} Session)'\n",
    "title += ' showing Trainee with the Least Ignored Patients'\n",
    "fu.visualize_player_movement(frvrs_logs_df, base_mask_series, title=title)"
   ]
  },
  {
   "cell_type": "markdown",
   "id": "a6891ce2-794c-41e9-9ed0-3dd287411aed",
   "metadata": {},
   "source": [
    "\n",
    "## How many patients are treated between the walk and wave commands?"
   ]
  },
  {
   "cell_type": "code",
   "execution_count": null,
   "id": "09e1d987-6e24-4c6f-bc58-164a73fefce7",
   "metadata": {},
   "outputs": [],
   "source": [
    "\n",
    "mask_series = frvrs_logs_df.voice_command_command_description.map(\n",
    "    lambda x: ('walk' in str(x).lower()) or ('wave' in str(x).lower())\n",
    ")\n",
    "frvrs_logs_df[mask_series].voice_command_command_description.unique().tolist()[:10]"
   ]
  },
  {
   "cell_type": "code",
   "execution_count": null,
   "id": "f8e2405d-7143-41ee-b83a-1e86ab1af1ae",
   "metadata": {},
   "outputs": [],
   "source": [
    "\n",
    "# Display a sample of the data frame, dropping columns with all NaN values and transposing it\n",
    "mask_series = frvrs_logs_df.voice_command_command_description.isin(['walk', 'wave'])\n",
    "df = frvrs_logs_df[mask_series]\n",
    "display(df.sample(min(4, df.shape[0])).dropna(axis='columns', how='all').T)"
   ]
  },
  {
   "cell_type": "code",
   "execution_count": null,
   "id": "a91644ff-9f47-46c9-a623-d0c70e8718e1",
   "metadata": {},
   "outputs": [],
   "source": [
    "\n",
    "actions_list = [\n",
    "    'wave if you can', 'wave if you can', 'PATIENT_ENGAGED', 'PATIENT_ENGAGED', 'PATIENT_ENGAGED', 'walk to the safe area',\n",
    "    'PATIENT_ENGAGED', 'walk to the safe area', 'PATIENT_ENGAGED', 'PATIENT_ENGAGED', 'walk to the safe area',\n",
    "    'PATIENT_ENGAGED', 'PATIENT_ENGAGED', 'PATIENT_ENGAGED', 'PATIENT_ENGAGED', 'PATIENT_ENGAGED', 'PATIENT_ENGAGED',\n",
    "    'PATIENT_ENGAGED', 'PATIENT_ENGAGED', 'PATIENT_ENGAGED', 'walk to the safe area', 'PATIENT_ENGAGED', 'PATIENT_ENGAGED',\n",
    "    'PATIENT_ENGAGED', 'PATIENT_ENGAGED', 'PATIENT_ENGAGED', 'PATIENT_ENGAGED', 'PATIENT_ENGAGED', 'PATIENT_ENGAGED',\n",
    "    'PATIENT_ENGAGED', 'PATIENT_ENGAGED', 'PATIENT_ENGAGED', 'PATIENT_ENGAGED', 'PATIENT_ENGAGED', 'PATIENT_ENGAGED',\n",
    "    'PATIENT_ENGAGED', 'PATIENT_ENGAGED'\n",
    "]\n",
    "result = nu.replace_consecutive_elements(actions_list, element='PATIENT_ENGAGED')\n",
    "if result != [\n",
    "    'wave if you can', 'wave if you can', 'PATIENT_ENGAGED x3', 'walk to the safe area', 'PATIENT_ENGAGED x1',\n",
    "    'walk to the safe area', 'PATIENT_ENGAGED x2', 'walk to the safe area', 'PATIENT_ENGAGED x9', 'walk to the safe area',\n",
    "    'PATIENT_ENGAGED x16'\n",
    "]:\n",
    "    print('Fix first test')\n",
    "    print(result)\n",
    "actions_list = ['PATIENT_ENGAGED', 'wave if you can', 'wave if you can', 'walk to the safe area']\n",
    "result = nu.replace_consecutive_elements(actions_list, element='PATIENT_ENGAGED')\n",
    "if result != [\n",
    "    'PATIENT_ENGAGED x1', 'wave if you can', 'wave if you can', 'walk to the safe area'\n",
    "]:\n",
    "    print('Fix second test')\n",
    "    print(result)"
   ]
  },
  {
   "cell_type": "code",
   "execution_count": null,
   "id": "e2ce061d-bcce-4cc6-9414-f3fa1505a25a",
   "metadata": {},
   "outputs": [],
   "source": [
    "\n",
    "# Visualize the number of patients engaged between walk and wave\n",
    "columns_list = ['voice_command_message', 'action_type']\n",
    "\n",
    "# Loop through each unique UUID and scene combination\n",
    "for (session_uuid, scene_id), scene_df in frvrs_logs_df.groupby(fu.scene_groupby_columns):\n",
    "    \n",
    "    # Get all the engaged, walk, and wave events in this scene\n",
    "    mask_series = scene_df.voice_command_message.isin(['walk to the safe area', 'wave if you can'])\n",
    "    mask_series |= (scene_df.action_type == 'PATIENT_ENGAGED')\n",
    "    \n",
    "    # Print out the results\n",
    "    df2 = scene_df[mask_series][columns_list]#.sort_values('action_tick')\n",
    "    if df2.shape[0]:\n",
    "        print(session_uuid, scene_id, end=':\\n', flush=True)\n",
    "        actions_list = []\n",
    "        for row_index, row_series in df2.iterrows():\n",
    "            action_type = row_series.action_type\n",
    "            if (action_type == 'PATIENT_ENGAGED'): actions_list.append('PATIENT_ENGAGED')\n",
    "            else: actions_list.append(row_series.voice_command_message)\n",
    "        actions_list = nu.replace_consecutive_elements(actions_list, element='PATIENT_ENGAGED')\n",
    "        actions_list = nu.replace_consecutive_elements(actions_list, element='walk to the safe area')\n",
    "        actions_list = nu.replace_consecutive_elements(actions_list, element='wave if you can')\n",
    "        for action in actions_list:\n",
    "            print('\\t' + str(action))"
   ]
  },
  {
   "cell_type": "markdown",
   "id": "86332b4c-7190-405f-8f03-fd2c846709ec",
   "metadata": {},
   "source": [
    "\n",
    "## How many times are walk / wave commands issued?"
   ]
  },
  {
   "cell_type": "code",
   "execution_count": null,
   "id": "766d5cbd-f498-4d21-b645-742cf51c746e",
   "metadata": {},
   "outputs": [],
   "source": [
    "\n",
    "# Get the number of times walk / wave commands are issued\n",
    "if nu.pickle_exists('walk_and_wave_count_df'):\n",
    "    walk_and_wave_count_df = nu.load_object('walk_and_wave_count_df')\n",
    "else:\n",
    "    columns_list = ['voice_command_message', 'action_type']\n",
    "    rows_list = []\n",
    "\n",
    "    # Initialize the count of times between walk / wave commands\n",
    "    betweens_list = []\n",
    "    \n",
    "    # Loop through each unique file and scene combination\n",
    "    for (session_uuid, scene_id), scene_df in frvrs_logs_df.groupby(fu.scene_groupby_columns):\n",
    "        \n",
    "        # Add the logger version and scene categories\n",
    "        row_dict = {}\n",
    "        row_dict['logger_version'] = fu.get_logger_version(scene_df)\n",
    "        for cn in fu.scene_groupby_columns: row_dict[cn] = eval(cn)\n",
    "        row_dict['is_scene_aborted'] = fu.get_is_scene_aborted(scene_df)\n",
    "        row_dict['scene_type'] = fu.get_scene_type(scene_df)\n",
    "        \n",
    "        # Get all the walk events in this scene\n",
    "        row_dict['walk_count'] = fu.get_walk_command_count(scene_df)\n",
    "        \n",
    "        # Get all the wave events in this scene\n",
    "        row_dict['wave_count'] = fu.get_wave_command_count(scene_df)\n",
    "        \n",
    "        # Get all the walk and wave events in this scene\n",
    "        row_dict['walk_and_wave_count'] = row_dict['walk_count'] + row_dict['wave_count']\n",
    "\n",
    "        # Record the timestamps of each\n",
    "        mask_series = scene_df.voice_command_message.isin(['walk to the safe area', 'wave if you can'])\n",
    "        betweens_list.extend(scene_df[mask_series].action_tick.tolist())\n",
    "    \n",
    "        # Append the data row to the dataset\n",
    "        rows_list.append(row_dict)\n",
    "    \n",
    "    walk_and_wave_count_df = DataFrame(rows_list)\n",
    "    nu.store_objects(walk_and_wave_count_df=walk_and_wave_count_df)"
   ]
  },
  {
   "cell_type": "code",
   "execution_count": null,
   "id": "681aa58d-782c-4f00-98a1-79c9fd25935a",
   "metadata": {},
   "outputs": [],
   "source": [
    "\n",
    "get_xtick_text = lambda text_obj: text_obj.get_position()[0]\n",
    "xlabel = 'Count of Walk Commands Issued'\n",
    "title = f'Histogram of {xlabel}'\n",
    "mask_series = (walk_and_wave_count_df.scene_type == 'Triage') & (walk_and_wave_count_df.is_scene_aborted == False)\n",
    "fig = nu.plot_histogram(walk_and_wave_count_df[mask_series], 'walk_count', xlabel=xlabel, xtick_text_fn=get_xtick_text, title=title)"
   ]
  },
  {
   "cell_type": "code",
   "execution_count": null,
   "id": "4b3494f9-dc11-4666-840c-2a74e4855798",
   "metadata": {},
   "outputs": [],
   "source": [
    "\n",
    "xlabel = 'Count of Wave Commands Issued'\n",
    "title = f'Histogram of {xlabel}'\n",
    "mask_series = (walk_and_wave_count_df.scene_type == 'Triage') & (walk_and_wave_count_df.is_scene_aborted == False)\n",
    "fig = nu.plot_histogram(walk_and_wave_count_df[mask_series], 'wave_count', xlabel=xlabel, xtick_text_fn=get_xtick_text, title=title)"
   ]
  },
  {
   "cell_type": "code",
   "execution_count": null,
   "id": "9926fe9c-e5bf-4fd0-99ef-ef701618ed4e",
   "metadata": {},
   "outputs": [],
   "source": [
    "\n",
    "xlabel = 'Count of Walk and/or Wave Commands Issued'\n",
    "title = f'Histogram of {xlabel}'\n",
    "mask_series = (walk_and_wave_count_df.scene_type == 'Triage') & (walk_and_wave_count_df.is_scene_aborted == False)\n",
    "fig = nu.plot_histogram(walk_and_wave_count_df[mask_series], 'walk_and_wave_count', xlabel=xlabel, xtick_text_fn=get_xtick_text, title=title)"
   ]
  },
  {
   "cell_type": "code",
   "execution_count": null,
   "id": "ed09a120-3f9c-4e16-aca5-7cb3a562c75a",
   "metadata": {},
   "outputs": [],
   "source": [
    "\n",
    "# What is the average time between walk / wave commands?\n",
    "df = Series(betweens_list).to_frame().rename(columns={0: 'action_tick'})\n",
    "df['time_diff'] = df.action_tick.diff().map(lambda x: abs(x))\n",
    "ave_time = humanize.precisedelta(timedelta(milliseconds=df.time_diff.mean()))\n",
    "# print(f'The average time between walk/wave commands is {ave_time}.')\n",
    "xlabel = 'Time between Walk/Wave Commands'\n",
    "get_xtick_text = lambda text_obj: humanize.precisedelta(\n",
    "    timedelta(milliseconds=text_obj.get_position()[0])\n",
    ").replace(', ', ',\\n').replace(' and ', ' and\\n')\n",
    "title = f'Histogram of {xlabel}'\n",
    "nu.plot_histogram(df, 'time_diff', xlabel=xlabel, xtick_text_fn=get_xtick_text, title=title)"
   ]
  },
  {
   "cell_type": "code",
   "execution_count": null,
   "id": "2eaaba43-0f17-41ac-a6d8-fcdf4da9964b",
   "metadata": {},
   "outputs": [],
   "source": []
  }
 ],
 "metadata": {
  "kernelspec": {
   "display_name": "ITM Analysis Reporting (Python 3.11.7)",
   "language": "python",
   "name": "itm_analysis_reporting"
  },
  "language_info": {
   "codemirror_mode": {
    "name": "ipython",
    "version": 3
   },
   "file_extension": ".py",
   "mimetype": "text/x-python",
   "name": "python",
   "nbconvert_exporter": "python",
   "pygments_lexer": "ipython3",
   "version": "3.7.12"
  }
 },
 "nbformat": 4,
 "nbformat_minor": 5
}
