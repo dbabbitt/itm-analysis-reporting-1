{
 "cells": [
  {
   "cell_type": "code",
   "execution_count": 1,
   "id": "f303819c-dc03-46ab-a5fc-d1de4fe42714",
   "metadata": {},
   "outputs": [
    {
     "name": "stdout",
     "output_type": "stream",
     "text": [
      "Pretty printing has been turned OFF\n"
     ]
    }
   ],
   "source": [
    "\n",
    "%pprint\n",
    "import sys\n",
    "if (osp.join('..', 'py') not in sys.path): sys.path.insert(1, osp.join('..', 'py'))"
   ]
  },
  {
   "cell_type": "code",
   "execution_count": 2,
   "id": "8d062a21-8f34-4a92-9f76-0cb697587237",
   "metadata": {},
   "outputs": [],
   "source": [
    "\n",
    "from FRVRS import (nu, fu, DataFrame, np, display)\n",
    "import matplotlib.pyplot as plt\n",
    "import os\n",
    "import pandas as pd"
   ]
  },
  {
   "cell_type": "code",
   "execution_count": 3,
   "id": "6367ed9d-bb7d-487d-86d1-4767751254b3",
   "metadata": {},
   "outputs": [
    {
     "name": "stdout",
     "output_type": "stream",
     "text": [
      "Attempting to load /mnt/c/Users/DaveBabbitt/Documents/GitHub/itm-analysis-reporting/saves/pkl/frvrs_logs_df.pkl.\n",
      "Can't get attribute '_unpickle_block' on <module 'pandas._libs.internals' from '/home/dbabbitt/anaconda3/envs/itm_analysis_reporting/lib/python3.7/site-packages/pandas/_libs/internals.cpython-37m-x86_64-linux-gnu.so'>\n",
      "No pickle exists for frvrs_logs_df - attempting to load /mnt/c/Users/DaveBabbitt/Documents/GitHub/itm-analysis-reporting/saves/csv/frvrs_logs_df.csv.\n",
      "Attempting to load /mnt/c/Users/DaveBabbitt/Documents/GitHub/itm-analysis-reporting/saves/pkl/tag_to_salt_df.pkl.\n"
     ]
    }
   ],
   "source": [
    "\n",
    "frame_dict = nu.load_data_frames(frvrs_logs_df='frvrs_logs_df', tag_to_salt_df='tag_to_salt_df')"
   ]
  },
  {
   "cell_type": "markdown",
   "id": "d5c52311-5909-477d-a708-dbb4a8133df1",
   "metadata": {},
   "source": [
    "\n",
    "# Triage Accuracy\n",
    "\n",
    "(How many patients did they get right and do they do it in the right order, for example: still or obvious life threat first (Red, Gray, Black), then wavers, then walkers last.)"
   ]
  },
  {
   "cell_type": "markdown",
   "id": "20169055-b896-4797-b911-19d8de849941",
   "metadata": {},
   "source": [
    "\n",
    "<img src=\"http://localhost:8889/files/itm-analysis-reporting/saves/png/salt_mass_casualty_triage.png\" />"
   ]
  },
  {
   "cell_type": "markdown",
   "id": "25598d51-4266-4ff8-a60b-63e42f879f2b",
   "metadata": {},
   "source": [
    "\n",
    "### Correct Count by Tag"
   ]
  },
  {
   "cell_type": "code",
   "execution_count": 21,
   "id": "de99f652-0450-4ab4-bd18-cd6cb7587a77",
   "metadata": {},
   "outputs": [
    {
     "name": "stdout",
     "output_type": "stream",
     "text": [
      "['session_uuid', 'scene_id', 'patient_id', 'is_scene_aborted', 'scene_type', 'is_a_one_triage_file', 'patient_count', 'last_tag', 'max_salt', 'predicted_tag', 'is_tag_correct']\n"
     ]
    },
    {
     "data": {
      "text/plain": [
       "['black', 'gray', 'red', 'yellow', 'green', NaN]\n",
       "Categories (6, object): ['black' < 'gray' < 'red' < 'yellow' < 'green' < 'Not Tagged']"
      ]
     },
     "execution_count": 21,
     "metadata": {},
     "output_type": "execute_result"
    }
   ],
   "source": [
    "\n",
    "tag_to_salt_df = frame_dict['tag_to_salt_df']\n",
    "print(list(tag_to_salt_df.columns))\n",
    "tag_to_salt_df.predicted_tag.unique()"
   ]
  },
  {
   "cell_type": "code",
   "execution_count": null,
   "id": "07b33878-8fc5-48f3-8af6-1f53342a3a4e",
   "metadata": {},
   "outputs": [],
   "source": [
    "\n",
    "# Get the percentage tag correct counts for each scene for each group\n",
    "correct_count_by_tag_df = fu.get_percentage_tag_correct_dataframe(tag_to_salt_df, groupby_column='predicted_tag')"
   ]
  },
  {
   "cell_type": "code",
   "execution_count": 24,
   "id": "b67ab504-7a10-4414-98ed-0ec8719f1088",
   "metadata": {},
   "outputs": [
    {
     "name": "stdout",
     "output_type": "stream",
     "text": [
      "Participants accurately tagged 79% of patients (SD = 33)\n"
     ]
    }
   ],
   "source": [
    "\n",
    "base_mask_series = (correct_count_by_tag_df.scene_type == 'Triage') & (correct_count_by_tag_df.is_scene_aborted == False)\n",
    "base_mask_series &= (correct_count_by_tag_df.is_a_one_triage_file == True)\n",
    "mask_series = base_mask_series & correct_count_by_tag_df.predicted_tag.isin(fu.tag_color_order[:-1])\n",
    "df = correct_count_by_tag_df[mask_series]\n",
    "# total_count = df.total_count.sum()\n",
    "# correct_count = df.correct_count.sum()\n",
    "df = nu.get_statistics(df, ['percentage_tag_correct'])\n",
    "tagged_percent = int(df.loc['mean', 'percentage_tag_correct'])\n",
    "standard_deviation = int(df.loc['SD', 'percentage_tag_correct'])\n",
    "print(f'Participants accurately tagged {tagged_percent}% of patients (SD = {standard_deviation})')"
   ]
  },
  {
   "cell_type": "code",
   "execution_count": 7,
   "id": "e64027b5-b487-4ac9-b8bb-d98df2c08e7d",
   "metadata": {},
   "outputs": [
    {
     "name": "stdout",
     "output_type": "stream",
     "text": [
      "(0, 9)\n"
     ]
    },
    {
     "data": {
      "text/html": [
       "<div>\n",
       "<style scoped>\n",
       "    .dataframe tbody tr th:only-of-type {\n",
       "        vertical-align: middle;\n",
       "    }\n",
       "\n",
       "    .dataframe tbody tr th {\n",
       "        vertical-align: top;\n",
       "    }\n",
       "\n",
       "    .dataframe thead th {\n",
       "        text-align: right;\n",
       "    }\n",
       "</style>\n",
       "<table border=\"1\" class=\"dataframe\">\n",
       "  <thead>\n",
       "    <tr style=\"text-align: right;\">\n",
       "      <th></th>\n",
       "    </tr>\n",
       "  </thead>\n",
       "  <tbody>\n",
       "  </tbody>\n",
       "</table>\n",
       "</div>"
      ],
      "text/plain": [
       "Empty DataFrame\n",
       "Columns: []\n",
       "Index: []"
      ]
     },
     "metadata": {},
     "output_type": "display_data"
    }
   ],
   "source": [
    "\n",
    "mask_series = correct_count_by_tag_df.predicted_tag.isnull()\n",
    "df = correct_count_by_tag_df[mask_series]\n",
    "print(df.shape)\n",
    "display(df.sample(min(5, df.shape[0])).dropna(axis='columns', how='all').T)"
   ]
  },
  {
   "cell_type": "code",
   "execution_count": 9,
   "id": "bbd19eb8-091f-4b0a-988c-e579d05f7766",
   "metadata": {},
   "outputs": [
    {
     "data": {
      "text/html": [
       "<div>\n",
       "<style scoped>\n",
       "    .dataframe tbody tr th:only-of-type {\n",
       "        vertical-align: middle;\n",
       "    }\n",
       "\n",
       "    .dataframe tbody tr th {\n",
       "        vertical-align: top;\n",
       "    }\n",
       "\n",
       "    .dataframe thead th {\n",
       "        text-align: right;\n",
       "    }\n",
       "</style>\n",
       "<table border=\"1\" class=\"dataframe\">\n",
       "  <thead>\n",
       "    <tr style=\"text-align: right;\">\n",
       "      <th></th>\n",
       "      <th>mean</th>\n",
       "      <th>mode</th>\n",
       "      <th>median</th>\n",
       "      <th>SD</th>\n",
       "      <th>min</th>\n",
       "      <th>25%</th>\n",
       "      <th>50%</th>\n",
       "      <th>75%</th>\n",
       "      <th>max</th>\n",
       "    </tr>\n",
       "  </thead>\n",
       "  <tbody>\n",
       "    <tr>\n",
       "      <th>correct_green_tag_count</th>\n",
       "      <td>1.70</td>\n",
       "      <td>1.0</td>\n",
       "      <td>2.0</td>\n",
       "      <td>0.97</td>\n",
       "      <td>0.0</td>\n",
       "      <td>1.00</td>\n",
       "      <td>2.0</td>\n",
       "      <td>3.0</td>\n",
       "      <td>4.0</td>\n",
       "    </tr>\n",
       "    <tr>\n",
       "      <th>total_green_tag_count</th>\n",
       "      <td>2.15</td>\n",
       "      <td>3.0</td>\n",
       "      <td>2.0</td>\n",
       "      <td>1.03</td>\n",
       "      <td>1.0</td>\n",
       "      <td>1.00</td>\n",
       "      <td>2.0</td>\n",
       "      <td>3.0</td>\n",
       "      <td>4.0</td>\n",
       "    </tr>\n",
       "    <tr>\n",
       "      <th>percentage_green_tag_correct</th>\n",
       "      <td>80.93</td>\n",
       "      <td>100.0</td>\n",
       "      <td>100.0</td>\n",
       "      <td>30.68</td>\n",
       "      <td>0.0</td>\n",
       "      <td>66.67</td>\n",
       "      <td>100.0</td>\n",
       "      <td>100.0</td>\n",
       "      <td>100.0</td>\n",
       "    </tr>\n",
       "  </tbody>\n",
       "</table>\n",
       "</div>"
      ],
      "text/plain": [
       "                               mean   mode  median     SD  min    25%    50%  \\\n",
       "correct_green_tag_count        1.70    1.0     2.0   0.97  0.0   1.00    2.0   \n",
       "total_green_tag_count          2.15    3.0     2.0   1.03  1.0   1.00    2.0   \n",
       "percentage_green_tag_correct  80.93  100.0   100.0  30.68  0.0  66.67  100.0   \n",
       "\n",
       "                                75%    max  \n",
       "correct_green_tag_count         3.0    4.0  \n",
       "total_green_tag_count           3.0    4.0  \n",
       "percentage_green_tag_correct  100.0  100.0  "
      ]
     },
     "metadata": {},
     "output_type": "display_data"
    },
    {
     "data": {
      "text/html": [
       "<div>\n",
       "<style scoped>\n",
       "    .dataframe tbody tr th:only-of-type {\n",
       "        vertical-align: middle;\n",
       "    }\n",
       "\n",
       "    .dataframe tbody tr th {\n",
       "        vertical-align: top;\n",
       "    }\n",
       "\n",
       "    .dataframe thead th {\n",
       "        text-align: right;\n",
       "    }\n",
       "</style>\n",
       "<table border=\"1\" class=\"dataframe\">\n",
       "  <thead>\n",
       "    <tr style=\"text-align: right;\">\n",
       "      <th></th>\n",
       "      <th>mean</th>\n",
       "      <th>mode</th>\n",
       "      <th>median</th>\n",
       "      <th>SD</th>\n",
       "      <th>min</th>\n",
       "      <th>25%</th>\n",
       "      <th>50%</th>\n",
       "      <th>75%</th>\n",
       "      <th>max</th>\n",
       "    </tr>\n",
       "  </thead>\n",
       "  <tbody>\n",
       "    <tr>\n",
       "      <th>correct_black_tag_count</th>\n",
       "      <td>0.97</td>\n",
       "      <td>1.0</td>\n",
       "      <td>1.0</td>\n",
       "      <td>0.17</td>\n",
       "      <td>0.0</td>\n",
       "      <td>1.0</td>\n",
       "      <td>1.0</td>\n",
       "      <td>1.0</td>\n",
       "      <td>1.0</td>\n",
       "    </tr>\n",
       "    <tr>\n",
       "      <th>total_black_tag_count</th>\n",
       "      <td>1.00</td>\n",
       "      <td>1.0</td>\n",
       "      <td>1.0</td>\n",
       "      <td>0.00</td>\n",
       "      <td>1.0</td>\n",
       "      <td>1.0</td>\n",
       "      <td>1.0</td>\n",
       "      <td>1.0</td>\n",
       "      <td>1.0</td>\n",
       "    </tr>\n",
       "    <tr>\n",
       "      <th>percentage_black_tag_correct</th>\n",
       "      <td>97.09</td>\n",
       "      <td>100.0</td>\n",
       "      <td>100.0</td>\n",
       "      <td>16.83</td>\n",
       "      <td>0.0</td>\n",
       "      <td>100.0</td>\n",
       "      <td>100.0</td>\n",
       "      <td>100.0</td>\n",
       "      <td>100.0</td>\n",
       "    </tr>\n",
       "  </tbody>\n",
       "</table>\n",
       "</div>"
      ],
      "text/plain": [
       "                               mean   mode  median     SD  min    25%    50%  \\\n",
       "correct_black_tag_count        0.97    1.0     1.0   0.17  0.0    1.0    1.0   \n",
       "total_black_tag_count          1.00    1.0     1.0   0.00  1.0    1.0    1.0   \n",
       "percentage_black_tag_correct  97.09  100.0   100.0  16.83  0.0  100.0  100.0   \n",
       "\n",
       "                                75%    max  \n",
       "correct_black_tag_count         1.0    1.0  \n",
       "total_black_tag_count           1.0    1.0  \n",
       "percentage_black_tag_correct  100.0  100.0  "
      ]
     },
     "metadata": {},
     "output_type": "display_data"
    },
    {
     "data": {
      "text/html": [
       "<div>\n",
       "<style scoped>\n",
       "    .dataframe tbody tr th:only-of-type {\n",
       "        vertical-align: middle;\n",
       "    }\n",
       "\n",
       "    .dataframe tbody tr th {\n",
       "        vertical-align: top;\n",
       "    }\n",
       "\n",
       "    .dataframe thead th {\n",
       "        text-align: right;\n",
       "    }\n",
       "</style>\n",
       "<table border=\"1\" class=\"dataframe\">\n",
       "  <thead>\n",
       "    <tr style=\"text-align: right;\">\n",
       "      <th></th>\n",
       "      <th>mean</th>\n",
       "      <th>mode</th>\n",
       "      <th>median</th>\n",
       "      <th>SD</th>\n",
       "      <th>min</th>\n",
       "      <th>25%</th>\n",
       "      <th>50%</th>\n",
       "      <th>75%</th>\n",
       "      <th>max</th>\n",
       "    </tr>\n",
       "  </thead>\n",
       "  <tbody>\n",
       "    <tr>\n",
       "      <th>correct_gray_tag_count</th>\n",
       "      <td>0.70</td>\n",
       "      <td>1.0</td>\n",
       "      <td>1.0</td>\n",
       "      <td>0.46</td>\n",
       "      <td>0.0</td>\n",
       "      <td>0.0</td>\n",
       "      <td>1.0</td>\n",
       "      <td>1.0</td>\n",
       "      <td>1.0</td>\n",
       "    </tr>\n",
       "    <tr>\n",
       "      <th>total_gray_tag_count</th>\n",
       "      <td>1.00</td>\n",
       "      <td>1.0</td>\n",
       "      <td>1.0</td>\n",
       "      <td>0.00</td>\n",
       "      <td>1.0</td>\n",
       "      <td>1.0</td>\n",
       "      <td>1.0</td>\n",
       "      <td>1.0</td>\n",
       "      <td>1.0</td>\n",
       "    </tr>\n",
       "    <tr>\n",
       "      <th>percentage_gray_tag_correct</th>\n",
       "      <td>70.21</td>\n",
       "      <td>100.0</td>\n",
       "      <td>100.0</td>\n",
       "      <td>45.80</td>\n",
       "      <td>0.0</td>\n",
       "      <td>0.0</td>\n",
       "      <td>100.0</td>\n",
       "      <td>100.0</td>\n",
       "      <td>100.0</td>\n",
       "    </tr>\n",
       "  </tbody>\n",
       "</table>\n",
       "</div>"
      ],
      "text/plain": [
       "                              mean   mode  median     SD  min  25%    50%  \\\n",
       "correct_gray_tag_count        0.70    1.0     1.0   0.46  0.0  0.0    1.0   \n",
       "total_gray_tag_count          1.00    1.0     1.0   0.00  1.0  1.0    1.0   \n",
       "percentage_gray_tag_correct  70.21  100.0   100.0  45.80  0.0  0.0  100.0   \n",
       "\n",
       "                               75%    max  \n",
       "correct_gray_tag_count         1.0    1.0  \n",
       "total_gray_tag_count           1.0    1.0  \n",
       "percentage_gray_tag_correct  100.0  100.0  "
      ]
     },
     "metadata": {},
     "output_type": "display_data"
    },
    {
     "data": {
      "text/html": [
       "<div>\n",
       "<style scoped>\n",
       "    .dataframe tbody tr th:only-of-type {\n",
       "        vertical-align: middle;\n",
       "    }\n",
       "\n",
       "    .dataframe tbody tr th {\n",
       "        vertical-align: top;\n",
       "    }\n",
       "\n",
       "    .dataframe thead th {\n",
       "        text-align: right;\n",
       "    }\n",
       "</style>\n",
       "<table border=\"1\" class=\"dataframe\">\n",
       "  <thead>\n",
       "    <tr style=\"text-align: right;\">\n",
       "      <th></th>\n",
       "      <th>mean</th>\n",
       "      <th>mode</th>\n",
       "      <th>median</th>\n",
       "      <th>SD</th>\n",
       "      <th>min</th>\n",
       "      <th>25%</th>\n",
       "      <th>50%</th>\n",
       "      <th>75%</th>\n",
       "      <th>max</th>\n",
       "    </tr>\n",
       "  </thead>\n",
       "  <tbody>\n",
       "    <tr>\n",
       "      <th>correct_red_tag_count</th>\n",
       "      <td>2.61</td>\n",
       "      <td>2.0</td>\n",
       "      <td>2.0</td>\n",
       "      <td>1.13</td>\n",
       "      <td>0.0</td>\n",
       "      <td>2.0</td>\n",
       "      <td>2.0</td>\n",
       "      <td>4.0</td>\n",
       "      <td>6.0</td>\n",
       "    </tr>\n",
       "    <tr>\n",
       "      <th>total_red_tag_count</th>\n",
       "      <td>3.21</td>\n",
       "      <td>4.0</td>\n",
       "      <td>4.0</td>\n",
       "      <td>1.15</td>\n",
       "      <td>1.0</td>\n",
       "      <td>2.0</td>\n",
       "      <td>4.0</td>\n",
       "      <td>4.0</td>\n",
       "      <td>9.0</td>\n",
       "    </tr>\n",
       "    <tr>\n",
       "      <th>percentage_red_tag_correct</th>\n",
       "      <td>83.45</td>\n",
       "      <td>100.0</td>\n",
       "      <td>100.0</td>\n",
       "      <td>24.53</td>\n",
       "      <td>0.0</td>\n",
       "      <td>75.0</td>\n",
       "      <td>100.0</td>\n",
       "      <td>100.0</td>\n",
       "      <td>100.0</td>\n",
       "    </tr>\n",
       "  </tbody>\n",
       "</table>\n",
       "</div>"
      ],
      "text/plain": [
       "                             mean   mode  median     SD  min   25%    50%  \\\n",
       "correct_red_tag_count        2.61    2.0     2.0   1.13  0.0   2.0    2.0   \n",
       "total_red_tag_count          3.21    4.0     4.0   1.15  1.0   2.0    4.0   \n",
       "percentage_red_tag_correct  83.45  100.0   100.0  24.53  0.0  75.0  100.0   \n",
       "\n",
       "                              75%    max  \n",
       "correct_red_tag_count         4.0    6.0  \n",
       "total_red_tag_count           4.0    9.0  \n",
       "percentage_red_tag_correct  100.0  100.0  "
      ]
     },
     "metadata": {},
     "output_type": "display_data"
    },
    {
     "data": {
      "text/html": [
       "<div>\n",
       "<style scoped>\n",
       "    .dataframe tbody tr th:only-of-type {\n",
       "        vertical-align: middle;\n",
       "    }\n",
       "\n",
       "    .dataframe tbody tr th {\n",
       "        vertical-align: top;\n",
       "    }\n",
       "\n",
       "    .dataframe thead th {\n",
       "        text-align: right;\n",
       "    }\n",
       "</style>\n",
       "<table border=\"1\" class=\"dataframe\">\n",
       "  <thead>\n",
       "    <tr style=\"text-align: right;\">\n",
       "      <th></th>\n",
       "      <th>mean</th>\n",
       "      <th>mode</th>\n",
       "      <th>median</th>\n",
       "      <th>SD</th>\n",
       "      <th>min</th>\n",
       "      <th>25%</th>\n",
       "      <th>50%</th>\n",
       "      <th>75%</th>\n",
       "      <th>max</th>\n",
       "    </tr>\n",
       "  </thead>\n",
       "  <tbody>\n",
       "    <tr>\n",
       "      <th>correct_yellow_tag_count</th>\n",
       "      <td>1.25</td>\n",
       "      <td>1.0</td>\n",
       "      <td>1.0</td>\n",
       "      <td>0.69</td>\n",
       "      <td>0.0</td>\n",
       "      <td>1.0</td>\n",
       "      <td>1.0</td>\n",
       "      <td>2.0</td>\n",
       "      <td>3.0</td>\n",
       "    </tr>\n",
       "    <tr>\n",
       "      <th>total_yellow_tag_count</th>\n",
       "      <td>1.61</td>\n",
       "      <td>2.0</td>\n",
       "      <td>2.0</td>\n",
       "      <td>0.61</td>\n",
       "      <td>1.0</td>\n",
       "      <td>1.0</td>\n",
       "      <td>2.0</td>\n",
       "      <td>2.0</td>\n",
       "      <td>3.0</td>\n",
       "    </tr>\n",
       "    <tr>\n",
       "      <th>percentage_yellow_tag_correct</th>\n",
       "      <td>78.85</td>\n",
       "      <td>100.0</td>\n",
       "      <td>100.0</td>\n",
       "      <td>35.36</td>\n",
       "      <td>0.0</td>\n",
       "      <td>50.0</td>\n",
       "      <td>100.0</td>\n",
       "      <td>100.0</td>\n",
       "      <td>100.0</td>\n",
       "    </tr>\n",
       "  </tbody>\n",
       "</table>\n",
       "</div>"
      ],
      "text/plain": [
       "                                mean   mode  median     SD  min   25%    50%  \\\n",
       "correct_yellow_tag_count        1.25    1.0     1.0   0.69  0.0   1.0    1.0   \n",
       "total_yellow_tag_count          1.61    2.0     2.0   0.61  1.0   1.0    2.0   \n",
       "percentage_yellow_tag_correct  78.85  100.0   100.0  35.36  0.0  50.0  100.0   \n",
       "\n",
       "                                 75%    max  \n",
       "correct_yellow_tag_count         2.0    3.0  \n",
       "total_yellow_tag_count           2.0    3.0  \n",
       "percentage_yellow_tag_correct  100.0  100.0  "
      ]
     },
     "metadata": {},
     "output_type": "display_data"
    },
    {
     "data": {
      "text/html": [
       "<div>\n",
       "<style scoped>\n",
       "    .dataframe tbody tr th:only-of-type {\n",
       "        vertical-align: middle;\n",
       "    }\n",
       "\n",
       "    .dataframe tbody tr th {\n",
       "        vertical-align: top;\n",
       "    }\n",
       "\n",
       "    .dataframe thead th {\n",
       "        text-align: right;\n",
       "    }\n",
       "</style>\n",
       "<table border=\"1\" class=\"dataframe\">\n",
       "  <thead>\n",
       "    <tr style=\"text-align: right;\">\n",
       "      <th></th>\n",
       "      <th>mean</th>\n",
       "      <th>mode</th>\n",
       "      <th>median</th>\n",
       "      <th>SD</th>\n",
       "      <th>min</th>\n",
       "      <th>25%</th>\n",
       "      <th>50%</th>\n",
       "      <th>75%</th>\n",
       "      <th>max</th>\n",
       "    </tr>\n",
       "  </thead>\n",
       "  <tbody>\n",
       "    <tr>\n",
       "      <th>correct_not_tagged_tag_count</th>\n",
       "      <td>0.00</td>\n",
       "      <td>0.0</td>\n",
       "      <td>0.0</td>\n",
       "      <td>0.00</td>\n",
       "      <td>0.0</td>\n",
       "      <td>0.0</td>\n",
       "      <td>0.0</td>\n",
       "      <td>0.0</td>\n",
       "      <td>0.0</td>\n",
       "    </tr>\n",
       "    <tr>\n",
       "      <th>total_not_tagged_tag_count</th>\n",
       "      <td>7.43</td>\n",
       "      <td>8.0</td>\n",
       "      <td>8.0</td>\n",
       "      <td>3.28</td>\n",
       "      <td>1.0</td>\n",
       "      <td>8.0</td>\n",
       "      <td>8.0</td>\n",
       "      <td>9.0</td>\n",
       "      <td>25.0</td>\n",
       "    </tr>\n",
       "    <tr>\n",
       "      <th>percentage_not_tagged_tag_correct</th>\n",
       "      <td>0.00</td>\n",
       "      <td>0.0</td>\n",
       "      <td>0.0</td>\n",
       "      <td>0.00</td>\n",
       "      <td>0.0</td>\n",
       "      <td>0.0</td>\n",
       "      <td>0.0</td>\n",
       "      <td>0.0</td>\n",
       "      <td>0.0</td>\n",
       "    </tr>\n",
       "  </tbody>\n",
       "</table>\n",
       "</div>"
      ],
      "text/plain": [
       "                                   mean  mode  median    SD  min  25%  50%  \\\n",
       "correct_not_tagged_tag_count       0.00   0.0     0.0  0.00  0.0  0.0  0.0   \n",
       "total_not_tagged_tag_count         7.43   8.0     8.0  3.28  1.0  8.0  8.0   \n",
       "percentage_not_tagged_tag_correct  0.00   0.0     0.0  0.00  0.0  0.0  0.0   \n",
       "\n",
       "                                   75%   max  \n",
       "correct_not_tagged_tag_count       0.0   0.0  \n",
       "total_not_tagged_tag_count         9.0  25.0  \n",
       "percentage_not_tagged_tag_correct  0.0   0.0  "
      ]
     },
     "metadata": {},
     "output_type": "display_data"
    },
    {
     "data": {
      "image/png": "[encoded data removed]",
      "text/plain": [
       "<Figure size 1800x900 with 6 Axes>"
      ]
     },
     "metadata": {},
     "output_type": "display_data"
    }
   ],
   "source": [
    "\n",
    "# Display a histogram of the percentage of tags correctly applied based on the patient record SALT, separated by tag\n",
    "get_xtick_text = lambda text_obj: round(text_obj.get_position()[0], 2)\n",
    "ylabel = 'Count of Responders in Range'\n",
    "\n",
    "# Calculate the number of plots and the number of rows and columns\n",
    "unique_tags = correct_count_by_tag_df.predicted_tag.unique()\n",
    "num_plots = len(unique_tags)\n",
    "num_rows = min(num_plots, 2)\n",
    "num_cols = int(np.ceil(num_plots / num_rows))\n",
    "\n",
    "# Create a figure and subplots\n",
    "fig, axs = plt.subplots(num_rows, num_cols, figsize=(18, 9), sharex=False, sharey=True)\n",
    "columns_list = [\n",
    "    'correct_count', 'total_count', 'percentage_tag_correct'\n",
    "]\n",
    "for i, predicted_tag in enumerate(unique_tags):\n",
    "    \n",
    "    # Get the histogram data\n",
    "    mask_series = (correct_count_by_tag_df.predicted_tag == predicted_tag)\n",
    "    mask_series &= (correct_count_by_tag_df.scene_type == 'Triage') & (correct_count_by_tag_df.is_scene_aborted == False)\n",
    "    xlabel = f'Percentage of {predicted_tag.title()} Tags Correctly Applied'\n",
    "    color = 'white' if (predicted_tag == 'Not Tagged') else predicted_tag.lower()\n",
    "    ax = nu.plot_histogram(\n",
    "        correct_count_by_tag_df[mask_series], 'percentage_tag_correct', xlabel=xlabel, xtick_text_fn=get_xtick_text,\n",
    "        title=predicted_tag.title(), ylabel=ylabel, xticks_are_temporal=False, ax=axs[i // num_cols, i % num_cols], color=color, bins=8\n",
    "    )\n",
    "    \n",
    "    axs[i // num_cols, i % num_cols].grid(False)\n",
    "    \n",
    "    # Can you provide the following statistics for this distribution: mean, median, mode, SD, Interquartile range?\n",
    "    renamed_columns_list = [\n",
    "        f'correct_{predicted_tag}_tag_count', f'total_{predicted_tag}_tag_count', f'percentage_{predicted_tag}_tag_correct'\n",
    "    ]\n",
    "    renamed_columns_list = [cn.lower().replace(' ', '_') for cn in renamed_columns_list]\n",
    "    df = correct_count_by_tag_df[mask_series][columns_list].rename(columns={k: v for k, v in zip(columns_list, renamed_columns_list)})\n",
    "    display(nu.get_statistics(df, renamed_columns_list).applymap(lambda x: round(x, 2), na_action='ignore').T)\n",
    "\n",
    "# Remove the remainder of the plots\n",
    "i += 1\n",
    "while i < (num_rows * num_cols):\n",
    "    axs[i // num_cols, i % num_cols].remove()\n",
    "    i += 1"
   ]
  },
  {
   "cell_type": "code",
   "execution_count": 27,
   "id": "e7b4c2f7-da7d-4b52-84b5-5d1c9917030c",
   "metadata": {},
   "outputs": [
    {
     "data": {
      "image/png": "[encoded data removed]",
      "text/plain": [
       "<Figure size 800x600 with 1 Axes>"
      ]
     },
     "metadata": {},
     "output_type": "display_data"
    }
   ],
   "source": [
    "\n",
    "import seaborn as sns\n",
    "\n",
    "# Sample data for the violin plot\n",
    "data = {\n",
    "    'predicted_tag': correct_count_by_tag_df.predicted_tag.tolist(),\n",
    "    'percentage_tag_correct': correct_count_by_tag_df.percentage_tag_correct.tolist()\n",
    "}\n",
    "\n",
    "# Create a DataFrame from the data\n",
    "df = pd.DataFrame(data)\n",
    "\n",
    "# Set the style of the plot\n",
    "sns.set(style='whitegrid')\n",
    "\n",
    "# Create the violin plot with 5 violins\n",
    "plt.figure(figsize=(8, 6))\n",
    "palette = ['white' if (color == 'Not Tagged') else color for color in unique_tags]\n",
    "sns.violinplot(x='predicted_tag', y='percentage_tag_correct', data=df, palette=palette, inner='stick')\n",
    "\n",
    "# Set plot labels and title\n",
    "plt.xlabel('Correct Tag (inferred from patient record SALT)')\n",
    "plt.ylabel('Percentage of Tags Correctly Applied')\n",
    "plt.title('Distribution of Percentage of Tags Correctly Applied across different Tags')\n",
    "\n",
    "# Show the plot\n",
    "plt.show()"
   ]
  },
  {
   "cell_type": "markdown",
   "id": "b6fb1a2f-0e87-4d29-8dfe-4e758afc9900",
   "metadata": {},
   "source": [
    "\n",
    "# Maintenance"
   ]
  },
  {
   "cell_type": "code",
   "execution_count": 5,
   "id": "5afd00bd-9450-4080-87a9-32c7a5c78005",
   "metadata": {},
   "outputs": [
    {
     "name": "stdout",
     "output_type": "stream",
     "text": [
      "Pickling to /mnt/c/Users/DaveBabbitt/Documents/GitHub/itm-analysis-reporting/saves/pkl/tag_to_salt_df.pkl\n",
      "Saving to /mnt/c/Users/DaveBabbitt/Documents/GitHub/itm-analysis-reporting/saves/csv/tag_to_salt_df.csv\n"
     ]
    }
   ],
   "source": [
    "\n",
    "# Create the tag-to-SALT data frame\n",
    "tag_to_salt_df = fu.get_is_tag_correct_dataframe(frvrs_logs_df, groupby_column='logger_version')\n",
    "nu.store_objects(tag_to_salt_df=tag_to_salt_df)\n",
    "nu.save_data_frames(tag_to_salt_df=tag_to_salt_df)"
   ]
  },
  {
   "cell_type": "code",
   "execution_count": null,
   "id": "5177f90a-d67e-44c0-b419-055efae1c76a",
   "metadata": {},
   "outputs": [],
   "source": []
  }
 ],
 "metadata": {
  "kernelspec": {
   "display_name": "ITM Analysis Reporting (Python 3.11.7)",
   "language": "python",
   "name": "itm_analysis_reporting"
  },
  "language_info": {
   "codemirror_mode": {
    "name": "ipython",
    "version": 3
   },
   "file_extension": ".py",
   "mimetype": "text/x-python",
   "name": "python",
   "nbconvert_exporter": "python",
   "pygments_lexer": "ipython3",
   "version": "3.7.12"
  }
 },
 "nbformat": 4,
 "nbformat_minor": 5
}
