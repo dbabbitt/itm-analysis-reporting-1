{
 "cells": [
  {
   "cell_type": "code",
   "execution_count": 1,
   "id": "f303819c-dc03-46ab-a5fc-d1de4fe42714",
   "metadata": {},
   "outputs": [
    {
     "name": "stdout",
     "output_type": "stream",
     "text": [
      "Pretty printing has been turned OFF\n"
     ]
    }
   ],
   "source": [
    "\n",
    "%pprint\n",
    "import sys\n",
    "if (osp.join(os.pardir, 'py') not in sys.path): sys.path.insert(1, osp.join(os.pardir, 'py'))"
   ]
  },
  {
   "cell_type": "code",
   "execution_count": 2,
   "id": "f88993e1-de14-424b-a21c-ca2308d8ee91",
   "metadata": {},
   "outputs": [],
   "source": [
    "\n",
    "from FRVRS import (nu, fu, display)\n",
    "import os\n",
    "import pandas as pd"
   ]
  },
  {
   "cell_type": "code",
   "execution_count": 3,
   "id": "a6971d12-57c5-48d0-97a4-1fd8abeb97c7",
   "metadata": {},
   "outputs": [
    {
     "name": "stdout",
     "output_type": "stream",
     "text": [
      "(9987, 11)\n"
     ]
    }
   ],
   "source": [
    "\n",
    "# Get tag-to-salt data frame\n",
    "if nu.pickle_exists('tag_to_salt_df'):\n",
    "    tag_to_salt_df = nu.load_object('tag_to_salt_df')\n",
    "    print(tag_to_salt_df.shape)\n",
    "    # df = tag_to_salt_df.sample(4).dropna(axis='columns', how='all')\n",
    "    # display(df.T)"
   ]
  },
  {
   "cell_type": "markdown",
   "id": "d5c52311-5909-477d-a708-dbb4a8133df1",
   "metadata": {},
   "source": [
    "\n",
    "# Triage Accuracy\n",
    "\n",
    "(How many patients did they get right and do they do it in the right order, for example: still or obvious life threat first (Red, Gray, Black), then wavers, then walkers last.)"
   ]
  },
  {
   "cell_type": "markdown",
   "id": "20169055-b896-4797-b911-19d8de849941",
   "metadata": {},
   "source": [
    "\n",
    "<img src=\"http://localhost:8888/files/itm-analysis-reporting/saves/png/salt_mass_casualty_triage.png\" />"
   ]
  },
  {
   "cell_type": "markdown",
   "id": "4f67328a-b2fa-456b-a289-480f8e2e3a67",
   "metadata": {},
   "source": [
    "\n",
    "### Correct Count"
   ]
  },
  {
   "cell_type": "code",
   "execution_count": null,
   "id": "e38fa512-e138-49ce-807b-879fd996f117",
   "metadata": {},
   "outputs": [],
   "source": [
    "\n",
    "# Get the percentage tag correct counts for each scene for each group\n",
    "correct_count_df = fu.get_percentage_tag_correct_dataframe(tag_to_salt_df, groupby_column='logger_version')"
   ]
  },
  {
   "cell_type": "code",
   "execution_count": 5,
   "id": "f61d0eec-6579-47d2-bb0f-7d8f226b7210",
   "metadata": {},
   "outputs": [
    {
     "data": {
      "text/html": [
       "<div>\n",
       "<style scoped>\n",
       "    .dataframe tbody tr th:only-of-type {\n",
       "        vertical-align: middle;\n",
       "    }\n",
       "\n",
       "    .dataframe tbody tr th {\n",
       "        vertical-align: top;\n",
       "    }\n",
       "\n",
       "    .dataframe thead th {\n",
       "        text-align: right;\n",
       "    }\n",
       "</style>\n",
       "<table border=\"1\" class=\"dataframe\">\n",
       "  <thead>\n",
       "    <tr style=\"text-align: right;\">\n",
       "      <th></th>\n",
       "      <th>logger_version</th>\n",
       "      <th>session_uuid</th>\n",
       "      <th>scene_id</th>\n",
       "      <th>is_scene_aborted</th>\n",
       "      <th>scene_type</th>\n",
       "      <th>correct_count</th>\n",
       "      <th>total_count</th>\n",
       "      <th>percentage_tag_correct</th>\n",
       "    </tr>\n",
       "  </thead>\n",
       "  <tbody>\n",
       "    <tr>\n",
       "      <th>0</th>\n",
       "      <td>1.3</td>\n",
       "      <td>009b848c-ea64-4f22-bd40-711213a3d327</td>\n",
       "      <td>1</td>\n",
       "      <td>False</td>\n",
       "      <td>Triage</td>\n",
       "      <td>0</td>\n",
       "      <td>10</td>\n",
       "      <td>0.000000</td>\n",
       "    </tr>\n",
       "    <tr>\n",
       "      <th>1</th>\n",
       "      <td>1.3</td>\n",
       "      <td>009b848c-ea64-4f22-bd40-711213a3d327</td>\n",
       "      <td>2</td>\n",
       "      <td>False</td>\n",
       "      <td>Triage</td>\n",
       "      <td>7</td>\n",
       "      <td>11</td>\n",
       "      <td>63.636364</td>\n",
       "    </tr>\n",
       "    <tr>\n",
       "      <th>2</th>\n",
       "      <td>1.0</td>\n",
       "      <td>00b2e9d8-c3bb-4d89-92c1-abce5c4a0655</td>\n",
       "      <td>0</td>\n",
       "      <td>False</td>\n",
       "      <td>Orientation</td>\n",
       "      <td>0</td>\n",
       "      <td>3</td>\n",
       "      <td>0.000000</td>\n",
       "    </tr>\n",
       "    <tr>\n",
       "      <th>3</th>\n",
       "      <td>1.0</td>\n",
       "      <td>00b2e9d8-c3bb-4d89-92c1-abce5c4a0655</td>\n",
       "      <td>1</td>\n",
       "      <td>False</td>\n",
       "      <td>Triage</td>\n",
       "      <td>3</td>\n",
       "      <td>12</td>\n",
       "      <td>25.000000</td>\n",
       "    </tr>\n",
       "    <tr>\n",
       "      <th>4</th>\n",
       "      <td>1.0</td>\n",
       "      <td>00b2e9d8-c3bb-4d89-92c1-abce5c4a0655</td>\n",
       "      <td>2</td>\n",
       "      <td>False</td>\n",
       "      <td>Triage</td>\n",
       "      <td>9</td>\n",
       "      <td>11</td>\n",
       "      <td>81.818182</td>\n",
       "    </tr>\n",
       "    <tr>\n",
       "      <th>...</th>\n",
       "      <td>...</td>\n",
       "      <td>...</td>\n",
       "      <td>...</td>\n",
       "      <td>...</td>\n",
       "      <td>...</td>\n",
       "      <td>...</td>\n",
       "      <td>...</td>\n",
       "      <td>...</td>\n",
       "    </tr>\n",
       "    <tr>\n",
       "      <th>1099</th>\n",
       "      <td>1.0</td>\n",
       "      <td>ff97fc56-c803-4aa7-b419-35e0ac17d0b3</td>\n",
       "      <td>1</td>\n",
       "      <td>False</td>\n",
       "      <td>Triage</td>\n",
       "      <td>4</td>\n",
       "      <td>12</td>\n",
       "      <td>33.333333</td>\n",
       "    </tr>\n",
       "    <tr>\n",
       "      <th>1100</th>\n",
       "      <td>1.0</td>\n",
       "      <td>ff97fc56-c803-4aa7-b419-35e0ac17d0b3</td>\n",
       "      <td>2</td>\n",
       "      <td>False</td>\n",
       "      <td>Triage</td>\n",
       "      <td>11</td>\n",
       "      <td>11</td>\n",
       "      <td>100.000000</td>\n",
       "    </tr>\n",
       "    <tr>\n",
       "      <th>1101</th>\n",
       "      <td>1.3</td>\n",
       "      <td>ffecd29f-ebcd-45d2-9bc1-12adf56cfff8</td>\n",
       "      <td>0</td>\n",
       "      <td>False</td>\n",
       "      <td>Orientation</td>\n",
       "      <td>0</td>\n",
       "      <td>4</td>\n",
       "      <td>0.000000</td>\n",
       "    </tr>\n",
       "    <tr>\n",
       "      <th>1102</th>\n",
       "      <td>1.3</td>\n",
       "      <td>ffecd29f-ebcd-45d2-9bc1-12adf56cfff8</td>\n",
       "      <td>1</td>\n",
       "      <td>False</td>\n",
       "      <td>Triage</td>\n",
       "      <td>3</td>\n",
       "      <td>12</td>\n",
       "      <td>25.000000</td>\n",
       "    </tr>\n",
       "    <tr>\n",
       "      <th>1103</th>\n",
       "      <td>1.3</td>\n",
       "      <td>ffecd29f-ebcd-45d2-9bc1-12adf56cfff8</td>\n",
       "      <td>2</td>\n",
       "      <td>False</td>\n",
       "      <td>Triage</td>\n",
       "      <td>10</td>\n",
       "      <td>11</td>\n",
       "      <td>90.909091</td>\n",
       "    </tr>\n",
       "  </tbody>\n",
       "</table>\n",
       "<p>1104 rows × 8 columns</p>\n",
       "</div>"
      ],
      "text/plain": [
       "      logger_version                          session_uuid  scene_id  \\\n",
       "0                1.3  009b848c-ea64-4f22-bd40-711213a3d327            1   \n",
       "1                1.3  009b848c-ea64-4f22-bd40-711213a3d327            2   \n",
       "2                1.0  00b2e9d8-c3bb-4d89-92c1-abce5c4a0655            0   \n",
       "3                1.0  00b2e9d8-c3bb-4d89-92c1-abce5c4a0655            1   \n",
       "4                1.0  00b2e9d8-c3bb-4d89-92c1-abce5c4a0655            2   \n",
       "...              ...                                   ...          ...   \n",
       "1099             1.0  ff97fc56-c803-4aa7-b419-35e0ac17d0b3            1   \n",
       "1100             1.0  ff97fc56-c803-4aa7-b419-35e0ac17d0b3            2   \n",
       "1101             1.3  ffecd29f-ebcd-45d2-9bc1-12adf56cfff8            0   \n",
       "1102             1.3  ffecd29f-ebcd-45d2-9bc1-12adf56cfff8            1   \n",
       "1103             1.3  ffecd29f-ebcd-45d2-9bc1-12adf56cfff8            2   \n",
       "\n",
       "      is_scene_aborted   scene_type  correct_count  total_count  \\\n",
       "0                False       Triage              0           10   \n",
       "1                False       Triage              7           11   \n",
       "2                False  Orientation              0            3   \n",
       "3                False       Triage              3           12   \n",
       "4                False       Triage              9           11   \n",
       "...                ...          ...            ...          ...   \n",
       "1099             False       Triage              4           12   \n",
       "1100             False       Triage             11           11   \n",
       "1101             False  Orientation              0            4   \n",
       "1102             False       Triage              3           12   \n",
       "1103             False       Triage             10           11   \n",
       "\n",
       "      percentage_tag_correct  \n",
       "0                   0.000000  \n",
       "1                  63.636364  \n",
       "2                   0.000000  \n",
       "3                  25.000000  \n",
       "4                  81.818182  \n",
       "...                      ...  \n",
       "1099               33.333333  \n",
       "1100              100.000000  \n",
       "1101                0.000000  \n",
       "1102               25.000000  \n",
       "1103               90.909091  \n",
       "\n",
       "[1104 rows x 8 columns]"
      ]
     },
     "execution_count": 5,
     "metadata": {},
     "output_type": "execute_result"
    }
   ],
   "source": [
    "\n",
    "correct_count_df"
   ]
  },
  {
   "cell_type": "code",
   "execution_count": 6,
   "id": "4fbff728-fd11-4238-ae10-9d9a3df5b54c",
   "metadata": {},
   "outputs": [
    {
     "data": {
      "image/png": "[encoded data removed]",
      "text/plain": [
       "<Figure size 1800x900 with 1 Axes>"
      ]
     },
     "metadata": {},
     "output_type": "display_data"
    }
   ],
   "source": [
    "\n",
    "# Display a histogram of the percentage of tags correctly applied based on the patient record SALT\n",
    "xlabel = 'Percentage of Tags Correctly Applied'\n",
    "get_xtick_text = lambda text_obj: round(text_obj.get_position()[0], 2)\n",
    "title = 'Histogram of the Percentage of Tags Correctly Applied based on the Patient Record SALT'\n",
    "ylabel = 'Count of Responders in Range'\n",
    "mask_series = (correct_count_df.scene_type == 'Triage') & (correct_count_df.is_scene_aborted == False)\n",
    "ax = nu.plot_histogram(\n",
    "    correct_count_df[mask_series], 'percentage_tag_correct', xlabel=xlabel, xtick_text_fn=get_xtick_text, title=title, ylabel=ylabel, xticks_are_temporal=False, bins=8\n",
    ")"
   ]
  },
  {
   "cell_type": "code",
   "execution_count": 7,
   "id": "c1964a83-faa6-4e00-838e-2acaa7b76fca",
   "metadata": {},
   "outputs": [
    {
     "data": {
      "text/html": [
       "<div>\n",
       "<style scoped>\n",
       "    .dataframe tbody tr th:only-of-type {\n",
       "        vertical-align: middle;\n",
       "    }\n",
       "\n",
       "    .dataframe tbody tr th {\n",
       "        vertical-align: top;\n",
       "    }\n",
       "\n",
       "    .dataframe thead th {\n",
       "        text-align: right;\n",
       "    }\n",
       "</style>\n",
       "<table border=\"1\" class=\"dataframe\">\n",
       "  <thead>\n",
       "    <tr style=\"text-align: right;\">\n",
       "      <th></th>\n",
       "      <th>mean</th>\n",
       "      <th>mode</th>\n",
       "      <th>median</th>\n",
       "      <th>SD</th>\n",
       "      <th>min</th>\n",
       "      <th>25%</th>\n",
       "      <th>50%</th>\n",
       "      <th>75%</th>\n",
       "      <th>max</th>\n",
       "    </tr>\n",
       "  </thead>\n",
       "  <tbody>\n",
       "    <tr>\n",
       "      <th>correct_count</th>\n",
       "      <td>4.57</td>\n",
       "      <td>0.0</td>\n",
       "      <td>4.00</td>\n",
       "      <td>3.72</td>\n",
       "      <td>0.0</td>\n",
       "      <td>0.0</td>\n",
       "      <td>4.00</td>\n",
       "      <td>8.00</td>\n",
       "      <td>13.0</td>\n",
       "    </tr>\n",
       "    <tr>\n",
       "      <th>total_count</th>\n",
       "      <td>10.70</td>\n",
       "      <td>11.0</td>\n",
       "      <td>11.00</td>\n",
       "      <td>2.10</td>\n",
       "      <td>1.0</td>\n",
       "      <td>10.0</td>\n",
       "      <td>11.00</td>\n",
       "      <td>12.00</td>\n",
       "      <td>26.0</td>\n",
       "    </tr>\n",
       "    <tr>\n",
       "      <th>percentage_tag_correct</th>\n",
       "      <td>40.86</td>\n",
       "      <td>0.0</td>\n",
       "      <td>33.33</td>\n",
       "      <td>33.76</td>\n",
       "      <td>0.0</td>\n",
       "      <td>0.0</td>\n",
       "      <td>33.33</td>\n",
       "      <td>72.73</td>\n",
       "      <td>100.0</td>\n",
       "    </tr>\n",
       "  </tbody>\n",
       "</table>\n",
       "</div>"
      ],
      "text/plain": [
       "                         mean  mode  median     SD  min   25%    50%    75%  \\\n",
       "correct_count            4.57   0.0    4.00   3.72  0.0   0.0   4.00   8.00   \n",
       "total_count             10.70  11.0   11.00   2.10  1.0  10.0  11.00  12.00   \n",
       "percentage_tag_correct  40.86   0.0   33.33  33.76  0.0   0.0  33.33  72.73   \n",
       "\n",
       "                          max  \n",
       "correct_count            13.0  \n",
       "total_count              26.0  \n",
       "percentage_tag_correct  100.0  "
      ]
     },
     "metadata": {},
     "output_type": "display_data"
    }
   ],
   "source": [
    "\n",
    "# Can you provide the following statistics for this distribution: mean, median, mode, SD, Interquartile range?\n",
    "columns_list = [\n",
    "    'correct_count', 'total_count', 'percentage_tag_correct'\n",
    "]\n",
    "mask_series = (correct_count_df.scene_type == 'Triage') & (correct_count_df.is_scene_aborted == False)\n",
    "df = correct_count_df[mask_series][columns_list]\n",
    "display(nu.get_statistics(df, columns_list).applymap(lambda x: round(x, 2), na_action='ignore').T)"
   ]
  },
  {
   "cell_type": "markdown",
   "id": "9cc62a8c-7522-4098-85aa-e5319bb73b45",
   "metadata": {},
   "source": [
    "\n",
    "## How many responders correctly tagged all patients? Should be a percentage of all responders"
   ]
  },
  {
   "cell_type": "code",
   "execution_count": 8,
   "id": "33979b3b-2a6d-4ac5-845c-9a3bb2648ffb",
   "metadata": {},
   "outputs": [
    {
     "name": "stdout",
     "output_type": "stream",
     "text": [
      "42.73% of all responders correctly tagged all patients.\n"
     ]
    }
   ],
   "source": [
    "\n",
    "mask_series = (correct_count_df.scene_type == 'Triage') & (correct_count_df.is_scene_aborted == False)\n",
    "total_count = correct_count_df[mask_series].total_count.sum()\n",
    "correct_count = correct_count_df[mask_series].correct_count.sum()\n",
    "percentage_tag_correct = 100*correct_count/total_count\n",
    "print(f'{percentage_tag_correct:.2f}% of all responders correctly tagged all patients.')"
   ]
  },
  {
   "cell_type": "code",
   "execution_count": null,
   "id": "769bfcba-6ea3-42bf-948c-15fe3fb1ecef",
   "metadata": {},
   "outputs": [],
   "source": []
  }
 ],
 "metadata": {
  "kernelspec": {
   "display_name": "ITM Analysis Reporting (Python 3.11.7)",
   "language": "python",
   "name": "itm_analysis_reporting"
  },
  "language_info": {
   "codemirror_mode": {
    "name": "ipython",
    "version": 3
   },
   "file_extension": ".py",
   "mimetype": "text/x-python",
   "name": "python",
   "nbconvert_exporter": "python",
   "pygments_lexer": "ipython3",
   "version": "3.7.12"
  }
 },
 "nbformat": 4,
 "nbformat_minor": 5
}
