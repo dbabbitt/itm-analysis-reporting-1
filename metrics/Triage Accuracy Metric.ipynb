{
 "cells": [
  {
   "cell_type": "code",
   "execution_count": 1,
   "id": "f303819c-dc03-46ab-a5fc-d1de4fe42714",
   "metadata": {},
   "outputs": [
    {
     "name": "stdout",
     "output_type": "stream",
     "text": [
      "Pretty printing has been turned OFF\n"
     ]
    }
   ],
   "source": [
    "\n",
    "%pprint\n",
    "import sys\n",
    "if (osp.join(os.pardir, 'py') not in sys.path): sys.path.insert(1, osp.join(os.pardir, 'py'))"
   ]
  },
  {
   "cell_type": "code",
   "execution_count": 2,
   "id": "d982a173-fa1b-44d7-ab0a-9e40eb26ad4f",
   "metadata": {},
   "outputs": [],
   "source": [
    "\n",
    "from FRVRS import (nu, fu, DataFrame, np, display, Series, sm, nan, np)\n",
    "import os\n",
    "import pandas as pd"
   ]
  },
  {
   "cell_type": "code",
   "execution_count": 3,
   "id": "a6971d12-57c5-48d0-97a4-1fd8abeb97c7",
   "metadata": {},
   "outputs": [
    {
     "name": "stdout",
     "output_type": "stream",
     "text": [
      "(829277, 113)\n"
     ]
    }
   ],
   "source": [
    "\n",
    "# Get all CSVs into one data frame\n",
    "if nu.pickle_exists('frvrs_logs_df'):\n",
    "    frvrs_logs_df = nu.load_object('frvrs_logs_df')\n",
    "    print(frvrs_logs_df.shape) # (842663, 112)\n",
    "    # df = frvrs_logs_df.sample(4).dropna(axis='columns', how='all')\n",
    "    # display(df.T)"
   ]
  },
  {
   "cell_type": "markdown",
   "id": "d5c52311-5909-477d-a708-dbb4a8133df1",
   "metadata": {},
   "source": [
    "\n",
    "# Triage Accuracy\n",
    "\n",
    "(How many patients did they get right and do they do it in the right order, for example: still or obvious life threat first (Red, Gray, Black), then wavers, then walkers last.) Needs a confusion matrix."
   ]
  },
  {
   "cell_type": "markdown",
   "id": "fe7b3360-5d53-48ff-b471-99ae581886e3",
   "metadata": {},
   "source": [
    "\n",
    "## Did they get the correct tag applied?"
   ]
  },
  {
   "cell_type": "code",
   "execution_count": 4,
   "id": "4709e3ec-ed5f-4131-afb2-47d05a9ad78d",
   "metadata": {},
   "outputs": [
    {
     "name": "stdout",
     "output_type": "stream",
     "text": [
      "['injury_record_severity', 'injury_treated_severity']\n"
     ]
    }
   ],
   "source": [
    "\n",
    "# Investigate the columns of severity\n",
    "# print([cn for cn in one_hot_encode_df.columns if 'sever' in cn])\n",
    "print([cn for cn in frvrs_logs_df.columns if 'sever' in cn.lower()])\n",
    "# print([cn for cn in patient_history_df.columns if 'sever' in cn])"
   ]
  },
  {
   "cell_type": "code",
   "execution_count": 5,
   "id": "803ee389-e5b5-4780-8064-152621f71d08",
   "metadata": {},
   "outputs": [
    {
     "name": "stdout",
     "output_type": "stream",
     "text": [
      "['patient_demoted_breath', 'patient_record_breath', 'patient_engaged_breath']\n",
      "[nan, 'collapsedRight', 'normal', 'fast', 'restricted', 'none']\n"
     ]
    }
   ],
   "source": [
    "\n",
    "# Investigate the presence of breathing\n",
    "# srs = frvrs_logs_df.applymap(lambda x: 'breath' in str(x).lower(), na_action='ignore').sum()\n",
    "# columns_list = srs[srs != 0].index.tolist()\n",
    "# if columns_list: print(columns_list)\n",
    "print([cn for cn in frvrs_logs_df.columns if 'breath' in cn.lower()])\n",
    "print(frvrs_logs_df.patient_record_breath.unique().tolist())"
   ]
  },
  {
   "cell_type": "code",
   "execution_count": 6,
   "id": "a09e7033-246c-46ab-9cec-d56ec35456fc",
   "metadata": {},
   "outputs": [
    {
     "name": "stdout",
     "output_type": "stream",
     "text": [
      "[nan, 'unresponsive', 'upset', 'calm', 'agony', 'dead']\n"
     ]
    }
   ],
   "source": [
    "\n",
    "# Investigate the presence of response\n",
    "# srs = frvrs_logs_df.applymap(lambda x: 'respons' in str(x).lower(), na_action='ignore').sum()\n",
    "# columns_list = srs[srs != 0].index.tolist()\n",
    "# if columns_list: print(columns_list)\n",
    "# print([cn for cn in frvrs_logs_df.columns if 'respons' in cn.lower()])\n",
    "print(frvrs_logs_df.patient_record_mood.unique().tolist())"
   ]
  },
  {
   "cell_type": "code",
   "execution_count": 7,
   "id": "2002c69a-4f90-4548-aa83-989060774447",
   "metadata": {},
   "outputs": [
    {
     "data": {
      "text/plain": [
       "array([nan, 'high', 'medium', 'low'], dtype=object)"
      ]
     },
     "execution_count": 7,
     "metadata": {},
     "output_type": "execute_result"
    }
   ],
   "source": [
    "\n",
    "frvrs_logs_df.injury_record_severity.unique()"
   ]
  },
  {
   "cell_type": "markdown",
   "id": "8e10d8a2-a7c9-4314-920b-1b3063d61340",
   "metadata": {},
   "source": [
    "\n",
    "## How many patients did they get right? Should be percentage per responders\n"
   ]
  },
  {
   "cell_type": "markdown",
   "id": "20169055-b896-4797-b911-19d8de849941",
   "metadata": {},
   "source": [
    "\n",
    "<img src=\"http://localhost:8889/files/itm-analysis-reporting/saves/png/salt_mass_casualty_triage.png\" />"
   ]
  },
  {
   "cell_type": "code",
   "execution_count": 8,
   "id": "4d2a62b9-bc55-4135-9de0-5a6bc3cd5443",
   "metadata": {},
   "outputs": [
    {
     "name": "stdout",
     "output_type": "stream",
     "text": [
      "[nan, 'red', 'yellow', 'green', 'black', 'gray']\n",
      "[nan, 'IMMEDIATE', 'DELAYED', 'MINIMAL', 'EXPECTANT', 'DEAD']\n"
     ]
    }
   ],
   "source": [
    "\n",
    "print(frvrs_logs_df.tag_applied_type.unique().tolist())\n",
    "print(frvrs_logs_df.patient_record_salt.unique().tolist())"
   ]
  },
  {
   "cell_type": "code",
   "execution_count": 11,
   "id": "25daee56-5f33-4bf2-b7df-dc4ac571d205",
   "metadata": {},
   "outputs": [
    {
     "data": {
      "text/html": [
       "<div>\n",
       "<style scoped>\n",
       "    .dataframe tbody tr th:only-of-type {\n",
       "        vertical-align: middle;\n",
       "    }\n",
       "\n",
       "    .dataframe tbody tr th {\n",
       "        vertical-align: top;\n",
       "    }\n",
       "\n",
       "    .dataframe thead th {\n",
       "        text-align: right;\n",
       "    }\n",
       "</style>\n",
       "<table border=\"1\" class=\"dataframe\">\n",
       "  <thead>\n",
       "    <tr style=\"text-align: right;\">\n",
       "      <th></th>\n",
       "      <th>437</th>\n",
       "      <th>3951</th>\n",
       "      <th>0</th>\n",
       "      <th>5084</th>\n",
       "    </tr>\n",
       "  </thead>\n",
       "  <tbody>\n",
       "    <tr>\n",
       "      <th>session_uuid</th>\n",
       "      <td>0fa439d6-476c-49a5-b478-48e3454974e1</td>\n",
       "      <td>aec5d448-c4e6-4af7-8e36-d258c7bb6f96</td>\n",
       "      <td>009b848c-ea64-4f22-bd40-711213a3d327</td>\n",
       "      <td>e249e6d4-c3d4-4e20-8fab-fa35fd59e871</td>\n",
       "    </tr>\n",
       "    <tr>\n",
       "      <th>scene_id</th>\n",
       "      <td>1</td>\n",
       "      <td>0</td>\n",
       "      <td>0</td>\n",
       "      <td>0</td>\n",
       "    </tr>\n",
       "    <tr>\n",
       "      <th>patient_id</th>\n",
       "      <td>Gary_1 Root</td>\n",
       "      <td>Gary_0 Root</td>\n",
       "      <td>Bob_0 Root</td>\n",
       "      <td>Gary_1 Root</td>\n",
       "    </tr>\n",
       "    <tr>\n",
       "      <th>logger_version</th>\n",
       "      <td>1.3</td>\n",
       "      <td>1.3</td>\n",
       "      <td>1.0</td>\n",
       "      <td>1.3</td>\n",
       "    </tr>\n",
       "    <tr>\n",
       "      <th>is_scene_aborted</th>\n",
       "      <td>False</td>\n",
       "      <td>False</td>\n",
       "      <td>False</td>\n",
       "      <td>False</td>\n",
       "    </tr>\n",
       "    <tr>\n",
       "      <th>scene_type</th>\n",
       "      <td>Triage</td>\n",
       "      <td>Triage</td>\n",
       "      <td>Triage</td>\n",
       "      <td>Triage</td>\n",
       "    </tr>\n",
       "    <tr>\n",
       "      <th>is_a_one_triage_file</th>\n",
       "      <td>True</td>\n",
       "      <td>False</td>\n",
       "      <td>True</td>\n",
       "      <td>True</td>\n",
       "    </tr>\n",
       "    <tr>\n",
       "      <th>patient_count</th>\n",
       "      <td>1</td>\n",
       "      <td>1</td>\n",
       "      <td>1</td>\n",
       "      <td>1</td>\n",
       "    </tr>\n",
       "    <tr>\n",
       "      <th>last_tag</th>\n",
       "      <td>yellow</td>\n",
       "      <td>black</td>\n",
       "      <td>red</td>\n",
       "      <td>green</td>\n",
       "    </tr>\n",
       "    <tr>\n",
       "      <th>max_salt</th>\n",
       "      <td>EXPECTANT</td>\n",
       "      <td>MINIMAL</td>\n",
       "      <td>DEAD</td>\n",
       "      <td>EXPECTANT</td>\n",
       "    </tr>\n",
       "    <tr>\n",
       "      <th>predicted_tag</th>\n",
       "      <td>gray</td>\n",
       "      <td>green</td>\n",
       "      <td>black</td>\n",
       "      <td>gray</td>\n",
       "    </tr>\n",
       "    <tr>\n",
       "      <th>is_tag_correct</th>\n",
       "      <td>False</td>\n",
       "      <td>False</td>\n",
       "      <td>False</td>\n",
       "      <td>False</td>\n",
       "    </tr>\n",
       "  </tbody>\n",
       "</table>\n",
       "</div>"
      ],
      "text/plain": [
       "                                                      437   \\\n",
       "session_uuid          0fa439d6-476c-49a5-b478-48e3454974e1   \n",
       "scene_id                                              1   \n",
       "patient_id                                     Gary_1 Root   \n",
       "logger_version                                         1.3   \n",
       "is_scene_aborted                                     False   \n",
       "scene_type                                          Triage   \n",
       "is_a_one_triage_file                                  True   \n",
       "patient_count                                            1   \n",
       "last_tag                                            yellow   \n",
       "max_salt                                         EXPECTANT   \n",
       "predicted_tag                                         gray   \n",
       "is_tag_correct                                       False   \n",
       "\n",
       "                                                      3951  \\\n",
       "session_uuid          aec5d448-c4e6-4af7-8e36-d258c7bb6f96   \n",
       "scene_id                                              0   \n",
       "patient_id                                     Gary_0 Root   \n",
       "logger_version                                         1.3   \n",
       "is_scene_aborted                                     False   \n",
       "scene_type                                          Triage   \n",
       "is_a_one_triage_file                                 False   \n",
       "patient_count                                            1   \n",
       "last_tag                                             black   \n",
       "max_salt                                           MINIMAL   \n",
       "predicted_tag                                        green   \n",
       "is_tag_correct                                       False   \n",
       "\n",
       "                                                      0     \\\n",
       "session_uuid          009b848c-ea64-4f22-bd40-711213a3d327   \n",
       "scene_id                                              0   \n",
       "patient_id                                      Bob_0 Root   \n",
       "logger_version                                         1.0   \n",
       "is_scene_aborted                                     False   \n",
       "scene_type                                          Triage   \n",
       "is_a_one_triage_file                                  True   \n",
       "patient_count                                            1   \n",
       "last_tag                                               red   \n",
       "max_salt                                              DEAD   \n",
       "predicted_tag                                        black   \n",
       "is_tag_correct                                       False   \n",
       "\n",
       "                                                      5084  \n",
       "session_uuid          e249e6d4-c3d4-4e20-8fab-fa35fd59e871  \n",
       "scene_id                                              0  \n",
       "patient_id                                     Gary_1 Root  \n",
       "logger_version                                         1.3  \n",
       "is_scene_aborted                                     False  \n",
       "scene_type                                          Triage  \n",
       "is_a_one_triage_file                                  True  \n",
       "patient_count                                            1  \n",
       "last_tag                                             green  \n",
       "max_salt                                         EXPECTANT  \n",
       "predicted_tag                                         gray  \n",
       "is_tag_correct                                       False  "
      ]
     },
     "execution_count": 11,
     "metadata": {},
     "output_type": "execute_result"
    }
   ],
   "source": [
    "\n",
    "tag_to_salt_df = nu.load_object('tag_to_salt_df')\n",
    "nu.get_minority_combinations(tag_to_salt_df, ['last_tag', 'predicted_tag']).dropna(axis='columns', how='all').T"
   ]
  },
  {
   "cell_type": "code",
   "execution_count": 11,
   "id": "045f06b6-69f5-47ed-b1c8-5a8d0e791dc4",
   "metadata": {},
   "outputs": [
    {
     "name": "stdout",
     "output_type": "stream",
     "text": [
      "(5012, 11)\n"
     ]
    },
    {
     "data": {
      "text/html": [
       "<div>\n",
       "<style scoped>\n",
       "    .dataframe tbody tr th:only-of-type {\n",
       "        vertical-align: middle;\n",
       "    }\n",
       "\n",
       "    .dataframe tbody tr th {\n",
       "        vertical-align: top;\n",
       "    }\n",
       "\n",
       "    .dataframe thead th {\n",
       "        text-align: right;\n",
       "    }\n",
       "</style>\n",
       "<table border=\"1\" class=\"dataframe\">\n",
       "  <thead>\n",
       "    <tr style=\"text-align: right;\">\n",
       "      <th></th>\n",
       "      <th>147</th>\n",
       "      <th>4676</th>\n",
       "      <th>7555</th>\n",
       "      <th>5777</th>\n",
       "      <th>5898</th>\n",
       "    </tr>\n",
       "  </thead>\n",
       "  <tbody>\n",
       "    <tr>\n",
       "      <th>logger_version</th>\n",
       "      <td>1.3</td>\n",
       "      <td>1.0</td>\n",
       "      <td>1.3</td>\n",
       "      <td>1.3</td>\n",
       "      <td>1.3</td>\n",
       "    </tr>\n",
       "    <tr>\n",
       "      <th>session_uuid</th>\n",
       "      <td>04acc8f2-1e64-47b2-9606-8d661f584aec</td>\n",
       "      <td>724fdf45-3165-43b8-b9ca-dc07102d2886</td>\n",
       "      <td>c849bff1-beb3-44ab-bdea-751d75878437</td>\n",
       "      <td>8d30008e-c05a-4b2d-8b1c-2e0857985912</td>\n",
       "      <td>91a84c6a-ba27-4116-8644-e5373b3588de</td>\n",
       "    </tr>\n",
       "    <tr>\n",
       "      <th>scene_id</th>\n",
       "      <td>0</td>\n",
       "      <td>11</td>\n",
       "      <td>0</td>\n",
       "      <td>1</td>\n",
       "      <td>0</td>\n",
       "    </tr>\n",
       "    <tr>\n",
       "      <th>patient_id</th>\n",
       "      <td>Mike_1 Root</td>\n",
       "      <td>Mike_1 Root</td>\n",
       "      <td>Gloria_2 Root</td>\n",
       "      <td>Mike_6 Root</td>\n",
       "      <td>Gary_5 Root</td>\n",
       "    </tr>\n",
       "    <tr>\n",
       "      <th>is_scene_aborted</th>\n",
       "      <td>False</td>\n",
       "      <td>False</td>\n",
       "      <td>False</td>\n",
       "      <td>False</td>\n",
       "      <td>False</td>\n",
       "    </tr>\n",
       "    <tr>\n",
       "      <th>scene_type</th>\n",
       "      <td>Orientation</td>\n",
       "      <td>Normal</td>\n",
       "      <td>Normal</td>\n",
       "      <td>Normal</td>\n",
       "      <td>Normal</td>\n",
       "    </tr>\n",
       "    <tr>\n",
       "      <th>patient_count</th>\n",
       "      <td>1</td>\n",
       "      <td>1</td>\n",
       "      <td>1</td>\n",
       "      <td>1</td>\n",
       "      <td>1</td>\n",
       "    </tr>\n",
       "    <tr>\n",
       "      <th>is_tag_correct</th>\n",
       "      <td>False</td>\n",
       "      <td>False</td>\n",
       "      <td>False</td>\n",
       "      <td>False</td>\n",
       "      <td>False</td>\n",
       "    </tr>\n",
       "  </tbody>\n",
       "</table>\n",
       "</div>"
      ],
      "text/plain": [
       "                                                  147   \\\n",
       "logger_version                                     1.3   \n",
       "session_uuid      04acc8f2-1e64-47b2-9606-8d661f584aec   \n",
       "scene_id                                          0   \n",
       "patient_id                                 Mike_1 Root   \n",
       "is_scene_aborted                                 False   \n",
       "scene_type                                 Orientation   \n",
       "patient_count                                        1   \n",
       "is_tag_correct                                   False   \n",
       "\n",
       "                                                  4676  \\\n",
       "logger_version                                     1.0   \n",
       "session_uuid      724fdf45-3165-43b8-b9ca-dc07102d2886   \n",
       "scene_id                                         11   \n",
       "patient_id                                 Mike_1 Root   \n",
       "is_scene_aborted                                 False   \n",
       "scene_type                                      Normal   \n",
       "patient_count                                        1   \n",
       "is_tag_correct                                   False   \n",
       "\n",
       "                                                  7555  \\\n",
       "logger_version                                     1.3   \n",
       "session_uuid      c849bff1-beb3-44ab-bdea-751d75878437   \n",
       "scene_id                                          0   \n",
       "patient_id                               Gloria_2 Root   \n",
       "is_scene_aborted                                 False   \n",
       "scene_type                                      Normal   \n",
       "patient_count                                        1   \n",
       "is_tag_correct                                   False   \n",
       "\n",
       "                                                  5777  \\\n",
       "logger_version                                     1.3   \n",
       "session_uuid      8d30008e-c05a-4b2d-8b1c-2e0857985912   \n",
       "scene_id                                          1   \n",
       "patient_id                                 Mike_6 Root   \n",
       "is_scene_aborted                                 False   \n",
       "scene_type                                      Normal   \n",
       "patient_count                                        1   \n",
       "is_tag_correct                                   False   \n",
       "\n",
       "                                                  5898  \n",
       "logger_version                                     1.3  \n",
       "session_uuid      91a84c6a-ba27-4116-8644-e5373b3588de  \n",
       "scene_id                                          0  \n",
       "patient_id                                 Gary_5 Root  \n",
       "is_scene_aborted                                 False  \n",
       "scene_type                                      Normal  \n",
       "patient_count                                        1  \n",
       "is_tag_correct                                   False  "
      ]
     },
     "metadata": {},
     "output_type": "display_data"
    }
   ],
   "source": [
    "\n",
    "mask_series = tag_to_salt_df.last_tag.isnull() | tag_to_salt_df.max_salt.isnull()\n",
    "df = tag_to_salt_df[mask_series]\n",
    "print(df.shape)\n",
    "display(df.sample(min(5, df.shape[0])).dropna(axis='columns', how='all').T)"
   ]
  },
  {
   "cell_type": "code",
   "execution_count": 13,
   "id": "6a822f9b-cfcb-4928-9ecb-0b0e96321431",
   "metadata": {},
   "outputs": [
    {
     "data": {
      "text/html": [
       "<div>\n",
       "<style scoped>\n",
       "    .dataframe tbody tr th:only-of-type {\n",
       "        vertical-align: middle;\n",
       "    }\n",
       "\n",
       "    .dataframe tbody tr th {\n",
       "        vertical-align: top;\n",
       "    }\n",
       "\n",
       "    .dataframe thead th {\n",
       "        text-align: right;\n",
       "    }\n",
       "</style>\n",
       "<table border=\"1\" class=\"dataframe\">\n",
       "  <thead>\n",
       "    <tr style=\"text-align: right;\">\n",
       "      <th></th>\n",
       "    </tr>\n",
       "  </thead>\n",
       "  <tbody>\n",
       "  </tbody>\n",
       "</table>\n",
       "</div>"
      ],
      "text/plain": [
       "Empty DataFrame\n",
       "Columns: []\n",
       "Index: []"
      ]
     },
     "execution_count": 13,
     "metadata": {},
     "output_type": "execute_result"
    }
   ],
   "source": [
    "\n",
    "# Verify there are no missing correct tag scores\n",
    "mask_series = tag_to_salt_df.is_tag_correct.isnull()\n",
    "tag_to_salt_df[mask_series].sample(min(5, tag_to_salt_df[mask_series].shape[0])).dropna(axis='columns', how='all').T"
   ]
  },
  {
   "cell_type": "markdown",
   "id": "14ad5290-4ecf-4191-ba42-fc9396b39a47",
   "metadata": {},
   "source": [
    "\n",
    "\n",
    "## Did they get it right?"
   ]
  },
  {
   "cell_type": "markdown",
   "id": "37609c53-7e5f-4053-9642-193e06d41aa5",
   "metadata": {},
   "source": [
    "\n",
    "## Right vs Wrong Treatment"
   ]
  },
  {
   "cell_type": "code",
   "execution_count": 14,
   "id": "42db5530-54d2-40df-8cf5-73e724bda76b",
   "metadata": {},
   "outputs": [
    {
     "name": "stdout",
     "output_type": "stream",
     "text": [
      "\n",
      "injury_record_injury_treated_with_wrong_treatment\n"
     ]
    },
    {
     "data": {
      "text/plain": [
       "[nan, False]"
      ]
     },
     "metadata": {},
     "output_type": "display_data"
    },
    {
     "name": "stdout",
     "output_type": "stream",
     "text": [
      "\n",
      "injury_record_injury_treated\n"
     ]
    },
    {
     "data": {
      "text/plain": [
       "[nan, False]"
      ]
     },
     "metadata": {},
     "output_type": "display_data"
    },
    {
     "name": "stdout",
     "output_type": "stream",
     "text": [
      "\n",
      "injury_treated_injury_treated_with_wrong_treatment\n"
     ]
    },
    {
     "data": {
      "text/plain": [
       "[nan, False, True]"
      ]
     },
     "metadata": {},
     "output_type": "display_data"
    },
    {
     "name": "stdout",
     "output_type": "stream",
     "text": [
      "\n",
      "injury_treated_injury_treated\n"
     ]
    },
    {
     "data": {
      "text/plain": [
       "[nan, True, False]"
      ]
     },
     "metadata": {},
     "output_type": "display_data"
    }
   ],
   "source": [
    "\n",
    "# Show all combinations of the treated/wrongly columns\n",
    "columns_list = [\n",
    "    'injury_record_injury_treated_with_wrong_treatment', 'injury_record_injury_treated',\n",
    "    'injury_treated_injury_treated_with_wrong_treatment', 'injury_treated_injury_treated'\n",
    "]\n",
    "df = frvrs_logs_df[columns_list].drop_duplicates()\n",
    "for cn in columns_list:\n",
    "    print()\n",
    "    print(cn)\n",
    "    display(df[cn].unique().tolist())\n",
    "    # mask_series = ~frvrs_logs_df[cn].isnull()\n",
    "    # display(frvrs_logs_df[mask_series].sample(min(4, frvrs_logs_df[mask_series].shape[0])).dropna(axis='columns', how='all').T)"
   ]
  },
  {
   "cell_type": "code",
   "execution_count": 15,
   "id": "769bd829-2309-4533-bbb2-e2ee6c1320cc",
   "metadata": {},
   "outputs": [
    {
     "name": "stdout",
     "output_type": "stream",
     "text": [
      "Pickling to C:\\Users\\DaveBabbitt\\Documents\\GitHub\\itm-analysis-reporting\\saves\\pkl\\patient_count_df.pkl\n"
     ]
    }
   ],
   "source": [
    "\n",
    "if nu.pickle_exists('patient_count_df'):\n",
    "    patient_count_df = nu.load_object('patient_count_df')\n",
    "else:\n",
    "    \n",
    "    # Create a list of the columns to group by\n",
    "    \n",
    "    \n",
    "    # Group the frvrs_logs_df dataframe by the groupby columns\n",
    "    gb = frvrs_logs_df.sort_values(['action_tick']).groupby(fu.patient_groupby_columns)\n",
    "    \n",
    "    # Initialize an empty list to store rows\n",
    "    rows_list = []\n",
    "    \n",
    "    # Iterate over each patient in each scene in each file\n",
    "    for (session_uuid, scene_id, patient_id), patient_df in gb:\n",
    "        \n",
    "        # Get the logger version and the scene categories to the row dictionary\n",
    "        logger_version = fu.get_logger_version(patient_df)\n",
    "        is_scene_aborted = fu.get_is_scene_aborted(patient_df)\n",
    "        scene_type = fu.get_scene_type(patient_df)\n",
    "    \n",
    "        # Iterate over the possible values for the two columns\n",
    "        for wrong in [True, False]:\n",
    "            for eventually in [True, False]:\n",
    "                \n",
    "                # Create a dictionary to store the results for the current group\n",
    "                row_dict = {}\n",
    "                \n",
    "                # Populate the row_dict with values from the groupby columns\n",
    "                for cn in fu.patient_groupby_columns: row_dict[cn] = eval(cn)\n",
    "                \n",
    "                # Add the logger version to the row dictionary\n",
    "                row_dict['logger_version'] = logger_version\n",
    "                row_dict['is_scene_aborted'] = is_scene_aborted\n",
    "                row_dict['scene_type'] = scene_type\n",
    "                \n",
    "                # Add the current values of the two columns to the row dictionary\n",
    "                row_dict['injury_treated_injury_treated_with_wrong_treatment'] = wrong\n",
    "                row_dict['injury_treated_injury_treated'] = eventually\n",
    "    \n",
    "                # Initialize a filter rows to add conditions via a loop\n",
    "                mask_series = True\n",
    "    \n",
    "                # Add conditions for each column in groupby columns\n",
    "                for cn in fu.patient_groupby_columns: mask_series &= (frvrs_logs_df[cn] == eval(cn))\n",
    "                \n",
    "                # Add the two columns to the mask series\n",
    "                mask_series &= (frvrs_logs_df.injury_treated_injury_treated_with_wrong_treatment == wrong)\n",
    "                mask_series &= (frvrs_logs_df.injury_treated_injury_treated == eventually)\n",
    "    \n",
    "                # Calculate the unique patient count for the filtered rows\n",
    "                row_dict['patient_count'] = fu.get_patient_count(frvrs_logs_df[mask_series])\n",
    "    \n",
    "                # Add the row dictionary to the rows list\n",
    "                rows_list.append(row_dict)\n",
    "    \n",
    "    # Create a Data Frame from the list of rows\n",
    "    patient_count_df = DataFrame(rows_list)\n",
    "    nu.store_objects(patient_count_df=patient_count_df)"
   ]
  },
  {
   "cell_type": "code",
   "execution_count": 17,
   "id": "e4343f03-c5bf-445e-9b2e-dc2e71d78dde",
   "metadata": {},
   "outputs": [
    {
     "data": {
      "text/html": [
       "<div>\n",
       "<style scoped>\n",
       "    .dataframe tbody tr th:only-of-type {\n",
       "        vertical-align: middle;\n",
       "    }\n",
       "\n",
       "    .dataframe tbody tr th {\n",
       "        vertical-align: top;\n",
       "    }\n",
       "\n",
       "    .dataframe thead th {\n",
       "        text-align: right;\n",
       "    }\n",
       "</style>\n",
       "<table border=\"1\" class=\"dataframe\">\n",
       "  <thead>\n",
       "    <tr style=\"text-align: right;\">\n",
       "      <th></th>\n",
       "      <th>injury_treated_injury_treated_with_wrong_treatment</th>\n",
       "      <th>injury_treated_injury_treated</th>\n",
       "    </tr>\n",
       "  </thead>\n",
       "  <tbody>\n",
       "    <tr>\n",
       "      <th>0</th>\n",
       "      <td>True</td>\n",
       "      <td>True</td>\n",
       "    </tr>\n",
       "    <tr>\n",
       "      <th>1</th>\n",
       "      <td>True</td>\n",
       "      <td>False</td>\n",
       "    </tr>\n",
       "    <tr>\n",
       "      <th>18</th>\n",
       "      <td>False</td>\n",
       "      <td>True</td>\n",
       "    </tr>\n",
       "  </tbody>\n",
       "</table>\n",
       "</div>"
      ],
      "text/plain": [
       "    injury_treated_injury_treated_with_wrong_treatment  \\\n",
       "0                                                True    \n",
       "1                                                True    \n",
       "18                                              False    \n",
       "\n",
       "    injury_treated_injury_treated  \n",
       "0                            True  \n",
       "1                           False  \n",
       "18                           True  "
      ]
     },
     "metadata": {},
     "output_type": "display_data"
    },
    {
     "data": {
      "text/html": [
       "<div>\n",
       "<style scoped>\n",
       "    .dataframe tbody tr th:only-of-type {\n",
       "        vertical-align: middle;\n",
       "    }\n",
       "\n",
       "    .dataframe tbody tr th {\n",
       "        vertical-align: top;\n",
       "    }\n",
       "\n",
       "    .dataframe thead th {\n",
       "        text-align: right;\n",
       "    }\n",
       "</style>\n",
       "<table border=\"1\" class=\"dataframe\">\n",
       "  <thead>\n",
       "    <tr style=\"text-align: right;\">\n",
       "      <th></th>\n",
       "      <th>22158</th>\n",
       "      <th>12650</th>\n",
       "      <th>16722</th>\n",
       "      <th>1934</th>\n",
       "    </tr>\n",
       "  </thead>\n",
       "  <tbody>\n",
       "    <tr>\n",
       "      <th>session_uuid</th>\n",
       "      <td>f3228193-b6dc-41fa-a2ab-1c5085046347</td>\n",
       "      <td>851741c0-56b3-4702-8fd2-c946376840fc</td>\n",
       "      <td>b51296d5-52e5-40db-8448-91a5d935b661</td>\n",
       "      <td>1046b7d9-5848-41b5-9438-cf0dc4dc6cbe</td>\n",
       "    </tr>\n",
       "    <tr>\n",
       "      <th>scene_id</th>\n",
       "      <td>1</td>\n",
       "      <td>0</td>\n",
       "      <td>0</td>\n",
       "      <td>0</td>\n",
       "    </tr>\n",
       "    <tr>\n",
       "      <th>patient_id</th>\n",
       "      <td>Mike_7 Root</td>\n",
       "      <td>Lily_2 Root</td>\n",
       "      <td>Mike_7 Root</td>\n",
       "      <td>Gloria_8 Root</td>\n",
       "    </tr>\n",
       "    <tr>\n",
       "      <th>logger_version</th>\n",
       "      <td>1.3</td>\n",
       "      <td>1.3</td>\n",
       "      <td>1.3</td>\n",
       "      <td>1.3</td>\n",
       "    </tr>\n",
       "    <tr>\n",
       "      <th>is_scene_aborted</th>\n",
       "      <td>False</td>\n",
       "      <td>False</td>\n",
       "      <td>False</td>\n",
       "      <td>False</td>\n",
       "    </tr>\n",
       "    <tr>\n",
       "      <th>scene_type</th>\n",
       "      <td>Triage</td>\n",
       "      <td>Triage</td>\n",
       "      <td>Triage</td>\n",
       "      <td>Triage</td>\n",
       "    </tr>\n",
       "    <tr>\n",
       "      <th>injury_treated_injury_treated_with_wrong_treatment</th>\n",
       "      <td>False</td>\n",
       "      <td>False</td>\n",
       "      <td>False</td>\n",
       "      <td>False</td>\n",
       "    </tr>\n",
       "    <tr>\n",
       "      <th>injury_treated_injury_treated</th>\n",
       "      <td>True</td>\n",
       "      <td>True</td>\n",
       "      <td>True</td>\n",
       "      <td>True</td>\n",
       "    </tr>\n",
       "    <tr>\n",
       "      <th>patient_count</th>\n",
       "      <td>1</td>\n",
       "      <td>1</td>\n",
       "      <td>1</td>\n",
       "      <td>1</td>\n",
       "    </tr>\n",
       "  </tbody>\n",
       "</table>\n",
       "</div>"
      ],
      "text/plain": [
       "                                                                                   22158  \\\n",
       "session_uuid                                        f3228193-b6dc-41fa-a2ab-1c5085046347   \n",
       "scene_id                                                                            1   \n",
       "patient_id                                                                   Mike_7 Root   \n",
       "logger_version                                                                       1.3   \n",
       "is_scene_aborted                                                                   False   \n",
       "scene_type                                                                        Triage   \n",
       "injury_treated_injury_treated_with_wrong_treatment                                 False   \n",
       "injury_treated_injury_treated                                                       True   \n",
       "patient_count                                                                          1   \n",
       "\n",
       "                                                                                   12650  \\\n",
       "session_uuid                                        851741c0-56b3-4702-8fd2-c946376840fc   \n",
       "scene_id                                                                            0   \n",
       "patient_id                                                                   Lily_2 Root   \n",
       "logger_version                                                                       1.3   \n",
       "is_scene_aborted                                                                   False   \n",
       "scene_type                                                                        Triage   \n",
       "injury_treated_injury_treated_with_wrong_treatment                                 False   \n",
       "injury_treated_injury_treated                                                       True   \n",
       "patient_count                                                                          1   \n",
       "\n",
       "                                                                                   16722  \\\n",
       "session_uuid                                        b51296d5-52e5-40db-8448-91a5d935b661   \n",
       "scene_id                                                                            0   \n",
       "patient_id                                                                   Mike_7 Root   \n",
       "logger_version                                                                       1.3   \n",
       "is_scene_aborted                                                                   False   \n",
       "scene_type                                                                        Triage   \n",
       "injury_treated_injury_treated_with_wrong_treatment                                 False   \n",
       "injury_treated_injury_treated                                                       True   \n",
       "patient_count                                                                          1   \n",
       "\n",
       "                                                                                   1934   \n",
       "session_uuid                                        1046b7d9-5848-41b5-9438-cf0dc4dc6cbe  \n",
       "scene_id                                                                            0  \n",
       "patient_id                                                                 Gloria_8 Root  \n",
       "logger_version                                                                       1.3  \n",
       "is_scene_aborted                                                                   False  \n",
       "scene_type                                                                        Triage  \n",
       "injury_treated_injury_treated_with_wrong_treatment                                 False  \n",
       "injury_treated_injury_treated                                                       True  \n",
       "patient_count                                                                          1  "
      ]
     },
     "metadata": {},
     "output_type": "display_data"
    },
    {
     "data": {
      "text/html": [
       "<div>\n",
       "<style scoped>\n",
       "    .dataframe tbody tr th:only-of-type {\n",
       "        vertical-align: middle;\n",
       "    }\n",
       "\n",
       "    .dataframe tbody tr th {\n",
       "        vertical-align: top;\n",
       "    }\n",
       "\n",
       "    .dataframe thead th {\n",
       "        text-align: right;\n",
       "    }\n",
       "</style>\n",
       "<table border=\"1\" class=\"dataframe\">\n",
       "  <thead>\n",
       "    <tr style=\"text-align: right;\">\n",
       "      <th></th>\n",
       "      <th>patient_count</th>\n",
       "    </tr>\n",
       "    <tr>\n",
       "      <th>injury_treated_injury_treated_with_wrong_treatment</th>\n",
       "      <th></th>\n",
       "    </tr>\n",
       "  </thead>\n",
       "  <tbody>\n",
       "    <tr>\n",
       "      <th>False</th>\n",
       "      <td>2232</td>\n",
       "    </tr>\n",
       "    <tr>\n",
       "      <th>True</th>\n",
       "      <td>329</td>\n",
       "    </tr>\n",
       "  </tbody>\n",
       "</table>\n",
       "</div>"
      ],
      "text/plain": [
       "                                                    patient_count\n",
       "injury_treated_injury_treated_with_wrong_treatment               \n",
       "False                                                        2232\n",
       "True                                                          329"
      ]
     },
     "metadata": {},
     "output_type": "display_data"
    }
   ],
   "source": [
    "\n",
    "# Get the distribution of wrong treatments\n",
    "mask_series = (patient_count_df.patient_count > 0)\n",
    "mask_series &= (patient_count_df.scene_type == 'Triage') & (patient_count_df.is_scene_aborted == False)\n",
    "columns_list = [\n",
    "    'injury_treated_injury_treated_with_wrong_treatment', 'injury_treated_injury_treated'\n",
    "]\n",
    "df = patient_count_df[mask_series]\n",
    "display(df[columns_list].drop_duplicates())\n",
    "display(df.sample(min(4, df.shape[0])).dropna(axis='columns', how='all').T)\n",
    "mask_series = (df.injury_treated_injury_treated == True)\n",
    "display(df[mask_series].groupby('injury_treated_injury_treated_with_wrong_treatment').sum().patient_count.to_frame())"
   ]
  },
  {
   "cell_type": "code",
   "execution_count": 18,
   "id": "9c08c18b-8ca8-45f8-9eeb-ace3e77cf18e",
   "metadata": {},
   "outputs": [
    {
     "data": {
      "text/html": [
       "<div>\n",
       "<style scoped>\n",
       "    .dataframe tbody tr th:only-of-type {\n",
       "        vertical-align: middle;\n",
       "    }\n",
       "\n",
       "    .dataframe tbody tr th {\n",
       "        vertical-align: top;\n",
       "    }\n",
       "\n",
       "    .dataframe thead th {\n",
       "        text-align: right;\n",
       "    }\n",
       "</style>\n",
       "<table border=\"1\" class=\"dataframe\">\n",
       "  <thead>\n",
       "    <tr style=\"text-align: right;\">\n",
       "      <th></th>\n",
       "      <th>injury_treated_injury_treated_with_wrong_treatment</th>\n",
       "      <th>injury_treated_injury_treated</th>\n",
       "      <th>patient_count</th>\n",
       "    </tr>\n",
       "  </thead>\n",
       "  <tbody>\n",
       "    <tr>\n",
       "      <th>0</th>\n",
       "      <td>False</td>\n",
       "      <td>True</td>\n",
       "      <td>2232</td>\n",
       "    </tr>\n",
       "    <tr>\n",
       "      <th>1</th>\n",
       "      <td>True</td>\n",
       "      <td>False</td>\n",
       "      <td>474</td>\n",
       "    </tr>\n",
       "    <tr>\n",
       "      <th>2</th>\n",
       "      <td>True</td>\n",
       "      <td>True</td>\n",
       "      <td>329</td>\n",
       "    </tr>\n",
       "  </tbody>\n",
       "</table>\n",
       "</div>"
      ],
      "text/plain": [
       "   injury_treated_injury_treated_with_wrong_treatment  \\\n",
       "0                                              False    \n",
       "1                                               True    \n",
       "2                                               True    \n",
       "\n",
       "   injury_treated_injury_treated  patient_count  \n",
       "0                           True           2232  \n",
       "1                          False            474  \n",
       "2                           True            329  "
      ]
     },
     "metadata": {},
     "output_type": "display_data"
    }
   ],
   "source": [
    "\n",
    "# Get the distribution of wrong treatments\n",
    "display(df.groupby(columns_list).sum().patient_count.to_frame().reset_index(drop=False))"
   ]
  },
  {
   "cell_type": "code",
   "execution_count": 7,
   "id": "b8949ce7-8558-4975-8318-029fce379d29",
   "metadata": {},
   "outputs": [],
   "source": [
    "\n",
    "if nu.pickle_exists('rightly_treated_count_df'):\n",
    "    rightly_treated_count_df = nu.load_object('rightly_treated_count_df')\n",
    "else:\n",
    "    \n",
    "    # Get the distribution of right treatments\n",
    "    \n",
    "    # Group the FRVRS logs data frame by the groupby columns\n",
    "    gb = frvrs_logs_df.groupby(fu.scene_groupby_columns)\n",
    "    \n",
    "    # Initialize an empty list to store rows\n",
    "    rows_list = []\n",
    "    \n",
    "    # Iterate over every scene in every file\n",
    "    for (session_uuid, scene_id), scene_df in gb:\n",
    "        \n",
    "        # Create a dictionary to store the results for the current group\n",
    "        row_dict = {}\n",
    "        \n",
    "        # Populate the row_dict with values from the groupby columns\n",
    "        for cn in fu.scene_groupby_columns: row_dict[cn] = eval(cn)\n",
    "        \n",
    "        # Add the logger version and other scene properties\n",
    "        row_dict['logger_version'] = fu.get_logger_version(scene_df)\n",
    "        row_dict['is_scene_aborted'] = fu.get_is_scene_aborted(scene_df)\n",
    "        row_dict['scene_type'] = fu.get_scene_type(scene_df)\n",
    "        \n",
    "        # Get the entire history of the run and count all the patients up\n",
    "        row_dict['patient_count'] = fu.get_patient_count(scene_df)\n",
    "        \n",
    "        # Create a filter to get all treated patients and count them up\n",
    "        row_dict['treated_count'] = fu.get_injury_treatments_count(scene_df)\n",
    "        \n",
    "        # Create a filter to get all rightly treated patients and count them up\n",
    "        row_dict['rightly_treated_count'] = fu.get_injury_correctly_treated_count(scene_df)\n",
    "        \n",
    "        # Create a filter to get all wrongly treated patients and count them up\n",
    "        row_dict['mistaken_attempts_count'] = fu.get_injury_wrongly_treated_count(scene_df)\n",
    "        \n",
    "        # Add the row dictionary to the rows list\n",
    "        rows_list.append(row_dict)\n",
    "    \n",
    "    # Create a Data Frame from the list of rows\n",
    "    rightly_treated_count_df = DataFrame(rows_list)\n",
    "    nu.store_objects(rightly_treated_count_df=rightly_treated_count_df)"
   ]
  },
  {
   "cell_type": "code",
   "execution_count": 8,
   "id": "2c247d6c-461a-40ce-bd41-c9352812e3de",
   "metadata": {},
   "outputs": [
    {
     "data": {
      "text/html": [
       "<div>\n",
       "<style scoped>\n",
       "    .dataframe tbody tr th:only-of-type {\n",
       "        vertical-align: middle;\n",
       "    }\n",
       "\n",
       "    .dataframe tbody tr th {\n",
       "        vertical-align: top;\n",
       "    }\n",
       "\n",
       "    .dataframe thead th {\n",
       "        text-align: right;\n",
       "    }\n",
       "</style>\n",
       "<table border=\"1\" class=\"dataframe\">\n",
       "  <thead>\n",
       "    <tr style=\"text-align: right;\">\n",
       "      <th></th>\n",
       "      <th>937</th>\n",
       "      <th>381</th>\n",
       "      <th>245</th>\n",
       "      <th>202</th>\n",
       "    </tr>\n",
       "  </thead>\n",
       "  <tbody>\n",
       "    <tr>\n",
       "      <th>logger_version</th>\n",
       "      <td>1.0</td>\n",
       "      <td>1.3</td>\n",
       "      <td>1.3</td>\n",
       "      <td>1.0</td>\n",
       "    </tr>\n",
       "    <tr>\n",
       "      <th>session_uuid</th>\n",
       "      <td>e2ddf563-3583-404c-917a-8eb7bec38471</td>\n",
       "      <td>5d916938-e0d3-47ee-8f55-12bf12283ee1</td>\n",
       "      <td>33f3d2d4-49b4-43cf-80d4-cd7d5993aca4</td>\n",
       "      <td>2d511693-6144-45ee-89df-aba0ca629c84</td>\n",
       "    </tr>\n",
       "    <tr>\n",
       "      <th>scene_id</th>\n",
       "      <td>2</td>\n",
       "      <td>1</td>\n",
       "      <td>1</td>\n",
       "      <td>1</td>\n",
       "    </tr>\n",
       "    <tr>\n",
       "      <th>patient_count</th>\n",
       "      <td>12</td>\n",
       "      <td>11</td>\n",
       "      <td>13</td>\n",
       "      <td>13</td>\n",
       "    </tr>\n",
       "    <tr>\n",
       "      <th>treated_count</th>\n",
       "      <td>5</td>\n",
       "      <td>1</td>\n",
       "      <td>4</td>\n",
       "      <td>4</td>\n",
       "    </tr>\n",
       "    <tr>\n",
       "      <th>rightly_treated_count</th>\n",
       "      <td>5</td>\n",
       "      <td>1</td>\n",
       "      <td>3</td>\n",
       "      <td>3</td>\n",
       "    </tr>\n",
       "    <tr>\n",
       "      <th>mistaken_attempts_count</th>\n",
       "      <td>1</td>\n",
       "      <td>1</td>\n",
       "      <td>1</td>\n",
       "      <td>2</td>\n",
       "    </tr>\n",
       "  </tbody>\n",
       "</table>\n",
       "</div>"
      ],
      "text/plain": [
       "                                                          937  \\\n",
       "logger_version                                            1.0   \n",
       "session_uuid             e2ddf563-3583-404c-917a-8eb7bec38471   \n",
       "scene_id                                                  2   \n",
       "patient_count                                              12   \n",
       "treated_count                                               5   \n",
       "rightly_treated_count                                       5   \n",
       "mistaken_attempts_count                                     1   \n",
       "\n",
       "                                                          381  \\\n",
       "logger_version                                            1.3   \n",
       "session_uuid             5d916938-e0d3-47ee-8f55-12bf12283ee1   \n",
       "scene_id                                                  1   \n",
       "patient_count                                              11   \n",
       "treated_count                                               1   \n",
       "rightly_treated_count                                       1   \n",
       "mistaken_attempts_count                                     1   \n",
       "\n",
       "                                                          245  \\\n",
       "logger_version                                            1.3   \n",
       "session_uuid             33f3d2d4-49b4-43cf-80d4-cd7d5993aca4   \n",
       "scene_id                                                  1   \n",
       "patient_count                                              13   \n",
       "treated_count                                               4   \n",
       "rightly_treated_count                                       3   \n",
       "mistaken_attempts_count                                     1   \n",
       "\n",
       "                                                          202  \n",
       "logger_version                                            1.0  \n",
       "session_uuid             2d511693-6144-45ee-89df-aba0ca629c84  \n",
       "scene_id                                                  1  \n",
       "patient_count                                              13  \n",
       "treated_count                                               4  \n",
       "rightly_treated_count                                       3  \n",
       "mistaken_attempts_count                                     2  "
      ]
     },
     "metadata": {},
     "output_type": "display_data"
    }
   ],
   "source": [
    "\n",
    "# Visualize some mistaken attempts\n",
    "mask_series = (rightly_treated_count_df.mistaken_attempts_count > 0)\n",
    "df = rightly_treated_count_df[mask_series]\n",
    "display(df.sample(min(4, df[mask_series].shape[0])).dropna(axis='columns', how='all').T)"
   ]
  },
  {
   "cell_type": "code",
   "execution_count": 9,
   "id": "c415e343-f50c-4df5-be70-d66b46b0f555",
   "metadata": {},
   "outputs": [
    {
     "data": {
      "text/html": [
       "<div>\n",
       "<style scoped>\n",
       "    .dataframe tbody tr th:only-of-type {\n",
       "        vertical-align: middle;\n",
       "    }\n",
       "\n",
       "    .dataframe tbody tr th {\n",
       "        vertical-align: top;\n",
       "    }\n",
       "\n",
       "    .dataframe thead th {\n",
       "        text-align: right;\n",
       "    }\n",
       "</style>\n",
       "<table border=\"1\" class=\"dataframe\">\n",
       "  <thead>\n",
       "    <tr style=\"text-align: right;\">\n",
       "      <th></th>\n",
       "    </tr>\n",
       "  </thead>\n",
       "  <tbody>\n",
       "  </tbody>\n",
       "</table>\n",
       "</div>"
      ],
      "text/plain": [
       "Empty DataFrame\n",
       "Columns: []\n",
       "Index: []"
      ]
     },
     "metadata": {},
     "output_type": "display_data"
    }
   ],
   "source": [
    "\n",
    "# Are there more treated patients than possible?\n",
    "mask_series = (rightly_treated_count_df.treated_count > rightly_treated_count_df.patient_count)\n",
    "df = rightly_treated_count_df[mask_series]\n",
    "display(df.sample(min(4, df[mask_series].shape[0])).dropna(axis='columns', how='all').T)"
   ]
  },
  {
   "cell_type": "code",
   "execution_count": 10,
   "id": "11b3ddca-e88e-44c4-bfd7-09c73e5c81df",
   "metadata": {},
   "outputs": [
    {
     "data": {
      "text/html": [
       "<div>\n",
       "<style scoped>\n",
       "    .dataframe tbody tr th:only-of-type {\n",
       "        vertical-align: middle;\n",
       "    }\n",
       "\n",
       "    .dataframe tbody tr th {\n",
       "        vertical-align: top;\n",
       "    }\n",
       "\n",
       "    .dataframe thead th {\n",
       "        text-align: right;\n",
       "    }\n",
       "</style>\n",
       "<table border=\"1\" class=\"dataframe\">\n",
       "  <thead>\n",
       "    <tr style=\"text-align: right;\">\n",
       "      <th></th>\n",
       "    </tr>\n",
       "  </thead>\n",
       "  <tbody>\n",
       "  </tbody>\n",
       "</table>\n",
       "</div>"
      ],
      "text/plain": [
       "Empty DataFrame\n",
       "Columns: []\n",
       "Index: []"
      ]
     },
     "metadata": {},
     "output_type": "display_data"
    }
   ],
   "source": [
    "\n",
    "# Are there more rightly treated patients than treated patients?\n",
    "mask_series = (rightly_treated_count_df.rightly_treated_count > rightly_treated_count_df.patient_count)\n",
    "df = rightly_treated_count_df[mask_series]\n",
    "display(df.sample(min(4, df[mask_series].shape[0])).dropna(axis='columns', how='all').T)"
   ]
  },
  {
   "cell_type": "code",
   "execution_count": 11,
   "id": "30dedf17-b6c7-49df-b9ed-058485ac0cec",
   "metadata": {},
   "outputs": [
    {
     "data": {
      "image/png": "[encoded data removed]",
      "text/plain": [
       "<Figure size 640x480 with 4 Axes>"
      ]
     },
     "metadata": {},
     "output_type": "display_data"
    }
   ],
   "source": [
    "\n",
    "# Visualize histograms of all the distributions\n",
    "columns_list = ['patient_count', 'treated_count', 'rightly_treated_count', 'mistaken_attempts_count']\n",
    "rightly_treated_count_df[columns_list].hist();"
   ]
  },
  {
   "cell_type": "markdown",
   "id": "065bcacb-b285-44f6-b068-eab2bd128a22",
   "metadata": {},
   "source": [
    "\n",
    "\n",
    "## Did they do it in the right order?\n",
    "\n",
    "(Red, Gray, Black), then wavers, then walkers last"
   ]
  },
  {
   "cell_type": "code",
   "execution_count": 12,
   "id": "a274d77c-99e0-468e-ae5f-336b3b145473",
   "metadata": {},
   "outputs": [
    {
     "data": {
      "text/plain": [
       "['voice_capture_message', 'voice_command_command_description', 'tag_selected_type', 'tag_applied_type', 'tag_discarded_type']"
      ]
     },
     "execution_count": 12,
     "metadata": {},
     "output_type": "execute_result"
    }
   ],
   "source": [
    "\n",
    "# Investigate the presence of black\n",
    "srs = frvrs_logs_df.applymap(lambda x: 'black' in str(x).lower(), na_action='ignore').sum()\n",
    "columns_list = srs[srs != 0].index.tolist()\n",
    "columns_list"
   ]
  },
  {
   "cell_type": "code",
   "execution_count": 13,
   "id": "e9088738-51f3-4d6e-a66b-a6ab278f5819",
   "metadata": {},
   "outputs": [
    {
     "data": {
      "text/plain": [
       "['action_type', 'patient_demoted_sort', 'voice_capture_message', 'voice_command_message', 'voice_command_command_description', 'patient_record_sort', 's_a_l_t_wave_if_can_sort_command_text', 's_a_l_t_waved_sort_command_text', 'patient_engaged_sort']"
      ]
     },
     "execution_count": 13,
     "metadata": {},
     "output_type": "execute_result"
    }
   ],
   "source": [
    "\n",
    "# Investigate the presence of wave\n",
    "srs = frvrs_logs_df.applymap(lambda x: 'wave' in str(x).lower(), na_action='ignore').sum()\n",
    "columns_list = srs[srs != 0].index.tolist()\n",
    "columns_list"
   ]
  },
  {
   "cell_type": "markdown",
   "id": "808b5036-dd90-47f5-b512-6a312fb9fe92",
   "metadata": {},
   "source": [
    "\n",
    "#### Edge cases\n",
    "\n",
    "The worst-case scenario is displayed as the blue vertical bar at the far left of the histogram. The best-case scenario is a component of the right-most vertical bar."
   ]
  },
  {
   "cell_type": "code",
   "execution_count": 17,
   "id": "be5b2e20-f7e7-4f01-a51e-fe54e465be0f",
   "metadata": {},
   "outputs": [
    {
     "data": {
      "text/html": [
       "<div>\n",
       "<style scoped>\n",
       "    .dataframe tbody tr th:only-of-type {\n",
       "        vertical-align: middle;\n",
       "    }\n",
       "\n",
       "    .dataframe tbody tr th {\n",
       "        vertical-align: top;\n",
       "    }\n",
       "\n",
       "    .dataframe thead th {\n",
       "        text-align: right;\n",
       "    }\n",
       "</style>\n",
       "<table border=\"1\" class=\"dataframe\">\n",
       "  <thead>\n",
       "    <tr style=\"text-align: right;\">\n",
       "      <th></th>\n",
       "      <th>277</th>\n",
       "      <th>522</th>\n",
       "      <th>785</th>\n",
       "      <th>402</th>\n",
       "    </tr>\n",
       "  </thead>\n",
       "  <tbody>\n",
       "    <tr>\n",
       "      <th>logger_version</th>\n",
       "      <td>1.3</td>\n",
       "      <td>1.0</td>\n",
       "      <td>1.3</td>\n",
       "      <td>1.0</td>\n",
       "    </tr>\n",
       "    <tr>\n",
       "      <th>session_uuid</th>\n",
       "      <td>37ed31fb-6f8a-4cc0-b80e-ac4138e42405</td>\n",
       "      <td>741e494b-63ff-4ea2-ad88-657f2276045d</td>\n",
       "      <td>b5a82a5b-e259-4d87-bdb7-94f9cb1ce6ea</td>\n",
       "      <td>5dce5abe-7ded-46e7-8d07-b2e2cd76ef55</td>\n",
       "    </tr>\n",
       "    <tr>\n",
       "      <th>scene_id</th>\n",
       "      <td>2</td>\n",
       "      <td>1</td>\n",
       "      <td>1</td>\n",
       "      <td>1</td>\n",
       "    </tr>\n",
       "    <tr>\n",
       "      <th>last_threat_engaged</th>\n",
       "      <td>1005491.0</td>\n",
       "      <td>271506.0</td>\n",
       "      <td>279352.0</td>\n",
       "      <td>143073.0</td>\n",
       "    </tr>\n",
       "    <tr>\n",
       "      <th>last_walker_engaged</th>\n",
       "      <td>1005491.0</td>\n",
       "      <td>272859.0</td>\n",
       "      <td>283207.0</td>\n",
       "      <td>157464.0</td>\n",
       "    </tr>\n",
       "    <tr>\n",
       "      <th>rsquared_adj</th>\n",
       "      <td>1.0</td>\n",
       "      <td>1.0</td>\n",
       "      <td>1.0</td>\n",
       "      <td>1.0</td>\n",
       "    </tr>\n",
       "    <tr>\n",
       "      <th>last_still_engaged</th>\n",
       "      <td>530803.0</td>\n",
       "      <td>89570.0</td>\n",
       "      <td>48755.0</td>\n",
       "      <td>58727.0</td>\n",
       "    </tr>\n",
       "    <tr>\n",
       "      <th>last_waver_engaged</th>\n",
       "      <td>778433.0</td>\n",
       "      <td>108946.0</td>\n",
       "      <td>124270.0</td>\n",
       "      <td>116633.0</td>\n",
       "    </tr>\n",
       "    <tr>\n",
       "      <th>stills_finished_first</th>\n",
       "      <td>True</td>\n",
       "      <td>True</td>\n",
       "      <td>True</td>\n",
       "      <td>True</td>\n",
       "    </tr>\n",
       "  </tbody>\n",
       "</table>\n",
       "</div>"
      ],
      "text/plain": [
       "                                                        277  \\\n",
       "logger_version                                          1.3   \n",
       "session_uuid           37ed31fb-6f8a-4cc0-b80e-ac4138e42405   \n",
       "scene_id                                                2   \n",
       "last_threat_engaged                               1005491.0   \n",
       "last_walker_engaged                               1005491.0   \n",
       "rsquared_adj                                            1.0   \n",
       "last_still_engaged                                 530803.0   \n",
       "last_waver_engaged                                 778433.0   \n",
       "stills_finished_first                                  True   \n",
       "\n",
       "                                                        522  \\\n",
       "logger_version                                          1.0   \n",
       "session_uuid           741e494b-63ff-4ea2-ad88-657f2276045d   \n",
       "scene_id                                                1   \n",
       "last_threat_engaged                                271506.0   \n",
       "last_walker_engaged                                272859.0   \n",
       "rsquared_adj                                            1.0   \n",
       "last_still_engaged                                  89570.0   \n",
       "last_waver_engaged                                 108946.0   \n",
       "stills_finished_first                                  True   \n",
       "\n",
       "                                                        785  \\\n",
       "logger_version                                          1.3   \n",
       "session_uuid           b5a82a5b-e259-4d87-bdb7-94f9cb1ce6ea   \n",
       "scene_id                                                1   \n",
       "last_threat_engaged                                279352.0   \n",
       "last_walker_engaged                                283207.0   \n",
       "rsquared_adj                                            1.0   \n",
       "last_still_engaged                                  48755.0   \n",
       "last_waver_engaged                                 124270.0   \n",
       "stills_finished_first                                  True   \n",
       "\n",
       "                                                        402  \n",
       "logger_version                                          1.0  \n",
       "session_uuid           5dce5abe-7ded-46e7-8d07-b2e2cd76ef55  \n",
       "scene_id                                                1  \n",
       "last_threat_engaged                                143073.0  \n",
       "last_walker_engaged                                157464.0  \n",
       "rsquared_adj                                            1.0  \n",
       "last_still_engaged                                  58727.0  \n",
       "last_waver_engaged                                 116633.0  \n",
       "stills_finished_first                                  True  "
      ]
     },
     "metadata": {},
     "output_type": "display_data"
    }
   ],
   "source": [
    "\n",
    "# Display a sample of adjusted R-squared at its maximum, dropping columns with all NaN values and transposing it\n",
    "max_rsquared_adj = engagement_sort_df.rsquared_adj.max()\n",
    "mask_series = engagement_sort_df.rsquared_adj.isin([max_rsquared_adj])\n",
    "df = engagement_sort_df[mask_series]\n",
    "display(df.sample(min(4, df[mask_series].shape[0])).dropna(axis='columns', how='all').T)"
   ]
  },
  {
   "cell_type": "code",
   "execution_count": 18,
   "id": "747e5d36-db46-44a4-b542-dfcb4e65d5d2",
   "metadata": {},
   "outputs": [
    {
     "data": {
      "text/html": [
       "<div>\n",
       "<style scoped>\n",
       "    .dataframe tbody tr th:only-of-type {\n",
       "        vertical-align: middle;\n",
       "    }\n",
       "\n",
       "    .dataframe tbody tr th {\n",
       "        vertical-align: top;\n",
       "    }\n",
       "\n",
       "    .dataframe thead th {\n",
       "        text-align: right;\n",
       "    }\n",
       "</style>\n",
       "<table border=\"1\" class=\"dataframe\">\n",
       "  <thead>\n",
       "    <tr style=\"text-align: right;\">\n",
       "      <th></th>\n",
       "      <th>65</th>\n",
       "    </tr>\n",
       "  </thead>\n",
       "  <tbody>\n",
       "    <tr>\n",
       "      <th>logger_version</th>\n",
       "      <td>1.0</td>\n",
       "    </tr>\n",
       "    <tr>\n",
       "      <th>session_uuid</th>\n",
       "      <td>0b891add-e0c3-463d-948d-7f491f1d10ef</td>\n",
       "    </tr>\n",
       "    <tr>\n",
       "      <th>scene_id</th>\n",
       "      <td>4</td>\n",
       "    </tr>\n",
       "    <tr>\n",
       "      <th>last_threat_engaged</th>\n",
       "      <td>676501.0</td>\n",
       "    </tr>\n",
       "    <tr>\n",
       "      <th>last_walker_engaged</th>\n",
       "      <td>653151.0</td>\n",
       "    </tr>\n",
       "    <tr>\n",
       "      <th>rsquared_adj</th>\n",
       "      <td>-0.5</td>\n",
       "    </tr>\n",
       "    <tr>\n",
       "      <th>last_still_engaged</th>\n",
       "      <td>676501.0</td>\n",
       "    </tr>\n",
       "    <tr>\n",
       "      <th>last_waver_engaged</th>\n",
       "      <td>722393.0</td>\n",
       "    </tr>\n",
       "    <tr>\n",
       "      <th>stills_finished_first</th>\n",
       "      <td>False</td>\n",
       "    </tr>\n",
       "  </tbody>\n",
       "</table>\n",
       "</div>"
      ],
      "text/plain": [
       "                                                         65\n",
       "logger_version                                          1.0\n",
       "session_uuid           0b891add-e0c3-463d-948d-7f491f1d10ef\n",
       "scene_id                                                4\n",
       "last_threat_engaged                                676501.0\n",
       "last_walker_engaged                                653151.0\n",
       "rsquared_adj                                           -0.5\n",
       "last_still_engaged                                 676501.0\n",
       "last_waver_engaged                                 722393.0\n",
       "stills_finished_first                                 False"
      ]
     },
     "metadata": {},
     "output_type": "display_data"
    }
   ],
   "source": [
    "\n",
    "# Display a sample of adjusted R-squared at its minimum, dropping columns with all NaN values and transposing it\n",
    "min_rsquared_adj = engagement_sort_df.rsquared_adj.min()\n",
    "mask_series = engagement_sort_df.rsquared_adj.isin([min_rsquared_adj])\n",
    "df = engagement_sort_df[mask_series]\n",
    "display(df.sample(min(4, df[mask_series].shape[0])).dropna(axis='columns', how='all').T)"
   ]
  },
  {
   "cell_type": "code",
   "execution_count": 19,
   "id": "270cacad-1722-465d-9d31-547f06c440ce",
   "metadata": {},
   "outputs": [
    {
     "name": "stdout",
     "output_type": "stream",
     "text": [
      "ideal_sequence = [88520, 54614, 102065]\n",
      "actual_sequence = [54614, 88520, 102065]\n",
      "rsquared_adj = -0.9971283921806686\n"
     ]
    }
   ],
   "source": [
    "\n",
    "# In the worse-case scenario, the responder was supposed to engage the waver first, then the two walkers\n",
    "# Instead, they engaged one of the walkers, then a waver, then the other walker\n",
    "session_uuid = '274ce308-c366-4829-b9cc-d535b51d16d3'\n",
    "scene_id = 1\n",
    "engaged_sort_dict = {'walker': [54614, 102065], 'waver': [88520]}\n",
    "ideal_sequence = []\n",
    "for sort in ['still', 'waver', 'walker']: ideal_sequence.extend(engaged_sort_dict.get(sort, []))\n",
    "ideal_sequence = Series(data=ideal_sequence)\n",
    "actual_sequence = ideal_sequence.sort_values(ascending=True)\n",
    "print(f'ideal_sequence = {ideal_sequence.tolist()}\\nactual_sequence = {actual_sequence.tolist()}')\n",
    "X, y = ideal_sequence.values.reshape(-1, 1), actual_sequence.values.reshape(-1, 1)\n",
    "X1 = sm.add_constant(X)\n",
    "try: rsquared_adj = sm.OLS(y, X1).fit().rsquared_adj\n",
    "except: rsquared_adj = nan\n",
    "print(f'rsquared_adj = {rsquared_adj}')"
   ]
  },
  {
   "cell_type": "code",
   "execution_count": 20,
   "id": "b087d88b-b194-424c-bb32-a0d4d3b8cacf",
   "metadata": {},
   "outputs": [
    {
     "name": "stdout",
     "output_type": "stream",
     "text": [
      "ideal_sequence = [56434, 108854, 164294, 195562, 208187, 210397, 211747, 212450, 212649]\n",
      "actual_sequence = [56434, 108854, 164294, 195562, 208187, 210397, 211747, 212450, 212649]\n",
      "rsquared_adj = 1.0\n"
     ]
    }
   ],
   "source": [
    "\n",
    "# In the best-case scenario, the responder was supposed to engage the still first, then the waver, then the walkers\n",
    "# They executed this in the correct sequence\n",
    "session_uuid = '7de52180-d823-4f9e-9003-aeab8139970b'\n",
    "scene_id = 1\n",
    "engaged_sort_dict = {'still': [56434], 'walker': [164294, 195562, 208187, 210397, 211747, 212450, 212649], 'waver': [108854]}\n",
    "ideal_sequence = []\n",
    "for sort in ['still', 'waver', 'walker']: ideal_sequence.extend(engaged_sort_dict.get(sort, []))\n",
    "ideal_sequence = Series(data=ideal_sequence)\n",
    "actual_sequence = ideal_sequence.sort_values(ascending=True)\n",
    "print(f'ideal_sequence = {ideal_sequence.tolist()}\\nactual_sequence = {actual_sequence.tolist()}')\n",
    "X, y = ideal_sequence.values.reshape(-1, 1), actual_sequence.values.reshape(-1, 1)\n",
    "X1 = sm.add_constant(X)\n",
    "try: rsquared_adj = sm.OLS(y, X1).fit().rsquared_adj\n",
    "except: rsquared_adj = nan\n",
    "print(f'rsquared_adj = {rsquared_adj}')"
   ]
  },
  {
   "cell_type": "markdown",
   "id": "a0a8ff25-2d3c-4206-98cc-fc6bde4bf51d",
   "metadata": {},
   "source": [
    "\n",
    "### Stills Finished First"
   ]
  },
  {
   "cell_type": "code",
   "execution_count": 21,
   "id": "344cf92c-550c-498c-821f-4aec4daf6576",
   "metadata": {},
   "outputs": [
    {
     "data": {
      "text/html": [
       "<div>\n",
       "<style scoped>\n",
       "    .dataframe tbody tr th:only-of-type {\n",
       "        vertical-align: middle;\n",
       "    }\n",
       "\n",
       "    .dataframe tbody tr th {\n",
       "        vertical-align: top;\n",
       "    }\n",
       "\n",
       "    .dataframe thead th {\n",
       "        text-align: right;\n",
       "    }\n",
       "</style>\n",
       "<table border=\"1\" class=\"dataframe\">\n",
       "  <thead>\n",
       "    <tr style=\"text-align: right;\">\n",
       "      <th></th>\n",
       "      <th>862</th>\n",
       "      <th>731</th>\n",
       "      <th>466</th>\n",
       "      <th>783</th>\n",
       "    </tr>\n",
       "  </thead>\n",
       "  <tbody>\n",
       "    <tr>\n",
       "      <th>logger_version</th>\n",
       "      <td>1.0</td>\n",
       "      <td>1.0</td>\n",
       "      <td>1.0</td>\n",
       "      <td>1.3</td>\n",
       "    </tr>\n",
       "    <tr>\n",
       "      <th>session_uuid</th>\n",
       "      <td>cf953248-e6cf-4544-95ce-4843d0f56f10</td>\n",
       "      <td>ab1f8cd1-8d65-45da-b087-89b25ff46c66</td>\n",
       "      <td>693461dd-b8f6-4c60-92b6-bd1db0ffcac8</td>\n",
       "      <td>b541f5c9-93fe-4ef3-9fe7-38493b8aa8a8</td>\n",
       "    </tr>\n",
       "    <tr>\n",
       "      <th>scene_id</th>\n",
       "      <td>2</td>\n",
       "      <td>1</td>\n",
       "      <td>1</td>\n",
       "      <td>2</td>\n",
       "    </tr>\n",
       "    <tr>\n",
       "      <th>last_threat_engaged</th>\n",
       "      <td>822747.0</td>\n",
       "      <td>748245.0</td>\n",
       "      <td>447319.0</td>\n",
       "      <td>712932.0</td>\n",
       "    </tr>\n",
       "    <tr>\n",
       "      <th>last_walker_engaged</th>\n",
       "      <td>770516.0</td>\n",
       "      <td>613587.0</td>\n",
       "      <td>392835.0</td>\n",
       "      <td>681491.0</td>\n",
       "    </tr>\n",
       "    <tr>\n",
       "      <th>rsquared_adj</th>\n",
       "      <td>0.516312</td>\n",
       "      <td>0.058678</td>\n",
       "      <td>0.180085</td>\n",
       "      <td>0.446786</td>\n",
       "    </tr>\n",
       "    <tr>\n",
       "      <th>last_still_engaged</th>\n",
       "      <td>822747.0</td>\n",
       "      <td>748245.0</td>\n",
       "      <td>447319.0</td>\n",
       "      <td>712932.0</td>\n",
       "    </tr>\n",
       "    <tr>\n",
       "      <th>last_waver_engaged</th>\n",
       "      <td>835218.0</td>\n",
       "      <td>735900.0</td>\n",
       "      <td>301317.0</td>\n",
       "      <td>570074.0</td>\n",
       "    </tr>\n",
       "    <tr>\n",
       "      <th>stills_finished_first</th>\n",
       "      <td>False</td>\n",
       "      <td>False</td>\n",
       "      <td>False</td>\n",
       "      <td>False</td>\n",
       "    </tr>\n",
       "  </tbody>\n",
       "</table>\n",
       "</div>"
      ],
      "text/plain": [
       "                                                        862  \\\n",
       "logger_version                                          1.0   \n",
       "session_uuid           cf953248-e6cf-4544-95ce-4843d0f56f10   \n",
       "scene_id                                                2   \n",
       "last_threat_engaged                                822747.0   \n",
       "last_walker_engaged                                770516.0   \n",
       "rsquared_adj                                       0.516312   \n",
       "last_still_engaged                                 822747.0   \n",
       "last_waver_engaged                                 835218.0   \n",
       "stills_finished_first                                 False   \n",
       "\n",
       "                                                        731  \\\n",
       "logger_version                                          1.0   \n",
       "session_uuid           ab1f8cd1-8d65-45da-b087-89b25ff46c66   \n",
       "scene_id                                                1   \n",
       "last_threat_engaged                                748245.0   \n",
       "last_walker_engaged                                613587.0   \n",
       "rsquared_adj                                       0.058678   \n",
       "last_still_engaged                                 748245.0   \n",
       "last_waver_engaged                                 735900.0   \n",
       "stills_finished_first                                 False   \n",
       "\n",
       "                                                        466  \\\n",
       "logger_version                                          1.0   \n",
       "session_uuid           693461dd-b8f6-4c60-92b6-bd1db0ffcac8   \n",
       "scene_id                                                1   \n",
       "last_threat_engaged                                447319.0   \n",
       "last_walker_engaged                                392835.0   \n",
       "rsquared_adj                                       0.180085   \n",
       "last_still_engaged                                 447319.0   \n",
       "last_waver_engaged                                 301317.0   \n",
       "stills_finished_first                                 False   \n",
       "\n",
       "                                                        783  \n",
       "logger_version                                          1.3  \n",
       "session_uuid           b541f5c9-93fe-4ef3-9fe7-38493b8aa8a8  \n",
       "scene_id                                                2  \n",
       "last_threat_engaged                                712932.0  \n",
       "last_walker_engaged                                681491.0  \n",
       "rsquared_adj                                       0.446786  \n",
       "last_still_engaged                                 712932.0  \n",
       "last_waver_engaged                                 570074.0  \n",
       "stills_finished_first                                 False  "
      ]
     },
     "metadata": {},
     "output_type": "display_data"
    }
   ],
   "source": [
    "\n",
    "# Verify that the stills were finished first\n",
    "f = lambda df: df.last_still_engaged == min(df.last_still_engaged, df.last_walker_engaged, df.last_waver_engaged)\n",
    "engagement_sort_df['stills_finished_first'] = engagement_sort_df.apply(f, axis='columns')\n",
    "\n",
    "# Create a mask where any of the last engaged columns are NaN and set the stills finished first column to NaN if true\n",
    "columns_list = ['last_still_engaged', 'last_walker_engaged', 'last_waver_engaged']\n",
    "mask_series = engagement_sort_df[columns_list].isnull().any(axis='columns')\n",
    "engagement_sort_df.loc[mask_series, 'stills_finished_first'] = nan\n",
    "\n",
    "mask_series = (engagement_sort_df.stills_finished_first == False)\n",
    "df = engagement_sort_df[mask_series]\n",
    "display(df.sample(min(4, df[mask_series].shape[0])).dropna(axis='columns', how='all').T)"
   ]
  },
  {
   "cell_type": "code",
   "execution_count": 25,
   "id": "a8ac18ca-4381-499a-8d59-81a44331d604",
   "metadata": {},
   "outputs": [
    {
     "data": {
      "text/plain": [
       "are you hurt anywhere else                     16\n",
       "do you have any other injuries                 13\n",
       "if you can hear me wave your hand               9\n",
       "are you hurting anywhere else                   7\n",
       "anybody that can wave wave                      6\n",
       "have you heard anywhere else                    5\n",
       "sir can you tell me your name                   5\n",
       "if you can hear my voice I want you to wave     4\n",
       "if you can hear my voice wave                   4\n",
       "are you injured anywhere else                   4\n",
       "Name: voice_capture_message, dtype: int64"
      ]
     },
     "execution_count": 25,
     "metadata": {},
     "output_type": "execute_result"
    }
   ],
   "source": [
    "\n",
    "cn = 'voice_capture_message'\n",
    "mask_series = frvrs_logs_df[cn].isnull()\n",
    "# sorted([vc for vc in frvrs_logs_df[~mask_series][cn]], key=lambda x: len(x))[-10:]\n",
    "srs = frvrs_logs_df[~mask_series][cn].value_counts()\n",
    "mask_series = srs.index.map(lambda x: len(x) > 25)\n",
    "srs[mask_series].head(10)"
   ]
  },
  {
   "cell_type": "code",
   "execution_count": null,
   "id": "769bfcba-6ea3-42bf-948c-15fe3fb1ecef",
   "metadata": {},
   "outputs": [],
   "source": []
  }
 ],
 "metadata": {
  "kernelspec": {
   "display_name": "ITM Analysis Reporting (Python 3.11.7)",
   "language": "python",
   "name": "itm_analysis_reporting"
  },
  "language_info": {
   "codemirror_mode": {
    "name": "ipython",
    "version": 3
   },
   "file_extension": ".py",
   "mimetype": "text/x-python",
   "name": "python",
   "nbconvert_exporter": "python",
   "pygments_lexer": "ipython3",
   "version": "3.7.12"
  }
 },
 "nbformat": 4,
 "nbformat_minor": 5
}
