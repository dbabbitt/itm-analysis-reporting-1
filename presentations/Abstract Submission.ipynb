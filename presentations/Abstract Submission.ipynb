{
 "cells": [
  {
   "cell_type": "code",
   "execution_count": 1,
   "id": "476d4fdc-b4dd-4aa4-b68b-b2b07e571c3e",
   "metadata": {},
   "outputs": [
    {
     "name": "stdout",
     "output_type": "stream",
     "text": [
      "Pretty printing has been turned OFF\n"
     ]
    }
   ],
   "source": [
    "\n",
    "%pprint\n",
    "import sys\n",
    "if (osp.join(os.pardir, 'py') not in sys.path): sys.path.insert(1, osp.join(os.pardir, 'py'))"
   ]
  },
  {
   "cell_type": "code",
   "execution_count": 2,
   "id": "ac308bc4-57d3-4be0-b837-5738fff89be2",
   "metadata": {},
   "outputs": [],
   "source": [
    "\n",
    "from FRVRS import (nu, fu, osp, DataFrame, np)\n",
    "from datetime import timedelta\n",
    "import os"
   ]
  },
  {
   "cell_type": "code",
   "execution_count": 8,
   "id": "94d1f495-529c-48f7-af8d-d7d40941488b",
   "metadata": {},
   "outputs": [
    {
     "name": "stdout",
     "output_type": "stream",
     "text": [
      "Attempting to load /mnt/c/Users/DaveBabbitt/Documents/GitHub/itm-analysis-reporting/saves/pkl/frvrs_logs_df.pkl.\n",
      "Can't get attribute '_unpickle_block' on <module 'pandas._libs.internals' from '/home/dbabbitt/anaconda3/envs/itm_analysis_reporting/lib/python3.7/site-packages/pandas/_libs/internals.cpython-37m-x86_64-linux-gnu.so'>\n",
      "No pickle exists for frvrs_logs_df - attempting to load /mnt/c/Users/DaveBabbitt/Documents/GitHub/itm-analysis-reporting/saves/csv/frvrs_logs_df.csv.\n",
      "(829116, 113)\n"
     ]
    }
   ],
   "source": [
    "\n",
    "# Get all CSVs into one data frame\n",
    "frvrs_logs_df = nu.load_data_frames(frvrs_logs_df='frvrs_logs_df')['frvrs_logs_df']\n",
    "print(frvrs_logs_df.shape) # (829277, 114)"
   ]
  },
  {
   "cell_type": "markdown",
   "id": "14dee133-7776-473c-94c3-c24d95d037f4",
   "metadata": {},
   "source": [
    "\n",
    "## Abstract Final Actions"
   ]
  },
  {
   "cell_type": "markdown",
   "id": "caa97255-f05c-48e3-8bee-949e3f80276a",
   "metadata": {},
   "source": [
    "\n",
    "### Median \"triage accuracy\" across participants as \"correctly tagged patients divided by 11\"\n",
    "\n",
    "I'm assuming the denominator here is 11 taggable patients. If not, then it should be the total amount of patients that can be taggable in the scene. So then the definition is as follows: median \"triage accuracy\" across participants as \"correctly tagged patients divided by the total amount of patients that can be treated in the scene\". I think it should be 11 given what Nick has been saying and that's also how they do the post-review report."
   ]
  },
  {
   "cell_type": "code",
   "execution_count": 5,
   "id": "37d530ef-0120-486b-96b1-1deef8155316",
   "metadata": {},
   "outputs": [
    {
     "name": "stdout",
     "output_type": "stream",
     "text": [
      "The average \"triage accuracy\" across participants is 72.8%\n",
      "The median number of correct taggings is 8.0.\n"
     ]
    },
    {
     "data": {
      "image/png": "[encoded data removed]",
      "text/plain": [
       "<Figure size 640x480 with 1 Axes>"
      ]
     },
     "metadata": {},
     "output_type": "display_data"
    }
   ],
   "source": [
    "\n",
    "# Filter out the non-aborted triage scenes in each one-per-file file\n",
    "tag_to_salt_df = nu.load_object('tag_to_salt_df')\n",
    "base_mask_series = (tag_to_salt_df.scene_type == 'Triage') & (tag_to_salt_df.is_scene_aborted == False)\n",
    "base_mask_series &= (tag_to_salt_df.is_a_one_triage_file == True)\n",
    "\n",
    "df = tag_to_salt_df[base_mask_series].groupby(\n",
    "    fu.scene_groupby_columns + ['is_tag_correct']\n",
    ").count().patient_id.reset_index(drop=False).rename(columns={'patient_id': 'tagged_count'})\n",
    "mask_series = (df.is_tag_correct == True)\n",
    "ave_triage_accuracy = 100 * df[mask_series].tagged_count.mean() / 11\n",
    "\n",
    "# The average \"triage accuracy\" across participants is 72.8%\n",
    "print(f'The average \"triage accuracy\" across participants is {ave_triage_accuracy:.01f}%')\n",
    "print(f'The median number of correct taggings is {df[mask_series].tagged_count.median()}.') # The median number of correct taggings is 8.0.\n",
    "df[mask_series].tagged_count.hist();"
   ]
  },
  {
   "cell_type": "markdown",
   "id": "f66eda8c-eb29-47d7-ac50-44e062c6ad89",
   "metadata": {},
   "source": [
    "\n",
    "1.  **Create new sample with clear count of responders and provide final number of responders here: The total number of responders in this data set was as follows: <u data-renderer-mark=\"true\">362</u>**\n",
    "\n",
    "    1.  Exclude training session and aborted session CSV files from dataset\n",
    "\n",
    "    2.  Exclude CSV files with more than one triage run"
   ]
  },
  {
   "cell_type": "markdown",
   "id": "812ac58d-9918-49ab-8f17-a45c61a1bf7c",
   "metadata": {},
   "source": [
    "\n",
    "2.  **Take the newly created data set and compute the following statistics:**"
   ]
  },
  {
   "cell_type": "markdown",
   "id": "5efb2fd3-3523-428f-a3cf-f430e515d6a0",
   "metadata": {},
   "source": [
    "\n",
    "    a.  Calculate triage time defined as “time start of session until time end of session”\n",
    "\n",
    "        Median = 7:36, SD = ±2:27, IQR = (6:13, 8:59)"
   ]
  },
  {
   "cell_type": "code",
   "execution_count": 7,
   "id": "6079d47e-8e18-4f86-a13e-66571ab1d942",
   "metadata": {},
   "outputs": [
    {
     "data": {
      "text/html": [
       "<div>\n",
       "<style scoped>\n",
       "    .dataframe tbody tr th:only-of-type {\n",
       "        vertical-align: middle;\n",
       "    }\n",
       "\n",
       "    .dataframe tbody tr th {\n",
       "        vertical-align: top;\n",
       "    }\n",
       "\n",
       "    .dataframe thead th {\n",
       "        text-align: right;\n",
       "    }\n",
       "</style>\n",
       "<table border=\"1\" class=\"dataframe\">\n",
       "  <thead>\n",
       "    <tr style=\"text-align: right;\">\n",
       "      <th></th>\n",
       "      <th>mean</th>\n",
       "      <th>mode</th>\n",
       "      <th>median</th>\n",
       "      <th>SD</th>\n",
       "      <th>min</th>\n",
       "      <th>25%</th>\n",
       "      <th>50%</th>\n",
       "      <th>75%</th>\n",
       "      <th>max</th>\n",
       "    </tr>\n",
       "  </thead>\n",
       "  <tbody>\n",
       "    <tr>\n",
       "      <th>triage_time</th>\n",
       "      <td>7:36</td>\n",
       "      <td>10:22</td>\n",
       "      <td>7:38</td>\n",
       "      <td>±2:27</td>\n",
       "      <td>11 sec</td>\n",
       "      <td>6:13</td>\n",
       "      <td>7:38</td>\n",
       "      <td>8:59</td>\n",
       "      <td>15:52</td>\n",
       "    </tr>\n",
       "  </tbody>\n",
       "</table>\n",
       "</div>"
      ],
      "text/plain": [
       "             mean   mode median     SD     min   25%   50%   75%    max\n",
       "triage_time  7:36  10:22   7:38  ±2:27  11 sec  6:13  7:38  8:59  15:52"
      ]
     },
     "metadata": {},
     "output_type": "display_data"
    }
   ],
   "source": [
    "\n",
    "# Get the run's entire history\n",
    "rows_list = []\n",
    "for (session_uuid, scene_id), scene_df in frvrs_logs_df[base_mask_series].groupby(fu.scene_groupby_columns):\n",
    "    row_dict = {}\n",
    "    for cn in fu.scene_groupby_columns: row_dict[cn] = eval(cn)\n",
    "    time_start = fu.get_scene_start(scene_df)\n",
    "    row_dict['time_start'] = time_start\n",
    "    time_stop = fu.get_scene_end(scene_df)\n",
    "    row_dict['time_stop'] = time_stop\n",
    "    row_dict['triage_time'] = time_stop - time_start\n",
    "    rows_list.append(row_dict)\n",
    "run_time_df = DataFrame(rows_list)\n",
    "fu.show_time_statistics(run_time_df, ['triage_time'])"
   ]
  },
  {
   "cell_type": "markdown",
   "id": "603e556a-1ae7-4c9d-aad0-a90f3a5166eb",
   "metadata": {},
   "source": [
    "\n",
    "    b.  Calculate time to hemorrhage control for scene defined as “time of start scene to time last hemorrhage control (last tourniquet applied)”\n",
    "\n",
    "        Median = 4:54, SD = ±1:48, IQR = (3:57, 6:08)"
   ]
  },
  {
   "cell_type": "code",
   "execution_count": 10,
   "id": "c71d2d98-b597-469a-8c8a-44eb92c66383",
   "metadata": {},
   "outputs": [],
   "source": [
    "\n",
    "# Get the total and bleeder scene count\n",
    "scene_mask_series = base_mask_series & frvrs_logs_df.injury_treated_required_procedure.isin(['tourniquet', 'woundpack'])\n",
    "scene_mask_series &= ~frvrs_logs_df.patient_record_salt.isin(['DEAD', 'EXPECTANT'])"
   ]
  },
  {
   "cell_type": "code",
   "execution_count": 11,
   "id": "f27daac9-61c6-464d-805f-ba8117903b8a",
   "metadata": {},
   "outputs": [
    {
     "data": {
      "text/html": [
       "<div>\n",
       "<style scoped>\n",
       "    .dataframe tbody tr th:only-of-type {\n",
       "        vertical-align: middle;\n",
       "    }\n",
       "\n",
       "    .dataframe tbody tr th {\n",
       "        vertical-align: top;\n",
       "    }\n",
       "\n",
       "    .dataframe thead th {\n",
       "        text-align: right;\n",
       "    }\n",
       "</style>\n",
       "<table border=\"1\" class=\"dataframe\">\n",
       "  <thead>\n",
       "    <tr style=\"text-align: right;\">\n",
       "      <th></th>\n",
       "      <th>mean</th>\n",
       "      <th>mode</th>\n",
       "      <th>median</th>\n",
       "      <th>SD</th>\n",
       "      <th>min</th>\n",
       "      <th>25%</th>\n",
       "      <th>50%</th>\n",
       "      <th>75%</th>\n",
       "      <th>max</th>\n",
       "    </tr>\n",
       "  </thead>\n",
       "  <tbody>\n",
       "    <tr>\n",
       "      <th>control_delta</th>\n",
       "      <td>5 min</td>\n",
       "      <td>5:38</td>\n",
       "      <td>4:54</td>\n",
       "      <td>±1:40</td>\n",
       "      <td>46 sec</td>\n",
       "      <td>3:56</td>\n",
       "      <td>4:54</td>\n",
       "      <td>6:08</td>\n",
       "      <td>12:14</td>\n",
       "    </tr>\n",
       "  </tbody>\n",
       "</table>\n",
       "</div>"
      ],
      "text/plain": [
       "                mean  mode median     SD     min   25%   50%   75%    max\n",
       "control_delta  5 min  5:38   4:54  ±1:40  46 sec  3:56  4:54  6:08  12:14"
      ]
     },
     "metadata": {},
     "output_type": "display_data"
    }
   ],
   "source": [
    "\n",
    "# Iterate through each patient in each run in each file\n",
    "rows_list = []\n",
    "for (session_uuid, scene_id), _ in frvrs_logs_df[scene_mask_series].groupby(fu.scene_groupby_columns):\n",
    "    \n",
    "    # Get the entire history of this scene for the run start\n",
    "    mask_series = True\n",
    "    for cn in fu.scene_groupby_columns: mask_series &= (frvrs_logs_df[cn] == eval(cn))\n",
    "    scene_df = frvrs_logs_df[mask_series]\n",
    "    time_start = fu.get_scene_start(scene_df)\n",
    "    \n",
    "    for patient_id, patient_df in scene_df.groupby('patient_id'):\n",
    "        patient_mask_series = patient_df.injury_treated_required_procedure.isin(['tourniquet', 'woundpack'])\n",
    "        patient_mask_series &= ~patient_df.patient_record_salt.isin(['DEAD', 'EXPECTANT'])\n",
    "        if patient_df[patient_mask_series].shape[0]:\n",
    "            row_dict = {}\n",
    "            for cn in fu.patient_groupby_columns: row_dict[cn] = eval(cn)\n",
    "            row_dict['scene_start_time'] = time_start\n",
    "            mask_series = patient_df.tool_applied_attach_message.isin(['AppliedTourniquet', 'AppliedPackingGauze'])\n",
    "            control_start = patient_df[mask_series].action_tick.min()\n",
    "            row_dict['control_start_time'] = control_start\n",
    "            row_dict['control_delta'] = control_start - time_start\n",
    "            rows_list.append(row_dict)\n",
    "\n",
    "run_control_time_df = DataFrame(rows_list)\n",
    "df = run_control_time_df.groupby(fu.scene_groupby_columns).max()\n",
    "\n",
    "# \tmean\tmode\tmedian\tSD\tmin\t25%\t50%\t75%\tmax\n",
    "# control_delta\t5 min\t5:38\t4:54\t±1:40\t46 sec\t3:56\t4:54\t6:08\t12:14\n",
    "fu.show_time_statistics(df, ['control_delta'])"
   ]
  },
  {
   "cell_type": "markdown",
   "id": "000c8840-669c-4562-b876-798f0159e4f7",
   "metadata": {},
   "source": [
    "\n",
    "    c.  Calculate hemorrhage control per patient defined as “time patient engaged to time tool applied (tourniquet) for that patient”\n",
    "\n",
    "        1.  Median = 14 sec, SD = ±28 sec, IQR = 9 sec, 23 sec)"
   ]
  },
  {
   "cell_type": "code",
   "execution_count": 12,
   "id": "bf9ca0d2-011f-4288-aa1d-07775c6392d5",
   "metadata": {},
   "outputs": [
    {
     "data": {
      "text/html": [
       "<div>\n",
       "<style scoped>\n",
       "    .dataframe tbody tr th:only-of-type {\n",
       "        vertical-align: middle;\n",
       "    }\n",
       "\n",
       "    .dataframe tbody tr th {\n",
       "        vertical-align: top;\n",
       "    }\n",
       "\n",
       "    .dataframe thead th {\n",
       "        text-align: right;\n",
       "    }\n",
       "</style>\n",
       "<table border=\"1\" class=\"dataframe\">\n",
       "  <thead>\n",
       "    <tr style=\"text-align: right;\">\n",
       "      <th></th>\n",
       "      <th>mean</th>\n",
       "      <th>mode</th>\n",
       "      <th>median</th>\n",
       "      <th>SD</th>\n",
       "      <th>min</th>\n",
       "      <th>25%</th>\n",
       "      <th>50%</th>\n",
       "      <th>75%</th>\n",
       "      <th>max</th>\n",
       "    </tr>\n",
       "  </thead>\n",
       "  <tbody>\n",
       "    <tr>\n",
       "      <th>control_delta</th>\n",
       "      <td>23 sec</td>\n",
       "      <td>0 sec</td>\n",
       "      <td>14 sec</td>\n",
       "      <td>±26 sec</td>\n",
       "      <td>0 sec</td>\n",
       "      <td>9 sec</td>\n",
       "      <td>14 sec</td>\n",
       "      <td>22 sec</td>\n",
       "      <td>3:07</td>\n",
       "    </tr>\n",
       "  </tbody>\n",
       "</table>\n",
       "</div>"
      ],
      "text/plain": [
       "                 mean   mode  median       SD    min    25%     50%     75%  \\\n",
       "control_delta  23 sec  0 sec  14 sec  ±26 sec  0 sec  9 sec  14 sec  22 sec   \n",
       "\n",
       "                max  \n",
       "control_delta  3:07  "
      ]
     },
     "metadata": {},
     "output_type": "display_data"
    }
   ],
   "source": [
    "\n",
    "# Iterate through each patient in each run in each file\n",
    "rows_list = []\n",
    "for (session_uuid, scene_id, patient_id), _ in frvrs_logs_df[scene_mask_series].groupby(fu.patient_groupby_columns):\n",
    "    \n",
    "    # Get the entire history of this patient for the engagement start\n",
    "    mask_series = True\n",
    "    for cn in fu.patient_groupby_columns: mask_series &= (frvrs_logs_df[cn] == eval(cn))\n",
    "    patient_df = frvrs_logs_df[mask_series]\n",
    "\n",
    "    # Use the first interaction as the \"time patient engaged\"\n",
    "    time_start = fu.get_first_patient_interaction(patient_df)\n",
    "    \n",
    "    row_dict = {}\n",
    "    for cn in fu.patient_groupby_columns: row_dict[cn] = eval(cn)\n",
    "    row_dict['engagement_start_time'] = time_start\n",
    "    mask_series = patient_df.tool_applied_attach_message.isin(['AppliedTourniquet', 'AppliedPackingGauze'])\n",
    "    control_start = patient_df[mask_series].action_tick.max()\n",
    "    row_dict['control_start_time'] = control_start\n",
    "    row_dict['control_delta'] = control_start - time_start\n",
    "    rows_list.append(row_dict)\n",
    "\n",
    "engagement_control_time_df = DataFrame(rows_list)\n",
    "columns_list = ['control_delta']\n",
    "df = engagement_control_time_df.groupby(fu.scene_groupby_columns)[columns_list].mean()\n",
    "\n",
    "# \tmean\tmode\tmedian\tSD\tmin\t25%\t50%\t75%\tmax\n",
    "# control_delta\t23 sec\t0 sec\t14 sec\t±26 sec\t0 sec\t9 sec\t14 sec\t22 sec\t3:07\n",
    "fu.show_time_statistics(df, columns_list)"
   ]
  },
  {
   "cell_type": "markdown",
   "id": "fcd6790b-00ba-41df-8faa-dd62dce68a85",
   "metadata": {},
   "source": [
    "\n",
    "3.  **Calculate the proportion of responders that consistently evaluated patients appropriately in this order: still, able to wave, and able to walk.**\n",
    "\n",
    "    a.  Responders who evaluated patients in correct order: **<u data-renderer-mark=\"true\">16.15%</u>**"
   ]
  },
  {
   "cell_type": "code",
   "execution_count": null,
   "id": "f6d0af27-d68d-445a-a570-966fe8f5eaec",
   "metadata": {},
   "outputs": [],
   "source": [
    "\n",
    "engagement_sort_df = nu.load_object('engagement_sort_df')\n",
    "\n",
    "# Get the percentage tag correct counts for each scene for each group\n",
    "percentage_correct_sort_df = fu.get_percentage_tag_correct_dataframe(engagement_sort_df[base_mask_series], groupby_column='logger_version')"
   ]
  },
  {
   "cell_type": "code",
   "execution_count": 6,
   "id": "77ebdf14-ecdc-4f24-bf4c-70f1443c9fcb",
   "metadata": {},
   "outputs": [
    {
     "name": "stdout",
     "output_type": "stream",
     "text": [
      "OSU has cleaned/revised the files. The most common problem was that we previously only had one \"Gary\" as our training so many of these had a \"Gary\" and then the triage run. (I am keying on \"Mike\" to exclude the training sessions.) At any rate, it was easier for them to just delete the \"Gary\" training session from the files. \n",
      "\n",
      "There were a few where OSU could not figure out what was going on, so they just deleted them. It is not worth it to fuss with them since we have plenty of data. (OSU noted these in the spreadsheet.)\n",
      "\n",
      "Excluding training and aborted runs from the dataset, the total number of responders in this data set after the OSU revision of the double-triaged files is now 389 (assuming responders are represented in one and only one file with one training run in it).\n"
     ]
    }
   ],
   "source": [
    "\n",
    "# Loop through each unique file combination\n",
    "responders_count = sum([fu.get_is_a_one_triage_file(file_name_df) for file_name, file_name_df in frvrs_logs_df.groupby('file_name')])\n",
    "\n",
    "# Infer the number of responders from the files with one triage scene\n",
    "print(\n",
    "    '''OSU has cleaned/revised the files. The most common problem was that we previously only had one \"Gary\" as our training so many of these had a \"Gary\" and'''\n",
    "    ''' then the triage run. (I am keying on \"Mike\" to exclude the training sessions.) At any rate, it was easier for them to just delete the \"Gary\" training'''\n",
    "    ''' session from the files. \n",
    "\n",
    "There were a few where OSU could not figure out what was going on, so they just deleted them. It is not worth it to fuss with them since we have plenty of data.'''\n",
    "    ''' (OSU noted these in the spreadsheet.)''')\n",
    "print(\n",
    "    '\\nExcluding training and aborted runs from the dataset, the total number of responders in this data set after the'\n",
    "    f' OSU revision of the double-triaged files is now {responders_count}'\n",
    "    ' (assuming responders are represented in one and only one file with one training run in it).'\n",
    ")"
   ]
  },
  {
   "cell_type": "code",
   "execution_count": 14,
   "id": "e7208a4b-9076-47e8-a714-a8da4ef8a545",
   "metadata": {},
   "outputs": [
    {
     "name": "stdout",
     "output_type": "stream",
     "text": [
      "Responders who evaluated patients in correct order: 16.15% (100*52/322; 67 of the 389 did not have patients with patient_engaged_sort designations).\n"
     ]
    }
   ],
   "source": [
    "\n",
    "ave_percentage_correct = percentage_correct_sort_df.percentage_correct.mean()#, 100*df.count_correct.sum()/df.total_count.sum()\n",
    "print(\n",
    "    f'Responders who evaluated patients in correct order: {ave_percentage_correct:.2f}%'\n",
    "    f' (100*{percentage_correct_sort_df.count_correct.sum()}/{percentage_correct_sort_df.total_count.sum()};'\n",
    "    f' {responders_count-percentage_correct_sort_df.total_count.sum()}'\n",
    "    f' of the {responders_count} did not have patients with patient_engaged_sort designations).'\n",
    "    )"
   ]
  },
  {
   "cell_type": "markdown",
   "id": "ec4398be-2140-4821-9c30-3d408255f85c",
   "metadata": {},
   "source": [
    "\n",
    "## Abstract Edits"
   ]
  },
  {
   "cell_type": "code",
   "execution_count": 18,
   "id": "01d9ddcc-9f60-4a4f-aed5-4175e451597f",
   "metadata": {},
   "outputs": [
    {
     "name": "stdout",
     "output_type": "stream",
     "text": [
      "RESULTS: A total of 389 participants triaged an average of 11 patients each in the VR First Responder simulation. Median total time to triage the scene was 7:38 (SD = 2:27, IQR = 6:13, 8:59). Through their sorting process, 16% of clinicians consistently evaluated patients appropriately in this order: still, able to wave, and able to walk. Median time to life-threatening hemorrhage control was 4:54 (SD = 1:48, IQR = 3:57, 6:08). Median time for hemorrhage control per patient was low at 14 seconds (SD = 28 seconds, IQR = 9 seconds, 23 seconds).\n"
     ]
    }
   ],
   "source": [
    "\n",
    "mask_series = (frvrs_logs_df.is_a_one_triage_file == True) & (frvrs_logs_df.scene_type == 'Triage') & (frvrs_logs_df.is_scene_aborted == False)\n",
    "ave_patients_count = frvrs_logs_df[mask_series].groupby(fu.scene_groupby_columns).patient_id.nunique().mean()\n",
    "\n",
    "columns_list = ['control_delta']\n",
    "df = run_control_time_df.groupby(fu.scene_groupby_columns)[columns_list].max()\n",
    "tttt_dict = nu.get_statistics(df, columns_list).applymap(lambda x: fu.format_timedelta_lambda(timedelta(milliseconds=int(x))).replace('sec', 'seconds').replace(\n",
    "    'min', 'minutes'\n",
    "), na_action='ignore').to_dict()['control_delta']\n",
    "\n",
    "ave_percentage_correct = percentage_correct_sort_df.percentage_correct.mean()\n",
    "\n",
    "columns_list = ['triage_time']\n",
    "tt_dict = nu.get_statistics(run_time_df, columns_list).applymap(lambda x: fu.format_timedelta_lambda(timedelta(milliseconds=int(x))).replace('sec', 'seconds').replace(\n",
    "    'min', 'minutes'\n",
    "), na_action='ignore').to_dict()['triage_time']\n",
    "\n",
    "columns_list = ['control_delta']\n",
    "df = engagement_control_time_df.groupby(fu.scene_groupby_columns)[columns_list].mean()\n",
    "\n",
    "columns_list = ['control_delta']\n",
    "df = engagement_control_time_df.groupby(fu.scene_groupby_columns)[columns_list].mean()\n",
    "hcpp_dict = nu.get_statistics(df, columns_list).applymap(lambda x: fu.format_timedelta_lambda(timedelta(milliseconds=int(x))).replace('sec', 'seconds').replace(\n",
    "    'min', 'minutes'\n",
    "), na_action='ignore').to_dict()['control_delta']\n",
    "\n",
    "results_str = f\"\"\"RESULTS: A total of {responders_count} participants triaged an average of {ave_patients_count:.0f} patients each in the VR First Responder\"\"\"\n",
    "results_str += f\"\"\" simulation. Median total time to triage the scene was {tt_dict['median']} (SD = {tt_dict['SD']}, IQR = {tt_dict['25%']}, {tt_dict['75%']}).\"\"\"\n",
    "results_str += f\"\"\" Through their sorting process, {ave_percentage_correct:.0f}% of clinicians consistently evaluated patients appropriately in this order: still,\"\"\"\n",
    "results_str += f\"\"\" able to wave, and able to walk. Median time to life-threatening hemorrhage control was {tttt_dict['median']} (SD = {tttt_dict['SD']},\"\"\"\n",
    "results_str += f\"\"\" IQR = {tttt_dict['25%']}, {tttt_dict['75%']}). Median time for hemorrhage control per patient was low at {hcpp_dict['median']}\"\"\"\n",
    "results_str += f\"\"\" (SD = {hcpp_dict['SD']}, IQR = {hcpp_dict['25%']}, {hcpp_dict['75%']}).\"\"\"\n",
    "print(results_str)"
   ]
  },
  {
   "cell_type": "code",
   "execution_count": null,
   "id": "960293ed-8743-4107-96b2-b37775da7072",
   "metadata": {},
   "outputs": [],
   "source": []
  }
 ],
 "metadata": {
  "kernelspec": {
   "display_name": "ITM Analysis Reporting (Python 3.11.7)",
   "language": "python",
   "name": "itm_analysis_reporting"
  },
  "language_info": {
   "codemirror_mode": {
    "name": "ipython",
    "version": 3
   },
   "file_extension": ".py",
   "mimetype": "text/x-python",
   "name": "python",
   "nbconvert_exporter": "python",
   "pygments_lexer": "ipython3",
   "version": "3.7.12"
  }
 },
 "nbformat": 4,
 "nbformat_minor": 5
}
