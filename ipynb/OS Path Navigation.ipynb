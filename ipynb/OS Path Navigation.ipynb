{
 "cells": [
  {
   "cell_type": "code",
   "execution_count": 1,
   "metadata": {
    "tags": []
   },
   "outputs": [
    {
     "name": "stdout",
     "output_type": "stream",
     "text": [
      "Pretty printing has been turned OFF\n"
     ]
    }
   ],
   "source": [
    "\n",
    "# Set up notebook\n",
    "%pprint\n",
    "import sys\n",
    "if (osp.join('..', 'py') not in sys.path): sys.path.insert(1, osp.join('..', 'py'))\n",
    "from FRVRS import (nu, fu, osp, DataFrame, np, re, listdir, read_excel, walk, notnull, isna, nan)\n",
    "nu.delete_ipynb_checkpoint_folders()"
   ]
  },
  {
   "cell_type": "code",
   "execution_count": 5,
   "metadata": {},
   "outputs": [],
   "source": [
    "\n",
    "nu.describe_procedure(fu.get_order_of_ideal_engagement)"
   ]
  },
  {
   "cell_type": "code",
   "execution_count": 3,
   "metadata": {},
   "outputs": [
    {
     "name": "stdout",
     "output_type": "stream",
     "text": [
      "nu.describe_procedure(fu.get_is_patient_dead)\n",
      "nu.describe_procedure(fu.get_is_hemorrhage_tool_applied)\n",
      "nu.describe_procedure(fu.get_is_correct_bleeding_tool_applied)\n",
      "nu.describe_procedure(fu.get_is_hemorrhage_controlled)\n",
      "nu.describe_procedure(fu.get_percent_hemorrhage_controlled)\n",
      "nu.describe_procedure(fu.get_time_to_last_hemorrhage_controlled)\n",
      "nu.describe_procedure(fu.get_is_life_threatened)\n",
      "nu.describe_procedure(fu.get_is_patient_severely_injured)\n",
      "nu.describe_procedure(fu.get_is_expectant_treated)\n",
      "nu.describe_procedure(fu.get_is_bleeding_correctly_treated)\n",
      "nu.describe_procedure(fu.get_is_injury_correctly_treated)\n",
      "nu.describe_procedure(fu.get_percent_injury_correctly_treated)\n",
      "nu.describe_procedure(fu.get_is_scene_aborted)\n",
      "nu.describe_procedure(fu.get_scene_end)\n",
      "nu.describe_procedure(fu.get_actual_engagement_distance)\n",
      "nu.describe_procedure(fu.get_is_injury_hemorrhage)\n",
      "nu.describe_procedure(fu.get_first_patient_triage)\n",
      "nu.describe_procedure(fu.get_is_a_one_triage_file)\n",
      "nu.describe_procedure(fu.get_is_duplicate_file)\n",
      "nu.describe_procedure(fu.plot_sequence_by_scene_tuple)\n",
      "nu.describe_procedure(fu.get_file_name)\n",
      "nu.describe_procedure(fu.get_new_file_name)\n",
      "nu.describe_procedure(fu.add_medical_role_column_to_anova_dataframe)\n",
      "nu.describe_procedure(fu.add_prioritize_severity_column_to_merge_dataframe)\n",
      "nu.describe_procedure(fu.get_correct_count_by_tag_dataframe)\n",
      "nu.describe_procedure(fu.add_modal_column_to_dataframe)\n",
      "nu.describe_procedure(fu.get_distance_deltas_dataframe)\n",
      "nu.describe_procedure(fu.create_triage_error_rates_dataframe)\n",
      "nu.describe_procedure(fu.get_elevens_dataframe)\n",
      "nu.describe_procedure(fu.get_patient_stats_dataframe)\n",
      "nu.describe_procedure(fu.get_percentage_tag_correct_dataframe)\n",
      "nu.describe_procedure(fu.get_is_tag_correct_dataframe)\n",
      "nu.describe_procedure(fu.get_triage_priority_dataframe)\n",
      "nu.describe_procedure(fu.get_injury_correctly_treated_time)\n",
      "nu.describe_procedure(fu.get_triage_time)\n",
      "nu.describe_procedure(fu.get_tool_indecision_time)\n",
      "nu.describe_procedure(fu.show_gaze_timeline)\n",
      "nu.describe_procedure(fu.get_scene_type)\n",
      "nu.describe_procedure(fu.get_is_injury_severe)\n",
      "nu.describe_procedure(fu.get_session_file_date)\n",
      "nu.describe_procedure(fu.get_pulse_value)\n",
      "nu.describe_procedure(fu.get_wave_value)\n",
      "nu.describe_procedure(fu.get_tag_value)\n",
      "nu.describe_procedure(fu.get_walk_value)\n",
      "nu.describe_procedure(fu.get_stills_value)\n",
      "nu.describe_procedure(fu.get_walkers_value)\n",
      "nu.describe_procedure(fu.get_treatment_value)\n",
      "nu.describe_procedure(fu.get_last_tag)\n",
      "nu.describe_procedure(fu.get_is_patient_hemorrhaging)\n",
      "nu.describe_procedure(fu.get_percent_accurate_tagging)\n",
      "nu.describe_procedure(fu.get_measure_of_ordering)\n",
      "nu.describe_procedure(fu.get_measure_of_right_ordering)\n",
      "nu.describe_procedure(fu.convert_column_to_categorical)\n",
      "nu.describe_procedure(fu.get_wrapped_label)\n",
      "nu.describe_procedure(fu.get_is_patient_still)\n",
      "nu.describe_procedure(fu.get_time_to_hemorrhage_control)\n",
      "nu.describe_procedure(fu.get_logger_version)\n",
      "nu.describe_procedure(fu.get_last_patient_interaction)\n",
      "nu.describe_procedure(fu.get_first_patient_interaction)\n",
      "nu.describe_procedure(fu.get_initial_location_of_player)\n",
      "nu.describe_procedure(fu.get_location_of_player)\n",
      "nu.describe_procedure(fu.known_mcivr_metrics)\n",
      "nu.describe_procedure(fu.show_time_statistics)\n",
      "nu.describe_procedure(fu.set_scene_indices)\n",
      "nu.describe_procedure(fu.get_actual_and_ideal_priority_group_sequences)\n",
      "nu.describe_procedure(fu.get_actual_and_ideal_patient_sort_sequences)\n",
      "nu.describe_procedure(fu.process_files)\n",
      "nu.describe_procedure(fu.show_timelines)\n",
      "nu.describe_procedure(fu.set_mcivr_metrics_types)\n",
      "nu.describe_procedure(fu.get_wanderings)\n",
      "nu.describe_procedure(fu.concatonate_logs)\n",
      "nu.describe_procedure(fu.show_long_runs)\n",
      "nu.describe_procedure(fu.plot_grouped_box_and_whiskers)\n",
      "nu.describe_procedure(fu.add_encounter_layout_column_to_json_stats)\n",
      "nu.describe_procedure(fu.get_is_treating_expectants)\n",
      "nu.describe_procedure(fu.get_dead_patients)\n",
      "nu.describe_procedure(fu.get_still_patients)\n",
      "nu.describe_procedure(fu.get_is_patient_gazed_at)\n",
      "nu.describe_procedure(fu.get_is_tag_correct)\n",
      "nu.describe_procedure(fu.get_last_salt)\n",
      "nu.describe_procedure(fu.get_max_salt)\n",
      "nu.describe_procedure(fu.get_location_of_patient)\n",
      "nu.describe_procedure(fu.get_time_to_hemorrhage_control_per_patient)\n",
      "nu.describe_procedure(fu.get_order_of_distracted_engagement)\n",
      "nu.describe_procedure(fu.visualize_order_of_engagement)\n",
      "nu.describe_procedure(fu.get_order_of_ideal_engagement)\n",
      "nu.describe_procedure(fu.get_order_of_actual_engagement)\n",
      "nu.describe_procedure(fu.get_last_still_engagement)\n",
      "nu.describe_procedure(fu.get_last_engagement)\n",
      "nu.describe_procedure(fu.get_first_engagement)\n",
      "nu.describe_procedure(fu.visualize_extreme_player_movement)\n",
      "nu.describe_procedure(fu.visualize_player_movement)\n",
      "nu.describe_procedure(fu.get_first_treatment)\n",
      "nu.describe_procedure(fu.get_discarded_count)\n",
      "nu.describe_procedure(fu.get_injury_not_treated_count)\n",
      "nu.describe_procedure(fu.get_injury_wrongly_treated_count)\n",
      "nu.describe_procedure(fu.get_injury_correctly_treated_count)\n",
      "nu.describe_procedure(fu.get_wave_command_count)\n",
      "nu.describe_procedure(fu.get_walk_command_count)\n",
      "nu.describe_procedure(fu.get_voice_capture_count)\n",
      "nu.describe_procedure(fu.get_pulse_taken_count)\n",
      "nu.describe_procedure(fu.get_tag_application_count)\n",
      "nu.describe_procedure(fu.get_action_count)\n",
      "nu.describe_procedure(fu.get_patient_injuries_count)\n",
      "nu.describe_procedure(fu.get_total_actions_count)\n",
      "nu.describe_procedure(fu.get_injury_treatments_count)\n",
      "nu.describe_procedure(fu.get_treated_expectant_count)\n",
      "nu.describe_procedure(fu.get_patient_count)\n",
      "nu.describe_procedure(fu.get_patient_engagement_count)\n",
      "nu.describe_procedure(fu.get_assessment_count)\n",
      "nu.describe_procedure(fu.get_treatment_count)\n",
      "nu.describe_procedure(fu.get_teleport_count)\n",
      "nu.describe_procedure(fu.get_scene_start)\n",
      "nu.describe_procedure(fu.get_action_tick_by_encounter_layout)\n",
      "nu.describe_procedure(fu.add_triage_error_rate_columns_to_row)\n",
      "nu.describe_procedure(fu.get_session_groupby)\n",
      "nu.describe_procedure(fu.get_maximum_injury_severity)\n",
      "nu.describe_procedure(fu.get_configData_scenarioData_difficulty)\n"
     ]
    }
   ],
   "source": [
    "\n",
    "for fn in sorted(dir(fu), key=lambda x: x[::-1]):\n",
    "    if all(map(lambda x: not bool(eval(x)), [\n",
    "        \"fn.startswith('_')\", \"fn.endswith('_dict')\", \"fn.endswith('_list')\", \"fn.endswith('_lambda')\", \"fn.endswith('_df')\",\n",
    "        \"fn.endswith('_location')\", \"fn.endswith('_folder')\", \"fn.endswith('_order')\", \"fn.endswith('_values')\", \"fn.endswith('_columns')\"\n",
    "    ])):\n",
    "        print(f\"\"\"nu.describe_procedure(fu.{fn})\"\"\")"
   ]
  },
  {
   "cell_type": "code",
   "execution_count": 3,
   "metadata": {},
   "outputs": [
    {
     "name": "stdout",
     "output_type": "stream",
     "text": [
      "Attempting to open C:\\Users\\DaveBabbitt\\Documents\\GitHub\\itm-analysis-reporting\\ipynb\\Installs.ipynb\n"
     ]
    }
   ],
   "source": [
    "\n",
    "nu.open_path_in_notepad('../ipynb/Installs.ipynb', verbose=True)"
   ]
  },
  {
   "cell_type": "code",
   "execution_count": 4,
   "metadata": {},
   "outputs": [],
   "source": [
    "\n",
    "# Standardize all the notebook utilities in the GitHub folder\n",
    "from itertools import combinations\n",
    "import subprocess\n",
    "\n",
    "paths_list = []\n",
    "black_list = ['.ipynb_checkpoints', '$Recycle.Bin', '.git', 'llama_index']\n",
    "for sub_directory, directories_list, files_list in walk(osp.abspath('../../')):\n",
    "    if all(map(lambda x: x not in sub_directory, black_list)):\n",
    "        for file_name in files_list:\n",
    "            if file_name == 'notebook_utils.py':\n",
    "                file_path = osp.join(sub_directory, file_name)\n",
    "                paths_list.append(file_path)"
   ]
  },
  {
   "cell_type": "code",
   "execution_count": 5,
   "metadata": {},
   "outputs": [],
   "source": [
    "\n",
    "# Get all unique pairs (order doesn't matter)\n",
    "pairs = combinations(paths_list, 2)\n",
    "\n",
    "# Iterate through pairs and compare them\n",
    "comparator_path = \"/mnt/c/Program Files (x86)/Compare It!/wincmp3.exe\"\n",
    "for pair in pairs:\n",
    "    left_path = pair[0].replace('/mnt/c/', 'C:\\\\').replace('/', '\\\\')\n",
    "    right_path = pair[1].replace('/mnt/c/', 'C:\\\\').replace('/', '\\\\')\n",
    "    subprocess.run([\n",
    "        comparator_path, left_path, right_path\n",
    "    ])"
   ]
  },
  {
   "cell_type": "code",
   "execution_count": 3,
   "metadata": {},
   "outputs": [
    {
     "name": "stdout",
     "output_type": "stream",
     "text": [
      "No pickle exists for 20240522truncated_anova_df - attempting to load /mnt/c/Users/DaveBabbitt/Documents/GitHub/itm-analysis-reporting/saves/csv/20240522truncated_anova_df.csv.\n"
     ]
    }
   ],
   "source": [
    "\n",
    "# Load data frames\n",
    "data_frames_dict = nu.load_data_frames(\n",
    "    **{'20240522truncated_anova_df': ''}\n",
    ")\n",
    "anova_df = data_frames_dict['20240522truncated_anova_df']"
   ]
  },
  {
   "cell_type": "code",
   "execution_count": 4,
   "metadata": {},
   "outputs": [
    {
     "name": "stdout",
     "output_type": "stream",
     "text": [
      "fu.get_AD_KDMA_Sim\n",
      "fu.get_AD_KDMA_Text\n",
      "fu.get_PropTrust\n",
      "fu.get_ST_KDMA_Sim\n",
      "fu.get_ST_KDMA_Text\n",
      "The procedure to calculate the percentage of correct tagging within a scene dataframe is as follows:\n",
      "    i. Ensure all needed columns are present in scene_df.\n",
      "    ii. Create the tag-to-SALT data frame.\n",
      "    iii. Create the correct-count-by-tag data frame.\n",
      "    iv. Get the percentage tag correct counts for the scene.\n",
      "The procedure to calculate the number of unique patient ids in a scene is as follows:\n",
      "    i. Count the number of unique patient IDs.\n",
      "    ii. Return the calculated patient count.\n",
      "The procedure to calculate the percentage of correct injury treatment within a scene is as follows:\n",
      "    i. Ensure all needed columns are present in scene_df.\n",
      "    ii. Get the count of all the patient injuries for the scene.\n",
      "    iii. Get the count of all correctly treated injuries for the scene.\n",
      "    iv. Compute the percentage of correctly treated injuries for the scene.\n",
      "    v. If you get a division-by-zero error, just leave it as NaN.\n",
      "The procedure to count the number of 'pulse_taken' actions in the given scene dataframe is as follows:\n",
      "    i. Ensure all needed columns are present in scene_df.\n",
      "    ii. Create a boolean mask to filter 'PULSE_TAKEN' actions.\n",
      "    iii. Use the mask to filter the DataFrame and count the number of 'PULSE_TAKEN' actions.\n",
      "    iv. Return the count of 'PULSE_TAKEN' actions.\n",
      "The procedure to 0=all stills not visited first, 1=all stills visited first is as follows:\n",
      "    i. Ensure all needed columns are present in scene_df.\n",
      "    ii. Extract the actual and ideal sequences of first interactions from the scene in terms of still/waver/walker.\n",
      "    iii. Truncate both sequences to the head at the stills length and compare them; they both should have all stills.\n",
      "    iv. If they are, output a 1 (All Stills visited first), if not, output a 0 (All Stills not visited first).\n",
      "The procedure to count the number of 'teleport' actions in the given scene dataframe is as follows:\n",
      "    i. Ensure all needed columns are present in scene_df.\n",
      "    ii. Create a boolean mask to filter TELEPORT action types.\n",
      "    iii. Count the number of actions.\n",
      "The procedure to calculate the time to hemorrhage control per patient for the scene is as follows:\n",
      "    i. Ensure all needed columns are present in scene_df.\n",
      "    ii. Iterate through patients in the scene.\n",
      "    iii. Check if the patient is hemorrhaging (defined as the injury record requires the hemorrhage control procedures) and not dead.\n",
      "    iv. Count the patient and add its hemorrhage control time to a list for averaging.\n",
      "    v. Calculate the hemorrhage control per patient by summing the control times and dividing by the patient count.\n",
      "The procedure to calculate the time (between first-in-sequence tool_hover and last-in-sequence tool_selected) that responders take to select a tool after hovering over them is as follows:\n",
      "    i. Ensure all needed columns are present in scene_df.\n",
      "    ii. Identify scene_df indices based on TOOL_SELECTED actions.\n",
      "    iii. Split the DataFrame at TOOL_SELECTED indices.\n",
      "    iv. Calculate indecision times for each sub-dataframe.\n",
      "    v. Append time difference between TOOL_SELECTED action and first TOOL_HOVER action to the list.\n",
      "    vi. Calculate the mean indecision time.\n",
      "The procedure to calculate the triage time for a scene is as follows:\n",
      "    i. Ensure all needed columns are present in scene_df.\n",
      "    ii. Get the scene start and end times.\n",
      "    iii. Calculate the triage time.\n",
      "The procedure to calculate the total count of the participant's player actions of strictly the pulse_taken, tool_applied, and tag_applied action types performed within a scene dataframe is as follows:\n",
      "    i. Ensure all needed columns are present in scene_df.\n",
      "    ii. Create a mask to filter for specific action types.\n",
      "    iii. Calculate scene action count based on the mask.\n",
      "The procedure to calculate the total count of the participant's patient_engaged and pulse_taken action types performed within a scene dataframe is as follows:\n",
      "    i. Ensure all needed columns are present in scene_df.\n",
      "    ii. Create a mask to filter for specific action types.\n",
      "    iii. Calculate assessment count based on the mask.\n",
      "The procedure to calculate the total count of the participant's \"indecision metric\" of tag_discarded and tool_discarded action types performed within a scene dataframe is as follows:\n",
      "    i. Ensure all needed columns are present in scene_df.\n",
      "    ii. Create a mask to filter for specific discarded types.\n",
      "    iii. Calculate discarded count based on the mask.\n",
      "The procedure to calculate the total count of the participant's tag_applied action types performed within a scene dataframe is as follows:\n",
      "    i. Ensure all needed columns are present in scene_df.\n",
      "    ii. Create a mask to filter for specific action types.\n",
      "    iii. Calculate tag_application count based on the mask.\n",
      "The procedure to calculate the total count of the participant's injury_treated action types performed within a scene dataframe is as follows:\n",
      "    i. Ensure all needed columns are present in scene_df.\n",
      "    ii. Create a mask to filter for specific action types.\n",
      "    iii. Calculate treatment count based on the mask.\n",
      "The procedure to calculate the total number of instances where a participant treated a patient expected to die within a scene is as follows:\n",
      "    i. Ensure all needed columns are present in scene_df.\n",
      "    ii. Loop through each patient to count the instances where a participant treated a patient expected to die.\n"
     ]
    }
   ],
   "source": [
    "\n",
    "import inspect\n",
    "\n",
    "for cn in anova_df.columns:\n",
    "    if any(map(lambda x: cn.startswith(x), ['mean_', 'sum_'])):\n",
    "        function_call = 'fu.get_' + '_'.join(cn.split('_')[1:])\n",
    "        try:\n",
    "            nu.describe_procedure(eval(function_call))\n",
    "        except Exception as e:\n",
    "            print(function_call)"
   ]
  },
  {
   "cell_type": "code",
   "execution_count": 19,
   "metadata": {},
   "outputs": [
    {
     "name": "stdout",
     "output_type": "stream",
     "text": [
      "\n",
      "ipynb\n",
      "Installs.ipynb\n",
      "\n",
      "open_world\n",
      "OW Attic.ipynb\n",
      "OW Scratchpad.ipynb\n",
      "\n",
      "presentations\n",
      "Presentation Graveyard.ipynb\n",
      "\n",
      "tests\n",
      "Tests Scratchpad.ipynb\n",
      "\n",
      "visualizations\n",
      "Visualization Scratchpad.ipynb\n"
     ]
    }
   ],
   "source": [
    "\n",
    "# Get all notebooks that are missing their FRVRS import additions\n",
    "import pyperclip\n",
    "\n",
    "functions_list = [\n",
    "    'CategoricalDtype', 'DataFrame', 'Index', 'NaT', 'Series', 'concat', 'csv', 'display', 'isna', 'isnan', 'listdir', 'makedirs',\n",
    "    'math', 'nan', 'notnull', 'np', 'osp', 'pickle', 're', 'read_csv', 'read_excel', 'read_pickle', 'remove', 'sep', 'sm', 'subprocess',\n",
    "    'sys', 'to_datetime', 'to_numeric', 'walk', 'warnings'\n",
    "]\n",
    "compile_str = r'\\b(' + '|'.join(functions_list) + r')\\b'\n",
    "pyperclip.copy(compile_str)\n",
    "functions_regex = re.compile(compile_str)\n",
    "import_regex = re.compile(r'\"from FRVRS import \\(')\n",
    "nu.delete_ipynb_checkpoint_folders()\n",
    "for sub_directory, directories_list, files_list in walk(nu.github_folder):\n",
    "    todo_list = []\n",
    "    for file_name in files_list:\n",
    "        if file_name.endswith('.ipynb'):\n",
    "            file_path = osp.join(sub_directory, file_name)\n",
    "            with open(file_path, 'r', encoding=nu.encoding_type) as f:\n",
    "                text = f.read()\n",
    "                if (functions_regex.search(text) is not None) and (import_regex.search(text) is None):\n",
    "                    todo_list.append(file_name)\n",
    "    if todo_list:\n",
    "        print()\n",
    "        print(sub_directory.split('/')[-1])\n",
    "        print('\\n'.join(todo_list))"
   ]
  },
  {
   "cell_type": "code",
   "execution_count": 8,
   "metadata": {},
   "outputs": [
    {
     "data": {
      "text/plain": [
       "['__name__', '_financial_names', 'asfortranarray', 'binary_repr', 'concatenate', 'diagonal', 'fill_diagonal', 'format_float_positional', 'isnan', 'isnat', 'linalg', 'nan', 'nan_to_num', 'nanargmax', 'nanargmin', 'nancumprod', 'nancumsum', 'nanmax', 'nanmean', 'nanmedian', 'nanmin', 'nanpercentile', 'nanprod', 'nanquantile', 'nanstd', 'nansum', 'nanvar', 'typename']"
      ]
     },
     "execution_count": 8,
     "metadata": {},
     "output_type": "execute_result"
    }
   ],
   "source": [
    "\n",
    "[fn for fn in dir(np) if 'na' in fn]"
   ]
  },
  {
   "cell_type": "code",
   "execution_count": 15,
   "metadata": {},
   "outputs": [
    {
     "name": "stdout",
     "output_type": "stream",
     "text": [
      "\n",
      "scp dbabbitt@209.137.198.29:/datadrive/Research/hackathon/Anaconda3-2021.11-Linux-x86_64.sh C:\\Users\\DaveBabbitt\\Downloads\\Anaconda3-2021.11-Linux-x86_64.sh\n",
      "scp dbabbitt@209.137.198.29:/datadrive/Research/hackathon/cvat.notes C:\\Users\\DaveBabbitt\\Downloads\\cvat.notes\n",
      "scp dbabbitt@209.137.198.29:/datadrive/Research/hackathon/daveb.csv C:\\Users\\DaveBabbitt\\Downloads\\daveb.csv\n",
      "scp dbabbitt@209.137.198.29:/datadrive/Research/hackathon/fiftyone.yml C:\\Users\\DaveBabbitt\\Downloads\\fiftyone.yml\n",
      "scp dbabbitt@209.137.198.29:/datadrive/Research/hackathon/setup_env.txt C:\\Users\\DaveBabbitt\\Downloads\\setup_env.txt\n"
     ]
    }
   ],
   "source": [
    "\n",
    "print()\n",
    "for file_name in [\n",
    "    'Anaconda3-2021.11-Linux-x86_64.sh', 'cvat.notes', 'daveb.csv', 'fiftyone.yml', 'setup_env.txt'\n",
    "]:\n",
    "    print(f'scp dbabbitt@209.137.198.29:/datadrive/Research/hackathon/{file_name} C:\\\\Users\\\\DaveBabbitt\\\\Downloads\\\\{file_name}')"
   ]
  },
  {
   "cell_type": "code",
   "execution_count": 2,
   "metadata": {},
   "outputs": [],
   "source": [
    "\n",
    "# load libraries\n",
    "from datetime import timedelta\n",
    "import humanize\n",
    "import matplotlib.pyplot as plt\n",
    "import os\n",
    "import pandas as pd"
   ]
  },
  {
   "cell_type": "code",
   "execution_count": 3,
   "metadata": {},
   "outputs": [
    {
     "name": "stdout",
     "output_type": "stream",
     "text": [
      "['os.DirEntry', 'os.O_DIRECT', 'os.O_DIRECTORY', 'os.ST_NODIRATIME', 'os.chdir', 'os.curdir', 'os.fchdir', 'os.listdir', 'os.makedirs', 'os.mkdir', 'os.pardir', 'os.removedirs', 'os.rmdir', 'os.scandir', 'os.supports_dir_fd']\n",
      "['osp.curdir', 'osp.dirname', 'osp.isdir', 'osp.pardir']\n",
      "['nu.github_folder']\n"
     ]
    }
   ],
   "source": [
    "\n",
    "print([f'os.{fn}' for fn in dir(os) if 'dir' in fn.lower()])\n",
    "print([f'osp.{fn}' for fn in dir(osp) if 'dir' in fn.lower()])\n",
    "print([f'nu.{fn}' for fn in dir(nu) if 'github' in fn])"
   ]
  },
  {
   "cell_type": "code",
   "execution_count": 4,
   "metadata": {},
   "outputs": [
    {
     "name": "stdout",
     "output_type": "stream",
     "text": [
      "['os.__name__', 'os.confstr_names', 'os.name', 'os.pathconf_names', 'os.rename', 'os.renames', 'os.sysconf_names', 'os.ttyname', 'os.uname', 'os.uname_result']\n",
      "['osp.__name__', 'osp.basename', 'osp.dirname', 'osp.supports_unicode_filenames']\n",
      "['nu.get_filename_from_url']\n"
     ]
    }
   ],
   "source": [
    "\n",
    "print([f'os.{fn}' for fn in dir(os) if 'name' in fn.lower()])\n",
    "print([f'osp.{fn}' for fn in dir(osp) if 'name' in fn.lower()])\n",
    "print([f'nu.{fn}' for fn in dir(nu) if 'name' in fn])"
   ]
  },
  {
   "cell_type": "code",
   "execution_count": 5,
   "metadata": {},
   "outputs": [
    {
     "name": "stdout",
     "output_type": "stream",
     "text": [
      "/mnt/c/Users/DaveBabbitt/Documents/GitHub/itm-analysis-reporting/data/xlsx/Items_Logits_in_Winsteps_Format.xlsx\n"
     ]
    }
   ],
   "source": [
    "\n",
    "spreadsheets_folder = osp.join(nu.data_folder, 'xlsx')\n",
    "for file_name in listdir(spreadsheets_folder):\n",
    "    if file_name.endswith('.xlsx'):\n",
    "        file_path = osp.join(spreadsheets_folder, file_name)\n",
    "        df = read_excel(file_path)\n",
    "        if 'scene_id' in df.columns: print(file_path)"
   ]
  },
  {
   "cell_type": "code",
   "execution_count": null,
   "metadata": {
    "tags": []
   },
   "outputs": [],
   "source": [
    "\n",
    "# Print out a section of the .gitignore\n",
    "black_list = ['.ipynb_checkpoints', '$Recycle.Bin', '.git']\n",
    "print()\n",
    "print('# exclude everything except personal directories')\n",
    "print('/*')\n",
    "print('!.gitignore')\n",
    "for sub_directory in listdir(nu.github_folder):\n",
    "    if all(map(lambda x: x not in sub_directory, black_list)) and osp.isdir(osp.join(nu.github_folder, sub_directory)):\n",
    "        print(f'!/{sub_directory}')\n",
    "print('!README.md')"
   ]
  },
  {
   "cell_type": "code",
   "execution_count": null,
   "metadata": {},
   "outputs": [],
   "source": [
    "\n",
    "# 'Intel64 Family 6 Model 60 Stepping 3, GenuineIntel'\n",
    "import platform\n",
    "\n",
    "platform.processor()"
   ]
  },
  {
   "cell_type": "code",
   "execution_count": 11,
   "metadata": {},
   "outputs": [
    {
     "name": "stdout",
     "output_type": "stream",
     "text": [
      "\n",
      "\n",
      "\n",
      "\n",
      "\n"
     ]
    }
   ],
   "source": [
    "\n",
    "# Path to GitHub Desktop executable\n",
    "github_desktop_path = \"/mnt/c/Users/DaveBabbitt/AppData/Local/GitHubDesktop/GitHubDesktop.exe\"\n",
    "\n",
    "for path_str in paths_list:\n",
    "    \n",
    "    # Ensure the repository path is Windows-compliant\n",
    "    repo_path = osp.abspath(osp.dirname(osp.dirname(path_str))).replace('/mnt/c/', 'C:\\\\').replace('/', '\\\\')\n",
    "    \n",
    "    # Construct the command\n",
    "    command = [github_desktop_path, '--add-repository', repo_path]\n",
    "    # print(command)\n",
    "    \n",
    "    # Launch GitHub Desktop with the specified repository\n",
    "    subprocess.run(command)"
   ]
  },
  {
   "cell_type": "code",
   "execution_count": null,
   "metadata": {},
   "outputs": [],
   "source": []
  }
 ],
 "metadata": {
  "kernelspec": {
   "display_name": "ITM Analysis Reporting (Python 3.11.7)",
   "language": "python",
   "name": "itm_analysis_reporting"
  },
  "language_info": {
   "codemirror_mode": {
    "name": "ipython",
    "version": 3
   },
   "file_extension": ".py",
   "mimetype": "text/x-python",
   "name": "python",
   "nbconvert_exporter": "python",
   "pygments_lexer": "ipython3",
   "version": "3.7.12"
  }
 },
 "nbformat": 4,
 "nbformat_minor": 4
}
