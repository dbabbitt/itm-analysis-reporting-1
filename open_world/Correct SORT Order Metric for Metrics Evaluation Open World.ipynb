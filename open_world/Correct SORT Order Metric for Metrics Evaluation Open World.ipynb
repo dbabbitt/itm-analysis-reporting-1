{
 "cells": [
  {
   "cell_type": "code",
   "execution_count": 1,
   "id": "45a8a711-1385-4166-8d41-d20949d2634b",
   "metadata": {},
   "outputs": [
    {
     "name": "stdout",
     "output_type": "stream",
     "text": [
      "Pretty printing has been turned OFF\n"
     ]
    }
   ],
   "source": [
    "\n",
    "# Set up notebook\n",
    "%pprint\n",
    "import sys\n",
    "if (osp.join(os.pardir, 'py') not in sys.path): sys.path.insert(1, osp.join(os.pardir, 'py'))"
   ]
  },
  {
   "cell_type": "code",
   "execution_count": 2,
   "id": "d1b58161-b1e4-42e5-acda-c2e07d3d23dd",
   "metadata": {},
   "outputs": [],
   "source": [
    "\n",
    "# load libraries\n",
    "from FRVRS import (nu, fu, DataFrame, to_datetime, Series, np, osp, re, listdir, display, read_excel, concat)\n",
    "from datetime import date, timedelta\n",
    "import os\n",
    "from IPython.display import HTML\n",
    "import pandas as pd"
   ]
  },
  {
   "cell_type": "markdown",
   "id": "ee04f911-bff9-4241-bedd-39b24c959d53",
   "metadata": {},
   "source": [
    "\n",
    "# Develop the Correct SORT Order Metric for Metrics Evaluation Open World"
   ]
  },
  {
   "cell_type": "code",
   "execution_count": 3,
   "id": "a27b32b9-53fa-4b99-895f-009cbc80004a",
   "metadata": {},
   "outputs": [
    {
     "name": "stdout",
     "output_type": "stream",
     "text": [
      "Attempting to load /mnt/c/Users/DaveBabbitt/Documents/GitHub/itm-analysis-reporting/saves/pkl/metrics_evaluation_open_world_csv_stats_df.pkl.\n",
      "Attempting to load /mnt/c/Users/DaveBabbitt/Documents/GitHub/itm-analysis-reporting/saves/pkl/metrics_evaluation_open_world_json_stats_df.pkl.\n",
      "Attempting to load /mnt/c/Users/DaveBabbitt/Documents/GitHub/itm-analysis-reporting/saves/pkl/metrics_evaluation_open_world_scene_stats_df.pkl.\n"
     ]
    }
   ],
   "source": [
    "\n",
    "# load data frames\n",
    "data_frames_dict = nu.load_data_frames(\n",
    "    metrics_evaluation_open_world_csv_stats_df='', metrics_evaluation_open_world_json_stats_df='',\n",
    "    metrics_evaluation_open_world_scene_stats_df=''\n",
    ")\n",
    "logs_df = data_frames_dict['metrics_evaluation_open_world_csv_stats_df']\n",
    "json_stats_df = data_frames_dict['metrics_evaluation_open_world_json_stats_df']\n",
    "scene_stats_df = data_frames_dict['metrics_evaluation_open_world_scene_stats_df']"
   ]
  },
  {
   "cell_type": "code",
   "execution_count": 4,
   "id": "dca1b447-b22f-400a-9ae4-bcd7613ba1c0",
   "metadata": {},
   "outputs": [],
   "source": [
    "\n",
    "filter_fn = (lambda scene_df: True) # scene_df.patient_id.nunique() == 11\n",
    "elevens_df = fu.get_elevens_dataframe(\n",
    "    logs_df, json_stats_df, scene_stats_df, needed_columns=['scene_type', 'is_scene_aborted', 'is_a_one_triage_file', 'responder_category'],\n",
    "    patient_count_filter_fn=filter_fn\n",
    ")"
   ]
  },
  {
   "cell_type": "markdown",
   "id": "7cf1ce69-6d93-409e-9c9f-9c2ceeb692ae",
   "metadata": {},
   "source": [
    "\n",
    "# Get First11 Dataset"
   ]
  },
  {
   "cell_type": "code",
   "execution_count": 10,
   "id": "ef13c4e2-2322-402d-a764-ca6e204a20a6",
   "metadata": {},
   "outputs": [
    {
     "name": "stdout",
     "output_type": "stream",
     "text": [
      "There are patient_ids in the Metrics Evaluation Open World missing from the guide (Adept Shooter, Adept Victim, Civilian 1, Civilian 1 Female, Civilian 2, Local Soldier 1, Marine 1 Male, Marine 2 Male, Marine 3 Male, Marine 4 Male, NPC, NPC 1, NPC 2, NPC 3, NPC 4, Navy Soldier 1 Male, Navy Soldier 2 Male, Navy Soldier 3 Male, Navy Soldier 4 Female, Open World Civilian 1 Male, Open World Civilian 2 Female, Open World Marine 1 Female, Open World Marine 1 Male, Open World Marine 2 Female, Open World Marine 2 Male, Open World Marine 3 Male, Open World Marine 4 Male, Patient U, Patient V, Patient W, Patient X, Simulation, US Soldier 1, bystander, electrician, patient U, patient V, patient W, and patient X) that need to be given a Group designation in order to compute the Correct SORT Order metric.\n"
     ]
    }
   ],
   "source": [
    "\n",
    "# Get the list of patient_ids that are missing a group designation\n",
    "print(\n",
    "    f'There are patient_ids in the Metrics Evaluation Open World missing from the guide ({nu.conjunctify_nouns(nongrouped_patients_list)})'\n",
    "    ' that need to be given a Group designation in order to compute the Correct SORT Order metric.'\n",
    ")"
   ]
  },
  {
   "cell_type": "code",
   "execution_count": 13,
   "id": "2e317530-0368-4138-aa95-14844ae04af9",
   "metadata": {},
   "outputs": [
    {
     "name": "stdout",
     "output_type": "stream",
     "text": [
      "(0, 0)\n"
     ]
    }
   ],
   "source": [
    "\n",
    "# Get a set and count of files that have each patient\n",
    "folder_path = '../data/logs/Metrics Evaluation Open World'\n",
    "rows_list = []\n",
    "for file_name in listdir(path=folder_path):\n",
    "    if file_name.endswith('.csv'):\n",
    "        file_path = osp.join(folder_path, file_name)\n",
    "        with open(file_path, 'r', encoding=nu.encoding_type) as f:\n",
    "            text = f.read()\n",
    "            for patient_prefix in nongrouped_patients_list:\n",
    "                files_regex = re.compile(f\",{patient_prefix} Root,\")\n",
    "                patients_list = files_regex.findall(text)\n",
    "                if patients_list:\n",
    "                    row_dict = {'file_name': file_name, 'patient_prefix': patient_prefix, 'results_count': len(patients_list)}\n",
    "                    rows_list.append(row_dict)\n",
    "nongrouped_patients_df = DataFrame(rows_list)\n",
    "print(nongrouped_patients_df.shape)"
   ]
  },
  {
   "cell_type": "code",
   "execution_count": 14,
   "id": "bb725289-477f-433c-b4f2-c99501697e4b",
   "metadata": {},
   "outputs": [
    {
     "data": {
      "text/plain": [
       "set()"
      ]
     },
     "execution_count": 14,
     "metadata": {},
     "output_type": "execute_result"
    }
   ],
   "source": [
    "\n",
    "# Match the next-most-hardest-to-find patient with the next-most-populated file\n",
    "filename_set = set()\n",
    "if nongrouped_patients_df.shape[0]:\n",
    "    filenames_list = nongrouped_patients_df.groupby('file_name').size().sort_values(ascending=False).index.tolist()\n",
    "    for patient_prefix in nongrouped_patients_df.groupby('patient_prefix').size().sort_values().index:\n",
    "        base_mask_series = (nongrouped_patients_df.patient_prefix == patient_prefix)\n",
    "        for file_name in filenames_list:\n",
    "            mask_series = base_mask_series & (nongrouped_patients_df.file_name == file_name)\n",
    "            if mask_series.any():\n",
    "                filename_set.add(file_name)\n",
    "                break\n",
    "filename_set"
   ]
  },
  {
   "cell_type": "code",
   "execution_count": 15,
   "id": "05866837-abb7-47d2-91b0-a11836767890",
   "metadata": {},
   "outputs": [
    {
     "name": "stdout",
     "output_type": "stream",
     "text": [
      "\"\"\n"
     ]
    }
   ],
   "source": [
    "\n",
    "print('\"' + '\" \"'.join(list(filename_set)) + '\"')"
   ]
  },
  {
   "cell_type": "code",
   "execution_count": 17,
   "id": "b4fa466f-5a79-4174-a58f-4b837e786cf0",
   "metadata": {},
   "outputs": [],
   "source": [
    "\n",
    "# Conform the Metrics Evaluation Open World to the spreadsheet\n",
    "mask_series = ~elevens_df.patient_id.isnull()\n",
    "elevens_patients_df = elevens_df[mask_series]\n",
    "elevens_patients_df.patient_id = elevens_patients_df.patient_id.map(lambda x: str(x).replace(' Root', ''))"
   ]
  },
  {
   "cell_type": "code",
   "execution_count": 18,
   "id": "12ec26de-cc76-4a5b-9f47-cb57f89b5a0c",
   "metadata": {},
   "outputs": [
    {
     "name": "stdout",
     "output_type": "stream",
     "text": [
      "[]\n"
     ]
    }
   ],
   "source": [
    "\n",
    "# Get the columns that consistently have only one value in them per patient\n",
    "single_value_cols_set = set(elevens_patients_df.columns)\n",
    "for patient_id, patient_df in elevens_patients_df.groupby('patient_id'):\n",
    "    single_value_cols = set([col for col in patient_df.columns if patient_df[col].nunique() == 1])\n",
    "    single_value_cols_set = single_value_cols_set.intersection(single_value_cols)\n",
    "# print(single_value_cols_set)\n",
    "union_set = set()\n",
    "for patient_id, patient_df in elevens_patients_df.groupby('patient_id'):\n",
    "    if patient_id in first11_patients_list:\n",
    "        # print(patient_id, patient_df.shape[0])\n",
    "        single_value_cols = set([col for col in patient_df.columns if patient_df[col].nunique() == 1])\n",
    "        union_set = union_set.union(single_value_cols.difference(single_value_cols_set))\n",
    "# display(elevens_patients_df[union_set])\n",
    "print(sorted(union_set))"
   ]
  },
  {
   "cell_type": "code",
   "execution_count": 19,
   "id": "282c65fe-2e99-4faa-a29d-a2ad4c9849f0",
   "metadata": {},
   "outputs": [],
   "source": [
    "\n",
    "# Verify that the patient_id's injuries and attributes are consistent with the spreadsheet\n",
    "patient_columns_list = [\n",
    "    'patient_id', 'patient_breath', 'patient_hearing', 'patient_mood', 'patient_pose', 'patient_pulse', 'patient_salt', 'patient_sort'\n",
    "]\n",
    "columns_list = patient_columns_list + ['injury_id']\n",
    "#, 'injury_body_region', 'injury_required_procedure', 'injury_severity', 'pulse_taken_pulse_name', 'tool_type']\n",
    "mask_series = elevens_patients_df.patient_id.isin(first11_patients_list)\n",
    "for patient_id, patient_df in elevens_patients_df[mask_series][columns_list].sort_values(patient_columns_list).groupby('patient_id'):\n",
    "    injuries_list = patient_df.injury_id.dropna().unique()\n",
    "    patient_df = patient_df[patient_columns_list].drop_duplicates(subset=patient_columns_list).dropna(\n",
    "        subset=patient_columns_list[1:], how='all'\n",
    "    )\n",
    "    patient_df['patient_injuries'] = '/'.join(injuries_list)\n",
    "    display(patient_df.merge(first11_optimal_order_df, left_on='patient_id', right_on='Patient').T)"
   ]
  },
  {
   "cell_type": "code",
   "execution_count": 20,
   "id": "1b15a15c-83e6-4abb-be1f-cf591a260f1b",
   "metadata": {},
   "outputs": [
    {
     "name": "stdout",
     "output_type": "stream",
     "text": [
      "['Bob_0 Root', 'Bob_9 Root', 'Gary_1 Root', 'Gary_3 Root', 'Gloria_6 Root', 'Gloria_8 Root', 'Helga_10 Root', 'Lily_2 Root', 'Lily_4 Root', 'Mike_5 Root', 'Mike_7 Root']\n"
     ]
    },
    {
     "data": {
      "text/plain": [
       "['Civilian 1 Root', 'Civilian 2 Root', 'NPC Root', 'Open World Marine 1 Male Root', 'Open World Marine 2 Female Root', 'Open World Marine 3 Male Root', 'Open World Marine 4 Male Root', 'Patient U Root', 'Patient V Root', 'Patient W Root', 'Patient X Root', 'Simulation Root']                                                             7\n",
       "['Navy Soldier 1 Male Root', 'Navy Soldier 2 Male Root', 'Navy Soldier 3 Male Root', 'Navy Soldier 4 Female Root', 'Simulation Root', 'bystander Root', 'electrician Root', 'patient U Root', 'patient V Root', 'patient W Root', 'patient X Root']                                                                                             6\n",
       "['Adept Shooter Root', 'Adept Victim Root', 'Civilian 1 Female Root', 'Marine 1 Male Root', 'Marine 2 Male Root', 'Marine 3 Male Root', 'Marine 4 Male Root', 'NPC 1 Root', 'NPC 2 Root', 'NPC 3 Root', 'NPC 4 Root', 'Patient U Root', 'Patient V Root', 'Patient W Root', 'Patient X Root', 'Simulation Root']                                6\n",
       "['Civilian 1 Root', 'Civilian 2 Root', 'NPC Root', 'Open World Marine 1 Male Root', 'Open World Marine 2 Female Root', 'Open World Marine 3 Male Root', 'Open World Marine 4 Male Root', 'Patient U Root', 'Patient V Root', 'Patient W Root', 'Patient X Root']                                                                                5\n",
       "['Navy Soldier 1 Male Root', 'Navy Soldier 2 Male Root', 'Navy Soldier 3 Male Root', 'Navy Soldier 4 Female Root', 'bystander Root', 'electrician Root', 'patient U Root', 'patient V Root', 'patient W Root', 'patient X Root']                                                                                                                4\n",
       "['Local Soldier 1 Root', 'NPC 1 Root', 'NPC 2 Root', 'NPC 3 Root', 'NPC 4 Root', 'Open World Civilian 1 Male Root', 'Open World Civilian 2 Female Root', 'Open World Marine 1 Female Root', 'Open World Marine 2 Male Root', 'Patient U Root', 'Patient V Root', 'Patient W Root', 'Patient X Root', 'US Soldier 1 Root']                       4\n",
       "['Local Soldier 1 Root', 'Open World Civilian 1 Male Root', 'Open World Civilian 2 Female Root', 'Open World Marine 1 Female Root', 'Open World Marine 2 Male Root', 'Patient U Root', 'Patient V Root', 'Patient W Root', 'US Soldier 1 Root']                                                                                                 3\n",
       "['Civilian 1 Root', 'Civilian 2 Root', 'Open World Marine 1 Male Root', 'Open World Marine 2 Female Root', 'Open World Marine 3 Male Root', 'Open World Marine 4 Male Root', 'Patient U Root', 'Patient V Root', 'Patient W Root', 'Patient X Root']                                                                                            2\n",
       "['Local Soldier 1 Root', 'NPC 1 Root', 'NPC 2 Root', 'NPC 3 Root', 'NPC 4 Root', 'Open World Civilian 1 Male Root', 'Open World Civilian 2 Female Root', 'Open World Marine 1 Female Root', 'Open World Marine 2 Male Root', 'Patient U Root', 'Patient V Root', 'Patient W Root', 'Patient X Root', 'Simulation Root', 'US Soldier 1 Root']    2\n",
       "['Adept Shooter Root', 'Adept Victim Root', 'Civilian 1 Female Root', 'Marine 1 Male Root', 'Marine 2 Male Root', 'Marine 3 Male Root', 'Marine 4 Male Root', 'Patient U Root', 'Patient V Root', 'Patient W Root']                                                                                                                             2\n",
       "['Adept Shooter Root', 'Adept Victim Root', 'Civilian 1 Female Root', 'Marine 1 Male Root', 'Marine 2 Male Root', 'Marine 3 Male Root', 'Marine 4 Male Root', 'NPC 1 Root', 'NPC 2 Root', 'NPC 3 Root', 'NPC 4 Root', 'Patient U Root', 'Patient V Root', 'Patient W Root', 'Patient X Root']                                                   1\n",
       "dtype: int64"
      ]
     },
     "execution_count": 20,
     "metadata": {},
     "output_type": "execute_result"
    }
   ],
   "source": [
    "\n",
    "# Find the most popular patient_id list not in the spreadsheet\n",
    "patients_list = [x + ' Root' for x in first11_patients_list]\n",
    "print(patients_list)\n",
    "bads_list = []\n",
    "for (session_uuid, scene_id), scene_df in elevens_df.groupby(fu.scene_groupby_columns):\n",
    "    mask_series = ~scene_df.patient_id.isnull()\n",
    "    patients_df = scene_df[mask_series]\n",
    "    mask_series = patients_df.patient_id.isin(patients_list)\n",
    "    if not mask_series.all():\n",
    "        mask_series = ~scene_df.patient_id.isnull()\n",
    "        not_first11_list = sorted(scene_df[mask_series].patient_id.unique())\n",
    "        bads_list.append(str(not_first11_list))\n",
    "Series(bads_list).value_counts()"
   ]
  },
  {
   "cell_type": "code",
   "execution_count": 21,
   "id": "55574aef-c293-4367-8dab-5c684622da09",
   "metadata": {},
   "outputs": [
    {
     "data": {
      "text/plain": [
       "42"
      ]
     },
     "execution_count": 21,
     "metadata": {},
     "output_type": "execute_result"
    }
   ],
   "source": [
    "\n",
    "# Count the scenes that don't contain the spreadsheet's patient_id list\n",
    "sum([not scene_df[~scene_df.patient_id.isnull()].patient_id.isin(patients_list).all() for _, scene_df in elevens_df.groupby(\n",
    "    fu.scene_groupby_columns\n",
    ")])"
   ]
  },
  {
   "cell_type": "code",
   "execution_count": 22,
   "id": "c0747697-8482-4a38-8eac-0b822e2fac58",
   "metadata": {},
   "outputs": [
    {
     "data": {
      "text/plain": [
       "['Adept Shooter Root', 'Adept Victim Root', 'Civilian 1 Female Root', 'Marine 1 Male Root', 'Marine 2 Male Root', 'Marine 3 Male Root', 'Marine 4 Male Root', 'NPC 1 Root', 'NPC 2 Root', 'NPC 3 Root', 'NPC 4 Root', 'Patient U Root', 'Patient V Root', 'Patient W Root', 'Patient X Root', 'Simulation Root']"
      ]
     },
     "execution_count": 22,
     "metadata": {},
     "output_type": "execute_result"
    }
   ],
   "source": [
    "\n",
    "mask_series = ~scene_df.patient_id.isnull()\n",
    "sorted(scene_df[mask_series].patient_id.unique())"
   ]
  },
  {
   "cell_type": "code",
   "execution_count": 23,
   "id": "ac61ef29-26af-4b0d-856e-bd475f11d488",
   "metadata": {},
   "outputs": [
    {
     "data": {
      "text/plain": [
       "'Bob_0 Root, Gary_1 Root, Gary_3 Root, Gary_9 Root, Gloria_6 Root, Gloria_8 Root, Helga_10 Root, Lily_2 Root, Lily_4 Root, Mike_5 Root, and Mike_7 Root'"
      ]
     },
     "execution_count": 23,
     "metadata": {},
     "output_type": "execute_result"
    }
   ],
   "source": [
    "\n",
    "# Paste that list into a discussion\n",
    "nu.conjunctify_nouns([\n",
    "    'Bob_0 Root', 'Gary_1 Root', 'Gary_3 Root', 'Gary_9 Root', 'Gloria_6 Root', 'Gloria_8 Root', 'Helga_10 Root', 'Lily_2 Root',\n",
    "    'Lily_4 Root', 'Mike_5 Root', 'Mike_7 Root'\n",
    "])"
   ]
  },
  {
   "cell_type": "markdown",
   "id": "3cd328f3-7bd6-4130-9a7e-026d555cd187",
   "metadata": {},
   "source": [
    "\n",
    "## Get the Swap Counts"
   ]
  },
  {
   "cell_type": "code",
   "execution_count": 8,
   "id": "e1966c56-5726-40bb-a5d1-e58596f6e413",
   "metadata": {},
   "outputs": [
    {
     "data": {
      "text/plain": [
       "['Adept Shooter', 'Adept Victim', 'Civilian 1', 'Civilian 1 Female', 'Civilian 2', 'Local Soldier 1', 'Marine 1 Male', 'Marine 2 Male', 'Marine 3 Male', 'Marine 4 Male', 'NPC', 'NPC 1', 'NPC 2', 'NPC 3', 'NPC 4', 'Navy Soldier 1 Male', 'Navy Soldier 2 Male', 'Navy Soldier 3 Male', 'Navy Soldier 4 Female', 'Open World Civilian 1 Male', 'Open World Civilian 2 Female', 'Open World Marine 1 Female', 'Open World Marine 1 Male', 'Open World Marine 2 Female', 'Open World Marine 2 Male', 'Open World Marine 3 Male', 'Open World Marine 4 Male', 'Patient U', 'Patient V', 'Patient W', 'Patient X', 'Simulation', 'US Soldier 1', 'bystander', 'electrician', 'patient U', 'patient V', 'patient W', 'patient X']"
      ]
     },
     "execution_count": 8,
     "metadata": {},
     "output_type": "execute_result"
    }
   ],
   "source": [
    "\n",
    "# Get the list of all patients in the Metrics Evaluation Open World\n",
    "mask_series = ~elevens_df.patient_id.isnull()\n",
    "all_patients_list = sorted(elevens_df[mask_series].patient_id.map(lambda x: str(x).replace(' Root', '')).unique())\n",
    "all_patients_list"
   ]
  },
  {
   "cell_type": "code",
   "execution_count": 11,
   "id": "16fb9d2e-a8f5-4891-97c1-facfd14ae438",
   "metadata": {},
   "outputs": [
    {
     "data": {
      "text/html": [
       "<div>\n",
       "<style scoped>\n",
       "    .dataframe tbody tr th:only-of-type {\n",
       "        vertical-align: middle;\n",
       "    }\n",
       "\n",
       "    .dataframe tbody tr th {\n",
       "        vertical-align: top;\n",
       "    }\n",
       "\n",
       "    .dataframe thead th {\n",
       "        text-align: right;\n",
       "    }\n",
       "</style>\n",
       "<table border=\"1\" class=\"dataframe\">\n",
       "  <thead>\n",
       "    <tr style=\"text-align: right;\">\n",
       "      <th></th>\n",
       "      <th>Patient</th>\n",
       "      <th>Injuries</th>\n",
       "      <th>Vitals</th>\n",
       "      <th>SALT</th>\n",
       "      <th>Priority</th>\n",
       "      <th>Required Life Saving Intervention</th>\n",
       "      <th>Group</th>\n",
       "    </tr>\n",
       "  </thead>\n",
       "  <tbody>\n",
       "    <tr>\n",
       "      <th>3</th>\n",
       "      <td>Gary_1 Root</td>\n",
       "      <td>Face Shrapnel</td>\n",
       "      <td>Pulse faint|Resp. none|Responds No</td>\n",
       "      <td>Expectant</td>\n",
       "      <td>Still/Life Threat</td>\n",
       "      <td>None</td>\n",
       "      <td>1</td>\n",
       "    </tr>\n",
       "    <tr>\n",
       "      <th>6</th>\n",
       "      <td>Mike_7 Root</td>\n",
       "      <td>L Thigh Puncture|Calf Laceration</td>\n",
       "      <td>Pulse Fast|Resp. Normal|Responds|Waves</td>\n",
       "      <td>Delayed</td>\n",
       "      <td>Still/Life Threat</td>\n",
       "      <td>AppliedTourniquet|AppliedDressingGauze (Optional)</td>\n",
       "      <td>1</td>\n",
       "    </tr>\n",
       "    <tr>\n",
       "      <th>2</th>\n",
       "      <td>Bob_0 Root</td>\n",
       "      <td>Face Shrapnel|Collapsed Chest|Stomach Puncture...</td>\n",
       "      <td>Pulse absent|Resp. Absent|Responds No</td>\n",
       "      <td>Dead</td>\n",
       "      <td>Still/Life Threat</td>\n",
       "      <td>None</td>\n",
       "      <td>1</td>\n",
       "    </tr>\n",
       "    <tr>\n",
       "      <th>10</th>\n",
       "      <td>Helga_10 Root</td>\n",
       "      <td>Forehead Scrape</td>\n",
       "      <td>Pulse normal|Resp. Normal|Responds|Walks|Waves</td>\n",
       "      <td>Minimal</td>\n",
       "      <td>Walk</td>\n",
       "      <td>None</td>\n",
       "      <td>3</td>\n",
       "    </tr>\n",
       "    <tr>\n",
       "      <th>5</th>\n",
       "      <td>Lily_4 Root</td>\n",
       "      <td>L Side Puncture</td>\n",
       "      <td>Pulse fast|Resp. Normal|Waves</td>\n",
       "      <td>Immediate</td>\n",
       "      <td>Still/Life Threat</td>\n",
       "      <td>AppliedPackingGauze</td>\n",
       "      <td>1</td>\n",
       "    </tr>\n",
       "  </tbody>\n",
       "</table>\n",
       "</div>"
      ],
      "text/plain": [
       "          Patient                                           Injuries  \\\n",
       "3     Gary_1 Root                                      Face Shrapnel   \n",
       "6     Mike_7 Root                   L Thigh Puncture|Calf Laceration   \n",
       "2      Bob_0 Root  Face Shrapnel|Collapsed Chest|Stomach Puncture...   \n",
       "10  Helga_10 Root                                    Forehead Scrape   \n",
       "5     Lily_4 Root                                    L Side Puncture   \n",
       "\n",
       "                                            Vitals       SALT  \\\n",
       "3               Pulse faint|Resp. none|Responds No  Expectant   \n",
       "6           Pulse Fast|Resp. Normal|Responds|Waves    Delayed   \n",
       "2            Pulse absent|Resp. Absent|Responds No       Dead   \n",
       "10  Pulse normal|Resp. Normal|Responds|Walks|Waves    Minimal   \n",
       "5                    Pulse fast|Resp. Normal|Waves  Immediate   \n",
       "\n",
       "             Priority                  Required Life Saving Intervention  \\\n",
       "3   Still/Life Threat                                               None   \n",
       "6   Still/Life Threat  AppliedTourniquet|AppliedDressingGauze (Optional)   \n",
       "2   Still/Life Threat                                               None   \n",
       "10               Walk                                               None   \n",
       "5   Still/Life Threat                                AppliedPackingGauze   \n",
       "\n",
       "    Group  \n",
       "3       1  \n",
       "6       1  \n",
       "2       1  \n",
       "10      3  \n",
       "5       1  "
      ]
     },
     "metadata": {},
     "output_type": "display_data"
    }
   ],
   "source": [
    "\n",
    "# Get the optimal order data frame\n",
    "if nu.pickle_exists('first11_optimal_order_df'): first11_optimal_order_df = nu.load_object('first11_optimal_order_df')\n",
    "else:\n",
    "    file_path = '../data/xlsx/First11_Summary_Sheet_Optimal_Order_Groups_with_names.xlsx'\n",
    "    first11_optimal_order_df = read_excel(file_path)\n",
    "    columns_list = first11_optimal_order_df.iloc[:2].stack().dropna().tolist()\n",
    "    first11_optimal_order_df = first11_optimal_order_df.loc[2:].dropna(axis='columns', how='all')\n",
    "    first11_optimal_order_df.columns = columns_list[1:]\n",
    "    mask_series = ~first11_optimal_order_df.Patient.isnull()\n",
    "    idx_list = first11_optimal_order_df[mask_series].index.tolist()\n",
    "    rows_list = []\n",
    "    for start, stop in zip(idx_list, idx_list[1:]):\n",
    "        df = first11_optimal_order_df.loc[start: stop-1]\n",
    "        injuries_list = df.Injuries.dropna().to_list()\n",
    "        vitals_list = df.Vitals.dropna().to_list()\n",
    "        row_dict = list(df.drop(columns=['Injuries', 'Vitals']).dropna(axis='index', how='all').T.to_dict().values())[0]\n",
    "        row_dict['Injuries'] = '/'.join(injuries_list)\n",
    "        row_dict['Vitals'] = '/'.join(vitals_list)\n",
    "        rows_list.append(row_dict)\n",
    "    df = first11_optimal_order_df.loc[stop:]\n",
    "    injuries_list = df.Injuries.dropna().to_list()\n",
    "    vitals_list = df.Vitals.dropna().to_list()\n",
    "    row_dict = list(df.drop(columns=['Injuries', 'Vitals']).dropna(axis='index', how='all').T.to_dict().values())[0]\n",
    "    row_dict['Injuries'] = '/'.join(injuries_list)\n",
    "    row_dict['Vitals'] = '/'.join(vitals_list)\n",
    "    rows_list.append(row_dict)\n",
    "    first11_optimal_order_df = DataFrame(rows_list)\n",
    "    print(first11_optimal_order_df.shape) # (11, 7)\n",
    "    \n",
    "    # Save so you don't have to run it again\n",
    "    nu.store_objects(first11_optimal_order_df=first11_optimal_order_df)\n",
    "    nu.save_data_frames(first11_optimal_order_df=first11_optimal_order_df)\n",
    "\n",
    "display(first11_optimal_order_df.sample(5))"
   ]
  },
  {
   "cell_type": "code",
   "execution_count": 12,
   "id": "8cded5f5-e507-4113-bf8c-7ef78dadffbd",
   "metadata": {},
   "outputs": [
    {
     "data": {
      "text/plain": [
       "['Bob_0', 'Bob_9', 'Gary_1', 'Gary_3', 'Gary_9', 'Gloria_6', 'Gloria_8', 'Helga_10', 'Lily_2', 'Lily_4', 'Mike_5', 'Mike_7']"
      ]
     },
     "execution_count": 12,
     "metadata": {},
     "output_type": "execute_result"
    }
   ],
   "source": [
    "\n",
    "# Get the patients list from the spreadsheet\n",
    "mask_series = ~first11_optimal_order_df.Patient.isnull()\n",
    "first11_patients_list = sorted(first11_optimal_order_df[mask_series].Patient.map(lambda x: str(x).replace(' Root', '')).unique())\n",
    "first11_patients_list"
   ]
  },
  {
   "cell_type": "code",
   "execution_count": 15,
   "id": "e81b834b-3cc4-44b6-ba36-d8d5e2d429f3",
   "metadata": {},
   "outputs": [
    {
     "name": "stdout",
     "output_type": "stream",
     "text": [
      "{'Gary_3 Root': 1, 'Lily_2 Root': 1, 'Bob_0 Root': 1, 'Gary_1 Root': 1, 'Mike_5 Root': 1, 'Lily_4 Root': 1, 'Mike_7 Root': 1, 'Gloria_6 Root': 2, 'Bob_9 Root': 3, 'Gloria_8 Root': 3, 'Helga_10 Root': 3, 'Gary_9 Root': 3}\n"
     ]
    }
   ],
   "source": [
    "\n",
    "# Get priority group dictionary and set a column with in the merge dataset\n",
    "mask_series = ~first11_optimal_order_df.Patient.isnull()\n",
    "priority_group_dict = first11_optimal_order_df[mask_series].set_index('Patient').Group.to_dict()\n",
    "print(priority_group_dict)\n",
    "mask_series = elevens_df.patient_id.isin(first11_patients_list)\n",
    "elevens_df.loc[mask_series, 'priority_group'] = elevens_df.loc[mask_series, 'patient_id'].map(priority_group_dict)"
   ]
  },
  {
   "cell_type": "code",
   "execution_count": 16,
   "id": "b8614a3b-b2d2-4fe0-9cbc-a03f5553cb59",
   "metadata": {},
   "outputs": [
    {
     "name": "stdout",
     "output_type": "stream",
     "text": [
      "71280 26 112\n"
     ]
    }
   ],
   "source": [
    "\n",
    "# Get a dataset of only first11 patients\n",
    "nongrouped_patients_list = sorted(set(all_patients_list).difference(set(first11_patients_list)))\n",
    "mask_series = ~elevens_df.patient_id.isin(nongrouped_patients_list)\n",
    "grouped_patients_df = elevens_df[mask_series]\n",
    "print(grouped_patients_df.shape[0], grouped_patients_df.session_uuid.nunique(), grouped_patients_df.shape[1]) # 390559 331 116"
   ]
  },
  {
   "cell_type": "code",
   "execution_count": 17,
   "id": "590f114b-6e3c-4be6-b460-dbdf84e2f738",
   "metadata": {},
   "outputs": [
    {
     "name": "stdout",
     "output_type": "stream",
     "text": [
      "(27, 3)\n",
      "Pickling to /mnt/c/Users/DaveBabbitt/Documents/GitHub/itm-analysis-reporting/saves/pkl/ow_count_swaps_df.pkl\n",
      "Saving to /mnt/c/Users/DaveBabbitt/Documents/GitHub/itm-analysis-reporting/saves/csv/ow_count_swaps_df.csv\n"
     ]
    }
   ],
   "source": [
    "\n",
    "# Examine the priority group sequences\n",
    "rows_list = []\n",
    "for (session_uuid, scene_id), scene_df in grouped_patients_df.groupby(fu.scene_groupby_columns):\n",
    "    row_dict = {cn: eval(cn) for cn in fu.scene_groupby_columns}\n",
    "    actual_sequence, ideal_sequence, sort_dict = fu.get_actual_and_ideal_priority_group_sequences(scene_df, verbose=False)\n",
    "    unsort_dict = {v1: k for k, v in sort_dict.items() for v1 in v}\n",
    "    row_dict['swaps_to_perfect_order_count'] = nu.count_swaps_to_perfect_order(\n",
    "        [unsort_dict[i] for i in ideal_sequence], [unsort_dict[a] for a in actual_sequence]\n",
    "    )\n",
    "    rows_list.append(row_dict)\n",
    "ow_count_swaps_df = DataFrame(rows_list)\n",
    "print(ow_count_swaps_df.shape) # (334, 3)\n",
    "\n",
    "nu.store_objects(ow_count_swaps_df=ow_count_swaps_df)\n",
    "nu.save_data_frames(ow_count_swaps_df=ow_count_swaps_df)"
   ]
  },
  {
   "cell_type": "markdown",
   "id": "67762a6a-c8bf-4235-8ead-64f0a0c9037e",
   "metadata": {},
   "source": [
    "\n",
    "# Maintenance"
   ]
  },
  {
   "cell_type": "markdown",
   "id": "a0d27f19-a937-4746-bb76-49108ff346da",
   "metadata": {},
   "source": [
    "\n",
    "## Get Testing Dataset"
   ]
  },
  {
   "cell_type": "code",
   "execution_count": null,
   "id": "a88cd4d9-6564-42fd-8605-c1837ffa9c5b",
   "metadata": {},
   "outputs": [],
   "source": [
    "\n",
    "# Get sample scene data frame for testing\n",
    "columns_list = ['patient_sort', 'patient_id', 'action_type', 'action_tick']\n",
    "for (session_uuid, scene_id), scene_df in elevens_df.groupby(fu.scene_groupby_columns):\n",
    "    df = DataFrame([], columns=columns_list)\n",
    "    mask_series = ~scene_df.patient_sort.isnull() & scene_df.action_type.isin(fu.responder_negotiations_list)\n",
    "    for patient_id, patient_df in scene_df[mask_series].groupby('patient_id'):\n",
    "        df = concat([df, patient_df[columns_list].sort_values('action_tick').head(1)], axis='index')\n",
    "    if (df.shape[0] > 6): break\n",
    "print(\"\"\"\n",
    "        # Sample scene dataframe\n",
    "        self.scene_df = pd.DataFrame({\"\"\")\n",
    "for k, v in dict(df.sample(6).to_dict(orient='list')).items(): print(f\"            '{k}': {v},\")\n",
    "print('        })')"
   ]
  },
  {
   "cell_type": "code",
   "execution_count": null,
   "id": "7e4488ec-cbe8-4116-aca1-690ae169e3dd",
   "metadata": {},
   "outputs": [],
   "source": [
    "\n",
    "# Sample scene dataframe\n",
    "scene_df = DataFrame({\n",
    "    'patient_sort': ['waver', 'waver', 'still', 'waver', 'waver', 'walker'],\n",
    "    'patient_id': ['Gloria_6 Root', 'Lily_2 Root', 'Gary_3 Root', 'Mike_5 Root', 'Lily_4 Root', 'Gloria_8 Root'],\n",
    "    'action_type': ['PATIENT_ENGAGED', 'PATIENT_ENGAGED', 'PATIENT_ENGAGED', 'PATIENT_ENGAGED', 'PATIENT_ENGAGED', 'PATIENT_ENGAGED'],\n",
    "    'action_tick': [384722, 409276, 336847, 438270, 607365, 346066],\n",
    "})\n",
    "\n",
    "expected_actual_sequence, expected_ideal_sequence, expected_sort_dict = fu.get_actual_and_ideal_priority_group_sequences(scene_df)\n",
    "print(f\"\"\"\n",
    "        # Expected results\n",
    "        expected_actual_sequence = pd.Series(data={str(expected_actual_sequence.tolist()).replace('.0', '').replace('nan', 'np.nan')})\n",
    "        expected_ideal_sequence = pd.Series(data={str(expected_ideal_sequence.tolist()).replace('.0', '').replace('nan', 'np.nan')})\n",
    "        expected_sort_dict = {expected_sort_dict}\"\"\")"
   ]
  },
  {
   "cell_type": "code",
   "execution_count": 7,
   "id": "ea7e8673-3ac7-4a11-8b05-326315146e0c",
   "metadata": {},
   "outputs": [
    {
     "data": {
      "text/plain": [
       "['patient_demoted_sort', 'patient_engaged_sort', 'patient_record_sort', 'patient_sort', 's_a_l_t_walk_if_can_sort_command_text', 's_a_l_t_walk_if_can_sort_location', 's_a_l_t_walked_sort_command_text', 's_a_l_t_walked_sort_location', 's_a_l_t_wave_if_can_sort_command_text', 's_a_l_t_wave_if_can_sort_location', 's_a_l_t_waved_sort_command_text', 's_a_l_t_waved_sort_location']"
      ]
     },
     "execution_count": 7,
     "metadata": {},
     "output_type": "execute_result"
    }
   ],
   "source": [
    "\n",
    "sorted([cn for cn in elevens_df.columns if 'sort' in cn])"
   ]
  },
  {
   "cell_type": "code",
   "execution_count": null,
   "id": "5a1c4d02-f609-4233-a2f8-b484311277cb",
   "metadata": {},
   "outputs": [],
   "source": []
  }
 ],
 "metadata": {
  "kernelspec": {
   "display_name": "ITM Analysis Reporting (Python 3.11.7)",
   "language": "python",
   "name": "itm_analysis_reporting"
  },
  "language_info": {
   "codemirror_mode": {
    "name": "ipython",
    "version": 3
   },
   "file_extension": ".py",
   "mimetype": "text/x-python",
   "name": "python",
   "nbconvert_exporter": "python",
   "pygments_lexer": "ipython3",
   "version": "3.7.12"
  }
 },
 "nbformat": 4,
 "nbformat_minor": 5
}
