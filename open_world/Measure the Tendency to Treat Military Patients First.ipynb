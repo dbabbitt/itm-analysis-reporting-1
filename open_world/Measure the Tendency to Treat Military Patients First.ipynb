{
 "cells": [
  {
   "cell_type": "code",
   "execution_count": 1,
   "id": "733d4183-f287-4716-b4cc-13d9faa86caf",
   "metadata": {},
   "outputs": [
    {
     "name": "stdout",
     "output_type": "stream",
     "text": [
      "Pretty printing has been turned OFF\n"
     ]
    }
   ],
   "source": [
    "\n",
    "# Set up notebook\n",
    "%pprint\n",
    "import sys\n",
    "if (osp.join(os.pardir, 'py') not in sys.path): sys.path.insert(1, osp.join(os.pardir, 'py'))"
   ]
  },
  {
   "cell_type": "code",
   "execution_count": 11,
   "id": "7327cda3-4e3e-439d-b093-9b973c1a97b4",
   "metadata": {},
   "outputs": [],
   "source": [
    "\n",
    "# load libraries\n",
    "from FRVRS import (nu, fu, Series, DataFrame)"
   ]
  },
  {
   "cell_type": "markdown",
   "id": "f377d96e-431b-43b2-9196-e5e182a117b2",
   "metadata": {},
   "source": [
    "\n",
    "## Use the CSV Data from the Last Successful Build"
   ]
  },
  {
   "cell_type": "code",
   "execution_count": 4,
   "id": "018887ec-d560-4a1d-b268-2e1ac4caa20f",
   "metadata": {},
   "outputs": [
    {
     "name": "stdout",
     "output_type": "stream",
     "text": [
      "No pickle exists for csv_stats_df - attempting to load /mnt/c/Users/DaveBabbitt/Documents/GitHub/itm-analysis-reporting/saves/csv/csv_stats_df.csv.\n",
      "(158663, 125)\n",
      "['injury_record_patient_id', 'injury_treated_patient_id', 'patient_id', 'player_gaze_patient_id', 'pulse_taken_patient_id', 'tag_applied_patient_id', 'tool_applied_patient_id', 'triage_level_walk_if_can_patient_id', 'triage_level_walked_patient_id', 'triage_level_wave_if_can_patient_id', 'triage_level_waved_patient_id']\n"
     ]
    }
   ],
   "source": [
    "\n",
    "# load the CSV data frame from the last successful build\n",
    "df_name = 'csv_stats_df'\n",
    "data_frames_dict = nu.load_data_frames(\n",
    "    verbose=True, **{df_name: ''}\n",
    ")\n",
    "csv_stats_df = data_frames_dict[df_name].copy()\n",
    "print(csv_stats_df.shape)\n",
    "print(sorted([cn for cn in csv_stats_df.columns if 'patient_id' in cn]))"
   ]
  },
  {
   "cell_type": "markdown",
   "id": "cf630578-a66b-4d10-a4b0-392d300237d3",
   "metadata": {},
   "source": [
    "\n",
    "## Use the is-military classifier to give every patient a value between 0 and 1"
   ]
  },
  {
   "cell_type": "code",
   "execution_count": 5,
   "id": "f3a4855a-ed51-4f87-8fdd-c91686285b3d",
   "metadata": {},
   "outputs": [],
   "source": [
    "\n",
    "# Load the pretrained classifer, vectorizor, and transformer\n",
    "is_military_classifier = nu.load_object('is_military_classifier')\n",
    "is_military_tt = nu.load_object('is_military_tt')\n",
    "is_military_cv = nu.load_object('is_military_cv')"
   ]
  },
  {
   "cell_type": "code",
   "execution_count": 6,
   "id": "ba77d164-550d-440f-8741-f4f429cae316",
   "metadata": {},
   "outputs": [],
   "source": [
    "\n",
    "# Add a column to give every patient a value between 0 and 1\n",
    "for patient_id, patients_df in csv_stats_df.groupby('patient_id'):\n",
    "    if any(map(lambda x: x in patient_id.lower(), ['civilian'])):\n",
    "        is_military = 0.0\n",
    "    elif any(map(lambda x: x in patient_id.lower(), ['officer', 'soldier', 'marine', 'military', 'navy'])):\n",
    "        is_military = 1.0\n",
    "    else:\n",
    "        \n",
    "        # Predict if its military\n",
    "        X_test = is_military_tt.transform(is_military_cv.transform([patient_id])).toarray()\n",
    "        is_military = is_military_classifier.predict_proba(X_test)[0][1]\n",
    "    \n",
    "    # Store the prediction in the predict_proba column\n",
    "    csv_stats_df.loc[patients_df.index, 'is_military_prediction'] = is_military"
   ]
  },
  {
   "cell_type": "markdown",
   "id": "8e45532d-6999-4f7e-845d-11b375aa8f6e",
   "metadata": {},
   "source": [
    "\n",
    "### Test it on every patient"
   ]
  },
  {
   "cell_type": "code",
   "execution_count": 7,
   "id": "e26978ea-953f-4c10-b97c-abc6e7596b21",
   "metadata": {},
   "outputs": [
    {
     "data": {
      "text/plain": [
       "['Local Soldier 1 Root', 'Marine 1 Male Root', 'Marine 2 Male Root', 'Marine 3 Male Root', 'Marine 4 Male Root', 'Navy Soldier 1 Male Root', 'Navy Soldier 2 Male Root', 'Navy Soldier 3 Male Root', 'Navy Soldier 4 Female Root', 'Open World Marine 1 Female Root', 'Open World Marine 1 Male Root', 'Open World Marine 2 Female Root', 'Open World Marine 2 Male Root', 'Open World Marine 3 Male Root', 'Open World Marine 4 Male Root', 'US Soldier 1 Root']"
      ]
     },
     "execution_count": 7,
     "metadata": {},
     "output_type": "execute_result"
    }
   ],
   "source": [
    "\n",
    "# Show the list of military patients\n",
    "mask_series = (csv_stats_df.is_military_prediction == 1.0) & ~csv_stats_df.patient_id.isnull()\n",
    "sorted(csv_stats_df[mask_series].patient_id.unique())"
   ]
  },
  {
   "cell_type": "code",
   "execution_count": 8,
   "id": "7b649e40-f019-47a4-94b1-49246da00a87",
   "metadata": {},
   "outputs": [
    {
     "data": {
      "text/plain": [
       "['Adept Shooter Root', 'Adept Victim Root', 'Civilian 1 Female Root', 'Civilian 1 Root', 'Civilian 2 Root', 'NPC 1 Root', 'NPC 2 Root', 'NPC 3 Root', 'NPC 4 Root', 'NPC Root', 'Open World Civilian 1 Male Root', 'Open World Civilian 2 Female Root', 'Patient U Root', 'Patient V Root', 'Patient W Root', 'Patient X Root', 'Simulation Root', 'bystander Root', 'electrician Root', 'patient U Root', 'patient V Root', 'patient W Root', 'patient X Root']"
      ]
     },
     "execution_count": 8,
     "metadata": {},
     "output_type": "execute_result"
    }
   ],
   "source": [
    "\n",
    "# Show the list of non-military patients\n",
    "mask_series = (csv_stats_df.is_military_prediction == 0.0) & ~csv_stats_df.patient_id.isnull()\n",
    "sorted(csv_stats_df[mask_series].patient_id.unique())"
   ]
  },
  {
   "cell_type": "code",
   "execution_count": 9,
   "id": "6ce53633-2f20-4348-924a-b5f2821a5c1d",
   "metadata": {},
   "outputs": [
    {
     "data": {
      "text/plain": [
       "[]"
      ]
     },
     "execution_count": 9,
     "metadata": {},
     "output_type": "execute_result"
    }
   ],
   "source": [
    "\n",
    "# Show the list of edge cases\n",
    "mask_series = (csv_stats_df.is_military_prediction < 1.0) & (csv_stats_df.is_military_prediction > 0.0) & ~csv_stats_df.patient_id.isnull()\n",
    "sorted(csv_stats_df[mask_series].patient_id.unique())"
   ]
  },
  {
   "cell_type": "markdown",
   "id": "c1123136-05a4-4080-b4f0-a0e101740b92",
   "metadata": {},
   "source": [
    "\n",
    "## Calculate the measure for every session and display a histogram"
   ]
  },
  {
   "cell_type": "code",
   "execution_count": 14,
   "id": "134ef2f2-e6f2-47f3-9933-8cff9e0e8922",
   "metadata": {},
   "outputs": [],
   "source": [
    "\n",
    "# Calculate the R-squared adjusted value as a measure of right ordering for every session\n",
    "rows_list = []\n",
    "groupby_columns = ['participant_id', 'session_uuid']\n",
    "for (participant_id, session_uuid), session_df in csv_stats_df.groupby(groupby_columns):\n",
    "    row_dict = {cn: eval(cn) for cn in groupby_columns}\n",
    "    \n",
    "    # Extract the actual and ideal sequences of first interactions from the scene in terms of is/isn't military\n",
    "    engagement_starts_list = fu.get_order_of_actual_engagement(session_df)\n",
    "    actual_sequence = []\n",
    "    for engagement_tuple in engagement_starts_list:\n",
    "        patient_id = engagement_tuple[0]\n",
    "        if any(map(lambda x: x in patient_id.lower(), ['civilian'])):\n",
    "            is_military = 0.0\n",
    "        elif any(map(lambda x: x in patient_id.lower(), ['officer', 'soldier', 'marine', 'military', 'navy'])):\n",
    "            is_military = 1.0\n",
    "        else:\n",
    "            X_test = is_military_tt.transform(is_military_cv.transform([patient_id])).toarray()\n",
    "            is_military = is_military_classifier.predict_proba(X_test)[0][1]\n",
    "        actual_sequence.append(is_military)\n",
    "    ideal_sequence = sorted(actual_sequence)[::-1]\n",
    "    \n",
    "    # Calculate the R-squared adjusted value as a measure of right ordering\n",
    "    measure_of_right_ordering = fu.get_measure_of_ordering(Series(actual_sequence), Series(ideal_sequence))\n",
    "    row_dict['measure_of_right_ordering'] = measure_of_right_ordering\n",
    "\n",
    "    rows_list.append(row_dict)\n",
    "right_ordering_df = DataFrame(rows_list)"
   ]
  },
  {
   "cell_type": "code",
   "execution_count": 16,
   "id": "d4859608-89ab-4e0a-ba4d-3efdda67d38c",
   "metadata": {},
   "outputs": [
    {
     "data": {
      "image/png": "[encoded data removed]",
      "text/plain": [
       "<Figure size 1244.44x700 with 1 Axes>"
      ]
     },
     "metadata": {},
     "output_type": "display_data"
    }
   ],
   "source": [
    "\n",
    "# Show a histogram of the measure\n",
    "from matplotlib import pyplot as plt\n",
    "fig_height = 7\n",
    "fig_size=(nu.twitter_aspect_ratio*fig_height, fig_height)\n",
    "fig, ax = plt.subplots(figsize=fig_size)\n",
    "axes_subplot_obj = right_ordering_df.measure_of_right_ordering.hist(ax=ax, align='mid', edgecolor='black')\n",
    "\n",
    "# Display x value of each bar on bar\n",
    "bars_collection = axes_subplot_obj.patches\n",
    "for rect in bars_collection:\n",
    "    height = rect.get_height()\n",
    "    x_value = rect.get_x() + rect.get_width() / 2.0\n",
    "    ax.text(x_value, height, f'{x_value:0.2f}', ha='center', va='bottom')\n",
    "\n",
    "# Set the grid, title, and labels\n",
    "plt.grid(False)\n",
    "ax.set_title('Histogram of a Measure of the Tendency to Treat Military Patients First')\n",
    "ax.set_xlabel('R-squared Adjusted Value against the Military-favoring Sequence')\n",
    "ax.set_ylabel('Count of Instances in Bin')\n",
    "\n",
    "left_lim, right_lim = ax.get_xlim()\n",
    "xlim_tuple = ax.set_xlim(left=-right_lim, right=right_lim)"
   ]
  },
  {
   "cell_type": "code",
   "execution_count": null,
   "id": "f7755c75-58bc-4d6f-8683-f5eac8444d28",
   "metadata": {},
   "outputs": [],
   "source": []
  }
 ],
 "metadata": {
  "kernelspec": {
   "display_name": "ITM Analysis Reporting (Python 3.11.7)",
   "language": "python",
   "name": "itm_analysis_reporting"
  },
  "language_info": {
   "codemirror_mode": {
    "name": "ipython",
    "version": 3
   },
   "file_extension": ".py",
   "mimetype": "text/x-python",
   "name": "python",
   "nbconvert_exporter": "python",
   "pygments_lexer": "ipython3",
   "version": "3.7.12"
  }
 },
 "nbformat": 4,
 "nbformat_minor": 5
}
