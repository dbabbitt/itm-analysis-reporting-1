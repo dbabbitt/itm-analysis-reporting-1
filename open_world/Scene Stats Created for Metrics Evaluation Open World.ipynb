{
 "cells": [
  {
   "cell_type": "code",
   "execution_count": 1,
   "id": "3a5d88d0-ee28-42bf-b2df-28ef5f83333a",
   "metadata": {},
   "outputs": [
    {
     "name": "stdout",
     "output_type": "stream",
     "text": [
      "Pretty printing has been turned OFF\n"
     ]
    }
   ],
   "source": [
    "\n",
    "# Set up the notebook\n",
    "%pprint\n",
    "import sys\n",
    "if (osp.join('..', 'py') not in sys.path): sys.path.insert(1, osp.join('..', 'py'))"
   ]
  },
  {
   "cell_type": "code",
   "execution_count": 2,
   "id": "2c46f8e2-a5c3-4fbb-9ec6-462e63b4d613",
   "metadata": {},
   "outputs": [],
   "source": [
    "\n",
    "from FRVRS import (\n",
    "    fu, nu, nan, isnan, listdir, makedirs, osp, remove, sep, walk, CategoricalDtype, DataFrame, Index, NaT, Series, concat, isna,\n",
    "    notnull, read_csv, read_excel, read_pickle, to_datetime, math, np, re, subprocess, sys, warnings, pickle, display, to_numeric, csv, sm\n",
    ")\n",
    "import json\n",
    "\n",
    "warnings.filterwarnings('ignore')"
   ]
  },
  {
   "cell_type": "markdown",
   "id": "59b2c7d2-f276-4bd9-87db-47aad4f30ce5",
   "metadata": {},
   "source": [
    "\n",
    "# Scene Stats Created for Metrics Evaluation Open World"
   ]
  },
  {
   "cell_type": "code",
   "execution_count": 3,
   "id": "60c41bbd-d759-42c4-839f-69f6bd450de2",
   "metadata": {},
   "outputs": [
    {
     "name": "stdout",
     "output_type": "stream",
     "text": [
      "No pickle exists for metrics_evaluation_open_world_csv_stats_df - attempting to load /mnt/c/Users/DaveBabbitt/Documents/GitHub/itm-analysis-reporting/saves/csv/metrics_evaluation_open_world_csv_stats_df.csv.\n",
      "(199476, 124)\n"
     ]
    }
   ],
   "source": [
    "\n",
    "# load data frames\n",
    "data_frames_dict = nu.load_data_frames(metrics_evaluation_open_world_csv_stats_df='')\n",
    "csv_stats_df = data_frames_dict['metrics_evaluation_open_world_csv_stats_df']\n",
    "print(csv_stats_df.shape) # (276926, 109)"
   ]
  },
  {
   "cell_type": "code",
   "execution_count": null,
   "id": "1b7b3877-89fa-4950-a1f6-191362388f02",
   "metadata": {},
   "outputs": [],
   "source": [
    "\n",
    "# Add back in the orientation scenes and other scenes not in our poster (which doubles the size of the sample)\n",
    "if nu.pickle_exists('metrics_evaluation_open_world_distance_delta_df'):\n",
    "    distance_delta_df = nu.load_data_frames(\n",
    "        metrics_evaluation_open_world_distance_delta_df=''\n",
    "    )['metrics_evaluation_open_world_distance_delta_df']\n",
    "else:\n",
    "    distance_delta_df = fu.get_distance_deltas_dataframe(csv_stats_df)\n",
    "    \n",
    "    # Add the agony column\n",
    "    if 'has_patient_in_agony' not in distance_delta_df.columns:\n",
    "        distance_delta_df['has_patient_in_agony'] = False\n",
    "        for (session_uuid, scene_id), idx_df in distance_delta_df.groupby(fu.scene_groupby_columns):\n",
    "            \n",
    "            # Get the whole scene history\n",
    "            mask_series = True\n",
    "            for cn in fu.scene_groupby_columns: mask_series &= (csv_stats_df[cn] == eval(cn))\n",
    "            scene_df = csv_stats_df[mask_series]\n",
    "            \n",
    "            # Get whether any patient in the scene is in agony\n",
    "            mask_series = False\n",
    "            for cn in fu.mood_columns_list: mask_series |= (scene_df[cn] == 'agony')\n",
    "            \n",
    "            # Mark the scene in distance delta as agonistic\n",
    "            if mask_series.any(): distance_delta_df.loc[idx_df.index, 'has_patient_in_agony'] = True\n",
    "    \n",
    "    # Add the patient count column\n",
    "    if 'patient_count' not in distance_delta_df.columns:\n",
    "        import numpy as np\n",
    "        distance_delta_df['patient_count'] = nan\n",
    "        for (session_uuid, scene_id), idx_df in distance_delta_df.groupby(fu.scene_groupby_columns):\n",
    "            \n",
    "            # Get the whole scene history\n",
    "            mask_series = True\n",
    "            for cn in fu.scene_groupby_columns: mask_series &= (csv_stats_df[cn] == eval(cn))\n",
    "            scene_df = csv_stats_df[mask_series]\n",
    "            \n",
    "            # Get patient_count\n",
    "            distance_delta_df.loc[idx_df.index, 'patient_count'] = fu.get_patient_count(scene_df)\n",
    "    \n",
    "    if 'cluster_label' not in distance_delta_df.columns:\n",
    "        from sklearn.cluster import DBSCAN\n",
    "        columns_list = ['actual_engagement_distance']\n",
    "        X = distance_delta_df[columns_list].values\n",
    "        \n",
    "        # Set appropriate parameters for DBSCAN based on what gives 4 clusters\n",
    "        dbscan = DBSCAN(eps=5, min_samples=1)\n",
    "        dbscan.fit(X)\n",
    "        \n",
    "        # Get cluster labels for each data point\n",
    "        distance_delta_df['cluster_label'] = dbscan.labels_\n",
    "    \n",
    "    nu.store_objects(metrics_evaluation_open_world_distance_delta_df=distance_delta_df)\n",
    "    nu.save_data_frames(metrics_evaluation_open_world_distance_delta_df=distance_delta_df)\n",
    "print(distance_delta_df.shape) # (133, 15)\n",
    "print(sorted(distance_delta_df.columns))"
   ]
  },
  {
   "cell_type": "code",
   "execution_count": null,
   "id": "aec593c6-f247-4dfa-a6c9-2b8c8b006d26",
   "metadata": {},
   "outputs": [],
   "source": [
    "\n",
    "def add_scene_columns_to_row(scene_df, row_dict):\n",
    "    row_dict['first_engagement'] = fu.get_first_engagement(scene_df)\n",
    "    row_dict['first_treatment'] = fu.get_first_treatment(scene_df)\n",
    "    row_dict['injury_correctly_treated_count'] = fu.get_injury_correctly_treated_count(scene_df)\n",
    "    row_dict['injury_not_treated_count'] = fu.get_injury_not_treated_count(scene_df)\n",
    "    row_dict['injury_treatments_count'] = fu.get_injury_treatments_count(scene_df)\n",
    "    row_dict['injury_wrongly_treated_count'] = fu.get_injury_wrongly_treated_count(scene_df)\n",
    "    row_dict['is_scene_aborted'] = fu.get_is_scene_aborted(scene_df)\n",
    "    row_dict['last_engagement'] = fu.get_last_engagement(scene_df)\n",
    "    row_dict['patient_count'] = fu.get_patient_count(scene_df)\n",
    "    row_dict['percent_hemorrhage_controlled'] = fu.get_percent_hemorrhage_controlled(scene_df)\n",
    "    row_dict['pulse_taken_count'] = fu.get_pulse_taken_count(scene_df)\n",
    "    row_dict['scene_end'] = fu.get_scene_end(scene_df)\n",
    "    row_dict['scene_start'] = fu.get_scene_start(scene_df)\n",
    "    row_dict['scene_type'] = fu.get_scene_type(scene_df)\n",
    "    row_dict['stills_value'] = fu.get_stills_value(scene_df)\n",
    "    row_dict['teleport_count'] = fu.get_teleport_count(scene_df)\n",
    "    row_dict['time_to_hemorrhage_control_per_patient'] = fu.get_time_to_hemorrhage_control_per_patient(scene_df)\n",
    "    row_dict['time_to_last_hemorrhage_controlled'] = fu.get_time_to_last_hemorrhage_controlled(scene_df)\n",
    "    row_dict['total_actions_count'] = fu.get_total_actions_count(scene_df)\n",
    "    row_dict['triage_time'] = fu.get_triage_time(scene_df)\n",
    "    row_dict['voice_capture_count'] = fu.get_voice_capture_count(scene_df)\n",
    "    row_dict['walk_command_count'] = fu.get_walk_command_count(scene_df)\n",
    "    row_dict['walk_value'] = fu.get_walk_value(scene_df)\n",
    "    row_dict['walkers_value'] = fu.get_walkers_value(scene_df)\n",
    "    row_dict['wave_command_count'] = fu.get_wave_command_count(scene_df)\n",
    "    row_dict['wave_value'] = fu.get_wave_value(scene_df)\n",
    "\n",
    "    return row_dict"
   ]
  },
  {
   "cell_type": "code",
   "execution_count": null,
   "id": "916fcf14-59bf-4b46-ab48-8f6d19f9a843",
   "metadata": {},
   "outputs": [],
   "source": [
    "\n",
    "rows_list = []\n",
    "engagment_columns_list = ['patient_id', 'engagement_start', 'location_tuple', 'patient_sort', 'predicted_priority', 'injury_severity']\n",
    "for (session_uuid, scene_id), idx_df in distance_delta_df.groupby(fu.scene_groupby_columns):\n",
    "    row_dict = list(idx_df.T.to_dict().values())[0]\n",
    "    \n",
    "    # Get the whole scene history\n",
    "    mask_series = True\n",
    "    for cn in fu.scene_groupby_columns: mask_series &= (csv_stats_df[cn] == eval(cn))\n",
    "    if mask_series.any():\n",
    "        scene_df = csv_stats_df[mask_series]\n",
    "        row_dict['participant_id'] = scene_df.participant_id.iloc[0]\n",
    "        \n",
    "        # Get all the FRVRS utils scalar scene values\n",
    "        row_dict = add_scene_columns_to_row(scene_df, row_dict)\n",
    "    \n",
    "    rows_list.append(row_dict)\n",
    "scene_stats_df = DataFrame(rows_list)\n",
    "nu.store_objects(metrics_evaluation_open_world_scene_stats_df=scene_stats_df)\n",
    "nu.save_data_frames(metrics_evaluation_open_world_scene_stats_df=scene_stats_df)\n",
    "print(scene_stats_df.shape) # (43, 49)"
   ]
  },
  {
   "cell_type": "code",
   "execution_count": null,
   "id": "ca521681-e2e6-45c3-a4df-0473c3ea106e",
   "metadata": {},
   "outputs": [],
   "source": [
    "\n",
    "# Check if all the patient IDs in any run are some variant of Mike and designate those runs as \"Orientation\"\n",
    "new_column_name = 'scene_type'\n",
    "if (new_column_name in scene_stats_df.columns): scene_stats_df = scene_stats_df.drop(columns=new_column_name)\n",
    "if (new_column_name not in scene_stats_df.columns): scene_stats_df[new_column_name] = 'Triage'\n",
    "column_value = 'Orientation'\n",
    "if (column_value not in scene_stats_df.scene_type):\n",
    "    \n",
    "    # Filter out those files from the dataset and mark them\n",
    "    for (session_uuid, scene_id), scene_df in csv_stats_df.groupby(fu.scene_groupby_columns):\n",
    "        patients_list = sorted(scene_df[~scene_df.patient_id.isnull()].patient_id.unique())\n",
    "        is_mike_series = Series(patients_list).map(lambda x: 'mike' in str(x).lower())\n",
    "        if is_mike_series.all():\n",
    "            mask_series = True\n",
    "            for cn in fu.scene_groupby_columns: mask_series &= (scene_stats_df[cn] == eval(cn))\n",
    "            scene_stats_df.loc[mask_series, new_column_name] = column_value\n",
    "    \n",
    "    # Store the results and show the new data frame shape\n",
    "    nu.store_objects(metrics_evaluation_open_world_scene_stats_df=scene_stats_df)\n",
    "    nu.save_data_frames(metrics_evaluation_open_world_scene_stats_df=scene_stats_df)\n",
    "    print(scene_stats_df.shape) # (76, 49)\n",
    "    \n",
    "display(scene_stats_df.groupby(['patient_count', 'is_scene_aborted', new_column_name]).size().to_frame().rename(columns={0: 'record_count'}))"
   ]
  },
  {
   "cell_type": "code",
   "execution_count": null,
   "id": "3bb7161a-3c66-440a-a94a-6ead372e47cc",
   "metadata": {},
   "outputs": [],
   "source": [
    "\n",
    "# Any runs longer than that 16 minutes are probably an instance\n",
    "# of someone taking off the headset and setting it on the ground.\n",
    "# 1 second = 1,000 milliseconds; 1 minute = 60 seconds\n",
    "new_column_name = 'is_scene_aborted'\n",
    "# if (new_column_name in csv_stats_df.columns): csv_stats_df = csv_stats_df.drop(columns=new_column_name)\n",
    "if (new_column_name not in scene_stats_df.columns):\n",
    "    scene_stats_df[new_column_name] = False\n",
    "    for (session_uuid, scene_id), scene_df in csv_stats_df.groupby(fu.scene_groupby_columns):\n",
    "        mask_series = True\n",
    "        for cn in fu.scene_groupby_columns: mask_series &= (scene_stats_df[cn] == eval(cn))\n",
    "        scene_stats_df.loc[mask_series, new_column_name] = fu.get_is_scene_aborted(scene_df)\n",
    "    \n",
    "    # Store the results and show the new data frame shape\n",
    "    nu.store_objects(metrics_evaluation_open_world_scene_stats_df=scene_stats_df)\n",
    "    nu.save_data_frames(metrics_evaluation_open_world_scene_stats_df=scene_stats_df)\n",
    "    \n",
    "    print(scene_stats_df.shape) # (880, 59)\n",
    "\n",
    "display(scene_stats_df.groupby(new_column_name).size().to_frame().rename(columns={0: 'record_count'}))"
   ]
  },
  {
   "cell_type": "code",
   "execution_count": null,
   "id": "1b6276a6-a37e-40a6-a7cd-933066b68810",
   "metadata": {},
   "outputs": [],
   "source": []
  }
 ],
 "metadata": {
  "kernelspec": {
   "display_name": "ITM Analysis Reporting (Python 3.11.7)",
   "language": "python",
   "name": "itm_analysis_reporting"
  },
  "language_info": {
   "codemirror_mode": {
    "name": "ipython",
    "version": 3
   },
   "file_extension": ".py",
   "mimetype": "text/x-python",
   "name": "python",
   "nbconvert_exporter": "python",
   "pygments_lexer": "ipython3",
   "version": "3.7.12"
  }
 },
 "nbformat": 4,
 "nbformat_minor": 5
}
