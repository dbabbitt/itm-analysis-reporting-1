{
 "cells": [
  {
   "cell_type": "code",
   "execution_count": null,
   "id": "f303819c-dc03-46ab-a5fc-d1de4fe42714",
   "metadata": {},
   "outputs": [],
   "source": [
    "\n",
    "%pprint\n",
    "import sys\n",
    "if (osp.join('..', 'py') not in sys.path): sys.path.insert(1, osp.join('..', 'py'))"
   ]
  },
  {
   "cell_type": "code",
   "execution_count": null,
   "id": "6162ad72-ddb1-4cb7-a107-b5f01f4fc9ea",
   "metadata": {},
   "outputs": [],
   "source": [
    "\n",
    "from FRVRS import (nu, fu, warnings, DataFrame, osp, listdir, re, nan, concat, Series, remove, subprocess, notnull)\n",
    "import json\n",
    "\n",
    "warnings.filterwarnings('ignore')"
   ]
  },
  {
   "cell_type": "markdown",
   "id": "8c4156d1-1641-4a69-944a-8498f704402c",
   "metadata": {},
   "source": [
    "\n",
    "# Dataset Built for Metrics Evaluation Open World\n",
    "\n",
    "Dave you should be ignoring all the files except the zip folder I sent you.\n",
    "In the zip I sent you, there are 51 folders, (51 JSON, 51 CSV).\n",
    "Zip file attached.\n",
    "All the files are named appropriated in the folder/CSV/json UUID_ParticipantID.\n",
    "Some of the internal Participants IDs might be off because the moderator forgot to enter a Participant ID or didn't enter the Participant ID correctly so we needed to figure out which participant it was.\n",
    "Please only utilize the UUID and Participant ID that is on the file name to identify and ignore the internal Participant IDs.\n",
    "Maybe that will help."
   ]
  },
  {
   "cell_type": "code",
   "execution_count": null,
   "id": "e1bbcf73-3bed-4e14-8c3d-2ca51e1aec75",
   "metadata": {},
   "outputs": [],
   "source": [
    "\n",
    "# Get all the Open World logs into one data frame\n",
    "csv_stats_df = DataFrame([])\n",
    "logs_path = osp.join(fu.data_folder, 'logs', 'Human_Sim_Metrics_Data_4-12-2024')\n",
    "directories_list = listdir(logs_path)\n",
    "for dir_name in directories_list:\n",
    "    \n",
    "    # Add the CSVs to the data frame\n",
    "    folder_path = osp.join(logs_path, dir_name)\n",
    "    df = fu.concatonate_logs(logs_folder=folder_path)\n",
    "    \n",
    "    session_uuid, participant_id = dir_name.split('_')\n",
    "    df['session_uuid'] = session_uuid\n",
    "    df['participant_id'] = int(participant_id)\n",
    "    \n",
    "    # Remove numerically-named columns\n",
    "    columns_list = [x for x in df.columns if not re.search(r'\\d+', str(x))]\n",
    "    df = df[columns_list]\n",
    "    \n",
    "    # Convert 'TRUE' and 'FALSE' to boolean values\n",
    "    for cn in fu.boolean_columns_list:\n",
    "        df[cn] = df[cn].map({'TRUE': True, 'FALSE': False, 'True': True, 'False': False})\n",
    "    \n",
    "    # Convert the nulls into NaNs\n",
    "    for cn in df.columns: df[cn] = df[cn].replace(['null', 'nan'], nan)\n",
    "    \n",
    "    # Append the data frame for the current subdirectory to the main data frame and break the participant ID loop\n",
    "    csv_stats_df = concat([csv_stats_df, df], axis='index')\n",
    "\n",
    "csv_stats_df = csv_stats_df.reset_index(drop=True)\n",
    "csv_stats_df['csv_file_name'] = csv_stats_df.csv_file_subpath.map(lambda x: str(x).split('/')[-1])\n",
    "nu.store_objects(metrics_evaluation_open_world_csv_stats_df=csv_stats_df)\n",
    "nu.save_data_frames(metrics_evaluation_open_world_csv_stats_df=csv_stats_df)\n",
    "print(csv_stats_df.participant_id.nunique()) # 22\n",
    "print(csv_stats_df.shape) # (171766, 112)"
   ]
  },
  {
   "cell_type": "markdown",
   "id": "659e116a-b8a0-4a1d-b132-df6f9e38a1d7",
   "metadata": {},
   "source": [
    "\n",
    "## Check for proper ingestion (duplicate file ingestion, et al)"
   ]
  },
  {
   "cell_type": "code",
   "execution_count": null,
   "id": "af319d9c-7b1c-48db-8f72-e5f117af1766",
   "metadata": {},
   "outputs": [],
   "source": [
    "\n",
    "# Check you even ingested anything\n",
    "assert len(csv_stats_df.columns) > 4, \"Nothing ingested\"\n",
    "assert csv_stats_df.participant_id.nunique() == 26, f\"Participant count should be 26, it's {csv_stats_df.participant_id.nunique()} instead\"\n",
    "print(csv_stats_df.shape) # (171766, 112)\n",
    "\n",
    "display(csv_stats_df.groupby('logger_version').size().to_frame().rename(columns={0: 'record_count'})) # 276926"
   ]
  },
  {
   "cell_type": "code",
   "execution_count": null,
   "id": "e7f7d334-d060-46bf-ab58-9ef5f522c631",
   "metadata": {},
   "outputs": [],
   "source": [
    "\n",
    "# Filter all the rows that have more than one unique value in the csv_file_subpath column for each value in the session_uuid column\n",
    "mask_series = (csv_stats_df.groupby('session_uuid').csv_file_subpath.transform(Series.nunique) > 1)\n",
    "assert not mask_series.any(), \"You have duplicate files\"\n",
    "# columns_list = ['session_uuid', 'csv_file_subpath']\n",
    "# for (session_uuid, csv_file_subpath), df in csv_stats_df[mask_series][columns_list].drop_duplicates().sort_values(columns_list).groupby(\n",
    "#     columns_list\n",
    "# ):\n",
    "#     if not csv_file_subpath.startswith('Double runs removed/'):\n",
    "#         file_path = osp.join(fu.data_logs_folder, *csv_file_subpath.split('/'))\n",
    "#         remove(file_path)"
   ]
  },
  {
   "cell_type": "code",
   "execution_count": null,
   "id": "2d2670f7-89f2-4a45-acc5-eaf5e4b5c4e1",
   "metadata": {},
   "outputs": [],
   "source": [
    "\n",
    "# Check that all your junk scenes are the last scenes\n",
    "display(csv_stats_df.groupby('is_scene_aborted').size().to_frame().rename(columns={0: 'record_count'}))\n",
    "mask_series = csv_stats_df.is_scene_aborted\n",
    "for (session_uuid, scene_id), scene_df in csv_stats_df[mask_series].groupby(fu.scene_groupby_columns):\n",
    "    mask_series = (csv_stats_df.session_uuid == session_uuid)\n",
    "    max_scene_id = csv_stats_df[mask_series].scene_id.max()\n",
    "    assert max_scene_id == scene_id, \"You've got junk scenes in strange places\""
   ]
  },
  {
   "cell_type": "markdown",
   "id": "a73b7e7c-3728-478f-b9e4-2b8c62f872de",
   "metadata": {},
   "source": [
    "\n",
    "## Add new features according to your increasing domain knowledge"
   ]
  },
  {
   "cell_type": "markdown",
   "id": "6cf07ebd-8273-4f09-ad2f-713105653a8f",
   "metadata": {},
   "source": [
    "\n",
    "### Modalize separate columns into one"
   ]
  },
  {
   "cell_type": "code",
   "execution_count": null,
   "id": "28d140d9-6094-4fc6-84dd-6320dd071e6e",
   "metadata": {},
   "outputs": [],
   "source": [
    "\n",
    "# Modalize into one patient ID column if possible\n",
    "new_column_name = 'patient_id'\n",
    "if (new_column_name not in csv_stats_df.columns):\n",
    "    csv_stats_df = nu.modalize_columns(csv_stats_df, fu.patient_id_columns_list, new_column_name)\n",
    "    \n",
    "    # Store the results and show the new data frame shape\n",
    "    nu.store_objects(metrics_evaluation_open_world_csv_stats_df=csv_stats_df)\n",
    "    nu.save_data_frames(metrics_evaluation_open_world_csv_stats_df=csv_stats_df)\n",
    "    print(csv_stats_df.shape) # (171766, 98)\n",
    "\n",
    "print(csv_stats_df[new_column_name].nunique()) # 39\n",
    "display(csv_stats_df.groupby(new_column_name).size().to_frame().rename(columns={0: 'record_count'}).sort_values(\n",
    "    'record_count', ascending=False\n",
    ").head(5))"
   ]
  },
  {
   "cell_type": "code",
   "execution_count": null,
   "id": "526a523d-861b-4ac7-b66e-53830521010f",
   "metadata": {},
   "outputs": [],
   "source": [
    "\n",
    "# Modalize into one injury ID column if possible\n",
    "new_column_name = 'injury_id'\n",
    "if (new_column_name not in csv_stats_df.columns):\n",
    "    csv_stats_df = nu.modalize_columns(csv_stats_df, fu.injury_id_columns_list, new_column_name)\n",
    "    \n",
    "    # Store the results and show the new data frame shape\n",
    "    nu.store_objects(metrics_evaluation_open_world_csv_stats_df=csv_stats_df)\n",
    "    nu.save_data_frames(metrics_evaluation_open_world_csv_stats_df=csv_stats_df)\n",
    "    \n",
    "    print(csv_stats_df.shape) # (171766, 99)\n",
    "\n",
    "print(csv_stats_df[new_column_name].nunique()) # 34\n",
    "display(csv_stats_df.groupby(new_column_name).size().to_frame().rename(columns={0: 'record_count'}).sort_values(\n",
    "    'record_count', ascending=False\n",
    ").head(5))"
   ]
  },
  {
   "cell_type": "code",
   "execution_count": null,
   "id": "0620fee1-3032-4f5b-be65-63ef72935c5c",
   "metadata": {},
   "outputs": [],
   "source": [
    "\n",
    "# Modalize into one location ID column if possible\n",
    "new_column_name = 'location_id'\n",
    "if (new_column_name not in csv_stats_df.columns):\n",
    "    csv_stats_df = nu.modalize_columns(csv_stats_df, fu.location_id_columns_list, new_column_name)\n",
    "    \n",
    "    # Store the results and show the new data frame shape\n",
    "    nu.store_objects(metrics_evaluation_open_world_csv_stats_df=csv_stats_df)\n",
    "    nu.save_data_frames(metrics_evaluation_open_world_csv_stats_df=csv_stats_df)\n",
    "    \n",
    "    print(csv_stats_df.shape) # (171766, 100)\n",
    "\n",
    "print(csv_stats_df[new_column_name].nunique()) # 9239\n",
    "display(csv_stats_df.groupby(new_column_name).size().to_frame().rename(columns={0: 'record_count'}).sort_values(\n",
    "    'record_count', ascending=False\n",
    ").head(5))"
   ]
  },
  {
   "cell_type": "code",
   "execution_count": null,
   "id": "aca86b4a-f8e1-4076-ab21-d45762523aee",
   "metadata": {},
   "outputs": [],
   "source": [
    "\n",
    "# Modalize into one patient sort column if possible\n",
    "new_column_name = 'patient_sort'\n",
    "if (new_column_name not in csv_stats_df.columns):\n",
    "    csv_stats_df = nu.modalize_columns(csv_stats_df, fu.patient_sort_columns_list, new_column_name)\n",
    "    csv_stats_df[new_column_name] = csv_stats_df[new_column_name].astype(fu.sort_category_order)\n",
    "    \n",
    "    # Store the results and show the new data frame shape\n",
    "    nu.store_objects(metrics_evaluation_open_world_csv_stats_df=csv_stats_df)\n",
    "    nu.save_data_frames(metrics_evaluation_open_world_csv_stats_df=csv_stats_df)\n",
    "    \n",
    "    print(csv_stats_df.shape) # (171766, 101)\n",
    "\n",
    "display(csv_stats_df.groupby(new_column_name).size().to_frame().rename(columns={0: 'record_count'}))"
   ]
  },
  {
   "cell_type": "code",
   "execution_count": null,
   "id": "51dae28f-d423-43af-b189-9b8befb83de2",
   "metadata": {},
   "outputs": [],
   "source": [
    "\n",
    "# Modalize into one patient pulse column if possible\n",
    "new_column_name = 'patient_pulse'\n",
    "if (new_column_name not in csv_stats_df.columns):\n",
    "    csv_stats_df = nu.modalize_columns(csv_stats_df, fu.pulse_columns_list, new_column_name)\n",
    "    csv_stats_df[new_column_name] = csv_stats_df[new_column_name].astype(fu.pulse_category_order)\n",
    "    \n",
    "    # Store the results and show the new data frame shape\n",
    "    nu.store_objects(metrics_evaluation_open_world_csv_stats_df=csv_stats_df)\n",
    "    nu.save_data_frames(metrics_evaluation_open_world_csv_stats_df=csv_stats_df)\n",
    "    \n",
    "    print(csv_stats_df.shape) # (171766, 102)\n",
    "\n",
    "display(csv_stats_df.groupby(new_column_name).size().to_frame().rename(columns={0: 'record_count'}))"
   ]
  },
  {
   "cell_type": "code",
   "execution_count": null,
   "id": "aa917381-7be1-417b-b13a-aa10761dffa7",
   "metadata": {},
   "outputs": [],
   "source": [
    "\n",
    "# Modalize into one patient salt column if possible\n",
    "new_column_name = 'patient_salt'\n",
    "if (new_column_name not in csv_stats_df.columns):\n",
    "    csv_stats_df = nu.modalize_columns(csv_stats_df, fu.patient_salt_columns_list, new_column_name)\n",
    "    csv_stats_df[new_column_name] = csv_stats_df[new_column_name].astype(fu.salt_category_order)\n",
    "    \n",
    "    # Store the results and show the new data frame shape\n",
    "    nu.store_objects(metrics_evaluation_open_world_csv_stats_df=csv_stats_df)\n",
    "    nu.save_data_frames(metrics_evaluation_open_world_csv_stats_df=csv_stats_df)\n",
    "    \n",
    "    print(csv_stats_df.shape) # (171766, 103)\n",
    "\n",
    "display(csv_stats_df.groupby(new_column_name).size().to_frame().rename(columns={0: 'record_count'}))"
   ]
  },
  {
   "cell_type": "code",
   "execution_count": null,
   "id": "79144461-6c0a-4c5c-b8f7-2702f5c392bc",
   "metadata": {},
   "outputs": [],
   "source": [
    "\n",
    "# Modalize into one patient hearing column if possible\n",
    "new_column_name = 'patient_hearing'\n",
    "if (new_column_name not in csv_stats_df.columns):\n",
    "    csv_stats_df = nu.modalize_columns(csv_stats_df, fu.hearing_columns_list, new_column_name)\n",
    "    csv_stats_df[new_column_name] = csv_stats_df[new_column_name].astype(fu.hearing_category_order)\n",
    "    \n",
    "    # Store the results and show the new data frame shape\n",
    "    nu.store_objects(metrics_evaluation_open_world_csv_stats_df=csv_stats_df)\n",
    "    nu.save_data_frames(metrics_evaluation_open_world_csv_stats_df=csv_stats_df)\n",
    "    \n",
    "    print(csv_stats_df.shape) # (171766, 104)\n",
    "\n",
    "display(csv_stats_df.groupby(new_column_name).size().to_frame().rename(columns={0: 'record_count'}))"
   ]
  },
  {
   "cell_type": "code",
   "execution_count": null,
   "id": "a68bc06d-45b6-44c7-aadf-ca819b8aafcd",
   "metadata": {},
   "outputs": [],
   "source": [
    "\n",
    "# Modalize into one patient breath column if possible\n",
    "new_column_name = 'patient_breath'\n",
    "if (new_column_name not in csv_stats_df.columns):\n",
    "    csv_stats_df = nu.modalize_columns(csv_stats_df, fu.breath_columns_list, new_column_name)\n",
    "    csv_stats_df[new_column_name] = csv_stats_df[new_column_name].astype(fu.breath_category_order)\n",
    "    \n",
    "    # Store the results and show the new data frame shape\n",
    "    nu.store_objects(metrics_evaluation_open_world_csv_stats_df=csv_stats_df)\n",
    "    nu.save_data_frames(metrics_evaluation_open_world_csv_stats_df=csv_stats_df)\n",
    "    \n",
    "    print(csv_stats_df.shape) # (171766, 105)\n",
    "\n",
    "display(csv_stats_df.groupby(new_column_name).size().to_frame().rename(columns={0: 'record_count'}))"
   ]
  },
  {
   "cell_type": "code",
   "execution_count": null,
   "id": "9435b5c1-c8bb-4c04-901c-e00a027d7f10",
   "metadata": {},
   "outputs": [],
   "source": [
    "\n",
    "# Modalize into one patient mood column if possible\n",
    "new_column_name = 'patient_mood'\n",
    "if (new_column_name not in csv_stats_df.columns):\n",
    "    csv_stats_df = nu.modalize_columns(csv_stats_df, fu.mood_columns_list, new_column_name)\n",
    "    csv_stats_df[new_column_name] = csv_stats_df[new_column_name].astype(fu.mood_category_order)\n",
    "    \n",
    "    # Store the results and show the new data frame shape\n",
    "    nu.store_objects(metrics_evaluation_open_world_csv_stats_df=csv_stats_df)\n",
    "    nu.save_data_frames(metrics_evaluation_open_world_csv_stats_df=csv_stats_df)\n",
    "    \n",
    "    print(csv_stats_df.shape) # (171766, 106)\n",
    "\n",
    "display(csv_stats_df.groupby(new_column_name).size().to_frame().rename(columns={0: 'record_count'}))"
   ]
  },
  {
   "cell_type": "code",
   "execution_count": null,
   "id": "1537a0ff-e075-4c84-8f7b-49dfb983bbb2",
   "metadata": {},
   "outputs": [],
   "source": [
    "\n",
    "# Modalize into one patient pose column if possible\n",
    "new_column_name = 'patient_pose'\n",
    "if (new_column_name not in csv_stats_df.columns):\n",
    "    csv_stats_df = nu.modalize_columns(csv_stats_df, fu.pose_columns_list, new_column_name)\n",
    "    csv_stats_df[new_column_name] = csv_stats_df[new_column_name].astype(fu.pose_category_order)\n",
    "    \n",
    "    # Store the results and show the new data frame shape\n",
    "    nu.store_objects(metrics_evaluation_open_world_csv_stats_df=csv_stats_df)\n",
    "    nu.save_data_frames(metrics_evaluation_open_world_csv_stats_df=csv_stats_df)\n",
    "    \n",
    "    print(csv_stats_df.shape) # (171766, 107)\n",
    "\n",
    "display(csv_stats_df.groupby(new_column_name).size().to_frame().rename(columns={0: 'record_count'}))"
   ]
  },
  {
   "cell_type": "code",
   "execution_count": null,
   "id": "3b758c2e-d06e-4092-8e14-261df4a4c0b9",
   "metadata": {},
   "outputs": [],
   "source": [
    "\n",
    "# Modalize into one injury severity column if possible\n",
    "new_column_name = 'injury_severity'\n",
    "if (new_column_name not in csv_stats_df.columns):\n",
    "    csv_stats_df = nu.modalize_columns(csv_stats_df, fu.injury_severity_columns_list, new_column_name)\n",
    "    csv_stats_df[new_column_name] = csv_stats_df[new_column_name].astype(fu.severity_category_order)\n",
    "    \n",
    "    # Store the results and show the new data frame shape\n",
    "    nu.store_objects(metrics_evaluation_open_world_csv_stats_df=csv_stats_df)\n",
    "    nu.save_data_frames(metrics_evaluation_open_world_csv_stats_df=csv_stats_df)\n",
    "    \n",
    "    print(csv_stats_df.shape) # (171766, 108)\n",
    "\n",
    "display(csv_stats_df.groupby(new_column_name).size().to_frame().rename(columns={0: 'record_count'}))"
   ]
  },
  {
   "cell_type": "code",
   "execution_count": null,
   "id": "5cc2229e-8b95-4baf-9f31-36761ff9b76d",
   "metadata": {},
   "outputs": [],
   "source": [
    "\n",
    "# Modalize into one injury required_procedure column if possible\n",
    "new_column_name = 'injury_required_procedure'\n",
    "if (new_column_name not in csv_stats_df.columns):\n",
    "    csv_stats_df = nu.modalize_columns(csv_stats_df, fu.injury_required_procedure_columns_list, new_column_name)\n",
    "    csv_stats_df[new_column_name] = csv_stats_df[new_column_name].astype(fu.required_procedure_category_order)\n",
    "    \n",
    "    # Store the results and show the new data frame shape\n",
    "    nu.store_objects(metrics_evaluation_open_world_csv_stats_df=csv_stats_df)\n",
    "    nu.save_data_frames(metrics_evaluation_open_world_csv_stats_df=csv_stats_df)\n",
    "    \n",
    "    print(csv_stats_df.shape) # (171766, 109)\n",
    "\n",
    "display(csv_stats_df.groupby(new_column_name).size().to_frame().rename(columns={0: 'record_count'}))"
   ]
  },
  {
   "cell_type": "code",
   "execution_count": null,
   "id": "f64a066f-7d90-4f77-8582-568a246b2c43",
   "metadata": {},
   "outputs": [],
   "source": [
    "\n",
    "# Modalize into one injury body_region column if possible\n",
    "new_column_name = 'injury_body_region'\n",
    "if (new_column_name not in csv_stats_df.columns):\n",
    "    csv_stats_df = nu.modalize_columns(csv_stats_df, fu.body_region_columns_list, new_column_name)\n",
    "    csv_stats_df[new_column_name] = csv_stats_df[new_column_name].astype(fu.body_region_category_order)\n",
    "    \n",
    "    # Store the results and show the new data frame shape\n",
    "    nu.store_objects(metrics_evaluation_open_world_csv_stats_df=csv_stats_df)\n",
    "    nu.save_data_frames(metrics_evaluation_open_world_csv_stats_df=csv_stats_df)\n",
    "    \n",
    "    print(csv_stats_df.shape) # (171766, 110)\n",
    "\n",
    "display(csv_stats_df.groupby(new_column_name).size().to_frame().rename(columns={0: 'record_count'}))"
   ]
  },
  {
   "cell_type": "code",
   "execution_count": null,
   "id": "0a27522b-521b-4766-aa86-e7e64b662b50",
   "metadata": {},
   "outputs": [],
   "source": [
    "\n",
    "# Modalize into one tool type column if possible\n",
    "new_column_name = 'tool_type'\n",
    "if (new_column_name not in csv_stats_df.columns):\n",
    "    csv_stats_df = nu.modalize_columns(csv_stats_df, fu.tool_type_columns_list, new_column_name)\n",
    "    csv_stats_df[new_column_name] = csv_stats_df[new_column_name].astype(fu.tool_type_category_order)\n",
    "    \n",
    "    # Store the results and show the new data frame shape\n",
    "    nu.store_objects(metrics_evaluation_open_world_csv_stats_df=csv_stats_df)\n",
    "    nu.save_data_frames(metrics_evaluation_open_world_csv_stats_df=csv_stats_df)\n",
    "    \n",
    "    print(csv_stats_df.shape) # (171766, 111)\n",
    "\n",
    "display(csv_stats_df.groupby(new_column_name).size().to_frame().rename(columns={0: 'record_count'}))"
   ]
  },
  {
   "cell_type": "markdown",
   "id": "c48bacf9-8c36-40a4-a3f4-d3d9a04bcd15",
   "metadata": {},
   "source": [
    "\n",
    "### Convert text columns to categorical"
   ]
  },
  {
   "cell_type": "code",
   "execution_count": null,
   "id": "8612de8a-0d0d-4474-a70a-8390e673434e",
   "metadata": {},
   "outputs": [],
   "source": [
    "\n",
    "new_column_name = 'pulse_taken_pulse_name'\n",
    "if (new_column_name in csv_stats_df.columns):\n",
    "    csv_stats_df[new_column_name] = csv_stats_df[new_column_name].astype(fu.pulse_name_category_order)\n",
    "    nu.store_objects(metrics_evaluation_open_world_csv_stats_df=csv_stats_df)\n",
    "    nu.save_data_frames(metrics_evaluation_open_world_csv_stats_df=csv_stats_df)\n",
    "\n",
    "display(csv_stats_df.groupby(new_column_name).size().to_frame().rename(columns={0: 'record_count'}))"
   ]
  },
  {
   "cell_type": "code",
   "execution_count": null,
   "id": "841cf16a-dde2-4a3b-bc69-9d2c741c9c8c",
   "metadata": {},
   "outputs": [],
   "source": [
    "\n",
    "new_column_name = 'tool_applied_data'\n",
    "if (new_column_name in csv_stats_df.columns):\n",
    "    csv_stats_df[new_column_name] = csv_stats_df[new_column_name].astype(fu.tool_applied_data_category_order)\n",
    "    nu.store_objects(metrics_evaluation_open_world_csv_stats_df=csv_stats_df)\n",
    "    nu.save_data_frames(metrics_evaluation_open_world_csv_stats_df=csv_stats_df)\n",
    "\n",
    "display(csv_stats_df.groupby(new_column_name).size().to_frame().rename(columns={0: 'record_count'}))"
   ]
  },
  {
   "cell_type": "markdown",
   "id": "46e74b8e-5484-4b70-bb33-d2010d26ff48",
   "metadata": {},
   "source": [
    "\n",
    "## Mask voice capture PII"
   ]
  },
  {
   "cell_type": "code",
   "execution_count": null,
   "id": "d65f54fd-2e10-438d-a22c-a88dd4738674",
   "metadata": {},
   "outputs": [],
   "source": [
    "\n",
    "# OSU screened all of the **VOICE_COMMAND** and **VOICE_CAPTURE** lines and\n",
    "# replaced any names with either Max or Jane, regardless of whether the name was that of the responder.\n",
    "# But, just to make sure...\n",
    "columns_list = ['voice_command_command_description', 'voice_capture_message']\n",
    "if not csv_stats_df[columns_list].applymap(lambda x: '[PERSON]' in str(x), na_action='ignore').sum().sum():\n",
    "    try:\n",
    "        import spacy\n",
    "        try: nlp = spacy.load('en_core_web_sm')\n",
    "        except OSError as e:\n",
    "            print(str(e).strip())\n",
    "            command_str = f'{sys.executable} -m spacy download en_core_web_sm --quiet'\n",
    "            subprocess.run(command_str.split())\n",
    "            nlp = spacy.load('en_core_web_sm')\n",
    "        import en_core_web_sm\n",
    "        nlp = en_core_web_sm.load()\n",
    "        \n",
    "        mask_series = csv_stats_df.voice_command_command_description.isnull() & csv_stats_df.voice_capture_message.isnull()\n",
    "        df = csv_stats_df[~mask_series]\n",
    "        def mask_pii(srs):\n",
    "            for idx in columns_list:\n",
    "                new_text = srs[idx]\n",
    "                if notnull(new_text):\n",
    "                    doc = nlp(new_text)\n",
    "                    for entity in doc.ents:\n",
    "                        if entity.label_ == 'PERSON': new_text = re.sub('\\\\b' + entity.text + '\\\\b', '[PERSON]', new_text)\n",
    "                    srs[idx] = new_text\n",
    "        \n",
    "            return srs\n",
    "        \n",
    "        for row_index, row_series in df.apply(mask_pii, axis='columns')[columns_list].iterrows():\n",
    "            for column_name, column_value in row_series.items():\n",
    "                if notnull(column_value): csv_stats_df.loc[row_index, column_name] = column_value\n",
    "        \n",
    "        # Store the results and show the new data frame shape\n",
    "        nu.store_objects(metrics_evaluation_open_world_csv_stats_df=csv_stats_df)\n",
    "        nu.save_data_frames(metrics_evaluation_open_world_csv_stats_df=csv_stats_df)\n",
    "        print(csv_stats_df.shape) # (199476, 109)\n",
    "    except Exception as e: print(f'{e.__class__.__name__} error in PII masking: {str(e).strip()}')"
   ]
  },
  {
   "cell_type": "code",
   "execution_count": null,
   "id": "8f3b41d5-9330-4078-8dfa-76e513e73348",
   "metadata": {},
   "outputs": [],
   "source": []
  }
 ],
 "metadata": {
  "kernelspec": {
   "display_name": "ITM Analysis Reporting (Python 3.11.7)",
   "language": "python",
   "name": "itm_analysis_reporting"
  },
  "language_info": {
   "codemirror_mode": {
    "name": "ipython",
    "version": 3
   },
   "file_extension": ".py",
   "mimetype": "text/x-python",
   "name": "python",
   "nbconvert_exporter": "python",
   "pygments_lexer": "ipython3",
   "version": "3.7.12"
  }
 },
 "nbformat": 4,
 "nbformat_minor": 5
}
