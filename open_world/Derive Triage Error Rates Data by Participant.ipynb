{
 "cells": [
  {
   "cell_type": "code",
   "execution_count": 1,
   "id": "733d4183-f287-4716-b4cc-13d9faa86caf",
   "metadata": {},
   "outputs": [
    {
     "name": "stdout",
     "output_type": "stream",
     "text": [
      "Pretty printing has been turned OFF\n"
     ]
    }
   ],
   "source": [
    "\n",
    "# Set up notebook\n",
    "%pprint\n",
    "import sys\n",
    "if (osp.join('..', 'py') not in sys.path): sys.path.insert(1, osp.join('..', 'py'))"
   ]
  },
  {
   "cell_type": "code",
   "execution_count": 2,
   "id": "460a2dd2-087a-46df-a2c1-610bf75ace38",
   "metadata": {},
   "outputs": [],
   "source": [
    "\n",
    "# load libraries\n",
    "from FRVRS import (nu, fu, nan, DataFrame, read_csv, read_excel, concat, isna, osp, re, sm, np)\n",
    "from pandas import get_dummies\n",
    "from re import split, search, sub, MULTILINE\n",
    "from scipy.stats import f_oneway, ttest_ind, kruskal, norm\n",
    "import itertools"
   ]
  },
  {
   "cell_type": "code",
   "execution_count": 3,
   "id": "bada6956-bed0-4bc7-b6a5-a6ffcdd5792e",
   "metadata": {},
   "outputs": [
    {
     "name": "stdout",
     "output_type": "stream",
     "text": [
      "No pickle exists for metrics_evaluation_open_world_scene_stats_df - attempting to load /mnt/c/Users/DaveBabbitt/Documents/GitHub/itm-analysis-reporting/saves/csv/metrics_evaluation_open_world_scene_stats_df.csv.\n",
      "['participant_id', 'participation_date']\n"
     ]
    }
   ],
   "source": [
    "\n",
    "# load data frames\n",
    "data_frames_dict = nu.load_data_frames(\n",
    "    verbose=True, metrics_evaluation_open_world_scene_stats_df=''\n",
    ")\n",
    "scene_stats_df = data_frames_dict['metrics_evaluation_open_world_scene_stats_df'].copy()\n",
    "print(sorted([cn for cn in scene_stats_df.columns if 'partici' in cn]))"
   ]
  },
  {
   "cell_type": "markdown",
   "id": "529f4b69-3b1c-4e68-a3f4-a89d26fb7c05",
   "metadata": {},
   "source": [
    "\n",
    "## Stacked graph for triage errors"
   ]
  },
  {
   "cell_type": "code",
   "execution_count": 4,
   "id": "b94af009-79f4-4dbd-9482-89bb6b6705b6",
   "metadata": {},
   "outputs": [
    {
     "name": "stdout",
     "output_type": "stream",
     "text": [
      "No pickle exists for metrics_evaluation_open_world_csv_stats_df - attempting to load /mnt/c/Users/DaveBabbitt/Documents/GitHub/itm-analysis-reporting/saves/csv/metrics_evaluation_open_world_csv_stats_df.csv.\n",
      "['participant_id']\n"
     ]
    }
   ],
   "source": [
    "\n",
    "# load data frames\n",
    "data_frames_dict = nu.load_data_frames(\n",
    "    verbose=True, metrics_evaluation_open_world_csv_stats_df=''\n",
    ")\n",
    "csv_stats_df = data_frames_dict['metrics_evaluation_open_world_csv_stats_df'].copy()\n",
    "print(sorted([cn for cn in csv_stats_df.columns if 'partici' in cn]))"
   ]
  },
  {
   "cell_type": "code",
   "execution_count": 5,
   "id": "96640f66-8431-4fe7-82d0-3107aa14a46b",
   "metadata": {},
   "outputs": [
    {
     "name": "stdout",
     "output_type": "stream",
     "text": [
      "\n",
      "Columns to merge the scene stats dataset with the CSV stats on:\n",
      "['participant_id', 'scene_id', 'session_uuid']\n"
     ]
    }
   ],
   "source": [
    "\n",
    "# Create the tag-to-SALT data frame\n",
    "print(\"\\nColumns to merge the scene stats dataset with the CSV stats on:\")\n",
    "on_columns = sorted(set(csv_stats_df.columns).intersection(set(scene_stats_df.columns)))\n",
    "print(on_columns)"
   ]
  },
  {
   "cell_type": "code",
   "execution_count": 6,
   "id": "e1b4e3cb-a526-43aa-a27f-e18d8818b8a5",
   "metadata": {},
   "outputs": [
    {
     "name": "stdout",
     "output_type": "stream",
     "text": [
      "\n",
      "The scene stats dataset columns we want to have in the merge:\n",
      "['actual_engagement_distance', 'first_engagement', 'first_treatment', 'injury_correctly_treated_count', 'injury_not_treated_count', 'injury_wrongly_treated_count', 'last_engagement', 'last_still_engagement', 'measure_of_right_ordering', 'patient_count', 'percent_hemorrhage_controlled', 'pulse_taken_count', 'stills_value', 'teleport_count', 'time_to_hemorrhage_control_per_patient', 'time_to_last_hemorrhage_controlled', 'total_actions_count', 'triage_time', 'voice_capture_count', 'walk_command_count', 'walk_value', 'walkers_value', 'wave_command_count', 'wave_value']\n"
     ]
    }
   ],
   "source": [
    "\n",
    "print('\\nThe scene stats dataset columns we want to have in the merge:')\n",
    "analysis_columns = sorted(set([\n",
    "    'actual_engagement_distance', 'first_engagement', 'first_treatment', 'injury_correctly_treated_count', 'injury_not_treated_count',\n",
    "    'injury_treatments_count', 'injury_wrongly_treated_count', 'last_engagement', 'last_still_engagement', 'measure_of_right_ordering',\n",
    "    'patient_count', 'percent_hemorrhage_controlled', 'pulse_taken_count', 'stills_value', 'teleport_count',\n",
    "    'time_to_hemorrhage_control_per_patient', 'time_to_last_hemorrhage_controlled', 'total_actions_count', 'triage_time',\n",
    "    'voice_capture_count', 'walk_command_count', 'walk_value', 'walkers_value', 'wave_command_count', 'wave_value'\n",
    "]).intersection(set(scene_stats_df.columns)))\n",
    "print(analysis_columns)\n",
    "\n",
    "# Merge the scene stats with the CSV stats\n",
    "survey_columns = ['AD_KDMA_Sim', 'AD_KDMA_Text', 'PropTrust', 'ST_KDMA_Sim', 'ST_KDMA_Text', 'YrsMilExp']\n",
    "columns_list = on_columns + analysis_columns + survey_columns\n",
    "assert set(columns_list).issubset(set(scene_stats_df.columns)), \"You've lost access to the analysis columns\"\n",
    "merge_df = csv_stats_df.merge(scene_stats_df[columns_list], on=on_columns, how='left').drop_duplicates()"
   ]
  },
  {
   "cell_type": "code",
   "execution_count": null,
   "id": "e5c59743-69f3-428f-98e4-adc6a7c8fb4a",
   "metadata": {},
   "outputs": [],
   "source": [
    "\n",
    "# Remove the Unity suffix from all patient_id columns\n",
    "# The one without \"Root\" is the ID CACI sets for it. Unity\n",
    "# then takes the ID and adds \"Root\" to the end when it\n",
    "# creates the hierarchy, so there's less room for human\n",
    "# error. They're going to match perfectly.\n",
    "for cn in fu.patient_id_columns_list + ['patient_id']:\n",
    "    if cn in merge_df.columns:\n",
    "        mask_series = ~merge_df[cn].isnull()\n",
    "        merge_df.loc[mask_series, cn] = merge_df[mask_series][cn].map(lambda x: str(x).replace(' Root', ''))"
   ]
  },
  {
   "cell_type": "code",
   "execution_count": 10,
   "id": "5795f16d-87f7-4057-a3f3-83938446283f",
   "metadata": {},
   "outputs": [],
   "source": [
    "\n",
    "tag_to_salt_df = fu.get_is_tag_correct_dataframe(merge_df, groupby_column='participant_id')"
   ]
  },
  {
   "cell_type": "code",
   "execution_count": 43,
   "id": "4387d6d8-aae6-40f2-a39c-895eeb961ace",
   "metadata": {},
   "outputs": [],
   "source": [
    "\n",
    "# Use the patients lists from the March 25th ITM BBAI Exploratory analysis email\n",
    "patients_list = fu.ow_patients_list\n",
    "assert set(patients_list).issubset(\n",
    "    set(tag_to_salt_df.patient_id)\n",
    "), f\"tag_to_salt_df is missing these patients: {set(patients_list).difference(set(tag_to_salt_df.patient_id))}\"\n",
    "mask_series = tag_to_salt_df.patient_id.isin(patients_list)\n",
    "tag_to_salt_df = tag_to_salt_df[mask_series]"
   ]
  },
  {
   "cell_type": "code",
   "execution_count": 44,
   "id": "c0d38747-ffe1-4542-ad80-55e08e27cb42",
   "metadata": {},
   "outputs": [],
   "source": [
    "\n",
    "# Add participant id back in\n",
    "new_column = 'participant_id'\n",
    "if (new_column in scene_stats_df.columns) and (new_column not in tag_to_salt_df.columns):\n",
    "    on_columns = sorted(set(tag_to_salt_df.columns).intersection(set(scene_stats_df.columns)).intersection(set(['scene_id', 'session_uuid'])))\n",
    "    print(on_columns)\n",
    "    columns_list = on_columns + [new_column]\n",
    "    tag_to_salt_df = tag_to_salt_df.merge(scene_stats_df[columns_list], on=on_columns)"
   ]
  },
  {
   "cell_type": "code",
   "execution_count": 45,
   "id": "6c630fd0-7e33-45d5-a0df-dce107eea5af",
   "metadata": {},
   "outputs": [],
   "source": [
    "\n",
    "# Compute error_type, removing \"Not Tagged\" from consideration\n",
    "def f(df):\n",
    "    if df.last_tag in fu.error_table_df.index: error_type = fu.error_table_df[fu.error_table_df.index == df.last_tag][df.max_salt].squeeze()\n",
    "    else: error_type = nan\n",
    "    \n",
    "    return error_type\n",
    "groupby_columns = ['last_tag', 'max_salt', 'participant_id']\n",
    "error_types_df = tag_to_salt_df.groupby(groupby_columns).patient_count.sum().to_frame().reset_index(drop=False)\n",
    "error_types_df['error_type'] = error_types_df.apply(f, axis='columns')\n",
    "\n",
    "# Convert the columns to the custom categorical type\n",
    "error_types_df['last_tag'] = error_types_df['last_tag'].astype(fu.colors_category_order)\n",
    "error_types_df['max_salt'] = error_types_df['max_salt'].astype(fu.salt_category_order)\n",
    "error_types_df['error_type'] = error_types_df['error_type'].astype(fu.errors_category_order)\n",
    "\n",
    "# Sort the Data Frame based on the custom categorical orders\n",
    "error_types_df = error_types_df.sort_values(by=groupby_columns+['error_type'])"
   ]
  },
  {
   "cell_type": "code",
   "execution_count": 48,
   "id": "efbe574c-3f7c-46d9-bfc3-b282e2025b2d",
   "metadata": {},
   "outputs": [
    {
     "data": {
      "text/html": [
       "<div>\n",
       "<style scoped>\n",
       "    .dataframe tbody tr th:only-of-type {\n",
       "        vertical-align: middle;\n",
       "    }\n",
       "\n",
       "    .dataframe tbody tr th {\n",
       "        vertical-align: top;\n",
       "    }\n",
       "\n",
       "    .dataframe thead th {\n",
       "        text-align: right;\n",
       "    }\n",
       "</style>\n",
       "<table border=\"1\" class=\"dataframe\">\n",
       "  <thead>\n",
       "    <tr style=\"text-align: right;\">\n",
       "      <th></th>\n",
       "      <th>last_tag</th>\n",
       "      <th>max_salt</th>\n",
       "      <th>participant_id</th>\n",
       "      <th>patient_count</th>\n",
       "      <th>error_type</th>\n",
       "    </tr>\n",
       "  </thead>\n",
       "  <tbody>\n",
       "    <tr>\n",
       "      <th>317</th>\n",
       "      <td>red</td>\n",
       "      <td>IMMEDIATE</td>\n",
       "      <td>2024206</td>\n",
       "      <td>4</td>\n",
       "      <td>Exact</td>\n",
       "    </tr>\n",
       "    <tr>\n",
       "      <th>319</th>\n",
       "      <td>red</td>\n",
       "      <td>IMMEDIATE</td>\n",
       "      <td>2024208</td>\n",
       "      <td>4</td>\n",
       "      <td>Exact</td>\n",
       "    </tr>\n",
       "    <tr>\n",
       "      <th>325</th>\n",
       "      <td>red</td>\n",
       "      <td>IMMEDIATE</td>\n",
       "      <td>2024215</td>\n",
       "      <td>4</td>\n",
       "      <td>Exact</td>\n",
       "    </tr>\n",
       "    <tr>\n",
       "      <th>332</th>\n",
       "      <td>red</td>\n",
       "      <td>IMMEDIATE</td>\n",
       "      <td>2024222</td>\n",
       "      <td>3</td>\n",
       "      <td>Exact</td>\n",
       "    </tr>\n",
       "    <tr>\n",
       "      <th>318</th>\n",
       "      <td>red</td>\n",
       "      <td>IMMEDIATE</td>\n",
       "      <td>2024207</td>\n",
       "      <td>3</td>\n",
       "      <td>Exact</td>\n",
       "    </tr>\n",
       "  </tbody>\n",
       "</table>\n",
       "</div>"
      ],
      "text/plain": [
       "    last_tag   max_salt  participant_id  patient_count error_type\n",
       "317      red  IMMEDIATE         2024206              4      Exact\n",
       "319      red  IMMEDIATE         2024208              4      Exact\n",
       "325      red  IMMEDIATE         2024215              4      Exact\n",
       "332      red  IMMEDIATE         2024222              3      Exact\n",
       "318      red  IMMEDIATE         2024207              3      Exact"
      ]
     },
     "execution_count": 48,
     "metadata": {},
     "output_type": "execute_result"
    }
   ],
   "source": [
    "\n",
    "mask_series = (error_types_df.patient_count > 0)\n",
    "error_types_df[mask_series].sort_values('patient_count', ascending=False).head()"
   ]
  },
  {
   "cell_type": "code",
   "execution_count": 49,
   "id": "b3d01ce7-73bc-41a4-ae61-24fc9674044f",
   "metadata": {},
   "outputs": [],
   "source": [
    "\n",
    "# Get triage error rates\n",
    "triage_error_rates_df = fu.create_triage_error_rates_dataframe(error_types_df, groupby_columns=['participant_id'])"
   ]
  },
  {
   "cell_type": "code",
   "execution_count": 50,
   "id": "fbbf8c4a-c319-4b38-99db-d7a0618082f8",
   "metadata": {},
   "outputs": [],
   "source": [
    "\n",
    "CATEGORY_DICT = {participant_id: participant_id for participant_id in triage_error_rates_df.participant_id}"
   ]
  },
  {
   "cell_type": "code",
   "execution_count": 51,
   "id": "f974c49b-92a1-4a14-a266-bc163fcf2cb2",
   "metadata": {},
   "outputs": [],
   "source": [
    "\n",
    "suffixing_fn = lambda x: f'{x}-triage Error' if (x in ['Over', 'Under']) else (f'{x} Error' if (x in ['Critical']) else x)\n",
    "def show_stacked_horizontal_bar_chart(rates_df, ylabel=''):\n",
    "    labels_list = [CATEGORY_DICT[c] for c in FILTERED_CATEGORIES_LIST][::-1]\n",
    "    over_values, under_values, critical_values = [], [], []\n",
    "    for column_value in FILTERED_CATEGORIES_LIST[::-1]:\n",
    "        mask_series = (rates_df.participant_id == column_value)\n",
    "        over_values.append(rates_df[mask_series].over_triage_error_rate.squeeze())\n",
    "        under_values.append(rates_df[mask_series].under_triage_error_rate.squeeze())\n",
    "        critical_values.append(rates_df[mask_series].critical_triage_error_rate.squeeze())\n",
    "    \n",
    "    # Create a horizontal bar chart for the first set of values\n",
    "    over_bar = plt.barh(labels_list, over_values, color='#000000', label=suffixing_fn('Over'))\n",
    "    \n",
    "    # Create a stacked horizontal bar chart for the second set of values\n",
    "    under_bar = plt.barh(labels_list, under_values, color='#717171', label=suffixing_fn('Under'), left=over_values)\n",
    "    \n",
    "    # Create a stacked horizontal bar chart for the third set of values\n",
    "    # The data labels for critical errors should be in white (for better contrast)\n",
    "    critical_bar = plt.barh(\n",
    "        labels_list, critical_values, color='#bb0000', label=suffixing_fn('Critical'),\n",
    "        left=[v1 + v2 for v1, v2 in zip(over_values, under_values)]\n",
    "    )\n",
    "    \n",
    "    # Annotate the values of each value set inside their respective rectangles\n",
    "    for bars, values in zip([over_bar, under_bar, critical_bar], [over_values, under_values, critical_values]):\n",
    "        for bar, value in zip(bars, values):\n",
    "            if (value >= 1): plt.text(\n",
    "                bar.get_x() + bar.get_width()/2, bar.get_y() + bar.get_height()/2, f'{value:.01f}%', va='center', ha='center',\n",
    "                color='white', fontsize=6\n",
    "            )\n",
    "            elif (value > 0): plt.text(\n",
    "                bar.get_x() + bar.get_width()/2, bar.get_y() + bar.get_height() + 0.06, f'{value:.01f}%', va='center', ha='center',\n",
    "                color='black', fontsize=6\n",
    "            )\n",
    "    \n",
    "    # Set the title, labels, legend, and grid\n",
    "    plt.title('Triage Errors')\n",
    "    plt.xlabel('Percent (%)')\n",
    "    plt.ylabel(ylabel)\n",
    "    plt.legend(bbox_to_anchor=(1.4, 0.62), loc='center right')\n",
    "    plt.grid(False)\n",
    "    \n",
    "    # Display the chart\n",
    "    plt.show()"
   ]
  },
  {
   "cell_type": "code",
   "execution_count": 52,
   "id": "4768f779-e1de-47b0-b0ab-56afced30d54",
   "metadata": {},
   "outputs": [
    {
     "data": {
      "image/png": "[encoded data removed]",
      "text/plain": [
       "<Figure size 640x480 with 1 Axes>"
      ]
     },
     "metadata": {},
     "output_type": "display_data"
    }
   ],
   "source": [
    "\n",
    "import matplotlib.pyplot as plt\n",
    "\n",
    "FILTERED_CATEGORIES_LIST = [i for i in range(2024201, 2024228) if i in triage_error_rates_df.participant_id.tolist()]\n",
    "show_stacked_horizontal_bar_chart(triage_error_rates_df, ylabel='Participant ID')"
   ]
  },
  {
   "cell_type": "code",
   "execution_count": 53,
   "id": "0ddb61a6-2065-4fcc-aa11-00eec95e8462",
   "metadata": {},
   "outputs": [
    {
     "name": "stdout",
     "output_type": "stream",
     "text": [
      "Saving to /mnt/c/Users/DaveBabbitt/Documents/GitHub/itm-analysis-reporting/saves/csv/20240516participant_id_csv_stats_df.csv\n",
      "Saving to /mnt/c/Users/DaveBabbitt/Documents/GitHub/itm-analysis-reporting/saves/csv/20240516participant_id_dataset_organization_df.csv\n",
      "Saving to /mnt/c/Users/DaveBabbitt/Documents/GitHub/itm-analysis-reporting/saves/csv/20240516participant_id_error_types_df.csv\n",
      "Saving to /mnt/c/Users/DaveBabbitt/Documents/GitHub/itm-analysis-reporting/saves/csv/20240516participant_id_merge_df.csv\n",
      "Saving to /mnt/c/Users/DaveBabbitt/Documents/GitHub/itm-analysis-reporting/saves/csv/20240516participant_id_responder_categories_df.csv\n",
      "Saving to /mnt/c/Users/DaveBabbitt/Documents/GitHub/itm-analysis-reporting/saves/csv/20240516participant_id_scene_stats_df.csv\n",
      "Saving to /mnt/c/Users/DaveBabbitt/Documents/GitHub/itm-analysis-reporting/saves/csv/20240516participant_id_tag_to_salt_df.csv\n",
      "Saving to /mnt/c/Users/DaveBabbitt/Documents/GitHub/itm-analysis-reporting/saves/csv/20240516participant_id_triage_error_rates_df.csv\n"
     ]
    }
   ],
   "source": [
    "\n",
    "from datetime import date\n",
    "\n",
    "today = date.today()\n",
    "for fn in dir():\n",
    "    if fn.endswith('_df'):\n",
    "        nu.save_data_frames(**{f'{today.year}{today.month:02d}{today.day:02d}participant_id_{fn}': eval(fn)}, verbose=True)"
   ]
  },
  {
   "cell_type": "code",
   "execution_count": null,
   "id": "f3a4855a-ed51-4f87-8fdd-c91686285b3d",
   "metadata": {},
   "outputs": [],
   "source": []
  }
 ],
 "metadata": {
  "kernelspec": {
   "display_name": "ITM Analysis Reporting (Python 3.11.7)",
   "language": "python",
   "name": "itm_analysis_reporting"
  },
  "language_info": {
   "codemirror_mode": {
    "name": "ipython",
    "version": 3
   },
   "file_extension": ".py",
   "mimetype": "text/x-python",
   "name": "python",
   "nbconvert_exporter": "python",
   "pygments_lexer": "ipython3",
   "version": "3.7.12"
  }
 },
 "nbformat": 4,
 "nbformat_minor": 5
}
