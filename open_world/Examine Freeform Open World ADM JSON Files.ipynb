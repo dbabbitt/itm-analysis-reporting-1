{
 "cells": [
  {
   "cell_type": "code",
   "execution_count": 4,
   "id": "a9c02c23-086a-4f11-bf43-c97bed8c5c6c",
   "metadata": {
    "tags": []
   },
   "outputs": [
    {
     "name": "stdout",
     "output_type": "stream",
     "text": [
      "Pretty printing has been turned OFF\n"
     ]
    }
   ],
   "source": [
    "\n",
    "# Set up notebook\n",
    "%pprint\n",
    "import sys\n",
    "if (osp.join('..', 'py') not in sys.path): sys.path.insert(1, osp.join('..', 'py'))\n",
    "from FRVRS import (nu, fu, osp, DataFrame, Index, concat, listdir)\n",
    "nu.delete_ipynb_checkpoint_folders()"
   ]
  },
  {
   "cell_type": "code",
   "execution_count": 13,
   "id": "c94e7058-23b4-427a-bb41-47adc24755af",
   "metadata": {},
   "outputs": [
    {
     "name": "stdout",
     "output_type": "stream",
     "text": [
      "(178, 70783)\n"
     ]
    }
   ],
   "source": [
    "\n",
    "# Iterate over the files in the JSON subdirectory\n",
    "import os\n",
    "\n",
    "folder_path = '../data/logs/freeform_open_world_ADM'\n",
    "json_stats_df = DataFrame()\n",
    "for file_name in listdir(folder_path):\n",
    "    \n",
    "    # If the file is a JSON file\n",
    "    if file_name.endswith('.json'):\n",
    "\n",
    "        # Create a data frame from the flattened dictionary\n",
    "        json_path = osp.join(folder_path, file_name)\n",
    "        with open(json_path, 'r') as f: file_json = json.load(f)\n",
    "        row_dict = {\n",
    "            'sub_directory': folder_path.split('/')[-1],\n",
    "            'json_file_name': file_name\n",
    "        }\n",
    "        flattened_json_dict = nu.get_flattened_dictionary(file_json, row_dict=row_dict, key_prefix='')\n",
    "        df = DataFrame(flattened_json_dict, index=Index([0]))\n",
    "        \n",
    "        # Append the data frame for the current file to the main data frame\n",
    "        json_stats_df = concat([json_stats_df, df], axis='index')\n",
    "\n",
    "json_stats_df = json_stats_df.reset_index(drop=True)\n",
    "print(json_stats_df.shape)"
   ]
  },
  {
   "cell_type": "code",
   "execution_count": 16,
   "id": "b06ecdef-e70e-46ed-838b-5401a6d3d828",
   "metadata": {},
   "outputs": [
    {
     "name": "stdout",
     "output_type": "stream",
     "text": [
      "(178, 230)\n",
      "(178, 99)\n"
     ]
    }
   ],
   "source": [
    "\n",
    "columns_list = [cn for cn in json_stats_df.columns if cn.endswith('session_id')]\n",
    "df = json_stats_df[columns_list]\n",
    "print(df.shape)\n",
    "df = df.drop_duplicates().T.drop_duplicates().T\n",
    "print(df.shape)"
   ]
  },
  {
   "cell_type": "code",
   "execution_count": 28,
   "id": "5c8a507e-6328-4a99-836b-2b403f1b3609",
   "metadata": {},
   "outputs": [
    {
     "data": {
      "text/plain": [
       "2"
      ]
     },
     "execution_count": 28,
     "metadata": {},
     "output_type": "execute_result"
    }
   ],
   "source": [
    "\n",
    "max([df.iloc[i].dropna().unique().shape[0] for i in range(df.shape[0])])"
   ]
  },
  {
   "cell_type": "code",
   "execution_count": null,
   "id": "190bb77f-e487-43a4-8b1f-1241d16a135f",
   "metadata": {},
   "outputs": [],
   "source": []
  }
 ],
 "metadata": {
  "kernelspec": {
   "display_name": "ITM Analysis Reporting (Python 3.11.7)",
   "language": "python",
   "name": "itm_analysis_reporting"
  },
  "language_info": {
   "codemirror_mode": {
    "name": "ipython",
    "version": 3
   },
   "file_extension": ".py",
   "mimetype": "text/x-python",
   "name": "python",
   "nbconvert_exporter": "python",
   "pygments_lexer": "ipython3",
   "version": "3.7.12"
  }
 },
 "nbformat": 4,
 "nbformat_minor": 5
}
