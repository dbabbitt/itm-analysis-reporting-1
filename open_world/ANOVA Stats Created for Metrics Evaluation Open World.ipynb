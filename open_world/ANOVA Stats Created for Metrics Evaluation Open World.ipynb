{
 "cells": [
  {
   "cell_type": "code",
   "execution_count": 1,
   "id": "0d497083-b501-4f84-bca7-d691eded680d",
   "metadata": {},
   "outputs": [
    {
     "name": "stdout",
     "output_type": "stream",
     "text": [
      "Pretty printing has been turned OFF\n"
     ]
    }
   ],
   "source": [
    "\n",
    "# Set up the notebook\n",
    "%pprint\n",
    "import sys\n",
    "if (osp.join('..', 'py') not in sys.path): sys.path.insert(1, osp.join('..', 'py'))"
   ]
  },
  {
   "cell_type": "code",
   "execution_count": 2,
   "id": "175ef3c3-7c16-47d8-8e6a-c06108b7625d",
   "metadata": {},
   "outputs": [],
   "source": [
    "\n",
    "from FRVRS import (\n",
    "    fu, nu, warnings, osp, read_excel, re, concat, isna, nan\n",
    ")\n",
    "import json\n",
    "\n",
    "warnings.filterwarnings('ignore')"
   ]
  },
  {
   "cell_type": "markdown",
   "id": "2f527077-c52c-403c-9325-4d6f41c8f1bc",
   "metadata": {},
   "source": [
    "\n",
    "# ANOVA Stats Created for Metrics Evaluation Open World"
   ]
  },
  {
   "cell_type": "code",
   "execution_count": 3,
   "id": "a51c8c79-023c-4b6b-bbb7-f26f16126fed",
   "metadata": {},
   "outputs": [
    {
     "name": "stdout",
     "output_type": "stream",
     "text": [
      "No pickle exists for metrics_evaluation_open_world_csv_stats_df - attempting to load /mnt/c/Users/DaveBabbitt/Documents/GitHub/itm-analysis-reporting/saves/csv/metrics_evaluation_open_world_csv_stats_df.csv.\n",
      "Attempting to load /mnt/c/Users/DaveBabbitt/Documents/GitHub/itm-analysis-reporting/saves/pkl/metrics_evaluation_open_world_json_stats_df.pkl.\n",
      "Attempting to load /mnt/c/Users/DaveBabbitt/Documents/GitHub/itm-analysis-reporting/saves/pkl/metrics_evaluation_open_world_scene_stats_df.pkl.\n"
     ]
    }
   ],
   "source": [
    "\n",
    "# Load data frames to get a reliable representation\n",
    "data_frames_dict = nu.load_data_frames(\n",
    "    metrics_evaluation_open_world_csv_stats_df='', metrics_evaluation_open_world_json_stats_df='',\n",
    "    metrics_evaluation_open_world_scene_stats_df=''\n",
    ")\n",
    "csv_stats_df = data_frames_dict['metrics_evaluation_open_world_csv_stats_df']\n",
    "json_stats_df = data_frames_dict['metrics_evaluation_open_world_json_stats_df']\n",
    "scene_stats_df = data_frames_dict['metrics_evaluation_open_world_scene_stats_df']"
   ]
  },
  {
   "cell_type": "code",
   "execution_count": 4,
   "id": "aed3fa8e-20c6-4d1b-aa48-385adf32ee89",
   "metadata": {},
   "outputs": [
    {
     "name": "stdout",
     "output_type": "stream",
     "text": [
      "['csv_file_name', 'participant_id', 'session_uuid']\n",
      "['AD_KDMA_Sim', 'AD_KDMA_Text', 'PropTrust', 'ST_KDMA_Sim', 'ST_KDMA_Text', 'YrsMilExp', 'configData_scenarioData_description', 'configData_scenarioData_difficulty', 'configData_scenarioData_name']\n",
      "(199476, 124)\n",
      "(43, 12)\n",
      "(199476, 133)\n"
     ]
    }
   ],
   "source": [
    "\n",
    "# Merge in the JSON scenario dataset\n",
    "on_columns = sorted(set(csv_stats_df.columns).intersection(set(json_stats_df.columns)))\n",
    "print(on_columns)\n",
    "senario_columns = sorted(\n",
    "    [cn for cn in json_stats_df.columns if 'scenarioData' in cn] + \n",
    "    ['AD_KDMA_Sim', 'AD_KDMA_Text', 'PropTrust', 'ST_KDMA_Sim', 'ST_KDMA_Text', 'YrsMilExp']\n",
    ")\n",
    "print(senario_columns)\n",
    "columns_list = on_columns + senario_columns\n",
    "merge1_df = csv_stats_df.merge(json_stats_df[columns_list], on=on_columns, how='left')\n",
    "print(csv_stats_df.shape) # (199476, 124)\n",
    "print(json_stats_df[columns_list].shape) # (51, 5)\n",
    "print(merge1_df.shape) # (199476, 127)"
   ]
  },
  {
   "cell_type": "code",
   "execution_count": 5,
   "id": "766492d3-153f-40e8-a790-ae813a83b0cb",
   "metadata": {},
   "outputs": [
    {
     "name": "stdout",
     "output_type": "stream",
     "text": [
      "['participant_id', 'scene_id', 'session_uuid']\n",
      "['actual_engagement_distance', 'first_engagement', 'first_treatment', 'injury_correctly_treated_count', 'injury_not_treated_count', 'injury_treatments_count', 'injury_wrongly_treated_count', 'last_engagement', 'last_still_engagement', 'measure_of_right_ordering', 'patient_count', 'percent_hemorrhage_controlled', 'pulse_taken_count', 'stills_value', 'teleport_count', 'time_to_hemorrhage_control_per_patient', 'time_to_last_hemorrhage_controlled', 'total_actions_count', 'triage_time', 'voice_capture_count', 'walk_command_count', 'walk_value', 'walkers_value', 'wave_command_count', 'wave_value']\n",
      "(199476, 133)\n",
      "(76, 28)\n",
      "(199476, 158)\n"
     ]
    }
   ],
   "source": [
    "\n",
    "# Merge in the scene stats dataset\n",
    "on_columns = sorted(set(merge1_df.columns).intersection(set(scene_stats_df.columns)))\n",
    "print(on_columns)\n",
    "analysis_columns = [\n",
    "    'actual_engagement_distance', 'first_engagement', 'first_treatment', 'injury_correctly_treated_count', 'injury_not_treated_count',\n",
    "    'injury_treatments_count', 'injury_wrongly_treated_count', 'last_engagement', 'last_still_engagement', 'measure_of_right_ordering', 'patient_count',\n",
    "    'percent_hemorrhage_controlled', 'pulse_taken_count', 'stills_value', 'teleport_count', 'time_to_hemorrhage_control_per_patient',\n",
    "    'time_to_last_hemorrhage_controlled', 'total_actions_count', 'triage_time', 'voice_capture_count', 'walk_command_count', 'walk_value', 'walkers_value',\n",
    "    'wave_command_count', 'wave_value'\n",
    "]\n",
    "print(analysis_columns)\n",
    "columns_list = on_columns + analysis_columns\n",
    "merge2_df = merge1_df.merge(scene_stats_df[columns_list], on=on_columns, how='left')\n",
    "print(merge1_df.shape) # (199476, 127)\n",
    "print(scene_stats_df[columns_list].shape) # (60, 29)\n",
    "print(merge2_df.shape) # (199476, 153)"
   ]
  },
  {
   "cell_type": "code",
   "execution_count": 6,
   "id": "64e8589c-80bf-4839-9b11-dc49de008f68",
   "metadata": {},
   "outputs": [
    {
     "name": "stdout",
     "output_type": "stream",
     "text": [
      "['participant_id', 'scene_id', 'session_uuid', 'AD_KDMA_Sim', 'AD_KDMA_Text', 'PropTrust', 'ST_KDMA_Sim', 'ST_KDMA_Text', 'YrsMilExp', 'configData_scenarioData_difficulty', 'actual_engagement_distance', 'first_engagement', 'first_treatment', 'injury_correctly_treated_count', 'injury_not_treated_count', 'injury_treatments_count', 'injury_wrongly_treated_count', 'last_engagement', 'last_still_engagement', 'measure_of_right_ordering', 'patient_count', 'percent_hemorrhage_controlled', 'pulse_taken_count', 'stills_value', 'teleport_count', 'time_to_hemorrhage_control_per_patient', 'time_to_last_hemorrhage_controlled', 'total_actions_count', 'triage_time', 'voice_capture_count', 'walk_command_count', 'walk_value', 'walkers_value', 'wave_command_count', 'wave_value']\n"
     ]
    }
   ],
   "source": [
    "\n",
    "# Aggregate the data from the merged datasets and group by participant, session, and scene to get the means of the numeric columns\n",
    "columns_list = on_columns + [\n",
    "    'AD_KDMA_Sim', 'AD_KDMA_Text', 'PropTrust', 'ST_KDMA_Sim', 'ST_KDMA_Text', 'YrsMilExp', 'configData_scenarioData_difficulty'\n",
    "] + analysis_columns\n",
    "print(columns_list)\n",
    "anova_df = merge2_df[columns_list].groupby(on_columns).mean().rename(\n",
    "    columns={cn: 'mean_'+cn for cn in senario_columns + analysis_columns}\n",
    ").reset_index(drop=False)"
   ]
  },
  {
   "cell_type": "code",
   "execution_count": 7,
   "id": "89128bdd-c10c-4f8b-92f9-949fc25e916b",
   "metadata": {},
   "outputs": [],
   "source": [
    "\n",
    "# Get column and value descriptions\n",
    "file_path = osp.join(fu.data_folder, 'xlsx', 'Metrics_Evaluation_Dataset_organization_for_BBAI.xlsx')\n",
    "dataset_organization_df = read_excel(file_path)\n",
    "\n",
    "# Fix the doubled up descriptions\n",
    "mask_series = dataset_organization_df.Labels.map(lambda x: ';' in str(x))\n",
    "for row_index, label in dataset_organization_df[mask_series].Labels.items():\n",
    "    labels_list = re.split(' *; *', str(label), 0)\n",
    "    dataset_organization_df.loc[row_index, 'Labels'] = labels_list[0]\n",
    "    \n",
    "    # Get a copy of the row\n",
    "    new_row = dataset_organization_df.loc[row_index].copy()\n",
    "    \n",
    "    # Modify the desired column value\n",
    "    new_row['Labels'] = labels_list[1]\n",
    "    \n",
    "    # Append the new row to the Data Frame\n",
    "    dataset_organization_df = concat([dataset_organization_df, new_row], ignore_index=True)\n",
    "\n",
    "# Get a copy of the row\n",
    "mask_series = (dataset_organization_df.Variable == 'AD_Del_Omni')\n",
    "new_row = dataset_organization_df.loc[mask_series].copy()\n",
    "\n",
    "# Modify the desired column value\n",
    "new_row['Variable'] = 'AD_Del_Omni_Text'\n",
    "\n",
    "# Append the new row to the Data Frame\n",
    "dataset_organization_df = concat([dataset_organization_df, new_row], ignore_index=True)\n",
    "\n",
    "# Get the column value descriptions\n",
    "mask_series = ~dataset_organization_df.Description.isnull()\n",
    "df = dataset_organization_df[mask_series]\n",
    "value_description_dict = df.set_index('Variable').Description.to_dict()\n",
    "new_description_dict = value_description_dict.copy()\n",
    "for k, v in value_description_dict.items():\n",
    "    new_description_dict[k] = v\n",
    "    if (not k.endswith('_Text')):\n",
    "        new_key_name = f'{k}_Text'\n",
    "        new_description_dict[new_key_name] = new_description_dict.get(new_key_name, v)\n",
    "value_description_dict = new_description_dict.copy()\n",
    "\n",
    "# Create the value description function\n",
    "numeric_categories_mask_series = dataset_organization_df.Labels.map(lambda x: '=' in str(x))\n",
    "value_descriptions_columns = dataset_organization_df[numeric_categories_mask_series].Variable.unique().tolist()\n",
    "def get_value_description(column_name, column_value):\n",
    "    value_description = ''\n",
    "    if not isna(column_value):\n",
    "        mask_series = (dataset_organization_df.Variable == column_name) & ~dataset_organization_df.Labels.isnull()\n",
    "        if mask_series.any():\n",
    "            df = dataset_organization_df[mask_series]\n",
    "            mask_series = df.Labels.map(lambda label: re.split(' *= *', str(label), 0)[0] == str(int(float(column_value))))\n",
    "            if mask_series.any():\n",
    "                label = df[mask_series].Labels.squeeze()\n",
    "                value_description = re.split(' *= *', str(label), 0)[1]\n",
    "    \n",
    "    return value_description"
   ]
  },
  {
   "cell_type": "code",
   "execution_count": 8,
   "id": "fd327a2b-c1e1-4ae8-8861-0b01b1770c72",
   "metadata": {},
   "outputs": [
    {
     "name": "stdout",
     "output_type": "stream",
     "text": [
      "                 record_count\n",
      "medical_role                 \n",
      "Other                      24\n",
      "Medical student            23\n",
      "Paramedic                   3\n",
      "EM faculty                  2\n",
      "EM resident                 2\n"
     ]
    }
   ],
   "source": [
    "\n",
    "# Add medical role back in\n",
    "new_column = 'MedRole'\n",
    "column_name = 'medical_role'\n",
    "if new_column in json_stats_df.columns:\n",
    "    on_columns = sorted(set(anova_df.columns).intersection(set(json_stats_df.columns)))\n",
    "    columns_list = on_columns + [new_column]\n",
    "    anova_df = anova_df.merge(\n",
    "        json_stats_df[columns_list], on=on_columns, how='left'\n",
    "    ).rename(columns={new_column: column_name})\n",
    "    anova_df[column_name] = anova_df[column_name].map(\n",
    "        lambda cv: get_value_description('MedRole', cv)\n",
    "    ).replace('', nan)\n",
    "print(anova_df.groupby(column_name).size().to_frame().rename(columns={0: 'record_count'}).sort_values(\n",
    "    'record_count', ascending=False\n",
    ").head(5))"
   ]
  },
  {
   "cell_type": "code",
   "execution_count": 9,
   "id": "288ce814-76f1-4595-8af4-15dc02f68f7f",
   "metadata": {},
   "outputs": [
    {
     "name": "stdout",
     "output_type": "stream",
     "text": [
      "                  record_count\n",
      "encounter_layout              \n",
      "Desert                      18\n",
      "Submarine                   16\n",
      "Jungle                      15\n",
      "Urban                       11\n"
     ]
    }
   ],
   "source": [
    "\n",
    "# Add the sim environment back in\n",
    "new_column = 'encounter_layout'\n",
    "if new_column in json_stats_df.columns:\n",
    "    on_columns = sorted(set(anova_df.columns).intersection(set(json_stats_df.columns)))\n",
    "    columns_list = on_columns + [new_column]\n",
    "    anova_df = anova_df.merge(\n",
    "        json_stats_df[columns_list], on=on_columns, how='left'\n",
    "    )\n",
    "print(anova_df.groupby(new_column).size().to_frame().rename(columns={0: 'record_count'}).sort_values(\n",
    "    'record_count', ascending=False\n",
    ").head(5))"
   ]
  },
  {
   "cell_type": "code",
   "execution_count": 10,
   "id": "5862fae4-7379-4dd6-99e0-e892616574fd",
   "metadata": {},
   "outputs": [
    {
     "name": "stdout",
     "output_type": "stream",
     "text": [
      "Pickling to /mnt/c/Users/DaveBabbitt/Documents/GitHub/itm-analysis-reporting/saves/pkl/metrics_evaluation_open_world_anova_df.pkl\n",
      "Saving to /mnt/c/Users/DaveBabbitt/Documents/GitHub/itm-analysis-reporting/saves/csv/metrics_evaluation_open_world_anova_df.csv\n",
      "(68, 37)\n",
      "['participant_id', 'scene_id', 'session_uuid', 'mean_AD_KDMA_Sim', 'mean_AD_KDMA_Text', 'mean_PropTrust', 'mean_ST_KDMA_Sim', 'mean_ST_KDMA_Text', 'mean_YrsMilExp', 'mean_configData_scenarioData_difficulty', 'mean_actual_engagement_distance', 'mean_first_engagement', 'mean_first_treatment', 'mean_injury_correctly_treated_count', 'mean_injury_not_treated_count', 'mean_injury_treatments_count', 'mean_injury_wrongly_treated_count', 'mean_last_engagement', 'mean_last_still_engagement', 'mean_measure_of_right_ordering', 'mean_patient_count', 'mean_percent_hemorrhage_controlled', 'mean_pulse_taken_count', 'mean_stills_value', 'mean_teleport_count', 'mean_time_to_hemorrhage_control_per_patient', 'mean_time_to_last_hemorrhage_controlled', 'mean_total_actions_count', 'mean_triage_time', 'mean_voice_capture_count', 'mean_walk_command_count', 'mean_walk_value', 'mean_walkers_value', 'mean_wave_command_count', 'mean_wave_value', 'medical_role', 'encounter_layout']\n"
     ]
    }
   ],
   "source": [
    "\n",
    "# Store the results and show the new data frame shape\n",
    "nu.store_objects(metrics_evaluation_open_world_anova_df=anova_df, verbose=True)\n",
    "nu.save_data_frames(metrics_evaluation_open_world_anova_df=anova_df, verbose=True)\n",
    "print(anova_df.shape)\n",
    "print(anova_df.columns.tolist())"
   ]
  },
  {
   "cell_type": "code",
   "execution_count": null,
   "id": "894b64b0-575f-4b79-8ef2-9447beb2c44e",
   "metadata": {},
   "outputs": [],
   "source": []
  }
 ],
 "metadata": {
  "kernelspec": {
   "display_name": "ITM Analysis Reporting (Python 3.11.7)",
   "language": "python",
   "name": "itm_analysis_reporting"
  },
  "language_info": {
   "codemirror_mode": {
    "name": "ipython",
    "version": 3
   },
   "file_extension": ".py",
   "mimetype": "text/x-python",
   "name": "python",
   "nbconvert_exporter": "python",
   "pygments_lexer": "ipython3",
   "version": "3.7.12"
  }
 },
 "nbformat": 4,
 "nbformat_minor": 5
}
