{
 "cells": [
  {
   "cell_type": "code",
   "execution_count": 1,
   "id": "34ec8ce4-499a-4767-99f1-eda09ef729dc",
   "metadata": {
    "tags": []
   },
   "outputs": [
    {
     "name": "stdout",
     "output_type": "stream",
     "text": [
      "Pretty printing has been turned OFF\n"
     ]
    }
   ],
   "source": [
    "\n",
    "# Set up notebook\n",
    "%pprint\n",
    "import sys\n",
    "if (osp.join(os.pardir, 'py') not in sys.path): sys.path.insert(1, osp.join(os.pardir, 'py'))\n",
    "from FRVRS import nu, fu\n",
    "nu.delete_ipynb_checkpoint_folders()"
   ]
  },
  {
   "cell_type": "code",
   "execution_count": 2,
   "id": "4f6e0ed4-37db-4c77-bb6a-1ca851bfbec9",
   "metadata": {},
   "outputs": [
    {
     "name": "stderr",
     "output_type": "stream",
     "text": [
      "....\n",
      "----------------------------------------------------------------------\n",
      "Ran 4 tests in 0.009s\n",
      "\n",
      "OK\n"
     ]
    },
    {
     "data": {
      "text/plain": [
       "<unittest.runner.TextTestResult run=4 errors=0 failures=0>"
      ]
     },
     "execution_count": 2,
     "metadata": {},
     "output_type": "execute_result"
    }
   ],
   "source": [
    "\n",
    "# Test all the methods used in this notebook in one test suite\n",
    "import unittest\n",
    "if ('../tests' not in sys.path): sys.path.insert(1, '../tests')\n",
    "suite = unittest.TestSuite()\n",
    "\n",
    "# Add all test cases from each class to the suite\n",
    "from test_frvrs_utils_injury_functions import TestGetIsHemorrhageToolApplied, TestHemorrhageControlled\n",
    "suite.addTest(unittest.makeSuite(TestGetIsHemorrhageToolApplied))\n",
    "suite.addTest(unittest.makeSuite(TestHemorrhageControlled))\n",
    "\n",
    "# Run the test suite\n",
    "runner = unittest.TextTestRunner()\n",
    "runner.run(suite)"
   ]
  },
  {
   "cell_type": "markdown",
   "id": "6d3d9f71-3ee7-445f-8750-b8a1697793fd",
   "metadata": {},
   "source": [
    "\n",
    "# Create some good Mock Data"
   ]
  },
  {
   "cell_type": "code",
   "execution_count": 2,
   "id": "83a2d52e-c4ad-4d33-ae5d-33b66149c15d",
   "metadata": {},
   "outputs": [
    {
     "name": "stdout",
     "output_type": "stream",
     "text": [
      "(401177, 111)\n",
      "(332, 19)\n",
      "(486, 48)\n",
      "(399048, 115)\n"
     ]
    }
   ],
   "source": [
    "\n",
    "# Get the standard data frames\n",
    "data_frames_dict = nu.load_data_frames(\n",
    "    verbose=False, first_responder_master_registry_df='', first_responder_master_registry_file_stats_df='', first_responder_master_registry_scene_stats_df=''\n",
    ")\n",
    "triage_paper_df = data_frames_dict['first_responder_master_registry_df']\n",
    "print(triage_paper_df.shape)\n",
    "file_stats_df = data_frames_dict['first_responder_master_registry_file_stats_df']\n",
    "print(file_stats_df.shape)\n",
    "scene_stats_df = data_frames_dict['first_responder_master_registry_scene_stats_df']\n",
    "print(scene_stats_df.shape)\n",
    "elevens_df = fu.get_elevens_dataframe(\n",
    "    triage_paper_df, file_stats_df, scene_stats_df, needed_columns=['scene_type', 'is_scene_aborted', 'is_a_one_triage_file', 'responder_category']\n",
    ")\n",
    "print(elevens_df.shape)"
   ]
  },
  {
   "cell_type": "code",
   "execution_count": 27,
   "id": "0cce31de-f20b-45df-8253-d876a6d3d9b9",
   "metadata": {},
   "outputs": [
    {
     "name": "stdout",
     "output_type": "stream",
     "text": [
      "(5932,)\n",
      "(5932,)\n"
     ]
    },
    {
     "data": {
      "text/plain": [
       "False    3698\n",
       "True     2234\n",
       "dtype: int64"
      ]
     },
     "execution_count": 27,
     "metadata": {},
     "output_type": "execute_result"
    }
   ],
   "source": [
    "\n",
    "gb = elevens_df.groupby(fu.injury_groupby_columns)\n",
    "print(gb.size().shape)\n",
    "# gb.transform(lambda srs: fu.get_is_injury_correctly_treated(srs))\n",
    "# gb.transform(lambda srs: srs.name)\n",
    "# for (session_uuid, scene_id, patient_id, injury_id), injury_df in gb:\n",
    "srs = gb.apply(lambda injury_df: fu.get_is_injury_correctly_treated(injury_df))\n",
    "print(srs.shape)\n",
    "srs.value_counts()"
   ]
  },
  {
   "cell_type": "code",
   "execution_count": 31,
   "id": "66f9e14c-b6ce-4c3c-ad04-4fbeee523911",
   "metadata": {},
   "outputs": [],
   "source": [
    "\n",
    "# Find the scenes with requierd procedures in them\n",
    "mask_series = ~elevens_df.injury_required_procedure.isnull() & elevens_df.injury_required_procedure.isin(fu.hemorrhage_control_procedures_list)\n",
    "# display(mask_series.value_counts(dropna=False))\n",
    "scene_dfs_list = []\n",
    "for (session_uuid, scene_id), scene_df in elevens_df[mask_series].groupby(fu.scene_groupby_columns):\n",
    "    \n",
    "    # Get the entire scene history\n",
    "    scene_mask_series = True\n",
    "    for cn in fu.scene_groupby_columns: scene_mask_series &= (elevens_df[cn] == eval(cn))\n",
    "    scene_df = elevens_df[scene_mask_series]\n",
    "    \n",
    "    # display(scene_df.injury_required_procedure.value_counts(dropna=False))\n",
    "    mask_series =  scene_df.injury_required_procedure.isin(fu.hemorrhage_control_procedures_list)\n",
    "    if (scene_df[mask_series].shape[0] >= 15): scene_dfs_list.append(scene_df)"
   ]
  },
  {
   "cell_type": "code",
   "execution_count": 32,
   "id": "ae256d81-aacb-42a6-a99c-5e3dedc2d2af",
   "metadata": {},
   "outputs": [
    {
     "name": "stdout",
     "output_type": "stream",
     "text": [
      "\n",
      "    def setUp(self):\n",
      "        # Create a sample DataFrame\n",
      "        self.scene_df = DataFrame({\n",
      "            'action_tick': [223819, 223819, 223819, 241120, 256019, 256924, 285654, 289814, 317108, 319906, 321245, 367706, 368149, 568501, 571875],\n",
      "            'patient_id': ['Lily_4 Root', 'Lily_2 Root', 'Bob_0 Root', 'Gloria_6 Root', nan, nan, 'Lily_2 Root', nan, nan, nan, 'Mike_7 Root', nan, nan, 'Gloria_8 Root', nan],\n",
      "            'injury_required_procedure': ['woundpack', 'tourniquet', 'tourniquet', nan, nan, nan, 'tourniquet', nan, nan, nan, 'tourniquet', nan, nan, nan, nan],\n",
      "            'action_type': ['INJURY_RECORD', 'INJURY_RECORD', 'INJURY_RECORD', 'S_A_L_T_WAVE_IF_CAN', 'TOOL_HOVER', 'TOOL_HOVER', 'INJURY_TREATED', 'VOICE_CAPTURE', 'TOOL_HOVER', 'TOOL_HOVER', 'INJURY_TREATED', 'TOOL_HOVER', 'TOOL_HOVER', 'S_A_L_T_WALK_IF_CAN', 'TELEPORT'],\n",
      "            'injury_id': ['L Side Puncture', 'R Shin Amputation', 'L Thigh Laceration', nan, nan, nan, 'R Shin Amputation', nan, nan, nan, 'L Thigh Puncture', nan, nan, nan, nan],\n",
      "            'injury_record_required_procedure': ['woundpack', 'tourniquet', 'tourniquet', nan, nan, nan, nan, nan, nan, nan, nan, nan, nan, nan, nan],\n",
      "            'injury_treated_required_procedure': [nan, nan, nan, nan, nan, nan, 'tourniquet', nan, nan, nan, 'tourniquet', nan, nan, nan, nan],\n",
      "        })\n"
     ]
    }
   ],
   "source": [
    "\n",
    "from random import choices\n",
    "\n",
    "scene_df = choices(scene_dfs_list, k=1)[0]\n",
    "df = scene_df.sample(15).sort_values('action_tick')\n",
    "mask_series =  df.injury_required_procedure.isin(fu.hemorrhage_control_procedures_list)\n",
    "while not mask_series.sum() >= 5:\n",
    "    df = scene_df.sample(15).sort_values('action_tick')\n",
    "    mask_series =  df.injury_required_procedure.isin(fu.hemorrhage_control_procedures_list)\n",
    "# mask_series = ~scene_df.injury_treated_injury_treated_with_wrong_treatment.isnull()\n",
    "# df = scene_df[mask_series]\n",
    "columns_list = [\n",
    "    'action_tick', 'patient_id', 'injury_required_procedure', 'action_type', 'injury_id',\n",
    "    'injury_record_required_procedure', 'injury_treated_required_procedure'\n",
    "]\n",
    "print(f\"\"\"\n",
    "    def setUp(self):\n",
    "        # Create a sample DataFrame\n",
    "        self.scene_df = DataFrame({{\"\"\")\n",
    "for cn in columns_list: print(f\"\"\"            '{cn}': {df[cn].tolist()},\"\"\")\n",
    "print(f\"\"\"        }})\"\"\")"
   ]
  },
  {
   "cell_type": "code",
   "execution_count": 33,
   "id": "3061b8aa-b062-4b42-a129-901b39852cea",
   "metadata": {},
   "outputs": [
    {
     "data": {
      "text/plain": [
       "61835"
      ]
     },
     "execution_count": 33,
     "metadata": {},
     "output_type": "execute_result"
    }
   ],
   "source": [
    "\n",
    "# Get all the non-hemorrhaging procedures\n",
    "import pandas as pd\n",
    "from pandas import DataFrame\n",
    "from numpy import nan\n",
    "\n",
    "scene_df = DataFrame({\n",
    "    'action_tick': [223819, 223819, 223819, 241120, 256019, 256924, 285654, 289814, 317108, 319906, 321245, 367706, 368149, 568501, 571875],\n",
    "    'patient_id': [\n",
    "        'Lily_4 Root', 'Lily_2 Root', 'Bob_0 Root', 'Gloria_6 Root', nan, nan, 'Lily_2 Root', nan,\n",
    "        nan, nan, 'Mike_7 Root', nan, nan, 'Gloria_8 Root', nan\n",
    "    ],\n",
    "    'injury_required_procedure': ['woundpack', 'tourniquet', 'tourniquet', nan, nan, nan, 'tourniquet', nan, nan, nan, 'tourniquet', nan, nan, nan, nan],\n",
    "    'action_type': [\n",
    "        'INJURY_RECORD', 'INJURY_RECORD', 'INJURY_RECORD', 'S_A_L_T_WAVE_IF_CAN', 'TOOL_HOVER', 'TOOL_HOVER', 'INJURY_TREATED', 'VOICE_CAPTURE',\n",
    "        'TOOL_HOVER', 'TOOL_HOVER', 'INJURY_TREATED', 'TOOL_HOVER', 'TOOL_HOVER', 'S_A_L_T_WALK_IF_CAN', 'TELEPORT'\n",
    "    ],\n",
    "    'injury_id': [\n",
    "        'L Side Puncture', 'R Shin Amputation', 'L Thigh Laceration', nan, nan, nan, 'R Shin Amputation', nan,\n",
    "        nan, nan, 'L Thigh Puncture', nan, nan, nan, nan\n",
    "    ],\n",
    "    'injury_record_required_procedure': ['woundpack', 'tourniquet', 'tourniquet', nan, nan, nan, nan, nan, nan, nan, nan, nan, nan, nan, nan],\n",
    "    'injury_treated_required_procedure': [nan, nan, nan, nan, nan, nan, 'tourniquet', nan, nan, nan, 'tourniquet', nan, nan, nan, nan]\n",
    "})\n",
    "fu.get_time_to_last_hemorrhage_controlled(scene_df)"
   ]
  },
  {
   "cell_type": "code",
   "execution_count": 34,
   "id": "692cdeca-392a-463a-a657-4e82c61350a8",
   "metadata": {},
   "outputs": [
    {
     "name": "stdout",
     "output_type": "stream",
     "text": [
      "tourniquet\n"
     ]
    },
    {
     "data": {
      "text/html": [
       "<div>\n",
       "<style scoped>\n",
       "    .dataframe tbody tr th:only-of-type {\n",
       "        vertical-align: middle;\n",
       "    }\n",
       "\n",
       "    .dataframe tbody tr th {\n",
       "        vertical-align: top;\n",
       "    }\n",
       "\n",
       "    .dataframe thead th {\n",
       "        text-align: right;\n",
       "    }\n",
       "</style>\n",
       "<table border=\"1\" class=\"dataframe\">\n",
       "  <thead>\n",
       "    <tr style=\"text-align: right;\">\n",
       "      <th></th>\n",
       "      <th>action_tick</th>\n",
       "      <th>injury_id</th>\n",
       "    </tr>\n",
       "  </thead>\n",
       "  <tbody>\n",
       "    <tr>\n",
       "      <th>2</th>\n",
       "      <td>223819</td>\n",
       "      <td>L Thigh Laceration</td>\n",
       "    </tr>\n",
       "  </tbody>\n",
       "</table>\n",
       "</div>"
      ],
      "text/plain": [
       "   action_tick           injury_id\n",
       "2       223819  L Thigh Laceration"
      ]
     },
     "metadata": {},
     "output_type": "display_data"
    },
    {
     "data": {
      "text/html": [
       "<div>\n",
       "<style scoped>\n",
       "    .dataframe tbody tr th:only-of-type {\n",
       "        vertical-align: middle;\n",
       "    }\n",
       "\n",
       "    .dataframe tbody tr th {\n",
       "        vertical-align: top;\n",
       "    }\n",
       "\n",
       "    .dataframe thead th {\n",
       "        text-align: right;\n",
       "    }\n",
       "</style>\n",
       "<table border=\"1\" class=\"dataframe\">\n",
       "  <thead>\n",
       "    <tr style=\"text-align: right;\">\n",
       "      <th></th>\n",
       "      <th>action_tick</th>\n",
       "      <th>patient_id</th>\n",
       "      <th>injury_required_procedure</th>\n",
       "      <th>action_type</th>\n",
       "      <th>injury_id</th>\n",
       "      <th>injury_record_required_procedure</th>\n",
       "      <th>injury_treated_required_procedure</th>\n",
       "    </tr>\n",
       "  </thead>\n",
       "  <tbody>\n",
       "    <tr>\n",
       "      <th>2</th>\n",
       "      <td>223819</td>\n",
       "      <td>Bob_0 Root</td>\n",
       "      <td>tourniquet</td>\n",
       "      <td>INJURY_RECORD</td>\n",
       "      <td>L Thigh Laceration</td>\n",
       "      <td>tourniquet</td>\n",
       "      <td>NaN</td>\n",
       "    </tr>\n",
       "  </tbody>\n",
       "</table>\n",
       "</div>"
      ],
      "text/plain": [
       "   action_tick  patient_id injury_required_procedure    action_type  \\\n",
       "2       223819  Bob_0 Root                tourniquet  INJURY_RECORD   \n",
       "\n",
       "            injury_id injury_record_required_procedure  \\\n",
       "2  L Thigh Laceration                       tourniquet   \n",
       "\n",
       "  injury_treated_required_procedure  \n",
       "2                               NaN  "
      ]
     },
     "metadata": {},
     "output_type": "display_data"
    },
    {
     "name": "stdout",
     "output_type": "stream",
     "text": [
      "tourniquet\n"
     ]
    },
    {
     "data": {
      "text/html": [
       "<div>\n",
       "<style scoped>\n",
       "    .dataframe tbody tr th:only-of-type {\n",
       "        vertical-align: middle;\n",
       "    }\n",
       "\n",
       "    .dataframe tbody tr th {\n",
       "        vertical-align: top;\n",
       "    }\n",
       "\n",
       "    .dataframe thead th {\n",
       "        text-align: right;\n",
       "    }\n",
       "</style>\n",
       "<table border=\"1\" class=\"dataframe\">\n",
       "  <thead>\n",
       "    <tr style=\"text-align: right;\">\n",
       "      <th></th>\n",
       "      <th>action_tick</th>\n",
       "      <th>injury_id</th>\n",
       "    </tr>\n",
       "  </thead>\n",
       "  <tbody>\n",
       "    <tr>\n",
       "      <th>1</th>\n",
       "      <td>223819</td>\n",
       "      <td>R Shin Amputation</td>\n",
       "    </tr>\n",
       "  </tbody>\n",
       "</table>\n",
       "</div>"
      ],
      "text/plain": [
       "   action_tick          injury_id\n",
       "1       223819  R Shin Amputation"
      ]
     },
     "metadata": {},
     "output_type": "display_data"
    },
    {
     "data": {
      "text/html": [
       "<div>\n",
       "<style scoped>\n",
       "    .dataframe tbody tr th:only-of-type {\n",
       "        vertical-align: middle;\n",
       "    }\n",
       "\n",
       "    .dataframe tbody tr th {\n",
       "        vertical-align: top;\n",
       "    }\n",
       "\n",
       "    .dataframe thead th {\n",
       "        text-align: right;\n",
       "    }\n",
       "</style>\n",
       "<table border=\"1\" class=\"dataframe\">\n",
       "  <thead>\n",
       "    <tr style=\"text-align: right;\">\n",
       "      <th></th>\n",
       "      <th>action_tick</th>\n",
       "      <th>patient_id</th>\n",
       "      <th>injury_required_procedure</th>\n",
       "      <th>action_type</th>\n",
       "      <th>injury_id</th>\n",
       "      <th>injury_record_required_procedure</th>\n",
       "      <th>injury_treated_required_procedure</th>\n",
       "    </tr>\n",
       "  </thead>\n",
       "  <tbody>\n",
       "    <tr>\n",
       "      <th>1</th>\n",
       "      <td>223819</td>\n",
       "      <td>Lily_2 Root</td>\n",
       "      <td>tourniquet</td>\n",
       "      <td>INJURY_RECORD</td>\n",
       "      <td>R Shin Amputation</td>\n",
       "      <td>tourniquet</td>\n",
       "      <td>NaN</td>\n",
       "    </tr>\n",
       "    <tr>\n",
       "      <th>6</th>\n",
       "      <td>285654</td>\n",
       "      <td>Lily_2 Root</td>\n",
       "      <td>tourniquet</td>\n",
       "      <td>INJURY_TREATED</td>\n",
       "      <td>R Shin Amputation</td>\n",
       "      <td>NaN</td>\n",
       "      <td>tourniquet</td>\n",
       "    </tr>\n",
       "  </tbody>\n",
       "</table>\n",
       "</div>"
      ],
      "text/plain": [
       "   action_tick   patient_id injury_required_procedure     action_type  \\\n",
       "1       223819  Lily_2 Root                tourniquet   INJURY_RECORD   \n",
       "6       285654  Lily_2 Root                tourniquet  INJURY_TREATED   \n",
       "\n",
       "           injury_id injury_record_required_procedure  \\\n",
       "1  R Shin Amputation                       tourniquet   \n",
       "6  R Shin Amputation                              NaN   \n",
       "\n",
       "  injury_treated_required_procedure  \n",
       "1                               NaN  \n",
       "6                        tourniquet  "
      ]
     },
     "metadata": {},
     "output_type": "display_data"
    },
    {
     "name": "stdout",
     "output_type": "stream",
     "text": [
      "woundpack\n"
     ]
    },
    {
     "data": {
      "text/html": [
       "<div>\n",
       "<style scoped>\n",
       "    .dataframe tbody tr th:only-of-type {\n",
       "        vertical-align: middle;\n",
       "    }\n",
       "\n",
       "    .dataframe tbody tr th {\n",
       "        vertical-align: top;\n",
       "    }\n",
       "\n",
       "    .dataframe thead th {\n",
       "        text-align: right;\n",
       "    }\n",
       "</style>\n",
       "<table border=\"1\" class=\"dataframe\">\n",
       "  <thead>\n",
       "    <tr style=\"text-align: right;\">\n",
       "      <th></th>\n",
       "      <th>action_tick</th>\n",
       "      <th>injury_id</th>\n",
       "    </tr>\n",
       "  </thead>\n",
       "  <tbody>\n",
       "    <tr>\n",
       "      <th>0</th>\n",
       "      <td>223819</td>\n",
       "      <td>L Side Puncture</td>\n",
       "    </tr>\n",
       "  </tbody>\n",
       "</table>\n",
       "</div>"
      ],
      "text/plain": [
       "   action_tick        injury_id\n",
       "0       223819  L Side Puncture"
      ]
     },
     "metadata": {},
     "output_type": "display_data"
    },
    {
     "data": {
      "text/html": [
       "<div>\n",
       "<style scoped>\n",
       "    .dataframe tbody tr th:only-of-type {\n",
       "        vertical-align: middle;\n",
       "    }\n",
       "\n",
       "    .dataframe tbody tr th {\n",
       "        vertical-align: top;\n",
       "    }\n",
       "\n",
       "    .dataframe thead th {\n",
       "        text-align: right;\n",
       "    }\n",
       "</style>\n",
       "<table border=\"1\" class=\"dataframe\">\n",
       "  <thead>\n",
       "    <tr style=\"text-align: right;\">\n",
       "      <th></th>\n",
       "      <th>action_tick</th>\n",
       "      <th>patient_id</th>\n",
       "      <th>injury_required_procedure</th>\n",
       "      <th>action_type</th>\n",
       "      <th>injury_id</th>\n",
       "      <th>injury_record_required_procedure</th>\n",
       "      <th>injury_treated_required_procedure</th>\n",
       "    </tr>\n",
       "  </thead>\n",
       "  <tbody>\n",
       "    <tr>\n",
       "      <th>0</th>\n",
       "      <td>223819</td>\n",
       "      <td>Lily_4 Root</td>\n",
       "      <td>woundpack</td>\n",
       "      <td>INJURY_RECORD</td>\n",
       "      <td>L Side Puncture</td>\n",
       "      <td>woundpack</td>\n",
       "      <td>NaN</td>\n",
       "    </tr>\n",
       "  </tbody>\n",
       "</table>\n",
       "</div>"
      ],
      "text/plain": [
       "   action_tick   patient_id injury_required_procedure    action_type  \\\n",
       "0       223819  Lily_4 Root                 woundpack  INJURY_RECORD   \n",
       "\n",
       "         injury_id injury_record_required_procedure  \\\n",
       "0  L Side Puncture                        woundpack   \n",
       "\n",
       "  injury_treated_required_procedure  \n",
       "0                               NaN  "
      ]
     },
     "metadata": {},
     "output_type": "display_data"
    },
    {
     "data": {
      "text/html": [
       "<div>\n",
       "<style scoped>\n",
       "    .dataframe tbody tr th:only-of-type {\n",
       "        vertical-align: middle;\n",
       "    }\n",
       "\n",
       "    .dataframe tbody tr th {\n",
       "        vertical-align: top;\n",
       "    }\n",
       "\n",
       "    .dataframe thead th {\n",
       "        text-align: right;\n",
       "    }\n",
       "</style>\n",
       "<table border=\"1\" class=\"dataframe\">\n",
       "  <thead>\n",
       "    <tr style=\"text-align: right;\">\n",
       "      <th></th>\n",
       "      <th>action_tick</th>\n",
       "      <th>patient_id</th>\n",
       "      <th>injury_required_procedure</th>\n",
       "      <th>action_type</th>\n",
       "      <th>injury_id</th>\n",
       "      <th>injury_record_required_procedure</th>\n",
       "      <th>injury_treated_required_procedure</th>\n",
       "    </tr>\n",
       "  </thead>\n",
       "  <tbody>\n",
       "    <tr>\n",
       "      <th>10</th>\n",
       "      <td>321245</td>\n",
       "      <td>Mike_7 Root</td>\n",
       "      <td>tourniquet</td>\n",
       "      <td>INJURY_TREATED</td>\n",
       "      <td>L Thigh Puncture</td>\n",
       "      <td>NaN</td>\n",
       "      <td>tourniquet</td>\n",
       "    </tr>\n",
       "  </tbody>\n",
       "</table>\n",
       "</div>"
      ],
      "text/plain": [
       "    action_tick   patient_id injury_required_procedure     action_type  \\\n",
       "10       321245  Mike_7 Root                tourniquet  INJURY_TREATED   \n",
       "\n",
       "           injury_id injury_record_required_procedure  \\\n",
       "10  L Thigh Puncture                              NaN   \n",
       "\n",
       "   injury_treated_required_procedure  \n",
       "10                        tourniquet  "
      ]
     },
     "metadata": {},
     "output_type": "display_data"
    }
   ],
   "source": [
    "\n",
    "scene_start = fu.get_scene_start(scene_df)\n",
    "last_controlled_time = 0\n",
    "for patient_id, patient_df in scene_df.groupby('patient_id'):\n",
    "    if (fu.get_is_patient_hemorrhaging(patient_df)):\n",
    "        # print(fu.get_time_to_hemorrhage_control(patient_df, scene_start=scene_start))\n",
    "        controlled_time = 0\n",
    "        on_columns_list = ['injury_id']\n",
    "        merge_columns_list = ['action_tick'] + on_columns_list\n",
    "        for control_procedure in fu.hemorrhage_control_procedures_list:\n",
    "            mask_series = patient_df.injury_record_required_procedure.isin([control_procedure])\n",
    "            if mask_series.any():\n",
    "                print(control_procedure)\n",
    "                hemorrhage_df = patient_df[mask_series][merge_columns_list]\n",
    "                display(hemorrhage_df)\n",
    "        display(patient_df)"
   ]
  },
  {
   "cell_type": "code",
   "execution_count": null,
   "id": "b7c2b214-e8f5-4afd-ba72-17de8f115885",
   "metadata": {},
   "outputs": [],
   "source": [
    "\n",
    "# Find an injury where the required procedures don't match\n",
    "columns_list = ['injury_record_required_procedure', 'injury_treated_required_procedure']\n",
    "rows_list = []\n",
    "for (session_uuid, scene_id, patient_id, injury_id), injury_df in elevens_df.groupby(fu.injury_groupby_columns):\n",
    "    row_dict = {cn: eval(cn) for cn in fu.injury_groupby_columns}\n",
    "    df = injury_df[columns_list].drop_duplicates()\n",
    "    row_dict['row_count'] = df.shape[0]\n",
    "    rows_list.append(row_dict)\n",
    "df = DataFrame(rows_list)\n",
    "df.sort_values('row_count', ascending=False)"
   ]
  },
  {
   "cell_type": "code",
   "execution_count": null,
   "id": "971bcb89-808c-4460-aa00-e1ef51ce4754",
   "metadata": {},
   "outputs": [],
   "source": [
    "\n",
    "# Find an injury where the required procedures don't match\n",
    "columns_list = ['injury_record_required_procedure', 'injury_treated_required_procedure']\n",
    "rows_list = []\n",
    "for (session_uuid, scene_id, patient_id, injury_id), injury_df in elevens_df.groupby(fu.injury_groupby_columns):\n",
    "    row_dict = {cn: eval(cn) for cn in fu.injury_groupby_columns}\n",
    "    df = injury_df[columns_list].drop_duplicates()\n",
    "    if df.shape[0] == 1: display(df); break"
   ]
  },
  {
   "cell_type": "code",
   "execution_count": null,
   "id": "cafefa73-e579-4116-9f0f-9840f50e5733",
   "metadata": {},
   "outputs": [],
   "source": [
    "\n",
    "# Get the scenes with the highest hemorrhage control percentage\n",
    "max_percent = scene_stats_df.percent_hemorrhage_controlled.max()\n",
    "mask_series = (scene_stats_df.percent_hemorrhage_controlled == max_percent)\n",
    "df = scene_stats_df[mask_series]\n",
    "on_columns = sorted(set(elevens_df.columns).intersection(set(df.columns)))\n",
    "merge_df = elevens_df.merge(df, on=on_columns, how='inner')"
   ]
  },
  {
   "cell_type": "code",
   "execution_count": null,
   "id": "bae974e7-0884-4551-ba7d-31b60846b2d9",
   "metadata": {},
   "outputs": [],
   "source": [
    "\n",
    "mask_series = ~scene_df.injury_required_procedure.isnull()\n",
    "print(scene_df[mask_series].shape)\n",
    "scene_df[mask_series].injury_required_procedure.unique()"
   ]
  },
  {
   "cell_type": "code",
   "execution_count": null,
   "id": "38a39539-6688-4a2a-92d9-33269a3c9763",
   "metadata": {},
   "outputs": [],
   "source": [
    "\n",
    "mask_series = ~scene_df.injury_treated_injury_treated_with_wrong_treatment.isnull()\n",
    "print(scene_df[mask_series].shape)\n",
    "scene_df[mask_series].injury_treated_injury_treated_with_wrong_treatment.unique()"
   ]
  },
  {
   "cell_type": "code",
   "execution_count": 4,
   "id": "3b38b6fd-8a49-4758-ae40-b02917097d49",
   "metadata": {},
   "outputs": [
    {
     "ename": "AttributeError",
     "evalue": "'DataFrame' object has no attribute 'tool_applied_type'",
     "output_type": "error",
     "traceback": [
      "\u001b[0;31m---------------------------------------------------------------------------\u001b[0m",
      "\u001b[0;31mAttributeError\u001b[0m                            Traceback (most recent call last)",
      "\u001b[0;32m/tmp/ipykernel_2512/3685473683.py\u001b[0m in \u001b[0;36m<module>\u001b[0;34m\u001b[0m\n\u001b[1;32m     33\u001b[0m     \u001b[0;34m'injury_treated_injury_treated'\u001b[0m\u001b[0;34m:\u001b[0m \u001b[0msome_trues\u001b[0m\u001b[0;34m\u001b[0m\u001b[0;34m\u001b[0m\u001b[0m\n\u001b[1;32m     34\u001b[0m })\n\u001b[0;32m---> 35\u001b[0;31m \u001b[0mfu\u001b[0m\u001b[0;34m.\u001b[0m\u001b[0mget_percent_hemorrhage_controlled\u001b[0m\u001b[0;34m(\u001b[0m\u001b[0mscene_df\u001b[0m\u001b[0;34m,\u001b[0m \u001b[0mverbose\u001b[0m\u001b[0;34m=\u001b[0m\u001b[0;32mTrue\u001b[0m\u001b[0;34m)\u001b[0m\u001b[0;34m\u001b[0m\u001b[0;34m\u001b[0m\u001b[0m\n\u001b[0m",
      "\u001b[0;32m/mnt/c/Users/DaveBabbitt/Documents/GitHub/itm-analysis-reporting/py/FRVRS/frvrs_utils.py\u001b[0m in \u001b[0;36mget_percent_hemorrhage_controlled\u001b[0;34m(self, scene_df, verbose)\u001b[0m\n\u001b[1;32m   1388\u001b[0m \u001b[0;34m\u001b[0m\u001b[0m\n\u001b[1;32m   1389\u001b[0m                 \u001b[0;31m# Count any hemorrhage-related injuries that have been treated, and not wrong, and not counted twice\u001b[0m\u001b[0;34m\u001b[0m\u001b[0;34m\u001b[0m\u001b[0;34m\u001b[0m\u001b[0m\n\u001b[0;32m-> 1390\u001b[0;31m                 \u001b[0;32mif\u001b[0m \u001b[0mself\u001b[0m\u001b[0;34m.\u001b[0m\u001b[0mis_hemorrhage_controlled\u001b[0m\u001b[0;34m(\u001b[0m\u001b[0minjury_df\u001b[0m\u001b[0;34m,\u001b[0m \u001b[0mpatient_df\u001b[0m\u001b[0;34m,\u001b[0m \u001b[0mverbose\u001b[0m\u001b[0;34m=\u001b[0m\u001b[0;32mFalse\u001b[0m\u001b[0;34m)\u001b[0m\u001b[0;34m:\u001b[0m \u001b[0mcontrolled_count\u001b[0m \u001b[0;34m+=\u001b[0m \u001b[0;36m1\u001b[0m\u001b[0;34m\u001b[0m\u001b[0;34m\u001b[0m\u001b[0m\n\u001b[0m\u001b[1;32m   1391\u001b[0m \u001b[0;34m\u001b[0m\u001b[0m\n\u001b[1;32m   1392\u001b[0m         \u001b[0;32mif\u001b[0m \u001b[0mverbose\u001b[0m\u001b[0;34m:\u001b[0m \u001b[0mprint\u001b[0m\u001b[0;34m(\u001b[0m\u001b[0;34mf'Hemorrhage-related injuries that have been recorded or treated: {procedure_count}'\u001b[0m\u001b[0;34m)\u001b[0m\u001b[0;34m\u001b[0m\u001b[0;34m\u001b[0m\u001b[0m\n",
      "\u001b[0;32m/mnt/c/Users/DaveBabbitt/Documents/GitHub/itm-analysis-reporting/py/FRVRS/frvrs_utils.py\u001b[0m in \u001b[0;36mis_hemorrhage_controlled\u001b[0;34m(self, injury_df, logs_df, verbose)\u001b[0m\n\u001b[1;32m   2216\u001b[0m         \u001b[0;32mfor\u001b[0m \u001b[0mrequired_procedure\u001b[0m \u001b[0;32min\u001b[0m \u001b[0minjury_df\u001b[0m\u001b[0;34m[\u001b[0m\u001b[0mrecord_mask_series\u001b[0m\u001b[0;34m]\u001b[0m\u001b[0;34m.\u001b[0m\u001b[0minjury_record_required_procedure\u001b[0m\u001b[0;34m.\u001b[0m\u001b[0munique\u001b[0m\u001b[0;34m(\u001b[0m\u001b[0;34m)\u001b[0m\u001b[0;34m:\u001b[0m\u001b[0;34m\u001b[0m\u001b[0;34m\u001b[0m\u001b[0m\n\u001b[1;32m   2217\u001b[0m             \u001b[0mtool_type\u001b[0m \u001b[0;34m=\u001b[0m \u001b[0mself\u001b[0m\u001b[0;34m.\u001b[0m\u001b[0mrequired_procedure_to_tool_type_dict\u001b[0m\u001b[0;34m[\u001b[0m\u001b[0mrequired_procedure\u001b[0m\u001b[0;34m]\u001b[0m\u001b[0;34m\u001b[0m\u001b[0;34m\u001b[0m\u001b[0m\n\u001b[0;32m-> 2218\u001b[0;31m             \u001b[0mapplied_mask_series\u001b[0m \u001b[0;34m|=\u001b[0m \u001b[0;34m(\u001b[0m\u001b[0mpatient_df\u001b[0m\u001b[0;34m.\u001b[0m\u001b[0mtool_applied_type\u001b[0m \u001b[0;34m==\u001b[0m \u001b[0mtool_type\u001b[0m\u001b[0;34m)\u001b[0m\u001b[0;34m\u001b[0m\u001b[0;34m\u001b[0m\u001b[0m\n\u001b[0m\u001b[1;32m   2219\u001b[0m         \u001b[0mis_tool_applied_correctly\u001b[0m \u001b[0;34m=\u001b[0m \u001b[0mapplied_mask_series\u001b[0m\u001b[0;34m.\u001b[0m\u001b[0many\u001b[0m\u001b[0;34m(\u001b[0m\u001b[0;34m)\u001b[0m\u001b[0;34m\u001b[0m\u001b[0;34m\u001b[0m\u001b[0m\n\u001b[1;32m   2220\u001b[0m         \u001b[0;32mif\u001b[0m \u001b[0mverbose\u001b[0m\u001b[0;34m:\u001b[0m\u001b[0;34m\u001b[0m\u001b[0;34m\u001b[0m\u001b[0m\n",
      "\u001b[0;32m~/anaconda3/envs/itm_analysis_reporting/lib/python3.7/site-packages/pandas/core/generic.py\u001b[0m in \u001b[0;36m__getattr__\u001b[0;34m(self, name)\u001b[0m\n\u001b[1;32m   5485\u001b[0m         ):\n\u001b[1;32m   5486\u001b[0m             \u001b[0;32mreturn\u001b[0m \u001b[0mself\u001b[0m\u001b[0;34m[\u001b[0m\u001b[0mname\u001b[0m\u001b[0;34m]\u001b[0m\u001b[0;34m\u001b[0m\u001b[0;34m\u001b[0m\u001b[0m\n\u001b[0;32m-> 5487\u001b[0;31m         \u001b[0;32mreturn\u001b[0m \u001b[0mobject\u001b[0m\u001b[0;34m.\u001b[0m\u001b[0m__getattribute__\u001b[0m\u001b[0;34m(\u001b[0m\u001b[0mself\u001b[0m\u001b[0;34m,\u001b[0m \u001b[0mname\u001b[0m\u001b[0;34m)\u001b[0m\u001b[0;34m\u001b[0m\u001b[0;34m\u001b[0m\u001b[0m\n\u001b[0m\u001b[1;32m   5488\u001b[0m \u001b[0;34m\u001b[0m\u001b[0m\n\u001b[1;32m   5489\u001b[0m     \u001b[0;32mdef\u001b[0m \u001b[0m__setattr__\u001b[0m\u001b[0;34m(\u001b[0m\u001b[0mself\u001b[0m\u001b[0;34m,\u001b[0m \u001b[0mname\u001b[0m\u001b[0;34m:\u001b[0m \u001b[0mstr\u001b[0m\u001b[0;34m,\u001b[0m \u001b[0mvalue\u001b[0m\u001b[0;34m)\u001b[0m \u001b[0;34m->\u001b[0m \u001b[0;32mNone\u001b[0m\u001b[0;34m:\u001b[0m\u001b[0;34m\u001b[0m\u001b[0;34m\u001b[0m\u001b[0m\n",
      "\u001b[0;31mAttributeError\u001b[0m: 'DataFrame' object has no attribute 'tool_applied_type'"
     ]
    }
   ],
   "source": [
    "\n",
    "# Create a sample DataFrame\n",
    "import pandas as pd\n",
    "from pandas import DataFrame\n",
    "from numpy import nan\n",
    "\n",
    "procedures_list = [\n",
    "    'tourniquet', 'tourniquet', 'tourniquet', 'tourniquet', 'woundpack',\n",
    "    'tourniquet', 'decompress', 'woundpack', 'tourniquet', 'gauzePressure'\n",
    "]\n",
    "all_trues = [True] * len(procedures_list)\n",
    "some_trues = [\n",
    "    False, False, False, False, False,\n",
    "    True, False, False, False, False\n",
    "]\n",
    "all_falses = [False] * len(procedures_list)\n",
    "scene_df = DataFrame({\n",
    "    'action_tick': [\n",
    "        53712, 111438, 173005, 201999, 235440,\n",
    "        249305, 296810, 329527, 363492, 442375\n",
    "    ],\n",
    "    'patient_id': [\n",
    "        'Gloria_2 Root', 'Lily_1 Root', 'Lily_1 Root', 'Mike_3 Root', 'Helga_0 Root',\n",
    "        'Helga_0 Root', 'Mike_6 Root', 'Mike_9 Root', 'Mike_9 Root', 'Mike_4 Root'\n",
    "    ],\n",
    "    'injury_id': [\n",
    "        'L Shin Amputation', 'R Thigh Laceration', 'R Bicep Puncture', 'R Wrist Amputation', 'L Stomach Puncture',\n",
    "        'L Thigh Puncture', 'R Chest Collapse', 'L Side Puncture', 'L Thigh Puncture', 'R Palm Laceration'\n",
    "    ],\n",
    "    'injury_required_procedure': procedures_list,\n",
    "    'injury_record_required_procedure': procedures_list,\n",
    "    'injury_treated_required_procedure': procedures_list,\n",
    "    'injury_treated_injury_treated_with_wrong_treatment': some_trues,\n",
    "    'injury_treated_injury_treated': some_trues\n",
    "})\n",
    "fu.get_percent_hemorrhage_controlled(scene_df, verbose=True)"
   ]
  },
  {
   "cell_type": "code",
   "execution_count": 18,
   "id": "9d09a462-19d3-4c6c-a4a8-77e95d512007",
   "metadata": {},
   "outputs": [
    {
     "data": {
      "text/plain": [
       "87.5"
      ]
     },
     "execution_count": 18,
     "metadata": {},
     "output_type": "execute_result"
    }
   ],
   "source": [
    "\n",
    "# Test the function with duplicate treatment entries for the same injury\n",
    "duplicate_df = scene_df.append(scene_df.iloc[3])\n",
    "fu.get_percent_hemorrhage_controlled(duplicate_df)"
   ]
  },
  {
   "cell_type": "code",
   "execution_count": 8,
   "id": "fef46b8e-febb-4ed2-b675-3b5ba1253e9c",
   "metadata": {},
   "outputs": [
    {
     "name": "stdout",
     "output_type": "stream",
     "text": [
      "\n",
      "patient_id: ['Gloria_2 Root']\n",
      "injury_id: ['L Shin Amputation']\n",
      "injury_required_procedure: ['tourniquet']\n",
      "injury_record_required_procedure: ['tourniquet']\n",
      "injury_treated_required_procedure: ['tourniquet']\n",
      "injury_treated_injury_treated_with_wrong_treatment: [False]\n",
      "\n",
      "patient_id: ['Helga_0 Root']\n",
      "injury_id: ['L Stomach Puncture']\n",
      "injury_required_procedure: ['woundpack']\n",
      "injury_record_required_procedure: ['woundpack']\n",
      "injury_treated_required_procedure: ['woundpack']\n",
      "injury_treated_injury_treated_with_wrong_treatment: [False]\n",
      "\n",
      "patient_id: ['Helga_0 Root']\n",
      "injury_id: ['L Thigh Puncture']\n",
      "injury_required_procedure: ['tourniquet']\n",
      "injury_record_required_procedure: ['tourniquet']\n",
      "injury_treated_required_procedure: ['tourniquet']\n",
      "injury_treated_injury_treated_with_wrong_treatment: [True]\n",
      "\n",
      "patient_id: ['Lily_1 Root']\n",
      "injury_id: ['R Bicep Puncture']\n",
      "injury_required_procedure: ['tourniquet']\n",
      "injury_record_required_procedure: ['tourniquet']\n",
      "injury_treated_required_procedure: ['tourniquet']\n",
      "injury_treated_injury_treated_with_wrong_treatment: [False]\n",
      "\n",
      "patient_id: ['Lily_1 Root']\n",
      "injury_id: ['R Thigh Laceration']\n",
      "injury_required_procedure: ['tourniquet']\n",
      "injury_record_required_procedure: ['tourniquet']\n",
      "injury_treated_required_procedure: ['tourniquet']\n",
      "injury_treated_injury_treated_with_wrong_treatment: [False]\n",
      "\n",
      "patient_id: ['Mike_3 Root']\n",
      "injury_id: ['R Wrist Amputation']\n",
      "injury_required_procedure: ['tourniquet']\n",
      "injury_record_required_procedure: ['tourniquet']\n",
      "injury_treated_required_procedure: ['tourniquet']\n",
      "injury_treated_injury_treated_with_wrong_treatment: [False]\n",
      "\n",
      "patient_id: ['Mike_4 Root']\n",
      "injury_id: ['R Palm Laceration']\n",
      "injury_required_procedure: ['gauzePressure']\n",
      "injury_record_required_procedure: ['gauzePressure']\n",
      "injury_treated_required_procedure: ['gauzePressure']\n",
      "injury_treated_injury_treated_with_wrong_treatment: [False]\n",
      "\n",
      "patient_id: ['Mike_6 Root']\n",
      "injury_id: ['R Chest Collapse']\n",
      "injury_required_procedure: ['decompress']\n",
      "injury_record_required_procedure: ['decompress']\n",
      "injury_treated_required_procedure: ['decompress']\n",
      "injury_treated_injury_treated_with_wrong_treatment: [False]\n",
      "\n",
      "patient_id: ['Mike_9 Root']\n",
      "injury_id: ['L Side Puncture']\n",
      "injury_required_procedure: ['woundpack']\n",
      "injury_record_required_procedure: ['woundpack']\n",
      "injury_treated_required_procedure: ['woundpack']\n",
      "injury_treated_injury_treated_with_wrong_treatment: [False]\n",
      "\n",
      "patient_id: ['Mike_9 Root']\n",
      "injury_id: ['L Thigh Puncture']\n",
      "injury_required_procedure: ['tourniquet']\n",
      "injury_record_required_procedure: ['tourniquet']\n",
      "injury_treated_required_procedure: ['tourniquet']\n",
      "injury_treated_injury_treated_with_wrong_treatment: [False]\n"
     ]
    }
   ],
   "source": [
    "\n",
    "# Loop through each injury, examining its required procedures and wrong treatments\n",
    "columns_list = [\n",
    "    'patient_id', 'injury_id', 'injury_required_procedure', 'injury_record_required_procedure', 'injury_treated_required_procedure',\n",
    "    'injury_treated_injury_treated_with_wrong_treatment'\n",
    "]\n",
    "for (patient_id, injury_id), injury_df in scene_df.groupby(['patient_id', 'injury_id']):\n",
    "    print()\n",
    "    for cn in columns_list: print(f'{cn}: {injury_df[cn].tolist()}')"
   ]
  },
  {
   "cell_type": "code",
   "execution_count": 66,
   "id": "1303ce1e-8627-40e3-b0bd-d1cef1159cfe",
   "metadata": {},
   "outputs": [],
   "source": [
    "\n",
    "for (session_uuid, scene_id, patient_id), patient_df in merge_df[mask_series].groupby(fu.patient_groupby_columns):\n",
    "    \n",
    "    # Get the entire patient history\n",
    "    patient_mask_series = True\n",
    "    for cn in fu.patient_groupby_columns: patient_mask_series &= (merge_df[cn] == eval(cn))\n",
    "    patient_df = merge_df[patient_mask_series]\n",
    "    \n",
    "    if (patient_df.shape[0] >= 5): break"
   ]
  },
  {
   "cell_type": "code",
   "execution_count": 29,
   "id": "1b94e253-7827-49ab-ba8a-7c17aeafceb2",
   "metadata": {},
   "outputs": [],
   "source": [
    "\n",
    "from pandas import Series, concat\n",
    "\n",
    "for responder_category, responder_categories_df in elevens_df.groupby('responder_category'):\n",
    "    if (responder_category != 'Nurse or Other HP'):\n",
    "        describable_df = concat([\n",
    "            Series(\n",
    "                [fu.get_triage_time(scene_df) for _, scene_df in responder_categories_df.groupby(fu.scene_groupby_columns)]\n",
    "            ).to_frame().rename(columns={0: 'triage_time'}),\n",
    "            Series(\n",
    "                [fu.get_time_to_last_hemorrhage_controlled(scene_df) for _, scene_df in responder_categories_df.groupby(fu.scene_groupby_columns)]\n",
    "            ).to_frame().rename(columns={0: 'last_controlled_time'})\n",
    "        ], axis='columns')\n",
    "        break"
   ]
  },
  {
   "cell_type": "code",
   "execution_count": 34,
   "id": "f4df99b4-c0b0-4e23-a0aa-a84f08bf0002",
   "metadata": {},
   "outputs": [
    {
     "name": "stdout",
     "output_type": "stream",
     "text": [
      "\n",
      "        # Create a sample DataFrame\n",
      "        self.describable_df = DataFrame({\n",
      "            'triage_time': [461207, 615663, 649185, 19615, 488626],\n",
      "            'last_controlled_time': [377263, 574558, 462280, 0, 321956]\n",
      "        })\n"
     ]
    }
   ],
   "source": [
    "\n",
    "df = describable_df.sample(5)\n",
    "print(f\"\"\"\n",
    "        # Create a sample DataFrame\n",
    "        self.describable_df = DataFrame({{\n",
    "            'triage_time': {df.triage_time.tolist()},\n",
    "            'last_controlled_time': {df.last_controlled_time.tolist()}\n",
    "        }})\"\"\")"
   ]
  },
  {
   "cell_type": "code",
   "execution_count": 37,
   "id": "e5f4372e-1a1f-491f-8b48-dc10cfefcbb9",
   "metadata": {},
   "outputs": [
    {
     "data": {
      "text/plain": [
       "{'triage_time': [446859.2, 19615.0, 488626.0, 251951.57452415334, 19615.0, 461207.0, 488626.0, 615663.0, 649185.0], 'last_controlled_time': [347211.4, 0.0, 377263.0, 216231.3283379631, 0.0, 321956.0, 377263.0, 462280.0, 574558.0]}"
      ]
     },
     "execution_count": 37,
     "metadata": {},
     "output_type": "execute_result"
    }
   ],
   "source": [
    "\n",
    "# Create a sample DataFrame\n",
    "describable_df = DataFrame({\n",
    "    'triage_time': [461207, 615663, 649185, 19615, 488626],\n",
    "    'last_controlled_time': [377263, 574558, 462280, 0, 321956]\n",
    "})\n",
    "expected_df = DataFrame(\n",
    "    {\n",
    "        'triage_time': [446859.2, 19615.0, 488626.0, 251951.57452415334, 19615.0, 461207.0, 488626.0, 615663.0, 649185.0],\n",
    "        'last_controlled_time': [347211.4, 0.0, 377263.0, 216231.3283379631, 0.0, 321956.0, 377263.0, 462280.0, 574558.0]\n",
    "    },\n",
    "    index=['mean', 'mode', 'median', 'SD', 'min', '25%', '50%', '75%', 'max']\n",
    ")\n",
    "\n",
    "# Test with all columns\n",
    "columns_list = describable_df.columns.tolist()\n",
    "actual_df = nu.get_statistics(describable_df, columns_list)\n",
    "actual_df.to_dict(orient='list')"
   ]
  },
  {
   "cell_type": "code",
   "execution_count": 6,
   "id": "86e598b3-e518-43f7-addf-b541332ee860",
   "metadata": {},
   "outputs": [
    {
     "name": "stdout",
     "output_type": "stream",
     "text": [
      "\n",
      "        # Create a mock DataFrame with scene start and end time columns\n",
      "        self.scene_df = pd.DataFrame({\n",
      "            \"action_tick\": [575896, 693191, 699598]\n",
      "        })\n"
     ]
    }
   ],
   "source": [
    "\n",
    "for (session_uuid, scene_id), scene_df in elevens_df.groupby(fu.scene_groupby_columns):\n",
    "    if scene_df.shape[0] >= 2: break\n",
    "df = scene_df.sample(3)\n",
    "print(f\"\"\"\n",
    "        # Create a mock DataFrame with scene start and end time columns\n",
    "        self.scene_df = DataFrame({{\n",
    "            \"action_tick\": {df.action_tick.tolist()}\n",
    "        }})\"\"\")"
   ]
  },
  {
   "cell_type": "code",
   "execution_count": 9,
   "id": "2e69ab5a-c435-4c56-9cc3-845b34652f2e",
   "metadata": {},
   "outputs": [
    {
     "data": {
      "text/plain": [
       "123702"
      ]
     },
     "execution_count": 9,
     "metadata": {},
     "output_type": "execute_result"
    }
   ],
   "source": [
    "\n",
    "# Create a mock DataFrame with scene start and end time columns\n",
    "from pandas import DataFrame\n",
    "scene_df = DataFrame({\n",
    "    \"action_tick\": [575896, 693191, 699598]\n",
    "})\n",
    "fu.get_triage_time(scene_df)"
   ]
  },
  {
   "cell_type": "code",
   "execution_count": 3,
   "id": "646912a9-465a-42f7-ad21-fb49e9cc54fd",
   "metadata": {
    "tags": []
   },
   "outputs": [
    {
     "name": "stdout",
     "output_type": "stream",
     "text": [
      "zero seconds: '0 sec' or '00:00'\n",
      "thirty seconds: '30 sec' or '00:30'\n",
      "one minute: '1 min' or '01:00'\n",
      "a minute and a half: '1:30' or '01:30'\n",
      "two minutes: '2 min' or '02:00'\n"
     ]
    }
   ],
   "source": [
    "\n",
    "# Example usage\n",
    "zero_seconds_s = fu.format_timedelta_lambda(timedelta(seconds=0), minimum_unit='seconds')\n",
    "zero_seconds_m = fu.format_timedelta_lambda(timedelta(seconds=0), minimum_unit='minutes')\n",
    "thirty_seconds_s = fu.format_timedelta_lambda(timedelta(seconds=30), minimum_unit='seconds')\n",
    "thirty_seconds_m = fu.format_timedelta_lambda(timedelta(seconds=30), minimum_unit='minutes')\n",
    "one_minute_s = fu.format_timedelta_lambda(timedelta(minutes=1, seconds=0), minimum_unit='seconds')\n",
    "one_minute_m = fu.format_timedelta_lambda(timedelta(minutes=1, seconds=0), minimum_unit='minutes')\n",
    "a_minute_and_a_half_s = fu.format_timedelta_lambda(timedelta(minutes=1, seconds=30), minimum_unit='seconds')\n",
    "a_minute_and_a_half_m = fu.format_timedelta_lambda(timedelta(minutes=1, seconds=30), minimum_unit='minutes')\n",
    "two_minute_s = fu.format_timedelta_lambda(timedelta(minutes=2, seconds=0), minimum_unit='seconds')\n",
    "two_minute_m = fu.format_timedelta_lambda(timedelta(minutes=2, seconds=0), minimum_unit='minutes')\n",
    "\n",
    "print(\n",
    "    f\"zero seconds: '{zero_seconds_s}' or '{zero_seconds_m}'\\n\"\n",
    "    f\"thirty seconds: '{thirty_seconds_s}' or '{thirty_seconds_m}'\\n\"\n",
    "    f\"one minute: '{one_minute_s}' or '{one_minute_m}'\\n\"\n",
    "    f\"a minute and a half: '{a_minute_and_a_half_s}' or '{a_minute_and_a_half_m}'\\n\"\n",
    "    f\"two minutes: '{two_minute_s}' or '{two_minute_m}'\"\n",
    ")"
   ]
  },
  {
   "cell_type": "code",
   "execution_count": 48,
   "id": "f40e0d49-71e3-4fe9-ba1a-ef093967eb89",
   "metadata": {},
   "outputs": [],
   "source": [
    "\n",
    "mask_series = ~elevens_df.injury_required_procedure.isnull()\n",
    "for (session_uuid, scene_id, patient_id), patient_df in elevens_df[mask_series].groupby(fu.patient_groupby_columns):\n",
    "    if patient_df.shape[0] >= 3:\n",
    "        \n",
    "        # Get the entire history of this patient\n",
    "        mask_series = True\n",
    "        for cn in fu.patient_groupby_columns: mask_series &= (elevens_df[cn] == eval(cn))\n",
    "        patient_df = elevens_df[mask_series]\n",
    "        \n",
    "        mask_series = ~patient_df.injury_record_required_procedure.isnull()\n",
    "        record_count = patient_df[mask_series].shape[0]\n",
    "        mask_series = ~patient_df.injury_treated_required_procedure.isnull()\n",
    "        treated_count = patient_df[mask_series].shape[0]\n",
    "        if (record_count > 1) and (treated_count > 1): break"
   ]
  },
  {
   "cell_type": "code",
   "execution_count": 52,
   "id": "4f14423a-ef2a-4e01-a902-890010fd9311",
   "metadata": {},
   "outputs": [
    {
     "name": "stdout",
     "output_type": "stream",
     "text": [
      "\n",
      "        # Create mock data for the patient DataFrame\n",
      "        self.patient_df = DataFrame({\n",
      "            'action_type': ['INJURY_TREATED', 'INJURY_TREATED', 'INJURY_RECORD'],\n",
      "            'action_tick': [455202, 448909, 305828],\n",
      "            'injury_id': ['R Side Puncture', 'R Thigh Laceration', 'R Side Puncture'],\n",
      "            'injury_record_required_procedure': [nan, nan, 'woundpack'],\n",
      "            'injury_treated_required_procedure': ['woundpack', 'gauzePressure', nan]\n",
      "        })\n"
     ]
    }
   ],
   "source": [
    "\n",
    "mask_series = ~patient_df.injury_required_procedure.isnull()\n",
    "df = patient_df[mask_series].sample(3)\n",
    "print(f\"\"\"\n",
    "        # Create mock data for the patient DataFrame\n",
    "        self.patient_df = DataFrame({{\n",
    "            'action_type': {df.action_type.tolist()},\n",
    "            'action_tick': {df.action_tick.tolist()},\n",
    "            'injury_id': {df.injury_id.tolist()},\n",
    "            'injury_record_required_procedure': {df.injury_record_required_procedure.tolist()},\n",
    "            'injury_treated_required_procedure': {df.injury_treated_required_procedure.tolist()}\n",
    "        }})\"\"\")"
   ]
  },
  {
   "cell_type": "code",
   "execution_count": 53,
   "id": "746d526d-069e-4004-9fd2-786d6d60da36",
   "metadata": {},
   "outputs": [
    {
     "data": {
      "text/plain": [
       "['PULSE_TAKEN', 'PATIENT_ENGAGED', 'INJURY_TREATED', 'TAG_APPLIED', 'TOOL_APPLIED']"
      ]
     },
     "execution_count": 53,
     "metadata": {},
     "output_type": "execute_result"
    }
   ],
   "source": [
    "\n",
    "fu.responder_negotiations_list"
   ]
  },
  {
   "cell_type": "code",
   "execution_count": 55,
   "id": "f22af08f-af2e-40b5-837a-f0fa595b5ea1",
   "metadata": {},
   "outputs": [
    {
     "data": {
      "text/plain": [
       "6293"
      ]
     },
     "execution_count": 55,
     "metadata": {},
     "output_type": "execute_result"
    }
   ],
   "source": [
    "\n",
    "# Create mock data for the patient DataFrame\n",
    "from numpy import nan\n",
    "\n",
    "# Create mock data for the patient DataFrame\n",
    "patient_df = DataFrame({\n",
    "    'action_type': ['INJURY_TREATED', 'INJURY_TREATED', 'INJURY_RECORD'],\n",
    "    'action_tick': [455202, 448909, 305828],\n",
    "    'injury_id': ['R Side Puncture', 'R Thigh Laceration', 'R Side Puncture'],\n",
    "    'injury_record_required_procedure': [nan, nan, 'woundpack'],\n",
    "    'injury_treated_required_procedure': ['woundpack', 'gauzePressure', nan]\n",
    "})\n",
    "fu.get_time_to_hemorrhage_control(patient_df, verbose=False)"
   ]
  },
  {
   "cell_type": "code",
   "execution_count": 56,
   "id": "a3a68d91-8913-402a-8b10-0e4ad4acb27d",
   "metadata": {},
   "outputs": [
    {
     "data": {
      "text/plain": [
       "155202"
      ]
     },
     "execution_count": 56,
     "metadata": {},
     "output_type": "execute_result"
    }
   ],
   "source": [
    "\n",
    "scene_start = 300_000\n",
    "fu.get_time_to_hemorrhage_control(patient_df, scene_start=scene_start, verbose=False)"
   ]
  },
  {
   "cell_type": "code",
   "execution_count": null,
   "id": "10aa375f-8db4-4d66-95ea-3b83615fcf2b",
   "metadata": {},
   "outputs": [],
   "source": [
    "\n",
    "functions_list = [\n",
    "    'colors_category_order', 'error_table_df', 'errors_category_order', 'format_timedelta_lambda', 'get_elevens_dataframe', 'get_last_tag',\n",
    "    'get_max_salt', 'get_percent_hemorrhage_controlled', 'get_statistics', 'get_time_to_hemorrhage_control',\n",
    "    'get_time_to_last_hemorrhage_controlled', 'get_triage_time', 'hemorrhage_control_procedures_list', 'is_patient_hemorrhaging',\n",
    "    'patient_groupby_columns', 'salt_category_order', 'salt_to_tag_dict', 'scene_groupby_columns', 'tag_color_order'\n",
    "]\n",
    "function_regex = re.compile(r'\\b(' + '|'.join(functions_list) + r')\\b')"
   ]
  },
  {
   "cell_type": "code",
   "execution_count": 4,
   "id": "0e809093-fb0b-4781-b416-6381c9374e82",
   "metadata": {},
   "outputs": [
    {
     "name": "stderr",
     "output_type": "stream",
     "text": [
      "......\n",
      "----------------------------------------------------------------------\n",
      "Ran 6 tests in 0.008s\n",
      "\n",
      "OK\n"
     ]
    },
    {
     "data": {
      "text/plain": [
       "<unittest.runner.TextTestResult run=6 errors=0 failures=0>"
      ]
     },
     "execution_count": 4,
     "metadata": {},
     "output_type": "execute_result"
    }
   ],
   "source": [
    "\n",
    "# Create another test suite\n",
    "suite = unittest.TestSuite()\n",
    "\n",
    "# Add all test cases from the class to the suite\n",
    "from test_color_functions import TestColorDistanceFrom, TestGetTextColor\n",
    "suite.addTest(unittest.makeSuite(TestColorDistanceFrom))\n",
    "suite.addTest(unittest.makeSuite(TestGetTextColor))\n",
    "\n",
    "# Run the test suite\n",
    "runner = unittest.TextTestRunner()\n",
    "runner.run(suite)"
   ]
  },
  {
   "cell_type": "code",
   "execution_count": null,
   "id": "ac6f7720-fea3-42a7-a3fc-7ecaecc4d8d9",
   "metadata": {},
   "outputs": [],
   "source": []
  }
 ],
 "metadata": {
  "kernelspec": {
   "display_name": "ITM Analysis Reporting (Python 3.11.7)",
   "language": "python",
   "name": "itm_analysis_reporting"
  },
  "language_info": {
   "codemirror_mode": {
    "name": "ipython",
    "version": 3
   },
   "file_extension": ".py",
   "mimetype": "text/x-python",
   "name": "python",
   "nbconvert_exporter": "python",
   "pygments_lexer": "ipython3",
   "version": "3.7.12"
  }
 },
 "nbformat": 4,
 "nbformat_minor": 5
}
