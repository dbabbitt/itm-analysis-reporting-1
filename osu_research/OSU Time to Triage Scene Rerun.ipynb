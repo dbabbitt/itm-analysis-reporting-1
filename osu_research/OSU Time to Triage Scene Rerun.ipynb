{
 "cells": [
  {
   "cell_type": "code",
   "execution_count": 1,
   "id": "5d4e824a-66f6-4704-a4e9-b2324c019f64",
   "metadata": {},
   "outputs": [
    {
     "name": "stdout",
     "output_type": "stream",
     "text": [
      "Pretty printing has been turned OFF\n"
     ]
    }
   ],
   "source": [
    "\n",
    "# Set up notebook\n",
    "%pprint\n",
    "import sys\n",
    "if (osp.join(os.pardir, 'py') not in sys.path): sys.path.insert(1, osp.join(os.pardir, 'py'))"
   ]
  },
  {
   "cell_type": "code",
   "execution_count": 2,
   "id": "c32f912c-9037-4741-9097-aa342975fef9",
   "metadata": {},
   "outputs": [],
   "source": [
    "\n",
    "# load libraries\n",
    "from FRVRS import (fu, nu, read_excel, isna, Series, DataFrame, display, nan)\n",
    "from datetime import date, timedelta\n",
    "import os\n",
    "from IPython.display import HTML\n",
    "import pandas as pd"
   ]
  },
  {
   "cell_type": "code",
   "execution_count": 3,
   "id": "b0c1f22a-142c-4ab1-bac5-75fb093ae771",
   "metadata": {},
   "outputs": [],
   "source": [
    "\n",
    "file_path = '../data/xlsx/anova290_df_Apr24_Final.xlsx'\n",
    "anova_apr24_final_df = read_excel(file_path)"
   ]
  },
  {
   "cell_type": "markdown",
   "id": "de27e19e-14a4-4ce3-a2c8-ca4eebbe968f",
   "metadata": {},
   "source": [
    "\n",
    "We are requesting some additional data and I'm hoping this is possible. When convenient, could you add to the anova_df data set one column for each measure below and indicate for each responder as follows:<ul>\n",
    "    <li>swap measure: put the number of patient swaps (0,1,2,3,4,5)</li>\n",
    "    <li>walker issue command: whether the responder issued the walk command (1) or not (0)</li>\n",
    "    <li>waver issue command: whether the responder issued the wave command (1) or not (0)</li>\n",
    "</ul>\n",
    "So it should like this:<table>\n",
    "<tr><th>ID</th><th>swap measure</th><th>walker command</th><th>wave command</th></tr>\n",
    "<tr><td>Responder 1</td><td>0</td><td>1</td><td>1</td></tr>\n",
    "<tr><td>Responder 2</td><td>2</td><td>1</td><td>1</td></tr>\n",
    "<tr><td>Responder 3</td><td>1</td><td>0</td><td>1</td></tr></table>"
   ]
  },
  {
   "cell_type": "code",
   "execution_count": 7,
   "id": "c9f830cb-0b5a-4e7c-8547-96e492a6b8ea",
   "metadata": {},
   "outputs": [
    {
     "name": "stdout",
     "output_type": "stream",
     "text": [
      "\\b(Group|ID|critical_triage_error_rate|encounter_layout|file_name|mean_percentage_tag_correct|over_triage_error_rate|session_file_name|session_uuid|time_to_hemorrhage_control_per_patient|time_to_last_hemorrhage_controlled|time_to_triage_scene|under_triage_error_rate)\\b\n"
     ]
    }
   ],
   "source": [
    "\n",
    "if 'scene_id' in anova_apr24_final_df.columns:\n",
    "    for (session_uuid, scene_id), scene_df in anova_apr24_final_df.groupby(fu.scene_groupby_columns):\n",
    "        actual_sequence, ideal_sequence, sort_dict = fu.get_actual_and_ideal_patient_sort_sequences(scene_df)\n",
    "        print(actual_sequence, ideal_sequence, sort_dict)\n",
    "else: print('\\\\b(' + '|'.join(sorted(anova_apr24_final_df.columns)) + ')\\\\b')"
   ]
  },
  {
   "cell_type": "code",
   "execution_count": 6,
   "id": "29fae7c2-db02-45fe-8da8-756a34eb6fe2",
   "metadata": {},
   "outputs": [],
   "source": [
    "\n",
    "from scipy.stats import kendalltau\n",
    "\n",
    "rows_list = []\n",
    "for (session_uuid, scene_id), scene_df in anova_apr24_final_df.groupby(fu.scene_groupby_columns):\n",
    "    row_dict = {cn: eval(cn) for cn in fu.scene_groupby_columns}\n",
    "    \n",
    "    actual_sequence, ideal_sequence, sort_dict = fu.get_actual_and_ideal_patient_sort_sequences(scene_df)\n",
    "    if isna(actual_sequence).all(): continue\n",
    "    row_dict = nu.get_flattened_dictionary(actual_sequence.tolist(), row_dict=row_dict, key_prefix='actual_sequence')\n",
    "    row_dict = nu.get_flattened_dictionary(ideal_sequence.tolist(), row_dict=row_dict, key_prefix='ideal_sequence')\n",
    "    \n",
    "    engagement_order = fu.get_order_of_actual_engagement(scene_df)\n",
    "    engagement_order_dicts_list = [\n",
    "        {\n",
    "            'patient_id': engagement_tuple[0],\n",
    "            'engagement_start': engagement_tuple[1],\n",
    "            'location_tuple': engagement_tuple[2],\n",
    "            'patient_sort': engagement_tuple[3],\n",
    "            'predicted_priority': engagement_tuple[4],\n",
    "            'injury_severity': engagement_tuple[5]\n",
    "        } for engagement_tuple in engagement_order\n",
    "    ]\n",
    "    row_dict = nu.get_flattened_dictionary(engagement_order_dicts_list, row_dict=row_dict, key_prefix='engagement_order')\n",
    "    \n",
    "    actual_patient_sequence = Series([engagement_dict.get(engagement_tuple[0]) for engagement_tuple in engagement_order])\n",
    "    row_dict = nu.get_flattened_dictionary(actual_patient_sequence.tolist(), row_dict=row_dict, key_prefix='actual_patient_sequence')\n",
    "    \n",
    "    ideal_patient_sequence = actual_patient_sequence.sort_values(ascending=True)\n",
    "    row_dict = nu.get_flattened_dictionary(ideal_patient_sequence.tolist(), row_dict=row_dict, key_prefix='ideal_patient_sequence')\n",
    "    \n",
    "    measure_of_ordering = fu.get_measure_of_ordering(actual_patient_sequence, ideal_patient_sequence)\n",
    "    row_dict['measure_of_ordering'] = measure_of_ordering\n",
    "\n",
    "    swaps_to_perfect_order = nu.count_swaps_to_perfect_order(ideal_patient_sequence.tolist(), actual_patient_sequence.tolist())\n",
    "    row_dict['swaps_to_perfect_order'] = swaps_to_perfect_order\n",
    "    \n",
    "    # Calculate Kendall's tau coefficient\n",
    "    tau, p_value = kendalltau(ideal_patient_sequence.tolist(), actual_patient_sequence.tolist())\n",
    "    row_dict['kendall_tau_coefficient'] = tau\n",
    "    \n",
    "    rows_list.append(row_dict)\n",
    "measure_of_ordering_df = DataFrame(rows_list)"
   ]
  },
  {
   "cell_type": "code",
   "execution_count": 4,
   "id": "3e1eec2c-c645-4f7c-a8a7-ef46898caa58",
   "metadata": {},
   "outputs": [],
   "source": [
    "\n",
    "# anova_apr24_final_df.Group.unique().tolist()\n",
    "groups_list = ['Paramedic', 'EMT-Basic', 'EM Resident', 'Medical Student']\n",
    "mask_series = anova_apr24_final_df.Group.isin(groups_list)\n",
    "anova_df = anova_apr24_final_df[mask_series]"
   ]
  },
  {
   "cell_type": "code",
   "execution_count": 7,
   "id": "cc3d43f6-4967-4c82-9f87-f77fb78f1f2c",
   "metadata": {},
   "outputs": [
    {
     "name": "stdout",
     "output_type": "stream",
     "text": [
      "triage_paper_df 367627 290 111\n",
      "file_stats_df 290 290 19\n",
      "scene_stats_df 420 290 48\n",
      "count_swaps_df 315 289 3\n"
     ]
    }
   ],
   "source": [
    "\n",
    "# load data frames\n",
    "data_frames_dict = nu.load_data_frames(\n",
    "    first_responder_master_registry_df='', first_responder_master_registry_file_stats_df='',\n",
    "    first_responder_master_registry_scene_stats_df='', count_swaps_df='',\n",
    "    verbose=False\n",
    ")\n",
    "triage_paper_df = data_frames_dict['first_responder_master_registry_df']\n",
    "print('triage_paper_df', triage_paper_df.shape[0], triage_paper_df.session_uuid.nunique(), triage_paper_df.shape[1]) # 367627 290 111\n",
    "file_stats_df = data_frames_dict['first_responder_master_registry_file_stats_df']\n",
    "print('file_stats_df', file_stats_df.shape[0], file_stats_df.file_name.nunique(), file_stats_df.shape[1]) # 290 290 19\n",
    "scene_stats_df = data_frames_dict['first_responder_master_registry_scene_stats_df']\n",
    "print('scene_stats_df', scene_stats_df.shape[0], scene_stats_df.session_uuid.nunique(), scene_stats_df.shape[1]) # 420 290 48\n",
    "count_swaps_df = data_frames_dict['count_swaps_df']\n",
    "print('count_swaps_df', count_swaps_df.shape[0], count_swaps_df.session_uuid.nunique(), count_swaps_df.shape[1]) # 289 289 3"
   ]
  },
  {
   "cell_type": "code",
   "execution_count": 8,
   "id": "34ad29e9-0443-46af-b8a0-3be0acd5e737",
   "metadata": {},
   "outputs": [
    {
     "name": "stdout",
     "output_type": "stream",
     "text": [
      "elevens_df 365543 289 120\n"
     ]
    }
   ],
   "source": [
    "\n",
    "# Merge only count swaps scenes\n",
    "patient_count_filter_fn = lambda scene_df: True\n",
    "elevens_df = fu.get_elevens_dataframe(\n",
    "    triage_paper_df,\n",
    "    file_stats_df,\n",
    "    scene_stats_df,\n",
    "    needed_columns=[\n",
    "        'scene_type', 'is_scene_aborted', 'is_a_one_triage_file', 'responder_category', 'responder_type', 'overall_category',\n",
    "        'file_name', 'session_file_name', 'encounter_layout'\n",
    "    ],\n",
    "    patient_count_filter_fn=None\n",
    ")\n",
    "print('elevens_df', elevens_df.shape[0], elevens_df.session_uuid.nunique(), elevens_df.shape[1]) # 365543 289 120"
   ]
  },
  {
   "cell_type": "code",
   "execution_count": 9,
   "id": "be1571b4-fdc7-4629-b299-1f405e0b01de",
   "metadata": {},
   "outputs": [],
   "source": [
    "\n",
    "mask_series = elevens_df.responder_category.isin(groups_list)\n",
    "elevens_df = elevens_df[mask_series]"
   ]
  },
  {
   "cell_type": "code",
   "execution_count": 16,
   "id": "8b2a6259-1da2-4a84-889d-27de3038cc9c",
   "metadata": {},
   "outputs": [],
   "source": [
    "\n",
    "# Get whisker plot for various measures\n",
    "import seaborn as sns\n",
    "import matplotlib.pyplot as plt\n",
    "from random import uniform  # for jitter\n",
    "\n",
    "temporalize_fn = lambda x: fu.format_timedelta_lambda(timedelta(milliseconds=int(x)), minimum_unit='minutes')\n",
    "FILTERED_CATEGORIES_LIST = ['Paramedic', 'EMT-Basic', 'EM Resident', 'Medical Student']\n",
    "def get_plot_dataframe(\n",
    "    y_column_name, scene_fn, logs_df=elevens_df, x_column_name='responder_category',\n",
    "    responder_categories_list=FILTERED_CATEGORIES_LIST, verbose=False\n",
    "):\n",
    "    '''\n",
    "    The order and labeling should be (from left to right):\n",
    "        EMT-Paramedic\n",
    "        EMT-Basic\n",
    "        EM-Resident\n",
    "        Medical Student\n",
    "    '''\n",
    "    rows_list = []\n",
    "    for responder_category in responder_categories_list:\n",
    "        if verbose: print('responder_category:', responder_category)\n",
    "        mask_series = (logs_df[x_column_name] == responder_category)\n",
    "        responder_categories_df = logs_df[mask_series]\n",
    "        gb = responder_categories_df.groupby(fu.scene_groupby_columns)\n",
    "        for (session_uuid, scene_id), scene_df in gb:\n",
    "            row_dict = {}\n",
    "            if 'session_uuid' in scene_df.columns: row_dict['session_uuid'] = session_uuid\n",
    "            if 'scene_id' in scene_df.columns: row_dict['scene_id'] = scene_id\n",
    "            row_dict[x_column_name] = responder_category\n",
    "            row_dict[y_column_name] = scene_fn(scene_df)\n",
    "            row_dict['scene_count'] = gb.size().shape[0]\n",
    "            rows_list.append(row_dict)\n",
    "    df = DataFrame(rows_list)\n",
    "    \n",
    "    return df"
   ]
  },
  {
   "cell_type": "code",
   "execution_count": 17,
   "id": "aa05b2e0-c36e-48d7-8db9-9a4956493fcd",
   "metadata": {},
   "outputs": [],
   "source": [
    "\n",
    "def show_whisker_plot(y_column_name, y_label, scene_fn, ytick_fn=temporalize_fn, logs_df=elevens_df, print_responder_counts=False, verbose=False):\n",
    "    df = get_plot_dataframe(y_column_name, scene_fn, logs_df=logs_df, verbose=verbose)\n",
    "    x_column_name = 'responder_category'\n",
    "    x_label = ' '.join([w.title() for w in x_column_name.split('_')])\n",
    "\n",
    "    # Create a figure and subplots\n",
    "    fig, ax = plt.subplots(1, 1, figsize=(9, 9))\n",
    "\n",
    "    # Create a box plot under the scatter plot; put a black square for the mean instead\n",
    "    ax = sns.boxplot(\n",
    "        ax=ax,\n",
    "        data=df,\n",
    "        fliersize=0.0,\n",
    "        meanprops={'marker': 's', 'markerfacecolor': 'black', 'markeredgecolor': 'black', 'markersize': 8},\n",
    "        showmeans=True,\n",
    "        x=x_column_name,\n",
    "        y=y_column_name,\n",
    "    )\n",
    "\n",
    "    # Jitter amount\n",
    "    jitter_amt = 0.1  # Adjust this value to control jitter range\n",
    "\n",
    "    # Add jittered points\n",
    "    sns.stripplot(\n",
    "        alpha=0.25,  # Adjust transparency\n",
    "        ax=ax,\n",
    "        color='black',\n",
    "        data=df,\n",
    "        jitter=jitter_amt,  # Add jitter\n",
    "        s=6,  # Adjust marker size\n",
    "        x=x_column_name,\n",
    "        y=y_column_name,\n",
    "    )\n",
    "    \n",
    "    adjust_plot(ax, x_label, y_label, FILTERED_CATEGORIES_LIST, ytick_fn)\n",
    "    plt.show()"
   ]
  },
  {
   "cell_type": "code",
   "execution_count": 21,
   "id": "85bc10b0-cb51-4a5e-ab83-7a49dad7d375",
   "metadata": {},
   "outputs": [],
   "source": [
    "\n",
    "mask_series = ~elevens_df.responder_category.isnull()\n",
    "CATEGORY_DICT = {responder_category: responder_category for responder_category in elevens_df[mask_series].responder_category}\n",
    "def adjust_plot(ax, x_label, y_label, responder_categories_list, ytick_fn=temporalize_fn):\n",
    "    \n",
    "    # Rotate the x-axis labels to prevent overlapping\n",
    "    plt.xticks(rotation=45)\n",
    "\n",
    "    # Label the x- and y-axis\n",
    "    ax.set_xlabel(x_label)\n",
    "    ax.set_ylabel(y_label)\n",
    "    \n",
    "    # Humanize y tick labels\n",
    "    locs, labels = plt.yticks()\n",
    "    yticklabels_list = []\n",
    "    for ytick_value, text_obj in zip(locs, labels):\n",
    "        text_obj.set_text(ytick_fn(ytick_value))\n",
    "        yticklabels_list.append(text_obj)\n",
    "    plt.yticks(locs[1:], yticklabels_list[1:])\n",
    "\n",
    "    # Re-label x tick labels\n",
    "    locs, labels = plt.xticks()\n",
    "    xticklabels_list = []\n",
    "    for idx, text_obj in zip(locs, labels):\n",
    "        text_obj.set_text(CATEGORY_DICT[responder_categories_list[idx]])\n",
    "        xticklabels_list.append(text_obj)\n",
    "    plt.xticks(locs, xticklabels_list)"
   ]
  },
  {
   "cell_type": "code",
   "execution_count": 40,
   "id": "89f6bdff-039d-4859-b55b-cc949cda35fe",
   "metadata": {},
   "outputs": [
    {
     "data": {
      "text/html": [
       "<div>\n",
       "<style scoped>\n",
       "    .dataframe tbody tr th:only-of-type {\n",
       "        vertical-align: middle;\n",
       "    }\n",
       "\n",
       "    .dataframe tbody tr th {\n",
       "        vertical-align: top;\n",
       "    }\n",
       "\n",
       "    .dataframe thead th {\n",
       "        text-align: right;\n",
       "    }\n",
       "</style>\n",
       "<table border=\"1\" class=\"dataframe\">\n",
       "  <thead>\n",
       "    <tr style=\"text-align: right;\">\n",
       "      <th></th>\n",
       "      <th>session_uuid</th>\n",
       "      <th>scene_id</th>\n",
       "      <th>triage_time</th>\n",
       "    </tr>\n",
       "  </thead>\n",
       "  <tbody>\n",
       "    <tr>\n",
       "      <th>185</th>\n",
       "      <td>a7804ee3-6a1c-4462-957a-17976a540483</td>\n",
       "      <td>0</td>\n",
       "      <td>19615</td>\n",
       "    </tr>\n",
       "    <tr>\n",
       "      <th>171</th>\n",
       "      <td>9a6d2f32-10fb-40ea-bacc-dd6a7d2f4a13</td>\n",
       "      <td>0</td>\n",
       "      <td>41340</td>\n",
       "    </tr>\n",
       "    <tr>\n",
       "      <th>36</th>\n",
       "      <td>1e7d274d-f393-4888-9f28-4de53b0260e3</td>\n",
       "      <td>0</td>\n",
       "      <td>78928</td>\n",
       "    </tr>\n",
       "    <tr>\n",
       "      <th>266</th>\n",
       "      <td>f0a4acff-b70a-4577-a27e-df492cb9638d</td>\n",
       "      <td>0</td>\n",
       "      <td>244401</td>\n",
       "    </tr>\n",
       "    <tr>\n",
       "      <th>25</th>\n",
       "      <td>1563e213-aaa4-4b79-84a1-8f917ea9f7a9</td>\n",
       "      <td>0</td>\n",
       "      <td>249628</td>\n",
       "    </tr>\n",
       "    <tr>\n",
       "      <th>...</th>\n",
       "      <td>...</td>\n",
       "      <td>...</td>\n",
       "      <td>...</td>\n",
       "    </tr>\n",
       "    <tr>\n",
       "      <th>232</th>\n",
       "      <td>d81f6dfd-3151-415f-a354-541240e7fbae</td>\n",
       "      <td>0</td>\n",
       "      <td>791540</td>\n",
       "    </tr>\n",
       "    <tr>\n",
       "      <th>39</th>\n",
       "      <td>20168f93-040c-4290-aa7e-2b197825c9de</td>\n",
       "      <td>0</td>\n",
       "      <td>800854</td>\n",
       "    </tr>\n",
       "    <tr>\n",
       "      <th>239</th>\n",
       "      <td>de04bec3-9503-467c-9c49-675720c4bab0</td>\n",
       "      <td>0</td>\n",
       "      <td>808968</td>\n",
       "    </tr>\n",
       "    <tr>\n",
       "      <th>51</th>\n",
       "      <td>27c2fa44-ba05-417c-ae95-317b06870dc9</td>\n",
       "      <td>0</td>\n",
       "      <td>824136</td>\n",
       "    </tr>\n",
       "    <tr>\n",
       "      <th>121</th>\n",
       "      <td>684d04c4-83c1-49b6-b798-ddd431438857</td>\n",
       "      <td>0</td>\n",
       "      <td>829580</td>\n",
       "    </tr>\n",
       "  </tbody>\n",
       "</table>\n",
       "<p>285 rows × 3 columns</p>\n",
       "</div>"
      ],
      "text/plain": [
       "                             session_uuid  scene_id  triage_time\n",
       "185  a7804ee3-6a1c-4462-957a-17976a540483         0        19615\n",
       "171  9a6d2f32-10fb-40ea-bacc-dd6a7d2f4a13         0        41340\n",
       "36   1e7d274d-f393-4888-9f28-4de53b0260e3         0        78928\n",
       "266  f0a4acff-b70a-4577-a27e-df492cb9638d         0       244401\n",
       "25   1563e213-aaa4-4b79-84a1-8f917ea9f7a9         0       249628\n",
       "..                                    ...       ...          ...\n",
       "232  d81f6dfd-3151-415f-a354-541240e7fbae         0       791540\n",
       "39   20168f93-040c-4290-aa7e-2b197825c9de         0       800854\n",
       "239  de04bec3-9503-467c-9c49-675720c4bab0         0       808968\n",
       "51   27c2fa44-ba05-417c-ae95-317b06870dc9         0       824136\n",
       "121  684d04c4-83c1-49b6-b798-ddd431438857         0       829580\n",
       "\n",
       "[285 rows x 3 columns]"
      ]
     },
     "metadata": {},
     "output_type": "display_data"
    }
   ],
   "source": [
    "\n",
    "rows_list = []\n",
    "for (session_uuid, scene_id), scene_df in elevens_df.groupby(fu.scene_groupby_columns):\n",
    "    row_dict = {cn: eval(cn) for cn in fu.scene_groupby_columns}\n",
    "    row_dict['triage_time'] = fu.get_triage_time(scene_df, verbose=False)\n",
    "    rows_list.append(row_dict)\n",
    "triage_time_df = DataFrame(rows_list)\n",
    "display(triage_time_df.sort_values('triage_time'))"
   ]
  },
  {
   "cell_type": "code",
   "execution_count": 44,
   "id": "0421b5a5-a253-424f-9ffe-b26a8c308b0f",
   "metadata": {},
   "outputs": [],
   "source": [
    "\n",
    "on_columns = list(set(triage_time_df.columns).intersection(set(elevens_df.columns)))\n",
    "mask_series = (triage_time_df.triage_time > 200_000)\n",
    "merge_df = elevens_df.merge(triage_time_df[mask_series], on=on_columns)"
   ]
  },
  {
   "cell_type": "code",
   "execution_count": 45,
   "id": "a0a938b8-b158-4862-ade7-4d4a2c40533b",
   "metadata": {},
   "outputs": [
    {
     "data": {
      "image/png": "[encoded data removed]",
      "text/plain": [
       "<Figure size 900x900 with 1 Axes>"
      ]
     },
     "metadata": {},
     "output_type": "display_data"
    }
   ],
   "source": [
    "\n",
    "y_column_name = 'triage_time'\n",
    "y_label = 'Time to Triage Scene'\n",
    "scene_fn = lambda scene_df: fu.get_triage_time(scene_df)\n",
    "show_whisker_plot(y_column_name, y_label, scene_fn, ytick_fn=temporalize_fn, logs_df=merge_df, verbose=False)"
   ]
  },
  {
   "cell_type": "code",
   "execution_count": 48,
   "id": "76190875-cb47-4038-bd6b-b3c1d10b2c67",
   "metadata": {},
   "outputs": [
    {
     "data": {
      "text/html": [
       "<div>\n",
       "<style scoped>\n",
       "    .dataframe tbody tr th:only-of-type {\n",
       "        vertical-align: middle;\n",
       "    }\n",
       "\n",
       "    .dataframe tbody tr th {\n",
       "        vertical-align: top;\n",
       "    }\n",
       "\n",
       "    .dataframe thead th {\n",
       "        text-align: right;\n",
       "    }\n",
       "</style>\n",
       "<table border=\"1\" class=\"dataframe\">\n",
       "  <thead>\n",
       "    <tr style=\"text-align: right;\">\n",
       "      <th></th>\n",
       "      <th>0</th>\n",
       "      <th>1</th>\n",
       "      <th>2</th>\n",
       "    </tr>\n",
       "  </thead>\n",
       "  <tbody>\n",
       "    <tr>\n",
       "      <th>session_uuid</th>\n",
       "      <td>1e7d274d-f393-4888-9f28-4de53b0260e3</td>\n",
       "      <td>9a6d2f32-10fb-40ea-bacc-dd6a7d2f4a13</td>\n",
       "      <td>a7804ee3-6a1c-4462-957a-17976a540483</td>\n",
       "    </tr>\n",
       "    <tr>\n",
       "      <th>scene_id</th>\n",
       "      <td>0</td>\n",
       "      <td>0</td>\n",
       "      <td>0</td>\n",
       "    </tr>\n",
       "    <tr>\n",
       "      <th>triage_time</th>\n",
       "      <td>78928</td>\n",
       "      <td>41340</td>\n",
       "      <td>19615</td>\n",
       "    </tr>\n",
       "    <tr>\n",
       "      <th>file_name</th>\n",
       "      <td>First responder master registry v2.0/23.05.11....</td>\n",
       "      <td>First responder master registry v2.0/22.03.15....</td>\n",
       "      <td>First responder master registry v2.0/23.03.15....</td>\n",
       "    </tr>\n",
       "    <tr>\n",
       "      <th>logger_version</th>\n",
       "      <td>1.0</td>\n",
       "      <td>1.0</td>\n",
       "      <td>1.0</td>\n",
       "    </tr>\n",
       "    <tr>\n",
       "      <th>session_file_date</th>\n",
       "      <td>2023-05-11 11:37:00</td>\n",
       "      <td>2022-03-15 09:38:00</td>\n",
       "      <td>2023-03-15 12:20:34</td>\n",
       "    </tr>\n",
       "    <tr>\n",
       "      <th>session_file_name</th>\n",
       "      <td>23.05.11.1121.csv</td>\n",
       "      <td>22.03.15.0946.csv</td>\n",
       "      <td>23.03.15.1203r.csv</td>\n",
       "    </tr>\n",
       "    <tr>\n",
       "      <th>responder_name</th>\n",
       "      <td>Fred H</td>\n",
       "      <td>ZS_1000</td>\n",
       "      <td>Christian B</td>\n",
       "    </tr>\n",
       "    <tr>\n",
       "      <th>responder_type</th>\n",
       "      <td>Paramedic</td>\n",
       "      <td>M4-ATEM</td>\n",
       "      <td>EM-RES1</td>\n",
       "    </tr>\n",
       "    <tr>\n",
       "      <th>site_name</th>\n",
       "      <td>Plain Twp</td>\n",
       "      <td>OSUCOM</td>\n",
       "      <td>OSUCOM</td>\n",
       "    </tr>\n",
       "    <tr>\n",
       "      <th>encounter_layout</th>\n",
       "      <td>First 11</td>\n",
       "      <td>First 11</td>\n",
       "      <td>First 11</td>\n",
       "    </tr>\n",
       "    <tr>\n",
       "      <th>file_start_time</th>\n",
       "      <td>2023-05-11 11:28:00</td>\n",
       "      <td>2022-03-15 09:49:00</td>\n",
       "      <td>2023-03-15 12:11:00</td>\n",
       "    </tr>\n",
       "    <tr>\n",
       "      <th>file_stop_time</th>\n",
       "      <td>2023-05-11 11:37:00</td>\n",
       "      <td>2022-03-15 09:59:00</td>\n",
       "      <td>2023-03-15 12:20:00</td>\n",
       "    </tr>\n",
       "    <tr>\n",
       "      <th>is_in_registry</th>\n",
       "      <td>True</td>\n",
       "      <td>True</td>\n",
       "      <td>True</td>\n",
       "    </tr>\n",
       "    <tr>\n",
       "      <th>is_a_one_triage_file</th>\n",
       "      <td>False</td>\n",
       "      <td>False</td>\n",
       "      <td>False</td>\n",
       "    </tr>\n",
       "    <tr>\n",
       "      <th>responder_category</th>\n",
       "      <td>Paramedic</td>\n",
       "      <td>Medical Student</td>\n",
       "      <td>EM Resident</td>\n",
       "    </tr>\n",
       "    <tr>\n",
       "      <th>overall_category</th>\n",
       "      <td>Paramedic</td>\n",
       "      <td>Medical Student</td>\n",
       "      <td>EM Resident</td>\n",
       "    </tr>\n",
       "    <tr>\n",
       "      <th>global_category</th>\n",
       "      <td>EMS</td>\n",
       "      <td>DOC</td>\n",
       "      <td>DOC</td>\n",
       "    </tr>\n",
       "    <tr>\n",
       "      <th>global_description</th>\n",
       "      <td>Emergency Medical Services</td>\n",
       "      <td>Physicians</td>\n",
       "      <td>Physicians</td>\n",
       "    </tr>\n",
       "    <tr>\n",
       "      <th>sub_category</th>\n",
       "      <td>EPM</td>\n",
       "      <td>DST</td>\n",
       "      <td>DRS</td>\n",
       "    </tr>\n",
       "    <tr>\n",
       "      <th>sub_description</th>\n",
       "      <td>Paramedic</td>\n",
       "      <td>Physician Student</td>\n",
       "      <td>Physician Resident</td>\n",
       "    </tr>\n",
       "  </tbody>\n",
       "</table>\n",
       "</div>"
      ],
      "text/plain": [
       "                                                                      0  \\\n",
       "session_uuid                       1e7d274d-f393-4888-9f28-4de53b0260e3   \n",
       "scene_id                                                              0   \n",
       "triage_time                                                       78928   \n",
       "file_name             First responder master registry v2.0/23.05.11....   \n",
       "logger_version                                                      1.0   \n",
       "session_file_date                                   2023-05-11 11:37:00   \n",
       "session_file_name                                     23.05.11.1121.csv   \n",
       "responder_name                                                   Fred H   \n",
       "responder_type                                                Paramedic   \n",
       "site_name                                                     Plain Twp   \n",
       "encounter_layout                                               First 11   \n",
       "file_start_time                                     2023-05-11 11:28:00   \n",
       "file_stop_time                                      2023-05-11 11:37:00   \n",
       "is_in_registry                                                     True   \n",
       "is_a_one_triage_file                                              False   \n",
       "responder_category                                            Paramedic   \n",
       "overall_category                                              Paramedic   \n",
       "global_category                                                     EMS   \n",
       "global_description                           Emergency Medical Services   \n",
       "sub_category                                                        EPM   \n",
       "sub_description                                               Paramedic   \n",
       "\n",
       "                                                                      1  \\\n",
       "session_uuid                       9a6d2f32-10fb-40ea-bacc-dd6a7d2f4a13   \n",
       "scene_id                                                              0   \n",
       "triage_time                                                       41340   \n",
       "file_name             First responder master registry v2.0/22.03.15....   \n",
       "logger_version                                                      1.0   \n",
       "session_file_date                                   2022-03-15 09:38:00   \n",
       "session_file_name                                     22.03.15.0946.csv   \n",
       "responder_name                                                  ZS_1000   \n",
       "responder_type                                                  M4-ATEM   \n",
       "site_name                                                        OSUCOM   \n",
       "encounter_layout                                               First 11   \n",
       "file_start_time                                     2022-03-15 09:49:00   \n",
       "file_stop_time                                      2022-03-15 09:59:00   \n",
       "is_in_registry                                                     True   \n",
       "is_a_one_triage_file                                              False   \n",
       "responder_category                                      Medical Student   \n",
       "overall_category                                        Medical Student   \n",
       "global_category                                                     DOC   \n",
       "global_description                                           Physicians   \n",
       "sub_category                                                        DST   \n",
       "sub_description                                       Physician Student   \n",
       "\n",
       "                                                                      2  \n",
       "session_uuid                       a7804ee3-6a1c-4462-957a-17976a540483  \n",
       "scene_id                                                              0  \n",
       "triage_time                                                       19615  \n",
       "file_name             First responder master registry v2.0/23.03.15....  \n",
       "logger_version                                                      1.0  \n",
       "session_file_date                                   2023-03-15 12:20:34  \n",
       "session_file_name                                    23.03.15.1203r.csv  \n",
       "responder_name                                              Christian B  \n",
       "responder_type                                                  EM-RES1  \n",
       "site_name                                                        OSUCOM  \n",
       "encounter_layout                                               First 11  \n",
       "file_start_time                                     2023-03-15 12:11:00  \n",
       "file_stop_time                                      2023-03-15 12:20:00  \n",
       "is_in_registry                                                     True  \n",
       "is_a_one_triage_file                                              False  \n",
       "responder_category                                          EM Resident  \n",
       "overall_category                                            EM Resident  \n",
       "global_category                                                     DOC  \n",
       "global_description                                           Physicians  \n",
       "sub_category                                                        DRS  \n",
       "sub_description                                      Physician Resident  "
      ]
     },
     "execution_count": 48,
     "metadata": {},
     "output_type": "execute_result"
    }
   ],
   "source": [
    "\n",
    "mask_series = (triage_time_df.triage_time > 200_000)\n",
    "on_columns = list(set(file_stats_df.columns).intersection(set(triage_time_df[~mask_series].columns)))\n",
    "triage_time_df[~mask_series].merge(file_stats_df, on=on_columns).T"
   ]
  },
  {
   "cell_type": "markdown",
   "id": "33ffdca9-65f1-44db-a581-0247f8febd8b",
   "metadata": {},
   "source": [
    "\n",
    "# Create the dataset used to transform variables (to minutes) and run analyses"
   ]
  },
  {
   "cell_type": "code",
   "execution_count": 50,
   "id": "8ebf11f3-dccc-4ba4-85c9-d1c047e564d7",
   "metadata": {},
   "outputs": [],
   "source": [
    "\n",
    "def get_mean_percentage_tag_correct(percentage_tag_correct_df, session_uuid, scene_id, responder_category):\n",
    "    mean_percentage_tag_correct = 0\n",
    "    mask_series = (percentage_tag_correct_df.session_uuid == session_uuid) & (percentage_tag_correct_df.scene_id == scene_id)\n",
    "    mask_series &= (percentage_tag_correct_df.responder_category == responder_category)\n",
    "    if mask_series.any(): mean_percentage_tag_correct = percentage_tag_correct_df[mask_series].percentage_tag_correct.mean()\n",
    "    \n",
    "    return mean_percentage_tag_correct"
   ]
  },
  {
   "cell_type": "code",
   "execution_count": 53,
   "id": "67201550-43b3-4e72-afcc-2ed0a09aba84",
   "metadata": {},
   "outputs": [],
   "source": [
    "\n",
    "# Create the tag-to-SALT data frame\n",
    "assert len(set(elevens_df.columns).intersection(set(fu.patient_groupby_columns))) == 3, \"You don't have all the patient columns\"\n",
    "tag_to_salt_df = fu.get_is_tag_correct_dataframe(elevens_df, groupby_column='responder_category')"
   ]
  },
  {
   "cell_type": "code",
   "execution_count": 54,
   "id": "fbcb74e2-d284-4f4f-988f-76c4141d3746",
   "metadata": {},
   "outputs": [],
   "source": [
    "\n",
    "# Get the percentage tag correct counts for each scene for each group\n",
    "percentage_tag_correct_df = fu.get_percentage_tag_correct_dataframe(tag_to_salt_df, groupby_column='responder_category')\n",
    "remove_mask_series = (percentage_tag_correct_df.percentage_tag_correct == 0)\n",
    "percentage_tag_correct_df = percentage_tag_correct_df[~remove_mask_series]"
   ]
  },
  {
   "cell_type": "code",
   "execution_count": 57,
   "id": "a267011a-332a-41a2-a09f-4fc7f44fe122",
   "metadata": {},
   "outputs": [],
   "source": [
    "\n",
    "# Compute error_type, removing \"Not Tagged\" from consideration\n",
    "def f(df):\n",
    "    if df.last_tag in fu.error_table_df.index: error_type = fu.error_table_df[fu.error_table_df.index == df.last_tag][df.max_salt].squeeze()\n",
    "    else: error_type = nan\n",
    "\n",
    "    return error_type\n",
    "groupby_columns = ['session_uuid', 'last_tag', 'max_salt', 'responder_category']\n",
    "anova_error_types_df = tag_to_salt_df.groupby(groupby_columns).patient_count.sum().to_frame().reset_index(drop=False)\n",
    "anova_error_types_df['error_type'] = anova_error_types_df.apply(f, axis='columns')\n",
    "\n",
    "# Convert the columns to the custom categorical type\n",
    "anova_error_types_df['last_tag'] = anova_error_types_df['last_tag'].astype(fu.colors_category_order)\n",
    "anova_error_types_df['max_salt'] = anova_error_types_df['max_salt'].astype(fu.salt_category_order)\n",
    "anova_error_types_df['error_type'] = anova_error_types_df['error_type'].astype(fu.errors_category_order)\n",
    "\n",
    "# Sort the Data Frame based on the custom categorical orders\n",
    "anova_error_types_df = anova_error_types_df.sort_values(by=groupby_columns+['error_type'])"
   ]
  },
  {
   "cell_type": "code",
   "execution_count": 58,
   "id": "c9a1ae90-6904-4993-bfb5-c13d965bf01d",
   "metadata": {},
   "outputs": [],
   "source": [
    "\n",
    "# Get triage error rates\n",
    "anova_error_rates_df = fu.create_triage_error_rates_dataframe(error_types_df, groupby_columns=['session_uuid', 'responder_category'])"
   ]
  },
  {
   "cell_type": "code",
   "execution_count": 60,
   "id": "774afdb6-c079-41dd-abfb-5a160c6653f6",
   "metadata": {},
   "outputs": [],
   "source": [
    "\n",
    "# Create the dataset used to transform variables (to minutes) and run analyses\n",
    "mask_series = (elevens_df.scene_type == 'Triage') & (elevens_df.is_scene_aborted == False)\n",
    "gb = elevens_df[mask_series].sort_values(['session_uuid']).groupby(\n",
    "    ['file_name', 'session_file_name', 'session_uuid', 'responder_category', 'encounter_layout']\n",
    ")\n",
    "rows_list = []\n",
    "for i, ((file_name, session_file_name, session_uuid, responder_category, encounter_layout), session_df) in enumerate(gb):\n",
    "\n",
    "    # Get the tuple with the largest percentage correct\n",
    "    largest_tuple = sorted(\n",
    "        [(scene_df, scene_df.shape[0], scene_id) for scene_id, scene_df in session_df.groupby('scene_id')],\n",
    "        key=lambda x: get_mean_percentage_tag_correct(percentage_tag_correct_df, session_uuid, x[2], responder_category)\n",
    "    )[-1]\n",
    "\n",
    "    responder_categories_df = largest_tuple[0]\n",
    "    scene_id = largest_tuple[2]\n",
    "    # scene_start = fu.get_scene_start(responder_categories_df)\n",
    "    row_dict = {\n",
    "        'ID': f'Responder {i+1}', 'Group': responder_category, 'file_name': file_name, 'session_file_name': session_file_name,\n",
    "        'session_uuid': session_uuid, 'scene_id': scene_id, 'patient_count': fu.get_patient_count(responder_categories_df)\n",
    "    }\n",
    "    row_dict['time_to_triage_scene'] = fu.get_triage_time(responder_categories_df)\n",
    "    row_dict['time_to_last_hemorrhage_controlled'] = fu.get_time_to_last_hemorrhage_controlled(responder_categories_df)\n",
    "\n",
    "    # Duration of time from when the patient was first approached by the participant until\n",
    "    # the time hemorrhage treatment was applied (with a tourniquet or wound packing)\n",
    "    row_dict['time_to_hemorrhage_control_per_patient'] = fu.get_time_to_hemorrhage_control_per_patient(responder_categories_df)\n",
    "\n",
    "    mask_series = (percentage_tag_correct_df.session_uuid == session_uuid) & (percentage_tag_correct_df.scene_id == scene_id)\n",
    "    mask_series &= (percentage_tag_correct_df.responder_category == responder_category)\n",
    "    if mask_series.any():\n",
    "        row_dict['mean_percentage_tag_correct'] = percentage_tag_correct_df[mask_series].percentage_tag_correct.mean()\n",
    "\n",
    "        # Add the triage errors\n",
    "        mask_series = (anova_error_rates_df.responder_category == responder_category) & (anova_error_rates_df.session_uuid == session_uuid)\n",
    "        over_triage_error_rate = anova_error_rates_df[mask_series].over_triage_error_rate.squeeze()\n",
    "        if not isinstance(over_triage_error_rate, Series): row_dict['over_triage_error_rate'] = over_triage_error_rate\n",
    "        under_triage_error_rate = anova_error_rates_df[mask_series].under_triage_error_rate.squeeze()\n",
    "        if not isinstance(under_triage_error_rate, Series): row_dict['under_triage_error_rate'] = under_triage_error_rate\n",
    "        critical_triage_error_rate = anova_error_rates_df[mask_series].critical_triage_error_rate.squeeze()\n",
    "        if not isinstance(critical_triage_error_rate, Series): row_dict['critical_triage_error_rate'] = critical_triage_error_rate\n",
    "\n",
    "    row_dict['encounter_layout'] = encounter_layout\n",
    "    rows_list.append(row_dict)\n",
    "anova_df = DataFrame(rows_list)"
   ]
  },
  {
   "cell_type": "code",
   "execution_count": 62,
   "id": "6ae4ff95-410c-4305-9382-b5f959de7ae3",
   "metadata": {},
   "outputs": [
    {
     "data": {
      "text/plain": [
       "(282, 15)"
      ]
     },
     "execution_count": 62,
     "metadata": {},
     "output_type": "execute_result"
    }
   ],
   "source": [
    "\n",
    "anova_df.shape"
   ]
  },
  {
   "cell_type": "code",
   "execution_count": 61,
   "id": "f5f8b4cd-6119-4fde-aa3b-d8b44aa71964",
   "metadata": {},
   "outputs": [],
   "source": [
    "\n",
    "mask_series = anova_apr24_final_df.Group.isin(groups_list)\n",
    "anova_old_df = anova_apr24_final_df[mask_series]"
   ]
  },
  {
   "cell_type": "code",
   "execution_count": 63,
   "id": "0058f657-99b0-4dc2-a472-71869cbbed27",
   "metadata": {},
   "outputs": [
    {
     "data": {
      "text/plain": [
       "(282, 13)"
      ]
     },
     "execution_count": 63,
     "metadata": {},
     "output_type": "execute_result"
    }
   ],
   "source": [
    "\n",
    "anova_old_df.shape"
   ]
  },
  {
   "cell_type": "code",
   "execution_count": 66,
   "id": "92fff3fd-642a-45d8-8a56-61f0f3b1eaba",
   "metadata": {},
   "outputs": [
    {
     "data": {
      "text/plain": [
       "['Group', 'ID', 'critical_triage_error_rate', 'encounter_layout', 'file_name', 'mean_percentage_tag_correct', 'over_triage_error_rate', 'session_file_name', 'session_uuid', 'time_to_hemorrhage_control_per_patient', 'time_to_last_hemorrhage_controlled', 'time_to_triage_scene', 'under_triage_error_rate']"
      ]
     },
     "execution_count": 66,
     "metadata": {},
     "output_type": "execute_result"
    }
   ],
   "source": [
    "\n",
    "sorted(anova_old_df.columns)"
   ]
  },
  {
   "cell_type": "code",
   "execution_count": 67,
   "id": "2032da6f-4d08-48d8-8d54-b08fc45af085",
   "metadata": {},
   "outputs": [
    {
     "data": {
      "text/plain": [
       "array(['Medical Student', 'EM Resident', 'Paramedic', 'EMT-Basic'],\n",
       "      dtype=object)"
      ]
     },
     "execution_count": 67,
     "metadata": {},
     "output_type": "execute_result"
    }
   ],
   "source": [
    "\n",
    "elevens_df.responder_category.unique()"
   ]
  },
  {
   "cell_type": "code",
   "execution_count": 76,
   "id": "8b5d2df9-10e8-4240-bcb8-7ecd791b8e6b",
   "metadata": {},
   "outputs": [
    {
     "data": {
      "image/png": "[encoded data removed]",
      "text/plain": [
       "<Figure size 900x900 with 1 Axes>"
      ]
     },
     "metadata": {},
     "output_type": "display_data"
    }
   ],
   "source": [
    "\n",
    "# Try to make it run with the new anova\n",
    "if 'responder_category' not in anova_df.columns: anova_df = anova_df.rename(columns={'Group': 'responder_category'})\n",
    "y_column_name = 'triage_time'\n",
    "y_label = 'Time to Triage Scene'\n",
    "scene_fn = lambda scene_df: scene_df.time_to_triage_scene.mean()\n",
    "show_whisker_plot(y_column_name, y_label, scene_fn, ytick_fn=temporalize_fn, logs_df=anova_df, verbose=False)"
   ]
  },
  {
   "cell_type": "code",
   "execution_count": 77,
   "id": "4b254c64-ac63-4393-9310-edace993164e",
   "metadata": {},
   "outputs": [
    {
     "name": "stdout",
     "output_type": "stream",
     "text": [
      "Saving to /mnt/c/Users/DaveBabbitt/Documents/GitHub/itm-analysis-reporting/saves/csv/anova20240501_df.csv\n"
     ]
    }
   ],
   "source": [
    "\n",
    "nu.save_data_frames(anova20240501_df=anova_df)"
   ]
  },
  {
   "cell_type": "code",
   "execution_count": null,
   "id": "c8ba0c10-05fe-4485-979c-d3b5d014b6af",
   "metadata": {},
   "outputs": [],
   "source": []
  }
 ],
 "metadata": {
  "kernelspec": {
   "display_name": "ITM Analysis Reporting (Python 3.11.7)",
   "language": "python",
   "name": "itm_analysis_reporting"
  },
  "language_info": {
   "codemirror_mode": {
    "name": "ipython",
    "version": 3
   },
   "file_extension": ".py",
   "mimetype": "text/x-python",
   "name": "python",
   "nbconvert_exporter": "python",
   "pygments_lexer": "ipython3",
   "version": "3.7.12"
  }
 },
 "nbformat": 4,
 "nbformat_minor": 5
}
