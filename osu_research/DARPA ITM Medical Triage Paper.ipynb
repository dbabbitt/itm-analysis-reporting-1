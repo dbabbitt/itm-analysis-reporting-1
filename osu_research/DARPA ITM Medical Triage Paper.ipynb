{
 "cells": [
  {
   "cell_type": "code",
   "execution_count": 1,
   "id": "710c8979-b516-4884-ba6d-98a9bdcec416",
   "metadata": {},
   "outputs": [
    {
     "name": "stdout",
     "output_type": "stream",
     "text": [
      "Pretty printing has been turned OFF\n"
     ]
    }
   ],
   "source": [
    "\n",
    "# Set up notebook\n",
    "%pprint\n",
    "import sys\n",
    "if (osp.join(os.pardir, 'py') not in sys.path): sys.path.insert(1, osp.join(os.pardir, 'py'))"
   ]
  },
  {
   "cell_type": "code",
   "execution_count": 2,
   "id": "1c3393a4-7aab-4188-843e-826149df6d23",
   "metadata": {},
   "outputs": [],
   "source": [
    "\n",
    "# load libraries\n",
    "from FRVRS import (fu, nu, DataFrame, Series, concat, nan, re, display)\n",
    "from datetime import date, timedelta\n",
    "import os\n",
    "from IPython.display import HTML\n",
    "import pandas as pd"
   ]
  },
  {
   "cell_type": "raw",
   "id": "6b745eb4-3cc8-4a12-9413-e534a75151b1",
   "metadata": {},
   "source": [
    "\n",
    "# Test all the methods used in this notebook in one test suite\n",
    "import unittest\n",
    "if ('../tests' not in sys.path): sys.path.insert(1, '../tests')\n",
    "suite = unittest.TestSuite()\n",
    "\n",
    "# Add all test cases from each class to the suite\n",
    "from test_frvrs_utils_darpa_triage_paper_functions import (\n",
    "    TestFormatTimedelta, TestGetStatistics, TestGetElevensDataFrame, TestGetMaxSalt, TestGetLastTag, TestIsPatientHemorrhagingFunction,\n",
    "    TestGetTimeToHemorrhageControl, TestGetTriageTime, TestGetPercentHemorrhageControlled, TestGetTimeToLastHemorrhageControlled\n",
    ")\n",
    "suite.addTest(unittest.makeSuite(TestFormatTimedelta))\n",
    "suite.addTest(unittest.makeSuite(TestGetStatistics))\n",
    "suite.addTest(unittest.makeSuite(TestGetElevensDataFrame))\n",
    "suite.addTest(unittest.makeSuite(TestGetMaxSalt))\n",
    "suite.addTest(unittest.makeSuite(TestGetLastTag))\n",
    "suite.addTest(unittest.makeSuite(TestIsPatientHemorrhagingFunction))\n",
    "suite.addTest(unittest.makeSuite(TestGetTimeToHemorrhageControl))\n",
    "suite.addTest(unittest.makeSuite(TestGetTriageTime))\n",
    "suite.addTest(unittest.makeSuite(TestGetPercentHemorrhageControlled))\n",
    "suite.addTest(unittest.makeSuite(TestGetTimeToLastHemorrhageControlled))\n",
    "\n",
    "# Run the test suite\n",
    "runner = unittest.TextTestRunner()\n",
    "runner.run(suite)"
   ]
  },
  {
   "cell_type": "markdown",
   "id": "0ec3e473-70ed-474f-b73f-f4ad9dc34e4d",
   "metadata": {},
   "source": [
    "\n",
    "# DARPA ITM Medical Triage Paper\n",
    "\n",
    "> Once we finalize all complete records for the registry (or identify the subset for analyses), based on our slack discussion, we'll need to redo some of the analyses for the paper. I made a listing below of what I think we need for the article and based on the feedback that I've received so far."
   ]
  },
  {
   "cell_type": "code",
   "execution_count": 3,
   "id": "b1b40ad3-fda9-442b-8691-763defa6c4da",
   "metadata": {},
   "outputs": [
    {
     "name": "stdout",
     "output_type": "stream",
     "text": [
      "triage_paper_df 401177 332 111\n",
      "file_stats_df 332 332 19\n",
      "scene_stats_df 486 332 48\n",
      "count_swaps_df 331 331 3\n"
     ]
    }
   ],
   "source": [
    "\n",
    "# load data frames\n",
    "data_frames_dict = nu.load_data_frames(\n",
    "    first_responder_master_registry_df='', first_responder_master_registry_file_stats_df='',\n",
    "    first_responder_master_registry_scene_stats_df='', count_swaps_df='',\n",
    "    verbose=False\n",
    ")\n",
    "triage_paper_df = data_frames_dict['first_responder_master_registry_df']\n",
    "print('triage_paper_df', triage_paper_df.shape[0], triage_paper_df.session_uuid.nunique(), triage_paper_df.shape[1]) # 401177 332 111\n",
    "file_stats_df = data_frames_dict['first_responder_master_registry_file_stats_df']\n",
    "print('file_stats_df', file_stats_df.shape[0], file_stats_df.file_name.nunique(), file_stats_df.shape[1]) # 332 332 19\n",
    "scene_stats_df = data_frames_dict['first_responder_master_registry_scene_stats_df']\n",
    "print('scene_stats_df', scene_stats_df.shape[0], scene_stats_df.session_uuid.nunique(), scene_stats_df.shape[1]) # 486 332 48\n",
    "count_swaps_df = data_frames_dict['count_swaps_df']\n",
    "print('count_swaps_df', count_swaps_df.shape[0], count_swaps_df.session_uuid.nunique(), count_swaps_df.shape[1]) # 331 331 3"
   ]
  },
  {
   "cell_type": "code",
   "execution_count": 4,
   "id": "424476c5-f6f8-41c1-8de7-c7cf7da0bbf6",
   "metadata": {},
   "outputs": [
    {
     "name": "stdout",
     "output_type": "stream",
     "text": [
      "triage_paper_df 397230 331 112\n",
      "scene_stats_df 331 331 49\n"
     ]
    }
   ],
   "source": [
    "\n",
    "if 'scene_id' in triage_paper_df.columns:\n",
    "    df = triage_paper_df.merge(count_swaps_df, on=fu.scene_groupby_columns, how='inner')\n",
    "    print('triage_paper_df', df.shape[0], df.session_uuid.nunique(), df.shape[1]) # 397230 331 112\n",
    "if 'scene_id' in file_stats_df.columns:\n",
    "    df = file_stats_df.merge(count_swaps_df, on=fu.scene_groupby_columns, how='inner')\n",
    "    print('file_stats_df', df.shape[0], df.session_uuid.nunique(), df.shape[1])\n",
    "if 'scene_id' in scene_stats_df.columns:\n",
    "    df = scene_stats_df.merge(count_swaps_df, on=fu.scene_groupby_columns, how='inner')\n",
    "    print('scene_stats_df', df.shape[0], df.session_uuid.nunique(), df.shape[1]) # 331 331 49"
   ]
  },
  {
   "cell_type": "code",
   "execution_count": 5,
   "id": "6dcfb603-e8ae-418e-8389-838444f3f907",
   "metadata": {},
   "outputs": [
    {
     "name": "stdout",
     "output_type": "stream",
     "text": [
      "elevens_df 397230 331 118\n"
     ]
    }
   ],
   "source": [
    "\n",
    "# Merge only count swaps scenes\n",
    "patient_count_filter_fn = lambda scene_df: True\n",
    "elevens_df = fu.get_elevens_dataframe(\n",
    "    triage_paper_df.merge(count_swaps_df, on=fu.scene_groupby_columns, how='inner'),\n",
    "    file_stats_df,\n",
    "    scene_stats_df.merge(count_swaps_df, on=fu.scene_groupby_columns, how='inner'),\n",
    "    needed_columns=['scene_type', 'is_scene_aborted', 'is_a_one_triage_file', 'responder_category', 'responder_type', 'overall_category'],\n",
    "    patient_count_filter_fn=patient_count_filter_fn\n",
    ")\n",
    "print('elevens_df', elevens_df.shape[0], elevens_df.session_uuid.nunique(), elevens_df.shape[1]) # 397230 331 117"
   ]
  },
  {
   "cell_type": "code",
   "execution_count": 6,
   "id": "b8614a3b-b2d2-4fe0-9cbc-a03f5553cb59",
   "metadata": {},
   "outputs": [
    {
     "name": "stdout",
     "output_type": "stream",
     "text": [
      "elevens_df 388745 331 118\n"
     ]
    }
   ],
   "source": [
    "\n",
    "# Get a dataset of only first11 patients\n",
    "nongrouped_patients_list = nu.load_object('nongrouped_patients_list')\n",
    "mask_series = ~elevens_df.patient_id.isin(nongrouped_patients_list)\n",
    "elevens_df = elevens_df[mask_series]\n",
    "print('elevens_df', elevens_df.shape[0], elevens_df.session_uuid.nunique(), elevens_df.shape[1]) # 388745 331 117"
   ]
  },
  {
   "cell_type": "code",
   "execution_count": 7,
   "id": "8f111fca-cf12-4d9f-89d5-06a8d11883a3",
   "metadata": {},
   "outputs": [],
   "source": [
    "\n",
    "# for the \"Other\" label, instead, put back whether they were Faculty or something else (Nurse, etc.)\n",
    "mask_series = (elevens_df.responder_category == 'Other')\n",
    "elevens_df.loc[mask_series, 'responder_category'] = elevens_df.loc[mask_series, 'overall_category']"
   ]
  },
  {
   "cell_type": "markdown",
   "id": "98382403-ed41-42ba-ba85-6246e099d9bd",
   "metadata": {},
   "source": [
    "\n",
    "## Triage efficiency (mean, SD, median, IQR) by each responder type"
   ]
  },
  {
   "cell_type": "markdown",
   "id": "f00bcecb-c469-413e-bb6a-cc84acffc91b",
   "metadata": {},
   "source": [
    "\n",
    "* **Time to triage scene**"
   ]
  },
  {
   "cell_type": "code",
   "execution_count": 8,
   "id": "0d7308e9-36ad-4532-b0b5-440241a76206",
   "metadata": {},
   "outputs": [],
   "source": [
    "\n",
    "# Get whisker plot for Time to triage scene\n",
    "import seaborn as sns\n",
    "import matplotlib.pyplot as plt\n",
    "\n",
    "temporalize_fn = lambda x: fu.format_timedelta_lambda(timedelta(milliseconds=int(x)), minimum_unit='minutes')\n",
    "def show_whisker_plot(y_column_name, y_label, scene_fn, ytick_fn=temporalize_fn, logs_df=elevens_df, print_responder_counts=False, verbose=False):\n",
    "    x_column_name = 'responder_category'\n",
    "    x_label = ' '.join([w.title() for w in x_column_name.split('_')])\n",
    "    responder_categories_list = ['EMT-Basic', 'Paramedic', 'Medical Student', 'EM Resident']\n",
    "    responder_categories_dict = {o: n for o, n in zip(\n",
    "        responder_categories_list, ['EMT-Basic', 'EMT-Paramedic', 'Medical Student', 'EM-Resident']\n",
    "    )}\n",
    "    rows_list = []\n",
    "    for responder_category in responder_categories_list:\n",
    "        mask_series = (logs_df[x_column_name] == responder_category)\n",
    "        responder_categories_df = logs_df[mask_series]\n",
    "        if verbose: print('session_uuid in responder_categories_df:', bool('session_uuid' in responder_categories_df.columns))\n",
    "        gb = responder_categories_df.groupby(fu.scene_groupby_columns)\n",
    "        for (session_uuid, scene_id), scene_df in gb:\n",
    "            if verbose: print('session_uuid in scene_df:', bool('session_uuid' in scene_df.columns))\n",
    "            row_dict = {}\n",
    "            if 'session_uuid' in scene_df.columns: row_dict['session_uuid'] = session_uuid\n",
    "            if 'scene_id' in scene_df.columns: row_dict['scene_id'] = scene_id\n",
    "            row_dict[x_column_name] = responder_category\n",
    "            row_dict[y_column_name] = scene_fn(scene_df)\n",
    "            row_dict['scene_count'] = gb.size().shape[0]\n",
    "            rows_list.append(row_dict)\n",
    "    df = DataFrame(rows_list)\n",
    "\n",
    "    # Create a figure and subplots\n",
    "    fig, ax = plt.subplots(1, 1, figsize=(9, 9))\n",
    "\n",
    "    # Create a box plot of the y column grouped by the x column\n",
    "    ax = sns.boxplot(\n",
    "        x=x_column_name,\n",
    "        y=y_column_name,\n",
    "        showmeans=True,\n",
    "        data=df,\n",
    "        ax=ax\n",
    "    )\n",
    "\n",
    "    # Rotate the x-axis labels to prevent overlapping\n",
    "    plt.xticks(rotation=45)\n",
    "\n",
    "    # Label the x- and y-axis\n",
    "    ax.set_xlabel(x_label)\n",
    "    ax.set_ylabel(y_label)\n",
    "\n",
    "    # Humanize y tick labels\n",
    "    locs, labels = plt.yticks()\n",
    "    yticklabels_list = []\n",
    "    for ytick_value, text_obj in zip(locs, labels):\n",
    "        text_obj.set_text(\n",
    "            ytick_fn(ytick_value)\n",
    "        )\n",
    "        yticklabels_list.append(text_obj)\n",
    "    plt.yticks(locs[1:], yticklabels_list[1:])\n",
    "\n",
    "    # Re-label x tick labels\n",
    "    locs, labels = plt.xticks()\n",
    "    xticklabels_list = []\n",
    "    for idx, text_obj in zip(locs, labels):\n",
    "        text_obj.set_text(responder_categories_dict[responder_categories_list[idx]])\n",
    "        xticklabels_list.append(text_obj)\n",
    "    plt.xticks(locs, xticklabels_list)\n",
    "\n",
    "    plt.show()\n",
    "    \n",
    "    if print_responder_counts:\n",
    "        for responder_category, xlabel in zip(responder_categories_list, [text_obj.get_text() for text_obj in labels]):\n",
    "            mask_series = (df[x_column_name] == responder_category)\n",
    "            scene_count = df[mask_series].scene_count.tolist()[0]\n",
    "            print(f'{xlabel}: {scene_count} responders')"
   ]
  },
  {
   "cell_type": "code",
   "execution_count": 9,
   "id": "d8446225-4486-4289-8578-cc0d6900c4d8",
   "metadata": {},
   "outputs": [
    {
     "name": "stdout",
     "output_type": "stream",
     "text": [
      "EM Resident: 8:34 (SD = 1:45, Median = 8:22, IQR = (7:34, 9:07))\n",
      "EM-Faculty: 10:40 (SD = 4:12, Median = 9:53, IQR = (7:16, 13:18))\n",
      "EMT-Basic: 8:16 (SD = 2:09, Median = 7:41, IQR = (6:47, 9:36))\n",
      "Medical Student: 8:40 (SD = 2:13, Median = 8:46, IQR = (7:28, 10:12))\n",
      "Nurse: 7:24 (SD = nan, Median = 7:24, IQR = (7:24, 7:24))\n",
      "Other HP: 8:23 (SD = nan, Median = 8:23, IQR = (8:23, 8:23))\n",
      "Paramedic: 7:34 (SD = 1:49, Median = 7:21, IQR = (6:14, 8:33))\n",
      "\n"
     ]
    },
    {
     "data": {
      "text/html": [
       "<table border=\"1\" class=\"dataframe\">\n",
       "  <thead>\n",
       "    <tr style=\"text-align: right;\">\n",
       "      <th></th>\n",
       "      <th>Mean Time to Triage Scene</th>\n",
       "      <th>SD</th>\n",
       "      <th>Median</th>\n",
       "      <th>IQR</th>\n",
       "    </tr>\n",
       "  </thead>\n",
       "  <tbody>\n",
       "    <tr>\n",
       "      <th>EM Resident</th>\n",
       "      <td>8:34</td>\n",
       "      <td>1:45</td>\n",
       "      <td>8:22</td>\n",
       "      <td>(7:34, 9:07)</td>\n",
       "    </tr>\n",
       "    <tr>\n",
       "      <th>EM-Faculty</th>\n",
       "      <td>10:40</td>\n",
       "      <td>4:12</td>\n",
       "      <td>9:53</td>\n",
       "      <td>(7:16, 13:18)</td>\n",
       "    </tr>\n",
       "    <tr>\n",
       "      <th>EMT-Basic</th>\n",
       "      <td>8:16</td>\n",
       "      <td>2:09</td>\n",
       "      <td>7:41</td>\n",
       "      <td>(6:47, 9:36)</td>\n",
       "    </tr>\n",
       "    <tr>\n",
       "      <th>Medical Student</th>\n",
       "      <td>8:40</td>\n",
       "      <td>2:13</td>\n",
       "      <td>8:46</td>\n",
       "      <td>(7:28, 10:12)</td>\n",
       "    </tr>\n",
       "    <tr>\n",
       "      <th>Nurse</th>\n",
       "      <td>7:24</td>\n",
       "      <td>NaN</td>\n",
       "      <td>7:24</td>\n",
       "      <td>(7:24, 7:24)</td>\n",
       "    </tr>\n",
       "    <tr>\n",
       "      <th>Other HP</th>\n",
       "      <td>8:23</td>\n",
       "      <td>NaN</td>\n",
       "      <td>8:23</td>\n",
       "      <td>(8:23, 8:23)</td>\n",
       "    </tr>\n",
       "    <tr>\n",
       "      <th>Paramedic</th>\n",
       "      <td>7:34</td>\n",
       "      <td>1:49</td>\n",
       "      <td>7:21</td>\n",
       "      <td>(6:14, 8:33)</td>\n",
       "    </tr>\n",
       "  </tbody>\n",
       "</table>"
      ],
      "text/plain": [
       "<IPython.core.display.HTML object>"
      ]
     },
     "execution_count": 9,
     "metadata": {},
     "output_type": "execute_result"
    }
   ],
   "source": [
    "\n",
    "# Get info for Time to triage scene\n",
    "from datetime import timedelta\n",
    "\n",
    "cn = 'triage_time'\n",
    "statistics_df = DataFrame([])\n",
    "for responder_category, responder_categories_df in elevens_df.groupby('responder_category'):\n",
    "    df = Series(\n",
    "        [fu.get_triage_time(scene_df) for _, scene_df in responder_categories_df.groupby(fu.scene_groupby_columns)]\n",
    "    ).to_frame().rename(columns={0: cn})\n",
    "    df = nu.get_statistics(df, [cn]).applymap(temporalize_fn, na_action='ignore')\n",
    "    statistics_df = concat([statistics_df, df.rename(columns={cn: responder_category}).T], axis='index')\n",
    "    ttts_dict = df.to_dict()[cn]\n",
    "    print(\n",
    "        f\"{responder_category}: {ttts_dict['mean']} (SD = {ttts_dict['SD']}, Median = {ttts_dict['median']},\"\n",
    "        f\" IQR = ({ttts_dict['25%']}, {ttts_dict['75%']}))\"\n",
    "    )\n",
    "\n",
    "# Display it as HTML\n",
    "statistics_df['IQR'] = '(' + statistics_df['25%'] + ', ' + statistics_df['75%'] + ')'\n",
    "columns_list = ['Mean Time to Triage Scene', 'SD', 'Median', 'IQR']\n",
    "print()\n",
    "HTML(statistics_df.rename(columns={'mean': columns_list[0], 'median': columns_list[2]})[columns_list].to_html())"
   ]
  },
  {
   "cell_type": "code",
   "execution_count": 10,
   "id": "40367b46-8798-459c-94c0-b2636a2f8b05",
   "metadata": {},
   "outputs": [
    {
     "data": {
      "image/png": "[encoded data removed]",
      "text/plain": [
       "<Figure size 900x900 with 1 Axes>"
      ]
     },
     "metadata": {},
     "output_type": "display_data"
    }
   ],
   "source": [
    "\n",
    "y_column_name = 'triage_time'\n",
    "y_label = 'Mean Time to Triage Scene (sec)'\n",
    "scene_fn = lambda scene_df: fu.get_triage_time(scene_df)\n",
    "show_whisker_plot(y_column_name, y_label, scene_fn, ytick_fn=temporalize_fn, logs_df=elevens_df, verbose=False)"
   ]
  },
  {
   "cell_type": "markdown",
   "id": "4cc18446-602a-4685-879b-26289561256b",
   "metadata": {},
   "source": [
    "\n",
    "* **Hemorrhage Control for all Life-threatening Bleeding (and percentage of participants who implemented all required hemorrhage control)**"
   ]
  },
  {
   "cell_type": "code",
   "execution_count": 11,
   "id": "84c6a3f2-7f0d-4331-bd8c-b440c6178777",
   "metadata": {},
   "outputs": [
    {
     "name": "stdout",
     "output_type": "stream",
     "text": [
      "EM Resident: 6:43 at 86% (SD = 1:50, Median = 6:33, IQR = (5:22, 7:31))\n",
      "EM-Faculty: 8:12 at 100% (SD = 3:41, Median = 8:00, IQR = (5:24, 10:48))\n",
      "EMT-Basic: 4:11 at 95% (SD = 2:51, Median = 4:06, IQR = (2:58, 4:53))\n",
      "Medical Student: 5:34 at 84% (SD = 2:34, Median = 5:46, IQR = (4:32, 7:16))\n",
      "Nurse: 3:55 at 100% (SD = nan, Median = 3:55, IQR = (3:55, 3:55))\n",
      "Other HP: 6:43 at 100% (SD = nan, Median = 6:43, IQR = (6:43, 6:43))\n",
      "Paramedic: 4:21 at 96% (SD = 2:18, Median = 4:43, IQR = (3:34, 5:36))\n",
      "\n"
     ]
    },
    {
     "data": {
      "text/html": [
       "<table border=\"1\" class=\"dataframe\">\n",
       "  <thead>\n",
       "    <tr style=\"text-align: right;\">\n",
       "      <th></th>\n",
       "      <th>Mean Time to Hemorrhage Control</th>\n",
       "      <th>%</th>\n",
       "      <th>SD</th>\n",
       "      <th>Median</th>\n",
       "      <th>IQR</th>\n",
       "    </tr>\n",
       "  </thead>\n",
       "  <tbody>\n",
       "    <tr>\n",
       "      <th>EM Resident</th>\n",
       "      <td>6:43</td>\n",
       "      <td>86</td>\n",
       "      <td>1:50</td>\n",
       "      <td>6:33</td>\n",
       "      <td>(5:22, 7:31)</td>\n",
       "    </tr>\n",
       "    <tr>\n",
       "      <th>EM-Faculty</th>\n",
       "      <td>8:12</td>\n",
       "      <td>100</td>\n",
       "      <td>3:41</td>\n",
       "      <td>8:00</td>\n",
       "      <td>(5:24, 10:48)</td>\n",
       "    </tr>\n",
       "    <tr>\n",
       "      <th>EMT-Basic</th>\n",
       "      <td>4:11</td>\n",
       "      <td>95</td>\n",
       "      <td>2:51</td>\n",
       "      <td>4:06</td>\n",
       "      <td>(2:58, 4:53)</td>\n",
       "    </tr>\n",
       "    <tr>\n",
       "      <th>Medical Student</th>\n",
       "      <td>5:34</td>\n",
       "      <td>84</td>\n",
       "      <td>2:34</td>\n",
       "      <td>5:46</td>\n",
       "      <td>(4:32, 7:16)</td>\n",
       "    </tr>\n",
       "    <tr>\n",
       "      <th>Nurse</th>\n",
       "      <td>3:55</td>\n",
       "      <td>100</td>\n",
       "      <td>NaN</td>\n",
       "      <td>3:55</td>\n",
       "      <td>(3:55, 3:55)</td>\n",
       "    </tr>\n",
       "    <tr>\n",
       "      <th>Other HP</th>\n",
       "      <td>6:43</td>\n",
       "      <td>100</td>\n",
       "      <td>NaN</td>\n",
       "      <td>6:43</td>\n",
       "      <td>(6:43, 6:43)</td>\n",
       "    </tr>\n",
       "    <tr>\n",
       "      <th>Paramedic</th>\n",
       "      <td>4:21</td>\n",
       "      <td>96</td>\n",
       "      <td>2:18</td>\n",
       "      <td>4:43</td>\n",
       "      <td>(3:34, 5:36)</td>\n",
       "    </tr>\n",
       "  </tbody>\n",
       "</table>"
      ],
      "text/plain": [
       "<IPython.core.display.HTML object>"
      ]
     },
     "execution_count": 11,
     "metadata": {},
     "output_type": "execute_result"
    }
   ],
   "source": [
    "\n",
    "# Get info for Hemorrhage control for all life-threatening bleeding percentage\n",
    "cn = 'last_controlled_time'\n",
    "statistics_df = DataFrame([])\n",
    "for responder_category, responder_categories_df in elevens_df.groupby('responder_category'):\n",
    "    df = Series(\n",
    "        [fu.get_time_to_last_hemorrhage_controlled(scene_df) for _, scene_df in responder_categories_df.groupby(fu.scene_groupby_columns)]\n",
    "    ).to_frame().rename(columns={0: cn})\n",
    "    df = nu.get_statistics(df, [cn]).applymap(lambda x: fu.format_timedelta_lambda(timedelta(milliseconds=int(x)), minimum_unit='minutes'), na_action='ignore')\n",
    "    hcfaltb_dict = df.to_dict()[cn]\n",
    "    df = df.rename(columns={cn: responder_category}).T\n",
    "    phc = int(Series(\n",
    "        [fu.get_percent_hemorrhage_controlled(scene_df, verbose=False) for _, scene_df in responder_categories_df.groupby(fu.scene_groupby_columns)]\n",
    "    ).mean())\n",
    "    df['phc'] = phc\n",
    "    statistics_df = concat([statistics_df, df], axis='index')\n",
    "    print(\n",
    "        f\"{responder_category}: {hcfaltb_dict['mean']} at {phc}% (SD = {hcfaltb_dict['SD']}, Median = {hcfaltb_dict['median']},\"\n",
    "        f\" IQR = ({hcfaltb_dict['25%']}, {hcfaltb_dict['75%']}))\"\n",
    "    )\n",
    "\n",
    "# Display it as HTML\n",
    "statistics_df['IQR'] = '(' + statistics_df['25%'] + ', ' + statistics_df['75%'] + ')'\n",
    "columns_list = ['Mean Time to Hemorrhage Control', '%', 'SD', 'Median', 'IQR']\n",
    "print()\n",
    "HTML(statistics_df.rename(columns={'mean': columns_list[0], 'median': columns_list[3], 'phc':  columns_list[1]})[columns_list].to_html())"
   ]
  },
  {
   "cell_type": "code",
   "execution_count": 12,
   "id": "2f3000ed-ec31-4e29-94a1-020af3c5821b",
   "metadata": {},
   "outputs": [
    {
     "data": {
      "image/png": "[encoded data removed]",
      "text/plain": [
       "<Figure size 900x900 with 1 Axes>"
      ]
     },
     "metadata": {},
     "output_type": "display_data"
    }
   ],
   "source": [
    "\n",
    "y_column_name = 'time_to_last_hemorrhage_controlled'\n",
    "y_label = 'Mean Time to Hemorrhage Control (sec)'\n",
    "scene_fn = lambda scene_df: fu.get_time_to_last_hemorrhage_controlled(scene_df)\n",
    "show_whisker_plot(y_column_name, y_label, scene_fn, temporalize_fn)"
   ]
  },
  {
   "cell_type": "markdown",
   "id": "d972d426-25dc-47fc-bec4-fd946b76807d",
   "metadata": {},
   "source": [
    "\n",
    "* **Hemorrhage Control per Patient**"
   ]
  },
  {
   "cell_type": "code",
   "execution_count": 13,
   "id": "57842ce1-0566-4d44-9f3a-3ed00d274e52",
   "metadata": {},
   "outputs": [
    {
     "name": "stdout",
     "output_type": "stream",
     "text": [
      "EM Resident: 39 sec (SD = 1:17, Median = 12 sec, IQR = (3 sec, 31 sec))\n",
      "EM-Faculty: 38 sec (SD = 1:06, Median = 14 sec, IQR = (8 sec, 25 sec))\n",
      "EMT-Basic: 10 sec (SD = 15 sec, Median = 7 sec, IQR = (2 sec, 13 sec))\n",
      "Medical Student: 37 sec (SD = 1:17, Median = 11 sec, IQR = (4 sec, 23 sec))\n",
      "Nurse: 11 sec (SD = 8 sec, Median = 10 sec, IQR = (8 sec, 13 sec))\n",
      "Other HP: 11 sec (SD = 11 sec, Median = 5 sec, IQR = (4 sec, 21 sec))\n",
      "Paramedic: 15 sec (SD = 34 sec, Median = 8 sec, IQR = (2 sec, 14 sec))\n",
      "\n"
     ]
    },
    {
     "data": {
      "text/html": [
       "<table border=\"1\" class=\"dataframe\">\n",
       "  <thead>\n",
       "    <tr style=\"text-align: right;\">\n",
       "      <th></th>\n",
       "      <th>Mean Time for Hemorrhage control per Patient</th>\n",
       "      <th>SD</th>\n",
       "      <th>Median</th>\n",
       "      <th>IQR</th>\n",
       "    </tr>\n",
       "  </thead>\n",
       "  <tbody>\n",
       "    <tr>\n",
       "      <th>EM Resident</th>\n",
       "      <td>39 sec</td>\n",
       "      <td>1:17</td>\n",
       "      <td>12 sec</td>\n",
       "      <td>(3 sec, 31 sec)</td>\n",
       "    </tr>\n",
       "    <tr>\n",
       "      <th>EM-Faculty</th>\n",
       "      <td>38 sec</td>\n",
       "      <td>1:06</td>\n",
       "      <td>14 sec</td>\n",
       "      <td>(8 sec, 25 sec)</td>\n",
       "    </tr>\n",
       "    <tr>\n",
       "      <th>EMT-Basic</th>\n",
       "      <td>10 sec</td>\n",
       "      <td>15 sec</td>\n",
       "      <td>7 sec</td>\n",
       "      <td>(2 sec, 13 sec)</td>\n",
       "    </tr>\n",
       "    <tr>\n",
       "      <th>Medical Student</th>\n",
       "      <td>37 sec</td>\n",
       "      <td>1:17</td>\n",
       "      <td>11 sec</td>\n",
       "      <td>(4 sec, 23 sec)</td>\n",
       "    </tr>\n",
       "    <tr>\n",
       "      <th>Nurse</th>\n",
       "      <td>11 sec</td>\n",
       "      <td>8 sec</td>\n",
       "      <td>10 sec</td>\n",
       "      <td>(8 sec, 13 sec)</td>\n",
       "    </tr>\n",
       "    <tr>\n",
       "      <th>Other HP</th>\n",
       "      <td>11 sec</td>\n",
       "      <td>11 sec</td>\n",
       "      <td>5 sec</td>\n",
       "      <td>(4 sec, 21 sec)</td>\n",
       "    </tr>\n",
       "    <tr>\n",
       "      <th>Paramedic</th>\n",
       "      <td>15 sec</td>\n",
       "      <td>34 sec</td>\n",
       "      <td>8 sec</td>\n",
       "      <td>(2 sec, 14 sec)</td>\n",
       "    </tr>\n",
       "  </tbody>\n",
       "</table>"
      ],
      "text/plain": [
       "<IPython.core.display.HTML object>"
      ]
     },
     "execution_count": 13,
     "metadata": {},
     "output_type": "execute_result"
    }
   ],
   "source": [
    "\n",
    "# Get info for Hemorrhage control per patient\n",
    "# Duration of time from when the patient was first approached by the participant until\n",
    "# the time hemorrhage treatment was applied (with a tourniquet or wound packing)\n",
    "cn = 'controlled_time'\n",
    "statistics_df = DataFrame([])\n",
    "for responder_category, responder_categories_df in elevens_df.groupby('responder_category'):\n",
    "    times_list = []\n",
    "    for _, scene_df in responder_categories_df.groupby(fu.scene_groupby_columns):\n",
    "        # scene_start = fu.get_scene_start(scene_df)\n",
    "        for _, patient_df in scene_df.groupby('patient_id'):\n",
    "            if fu.get_is_patient_hemorrhaging(patient_df):\n",
    "                controlled_time = fu.get_time_to_hemorrhage_control(patient_df, scene_start=fu.get_first_patient_interaction(patient_df))\n",
    "                times_list.append(controlled_time)\n",
    "    df = Series(times_list).to_frame().rename(columns={0: cn})\n",
    "    df = nu.get_statistics(df, [cn]).applymap(\n",
    "        lambda x: fu.format_timedelta_lambda(timedelta(milliseconds=int(x)), minimum_unit='seconds'), na_action='ignore'\n",
    "    )\n",
    "    statistics_df = concat([statistics_df, df.rename(columns={cn: responder_category}).T], axis='index')\n",
    "    hcpp_dict = df.to_dict()[cn]\n",
    "    print(\n",
    "        f\"{responder_category}: {hcpp_dict['mean']} (SD = {hcpp_dict['SD']}, Median = {hcpp_dict['median']},\"\n",
    "        f\" IQR = ({hcpp_dict['25%']}, {hcpp_dict['75%']}))\"\n",
    "    )\n",
    "\n",
    "# Display it as HTML\n",
    "statistics_df['IQR'] = '(' + statistics_df['25%'] + ', ' + statistics_df['75%'] + ')'\n",
    "columns_list = ['Mean Time for Hemorrhage control per Patient', 'SD', 'Median', 'IQR']\n",
    "print()\n",
    "HTML(statistics_df.rename(columns={'mean': columns_list[0], 'median': columns_list[2]})[columns_list].to_html())"
   ]
  },
  {
   "cell_type": "code",
   "execution_count": 14,
   "id": "7182d58a-0b20-407b-a2f6-c831e628a311",
   "metadata": {},
   "outputs": [
    {
     "data": {
      "image/png": "[encoded data removed]",
      "text/plain": [
       "<Figure size 900x900 with 1 Axes>"
      ]
     },
     "metadata": {},
     "output_type": "display_data"
    }
   ],
   "source": [
    "\n",
    "# Duration of time from when the patient was first approached by the participant until\n",
    "# the time hemorrhage treatment was applied (with a tourniquet or wound packing)\n",
    "y_column_name = 'time_to_hemorrhage_control'\n",
    "y_label = 'Time to Hemorrhage control per Patient (sec)'\n",
    "scene_fn = lambda scene_df: fu.get_time_to_hemorrhage_control_per_patient(scene_df)\n",
    "show_whisker_plot(y_column_name, y_label, scene_fn, temporalize_fn)"
   ]
  },
  {
   "cell_type": "markdown",
   "id": "698ba211-e6d8-402a-9e4c-723cfda21637",
   "metadata": {},
   "source": [
    "\n",
    "## Triage accuracy (mean, SD, median, IQR) by each responder type (to keep things simple let's not break this out by individual tag category as we had it, but by overall rates for each responder type)"
   ]
  },
  {
   "cell_type": "code",
   "execution_count": null,
   "id": "a483f9e6-6f78-4deb-82eb-ffa06b2d9475",
   "metadata": {},
   "outputs": [],
   "source": [
    "\n",
    "# Create the tag-to-SALT data frame\n",
    "tag_to_salt_df = fu.get_is_tag_correct_dataframe(elevens_df, groupby_column='responder_category')"
   ]
  },
  {
   "cell_type": "code",
   "execution_count": null,
   "id": "53078dd0-73df-4d1b-ae3c-d831491e252f",
   "metadata": {},
   "outputs": [],
   "source": [
    "\n",
    "# Get the percentage tag correct counts for each scene for each group\n",
    "correct_count_by_tag_df = fu.get_percentage_tag_correct_dataframe(tag_to_salt_df, groupby_column='responder_category')"
   ]
  },
  {
   "cell_type": "markdown",
   "id": "51497e53-573a-4f4c-8631-abffb3fe53f7",
   "metadata": {},
   "source": [
    "\n",
    "* **triage tag accuracy**"
   ]
  },
  {
   "cell_type": "code",
   "execution_count": 17,
   "id": "a34e2bd8-7df0-42c1-8420-dfbd56fef8d7",
   "metadata": {},
   "outputs": [
    {
     "name": "stdout",
     "output_type": "stream",
     "text": [
      "EM Resident: accurately tagged 72.4% of patients (SD = 36.2, Median = 100.0, IQR = (50.0, 100.0))\n",
      "EM-Faculty: accurately tagged 78.3% of patients (SD = 33.3, Median = 100.0, IQR = (62.5, 100.0))\n",
      "EMT-Basic: accurately tagged 83.8% of patients (SD = 29.1, Median = 100.0, IQR = (75.0, 100.0))\n",
      "Medical Student: accurately tagged 68.2% of patients (SD = 39.5, Median = 100.0, IQR = (50.0, 100.0))\n",
      "Nurse: accurately tagged 90.0% of patients (SD = 22.4, Median = 100.0, IQR = (100.0, 100.0))\n",
      "Other HP: accurately tagged 85.0% of patients (SD = 22.4, Median = 100.0, IQR = (75.0, 100.0))\n",
      "Paramedic: accurately tagged 79.1% of patients (SD = 33.9, Median = 100.0, IQR = (50.0, 100.0))\n",
      "\n"
     ]
    },
    {
     "data": {
      "text/html": [
       "<table border=\"1\" class=\"dataframe\">\n",
       "  <thead>\n",
       "    <tr style=\"text-align: right;\">\n",
       "      <th></th>\n",
       "      <th>Mean % Accurately Tagged</th>\n",
       "      <th>SD</th>\n",
       "      <th>Median</th>\n",
       "      <th>IQR</th>\n",
       "    </tr>\n",
       "  </thead>\n",
       "  <tbody>\n",
       "    <tr>\n",
       "      <th>EM Resident</th>\n",
       "      <td>72.4</td>\n",
       "      <td>36.2</td>\n",
       "      <td>100.0</td>\n",
       "      <td>(50.0, 100.0)</td>\n",
       "    </tr>\n",
       "    <tr>\n",
       "      <th>EM-Faculty</th>\n",
       "      <td>78.3</td>\n",
       "      <td>33.3</td>\n",
       "      <td>100.0</td>\n",
       "      <td>(62.5, 100.0)</td>\n",
       "    </tr>\n",
       "    <tr>\n",
       "      <th>EMT-Basic</th>\n",
       "      <td>83.8</td>\n",
       "      <td>29.1</td>\n",
       "      <td>100.0</td>\n",
       "      <td>(75.0, 100.0)</td>\n",
       "    </tr>\n",
       "    <tr>\n",
       "      <th>Medical Student</th>\n",
       "      <td>68.2</td>\n",
       "      <td>39.5</td>\n",
       "      <td>100.0</td>\n",
       "      <td>(50.0, 100.0)</td>\n",
       "    </tr>\n",
       "    <tr>\n",
       "      <th>Nurse</th>\n",
       "      <td>90.0</td>\n",
       "      <td>22.4</td>\n",
       "      <td>100.0</td>\n",
       "      <td>(100.0, 100.0)</td>\n",
       "    </tr>\n",
       "    <tr>\n",
       "      <th>Other HP</th>\n",
       "      <td>85.0</td>\n",
       "      <td>22.4</td>\n",
       "      <td>100.0</td>\n",
       "      <td>(75.0, 100.0)</td>\n",
       "    </tr>\n",
       "    <tr>\n",
       "      <th>Paramedic</th>\n",
       "      <td>79.1</td>\n",
       "      <td>33.9</td>\n",
       "      <td>100.0</td>\n",
       "      <td>(50.0, 100.0)</td>\n",
       "    </tr>\n",
       "  </tbody>\n",
       "</table>"
      ],
      "text/plain": [
       "<IPython.core.display.HTML object>"
      ]
     },
     "execution_count": 17,
     "metadata": {},
     "output_type": "execute_result"
    }
   ],
   "source": [
    "\n",
    "# Get info for triage tag accuracy\n",
    "cn = 'percentage_tag_correct'\n",
    "statistics_df = DataFrame([])\n",
    "for responder_category, responder_categories_df in correct_count_by_tag_df.groupby('responder_category'):\n",
    "    mask_series = responder_categories_df.predicted_tag.isin(fu.tag_color_order[:-1])\n",
    "    df = responder_categories_df[mask_series]\n",
    "    df = nu.get_statistics(df, [cn])\n",
    "    statistics_df = concat([statistics_df, df.rename(columns={cn: responder_category}).T], axis='index')\n",
    "    tta_dict = df.to_dict()[cn]\n",
    "    print(\n",
    "        f\"{responder_category}: accurately tagged {tta_dict['mean']:.1f}% of patients\"\n",
    "        f\" (SD = {tta_dict['SD']:.1f}, Median = {tta_dict['median']},\"\n",
    "        f\" IQR = ({tta_dict['25%']:.1f}, {tta_dict['75%']}))\"\n",
    "    )\n",
    "\n",
    "# Display as HTML\n",
    "statistics_df['IQR'] = '(' + statistics_df['25%'].map(lambda x: str(round(x, 1))) + ', ' + statistics_df['75%'].map(lambda x: str(x)) + ')'\n",
    "for cn in ['mean', 'SD']: statistics_df[cn] = statistics_df[cn].map(lambda x: str(round(x, 1)))\n",
    "columns_list = ['Mean % Accurately Tagged', 'SD', 'Median', 'IQR']\n",
    "print()\n",
    "HTML(statistics_df.rename(columns={'mean': columns_list[0], 'median': columns_list[2]})[columns_list].to_html())"
   ]
  },
  {
   "cell_type": "code",
   "execution_count": 18,
   "id": "339de5ac-a7d7-4636-9844-39598b5ece54",
   "metadata": {},
   "outputs": [
    {
     "data": {
      "image/png": "[encoded data removed]",
      "text/plain": [
       "<Figure size 900x900 with 1 Axes>"
      ]
     },
     "metadata": {},
     "output_type": "display_data"
    }
   ],
   "source": [
    "\n",
    "y_column_name = 'percentage_tag_correct'\n",
    "y_label = 'Mean % Accurately Tagged'\n",
    "scene_fn = lambda scene_df: scene_df[y_column_name].mean()\n",
    "percents_fn = lambda x: f'{int(x)}%' if (x<=100) else ''\n",
    "show_whisker_plot(y_column_name, y_label, scene_fn, ytick_fn=percents_fn, logs_df=correct_count_by_tag_df)"
   ]
  },
  {
   "cell_type": "markdown",
   "id": "ae2d7ab2-a01d-47dd-9f07-3b3fc4e80818",
   "metadata": {},
   "source": [
    "\n",
    "To do formal comparisons we need to run statistics like ANOVA and t-tests. We'll need the values for each measure per responder. Something like this below:\n",
    "<table>\n",
    "    <tr><th>ID</th><th>Group</th><th>TTS</th><th>THC</th><th>THCP</th><th>Tag Accuracy</th></tr>\n",
    "    <tr><td>Responder 1</td><td>EM Resident</td><td>8:20</td><td>6:10</td><td>25</td><td>81</td></tr>\n",
    "    <tr><td>Responder 2</td><td>EMT-Basic</td><td>8:05</td><td>5:02</td><td>15</td><td>75</td></tr>\n",
    "    <tr><td>Responder 3</td><td>Paramedic</td><td>7:40</td><td>4:30</td><td>18</td><td>78</td></tr>\n",
    "</table>\n",
    "etc."
   ]
  },
  {
   "cell_type": "code",
   "execution_count": 19,
   "id": "b2b098da-a81f-421f-b2f8-f3c4616ea031",
   "metadata": {},
   "outputs": [
    {
     "name": "stdout",
     "output_type": "stream",
     "text": [
      "anova_df 330 330 7\n"
     ]
    }
   ],
   "source": [
    "\n",
    "if nu.csv_exists('anova_df'): anova_df = nu.load_csv(csv_name='anova_df', folder_path=nu.saves_folder)\n",
    "else:\n",
    "    mask_series = (elevens_df.scene_type == 'Triage') & (elevens_df.is_scene_aborted == False)\n",
    "    gb = elevens_df[mask_series].groupby(['session_uuid', 'responder_category'])\n",
    "    rows_list = []\n",
    "    for i, ((session_uuid, responder_category), session_df) in enumerate(gb):\n",
    "        largest_tuple = sorted(\n",
    "            [(scene_df, scene_df.shape[0], scene_id) for scene_id, scene_df in session_df.groupby('scene_id')], key=lambda x: x[1]\n",
    "        )[-1]\n",
    "        responder_categories_df = largest_tuple[0]\n",
    "        # scene_start = fu.get_scene_start(responder_categories_df)\n",
    "        row_dict = {'ID': f'Responder {i+1}', 'Group': responder_category, 'session_uuid': session_uuid}\n",
    "        row_dict['TtTS'] = fu.get_triage_time(responder_categories_df)\n",
    "        row_dict['TtHC'] = fu.get_time_to_last_hemorrhage_controlled(responder_categories_df)\n",
    "        \n",
    "        # Duration of time from when the patient was first approached by the participant until\n",
    "        # the time hemorrhage treatment was applied (with a tourniquet or wound packing)\n",
    "        row_dict['MTfHCpP'] = fu.get_time_to_hemorrhage_control_per_patient(responder_categories_df)\n",
    "        \n",
    "        scene_id = largest_tuple[2]\n",
    "        mask_series = (correct_count_by_tag_df.session_uuid == session_uuid) & (correct_count_by_tag_df.scene_id == scene_id)\n",
    "        mask_series &= (correct_count_by_tag_df.responder_category == responder_category)\n",
    "        if mask_series.any():\n",
    "            row_dict['MPAT'] = correct_count_by_tag_df[mask_series].percentage_tag_correct.mean()\n",
    "        rows_list.append(row_dict)\n",
    "    anova_df = DataFrame(rows_list)\n",
    "    nu.save_data_frames(anova_df=anova_df)\n",
    "print('anova_df', anova_df.shape[0], anova_df.session_uuid.nunique(), anova_df.shape[1])"
   ]
  },
  {
   "cell_type": "code",
   "execution_count": 20,
   "id": "f5190abb-eb19-48ee-83f3-77ce1eb57344",
   "metadata": {},
   "outputs": [],
   "source": [
    "\n",
    "# Compute error_type, removing \"Not Tagged\" from consideration\n",
    "def f(df):\n",
    "    if df.last_tag in fu.error_table_df.index: error_type = fu.error_table_df[fu.error_table_df.index == df.last_tag][df.max_salt].squeeze()\n",
    "    else: error_type = nan\n",
    "\n",
    "    return error_type\n",
    "groupby_columns = ['last_tag', 'max_salt', 'responder_category']\n",
    "error_types_df = tag_to_salt_df.groupby(groupby_columns).patient_count.sum().to_frame().reset_index(drop=False)\n",
    "error_types_df['error_type'] = error_types_df.apply(f, axis='columns')\n",
    "\n",
    "# Convert the columns to the custom categorical type\n",
    "error_types_df['last_tag'] = error_types_df['last_tag'].astype(fu.colors_category_order)\n",
    "error_types_df['max_salt'] = error_types_df['max_salt'].astype(fu.salt_category_order)\n",
    "error_types_df['error_type'] = error_types_df['error_type'].astype(fu.errors_category_order)\n",
    "\n",
    "# Sort the Data Frame based on the custom categorical orders\n",
    "error_types_df = error_types_df.sort_values(by=groupby_columns+['error_type'])"
   ]
  },
  {
   "cell_type": "markdown",
   "id": "46fed4a3-6ee0-417c-a102-ac451b31e163",
   "metadata": {},
   "source": [
    "\n",
    "* **over-triage error rate**"
   ]
  },
  {
   "cell_type": "markdown",
   "id": "46fe6fb8-d8cc-4f66-b20b-c437029a421f",
   "metadata": {},
   "source": [
    "\n",
    "* **under-triage error rate**"
   ]
  },
  {
   "cell_type": "markdown",
   "id": "d5eb2064-dfc2-4827-bf45-af6ab69202dd",
   "metadata": {},
   "source": [
    "\n",
    "* **critical-triage error rate**"
   ]
  },
  {
   "cell_type": "code",
   "execution_count": 21,
   "id": "6536bd5d-fa7c-4346-a664-3d0182279a0a",
   "metadata": {},
   "outputs": [
    {
     "name": "stdout",
     "output_type": "stream",
     "text": [
      "EM Resident: over-triage error rate 9.5%, under-triage error rate 9.2%, critical-triage error rate 5.5%\n",
      "EM-Faculty: over-triage error rate 9.3%, under-triage error rate 14.0%, critical-triage error rate 7.0%\n",
      "EMT-Basic: over-triage error rate 6.2%, under-triage error rate 7.3%, critical-triage error rate 3.1%\n",
      "Medical Student: over-triage error rate 10.0%, under-triage error rate 13.2%, critical-triage error rate 4.5%\n",
      "Nurse: over-triage error rate 10.0%, under-triage error rate 0.0%, critical-triage error rate 0.0%\n",
      "Other HP: over-triage error rate 10.0%, under-triage error rate 10.0%, critical-triage error rate 0.0%\n",
      "Paramedic: over-triage error rate 7.2%, under-triage error rate 9.5%, critical-triage error rate 3.2%\n",
      "\n"
     ]
    },
    {
     "data": {
      "text/html": [
       "<table border=\"1\" class=\"dataframe\">\n",
       "  <thead>\n",
       "    <tr style=\"text-align: right;\"><th></th><th colspan=\"3\">Triage Error Rate (%)</th></tr>\n",
       "    <tr><th></th><th>Over</th><th>Under</th><th>Critical</th></tr><tr><th></th><th></th><th></th><th></th></tr>\n",
       "  </thead>\n",
       "  <tbody>\n",
       "    <tr>\n",
       "      <th>EM Resident</th>\n",
       "      <td>9.5</td>\n",
       "      <td>9.2</td>\n",
       "      <td>5.5</td>\n",
       "    </tr>\n",
       "    <tr>\n",
       "      <th>EM-Faculty</th>\n",
       "      <td>9.3</td>\n",
       "      <td>14.0</td>\n",
       "      <td>7.0</td>\n",
       "    </tr>\n",
       "    <tr>\n",
       "      <th>EMT-Basic</th>\n",
       "      <td>6.2</td>\n",
       "      <td>7.3</td>\n",
       "      <td>3.1</td>\n",
       "    </tr>\n",
       "    <tr>\n",
       "      <th>Medical Student</th>\n",
       "      <td>10.0</td>\n",
       "      <td>13.2</td>\n",
       "      <td>4.5</td>\n",
       "    </tr>\n",
       "    <tr>\n",
       "      <th>Nurse</th>\n",
       "      <td>10.0</td>\n",
       "      <td>0.0</td>\n",
       "      <td>0.0</td>\n",
       "    </tr>\n",
       "    <tr>\n",
       "      <th>Other HP</th>\n",
       "      <td>10.0</td>\n",
       "      <td>10.0</td>\n",
       "      <td>0.0</td>\n",
       "    </tr>\n",
       "    <tr>\n",
       "      <th>Paramedic</th>\n",
       "      <td>7.2</td>\n",
       "      <td>9.5</td>\n",
       "      <td>3.2</td>\n",
       "    </tr>\n",
       "  </tbody>\n",
       "</table>"
      ],
      "text/plain": [
       "<IPython.core.display.HTML object>"
      ]
     },
     "execution_count": 21,
     "metadata": {},
     "output_type": "execute_result"
    }
   ],
   "source": [
    "\n",
    "# Get triage error rates\n",
    "triage_error_rates_df = fu.create_triage_error_rates_dataframe(error_types_df, groupby_columns=['responder_category'], verbose=True)\n",
    "\n",
    "# Display as HTML\n",
    "html_str = triage_error_rates_df.set_index('responder_category').to_html()\n",
    "html_str = html_str.replace('<th>responder_category</th>', '<th></th>')\n",
    "colspan_regex = re.compile(r'<tr style=\"text-align: right;\">\\s+<th></th>(\\s+<th>[a-z]+_triage_error_rate</th>){3}\\s+</tr>')\n",
    "html_str = colspan_regex.sub('<tr style=\"text-align: right;\"><th></th><th colspan=\"3\">Triage Error Rate (%)</th></tr>', html_str, 1)\n",
    "th_regex = re.compile(r\"<tr>\\s+<th></th>\\s+<th></th>\\s+<th></th>\\s+<th></th>\\s+</tr>\")\n",
    "html_str = th_regex.sub(\n",
    "    \"<tr><th></th><th>Over</th><th>Under</th><th>Critical</th></tr><tr><th></th><th></th><th></th><th></th></tr>\", html_str, 1\n",
    ")\n",
    "print()\n",
    "HTML(html_str)"
   ]
  },
  {
   "cell_type": "code",
   "execution_count": 22,
   "id": "aaa758b3-6003-44df-a020-655041e30693",
   "metadata": {},
   "outputs": [
    {
     "data": {
      "text/html": [
       "<b>Results:</b> The mean time to triage and treat the entire scene was 7:53\n",
       "minutes (SD = 2:00). A robust 93% of participants successfully controlled all\n",
       "life-threatening hemorrhage, with a mean time of 4:47 minutes (SD = 2:29). \n",
       "Hemorrhage control per patient took a mean of 0:21 seconds (SD = 0:50). \n",
       "Only 17% of participants effectively executed the SALT recommended global sort \n",
       "commands, however they accurately applied triage tags to 75% of patients."
      ],
      "text/plain": [
       "<IPython.core.display.HTML object>"
      ]
     },
     "execution_count": 22,
     "metadata": {},
     "output_type": "execute_result"
    }
   ],
   "source": [
    "\n",
    "triage_time_df = Series(\n",
    "    [fu.get_triage_time(scene_df) for _, scene_df in elevens_df.groupby(fu.scene_groupby_columns)]\n",
    ").to_frame().rename(columns={0: 'triage_time'})\n",
    "last_controlled_time_df = Series(\n",
    "    [fu.get_time_to_last_hemorrhage_controlled(scene_df) for _, scene_df in elevens_df.groupby(fu.scene_groupby_columns)]\n",
    ").to_frame().rename(columns={0: 'last_controlled_time'})\n",
    "phc = int(Series(\n",
    "    [fu.get_percent_hemorrhage_controlled(scene_df, verbose=False) for _, scene_df in elevens_df.groupby(fu.scene_groupby_columns)]\n",
    ").mean())\n",
    "times_list = []\n",
    "for _, scene_df in elevens_df.groupby(fu.scene_groupby_columns):\n",
    "    scene_start = fu.get_scene_start(scene_df)\n",
    "    for _, patient_df in scene_df.groupby('patient_id'):\n",
    "        if fu.get_is_patient_hemorrhaging(patient_df):\n",
    "            controlled_time = fu.get_time_to_hemorrhage_control(patient_df, scene_start=scene_start)\n",
    "            times_list.append(controlled_time)\n",
    "controlled_time_df = Series(times_list).to_frame().rename(columns={0: 'controlled_time'})\n",
    "ptc = int(Series([\n",
    "    scene_df[scene_df.predicted_tag.isin(fu.tag_color_order[:-1])].percentage_tag_correct.mean()\n",
    "    for _, scene_df in correct_count_by_tag_df.groupby(fu.scene_groupby_columns)\n",
    "]).mean())\n",
    "HTML(\n",
    "    f\"\"\"<b>Results:</b> The mean time to triage and treat the entire scene was {temporalize_fn(triage_time_df.mean())}\n",
    "minutes (SD = {temporalize_fn(triage_time_df.std())}). A robust {phc}% of participants successfully controlled all\n",
    "life-threatening hemorrhage, with a mean time of {temporalize_fn(last_controlled_time_df.mean())} minutes\"\"\"\n",
    "    f\"\"\" (SD = {temporalize_fn(last_controlled_time_df.std())}). \n",
    "Hemorrhage control per patient took a mean of {temporalize_fn(controlled_time_df.mean())} seconds\"\"\"\n",
    "    f\"\"\" (SD = {temporalize_fn(controlled_time_df.std())}). \n",
    "Only 17% of participants effectively executed the SALT recommended global sort \n",
    "commands, however they accurately applied triage tags to {ptc}% of patients.\"\"\"\n",
    ")"
   ]
  },
  {
   "cell_type": "code",
   "execution_count": 23,
   "id": "4ed0fee3-6149-4d15-b0f2-c23f74d81aa6",
   "metadata": {},
   "outputs": [
    {
     "data": {
      "text/plain": [
       "responder_category\n",
       "EM Resident         32\n",
       "EM-Faculty           4\n",
       "EMT-Basic           23\n",
       "Medical Student     45\n",
       "Nurse                1\n",
       "Other HP             1\n",
       "Paramedic          224\n",
       "Name: session_uuid, dtype: int64"
      ]
     },
     "execution_count": 23,
     "metadata": {},
     "output_type": "execute_result"
    }
   ],
   "source": [
    "\n",
    "# display(elevens_df.groupby(['responder_category', 'session_uuid']).size().to_frame().rename(columns={0: 'record_count'}))\n",
    "elevens_df.groupby('responder_category')['session_uuid'].nunique()"
   ]
  },
  {
   "cell_type": "code",
   "execution_count": 24,
   "id": "859eb8af-3c14-4822-84b6-268bea91efc0",
   "metadata": {},
   "outputs": [
    {
     "data": {
      "text/html": [
       "<h3 style=\"text-align: center\">Results</h3>\n",
       "<h4>Triage Efficiency</h4>\n",
       "The mean time to triage the entire scene was 7:53 minutes (SD = 2:00). A\n",
       "robust 93% of participants successfully implemented all required hemorrhage control,\n",
       "with a mean time of 4:47 minutes for life-threatening hemorrhage control\n",
       "(SD = 2:29). Hemorrhage control per patient took a median of 0:21\n",
       "seconds (SD = 0:50). All triage efficiency measures have been listed in table 2 with\n",
       "means, standard deviations, medians and interquartile range values.\n",
       "<table style=\"margin: 0 auto;\">\n",
       "    <caption>Table 2. Triage efficiency measures related to time. All values are in minutes:seconds</caption>\n",
       "    <tr><th>Measure</th><th>Mean Time (SD)</th><th>Median Time (IQR)</th></tr>\n",
       "    <tr>\n",
       "        <td>Time to Triage Scene</td>\n",
       "        <td>7:53<br />(2:00)</td>\n",
       "        <td>7:39<br />(6:32, 8:57)</td>\n",
       "    </tr>\n",
       "    <tr>\n",
       "        <td>Hemorrhage Control for all Life-threatening<br />Bleeding<br />(implemented by 93% of participants)</td>\n",
       "        <td>4:47<br />(2:29)</td>\n",
       "        <td>4:52<br />(3:46, 6:12)</td>\n",
       "    </tr>\n",
       "    <tr>\n",
       "        <td>Hemorrhage Control per Patient</td>\n",
       "        <td>0:21<br />(0:50)</td>\n",
       "        <td>0:09<br />(0:02, 0:17)</td>\n",
       "    </tr>\n",
       "</table>"
      ],
      "text/plain": [
       "<IPython.core.display.HTML object>"
      ]
     },
     "execution_count": 24,
     "metadata": {},
     "output_type": "execute_result"
    }
   ],
   "source": [
    "\n",
    "ttt_dict = nu.get_statistics(triage_time_df, ['triage_time']).applymap(temporalize_fn, na_action='ignore').to_dict()['triage_time']\n",
    "hc_dict = nu.get_statistics(last_controlled_time_df, ['last_controlled_time']).applymap(temporalize_fn, na_action='ignore').to_dict()['last_controlled_time']\n",
    "hcpp_dict = nu.get_statistics(controlled_time_df, ['controlled_time']).applymap(temporalize_fn, na_action='ignore').to_dict()['controlled_time']\n",
    "HTML(f\"\"\"<h3 style=\"text-align: center\">Results</h3>\n",
    "<h4>Triage Efficiency</h4>\n",
    "The mean time to triage the entire scene was {temporalize_fn(triage_time_df.mean())} minutes (SD = {temporalize_fn(triage_time_df.std())}). A\n",
    "robust {phc}% of participants successfully implemented all required hemorrhage control,\n",
    "with a mean time of {temporalize_fn(last_controlled_time_df.mean())} minutes for life-threatening hemorrhage control\n",
    "(SD = {temporalize_fn(last_controlled_time_df.std())}). Hemorrhage control per patient took a median of {temporalize_fn(controlled_time_df.mean())}\n",
    "seconds (SD = {temporalize_fn(controlled_time_df.std())}). All triage efficiency measures have been listed in table 2 with\n",
    "means, standard deviations, medians and interquartile range values.\n",
    "<table style=\"margin: 0 auto;\">\n",
    "    <caption>Table 2. Triage efficiency measures related to time. All values are in minutes:seconds</caption>\n",
    "    <tr><th>Measure</th><th>Mean Time (SD)</th><th>Median Time (IQR)</th></tr>\n",
    "    <tr>\n",
    "        <td>Time to Triage Scene</td>\n",
    "        <td>{ttt_dict['mean']}<br />({ttt_dict['SD']})</td>\n",
    "        <td>{ttt_dict['median']}<br />({ttt_dict['25%']}, {ttt_dict['75%']})</td>\n",
    "    </tr>\n",
    "    <tr>\n",
    "        <td>Hemorrhage Control for all Life-threatening<br />Bleeding<br />(implemented by 93% of participants)</td>\n",
    "        <td>{hc_dict['mean']}<br />({hc_dict['SD']})</td>\n",
    "        <td>{hc_dict['median']}<br />({hc_dict['25%']}, {hc_dict['75%']})</td>\n",
    "    </tr>\n",
    "    <tr>\n",
    "        <td>Hemorrhage Control per Patient</td>\n",
    "        <td>{hcpp_dict['mean']}<br />({hcpp_dict['SD']})</td>\n",
    "        <td>{hcpp_dict['median']}<br />({hcpp_dict['25%']}, {hcpp_dict['75%']})</td>\n",
    "    </tr>\n",
    "</table>\"\"\")"
   ]
  },
  {
   "cell_type": "code",
   "execution_count": 25,
   "id": "cdbb1264-87a9-49e3-b72f-a756a3edbbaa",
   "metadata": {},
   "outputs": [
    {
     "data": {
      "text/html": [
       "\n",
       "Patients who can follow simple voice commands are asked to walk and are prioritized last for individual assessment.\n",
       "323 learners properly issued this command, and 231 learners visited walkers last.\n"
      ],
      "text/plain": [
       "<IPython.core.display.HTML object>"
      ]
     },
     "execution_count": 25,
     "metadata": {},
     "output_type": "execute_result"
    }
   ],
   "source": [
    "\n",
    "issued_walk_count = Series(\n",
    "    [fu.get_walk_value(scene_df) for _, scene_df in elevens_df.groupby(fu.scene_groupby_columns)]\n",
    ").sum()\n",
    "visited_last_count = Series(\n",
    "    [fu.get_walkers_value(scene_df) for _, scene_df in elevens_df.groupby(fu.scene_groupby_columns)]\n",
    ").sum()\n",
    "HTML(f\"\"\"\n",
    "Patients who can follow simple voice commands are asked to walk and are prioritized last for individual assessment.\n",
    "{issued_walk_count} learners properly issued this command, and {visited_last_count} learners visited walkers last.\n",
    "\"\"\")"
   ]
  },
  {
   "cell_type": "code",
   "execution_count": 26,
   "id": "81f975b0-2f59-4704-b3aa-03264eac0871",
   "metadata": {},
   "outputs": [
    {
     "data": {
      "text/html": [
       "\n",
       "By assessing the patients who are still first, the provider is likely to approach those patients who may require lifesaving interventions.\n",
       "274 providers issued the wave command.\n"
      ],
      "text/plain": [
       "<IPython.core.display.HTML object>"
      ]
     },
     "execution_count": 26,
     "metadata": {},
     "output_type": "execute_result"
    }
   ],
   "source": [
    "\n",
    "issued_wave_count = Series(\n",
    "    [fu.get_wave_value(scene_df) for _, scene_df in elevens_df.groupby(fu.scene_groupby_columns)]\n",
    ").sum()\n",
    "HTML(f\"\"\"\n",
    "By assessing the patients who are still first, the provider is likely to approach those patients who may require lifesaving interventions.\n",
    "{issued_wave_count} providers issued the wave command.\n",
    "\"\"\")"
   ]
  },
  {
   "cell_type": "markdown",
   "id": "bc618ea3-407a-423b-b17b-b362a39474c4",
   "metadata": {},
   "source": [
    "\n",
    "## SALT triage performance"
   ]
  },
  {
   "cell_type": "markdown",
   "id": "890c8d6c-f34e-4c10-8bc7-1818d8a2aa51",
   "metadata": {},
   "source": [
    "\n",
    "Once Nick provides this, check against \"3 correct orders\" by marking anything outside of these orders as incorrect. We can also check performance for each of the different categories (walker, waver, still, life-threatening)"
   ]
  },
  {
   "cell_type": "code",
   "execution_count": null,
   "id": "f684c9e3-7cf2-45eb-bdec-c3f5f5314c5f",
   "metadata": {},
   "outputs": [],
   "source": [
    "raise"
   ]
  },
  {
   "cell_type": "markdown",
   "id": "b3c8adbc-26cb-41f3-80fc-dd56eefc9013",
   "metadata": {},
   "source": [
    "\n",
    "# Maintenance/Attic"
   ]
  },
  {
   "cell_type": "code",
   "execution_count": null,
   "id": "2d8d8d8b-84c4-4e54-bf87-ca09b9633274",
   "metadata": {},
   "outputs": [],
   "source": [
    "\n",
    "responder_types_list = ['Nurse', 'Other HP', 'EM-FAC', 'EMS FELO']\n",
    "rt_str = nu.conjunctify_nouns([f'\"{tn}\"' for tn in responder_types_list])\n",
    "print(f'If you take the {rt_str} responder types and combine them into the \"Other\" responder category,')"
   ]
  },
  {
   "cell_type": "code",
   "execution_count": null,
   "id": "b4a7c27a-e654-4170-9fd0-c5decd363416",
   "metadata": {},
   "outputs": [],
   "source": [
    "\n",
    "# Got it. So some people treated the same injury twice which you excluded which makes sense. And what were the errors that people made?\n",
    "columns_list = [\n",
    "    'injury_id', 'injury_required_procedure'\n",
    "]\n",
    "mask_series = (elevens_df.injury_treated_injury_treated_with_wrong_treatment == True)\n",
    "elevens_df[mask_series][columns_list].drop_duplicates(subset=columns_list, keep='last').sort_values(columns_list)"
   ]
  },
  {
   "cell_type": "code",
   "execution_count": null,
   "id": "c3f9ae88-f441-47da-b907-967d028910c6",
   "metadata": {},
   "outputs": [],
   "source": [
    "\n",
    "# Provide OSU with 10 example CSVs that demonstrate the low hemorrhage percents\n",
    "rows_list = []\n",
    "for (session_uuid, scene_id), scene_df in elevens_df.groupby(fu.scene_groupby_columns):\n",
    "    row_dict = {cn: eval(cn) for cn in fu.scene_groupby_columns}\n",
    "    row_dict['wrong_treatment_count'] = scene_df[scene_df.injury_treated_injury_treated_with_wrong_treatment == True].shape[0]\n",
    "    row_dict['hemorrhage_count'] = scene_df[scene_df.injury_treated_required_procedure.isin(fu.hemorrhage_control_procedures_list)].shape[0]\n",
    "    rows_list.append(row_dict)\n",
    "df = DataFrame(rows_list)\n",
    "session_uuids_list = sorted(df.sort_values(['hemorrhage_count', 'wrong_treatment_count'], ascending=[False, False]).head(10).session_uuid)\n",
    "mask_series = file_stats_df.session_uuid.isin(session_uuids_list)\n",
    "list_str = nu.conjunctify_nouns(sorted(file_stats_df[mask_series].session_file_name))\n",
    "print(f'I think {list_str} provide excellent examples of tools applied wrongly multiple times to treat hemorrhages.')"
   ]
  },
  {
   "cell_type": "code",
   "execution_count": null,
   "id": "f6edc2e0-b681-4e0f-8bd6-f01a8a226bf4",
   "metadata": {},
   "outputs": [],
   "source": [
    "\n",
    "mask_series = ~elevens_df.responder_type.isnull()\n",
    "sorted(elevens_df[mask_series].responder_type.unique())"
   ]
  },
  {
   "cell_type": "code",
   "execution_count": null,
   "id": "0f9960d4-c375-4ca6-b7db-81d59a3212a7",
   "metadata": {},
   "outputs": [],
   "source": [
    "\n",
    "df = elevens_df.groupby(['responder_category', 'responder_type']).size().to_frame().rename(\n",
    "    columns={0: 'record_count'}\n",
    ").reset_index(drop=False)\n",
    "display(df.sort_values(['responder_category', 'record_count'], ascending=[True, False]))"
   ]
  },
  {
   "cell_type": "code",
   "execution_count": null,
   "id": "a8c85ef1-9163-4b83-b928-045447824224",
   "metadata": {},
   "outputs": [],
   "source": [
    "\n",
    "display(elevens_df.groupby(['responder_category']).size().to_frame().rename(columns={0: 'record_count'}).sort_values(\n",
    "    'record_count', ascending=False\n",
    "))"
   ]
  },
  {
   "cell_type": "code",
   "execution_count": null,
   "id": "7c74d56f-0a42-4827-aa09-6b4e2c5f9d40",
   "metadata": {},
   "outputs": [],
   "source": [
    "\n",
    "display(elevens_df.groupby(['responder_type']).size().to_frame().rename(columns={0: 'record_count'}).sort_values(\n",
    "    'record_count', ascending=False\n",
    "))"
   ]
  },
  {
   "cell_type": "code",
   "execution_count": null,
   "id": "9c641ced-5c48-49b5-bd6f-0b610a289d37",
   "metadata": {},
   "outputs": [],
   "source": []
  }
 ],
 "metadata": {
  "kernelspec": {
   "display_name": "ITM Analysis Reporting (Python 3.11.7)",
   "language": "python",
   "name": "itm_analysis_reporting"
  },
  "language_info": {
   "codemirror_mode": {
    "name": "ipython",
    "version": 3
   },
   "file_extension": ".py",
   "mimetype": "text/x-python",
   "name": "python",
   "nbconvert_exporter": "python",
   "pygments_lexer": "ipython3",
   "version": "3.7.12"
  }
 },
 "nbformat": 4,
 "nbformat_minor": 5
}
