{
 "cells": [
  {
   "cell_type": "code",
   "execution_count": 1,
   "id": "8f91b006-0037-496e-b926-5e2ea562e080",
   "metadata": {},
   "outputs": [
    {
     "name": "stdout",
     "output_type": "stream",
     "text": [
      "Pretty printing has been turned OFF\n"
     ]
    }
   ],
   "source": [
    "\n",
    "# Set up notebook\n",
    "%pprint\n",
    "import sys\n",
    "if (osp.join('..', 'py') not in sys.path): sys.path.insert(1, osp.join('..', 'py'))"
   ]
  },
  {
   "cell_type": "code",
   "execution_count": 2,
   "id": "c2a2decf-7082-4771-9e22-263947e922f7",
   "metadata": {},
   "outputs": [],
   "source": [
    "\n",
    "# load libraries\n",
    "from FRVRS import (fu, nu, display, read_excel, nan, Series, DataFrame)\n",
    "from datetime import date, timedelta\n",
    "import os\n",
    "from IPython.display import HTML\n",
    "import pandas as pd"
   ]
  },
  {
   "cell_type": "code",
   "execution_count": 3,
   "id": "0859205f-cde2-41ba-88ef-fd79df26816b",
   "metadata": {},
   "outputs": [
    {
     "name": "stdout",
     "output_type": "stream",
     "text": [
      "triage_paper_df 367627 290 111\n",
      "file_stats_df 290 290 19\n",
      "scene_stats_df 420 290 48\n",
      "count_swaps_df 315 289 3\n"
     ]
    }
   ],
   "source": [
    "\n",
    "# load data frames\n",
    "data_frames_dict = nu.load_data_frames(\n",
    "    first_responder_master_registry_df='', first_responder_master_registry_file_stats_df='',\n",
    "    first_responder_master_registry_scene_stats_df='', count_swaps_df='',\n",
    "    verbose=False\n",
    ")\n",
    "triage_paper_df = data_frames_dict['first_responder_master_registry_df']\n",
    "print('triage_paper_df', triage_paper_df.shape[0], triage_paper_df.session_uuid.nunique(), triage_paper_df.shape[1]) # 367627 290 111\n",
    "file_stats_df = data_frames_dict['first_responder_master_registry_file_stats_df']\n",
    "print('file_stats_df', file_stats_df.shape[0], file_stats_df.file_name.nunique(), file_stats_df.shape[1]) # 290 290 19\n",
    "scene_stats_df = data_frames_dict['first_responder_master_registry_scene_stats_df']\n",
    "print('scene_stats_df', scene_stats_df.shape[0], scene_stats_df.session_uuid.nunique(), scene_stats_df.shape[1]) # 420 290 48\n",
    "count_swaps_df = data_frames_dict['count_swaps_df']\n",
    "print('count_swaps_df', count_swaps_df.shape[0], count_swaps_df.session_uuid.nunique(), count_swaps_df.shape[1]) # 289 289 3"
   ]
  },
  {
   "cell_type": "code",
   "execution_count": 7,
   "id": "620b3656-1382-4431-adc5-73470c6ea3b8",
   "metadata": {},
   "outputs": [
    {
     "data": {
      "text/plain": [
       "['EXPECTANT', 'DEAD', 'IMMEDIATE', 'DELAYED', 'MINIMAL']\n",
       "Categories (5, object): ['DEAD' < 'EXPECTANT' < 'IMMEDIATE' < 'DELAYED' < 'MINIMAL']"
      ]
     },
     "metadata": {},
     "output_type": "display_data"
    },
    {
     "data": {
      "text/plain": [
       "'DEAD'"
      ]
     },
     "execution_count": 7,
     "metadata": {},
     "output_type": "execute_result"
    }
   ],
   "source": [
    "\n",
    "mask_series = ~triage_paper_df.patient_salt.isnull()\n",
    "display(triage_paper_df[mask_series].patient_salt.unique())\n",
    "triage_paper_df[mask_series].patient_salt.unique().min()"
   ]
  },
  {
   "cell_type": "code",
   "execution_count": 8,
   "id": "3dfee094-0ae0-497b-8aae-bd5d1a7deb49",
   "metadata": {},
   "outputs": [
    {
     "data": {
      "text/plain": [
       "'DEAD'"
      ]
     },
     "execution_count": 8,
     "metadata": {},
     "output_type": "execute_result"
    }
   ],
   "source": [
    "\n",
    "patient_salts_srs = Series(triage_paper_df[mask_series].patient_salt).astype(fu.salt_category_order)\n",
    "patient_salts_srs.min()"
   ]
  },
  {
   "cell_type": "code",
   "execution_count": 5,
   "id": "14bd3168-7926-484a-8111-fac73e19b627",
   "metadata": {},
   "outputs": [],
   "source": [
    "\n",
    "groups_list = ['Paramedic', 'EMT-Basic', 'EM Resident', 'Medical Student']\n",
    "patient_count_filter_fn = lambda scene_df: True\n",
    "nongrouped_patients_list = nu.load_object('nongrouped_patients_list')"
   ]
  },
  {
   "cell_type": "code",
   "execution_count": 9,
   "id": "f7aa220e-abaf-4c0d-9226-3f4f37f822b3",
   "metadata": {},
   "outputs": [
    {
     "name": "stdout",
     "output_type": "stream",
     "text": [
      "elevens_df 365543 289 120\n",
      "elevens_df 365521 289 120\n"
     ]
    },
    {
     "data": {
      "text/html": [
       "<div>\n",
       "<style scoped>\n",
       "    .dataframe tbody tr th:only-of-type {\n",
       "        vertical-align: middle;\n",
       "    }\n",
       "\n",
       "    .dataframe tbody tr th {\n",
       "        vertical-align: top;\n",
       "    }\n",
       "\n",
       "    .dataframe thead th {\n",
       "        text-align: right;\n",
       "    }\n",
       "</style>\n",
       "<table border=\"1\" class=\"dataframe\">\n",
       "  <thead>\n",
       "    <tr style=\"text-align: right;\">\n",
       "      <th></th>\n",
       "      <th>record_count</th>\n",
       "    </tr>\n",
       "    <tr>\n",
       "      <th>encounter_layout</th>\n",
       "      <th></th>\n",
       "    </tr>\n",
       "  </thead>\n",
       "  <tbody>\n",
       "    <tr>\n",
       "      <th>First 11</th>\n",
       "      <td>365238</td>\n",
       "    </tr>\n",
       "  </tbody>\n",
       "</table>\n",
       "</div>"
      ],
      "text/plain": [
       "                  record_count\n",
       "encounter_layout              \n",
       "First 11                365238"
      ]
     },
     "metadata": {},
     "output_type": "display_data"
    },
    {
     "name": "stdout",
     "output_type": "stream",
     "text": [
      "elevens_df 365521 289 120\n",
      "elevens_df 358586 282 120\n"
     ]
    }
   ],
   "source": [
    "\n",
    "# Merge only count swaps scenes\n",
    "elevens_df = fu.get_elevens_dataframe(\n",
    "    triage_paper_df,\n",
    "    file_stats_df,\n",
    "    scene_stats_df,\n",
    "    needed_columns=[\n",
    "        'scene_type', 'is_scene_aborted', 'is_a_one_triage_file', 'responder_category', 'responder_type', 'overall_category',\n",
    "        'file_name', 'session_file_name', 'encounter_layout'\n",
    "    ],\n",
    "    patient_count_filter_fn=None\n",
    ")\n",
    "print('elevens_df', elevens_df.shape[0], elevens_df.session_uuid.nunique(), elevens_df.shape[1]) # 397230 331 121\n",
    "\n",
    "# Get a dataset of only first11 patients\n",
    "mask_series = ~elevens_df.patient_id.isin(nongrouped_patients_list)\n",
    "elevens_df = elevens_df[mask_series]\n",
    "print('elevens_df', elevens_df.shape[0], elevens_df.session_uuid.nunique(), elevens_df.shape[1]) # 390108 331 121\n",
    "\n",
    "# Get a dataset of only \"First 11\" encounter layouts\n",
    "mask_series = (elevens_df.encounter_layout == 'DCEMS 11')\n",
    "display(elevens_df.groupby('encounter_layout').size().to_frame().rename(columns={0: 'record_count'}).sort_values(\n",
    "    'record_count', ascending=False\n",
    ").head(5))\n",
    "elevens_df = elevens_df[~mask_series]\n",
    "print('elevens_df', elevens_df.shape[0], elevens_df.session_uuid.nunique(), elevens_df.shape[1]) # 367025 295 119\n",
    "\n",
    "mask_series = elevens_df.responder_category.isin(groups_list)\n",
    "elevens_df = elevens_df[mask_series]\n",
    "print('elevens_df', elevens_df.shape[0], elevens_df.session_uuid.nunique(), elevens_df.shape[1]) # 367025 295 119"
   ]
  },
  {
   "cell_type": "code",
   "execution_count": 10,
   "id": "e274e600-2e07-4b4a-96e6-37c4ad804d57",
   "metadata": {},
   "outputs": [
    {
     "name": "stdout",
     "output_type": "stream",
     "text": [
      "first11_optimal_order_df (12, 7)\n"
     ]
    }
   ],
   "source": [
    "\n",
    "# load data frame\n",
    "data_frames_dict = nu.load_data_frames(\n",
    "    first11_optimal_order_df='',\n",
    "    verbose=False\n",
    ")\n",
    "first11_optimal_order_df = data_frames_dict['first11_optimal_order_df']\n",
    "print('first11_optimal_order_df', first11_optimal_order_df.shape) # (11, 7)"
   ]
  },
  {
   "cell_type": "code",
   "execution_count": 11,
   "id": "709f655c-ab12-46ee-bb37-e7ef64704eac",
   "metadata": {},
   "outputs": [
    {
     "name": "stdout",
     "output_type": "stream",
     "text": [
      "{'Gary_3 Root': 1, 'Lily_2 Root': 1, 'Bob_0 Root': 1, 'Gary_1 Root': 1, 'Mike_5 Root': 1, 'Lily_4 Root': 1, 'Mike_7 Root': 1, 'Gloria_6 Root': 2, 'Bob_9 Root': 3, 'Gloria_8 Root': 3, 'Helga_10 Root': 3, 'Gary_9 Root': 3}\n"
     ]
    }
   ],
   "source": [
    "\n",
    "# Get priority group dictionary and set a column with in the merge dataset\n",
    "mask_series = ~first11_optimal_order_df.Patient.isnull()\n",
    "priority_group_dict = first11_optimal_order_df[mask_series].set_index('Patient').Group.to_dict()\n",
    "\n",
    "mask_series = ~first11_optimal_order_df.Patient.isnull()\n",
    "first11_patients_list = sorted(first11_optimal_order_df[mask_series].Patient.unique())\n",
    "print(priority_group_dict)\n",
    "mask_series = elevens_df.patient_id.isin(first11_patients_list)\n",
    "elevens_df.loc[mask_series, 'priority_group'] = elevens_df.loc[mask_series, 'patient_id'].map(priority_group_dict)"
   ]
  },
  {
   "cell_type": "code",
   "execution_count": 15,
   "id": "666fe100-df93-4b55-b239-b584c9c994e3",
   "metadata": {},
   "outputs": [
    {
     "name": "stdout",
     "output_type": "stream",
     "text": [
      "\n"
     ]
    },
    {
     "data": {
      "text/plain": [
       "0.0     57\n",
       "1.0    135\n",
       "2.0     44\n",
       "3.0     46\n",
       "4.0      2\n",
       "5.0      4\n",
       "Name: swaps_to_perfect_order, dtype: int64"
      ]
     },
     "metadata": {},
     "output_type": "display_data"
    }
   ],
   "source": [
    "\n",
    "data_frames_dict = nu.load_data_frames(swaps_walk_wave_anova_df='', verbose=False)\n",
    "anova_df = data_frames_dict['swaps_walk_wave_anova_df']\n",
    "anova_df['scene_id'] = anova_df['scene_id'].fillna(0)\n",
    "for (session_uuid, scene_id), idx_df in anova_df.groupby(fu.scene_groupby_columns):\n",
    "\n",
    "    # Get the whole scene history\n",
    "    mask_series = True\n",
    "    for cn in fu.scene_groupby_columns: mask_series &= (elevens_df[cn] == eval(cn))\n",
    "    scene_df = elevens_df[mask_series]\n",
    "\n",
    "    # Add the swap measure\n",
    "    # actual_sequence, ideal_sequence, sort_dict = fu.get_actual_and_ideal_patient_sort_sequences(scene_df)\n",
    "    actual_sequence, ideal_sequence, sort_dict = fu.get_actual_and_ideal_priority_group_sequences(scene_df)\n",
    "    # print(actual_sequence, ideal_sequence, sort_dict); raise\n",
    "    unsort_dict = {v1: k for k, v in sort_dict.items() for v1 in v}\n",
    "    # print([unsort_dict[i] for i in ideal_sequence], [unsort_dict[a] for a in actual_sequence]); raise\n",
    "    swaps_to_perfect_order = nu.count_swaps_to_perfect_order(\n",
    "        [unsort_dict[i] for i in ideal_sequence], [unsort_dict[a] for a in actual_sequence]\n",
    "    )\n",
    "    # print(session_uuid, scene_id, swaps_to_perfect_order); raise\n",
    "    anova_df.loc[idx_df.index, 'swaps_to_perfect_order'] = swaps_to_perfect_order\n",
    "    \n",
    "    # Add the walker issue command\n",
    "    # is_walk_command_issued = fu.get_walk_value(scene_df)\n",
    "    # anova_df.loc[idx_df.index, 'walk_command_issued'] = is_walk_command_issued\n",
    "    \n",
    "    # Add the waver issue command\n",
    "    # is_wave_command_issued = fu.get_wave_value(scene_df)\n",
    "    # anova_df.loc[idx_df.index, 'wave_command_issued'] = is_wave_command_issued\n",
    "nu.save_data_frames(swaps_walk_wave_anova_df=anova_df, verbose=False)\n",
    "print()\n",
    "display(anova_df.swaps_to_perfect_order.value_counts().sort_index())"
   ]
  },
  {
   "cell_type": "code",
   "execution_count": 15,
   "id": "d0daf3d2-8307-4e72-afb6-8aa2ecbf2be4",
   "metadata": {},
   "outputs": [],
   "source": [
    "\n",
    "file_path = '../data/xlsx/anova290_df_Apr24_Final.xlsx'\n",
    "anova_apr24_final_df = pd.read_excel(file_path)"
   ]
  },
  {
   "cell_type": "code",
   "execution_count": 6,
   "id": "5b736883-a68e-40df-8b28-6ec84345af64",
   "metadata": {},
   "outputs": [],
   "source": [
    "\n",
    "def get_mean_percentage_tag_correct(percentage_tag_correct_df, session_uuid, scene_id, responder_category):\n",
    "    mean_percentage_tag_correct = 0\n",
    "    mask_series = (percentage_tag_correct_df.session_uuid == session_uuid) & (percentage_tag_correct_df.scene_id == scene_id)\n",
    "    mask_series &= (percentage_tag_correct_df.responder_category == responder_category)\n",
    "    if mask_series.any(): mean_percentage_tag_correct = percentage_tag_correct_df[mask_series].percentage_tag_correct.mean()\n",
    "    \n",
    "    return mean_percentage_tag_correct"
   ]
  },
  {
   "cell_type": "code",
   "execution_count": 7,
   "id": "5e2d97ec-f89e-4479-a722-5844d02f63f6",
   "metadata": {},
   "outputs": [],
   "source": [
    "\n",
    "# Create the tag-to-SALT data frame\n",
    "assert len(set(elevens_df.columns).intersection(set(fu.patient_groupby_columns))) == 3, \"You don't have all the patient columns\"\n",
    "tag_to_salt_df = fu.get_is_tag_correct_dataframe(elevens_df, groupby_column='responder_category')"
   ]
  },
  {
   "cell_type": "code",
   "execution_count": 8,
   "id": "94abd316-15aa-440c-812f-c04120874fb6",
   "metadata": {},
   "outputs": [],
   "source": [
    "\n",
    "# Get the percentage tag correct counts for each scene for each group\n",
    "percentage_tag_correct_df = fu.get_percentage_tag_correct_dataframe(tag_to_salt_df, groupby_column='responder_category')"
   ]
  },
  {
   "cell_type": "code",
   "execution_count": 9,
   "id": "72a057a4-c19e-45da-a61c-2928ea993b2f",
   "metadata": {},
   "outputs": [
    {
     "data": {
      "text/html": [
       "<div>\n",
       "<style scoped>\n",
       "    .dataframe tbody tr th:only-of-type {\n",
       "        vertical-align: middle;\n",
       "    }\n",
       "\n",
       "    .dataframe tbody tr th {\n",
       "        vertical-align: top;\n",
       "    }\n",
       "\n",
       "    .dataframe thead th {\n",
       "        text-align: right;\n",
       "    }\n",
       "</style>\n",
       "<table border=\"1\" class=\"dataframe\">\n",
       "  <thead>\n",
       "    <tr style=\"text-align: right;\">\n",
       "      <th></th>\n",
       "      <th>session_uuid</th>\n",
       "      <th>scene_id</th>\n",
       "      <th>responder_category</th>\n",
       "      <th>percentage_tag_correct</th>\n",
       "    </tr>\n",
       "  </thead>\n",
       "  <tbody>\n",
       "    <tr>\n",
       "      <th>36</th>\n",
       "      <td>1e7d274d-f393-4888-9f28-4de53b0260e3</td>\n",
       "      <td>0</td>\n",
       "      <td>Paramedic</td>\n",
       "      <td>0.000000</td>\n",
       "    </tr>\n",
       "    <tr>\n",
       "      <th>37</th>\n",
       "      <td>1e7d274d-f393-4888-9f28-4de53b0260e3</td>\n",
       "      <td>1</td>\n",
       "      <td>Paramedic</td>\n",
       "      <td>72.727273</td>\n",
       "    </tr>\n",
       "    <tr>\n",
       "      <th>171</th>\n",
       "      <td>9a6d2f32-10fb-40ea-bacc-dd6a7d2f4a13</td>\n",
       "      <td>0</td>\n",
       "      <td>Medical Student</td>\n",
       "      <td>0.000000</td>\n",
       "    </tr>\n",
       "    <tr>\n",
       "      <th>172</th>\n",
       "      <td>9a6d2f32-10fb-40ea-bacc-dd6a7d2f4a13</td>\n",
       "      <td>1</td>\n",
       "      <td>Medical Student</td>\n",
       "      <td>36.363636</td>\n",
       "    </tr>\n",
       "    <tr>\n",
       "      <th>185</th>\n",
       "      <td>a7804ee3-6a1c-4462-957a-17976a540483</td>\n",
       "      <td>0</td>\n",
       "      <td>EM Resident</td>\n",
       "      <td>0.000000</td>\n",
       "    </tr>\n",
       "    <tr>\n",
       "      <th>186</th>\n",
       "      <td>a7804ee3-6a1c-4462-957a-17976a540483</td>\n",
       "      <td>1</td>\n",
       "      <td>EM Resident</td>\n",
       "      <td>81.818182</td>\n",
       "    </tr>\n",
       "  </tbody>\n",
       "</table>\n",
       "</div>"
      ],
      "text/plain": [
       "                             session_uuid  scene_id responder_category  \\\n",
       "36   1e7d274d-f393-4888-9f28-4de53b0260e3         0          Paramedic   \n",
       "37   1e7d274d-f393-4888-9f28-4de53b0260e3         1          Paramedic   \n",
       "171  9a6d2f32-10fb-40ea-bacc-dd6a7d2f4a13         0    Medical Student   \n",
       "172  9a6d2f32-10fb-40ea-bacc-dd6a7d2f4a13         1    Medical Student   \n",
       "185  a7804ee3-6a1c-4462-957a-17976a540483         0        EM Resident   \n",
       "186  a7804ee3-6a1c-4462-957a-17976a540483         1        EM Resident   \n",
       "\n",
       "     percentage_tag_correct  \n",
       "36                 0.000000  \n",
       "37                72.727273  \n",
       "171                0.000000  \n",
       "172               36.363636  \n",
       "185                0.000000  \n",
       "186               81.818182  "
      ]
     },
     "metadata": {},
     "output_type": "display_data"
    }
   ],
   "source": [
    "\n",
    "remove_mask_series = (percentage_tag_correct_df.percentage_tag_correct == 0)\n",
    "session_uuids_list = percentage_tag_correct_df[remove_mask_series].session_uuid\n",
    "mask_series = percentage_tag_correct_df.session_uuid.isin(session_uuids_list)\n",
    "display(percentage_tag_correct_df[mask_series])\n",
    "percentage_tag_correct_df = percentage_tag_correct_df[~remove_mask_series]"
   ]
  },
  {
   "cell_type": "code",
   "execution_count": 12,
   "id": "2e31a364-697c-46c8-a013-078c88e91e1d",
   "metadata": {},
   "outputs": [],
   "source": [
    "\n",
    "# Compute error_type, removing \"Not Tagged\" from consideration\n",
    "def f(df):\n",
    "    if df.last_tag in fu.error_table_df.index: error_type = fu.error_table_df[fu.error_table_df.index == df.last_tag][df.max_salt].squeeze()\n",
    "    else: error_type = nan\n",
    "\n",
    "    return error_type\n",
    "groupby_columns = ['session_uuid', 'last_tag', 'max_salt', 'responder_category']\n",
    "anova_error_types_df = tag_to_salt_df.groupby(groupby_columns).patient_count.sum().to_frame().reset_index(drop=False)\n",
    "anova_error_types_df['error_type'] = anova_error_types_df.apply(f, axis='columns')\n",
    "\n",
    "# Convert the columns to the custom categorical type\n",
    "anova_error_types_df['last_tag'] = anova_error_types_df['last_tag'].astype(fu.colors_category_order)\n",
    "anova_error_types_df['max_salt'] = anova_error_types_df['max_salt'].astype(fu.salt_category_order)\n",
    "anova_error_types_df['error_type'] = anova_error_types_df['error_type'].astype(fu.errors_category_order)\n",
    "\n",
    "# Sort the Data Frame based on the custom categorical orders\n",
    "anova_error_types_df = anova_error_types_df.sort_values(by=groupby_columns+['error_type'])"
   ]
  },
  {
   "cell_type": "code",
   "execution_count": 13,
   "id": "b354e971-b41c-4ef1-841a-81427a9b35bf",
   "metadata": {},
   "outputs": [],
   "source": [
    "\n",
    "# Get triage error rates\n",
    "anova_error_rates_df = fu.create_triage_error_rates_dataframe(anova_error_types_df, groupby_columns=['session_uuid', 'responder_category'])"
   ]
  },
  {
   "cell_type": "code",
   "execution_count": 14,
   "id": "83932b34-d741-467d-b6f4-d2f15857f418",
   "metadata": {},
   "outputs": [],
   "source": [
    "\n",
    "mask_series = (elevens_df.scene_type == 'Triage') & (elevens_df.is_scene_aborted == False)\n",
    "gb = elevens_df[mask_series].sort_values(['session_uuid']).groupby(['file_name', 'session_file_name', 'session_uuid', 'responder_category', 'encounter_layout'])\n",
    "rows_list = []\n",
    "for i, ((file_name, session_file_name, session_uuid, responder_category, encounter_layout), session_df) in enumerate(gb):\n",
    "\n",
    "    # Get the tuple with the largest percentage correct\n",
    "    largest_tuple = sorted(\n",
    "        [(scene_df, scene_df.shape[0], scene_id) for scene_id, scene_df in session_df.groupby('scene_id')],\n",
    "        key=lambda x: get_mean_percentage_tag_correct(percentage_tag_correct_df, session_uuid, x[2], responder_category)\n",
    "    )[-1]\n",
    "    \n",
    "    responder_categories_df = largest_tuple[0]\n",
    "    scene_id = largest_tuple[2]\n",
    "    # scene_start = fu.get_scene_start(responder_categories_df)\n",
    "    row_dict = {\n",
    "        'ID': f'Responder {i+1}', 'Group': responder_category, 'file_name': file_name, 'session_file_name': session_file_name,\n",
    "        'session_uuid': session_uuid, 'scene_id': scene_id\n",
    "    }\n",
    "    row_dict['time_to_triage_scene'] = fu.get_triage_time(responder_categories_df)\n",
    "    row_dict['time_to_last_hemorrhage_controlled'] = fu.get_time_to_last_hemorrhage_controlled(responder_categories_df)\n",
    "    \n",
    "    # Duration of time from when the patient was first approached by the participant until\n",
    "    # the time hemorrhage treatment was applied (with a tourniquet or wound packing)\n",
    "    row_dict['time_to_hemorrhage_control_per_patient'] = fu.get_time_to_hemorrhage_control_per_patient(responder_categories_df)\n",
    "    \n",
    "    mask_series = (percentage_tag_correct_df.session_uuid == session_uuid) & (percentage_tag_correct_df.scene_id == scene_id)\n",
    "    mask_series &= (percentage_tag_correct_df.responder_category == responder_category)\n",
    "    if mask_series.any():\n",
    "        row_dict['mean_percentage_tag_correct'] = percentage_tag_correct_df[mask_series].percentage_tag_correct.mean()\n",
    "        \n",
    "        # Add the triage errors\n",
    "        mask_series = (anova_error_rates_df.responder_category == responder_category) & (anova_error_rates_df.session_uuid == session_uuid)\n",
    "        over_triage_error_rate = anova_error_rates_df[mask_series].over_triage_error_rate.squeeze()\n",
    "        if not isinstance(over_triage_error_rate, Series): row_dict['over_triage_error_rate'] = over_triage_error_rate\n",
    "        under_triage_error_rate = anova_error_rates_df[mask_series].under_triage_error_rate.squeeze()\n",
    "        if not isinstance(under_triage_error_rate, Series): row_dict['under_triage_error_rate'] = under_triage_error_rate\n",
    "        critical_triage_error_rate = anova_error_rates_df[mask_series].critical_triage_error_rate.squeeze()\n",
    "        if not isinstance(critical_triage_error_rate, Series): row_dict['critical_triage_error_rate'] = critical_triage_error_rate\n",
    "    \n",
    "    row_dict['encounter_layout'] = encounter_layout\n",
    "    rows_list.append(row_dict)\n",
    "anova_df = DataFrame(rows_list)\n",
    "anova_df.mean_percentage_tag_correct = anova_df.mean_percentage_tag_correct.apply(lambda x: f'{x:.8f}')\n",
    "anova_df.over_triage_error_rate = anova_df.over_triage_error_rate.apply(lambda x: f'{x:.1g}')\n",
    "anova_df.critical_triage_error_rate = anova_df.critical_triage_error_rate.apply(lambda x: f'{x:.0g}')"
   ]
  },
  {
   "cell_type": "code",
   "execution_count": 22,
   "id": "df8a7010-350e-4a29-b9db-96c21e77eaa9",
   "metadata": {},
   "outputs": [],
   "source": [
    "\n",
    "columns_list = [\n",
    "    'ID', 'Group', 'file_name', 'session_file_name', 'session_uuid', 'scene_id', 'time_to_triage_scene', 'time_to_last_hemorrhage_controlled',\n",
    "    'time_to_hemorrhage_control_per_patient', 'mean_percentage_tag_correct', 'over_triage_error_rate', 'under_triage_error_rate',\n",
    "    'critical_triage_error_rate', 'encounter_layout'\n",
    "]\n",
    "anova_df = anova_apr24_final_df.merge(anova_df[fu.scene_groupby_columns], on=['session_uuid'], how='left')[columns_list]"
   ]
  },
  {
   "cell_type": "markdown",
   "id": "c5ba39cd-565d-489e-9970-d7bf9e811280",
   "metadata": {},
   "source": [
    "\n",
    "We are requesting some additional data and I'm hoping this is possible. When convenient, could you add to the anova_df data set one column for each measure below and indicate for each responder as follows:<ul>\n",
    "    <li>swap measure: put the number of patient swaps (0,1,2,3,4,5)</li>\n",
    "    <li>walker issue command: whether the responder issued the walk command (1) or not (0)</li>\n",
    "    <li>waver issue command: whether the responder issued the wave command (1) or not (0)</li>\n",
    "</ul>\n",
    "So it should like this:<table>\n",
    "<tr><th>ID</th><th>swap measure</th><th>walker command</th><th>wave command</th></tr>\n",
    "<tr><td>Responder 1</td><td>0</td><td>1</td><td>1</td></tr>\n",
    "<tr><td>Responder 2</td><td>2</td><td>1</td><td>1</td></tr>\n",
    "<tr><td>Responder 3</td><td>1</td><td>0</td><td>1</td></tr></table>"
   ]
  },
  {
   "cell_type": "code",
   "execution_count": 12,
   "id": "7618e059-d44b-4370-a991-d1ea281ecdb6",
   "metadata": {},
   "outputs": [
    {
     "data": {
      "text/plain": [
       "{'still': [776077, 911486, 1062509], 'waver': [809173, 839663, 887011, 937908, 1014710], 'walker': [880111, 882317, 902815]}"
      ]
     },
     "execution_count": 12,
     "metadata": {},
     "output_type": "execute_result"
    }
   ],
   "source": [
    "\n",
    "sort_dict"
   ]
  },
  {
   "cell_type": "code",
   "execution_count": 13,
   "id": "2ebc181c-37cb-4b13-baa3-3172ad3dfe9a",
   "metadata": {},
   "outputs": [
    {
     "data": {
      "text/plain": [
       "{776077: 'still', 911486: 'still', 1062509: 'still', 809173: 'waver', 839663: 'waver', 887011: 'waver', 937908: 'waver', 1014710: 'waver', 880111: 'walker', 882317: 'walker', 902815: 'walker'}"
      ]
     },
     "execution_count": 13,
     "metadata": {},
     "output_type": "execute_result"
    }
   ],
   "source": [
    "\n",
    "unsort_dict"
   ]
  },
  {
   "cell_type": "code",
   "execution_count": 14,
   "id": "1f0640b3-ef5f-46ee-bc8c-6ec51d4a30d0",
   "metadata": {},
   "outputs": [
    {
     "name": "stdout",
     "output_type": "stream",
     "text": [
      "['still', 'still', 'still', 'waver', 'waver', 'waver', 'waver', 'waver', 'walker', 'walker', 'walker'] ['still', 'waver', 'waver', 'walker', 'walker', 'waver', 'walker', 'still', 'waver', 'waver', 'still']\n"
     ]
    }
   ],
   "source": [
    "\n",
    "print([unsort_dict[i] for i in ideal_sequence], [unsort_dict[a] for a in actual_sequence])"
   ]
  },
  {
   "cell_type": "code",
   "execution_count": 16,
   "id": "a7559e8a-ad9a-4f57-a040-408e00d98c48",
   "metadata": {},
   "outputs": [
    {
     "data": {
      "text/plain": [
       "\u001b[0;31mSignature:\u001b[0m \u001b[0mnu\u001b[0m\u001b[0;34m.\u001b[0m\u001b[0mcount_swaps_to_perfect_order\u001b[0m\u001b[0;34m(\u001b[0m\u001b[0mideal_list\u001b[0m\u001b[0;34m,\u001b[0m \u001b[0mcompared_list\u001b[0m\u001b[0;34m,\u001b[0m \u001b[0mverbose\u001b[0m\u001b[0;34m=\u001b[0m\u001b[0;32mFalse\u001b[0m\u001b[0;34m)\u001b[0m\u001b[0;34m\u001b[0m\u001b[0;34m\u001b[0m\u001b[0m\n",
       "\u001b[0;31mSource:\u001b[0m   \n",
       "    \u001b[0;34m@\u001b[0m\u001b[0mstaticmethod\u001b[0m\u001b[0;34m\u001b[0m\n",
       "\u001b[0;34m\u001b[0m    \u001b[0;32mdef\u001b[0m \u001b[0mcount_swaps_to_perfect_order\u001b[0m\u001b[0;34m(\u001b[0m\u001b[0mideal_list\u001b[0m\u001b[0;34m,\u001b[0m \u001b[0mcompared_list\u001b[0m\u001b[0;34m,\u001b[0m \u001b[0mverbose\u001b[0m\u001b[0;34m=\u001b[0m\u001b[0;32mFalse\u001b[0m\u001b[0;34m)\u001b[0m\u001b[0;34m:\u001b[0m\u001b[0;34m\u001b[0m\n",
       "\u001b[0;34m\u001b[0m        \u001b[0;34m\"\"\"\u001b[0m\n",
       "\u001b[0;34m        Counts the number of swaps required to make compared_list identical to ideal_list\u001b[0m\n",
       "\u001b[0;34m        without penalizing lists with repeated elements.\u001b[0m\n",
       "\u001b[0;34m        \u001b[0m\n",
       "\u001b[0;34m        Parameters:\u001b[0m\n",
       "\u001b[0;34m            ideal_list (list): The list representing the ideal order.\u001b[0m\n",
       "\u001b[0;34m            compared_list (list): The list to be compared and modified.\u001b[0m\n",
       "\u001b[0;34m        \u001b[0m\n",
       "\u001b[0;34m        Returns:\u001b[0m\n",
       "\u001b[0;34m            int: The number of swaps required.\u001b[0m\n",
       "\u001b[0;34m        \u001b[0m\n",
       "\u001b[0;34m        Raises:\u001b[0m\n",
       "\u001b[0;34m            ValueError: If the lengths of 'ideal_list' and 'compared_list' are not equal.\u001b[0m\n",
       "\u001b[0;34m        \"\"\"\u001b[0m\u001b[0;34m\u001b[0m\n",
       "\u001b[0;34m\u001b[0m        \u001b[0;34m\u001b[0m\n",
       "\u001b[0;34m\u001b[0m        \u001b[0;31m# Check if lengths of lists are equal\u001b[0m\u001b[0;34m\u001b[0m\n",
       "\u001b[0;34m\u001b[0m        \u001b[0mn\u001b[0m \u001b[0;34m=\u001b[0m \u001b[0mlen\u001b[0m\u001b[0;34m(\u001b[0m\u001b[0mideal_list\u001b[0m\u001b[0;34m)\u001b[0m\u001b[0;34m\u001b[0m\n",
       "\u001b[0;34m\u001b[0m        \u001b[0;32mif\u001b[0m \u001b[0mn\u001b[0m \u001b[0;34m!=\u001b[0m \u001b[0mlen\u001b[0m\u001b[0;34m(\u001b[0m\u001b[0mcompared_list\u001b[0m\u001b[0;34m)\u001b[0m\u001b[0;34m:\u001b[0m \u001b[0;32mraise\u001b[0m \u001b[0mValueError\u001b[0m\u001b[0;34m(\u001b[0m\u001b[0;34m'Lists must be of equal length'\u001b[0m\u001b[0;34m)\u001b[0m\u001b[0;34m\u001b[0m\n",
       "\u001b[0;34m\u001b[0m        \u001b[0mswaps\u001b[0m \u001b[0;34m=\u001b[0m \u001b[0;36m0\u001b[0m\u001b[0;34m\u001b[0m\n",
       "\u001b[0;34m\u001b[0m        \u001b[0;34m\u001b[0m\n",
       "\u001b[0;34m\u001b[0m        \u001b[0;31m# Create a dictionary to store the indices of elements in the ideal_list\u001b[0m\u001b[0;34m\u001b[0m\n",
       "\u001b[0;34m\u001b[0m        \u001b[0mideal_indices\u001b[0m \u001b[0;34m=\u001b[0m \u001b[0;34m{\u001b[0m\u001b[0melement\u001b[0m\u001b[0;34m:\u001b[0m \u001b[0mi\u001b[0m \u001b[0;32mfor\u001b[0m \u001b[0mi\u001b[0m\u001b[0;34m,\u001b[0m \u001b[0melement\u001b[0m \u001b[0;32min\u001b[0m \u001b[0menumerate\u001b[0m\u001b[0;34m(\u001b[0m\u001b[0mideal_list\u001b[0m\u001b[0;34m)\u001b[0m\u001b[0;34m}\u001b[0m\u001b[0;34m\u001b[0m\n",
       "\u001b[0;34m\u001b[0m        \u001b[0;34m\u001b[0m\n",
       "\u001b[0;34m\u001b[0m        \u001b[0;31m# Iterate through the compared list\u001b[0m\u001b[0;34m\u001b[0m\n",
       "\u001b[0;34m\u001b[0m        \u001b[0;32mfor\u001b[0m \u001b[0mi\u001b[0m \u001b[0;32min\u001b[0m \u001b[0mrange\u001b[0m\u001b[0;34m(\u001b[0m\u001b[0mn\u001b[0m\u001b[0;34m)\u001b[0m\u001b[0;34m:\u001b[0m\u001b[0;34m\u001b[0m\n",
       "\u001b[0;34m\u001b[0m            \u001b[0;34m\u001b[0m\n",
       "\u001b[0;34m\u001b[0m            \u001b[0;31m# If the element is not in its correct position\u001b[0m\u001b[0;34m\u001b[0m\n",
       "\u001b[0;34m\u001b[0m            \u001b[0;32mif\u001b[0m \u001b[0mcompared_list\u001b[0m\u001b[0;34m[\u001b[0m\u001b[0mi\u001b[0m\u001b[0;34m]\u001b[0m \u001b[0;34m!=\u001b[0m \u001b[0mideal_list\u001b[0m\u001b[0;34m[\u001b[0m\u001b[0mi\u001b[0m\u001b[0;34m]\u001b[0m\u001b[0;34m:\u001b[0m\u001b[0;34m\u001b[0m\n",
       "\u001b[0;34m\u001b[0m                \u001b[0;34m\u001b[0m\n",
       "\u001b[0;34m\u001b[0m                \u001b[0;31m# Find the correct position of the element in ideal_list\u001b[0m\u001b[0;34m\u001b[0m\n",
       "\u001b[0;34m\u001b[0m                \u001b[0mcorrect_index\u001b[0m \u001b[0;34m=\u001b[0m \u001b[0mideal_indices\u001b[0m\u001b[0;34m[\u001b[0m\u001b[0mcompared_list\u001b[0m\u001b[0;34m[\u001b[0m\u001b[0mi\u001b[0m\u001b[0;34m]\u001b[0m\u001b[0;34m]\u001b[0m\u001b[0;34m\u001b[0m\n",
       "\u001b[0;34m\u001b[0m    \u001b[0;34m\u001b[0m\n",
       "\u001b[0;34m\u001b[0m                \u001b[0;31m# Swap the elements\u001b[0m\u001b[0;34m\u001b[0m\n",
       "\u001b[0;34m\u001b[0m                \u001b[0mcompared_list\u001b[0m\u001b[0;34m[\u001b[0m\u001b[0mi\u001b[0m\u001b[0;34m]\u001b[0m\u001b[0;34m,\u001b[0m \u001b[0mcompared_list\u001b[0m\u001b[0;34m[\u001b[0m\u001b[0mcorrect_index\u001b[0m\u001b[0;34m]\u001b[0m \u001b[0;34m=\u001b[0m \u001b[0mcompared_list\u001b[0m\u001b[0;34m[\u001b[0m\u001b[0mcorrect_index\u001b[0m\u001b[0;34m]\u001b[0m\u001b[0;34m,\u001b[0m \u001b[0mcompared_list\u001b[0m\u001b[0;34m[\u001b[0m\u001b[0mi\u001b[0m\u001b[0;34m]\u001b[0m\u001b[0;34m\u001b[0m\n",
       "\u001b[0;34m\u001b[0m                \u001b[0mswaps\u001b[0m \u001b[0;34m+=\u001b[0m \u001b[0;36m1\u001b[0m\u001b[0;34m\u001b[0m\n",
       "\u001b[0;34m\u001b[0m    \u001b[0;34m\u001b[0m\n",
       "\u001b[0;34m\u001b[0m        \u001b[0;32mreturn\u001b[0m \u001b[0mswaps\u001b[0m\u001b[0;34m\u001b[0m\u001b[0;34m\u001b[0m\u001b[0m\n",
       "\u001b[0;31mFile:\u001b[0m      /mnt/c/Users/DaveBabbitt/Documents/GitHub/itm-analysis-reporting/py/FRVRS/notebook_utils.py\n",
       "\u001b[0;31mType:\u001b[0m      function\n"
      ]
     },
     "metadata": {},
     "output_type": "display_data"
    }
   ],
   "source": [
    "\n",
    "nu.count_swaps_to_perfect_order??"
   ]
  },
  {
   "cell_type": "code",
   "execution_count": null,
   "id": "b9cd07df-a363-4d1f-8529-11fc3abd74b8",
   "metadata": {},
   "outputs": [],
   "source": []
  }
 ],
 "metadata": {
  "kernelspec": {
   "display_name": "ITM Analysis Reporting (Python 3.11.7)",
   "language": "python",
   "name": "itm_analysis_reporting"
  },
  "language_info": {
   "codemirror_mode": {
    "name": "ipython",
    "version": 3
   },
   "file_extension": ".py",
   "mimetype": "text/x-python",
   "name": "python",
   "nbconvert_exporter": "python",
   "pygments_lexer": "ipython3",
   "version": "3.7.12"
  }
 },
 "nbformat": 4,
 "nbformat_minor": 5
}
