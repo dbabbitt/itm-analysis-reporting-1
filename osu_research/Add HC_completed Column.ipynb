{
 "cells": [
  {
   "cell_type": "code",
   "execution_count": 2,
   "id": "836e5879-774d-4077-8229-e28c716eb1e4",
   "metadata": {},
   "outputs": [
    {
     "name": "stdout",
     "output_type": "stream",
     "text": [
      "Pretty printing has been turned OFF\n"
     ]
    }
   ],
   "source": [
    "\n",
    "# Set up notebook\n",
    "%pprint\n",
    "import sys\n",
    "if (osp.join(os.pardir, 'py') not in sys.path): sys.path.insert(1, osp.join(os.pardir, 'py'))"
   ]
  },
  {
   "cell_type": "code",
   "execution_count": 3,
   "id": "976f9f87-e5a1-4a53-a15b-60a13236077d",
   "metadata": {},
   "outputs": [],
   "source": [
    "\n",
    "# load libraries\n",
    "from FRVRS import (nu, fu, display, osp, read_excel)\n",
    "from pandas import get_dummies\n",
    "from re import split, search, sub, MULTILINE\n",
    "from scipy.stats import f_oneway, ttest_ind, kruskal, norm\n",
    "import itertools"
   ]
  },
  {
   "cell_type": "markdown",
   "id": "3a6a0ab3-580a-4bf3-9c9f-f279ea31a1c4",
   "metadata": {},
   "source": [
    "\n",
    "### Add a column \"HC_completed\" where you provide a 1 for hemorrage control completed for that responder for the scene and a 0 for those that didnt"
   ]
  },
  {
   "cell_type": "code",
   "execution_count": 6,
   "id": "0859205f-cde2-41ba-88ef-fd79df26816b",
   "metadata": {},
   "outputs": [
    {
     "name": "stdout",
     "output_type": "stream",
     "text": [
      "triage_paper_df 367627 290 111\n",
      "file_stats_df 290 290 19\n",
      "scene_stats_df 420 290 48\n",
      "count_swaps_df 315 289 3\n"
     ]
    }
   ],
   "source": [
    "\n",
    "# load data frames\n",
    "data_frames_dict = nu.load_data_frames(\n",
    "    first_responder_master_registry_df='', first_responder_master_registry_file_stats_df='',\n",
    "    first_responder_master_registry_scene_stats_df='', count_swaps_df='',\n",
    "    verbose=False\n",
    ")\n",
    "triage_paper_df = data_frames_dict['first_responder_master_registry_df']\n",
    "print('triage_paper_df', triage_paper_df.shape[0], triage_paper_df.session_uuid.nunique(), triage_paper_df.shape[1]) # 367627 290 111\n",
    "file_stats_df = data_frames_dict['first_responder_master_registry_file_stats_df']\n",
    "print('file_stats_df', file_stats_df.shape[0], file_stats_df.file_name.nunique(), file_stats_df.shape[1]) # 290 290 19\n",
    "scene_stats_df = data_frames_dict['first_responder_master_registry_scene_stats_df']\n",
    "print('scene_stats_df', scene_stats_df.shape[0], scene_stats_df.session_uuid.nunique(), scene_stats_df.shape[1]) # 420 290 48\n",
    "count_swaps_df = data_frames_dict['count_swaps_df']\n",
    "print('count_swaps_df', count_swaps_df.shape[0], count_swaps_df.session_uuid.nunique(), count_swaps_df.shape[1]) # 289 289 3"
   ]
  },
  {
   "cell_type": "code",
   "execution_count": 7,
   "id": "14bd3168-7926-484a-8111-fac73e19b627",
   "metadata": {},
   "outputs": [],
   "source": [
    "\n",
    "groups_list = ['Paramedic', 'EMT-Basic', 'EM Resident', 'Medical Student']\n",
    "patient_count_filter_fn = lambda scene_df: True\n",
    "nongrouped_patients_list = nu.load_object('nongrouped_patients_list')"
   ]
  },
  {
   "cell_type": "code",
   "execution_count": 8,
   "id": "f7aa220e-abaf-4c0d-9226-3f4f37f822b3",
   "metadata": {},
   "outputs": [
    {
     "name": "stdout",
     "output_type": "stream",
     "text": [
      "elevens_df 365543 289 120\n",
      "elevens_df 365521 289 120\n"
     ]
    },
    {
     "data": {
      "text/html": [
       "<div>\n",
       "<style scoped>\n",
       "    .dataframe tbody tr th:only-of-type {\n",
       "        vertical-align: middle;\n",
       "    }\n",
       "\n",
       "    .dataframe tbody tr th {\n",
       "        vertical-align: top;\n",
       "    }\n",
       "\n",
       "    .dataframe thead th {\n",
       "        text-align: right;\n",
       "    }\n",
       "</style>\n",
       "<table border=\"1\" class=\"dataframe\">\n",
       "  <thead>\n",
       "    <tr style=\"text-align: right;\">\n",
       "      <th></th>\n",
       "      <th>record_count</th>\n",
       "    </tr>\n",
       "    <tr>\n",
       "      <th>encounter_layout</th>\n",
       "      <th></th>\n",
       "    </tr>\n",
       "  </thead>\n",
       "  <tbody>\n",
       "    <tr>\n",
       "      <th>First 11</th>\n",
       "      <td>365238</td>\n",
       "    </tr>\n",
       "  </tbody>\n",
       "</table>\n",
       "</div>"
      ],
      "text/plain": [
       "                  record_count\n",
       "encounter_layout              \n",
       "First 11                365238"
      ]
     },
     "metadata": {},
     "output_type": "display_data"
    },
    {
     "name": "stdout",
     "output_type": "stream",
     "text": [
      "elevens_df 365521 289 120\n",
      "elevens_df 358586 282 120\n"
     ]
    }
   ],
   "source": [
    "\n",
    "# Merge only count swaps scenes\n",
    "elevens_df = fu.get_elevens_dataframe(\n",
    "    triage_paper_df,\n",
    "    file_stats_df,\n",
    "    scene_stats_df,\n",
    "    needed_columns=[\n",
    "        'scene_type', 'is_scene_aborted', 'is_a_one_triage_file', 'responder_category', 'responder_type', 'overall_category',\n",
    "        'file_name', 'session_file_name', 'encounter_layout'\n",
    "    ],\n",
    "    patient_count_filter_fn=None\n",
    ")\n",
    "print('elevens_df', elevens_df.shape[0], elevens_df.session_uuid.nunique(), elevens_df.shape[1]) # 397230 331 121\n",
    "\n",
    "# Get a dataset of only first11 patients\n",
    "mask_series = ~elevens_df.patient_id.isin(nongrouped_patients_list)\n",
    "elevens_df = elevens_df[mask_series]\n",
    "print('elevens_df', elevens_df.shape[0], elevens_df.session_uuid.nunique(), elevens_df.shape[1]) # 390108 331 121\n",
    "\n",
    "# Get a dataset of only \"First 11\" encounter layouts\n",
    "mask_series = (elevens_df.encounter_layout == 'DCEMS 11')\n",
    "display(elevens_df.groupby('encounter_layout').size().to_frame().rename(columns={0: 'record_count'}).sort_values(\n",
    "    'record_count', ascending=False\n",
    ").head(5))\n",
    "elevens_df = elevens_df[~mask_series]\n",
    "print('elevens_df', elevens_df.shape[0], elevens_df.session_uuid.nunique(), elevens_df.shape[1]) # 367025 295 119\n",
    "\n",
    "mask_series = elevens_df.responder_category.isin(groups_list)\n",
    "elevens_df = elevens_df[mask_series]\n",
    "print('elevens_df', elevens_df.shape[0], elevens_df.session_uuid.nunique(), elevens_df.shape[1]) # 367025 295 119"
   ]
  },
  {
   "cell_type": "code",
   "execution_count": 29,
   "id": "7936a1ff-2d06-40dd-a486-b4989a7b0e07",
   "metadata": {},
   "outputs": [
    {
     "name": "stdout",
     "output_type": "stream",
     "text": [
      "(291, 17)\n"
     ]
    }
   ],
   "source": [
    "\n",
    "file_name = 'swaps_walk_wave_anova_df20240516.xlsx'\n",
    "file_path = osp.join(nu.data_folder, 'xlsx', file_name)\n",
    "swaps_walk_wave_df = read_excel(file_path)\n",
    "print(swaps_walk_wave_df.shape)\n",
    "for (session_uuid, scene_id), idx_df in swaps_walk_wave_df.groupby(fu.scene_groupby_columns):\n",
    "\n",
    "    # Get the whole scene history\n",
    "    mask_series = True\n",
    "    for cn in fu.scene_groupby_columns: mask_series &= (triage_paper_df[cn] == eval(cn))\n",
    "    if mask_series.any():\n",
    "        scene_df = triage_paper_df[mask_series]\n",
    "        swaps_walk_wave_df.loc[idx_df.index, 'HC_completed'] = int(fu.get_percent_hemorrhage_controlled(scene_df) == 100)\n",
    "    else:\n",
    "        display(idx_df.T)\n",
    "        break"
   ]
  },
  {
   "cell_type": "code",
   "execution_count": 30,
   "id": "b74ea64d-1126-46cb-9fa3-e2c1b36c6b30",
   "metadata": {},
   "outputs": [
    {
     "name": "stdout",
     "output_type": "stream",
     "text": [
      "Saving to /mnt/c/Users/DaveBabbitt/Documents/GitHub/itm-analysis-reporting/saves/csv/swaps_walk_wave_df20240520.csv\n"
     ]
    }
   ],
   "source": [
    "\n",
    "nu.save_data_frames(swaps_walk_wave_df20240520=swaps_walk_wave_df, verbose=True)"
   ]
  },
  {
   "cell_type": "code",
   "execution_count": null,
   "id": "ec9fec6f-d8fc-4892-a93d-a1f205a5a3ca",
   "metadata": {},
   "outputs": [],
   "source": []
  }
 ],
 "metadata": {
  "kernelspec": {
   "display_name": "ITM Analysis Reporting (Python 3.11.7)",
   "language": "python",
   "name": "itm_analysis_reporting"
  },
  "language_info": {
   "codemirror_mode": {
    "name": "ipython",
    "version": 3
   },
   "file_extension": ".py",
   "mimetype": "text/x-python",
   "name": "python",
   "nbconvert_exporter": "python",
   "pygments_lexer": "ipython3",
   "version": "3.7.12"
  }
 },
 "nbformat": 4,
 "nbformat_minor": 5
}
