{
 "cells": [
  {
   "cell_type": "code",
   "execution_count": 1,
   "id": "e60cf2be-aada-4047-a4ac-afbe80c27341",
   "metadata": {},
   "outputs": [
    {
     "name": "stdout",
     "output_type": "stream",
     "text": [
      "Pretty printing has been turned OFF\n"
     ]
    }
   ],
   "source": [
    "\n",
    "%pprint\n",
    "import sys\n",
    "if (osp.join(os.pardir, 'py') not in sys.path): sys.path.insert(1, osp.join(os.pardir, 'py'))"
   ]
  },
  {
   "cell_type": "code",
   "execution_count": 2,
   "id": "75ff1d8a-2320-4a90-983e-e65e3318f5ed",
   "metadata": {},
   "outputs": [],
   "source": [
    "\n",
    "from FRVRS import (nu, fu, DataFrame, np, re)\n",
    "import pandas as pd"
   ]
  },
  {
   "cell_type": "code",
   "execution_count": 3,
   "id": "b7800930-fa2b-43ee-ac4d-4ac312d0459a",
   "metadata": {},
   "outputs": [
    {
     "name": "stdout",
     "output_type": "stream",
     "text": [
      "Attempting to load /mnt/c/Users/DaveBabbitt/Documents/GitHub/itm-analysis-reporting/saves/pkl/frvrs_logs_df.pkl.\n",
      "Attempting to load /mnt/c/Users/DaveBabbitt/Documents/GitHub/itm-analysis-reporting/saves/pkl/scene_stats_df.pkl.\n"
     ]
    }
   ],
   "source": [
    "\n",
    "# load data frames\n",
    "data_frames_dict = nu.load_data_frames(frvrs_logs_df='frvrs_logs_df', scene_stats_df='scene_stats_df')"
   ]
  },
  {
   "cell_type": "markdown",
   "id": "a299bea0-1431-4a97-bcdc-8a5f354728fd",
   "metadata": {},
   "source": [
    "\n",
    "# Build a Model to Predict Measure of Right Ordering"
   ]
  },
  {
   "cell_type": "markdown",
   "id": "2b2169a8-549f-402e-9ca2-2695a03d90c0",
   "metadata": {},
   "source": [
    "\n",
    "## Create a data frame with all the feature columns"
   ]
  },
  {
   "cell_type": "code",
   "execution_count": 4,
   "id": "4b8d5094-48c2-494c-a14c-22a2ccbcaa90",
   "metadata": {},
   "outputs": [],
   "source": [
    "\n",
    "scene_stats_df = data_frames_dict['scene_stats_df']\n",
    "scene_stats_df.drop(columns=['is_cluster2'], inplace=True)\n",
    "# print(sorted(scene_stats_df.columns))"
   ]
  },
  {
   "cell_type": "code",
   "execution_count": 5,
   "id": "004aa9db-c9b4-4568-a943-f4ce69c4d36d",
   "metadata": {},
   "outputs": [],
   "source": [
    "\n",
    "# Ensure that you have no duplicate columns in the data frame\n",
    "mask_series = scene_stats_df.columns.duplicated(keep='first')\n",
    "if mask_series.any():\n",
    "    print(scene_stats_df.shape)\n",
    "    print(scene_stats_df.columns[mask_series].tolist())\n",
    "    \n",
    "    # Drop the duplicate columns using the mask\n",
    "    scene_stats_df.drop(scene_stats_df.columns[mask_series], axis='columns', inplace=True)\n",
    "    print(scene_stats_df.shape)"
   ]
  },
  {
   "cell_type": "code",
   "execution_count": 6,
   "id": "43028f7c-ff8d-497f-8d47-4ec64598953f",
   "metadata": {},
   "outputs": [
    {
     "name": "stdout",
     "output_type": "stream",
     "text": [
      "(829116, 125)\n"
     ]
    }
   ],
   "source": [
    "\n",
    "frvrs_logs_df = data_frames_dict['frvrs_logs_df']\n",
    "print(frvrs_logs_df.shape) # (829116, 125)"
   ]
  },
  {
   "cell_type": "code",
   "execution_count": 7,
   "id": "16dbaf59-6728-4969-9745-82123cd8ac40",
   "metadata": {},
   "outputs": [],
   "source": [
    "\n",
    "# Add the target variable values back into scene stats\n",
    "target_variable = 'measure_of_right_ordering'\n",
    "if (target_variable not in scene_stats_df.columns) and (target_variable in frvrs_logs_df.columns):\n",
    "    for (session_uuid, scene_id, target_variable_value), _ in frvrs_logs_df.groupby(fu.scene_groupby_columns+[target_variable]):\n",
    "        mask_series = True\n",
    "        for cn in fu.scene_groupby_columns: mask_series &= (scene_stats_df[cn] == eval(cn))\n",
    "        scene_stats_df.loc[mask_series, target_variable] = target_variable_value"
   ]
  },
  {
   "cell_type": "code",
   "execution_count": 8,
   "id": "50a40dc5-d951-4c11-b566-f7367e106f6d",
   "metadata": {},
   "outputs": [],
   "source": [
    "\n",
    "# Remove columns to get the best input features\n",
    "input_features = list(set(scene_stats_df.columns) - set([\n",
    "    target_variable, 'session_uuid', 'adherence_to_salt', 'stills_value', 'walkers_value', 'actual_distracted_delta', 'measure_of_ideal_ordering',\n",
    "    'actual_engagement_distance', 'actual_ideal_delta', 'measure_of_distracted_ordering', 'ideal_engagement_distance', 'distracted_engagement_distance'\n",
    "]))"
   ]
  },
  {
   "cell_type": "code",
   "execution_count": 9,
   "id": "75fc9b6b-34ba-4d9c-ad3f-0589e6a52bea",
   "metadata": {},
   "outputs": [
    {
     "name": "stdout",
     "output_type": "stream",
     "text": [
      "(551, 39)\n"
     ]
    }
   ],
   "source": [
    "\n",
    "# Keep track of the target variable and input features columns\n",
    "columns_list = [target_variable] + input_features\n",
    "scene_history_df = scene_stats_df[columns_list].dropna(axis='columns', how='all').dropna(axis='index', how='any')\n",
    "print(scene_history_df.shape) # (616, 39)"
   ]
  },
  {
   "cell_type": "markdown",
   "id": "cc6671fc-60c4-4ed8-a763-158e4fddfcdb",
   "metadata": {},
   "source": [
    "\n",
    "## One-hot encode it"
   ]
  },
  {
   "cell_type": "code",
   "execution_count": 10,
   "id": "458d10d3-29fb-45a3-a6ee-bdbde6218a56",
   "metadata": {},
   "outputs": [
    {
     "data": {
      "text/html": [
       "<div>\n",
       "<style scoped>\n",
       "    .dataframe tbody tr th:only-of-type {\n",
       "        vertical-align: middle;\n",
       "    }\n",
       "\n",
       "    .dataframe tbody tr th {\n",
       "        vertical-align: top;\n",
       "    }\n",
       "\n",
       "    .dataframe thead th {\n",
       "        text-align: right;\n",
       "    }\n",
       "</style>\n",
       "<table border=\"1\" class=\"dataframe\">\n",
       "  <thead>\n",
       "    <tr style=\"text-align: right;\">\n",
       "      <th></th>\n",
       "      <th>column_name</th>\n",
       "      <th>dtype</th>\n",
       "      <th>count_blanks</th>\n",
       "      <th>count_uniques</th>\n",
       "      <th>count_zeroes</th>\n",
       "      <th>has_dates</th>\n",
       "      <th>min_value</th>\n",
       "      <th>max_value</th>\n",
       "      <th>only_integers</th>\n",
       "    </tr>\n",
       "  </thead>\n",
       "  <tbody>\n",
       "    <tr>\n",
       "      <th>38</th>\n",
       "      <td>scene_type</td>\n",
       "      <td>object</td>\n",
       "      <td>0</td>\n",
       "      <td>2</td>\n",
       "      <td>0</td>\n",
       "      <td>False</td>\n",
       "      <td>Orientation</td>\n",
       "      <td>Triage</td>\n",
       "      <td>NaN</td>\n",
       "    </tr>\n",
       "  </tbody>\n",
       "</table>\n",
       "</div>"
      ],
      "text/plain": [
       "   column_name   dtype  count_blanks  count_uniques  count_zeroes  has_dates  \\\n",
       "38  scene_type  object             0              2             0      False   \n",
       "\n",
       "      min_value max_value only_integers  \n",
       "38  Orientation    Triage           NaN  "
      ]
     },
     "metadata": {},
     "output_type": "display_data"
    }
   ],
   "source": [
    "\n",
    "# Analyze the data frame for input features that need to be encoded\n",
    "column_descriptions_df = nu.get_column_descriptions(scene_history_df.sample(min(2000, scene_history_df.shape[0])))\n",
    "mask_series = (column_descriptions_df.dtype == 'object')\n",
    "df = column_descriptions_df[mask_series]\n",
    "display(df)\n",
    "encodeable_columns = list(set(df.column_name) - set([target_variable]))"
   ]
  },
  {
   "cell_type": "code",
   "execution_count": 11,
   "id": "f18464dd-351f-440a-b636-39fab5bf91b4",
   "metadata": {},
   "outputs": [
    {
     "name": "stdout",
     "output_type": "stream",
     "text": [
      "(551, 41)\n",
      "['scene_type_nan']\n"
     ]
    }
   ],
   "source": [
    "\n",
    "# One-hot encode the input features columns in the one-hot encoded data frame\n",
    "ascii_regex = re.compile('[^a-z0-9]+')\n",
    "one_hot_encode_df = nu.one_hot_encode(scene_history_df, encodeable_columns)\n",
    "one_hot_encode_df = one_hot_encode_df.rename(columns={cn: ascii_regex.sub('_', cn.lower()).strip('_') for cn in one_hot_encode_df.columns})\n",
    "columns_obj = one_hot_encode_df.columns\n",
    "assert len(columns_obj) == len(set(columns_obj)), f\"Duplicate column names: {columns_obj[columns_obj.duplicated()].tolist()}\"\n",
    "columns_list = [cn for cn in one_hot_encode_df.columns if any(map(lambda x: cn.endswith(x), ['_null', '_nan']))]\n",
    "print(one_hot_encode_df.shape) # (31, 79)\n",
    "print(columns_list)\n",
    "# df = one_hot_encode_df.sample(min(12, one_hot_encode_df.shape[0])).dropna(axis='columns', how='all').T\n",
    "# display(df.sample(min(20, df.shape[0])).sort_index())"
   ]
  },
  {
   "cell_type": "markdown",
   "id": "c160de0d-0c05-4ab2-8b7f-7cf47dfa1e1a",
   "metadata": {},
   "source": [
    "\n",
    "## Train a model on it"
   ]
  },
  {
   "cell_type": "code",
   "execution_count": 12,
   "id": "9521b7d3-c00b-4e67-8857-49daac7ec2bf",
   "metadata": {},
   "outputs": [],
   "source": [
    "\n",
    "# Train a model on the scene history data frame\n",
    "from sklearn.linear_model import LinearRegression\n",
    "from sklearn.tree import DecisionTreeRegressor\n",
    "from sklearn.model_selection import train_test_split\n",
    "\n",
    "# Split the data into training and test sets\n",
    "df = one_hot_encode_df.dropna(axis='index', how='any')\n",
    "X_train, X_test, y_train, y_test = train_test_split(\n",
    "    df.drop([target_variable], axis='columns'),\n",
    "    df[target_variable],\n",
    "    test_size=0.25,\n",
    "    random_state=42\n",
    ")\n",
    "\n",
    "# Convert the uint8 features to floats\n",
    "X_train = X_train.astype('float32')\n",
    "X_test = X_test.astype('float32')"
   ]
  },
  {
   "cell_type": "code",
   "execution_count": 13,
   "id": "e8f3683a-85a8-4cae-bbc0-96e3ccbdc96e",
   "metadata": {},
   "outputs": [],
   "source": [
    "\n",
    "# Create a decision tree regressor\n",
    "dtr_model = DecisionTreeRegressor()\n",
    "dtr_model.fit(X_train, y_train)\n",
    "\n",
    "# Predict on the test set\n",
    "y_pred = dtr_model.predict(X_test)\n",
    "\n",
    "# Calculate Mean Squared Error (MSE)\n",
    "dtr_mse = np.mean((y_pred - y_test)**2)\n",
    "\n",
    "# Calculate the feature importances\n",
    "feature_importances = dtr_model.feature_importances_\n",
    "\n",
    "# Create a data frame to store feature names and importances\n",
    "feature_importances_df = DataFrame()\n",
    "feature_importances_df['feature_name'] = df.drop(target_variable, axis='columns').columns\n",
    "feature_importances_df['feature_importance'] = feature_importances"
   ]
  },
  {
   "cell_type": "code",
   "execution_count": 14,
   "id": "bd6f62c7-edc3-4ae9-a2c1-32b996093072",
   "metadata": {},
   "outputs": [],
   "source": [
    "\n",
    "# Train a linear regression model\n",
    "lr_model = LinearRegression()\n",
    "lr_model.fit(X_train, y_train)\n",
    "\n",
    "# Predict on the test set\n",
    "y_pred = lr_model.predict(X_test)\n",
    "\n",
    "# Calculate average squared error\n",
    "lr_mse = np.mean((y_pred - y_test)**2)\n",
    "\n",
    "# Get the coefficients of the linear regression model\n",
    "feature_coefficients = lr_model.coef_[0]\n",
    "\n",
    "# Create a data frame to store the feature names and feature coefficients\n",
    "feature_coefficients_df = DataFrame()\n",
    "feature_coefficients_df['feature_name'] = df.drop(target_variable, axis='columns').columns\n",
    "feature_coefficients_df['feature_coefficient'] = feature_coefficients\n",
    "feature_coefficients_df['absolute_coefficient'] = feature_coefficients_df.feature_coefficient.map(lambda x: abs(x))"
   ]
  },
  {
   "cell_type": "markdown",
   "id": "3903ad90-59b9-4726-876c-9734a623e13a",
   "metadata": {},
   "source": [
    "\n",
    "## Evaluate the accuracies and importances"
   ]
  },
  {
   "cell_type": "code",
   "execution_count": 15,
   "id": "70076b5a-a736-4970-925f-dd0ba0f54251",
   "metadata": {},
   "outputs": [
    {
     "name": "stdout",
     "output_type": "stream",
     "text": [
      "DTR MSE: 0.15381773355726747\n",
      "LR MSE: 0.10981629944572563\n"
     ]
    }
   ],
   "source": [
    "\n",
    "# Print the accuracies\n",
    "print('DTR MSE:', dtr_mse)\n",
    "print('LR MSE:', lr_mse)"
   ]
  },
  {
   "cell_type": "code",
   "execution_count": 16,
   "id": "8bab900e-5763-44de-920c-28fe9e2715c6",
   "metadata": {},
   "outputs": [
    {
     "data": {
      "text/html": [
       "<div>\n",
       "<style scoped>\n",
       "    .dataframe tbody tr th:only-of-type {\n",
       "        vertical-align: middle;\n",
       "    }\n",
       "\n",
       "    .dataframe tbody tr th {\n",
       "        vertical-align: top;\n",
       "    }\n",
       "\n",
       "    .dataframe thead th {\n",
       "        text-align: right;\n",
       "    }\n",
       "</style>\n",
       "<table border=\"1\" class=\"dataframe\">\n",
       "  <thead>\n",
       "    <tr style=\"text-align: right;\">\n",
       "      <th></th>\n",
       "      <th>feature_name</th>\n",
       "      <th>feature_importance</th>\n",
       "    </tr>\n",
       "  </thead>\n",
       "  <tbody>\n",
       "    <tr>\n",
       "      <th>1</th>\n",
       "      <td>patient_sort_complexity</td>\n",
       "      <td>0.359702</td>\n",
       "    </tr>\n",
       "    <tr>\n",
       "      <th>7</th>\n",
       "      <td>last_still_engagement</td>\n",
       "      <td>0.203993</td>\n",
       "    </tr>\n",
       "    <tr>\n",
       "      <th>36</th>\n",
       "      <td>injury_severity_turbulence</td>\n",
       "      <td>0.067493</td>\n",
       "    </tr>\n",
       "    <tr>\n",
       "      <th>8</th>\n",
       "      <td>first_engagement</td>\n",
       "      <td>0.050586</td>\n",
       "    </tr>\n",
       "    <tr>\n",
       "      <th>18</th>\n",
       "      <td>injury_treatments_count</td>\n",
       "      <td>0.043904</td>\n",
       "    </tr>\n",
       "    <tr>\n",
       "      <th>32</th>\n",
       "      <td>patient_sort_turbulence</td>\n",
       "      <td>0.041358</td>\n",
       "    </tr>\n",
       "    <tr>\n",
       "      <th>2</th>\n",
       "      <td>time_to_last_hemorrhage_controlled</td>\n",
       "      <td>0.039013</td>\n",
       "    </tr>\n",
       "    <tr>\n",
       "      <th>11</th>\n",
       "      <td>pulse_taken_count</td>\n",
       "      <td>0.028663</td>\n",
       "    </tr>\n",
       "    <tr>\n",
       "      <th>28</th>\n",
       "      <td>wave_command_count</td>\n",
       "      <td>0.026858</td>\n",
       "    </tr>\n",
       "    <tr>\n",
       "      <th>12</th>\n",
       "      <td>total_actions</td>\n",
       "      <td>0.023430</td>\n",
       "    </tr>\n",
       "  </tbody>\n",
       "</table>\n",
       "</div>"
      ],
      "text/plain": [
       "                          feature_name  feature_importance\n",
       "1              patient_sort_complexity            0.359702\n",
       "7                last_still_engagement            0.203993\n",
       "36          injury_severity_turbulence            0.067493\n",
       "8                     first_engagement            0.050586\n",
       "18             injury_treatments_count            0.043904\n",
       "32             patient_sort_turbulence            0.041358\n",
       "2   time_to_last_hemorrhage_controlled            0.039013\n",
       "11                   pulse_taken_count            0.028663\n",
       "28                  wave_command_count            0.026858\n",
       "12                       total_actions            0.023430"
      ]
     },
     "metadata": {},
     "output_type": "display_data"
    }
   ],
   "source": [
    "\n",
    "# Display the feature importances data frame\n",
    "df = feature_importances_df.sort_values('feature_importance', ascending=False).head(10)\n",
    "dtr_importances_list = df.feature_name.tolist()\n",
    "display(df)"
   ]
  },
  {
   "cell_type": "code",
   "execution_count": 17,
   "id": "24fcf7ab-7824-4ab3-8772-5d120329ce2a",
   "metadata": {},
   "outputs": [
    {
     "data": {
      "text/html": [
       "<div>\n",
       "<style scoped>\n",
       "    .dataframe tbody tr th:only-of-type {\n",
       "        vertical-align: middle;\n",
       "    }\n",
       "\n",
       "    .dataframe tbody tr th {\n",
       "        vertical-align: top;\n",
       "    }\n",
       "\n",
       "    .dataframe thead th {\n",
       "        text-align: right;\n",
       "    }\n",
       "</style>\n",
       "<table border=\"1\" class=\"dataframe\">\n",
       "  <thead>\n",
       "    <tr style=\"text-align: right;\">\n",
       "      <th></th>\n",
       "      <th>feature_name</th>\n",
       "      <th>feature_coefficient</th>\n",
       "    </tr>\n",
       "  </thead>\n",
       "  <tbody>\n",
       "    <tr>\n",
       "      <th>0</th>\n",
       "      <td>injury_not_treated_count</td>\n",
       "      <td>-0.000231</td>\n",
       "    </tr>\n",
       "    <tr>\n",
       "      <th>1</th>\n",
       "      <td>patient_sort_complexity</td>\n",
       "      <td>-0.000231</td>\n",
       "    </tr>\n",
       "    <tr>\n",
       "      <th>22</th>\n",
       "      <td>patient_count</td>\n",
       "      <td>-0.000231</td>\n",
       "    </tr>\n",
       "    <tr>\n",
       "      <th>23</th>\n",
       "      <td>last_engagement</td>\n",
       "      <td>-0.000231</td>\n",
       "    </tr>\n",
       "    <tr>\n",
       "      <th>24</th>\n",
       "      <td>scene_start</td>\n",
       "      <td>-0.000231</td>\n",
       "    </tr>\n",
       "    <tr>\n",
       "      <th>25</th>\n",
       "      <td>percent_hemorrhage_controlled</td>\n",
       "      <td>-0.000231</td>\n",
       "    </tr>\n",
       "    <tr>\n",
       "      <th>26</th>\n",
       "      <td>teleport_count</td>\n",
       "      <td>-0.000231</td>\n",
       "    </tr>\n",
       "    <tr>\n",
       "      <th>27</th>\n",
       "      <td>is_scene_aborted</td>\n",
       "      <td>-0.000231</td>\n",
       "    </tr>\n",
       "    <tr>\n",
       "      <th>28</th>\n",
       "      <td>wave_command_count</td>\n",
       "      <td>-0.000231</td>\n",
       "    </tr>\n",
       "    <tr>\n",
       "      <th>29</th>\n",
       "      <td>first_treatment</td>\n",
       "      <td>-0.000231</td>\n",
       "    </tr>\n",
       "  </tbody>\n",
       "</table>\n",
       "</div>"
      ],
      "text/plain": [
       "                     feature_name  feature_coefficient\n",
       "0        injury_not_treated_count            -0.000231\n",
       "1         patient_sort_complexity            -0.000231\n",
       "22                  patient_count            -0.000231\n",
       "23                last_engagement            -0.000231\n",
       "24                    scene_start            -0.000231\n",
       "25  percent_hemorrhage_controlled            -0.000231\n",
       "26                 teleport_count            -0.000231\n",
       "27               is_scene_aborted            -0.000231\n",
       "28             wave_command_count            -0.000231\n",
       "29                first_treatment            -0.000231"
      ]
     },
     "metadata": {},
     "output_type": "display_data"
    }
   ],
   "source": [
    "\n",
    "# Display the feature coefficients data frame\n",
    "columns_list = ['feature_name', 'feature_coefficient']\n",
    "df = feature_coefficients_df.sort_values('absolute_coefficient', ascending=False)[columns_list].head(10)\n",
    "lr_importances_list = df.feature_name.tolist()\n",
    "display(df)"
   ]
  },
  {
   "cell_type": "code",
   "execution_count": 18,
   "id": "99b4765c-f341-46f0-81f5-5fd0557d81c5",
   "metadata": {},
   "outputs": [
    {
     "data": {
      "image/png": "[encoded data removed]",
      "text/plain": [
       "<Figure size 500x500 with 6 Axes>"
      ]
     },
     "metadata": {},
     "output_type": "display_data"
    }
   ],
   "source": [
    "\n",
    "# Get the feature names common to both data frames\n",
    "import seaborn as sns\n",
    "\n",
    "importances_list = list(set(dtr_importances_list).intersection(set(lr_importances_list)))\n",
    "PairGrid_obj = sns.pairplot(scene_history_df[importances_list])"
   ]
  },
  {
   "cell_type": "code",
   "execution_count": null,
   "id": "fc6f140b-e469-48e6-aca1-280f03afc634",
   "metadata": {},
   "outputs": [],
   "source": []
  }
 ],
 "metadata": {
  "kernelspec": {
   "display_name": "ITM Analysis Reporting (Python 3.11.7)",
   "language": "python",
   "name": "itm_analysis_reporting"
  },
  "language_info": {
   "codemirror_mode": {
    "name": "ipython",
    "version": 3
   },
   "file_extension": ".py",
   "mimetype": "text/x-python",
   "name": "python",
   "nbconvert_exporter": "python",
   "pygments_lexer": "ipython3",
   "version": "3.7.12"
  }
 },
 "nbformat": 4,
 "nbformat_minor": 5
}
