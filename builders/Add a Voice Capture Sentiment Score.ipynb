{
 "cells": [
  {
   "cell_type": "code",
   "execution_count": null,
   "id": "f6706ea6-d916-463b-b134-bc87e8a531fd",
   "metadata": {},
   "outputs": [],
   "source": [
    "\n",
    "# Set up the notebook\n",
    "%pprint\n",
    "import sys\n",
    "if (osp.join(os.pardir, 'py') not in sys.path): sys.path.insert(1, osp.join(os.pardir, 'py'))"
   ]
  },
  {
   "cell_type": "code",
   "execution_count": null,
   "id": "59b440cc-c267-4e89-8920-caf44dc3a567",
   "metadata": {},
   "outputs": [],
   "source": [
    "\n",
    "from FRVRS import (\n",
    "    nu, display\n",
    ")"
   ]
  },
  {
   "cell_type": "markdown",
   "id": "dedbb8c8-7237-4615-b6ea-e597c37109be",
   "metadata": {},
   "source": [
    "\n",
    "# Add a Voice Capture Sentiment Score"
   ]
  },
  {
   "cell_type": "code",
   "execution_count": null,
   "id": "e89b6f03-e6ec-4554-8a7a-9a2de4990a51",
   "metadata": {},
   "outputs": [],
   "source": [
    "\n",
    "# Add a voice capture sentiment score\n",
    "new_column_name = 'voice_capture_sentiment_score'\n",
    "if (new_column_name not in frvrs_logs_df.columns):\n",
    "    from nltk.sentiment.vader import SentimentIntensityAnalyzer\n",
    "    try: sid = SentimentIntensityAnalyzer()\n",
    "    except LookupError as e:\n",
    "        print(str(e).strip())\n",
    "        import nltk\n",
    "        nltk.download('vader_lexicon')\n",
    "        sid = SentimentIntensityAnalyzer()\n",
    "    mask_series = frvrs_logs_df.voice_capture_message.isnull()\n",
    "    for row_index, row_series in frvrs_logs_df[~mask_series].iterrows():\n",
    "        voice_capture_message = '\\n' + row_series.voice_capture_message\n",
    "        frvrs_logs_df.loc[row_index, new_column_name] = sid.polarity_scores(voice_capture_message)['compound']\n",
    "    \n",
    "    # Store the results and show the new data frame shape\n",
    "    nu.store_objects(frvrs_logs_df=frvrs_logs_df)\n",
    "    nu.save_data_frames(frvrs_logs_df=frvrs_logs_df)\n",
    "    \n",
    "    print(frvrs_logs_df.shape) # (829116, 114)\n",
    "display(frvrs_logs_df.groupby(new_column_name).size().to_frame().rename(columns={0: 'record_count'}).sort_values('record_count', ascending=False).head(5))"
   ]
  },
  {
   "cell_type": "code",
   "execution_count": null,
   "id": "15d83843-7a1c-4519-b3ae-eeb61ec6112f",
   "metadata": {},
   "outputs": [],
   "source": []
  }
 ],
 "metadata": {
  "kernelspec": {
   "display_name": "ITM Analysis Reporting (Python 3.11.7)",
   "language": "python",
   "name": "itm_analysis_reporting"
  },
  "language_info": {
   "codemirror_mode": {
    "name": "ipython",
    "version": 3
   },
   "file_extension": ".py",
   "mimetype": "text/x-python",
   "name": "python",
   "nbconvert_exporter": "python",
   "pygments_lexer": "ipython3",
   "version": "3.7.12"
  }
 },
 "nbformat": 4,
 "nbformat_minor": 5
}
