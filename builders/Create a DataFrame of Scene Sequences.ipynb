{
 "cells": [
  {
   "cell_type": "code",
   "execution_count": 1,
   "id": "3a5d88d0-ee28-42bf-b2df-28ef5f83333a",
   "metadata": {},
   "outputs": [
    {
     "name": "stdout",
     "output_type": "stream",
     "text": [
      "Pretty printing has been turned OFF\n"
     ]
    }
   ],
   "source": [
    "\n",
    "%pprint\n",
    "import sys\n",
    "if (osp.join('..', 'py') not in sys.path): sys.path.insert(1, osp.join('..', 'py'))"
   ]
  },
  {
   "cell_type": "code",
   "execution_count": 2,
   "id": "79520114-59c4-4811-af9a-9d31352f48d6",
   "metadata": {},
   "outputs": [],
   "source": [
    "\n",
    "from FRVRS import (nu, fu, DataFrame)\n",
    "from itertools import product\n",
    "from tqdm import tqdm_notebook as tqdm"
   ]
  },
  {
   "cell_type": "code",
   "execution_count": 3,
   "id": "60c41bbd-d759-42c4-839f-69f6bd450de2",
   "metadata": {},
   "outputs": [
    {
     "name": "stdout",
     "output_type": "stream",
     "text": [
      "Attempting to load /mnt/c/Users/DaveBabbitt/Documents/GitHub/itm-analysis-reporting/saves/pkl/frvrs_logs_df.pkl.\n",
      "(829116, 125)\n"
     ]
    }
   ],
   "source": [
    "\n",
    "# load data frames\n",
    "data_frames_dict = nu.load_data_frames(frvrs_logs_df='frvrs_logs_df')\n",
    "frvrs_logs_df = data_frames_dict['frvrs_logs_df']\n",
    "print(frvrs_logs_df.shape) # (829116, 125)"
   ]
  },
  {
   "cell_type": "markdown",
   "id": "657b0ac9-af3f-4fbd-9864-0804fac1421b",
   "metadata": {},
   "source": [
    "\n",
    "# Create a Data Frame of Scene Sequences"
   ]
  },
  {
   "cell_type": "code",
   "execution_count": 4,
   "id": "916fcf14-59bf-4b46-ab48-8f6d19f9a843",
   "metadata": {},
   "outputs": [
    {
     "name": "stdout",
     "output_type": "stream",
     "text": [
      "(696, 70)\n"
     ]
    }
   ],
   "source": [
    "\n",
    "if nu.pickle_exists('scene_sequences_df'): scene_sequences_df = nu.load_object('scene_sequences_df')\n",
    "else:\n",
    "    rows_list = []\n",
    "    engagment_columns_list = ['patient_id', 'engagement_start', 'location_tuple', 'patient_sort', 'predicted_priority', 'injury_severity']\n",
    "    data_frames_dict = nu.load_data_frames(scene_stats_df='scene_stats_df')\n",
    "    scene_stats_df = data_frames_dict['scene_stats_df']\n",
    "    for (session_uuid, scene_id), idx_df in scene_stats_df.groupby(fu.scene_groupby_columns):\n",
    "        \n",
    "        # Get the whole scene history\n",
    "        mask_series = True\n",
    "        for cn in fu.scene_groupby_columns: mask_series &= (frvrs_logs_df[cn] == eval(cn))\n",
    "        scene_df = frvrs_logs_df[mask_series]\n",
    "        \n",
    "        # Get the engagement sequence and the stats from that\n",
    "        actual_engagement_order = fu.get_order_of_actual_engagement(scene_df, verbose=False)\n",
    "        if actual_engagement_order:\n",
    "            df = DataFrame(actual_engagement_order, columns=engagment_columns_list)\n",
    "            row_dict = {cn: eval(cn) for cn in fu.scene_groupby_columns}\n",
    "            patient_sorts_list = df.apply(lambda row_series: row_series.patient_sort, axis='columns').tolist()\n",
    "            injury_severitys_list = df.apply(lambda row_series: row_series.injury_severity, axis='columns').tolist()\n",
    "            for i, (patient_sort, injury_severity) in enumerate(zip(patient_sorts_list, injury_severitys_list)):\n",
    "                row_dict[f'patient_sort{i:02d}'] = patient_sort\n",
    "                row_dict[f'injury_severity{i:02d}'] = injury_severity\n",
    "                row_dict[f'combo{i:02d}'] = str(patient_sort) + '-' + str(injury_severity)\n",
    "            rows_list.append(row_dict)\n",
    "    scene_sequences_df = DataFrame(rows_list)\n",
    "    nu.store_objects(scene_sequences_df=scene_sequences_df)\n",
    "    nu.save_data_frames(scene_sequences_df=scene_sequences_df)\n",
    "print(scene_sequences_df.shape) # (696, 53)"
   ]
  },
  {
   "cell_type": "code",
   "execution_count": 5,
   "id": "b07d0705-025d-4937-a40c-486a8cb22217",
   "metadata": {},
   "outputs": [],
   "source": [
    "\n",
    "if 'severe_hemorrhaging00' not in scene_sequences_df.columns:\n",
    "    severely_injured_columns = [cn for cn in scene_sequences_df.columns if cn.startswith('severely_injured')]\n",
    "    if severely_injured_columns: scene_sequences_df = scene_sequences_df.drop(columns=severely_injured_columns)\n",
    "    engagment_columns_list = ['patient_id', 'engagement_start', 'severe_hemorrhaging']\n",
    "    for (session_uuid, scene_id), idx_df in scene_sequences_df.groupby(fu.scene_groupby_columns):\n",
    "        \n",
    "        # Get the whole scene history\n",
    "        mask_series = True\n",
    "        for cn in fu.scene_groupby_columns: mask_series &= (frvrs_logs_df[cn] == eval(cn))\n",
    "        scene_df = frvrs_logs_df[mask_series]\n",
    "        \n",
    "        engagement_starts_list = []\n",
    "        for patient_id, patient_df in scene_df.groupby('patient_id'):\n",
    "            severe_hemorrhaging = fu.get_is_patient_severely_injured(patient_df)\n",
    "            \n",
    "            # Check if the responder even interacted with this patient\n",
    "            mask_series = patient_df.action_type.isin(fu.responder_negotiations_list)\n",
    "            if mask_series.any():\n",
    "                \n",
    "                # Get the list of engagements as action ticks\n",
    "                engagements_list = patient_df[mask_series].action_tick\n",
    "                mask_series = patient_df.action_tick.isin(engagements_list)\n",
    "                if mask_series.any():\n",
    "                    df = patient_df[mask_series].sort_values('action_tick')\n",
    "                    \n",
    "                    # Get the first engagement start\n",
    "                    engagement_start = df.iloc[0].action_tick\n",
    "                    \n",
    "                    # Add engagement information to the list\n",
    "                    engagement_tuple = (patient_id, engagement_start, severe_hemorrhaging)\n",
    "                    engagement_starts_list.append(engagement_tuple)\n",
    "        \n",
    "        # Sort the starts list chronologically\n",
    "        actual_engagement_order = sorted(engagement_starts_list, key=lambda x: x[1], reverse=False)\n",
    "        \n",
    "        if actual_engagement_order:\n",
    "            df = DataFrame(actual_engagement_order, columns=engagment_columns_list)\n",
    "            severe_hemorrhagings_list = df.apply(lambda row_series: row_series.severe_hemorrhaging, axis='columns').tolist()\n",
    "            for i, severe_hemorrhaging in enumerate(severe_hemorrhagings_list):\n",
    "                scene_sequences_df.loc[idx_df.index, f'severe_hemorrhaging{i:02d}'] = severe_hemorrhaging\n",
    "    nu.store_objects(scene_sequences_df=scene_sequences_df)\n",
    "    nu.save_data_frames(scene_sequences_df=scene_sequences_df)"
   ]
  },
  {
   "cell_type": "code",
   "execution_count": 7,
   "id": "ca6b8898-87b7-4761-8eef-2dd33ff1e500",
   "metadata": {},
   "outputs": [
    {
     "name": "stdout",
     "output_type": "stream",
     "text": [
      "Pickling to /mnt/c/Users/DaveBabbitt/Documents/GitHub/itm-analysis-reporting/saves/pkl/scene_sequences_df.pkl\n",
      "Saving to /mnt/c/Users/DaveBabbitt/Documents/GitHub/itm-analysis-reporting/saves/csv/scene_sequences_df.csv\n"
     ]
    }
   ],
   "source": [
    "\n",
    "if 'sort_hemorrhaging00' not in scene_sequences_df.columns:\n",
    "    engagment_columns_list = ['patient_id', 'engagement_start', 'sort_hemorrhaging']\n",
    "    for (session_uuid, scene_id), idx_df in scene_sequences_df.groupby(fu.scene_groupby_columns):\n",
    "        \n",
    "        # Get the whole scene history\n",
    "        mask_series = True\n",
    "        for cn in fu.scene_groupby_columns: mask_series &= (frvrs_logs_df[cn] == eval(cn))\n",
    "        scene_df = frvrs_logs_df[mask_series]\n",
    "        \n",
    "        engagement_starts_list = []\n",
    "        for patient_id, patient_df in scene_df.groupby('patient_id'):\n",
    "            \n",
    "            # Check if the responder even interacted with this patient\n",
    "            mask_series = patient_df.action_type.isin(fu.responder_negotiations_list)\n",
    "            if mask_series.any():\n",
    "                df = patient_df[mask_series].sort_values('action_tick')\n",
    "\n",
    "                # Get the first engagement start\n",
    "                engagement_start = df.iloc[0].action_tick\n",
    "                \n",
    "                # Get the cluster ID, if available\n",
    "                mask_series = ~patient_df.patient_sort.isnull()\n",
    "                patient_sort = (\n",
    "                    patient_df[mask_series].sort_values('action_tick').iloc[-1].patient_sort\n",
    "                    if mask_series.any():\n",
    "                    else None\n",
    "                )\n",
    "                sort_hemorrhaging = str(patient_sort) + '-' + str(fu.get_is_patient_severely_injured(patient_df))\n",
    "\n",
    "                # Add engagement information to the list\n",
    "                engagement_tuple = (patient_id, engagement_start, sort_hemorrhaging)\n",
    "                engagement_starts_list.append(engagement_tuple)\n",
    "        \n",
    "        # Sort the starts list chronologically\n",
    "        actual_engagement_order = sorted(engagement_starts_list, key=lambda x: x[1], reverse=False)\n",
    "        \n",
    "        if actual_engagement_order:\n",
    "            df = DataFrame(actual_engagement_order, columns=engagment_columns_list)\n",
    "            sort_hemorrhagings_list = df.apply(lambda row_series: row_series.sort_hemorrhaging, axis='columns').tolist()\n",
    "            for i, sort_hemorrhaging in enumerate(sort_hemorrhagings_list):\n",
    "                scene_sequences_df.loc[idx_df.index, f'sort_hemorrhaging{i:02d}'] = sort_hemorrhaging\n",
    "    nu.store_objects(scene_sequences_df=scene_sequences_df)\n",
    "    nu.save_data_frames(scene_sequences_df=scene_sequences_df)"
   ]
  },
  {
   "cell_type": "code",
   "execution_count": null,
   "id": "2c1e18d9-46db-426e-a8f7-f67bf2fb4fdd",
   "metadata": {},
   "outputs": [],
   "source": [
    "\n",
    "scene_sequences_df.sample(8).dropna(axis='columns', how='all').T"
   ]
  },
  {
   "cell_type": "code",
   "execution_count": null,
   "id": "c0604aaf-24cb-48f7-a288-b18bd5708670",
   "metadata": {},
   "outputs": [],
   "source": [
    "\n",
    "for cn in ['patient_sort', 'injury_severity', 'combo']:\n",
    "    print(cn)\n",
    "    sequence_items_list = []\n",
    "    value_counts_series = scene_sequences_df[f'{cn}00'].value_counts()\n",
    "    sequence_item = value_counts_series.index[0]\n",
    "    sequence_items_list.append(sequence_item)\n",
    "    mask_series = (scene_sequences_df[f'{cn}00'] == sequence_item)\n",
    "    mask_series_dict = {0: mask_series}\n",
    "    for i in range(1, 17):\n",
    "        value_counts_series = scene_sequences_df[mask_series_dict[i-1]][f'{cn}{i:02d}'].value_counts()\n",
    "        if value_counts_series.shape[0]:\n",
    "            sequence_item = value_counts_series.index[0]\n",
    "            sequence_items_list.append(sequence_item)\n",
    "            mask_series = (scene_sequences_df[f'{cn}{i:02d}'] == sequence_item)\n",
    "            mask_series_dict[i] = mask_series\n",
    "        else: break\n",
    "    print(sequence_items_list)\n",
    "    for key, mask_series in mask_series_dict.items(): print(key, scene_sequences_df[mask_series].shape)\n",
    "    display(scene_sequences_df[mask_series].dropna(axis='columns', how='all').T)\n",
    "    df = scene_sequences_df[mask_series_dict[9]]\n",
    "    display(df.sample(8).dropna(axis='columns', how='all').T)"
   ]
  },
  {
   "cell_type": "code",
   "execution_count": null,
   "id": "3401fb39-bfd8-4254-88b9-18eff0ce933e",
   "metadata": {},
   "outputs": [],
   "source": [
    "\n",
    "# What are the worst examples of engagement sequences?\n",
    "for cn, el in zip(['patient_sort', 'injury_severity', 'combo'], ['still', 'high', 'still-high']):\n",
    "    for i in range(16, -1, -1):\n",
    "        mask_series = (scene_sequences_df[f'{cn}{i:02d}'] == el)\n",
    "        if mask_series.any(): break\n",
    "    print(f'{cn}{i:02d}')\n",
    "    df = scene_sequences_df[mask_series]\n",
    "    print(df.shape)\n",
    "    print([df[f'{cn}{i:02d}'].squeeze() for i in range(1, 17)])\n",
    "    display(df.dropna(axis='columns', how='all').T)"
   ]
  },
  {
   "cell_type": "markdown",
   "id": "0af14784-72d8-45b9-ba85-e433e2e592b6",
   "metadata": {},
   "source": [
    "\n",
    "### SORT sequence"
   ]
  },
  {
   "cell_type": "code",
   "execution_count": 8,
   "id": "fab9abc3-9b50-4ea2-8262-289c054fd59f",
   "metadata": {},
   "outputs": [
    {
     "name": "stdout",
     "output_type": "stream",
     "text": [
      "177147\n"
     ]
    }
   ],
   "source": [
    "\n",
    "# Get all patient SORT order sequences for 11-patient scenes\n",
    "sequences = [seq for seq in product(fu.patient_sort_order, repeat=11) if len(seq) == 11]\n",
    "print(f'{len(sequences):,}')"
   ]
  },
  {
   "cell_type": "code",
   "execution_count": 9,
   "id": "c7450c9e-d921-45da-967d-fa95762e58af",
   "metadata": {},
   "outputs": [
    {
     "data": {
      "application/vnd.jupyter.widget-view+json": {
       "model_id": "adcfd9b66c3c41c6883739ac3bebfad2",
       "version_major": 2,
       "version_minor": 0
      },
      "text/plain": [
       "  0%|          | 0/177147 [00:00<?, ?it/s]"
      ]
     },
     "metadata": {},
     "output_type": "display_data"
    }
   ],
   "source": [
    "\n",
    "# Discover the most popular sequence\n",
    "max_count = -1\n",
    "max_patient_sort_sequence = []\n",
    "for seq in tqdm(sequences):\n",
    "    mask_series = True\n",
    "    for i, sort_category in enumerate(seq): mask_series &= (scene_sequences_df[f'patient_sort{i:02d}'] == sort_category)\n",
    "    sequence_count = scene_sequences_df[mask_series].shape[0]\n",
    "    if max_count < sequence_count:\n",
    "        max_count = sequence_count\n",
    "        max_patient_sort_sequence = seq"
   ]
  },
  {
   "cell_type": "code",
   "execution_count": 10,
   "id": "e5b7eccb-124d-421f-89e6-482d22b525d6",
   "metadata": {},
   "outputs": [
    {
     "name": "stdout",
     "output_type": "stream",
     "text": [
      "The most popular patient engagement SORT sequence in the 11-patient scenes is \"still\", \"still\", \"still\", \"waver\", \"waver\", \"waver\", \"waver\", \"waver\", \"walker\", \"walker\", and \"walker\" (used in 55 different scenes). So the Right Ordering (still patients first, then waver patients, then walker patients) can still be thought of as a good measure.\n"
     ]
    }
   ],
   "source": [
    "\n",
    "max_sequence_str = nu.conjunctify_nouns([f'\"{seq}\"' for seq in max_patient_sort_sequence])\n",
    "print(\n",
    "    f'The most popular patient engagement SORT sequence in the 11-patient scenes is {max_sequence_str}'\n",
    "    f' (used in {max_count} different scenes).'\n",
    "    ' So the Right Ordering (still patients first, then waver patients, then walker patients) can still be thought of as a good measure.'\n",
    ")"
   ]
  },
  {
   "cell_type": "markdown",
   "id": "a433dad5-4f1b-4fd5-9a79-cf2fdcff601d",
   "metadata": {},
   "source": [
    "\n",
    "### Injury severity sequence"
   ]
  },
  {
   "cell_type": "code",
   "execution_count": 8,
   "id": "68ed513e-bce1-487c-b183-3b73776ab124",
   "metadata": {},
   "outputs": [
    {
     "name": "stdout",
     "output_type": "stream",
     "text": [
      "177147\n"
     ]
    }
   ],
   "source": [
    "\n",
    "sequences = [seq for seq in product(fu.injury_severity_order, repeat=11) if len(seq) == 11]\n",
    "print(f'{len(sequences):,}')"
   ]
  },
  {
   "cell_type": "code",
   "execution_count": 9,
   "id": "0cda3f6a-54c8-49a6-91c3-5b5ad90e44c2",
   "metadata": {},
   "outputs": [
    {
     "data": {
      "application/vnd.jupyter.widget-view+json": {
       "model_id": "f04d2d72d7e4472e82a50ae0ba29907e",
       "version_major": 2,
       "version_minor": 0
      },
      "text/plain": [
       "  0%|          | 0/177147 [00:00<?, ?it/s]"
      ]
     },
     "metadata": {},
     "output_type": "display_data"
    }
   ],
   "source": [
    "\n",
    "max_count = -1\n",
    "max_injury_severity_sequence = []\n",
    "for seq in tqdm(sequences):\n",
    "    mask_series = True\n",
    "    for i, sort_category in enumerate(seq): mask_series &= (scene_sequences_df[f'injury_severity{i:02d}'] == sort_category)\n",
    "    sequence_count = scene_sequences_df[mask_series].shape[0]\n",
    "    if max_count < sequence_count:\n",
    "        max_count = sequence_count\n",
    "        max_injury_severity_sequence = seq"
   ]
  },
  {
   "cell_type": "code",
   "execution_count": 10,
   "id": "581c31ce-17b6-4e4c-ad75-54cd11f38079",
   "metadata": {},
   "outputs": [
    {
     "name": "stdout",
     "output_type": "stream",
     "text": [
      "The most popular patient engagement by injury severity sequence in the 11-patient scenes is \"high\", \"high\", \"high\", \"medium\", \"high\", \"medium\", \"medium\", \"medium\", \"low\", \"low\", and \"low\" (used in 26 different scenes).\n"
     ]
    }
   ],
   "source": [
    "\n",
    "max_sequence_str = nu.conjunctify_nouns([f'\"{seq}\"' for seq in max_injury_severity_sequence])\n",
    "print(\n",
    "    f'The most popular patient engagement by injury severity sequence in the 11-patient scenes is {max_sequence_str}'\n",
    "    f' (used in {max_count} different scenes).'\n",
    ")"
   ]
  },
  {
   "cell_type": "markdown",
   "id": "22e4f1e8-31c1-400a-8558-9298cec900f4",
   "metadata": {},
   "source": [
    "\n",
    "### SORT-severity sequence"
   ]
  },
  {
   "cell_type": "code",
   "execution_count": 12,
   "id": "bafd9a6e-3d46-468d-92ac-21d19a78efc8",
   "metadata": {},
   "outputs": [
    {
     "data": {
      "text/plain": [
       "['still-high', 'walker-low', 'waver-high', 'waver-medium']"
      ]
     },
     "execution_count": 12,
     "metadata": {},
     "output_type": "execute_result"
    }
   ],
   "source": [
    "\n",
    "# Get the combo alphabet list\n",
    "# combos_alphabet = sorted(\n",
    "#     set([sequence_tuple[0] + '-' + sequence_tuple[1] for sequence_tuple in product(fu.patient_sort_order, fu.injury_severity_order)])\n",
    "# )\n",
    "combos_alphabet = sorted(\n",
    "    set([str(patient_sort) + '-' + str(injury_severity) for patient_sort, injury_severity in zip(\n",
    "        max_patient_sort_sequence, max_injury_severity_sequence\n",
    "    )])\n",
    ")\n",
    "combos_alphabet"
   ]
  },
  {
   "cell_type": "code",
   "execution_count": 20,
   "id": "291fb24c-a93d-4cc5-9c23-be2829ca730f",
   "metadata": {},
   "outputs": [
    {
     "name": "stdout",
     "output_type": "stream",
     "text": [
      "8,178\n"
     ]
    }
   ],
   "source": [
    "\n",
    "sequences = []\n",
    "for stills_count in range(12):\n",
    "    for wavers_count in range(12):\n",
    "        for walkers_count in range(12):\n",
    "            if (stills_count + wavers_count + walkers_count == 11):\n",
    "                still_tuples_list = [seq for seq in product(['still-high'], repeat=stills_count) if len(seq) == stills_count]\n",
    "                waver_tuples_list = [seq for seq in product(['waver-high', 'waver-medium'], repeat=wavers_count) if len(seq) == wavers_count]\n",
    "                walker_tuples_list = [seq for seq in product(['walker-low'], repeat=walkers_count) if len(seq) == walkers_count]\n",
    "                for still_tuple, waver_tuple, walker_tuple in product(still_tuples_list, waver_tuples_list, walker_tuples_list):\n",
    "                    combined_list = list(still_tuple) + list(waver_tuple) + list(walker_tuple)\n",
    "                    sequences.append(combined_list)\n",
    "print(f'{len(sequences):,}')"
   ]
  },
  {
   "cell_type": "code",
   "execution_count": 21,
   "id": "488b58d0-28e0-4f2a-8367-6626c42509ef",
   "metadata": {},
   "outputs": [
    {
     "data": {
      "application/vnd.jupyter.widget-view+json": {
       "model_id": "10b89144831f435a8d8f2cf617fc7c20",
       "version_major": 2,
       "version_minor": 0
      },
      "text/plain": [
       "  0%|          | 0/8178 [00:00<?, ?it/s]"
      ]
     },
     "metadata": {},
     "output_type": "display_data"
    }
   ],
   "source": [
    "\n",
    "max_count = -1\n",
    "max_combo_sequence = []\n",
    "for seq in tqdm(sequences):\n",
    "    mask_series = True\n",
    "    for i, sort_category in enumerate(seq): mask_series &= (scene_sequences_df[f'combo{i:02d}'] == sort_category)\n",
    "    sequence_count = scene_sequences_df[mask_series].shape[0]\n",
    "    if max_count < sequence_count:\n",
    "        max_count = sequence_count\n",
    "        max_combo_sequence = seq"
   ]
  },
  {
   "cell_type": "code",
   "execution_count": 22,
   "id": "645df7b6-5e5c-453d-87ae-1f54e4de98cd",
   "metadata": {},
   "outputs": [
    {
     "name": "stdout",
     "output_type": "stream",
     "text": [
      "The most popular patient engagement by SORT-severity sequence in the 11-patient scenes is \"still-high\", \"still-high\", \"still-high\", \"waver-medium\", \"waver-high\", \"waver-medium\", \"waver-medium\", \"waver-medium\", \"walker-low\", \"walker-low\", and \"walker-low\" (used in 26 different scenes).\n"
     ]
    }
   ],
   "source": [
    "\n",
    "max_sequence_str = nu.conjunctify_nouns([f'\"{seq}\"' for seq in max_combo_sequence])\n",
    "print(\n",
    "    f'The most popular patient engagement by SORT-severity sequence in the 11-patient scenes is {max_sequence_str} (used in {max_count} different scenes).'\n",
    ")"
   ]
  },
  {
   "cell_type": "markdown",
   "id": "eacab8d7-4a56-4da7-bd41-f7290467fcd8",
   "metadata": {},
   "source": [
    "\n",
    "### Severe-hemorrhaging sequence"
   ]
  },
  {
   "cell_type": "code",
   "execution_count": 11,
   "id": "577f5903-a2a7-4bbd-b97d-73babc91362b",
   "metadata": {},
   "outputs": [
    {
     "name": "stdout",
     "output_type": "stream",
     "text": [
      "2048\n"
     ]
    }
   ],
   "source": [
    "\n",
    "sequences = [seq for seq in product([True, False], repeat=11) if len(seq) == 11]\n",
    "print(f'{len(sequences):,}')"
   ]
  },
  {
   "cell_type": "code",
   "execution_count": 12,
   "id": "c97ca44f-f1a9-4f4f-b7b5-bf3cd1a14ad1",
   "metadata": {},
   "outputs": [
    {
     "data": {
      "application/vnd.jupyter.widget-view+json": {
       "model_id": "02b0037b1d9a44bf8a1825dd37801cab",
       "version_major": 2,
       "version_minor": 0
      },
      "text/plain": [
       "  0%|          | 0/2048 [00:00<?, ?it/s]"
      ]
     },
     "metadata": {},
     "output_type": "display_data"
    }
   ],
   "source": [
    "\n",
    "max_count = -1\n",
    "max_severe_hemorrhaging_sequence = []\n",
    "for seq in tqdm(sequences):\n",
    "    mask_series = True\n",
    "    for i, sort_category in enumerate(seq): mask_series &= (scene_sequences_df[f'severe_hemorrhaging{i:02d}'] == sort_category)\n",
    "    sequence_count = scene_sequences_df[mask_series].shape[0]\n",
    "    if max_count < sequence_count:\n",
    "        max_count = sequence_count\n",
    "        max_severe_hemorrhaging_sequence = seq"
   ]
  },
  {
   "cell_type": "code",
   "execution_count": 13,
   "id": "2b6c6f52-5b62-45b5-aaf0-f3d427476db5",
   "metadata": {},
   "outputs": [
    {
     "name": "stdout",
     "output_type": "stream",
     "text": [
      "The most popular patient engagement by has-severe-hemorrhaging sequence in the 11-patient scenes is \"False\", \"True\", \"False\", \"False\", \"True\", \"False\", \"False\", \"False\", \"False\", \"False\", and \"False\" (used in 45 different scenes).\n"
     ]
    }
   ],
   "source": [
    "\n",
    "max_sequence_str = nu.conjunctify_nouns([f'\"{seq}\"' for seq in max_severe_hemorrhaging_sequence])\n",
    "print(\n",
    "    'The most popular patient engagement by has-severe-hemorrhaging sequence in the 11-patient scenes is'\n",
    "    f' {max_sequence_str} (used in {max_count} different scenes).'\n",
    ")"
   ]
  },
  {
   "cell_type": "markdown",
   "id": "91055eaa-dbc2-4b5d-a70d-839a7b46c095",
   "metadata": {},
   "source": [
    "\n",
    "### SORT-severe-hemorrhaging sequence"
   ]
  },
  {
   "cell_type": "code",
   "execution_count": 14,
   "id": "e2b0d54b-9fc7-49cc-adf1-ebebc027210c",
   "metadata": {},
   "outputs": [
    {
     "data": {
      "text/plain": [
       "['still-False', 'still-True', 'walker-False', 'waver-False', 'waver-True']"
      ]
     },
     "execution_count": 14,
     "metadata": {},
     "output_type": "execute_result"
    }
   ],
   "source": [
    "\n",
    "# Get the sort-hemorrhaging alphabet list\n",
    "# sort_hemorrhagings_alphabet = sorted(set([sequence_tuple[0] + '-' + str(sequence_tuple[1]) for sequence_tuple in product(\n",
    "#     fu.patient_sort_order, [True, False]\n",
    "# )]))\n",
    "sort_hemorrhagings_alphabet = sorted(set([str(patient_sort) + '-' + str(injury_severity) for patient_sort, injury_severity in zip(\n",
    "    max_patient_sort_sequence, max_severe_hemorrhaging_sequence\n",
    ")]))\n",
    "sort_hemorrhagings_alphabet"
   ]
  },
  {
   "cell_type": "code",
   "execution_count": 23,
   "id": "3f12bb44-9fe0-481c-be3f-e4e3243357c5",
   "metadata": {},
   "outputs": [
    {
     "name": "stdout",
     "output_type": "stream",
     "text": [
      "45,057\n"
     ]
    }
   ],
   "source": [
    "\n",
    "sequences = []\n",
    "for stills_count in range(12):\n",
    "    for wavers_count in range(12):\n",
    "        for walkers_count in range(12):\n",
    "            if (stills_count + wavers_count + walkers_count == 11):\n",
    "                still_tuples_list = [seq for seq in product(['still-False', 'still-True'], repeat=stills_count) if len(seq) == stills_count]\n",
    "                waver_tuples_list = [seq for seq in product(['waver-False', 'waver-True'], repeat=wavers_count) if len(seq) == wavers_count]\n",
    "                walker_tuples_list = [seq for seq in product(['walker-False'], repeat=walkers_count) if len(seq) == walkers_count]\n",
    "                for still_tuple, waver_tuple, walker_tuple in product(still_tuples_list, waver_tuples_list, walker_tuples_list):\n",
    "                    combined_list = list(still_tuple) + list(waver_tuple) + list(walker_tuple)\n",
    "                    if (len(combined_list) == 11): sequences.append(combined_list)\n",
    "print(f'{len(sequences):,}') # 45,057"
   ]
  },
  {
   "cell_type": "code",
   "execution_count": 18,
   "id": "5ff3e329-7865-435b-a344-8e3f9f5e88b2",
   "metadata": {},
   "outputs": [
    {
     "data": {
      "application/vnd.jupyter.widget-view+json": {
       "model_id": "15651dcce5e84177adcbc8ba7a6488cc",
       "version_major": 2,
       "version_minor": 0
      },
      "text/plain": [
       "  0%|          | 0/45057 [00:00<?, ?it/s]"
      ]
     },
     "metadata": {},
     "output_type": "display_data"
    }
   ],
   "source": [
    "\n",
    "scene_sequences_df = nu.load_object('scene_sequences_df')\n",
    "max_count = -1\n",
    "max_sort_hemorrhaging_sequence = []\n",
    "for seq in tqdm(sequences):\n",
    "    mask_series = True\n",
    "    for i, sort_category in enumerate(seq): mask_series &= (scene_sequences_df[f'sort_hemorrhaging{i:02d}'] == sort_category)\n",
    "    sequence_count = scene_sequences_df[mask_series].shape[0]\n",
    "    if max_count < sequence_count:\n",
    "        max_count = sequence_count\n",
    "        max_sort_hemorrhaging_sequence = seq"
   ]
  },
  {
   "cell_type": "code",
   "execution_count": 19,
   "id": "466a5236-ccad-4a66-90cd-623c203bd3a6",
   "metadata": {},
   "outputs": [
    {
     "name": "stdout",
     "output_type": "stream",
     "text": [
      "The most popular patient engagement by SORT-severe-hemorrhaging sequence in the 11-patient scenes is \"still-False\", \"still-True\", \"still-False\", \"waver-False\", \"waver-True\", \"waver-False\", \"waver-False\", \"waver-False\", \"walker-False\", \"walker-False\", and \"walker-False\" (used in 24 different scenes).\n"
     ]
    }
   ],
   "source": [
    "\n",
    "max_sequence_str = nu.conjunctify_nouns([f'\"{seq}\"' for seq in max_sort_hemorrhaging_sequence])\n",
    "print(\n",
    "    f'The most popular patient engagement by SORT-severe-hemorrhaging sequence in the 11-patient scenes is {max_sequence_str} (used in {max_count} different scenes).'\n",
    ")"
   ]
  },
  {
   "cell_type": "code",
   "execution_count": null,
   "id": "33999178-9d2c-4a00-a0bb-6eea40b4dbbd",
   "metadata": {},
   "outputs": [],
   "source": []
  }
 ],
 "metadata": {
  "kernelspec": {
   "display_name": "ITM Analysis Reporting (Python 3.11.7)",
   "language": "python",
   "name": "itm_analysis_reporting"
  },
  "language_info": {
   "codemirror_mode": {
    "name": "ipython",
    "version": 3
   },
   "file_extension": ".py",
   "mimetype": "text/x-python",
   "name": "python",
   "nbconvert_exporter": "python",
   "pygments_lexer": "ipython3",
   "version": "3.7.12"
  }
 },
 "nbformat": 4,
 "nbformat_minor": 5
}
