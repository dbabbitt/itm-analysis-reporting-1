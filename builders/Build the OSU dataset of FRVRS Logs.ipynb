{
 "cells": [
  {
   "cell_type": "code",
   "execution_count": 1,
   "id": "f303819c-dc03-46ab-a5fc-d1de4fe42714",
   "metadata": {},
   "outputs": [
    {
     "name": "stdout",
     "output_type": "stream",
     "text": [
      "Pretty printing has been turned OFF\n"
     ]
    }
   ],
   "source": [
    "\n",
    "%pprint\n",
    "import sys\n",
    "if (osp.join(os.pardir, 'py') not in sys.path): sys.path.insert(1, osp.join(os.pardir, 'py'))"
   ]
  },
  {
   "cell_type": "code",
   "execution_count": 2,
   "id": "f88993e1-de14-424b-a21c-ca2308d8ee91",
   "metadata": {},
   "outputs": [],
   "source": [
    "\n",
    "from FRVRS import (fu, nu, np, osp, re, nan, Series, remove, notnull)\n",
    "import os\n",
    "import pandas as pd"
   ]
  },
  {
   "cell_type": "markdown",
   "id": "1bdc37e1-1f10-499c-a2e0-cfd6cbf5b652",
   "metadata": {},
   "source": [
    "\n",
    "# Build and deidentify the dataset of OSU Simulation Session Logs"
   ]
  },
  {
   "cell_type": "code",
   "execution_count": 3,
   "id": "558bad33-a3c1-4db4-b206-59fb4388609c",
   "metadata": {},
   "outputs": [
    {
     "data": {
      "text/plain": [
       "False"
      ]
     },
     "execution_count": 3,
     "metadata": {},
     "output_type": "execute_result"
    }
   ],
   "source": [
    "\n",
    "# Get whether we can bring the dataset up from storage\n",
    "pickle_loaded = False\n",
    "# if nu.pickle_exists('frvrs_logs_df'):\n",
    "#     try:\n",
    "#         frvrs_logs_df = nu.load_object('frvrs_logs_df')\n",
    "#         pickle_loaded = True\n",
    "#     except AttributeError as e: print(str(e).strip())\n",
    "# if (not pickle_loaded) and nu.csv_exists('frvrs_logs_df', folder_path=nu.saves_folder):\n",
    "#     frvrs_logs_df = nu.load_csv(csv_name='frvrs_logs_df', folder_path=nu.saves_folder)\n",
    "#     pickle_loaded = True\n",
    "pickle_loaded"
   ]
  },
  {
   "cell_type": "code",
   "execution_count": 4,
   "id": "810e8b24-63b9-4526-bc23-b75de94745d8",
   "metadata": {},
   "outputs": [
    {
     "name": "stdout",
     "output_type": "stream",
     "text": [
      "Pickling to /mnt/c/Users/DaveBabbitt/Documents/GitHub/itm-analysis-reporting/saves/pkl/frvrs_logs_df.pkl\n",
      "Saving to /mnt/c/Users/DaveBabbitt/Documents/GitHub/itm-analysis-reporting/saves/csv/frvrs_logs_df.csv\n",
      "(829116, 106)\n",
      "['tool_applied_attach_message']\n"
     ]
    },
    {
     "data": {
      "text/html": [
       "<div>\n",
       "<style scoped>\n",
       "    .dataframe tbody tr th:only-of-type {\n",
       "        vertical-align: middle;\n",
       "    }\n",
       "\n",
       "    .dataframe tbody tr th {\n",
       "        vertical-align: top;\n",
       "    }\n",
       "\n",
       "    .dataframe thead th {\n",
       "        text-align: right;\n",
       "    }\n",
       "</style>\n",
       "<table border=\"1\" class=\"dataframe\">\n",
       "  <thead>\n",
       "    <tr style=\"text-align: right;\">\n",
       "      <th></th>\n",
       "      <th>51</th>\n",
       "    </tr>\n",
       "  </thead>\n",
       "  <tbody>\n",
       "    <tr>\n",
       "      <th>action_type</th>\n",
       "      <td>TOOL_APPLIED</td>\n",
       "    </tr>\n",
       "    <tr>\n",
       "      <th>action_tick</th>\n",
       "      <td>127628</td>\n",
       "    </tr>\n",
       "    <tr>\n",
       "      <th>event_time</th>\n",
       "      <td>2023-03-10 07:55:43</td>\n",
       "    </tr>\n",
       "    <tr>\n",
       "      <th>session_uuid</th>\n",
       "      <td>cf714cd2-2824-4ad2-8d98-3199b1df0bdb</td>\n",
       "    </tr>\n",
       "    <tr>\n",
       "      <th>file_name</th>\n",
       "      <td>All CSV files renamed by date/03.10.23.0753.csv</td>\n",
       "    </tr>\n",
       "    <tr>\n",
       "      <th>logger_version</th>\n",
       "      <td>1.0</td>\n",
       "    </tr>\n",
       "    <tr>\n",
       "      <th>tool_applied_type</th>\n",
       "      <td>Needle</td>\n",
       "    </tr>\n",
       "    <tr>\n",
       "      <th>tool_applied_attachment_point</th>\n",
       "      <td>RChest_Breathe1 (UnityEngine.GameObject)</td>\n",
       "    </tr>\n",
       "    <tr>\n",
       "      <th>tool_applied_tool_location</th>\n",
       "      <td>cath_needle (UnityEngine.GameObject)</td>\n",
       "    </tr>\n",
       "    <tr>\n",
       "      <th>tool_applied_data</th>\n",
       "      <td>right_chest</td>\n",
       "    </tr>\n",
       "    <tr>\n",
       "      <th>tool_applied_sender</th>\n",
       "      <td>Needle_Decomp(Clone) (UnityEngine.GameObject)</td>\n",
       "    </tr>\n",
       "    <tr>\n",
       "      <th>tool_applied_attach_message</th>\n",
       "      <td>AppliedDecompNeedle</td>\n",
       "    </tr>\n",
       "    <tr>\n",
       "      <th>scene_id</th>\n",
       "      <td>0</td>\n",
       "    </tr>\n",
       "  </tbody>\n",
       "</table>\n",
       "</div>"
      ],
      "text/plain": [
       "                                                                            51\n",
       "action_type                                                       TOOL_APPLIED\n",
       "action_tick                                                             127628\n",
       "event_time                                                 2023-03-10 07:55:43\n",
       "session_uuid                              cf714cd2-2824-4ad2-8d98-3199b1df0bdb\n",
       "file_name                      All CSV files renamed by date/03.10.23.0753.csv\n",
       "logger_version                                                             1.0\n",
       "tool_applied_type                                                       Needle\n",
       "tool_applied_attachment_point         RChest_Breathe1 (UnityEngine.GameObject)\n",
       "tool_applied_tool_location                cath_needle (UnityEngine.GameObject)\n",
       "tool_applied_data                                                  right_chest\n",
       "tool_applied_sender              Needle_Decomp(Clone) (UnityEngine.GameObject)\n",
       "tool_applied_attach_message                                AppliedDecompNeedle\n",
       "scene_id                                                                     0"
      ]
     },
     "metadata": {},
     "output_type": "display_data"
    }
   ],
   "source": [
    "\n",
    "# Get all logs into one data frame\n",
    "if not pickle_loaded:\n",
    "    \n",
    "    # Add the CSVs to the data frame\n",
    "    frvrs_logs_df = fu.concatonate_logs()\n",
    "    \n",
    "    # Remove numerically-named columns\n",
    "    columns_list = [x for x in frvrs_logs_df.columns if not re.search(r'\\d+', str(x))]\n",
    "    frvrs_logs_df = frvrs_logs_df[columns_list]\n",
    "    \n",
    "    # Convert 'TRUE' and 'FALSE' to boolean values\n",
    "    for cn in fu.boolean_columns_list: frvrs_logs_df[cn] = frvrs_logs_df[cn].map({'TRUE': True, 'FALSE': False, 'True': True, 'False': False})\n",
    "    \n",
    "    # Convert the nulls into NaNs\n",
    "    for cn in frvrs_logs_df.columns: frvrs_logs_df[cn] = frvrs_logs_df[cn].replace('null', nan)\n",
    "    \n",
    "    nu.store_objects(frvrs_logs_df=frvrs_logs_df)\n",
    "    nu.save_data_frames(frvrs_logs_df=frvrs_logs_df)\n",
    "    pickle_loaded = True\n",
    "print(frvrs_logs_df.shape) # (829116, 106)\n",
    "search_regex = re.compile(r'^Applied[A-Z]')\n",
    "columns_list = nu.get_regexed_columns(frvrs_logs_df, search_regex=search_regex)\n",
    "print(columns_list)\n",
    "df = nu.get_regexed_dataframe(frvrs_logs_df, columns_list, search_regex=search_regex)\n",
    "display(df.sample(min(4, df.shape[0])).dropna(axis='columns', how='all').T)"
   ]
  },
  {
   "cell_type": "markdown",
   "id": "659e116a-b8a0-4a1d-b132-df6f9e38a1d7",
   "metadata": {},
   "source": [
    "\n",
    "## Check for duplicate file ingestion"
   ]
  },
  {
   "cell_type": "code",
   "execution_count": 5,
   "id": "e7f7d334-d060-46bf-ab58-9ef5f522c631",
   "metadata": {},
   "outputs": [],
   "source": [
    "\n",
    "# Filter all the rows that have more than one unique value in the file_name column for each value in the session_uuid column\n",
    "mask_series = (frvrs_logs_df.groupby('session_uuid').file_name.transform(Series.nunique) > 1)\n",
    "assert frvrs_logs_df[mask_series].shape[0] == 0, \"You have duplicate files\"\n",
    "# columns_list = ['session_uuid', 'file_name']\n",
    "# for (session_uuid, file_name), df in frvrs_logs_df[mask_series][columns_list].drop_duplicates().sort_values(columns_list).groupby(\n",
    "#     columns_list\n",
    "# ):\n",
    "#     if not file_name.startswith('Double runs removed/'):\n",
    "#         file_path = osp.join(fu.data_logs_folder, *file_name.split('/'))\n",
    "#         remove(file_path)"
   ]
  },
  {
   "cell_type": "markdown",
   "id": "a73b7e7c-3728-478f-b9e4-2b8c62f872de",
   "metadata": {},
   "source": [
    "\n",
    "## Add new features according to your increasing domain knowledge"
   ]
  },
  {
   "cell_type": "markdown",
   "id": "6cf07ebd-8273-4f09-ad2f-713105653a8f",
   "metadata": {},
   "source": [
    "\n",
    "### Modalize separate columns into one"
   ]
  },
  {
   "cell_type": "code",
   "execution_count": 6,
   "id": "28d140d9-6094-4fc6-84dd-6320dd071e6e",
   "metadata": {},
   "outputs": [
    {
     "name": "stdout",
     "output_type": "stream",
     "text": [
      "Pickling to /mnt/c/Users/DaveBabbitt/Documents/GitHub/itm-analysis-reporting/saves/pkl/frvrs_logs_df.pkl\n",
      "Saving to /mnt/c/Users/DaveBabbitt/Documents/GitHub/itm-analysis-reporting/saves/csv/frvrs_logs_df.csv\n",
      "(829116, 107)\n"
     ]
    },
    {
     "data": {
      "text/html": [
       "<div>\n",
       "<style scoped>\n",
       "    .dataframe tbody tr th:only-of-type {\n",
       "        vertical-align: middle;\n",
       "    }\n",
       "\n",
       "    .dataframe tbody tr th {\n",
       "        vertical-align: top;\n",
       "    }\n",
       "\n",
       "    .dataframe thead th {\n",
       "        text-align: right;\n",
       "    }\n",
       "</style>\n",
       "<table border=\"1\" class=\"dataframe\">\n",
       "  <thead>\n",
       "    <tr style=\"text-align: right;\">\n",
       "      <th></th>\n",
       "      <th>record_count</th>\n",
       "    </tr>\n",
       "    <tr>\n",
       "      <th>patient_id</th>\n",
       "      <th></th>\n",
       "    </tr>\n",
       "  </thead>\n",
       "  <tbody>\n",
       "    <tr>\n",
       "      <th>Helga_10 Root</th>\n",
       "      <td>191293</td>\n",
       "    </tr>\n",
       "    <tr>\n",
       "      <th>Gloria_8 Root</th>\n",
       "      <td>170979</td>\n",
       "    </tr>\n",
       "    <tr>\n",
       "      <th>Bob_9 Root</th>\n",
       "      <td>30678</td>\n",
       "    </tr>\n",
       "    <tr>\n",
       "      <th>Mike_2 Root</th>\n",
       "      <td>17804</td>\n",
       "    </tr>\n",
       "    <tr>\n",
       "      <th>Mike_0 Root</th>\n",
       "      <td>11035</td>\n",
       "    </tr>\n",
       "  </tbody>\n",
       "</table>\n",
       "</div>"
      ],
      "text/plain": [
       "               record_count\n",
       "patient_id                 \n",
       "Helga_10 Root        191293\n",
       "Gloria_8 Root        170979\n",
       "Bob_9 Root            30678\n",
       "Mike_2 Root           17804\n",
       "Mike_0 Root           11035"
      ]
     },
     "metadata": {},
     "output_type": "display_data"
    }
   ],
   "source": [
    "\n",
    "# Modalize into one patient ID column if possible\n",
    "new_column_name = 'patient_id'\n",
    "if (new_column_name not in frvrs_logs_df.columns):\n",
    "    frvrs_logs_df = nu.modalize_columns(frvrs_logs_df, fu.patient_id_columns_list, new_column_name)\n",
    "    \n",
    "    # Store the results and show the new data frame shape\n",
    "    nu.store_objects(frvrs_logs_df=frvrs_logs_df)\n",
    "    nu.save_data_frames(frvrs_logs_df=frvrs_logs_df)\n",
    "    print(frvrs_logs_df.shape) # (829116, 108)\n",
    "display(frvrs_logs_df.groupby(new_column_name).size().to_frame().rename(columns={0: 'record_count'}).sort_values(\n",
    "    'record_count', ascending=False\n",
    ").head(5))"
   ]
  },
  {
   "cell_type": "code",
   "execution_count": 7,
   "id": "526a523d-861b-4ac7-b66e-53830521010f",
   "metadata": {},
   "outputs": [
    {
     "name": "stdout",
     "output_type": "stream",
     "text": [
      "Pickling to /mnt/c/Users/DaveBabbitt/Documents/GitHub/itm-analysis-reporting/saves/pkl/frvrs_logs_df.pkl\n",
      "Saving to /mnt/c/Users/DaveBabbitt/Documents/GitHub/itm-analysis-reporting/saves/csv/frvrs_logs_df.csv\n",
      "(829116, 108)\n"
     ]
    },
    {
     "data": {
      "text/html": [
       "<div>\n",
       "<style scoped>\n",
       "    .dataframe tbody tr th:only-of-type {\n",
       "        vertical-align: middle;\n",
       "    }\n",
       "\n",
       "    .dataframe tbody tr th {\n",
       "        vertical-align: top;\n",
       "    }\n",
       "\n",
       "    .dataframe thead th {\n",
       "        text-align: right;\n",
       "    }\n",
       "</style>\n",
       "<table border=\"1\" class=\"dataframe\">\n",
       "  <thead>\n",
       "    <tr style=\"text-align: right;\">\n",
       "      <th></th>\n",
       "      <th>record_count</th>\n",
       "    </tr>\n",
       "    <tr>\n",
       "      <th>injury_id</th>\n",
       "      <th></th>\n",
       "    </tr>\n",
       "  </thead>\n",
       "  <tbody>\n",
       "    <tr>\n",
       "      <th>R Chest Collapse</th>\n",
       "      <td>1242</td>\n",
       "    </tr>\n",
       "    <tr>\n",
       "      <th>R Shin Amputation</th>\n",
       "      <td>1102</td>\n",
       "    </tr>\n",
       "    <tr>\n",
       "      <th>L Thigh Puncture</th>\n",
       "      <td>1018</td>\n",
       "    </tr>\n",
       "    <tr>\n",
       "      <th>L Thigh Laceration</th>\n",
       "      <td>888</td>\n",
       "    </tr>\n",
       "    <tr>\n",
       "      <th>R Thigh Laceration</th>\n",
       "      <td>875</td>\n",
       "    </tr>\n",
       "  </tbody>\n",
       "</table>\n",
       "</div>"
      ],
      "text/plain": [
       "                    record_count\n",
       "injury_id                       \n",
       "R Chest Collapse            1242\n",
       "R Shin Amputation           1102\n",
       "L Thigh Puncture            1018\n",
       "L Thigh Laceration           888\n",
       "R Thigh Laceration           875"
      ]
     },
     "metadata": {},
     "output_type": "display_data"
    }
   ],
   "source": [
    "\n",
    "# Modalize into one injury ID column if possible\n",
    "new_column_name = 'injury_id'\n",
    "if (new_column_name not in frvrs_logs_df.columns):\n",
    "    frvrs_logs_df = nu.modalize_columns(frvrs_logs_df, fu.injury_id_columns_list, new_column_name)\n",
    "    \n",
    "    # Store the results and show the new data frame shape\n",
    "    nu.store_objects(frvrs_logs_df=frvrs_logs_df)\n",
    "    nu.save_data_frames(frvrs_logs_df=frvrs_logs_df)\n",
    "    \n",
    "    print(frvrs_logs_df.shape) # (829116, 109)\n",
    "display(frvrs_logs_df.groupby(new_column_name).size().to_frame().rename(columns={0: 'record_count'}).sort_values(\n",
    "    'record_count', ascending=False\n",
    ").head(5))"
   ]
  },
  {
   "cell_type": "code",
   "execution_count": 8,
   "id": "0620fee1-3032-4f5b-be65-63ef72935c5c",
   "metadata": {},
   "outputs": [
    {
     "name": "stdout",
     "output_type": "stream",
     "text": [
      "Pickling to /mnt/c/Users/DaveBabbitt/Documents/GitHub/itm-analysis-reporting/saves/pkl/frvrs_logs_df.pkl\n",
      "Saving to /mnt/c/Users/DaveBabbitt/Documents/GitHub/itm-analysis-reporting/saves/csv/frvrs_logs_df.csv\n",
      "(829116, 109)\n"
     ]
    },
    {
     "data": {
      "text/html": [
       "<div>\n",
       "<style scoped>\n",
       "    .dataframe tbody tr th:only-of-type {\n",
       "        vertical-align: middle;\n",
       "    }\n",
       "\n",
       "    .dataframe tbody tr th {\n",
       "        vertical-align: top;\n",
       "    }\n",
       "\n",
       "    .dataframe thead th {\n",
       "        text-align: right;\n",
       "    }\n",
       "</style>\n",
       "<table border=\"1\" class=\"dataframe\">\n",
       "  <thead>\n",
       "    <tr style=\"text-align: right;\">\n",
       "      <th></th>\n",
       "      <th>record_count</th>\n",
       "    </tr>\n",
       "    <tr>\n",
       "      <th>location_id</th>\n",
       "      <th></th>\n",
       "    </tr>\n",
       "  </thead>\n",
       "  <tbody>\n",
       "    <tr>\n",
       "      <th>(4.0, 0.0, -4.8)</th>\n",
       "      <td>8213</td>\n",
       "    </tr>\n",
       "    <tr>\n",
       "      <th>(4.1, 0.0, -4.8)</th>\n",
       "      <td>4373</td>\n",
       "    </tr>\n",
       "    <tr>\n",
       "      <th>(3.9, 0.0, -4.9)</th>\n",
       "      <td>4307</td>\n",
       "    </tr>\n",
       "    <tr>\n",
       "      <th>(5.7, 0.0, -5.7)</th>\n",
       "      <td>4083</td>\n",
       "    </tr>\n",
       "    <tr>\n",
       "      <th>(2.7, 0.0, -5.7)</th>\n",
       "      <td>3860</td>\n",
       "    </tr>\n",
       "  </tbody>\n",
       "</table>\n",
       "</div>"
      ],
      "text/plain": [
       "                  record_count\n",
       "location_id                   \n",
       "(4.0, 0.0, -4.8)          8213\n",
       "(4.1, 0.0, -4.8)          4373\n",
       "(3.9, 0.0, -4.9)          4307\n",
       "(5.7, 0.0, -5.7)          4083\n",
       "(2.7, 0.0, -5.7)          3860"
      ]
     },
     "metadata": {},
     "output_type": "display_data"
    }
   ],
   "source": [
    "\n",
    "# Modalize into one location ID column if possible\n",
    "new_column_name = 'location_id'\n",
    "if (new_column_name not in frvrs_logs_df.columns):\n",
    "    frvrs_logs_df = nu.modalize_columns(frvrs_logs_df, fu.location_id_columns_list, new_column_name)\n",
    "    \n",
    "    # Store the results and show the new data frame shape\n",
    "    nu.store_objects(frvrs_logs_df=frvrs_logs_df)\n",
    "    nu.save_data_frames(frvrs_logs_df=frvrs_logs_df)\n",
    "    \n",
    "    print(frvrs_logs_df.shape) # (829116, 108)\n",
    "display(frvrs_logs_df.groupby(new_column_name).size().to_frame().rename(columns={0: 'record_count'}).sort_values(\n",
    "    'record_count', ascending=False\n",
    ").head(5))"
   ]
  },
  {
   "cell_type": "code",
   "execution_count": 9,
   "id": "aca86b4a-f8e1-4076-ab21-d45762523aee",
   "metadata": {},
   "outputs": [
    {
     "name": "stdout",
     "output_type": "stream",
     "text": [
      "Pickling to /mnt/c/Users/DaveBabbitt/Documents/GitHub/itm-analysis-reporting/saves/pkl/frvrs_logs_df.pkl\n",
      "Saving to /mnt/c/Users/DaveBabbitt/Documents/GitHub/itm-analysis-reporting/saves/csv/frvrs_logs_df.csv\n",
      "(829116, 110)\n"
     ]
    },
    {
     "data": {
      "text/html": [
       "<div>\n",
       "<style scoped>\n",
       "    .dataframe tbody tr th:only-of-type {\n",
       "        vertical-align: middle;\n",
       "    }\n",
       "\n",
       "    .dataframe tbody tr th {\n",
       "        vertical-align: top;\n",
       "    }\n",
       "\n",
       "    .dataframe thead th {\n",
       "        text-align: right;\n",
       "    }\n",
       "</style>\n",
       "<table border=\"1\" class=\"dataframe\">\n",
       "  <thead>\n",
       "    <tr style=\"text-align: right;\">\n",
       "      <th></th>\n",
       "      <th>record_count</th>\n",
       "    </tr>\n",
       "    <tr>\n",
       "      <th>patient_sort</th>\n",
       "      <th></th>\n",
       "    </tr>\n",
       "  </thead>\n",
       "  <tbody>\n",
       "    <tr>\n",
       "      <th>still</th>\n",
       "      <td>5438</td>\n",
       "    </tr>\n",
       "    <tr>\n",
       "      <th>waver</th>\n",
       "      <td>8196</td>\n",
       "    </tr>\n",
       "    <tr>\n",
       "      <th>walker</th>\n",
       "      <td>4960</td>\n",
       "    </tr>\n",
       "  </tbody>\n",
       "</table>\n",
       "</div>"
      ],
      "text/plain": [
       "              record_count\n",
       "patient_sort              \n",
       "still                 5438\n",
       "waver                 8196\n",
       "walker                4960"
      ]
     },
     "metadata": {},
     "output_type": "display_data"
    }
   ],
   "source": [
    "\n",
    "# Modalize into one patient sort column if possible\n",
    "new_column_name = 'patient_sort'\n",
    "if (new_column_name not in frvrs_logs_df.columns):\n",
    "    frvrs_logs_df = nu.modalize_columns(frvrs_logs_df, fu.patient_sort_columns_list, new_column_name)\n",
    "    frvrs_logs_df[new_column_name] = frvrs_logs_df[new_column_name].astype(fu.sort_category_order)\n",
    "    \n",
    "    # Store the results and show the new data frame shape\n",
    "    nu.store_objects(frvrs_logs_df=frvrs_logs_df)\n",
    "    nu.save_data_frames(frvrs_logs_df=frvrs_logs_df)\n",
    "    print(frvrs_logs_df.shape) # (829116, 110)\n",
    "\n",
    "display(frvrs_logs_df.groupby(new_column_name).size().to_frame().rename(columns={0: 'record_count'}))"
   ]
  },
  {
   "cell_type": "code",
   "execution_count": 10,
   "id": "51dae28f-d423-43af-b189-9b8befb83de2",
   "metadata": {},
   "outputs": [
    {
     "name": "stdout",
     "output_type": "stream",
     "text": [
      "Pickling to /mnt/c/Users/DaveBabbitt/Documents/GitHub/itm-analysis-reporting/saves/pkl/frvrs_logs_df.pkl\n",
      "Saving to /mnt/c/Users/DaveBabbitt/Documents/GitHub/itm-analysis-reporting/saves/csv/frvrs_logs_df.csv\n",
      "(829116, 111)\n"
     ]
    },
    {
     "data": {
      "text/html": [
       "<div>\n",
       "<style scoped>\n",
       "    .dataframe tbody tr th:only-of-type {\n",
       "        vertical-align: middle;\n",
       "    }\n",
       "\n",
       "    .dataframe tbody tr th {\n",
       "        vertical-align: top;\n",
       "    }\n",
       "\n",
       "    .dataframe thead th {\n",
       "        text-align: right;\n",
       "    }\n",
       "</style>\n",
       "<table border=\"1\" class=\"dataframe\">\n",
       "  <thead>\n",
       "    <tr style=\"text-align: right;\">\n",
       "      <th></th>\n",
       "      <th>record_count</th>\n",
       "    </tr>\n",
       "    <tr>\n",
       "      <th>patient_pulse</th>\n",
       "      <th></th>\n",
       "    </tr>\n",
       "  </thead>\n",
       "  <tbody>\n",
       "    <tr>\n",
       "      <th>none</th>\n",
       "      <td>2363</td>\n",
       "    </tr>\n",
       "    <tr>\n",
       "      <th>faint</th>\n",
       "      <td>2875</td>\n",
       "    </tr>\n",
       "    <tr>\n",
       "      <th>fast</th>\n",
       "      <td>8043</td>\n",
       "    </tr>\n",
       "    <tr>\n",
       "      <th>normal</th>\n",
       "      <td>5313</td>\n",
       "    </tr>\n",
       "  </tbody>\n",
       "</table>\n",
       "</div>"
      ],
      "text/plain": [
       "               record_count\n",
       "patient_pulse              \n",
       "none                   2363\n",
       "faint                  2875\n",
       "fast                   8043\n",
       "normal                 5313"
      ]
     },
     "metadata": {},
     "output_type": "display_data"
    }
   ],
   "source": [
    "\n",
    "# Modalize into one patient pulse column if possible\n",
    "new_column_name = 'patient_pulse'\n",
    "if (new_column_name not in frvrs_logs_df.columns):\n",
    "    frvrs_logs_df = nu.modalize_columns(frvrs_logs_df, fu.pulse_columns_list, new_column_name)\n",
    "    frvrs_logs_df[new_column_name] = frvrs_logs_df[new_column_name].astype(fu.pulse_category_order)\n",
    "    \n",
    "    # Store the results and show the new data frame shape\n",
    "    nu.store_objects(frvrs_logs_df=frvrs_logs_df)\n",
    "    nu.save_data_frames(frvrs_logs_df=frvrs_logs_df)\n",
    "    print(frvrs_logs_df.shape) # (829116, 110)\n",
    "    \n",
    "display(frvrs_logs_df.groupby(new_column_name).size().to_frame().rename(columns={0: 'record_count'}))"
   ]
  },
  {
   "cell_type": "code",
   "execution_count": 11,
   "id": "aa917381-7be1-417b-b13a-aa10761dffa7",
   "metadata": {},
   "outputs": [
    {
     "name": "stdout",
     "output_type": "stream",
     "text": [
      "Pickling to /mnt/c/Users/DaveBabbitt/Documents/GitHub/itm-analysis-reporting/saves/pkl/frvrs_logs_df.pkl\n",
      "Saving to /mnt/c/Users/DaveBabbitt/Documents/GitHub/itm-analysis-reporting/saves/csv/frvrs_logs_df.csv\n",
      "(829116, 112)\n"
     ]
    },
    {
     "data": {
      "text/html": [
       "<div>\n",
       "<style scoped>\n",
       "    .dataframe tbody tr th:only-of-type {\n",
       "        vertical-align: middle;\n",
       "    }\n",
       "\n",
       "    .dataframe tbody tr th {\n",
       "        vertical-align: top;\n",
       "    }\n",
       "\n",
       "    .dataframe thead th {\n",
       "        text-align: right;\n",
       "    }\n",
       "</style>\n",
       "<table border=\"1\" class=\"dataframe\">\n",
       "  <thead>\n",
       "    <tr style=\"text-align: right;\">\n",
       "      <th></th>\n",
       "      <th>record_count</th>\n",
       "    </tr>\n",
       "    <tr>\n",
       "      <th>patient_salt</th>\n",
       "      <th></th>\n",
       "    </tr>\n",
       "  </thead>\n",
       "  <tbody>\n",
       "    <tr>\n",
       "      <th>DEAD</th>\n",
       "      <td>1338</td>\n",
       "    </tr>\n",
       "    <tr>\n",
       "      <th>EXPECTANT</th>\n",
       "      <td>1866</td>\n",
       "    </tr>\n",
       "    <tr>\n",
       "      <th>IMMEDIATE</th>\n",
       "      <td>7815</td>\n",
       "    </tr>\n",
       "    <tr>\n",
       "      <th>DELAYED</th>\n",
       "      <td>3756</td>\n",
       "    </tr>\n",
       "    <tr>\n",
       "      <th>MINIMAL</th>\n",
       "      <td>3819</td>\n",
       "    </tr>\n",
       "  </tbody>\n",
       "</table>\n",
       "</div>"
      ],
      "text/plain": [
       "              record_count\n",
       "patient_salt              \n",
       "DEAD                  1338\n",
       "EXPECTANT             1866\n",
       "IMMEDIATE             7815\n",
       "DELAYED               3756\n",
       "MINIMAL               3819"
      ]
     },
     "metadata": {},
     "output_type": "display_data"
    }
   ],
   "source": [
    "\n",
    "# Modalize into one patient salt column if possible\n",
    "new_column_name = 'patient_salt'\n",
    "if (new_column_name not in frvrs_logs_df.columns):\n",
    "    frvrs_logs_df = nu.modalize_columns(frvrs_logs_df, fu.patient_salt_columns_list, new_column_name)\n",
    "    frvrs_logs_df[new_column_name] = frvrs_logs_df[new_column_name].astype(fu.salt_category_order)\n",
    "    \n",
    "    # Store the results and show the new data frame shape\n",
    "    nu.store_objects(frvrs_logs_df=frvrs_logs_df)\n",
    "    nu.save_data_frames(frvrs_logs_df=frvrs_logs_df)\n",
    "    print(frvrs_logs_df.shape) # (829116, 113)\n",
    "    \n",
    "display(frvrs_logs_df.groupby(new_column_name).size().to_frame().rename(columns={0: 'record_count'}))"
   ]
  },
  {
   "cell_type": "code",
   "execution_count": 12,
   "id": "79144461-6c0a-4c5c-b8f7-2702f5c392bc",
   "metadata": {},
   "outputs": [
    {
     "name": "stdout",
     "output_type": "stream",
     "text": [
      "Pickling to /mnt/c/Users/DaveBabbitt/Documents/GitHub/itm-analysis-reporting/saves/pkl/frvrs_logs_df.pkl\n",
      "Saving to /mnt/c/Users/DaveBabbitt/Documents/GitHub/itm-analysis-reporting/saves/csv/frvrs_logs_df.csv\n",
      "(829116, 113)\n"
     ]
    },
    {
     "data": {
      "text/html": [
       "<div>\n",
       "<style scoped>\n",
       "    .dataframe tbody tr th:only-of-type {\n",
       "        vertical-align: middle;\n",
       "    }\n",
       "\n",
       "    .dataframe tbody tr th {\n",
       "        vertical-align: top;\n",
       "    }\n",
       "\n",
       "    .dataframe thead th {\n",
       "        text-align: right;\n",
       "    }\n",
       "</style>\n",
       "<table border=\"1\" class=\"dataframe\">\n",
       "  <thead>\n",
       "    <tr style=\"text-align: right;\">\n",
       "      <th></th>\n",
       "      <th>record_count</th>\n",
       "    </tr>\n",
       "    <tr>\n",
       "      <th>patient_hearing</th>\n",
       "      <th></th>\n",
       "    </tr>\n",
       "  </thead>\n",
       "  <tbody>\n",
       "    <tr>\n",
       "      <th>none</th>\n",
       "      <td>1987</td>\n",
       "    </tr>\n",
       "    <tr>\n",
       "      <th>limited</th>\n",
       "      <td>750</td>\n",
       "    </tr>\n",
       "    <tr>\n",
       "      <th>normal</th>\n",
       "      <td>10539</td>\n",
       "    </tr>\n",
       "  </tbody>\n",
       "</table>\n",
       "</div>"
      ],
      "text/plain": [
       "                 record_count\n",
       "patient_hearing              \n",
       "none                     1987\n",
       "limited                   750\n",
       "normal                  10539"
      ]
     },
     "metadata": {},
     "output_type": "display_data"
    }
   ],
   "source": [
    "\n",
    "# Modalize into one patient hearing column if possible\n",
    "new_column_name = 'patient_hearing'\n",
    "if (new_column_name not in frvrs_logs_df.columns):\n",
    "    frvrs_logs_df = nu.modalize_columns(frvrs_logs_df, fu.hearing_columns_list, new_column_name)\n",
    "    frvrs_logs_df[new_column_name] = frvrs_logs_df[new_column_name].astype(fu.hearing_category_order)\n",
    "    \n",
    "    # Store the results and show the new data frame shape\n",
    "    nu.store_objects(frvrs_logs_df=frvrs_logs_df)\n",
    "    nu.save_data_frames(frvrs_logs_df=frvrs_logs_df)\n",
    "    print(frvrs_logs_df.shape) # (829116, 110)\n",
    "    \n",
    "display(frvrs_logs_df.groupby(new_column_name).size().to_frame().rename(columns={0: 'record_count'}))"
   ]
  },
  {
   "cell_type": "code",
   "execution_count": 13,
   "id": "a68bc06d-45b6-44c7-aadf-ca819b8aafcd",
   "metadata": {},
   "outputs": [
    {
     "name": "stdout",
     "output_type": "stream",
     "text": [
      "Pickling to /mnt/c/Users/DaveBabbitt/Documents/GitHub/itm-analysis-reporting/saves/pkl/frvrs_logs_df.pkl\n",
      "Saving to /mnt/c/Users/DaveBabbitt/Documents/GitHub/itm-analysis-reporting/saves/csv/frvrs_logs_df.csv\n",
      "(829116, 114)\n"
     ]
    },
    {
     "data": {
      "text/html": [
       "<div>\n",
       "<style scoped>\n",
       "    .dataframe tbody tr th:only-of-type {\n",
       "        vertical-align: middle;\n",
       "    }\n",
       "\n",
       "    .dataframe tbody tr th {\n",
       "        vertical-align: top;\n",
       "    }\n",
       "\n",
       "    .dataframe thead th {\n",
       "        text-align: right;\n",
       "    }\n",
       "</style>\n",
       "<table border=\"1\" class=\"dataframe\">\n",
       "  <thead>\n",
       "    <tr style=\"text-align: right;\">\n",
       "      <th></th>\n",
       "      <th>record_count</th>\n",
       "    </tr>\n",
       "    <tr>\n",
       "      <th>patient_breath</th>\n",
       "      <th></th>\n",
       "    </tr>\n",
       "  </thead>\n",
       "  <tbody>\n",
       "    <tr>\n",
       "      <th>none</th>\n",
       "      <td>1338</td>\n",
       "    </tr>\n",
       "    <tr>\n",
       "      <th>collapsedRight</th>\n",
       "      <td>1937</td>\n",
       "    </tr>\n",
       "    <tr>\n",
       "      <th>restricted</th>\n",
       "      <td>2045</td>\n",
       "    </tr>\n",
       "    <tr>\n",
       "      <th>fast</th>\n",
       "      <td>1753</td>\n",
       "    </tr>\n",
       "    <tr>\n",
       "      <th>normal</th>\n",
       "      <td>11521</td>\n",
       "    </tr>\n",
       "  </tbody>\n",
       "</table>\n",
       "</div>"
      ],
      "text/plain": [
       "                record_count\n",
       "patient_breath              \n",
       "none                    1338\n",
       "collapsedRight          1937\n",
       "restricted              2045\n",
       "fast                    1753\n",
       "normal                 11521"
      ]
     },
     "metadata": {},
     "output_type": "display_data"
    }
   ],
   "source": [
    "\n",
    "# Modalize into one patient breath column if possible\n",
    "new_column_name = 'patient_breath'\n",
    "if (new_column_name not in frvrs_logs_df.columns):\n",
    "    frvrs_logs_df = nu.modalize_columns(frvrs_logs_df, fu.breath_columns_list, new_column_name)\n",
    "    frvrs_logs_df[new_column_name] = frvrs_logs_df[new_column_name].astype(fu.breath_category_order)\n",
    "    \n",
    "    # Store the results and show the new data frame shape\n",
    "    nu.store_objects(frvrs_logs_df=frvrs_logs_df)\n",
    "    nu.save_data_frames(frvrs_logs_df=frvrs_logs_df)\n",
    "    print(frvrs_logs_df.shape) # (829116, 110)\n",
    "    \n",
    "display(frvrs_logs_df.groupby(new_column_name).size().to_frame().rename(columns={0: 'record_count'}))"
   ]
  },
  {
   "cell_type": "code",
   "execution_count": 14,
   "id": "9435b5c1-c8bb-4c04-901c-e00a027d7f10",
   "metadata": {},
   "outputs": [
    {
     "name": "stdout",
     "output_type": "stream",
     "text": [
      "Pickling to /mnt/c/Users/DaveBabbitt/Documents/GitHub/itm-analysis-reporting/saves/pkl/frvrs_logs_df.pkl\n",
      "Saving to /mnt/c/Users/DaveBabbitt/Documents/GitHub/itm-analysis-reporting/saves/csv/frvrs_logs_df.csv\n",
      "(829116, 115)\n"
     ]
    },
    {
     "data": {
      "text/html": [
       "<div>\n",
       "<style scoped>\n",
       "    .dataframe tbody tr th:only-of-type {\n",
       "        vertical-align: middle;\n",
       "    }\n",
       "\n",
       "    .dataframe tbody tr th {\n",
       "        vertical-align: top;\n",
       "    }\n",
       "\n",
       "    .dataframe thead th {\n",
       "        text-align: right;\n",
       "    }\n",
       "</style>\n",
       "<table border=\"1\" class=\"dataframe\">\n",
       "  <thead>\n",
       "    <tr style=\"text-align: right;\">\n",
       "      <th></th>\n",
       "      <th>record_count</th>\n",
       "    </tr>\n",
       "    <tr>\n",
       "      <th>patient_mood</th>\n",
       "      <th></th>\n",
       "    </tr>\n",
       "  </thead>\n",
       "  <tbody>\n",
       "    <tr>\n",
       "      <th>dead</th>\n",
       "      <td>1375</td>\n",
       "    </tr>\n",
       "    <tr>\n",
       "      <th>unresponsive</th>\n",
       "      <td>3863</td>\n",
       "    </tr>\n",
       "    <tr>\n",
       "      <th>agony</th>\n",
       "      <td>1508</td>\n",
       "    </tr>\n",
       "    <tr>\n",
       "      <th>upset</th>\n",
       "      <td>8841</td>\n",
       "    </tr>\n",
       "    <tr>\n",
       "      <th>calm</th>\n",
       "      <td>3007</td>\n",
       "    </tr>\n",
       "  </tbody>\n",
       "</table>\n",
       "</div>"
      ],
      "text/plain": [
       "              record_count\n",
       "patient_mood              \n",
       "dead                  1375\n",
       "unresponsive          3863\n",
       "agony                 1508\n",
       "upset                 8841\n",
       "calm                  3007"
      ]
     },
     "metadata": {},
     "output_type": "display_data"
    }
   ],
   "source": [
    "\n",
    "# Modalize into one patient mood column if possible\n",
    "new_column_name = 'patient_mood'\n",
    "if (new_column_name not in frvrs_logs_df.columns):\n",
    "    frvrs_logs_df = nu.modalize_columns(frvrs_logs_df, fu.mood_columns_list, new_column_name)\n",
    "    frvrs_logs_df[new_column_name] = frvrs_logs_df[new_column_name].astype(fu.mood_category_order)\n",
    "    \n",
    "    # Store the results and show the new data frame shape\n",
    "    nu.store_objects(frvrs_logs_df=frvrs_logs_df)\n",
    "    nu.save_data_frames(frvrs_logs_df=frvrs_logs_df)\n",
    "    print(frvrs_logs_df.shape) # (829116, 110)\n",
    "    \n",
    "display(frvrs_logs_df.groupby(new_column_name).size().to_frame().rename(columns={0: 'record_count'}))"
   ]
  },
  {
   "cell_type": "code",
   "execution_count": 15,
   "id": "1537a0ff-e075-4c84-8f7b-49dfb983bbb2",
   "metadata": {},
   "outputs": [
    {
     "name": "stdout",
     "output_type": "stream",
     "text": [
      "Pickling to /mnt/c/Users/DaveBabbitt/Documents/GitHub/itm-analysis-reporting/saves/pkl/frvrs_logs_df.pkl\n",
      "Saving to /mnt/c/Users/DaveBabbitt/Documents/GitHub/itm-analysis-reporting/saves/csv/frvrs_logs_df.csv\n",
      "(829116, 116)\n"
     ]
    },
    {
     "data": {
      "text/html": [
       "<div>\n",
       "<style scoped>\n",
       "    .dataframe tbody tr th:only-of-type {\n",
       "        vertical-align: middle;\n",
       "    }\n",
       "\n",
       "    .dataframe tbody tr th {\n",
       "        vertical-align: top;\n",
       "    }\n",
       "\n",
       "    .dataframe thead th {\n",
       "        text-align: right;\n",
       "    }\n",
       "</style>\n",
       "<table border=\"1\" class=\"dataframe\">\n",
       "  <thead>\n",
       "    <tr style=\"text-align: right;\">\n",
       "      <th></th>\n",
       "      <th>record_count</th>\n",
       "    </tr>\n",
       "    <tr>\n",
       "      <th>patient_pose</th>\n",
       "      <th></th>\n",
       "    </tr>\n",
       "  </thead>\n",
       "  <tbody>\n",
       "    <tr>\n",
       "      <th>supine</th>\n",
       "      <td>5603</td>\n",
       "    </tr>\n",
       "    <tr>\n",
       "      <th>fetal</th>\n",
       "      <td>5046</td>\n",
       "    </tr>\n",
       "    <tr>\n",
       "      <th>sittingGround</th>\n",
       "      <td>4561</td>\n",
       "    </tr>\n",
       "    <tr>\n",
       "      <th>kneeling</th>\n",
       "      <td>66</td>\n",
       "    </tr>\n",
       "    <tr>\n",
       "      <th>recovery</th>\n",
       "      <td>718</td>\n",
       "    </tr>\n",
       "    <tr>\n",
       "      <th>standing</th>\n",
       "      <td>2574</td>\n",
       "    </tr>\n",
       "  </tbody>\n",
       "</table>\n",
       "</div>"
      ],
      "text/plain": [
       "               record_count\n",
       "patient_pose               \n",
       "supine                 5603\n",
       "fetal                  5046\n",
       "sittingGround          4561\n",
       "kneeling                 66\n",
       "recovery                718\n",
       "standing               2574"
      ]
     },
     "metadata": {},
     "output_type": "display_data"
    }
   ],
   "source": [
    "\n",
    "# Modalize into one patient pose column if possible\n",
    "new_column_name = 'patient_pose'\n",
    "if (new_column_name not in frvrs_logs_df.columns):\n",
    "    frvrs_logs_df = nu.modalize_columns(frvrs_logs_df, fu.pose_columns_list, new_column_name)\n",
    "    frvrs_logs_df[new_column_name] = frvrs_logs_df[new_column_name].astype(fu.pose_category_order)\n",
    "    \n",
    "    # Store the results and show the new data frame shape\n",
    "    nu.store_objects(frvrs_logs_df=frvrs_logs_df)\n",
    "    nu.save_data_frames(frvrs_logs_df=frvrs_logs_df)\n",
    "    print(frvrs_logs_df.shape) # (829116, 110)\n",
    "    \n",
    "display(frvrs_logs_df.groupby(new_column_name).size().to_frame().rename(columns={0: 'record_count'}))"
   ]
  },
  {
   "cell_type": "code",
   "execution_count": 16,
   "id": "3b758c2e-d06e-4092-8e14-261df4a4c0b9",
   "metadata": {},
   "outputs": [
    {
     "name": "stdout",
     "output_type": "stream",
     "text": [
      "Pickling to /mnt/c/Users/DaveBabbitt/Documents/GitHub/itm-analysis-reporting/saves/pkl/frvrs_logs_df.pkl\n",
      "Saving to /mnt/c/Users/DaveBabbitt/Documents/GitHub/itm-analysis-reporting/saves/csv/frvrs_logs_df.csv\n",
      "(829116, 117)\n"
     ]
    },
    {
     "data": {
      "text/html": [
       "<div>\n",
       "<style scoped>\n",
       "    .dataframe tbody tr th:only-of-type {\n",
       "        vertical-align: middle;\n",
       "    }\n",
       "\n",
       "    .dataframe tbody tr th {\n",
       "        vertical-align: top;\n",
       "    }\n",
       "\n",
       "    .dataframe thead th {\n",
       "        text-align: right;\n",
       "    }\n",
       "</style>\n",
       "<table border=\"1\" class=\"dataframe\">\n",
       "  <thead>\n",
       "    <tr style=\"text-align: right;\">\n",
       "      <th></th>\n",
       "      <th>record_count</th>\n",
       "    </tr>\n",
       "    <tr>\n",
       "      <th>injury_severity</th>\n",
       "      <th></th>\n",
       "    </tr>\n",
       "  </thead>\n",
       "  <tbody>\n",
       "    <tr>\n",
       "      <th>high</th>\n",
       "      <td>4647</td>\n",
       "    </tr>\n",
       "    <tr>\n",
       "      <th>medium</th>\n",
       "      <td>5643</td>\n",
       "    </tr>\n",
       "    <tr>\n",
       "      <th>low</th>\n",
       "      <td>2867</td>\n",
       "    </tr>\n",
       "  </tbody>\n",
       "</table>\n",
       "</div>"
      ],
      "text/plain": [
       "                 record_count\n",
       "injury_severity              \n",
       "high                     4647\n",
       "medium                   5643\n",
       "low                      2867"
      ]
     },
     "metadata": {},
     "output_type": "display_data"
    }
   ],
   "source": [
    "\n",
    "# Modalize into one injury severity column if possible\n",
    "new_column_name = 'injury_severity'\n",
    "if (new_column_name not in frvrs_logs_df.columns):\n",
    "    frvrs_logs_df = nu.modalize_columns(frvrs_logs_df, fu.injury_severity_columns_list, new_column_name)\n",
    "    frvrs_logs_df[new_column_name] = frvrs_logs_df[new_column_name].astype(fu.severity_category_order)\n",
    "    \n",
    "    # Store the results and show the new data frame shape\n",
    "    nu.store_objects(frvrs_logs_df=frvrs_logs_df)\n",
    "    nu.save_data_frames(frvrs_logs_df=frvrs_logs_df)\n",
    "    print(frvrs_logs_df.shape) # (829116, 120)\n",
    "    \n",
    "display(frvrs_logs_df.groupby(new_column_name).size().to_frame().rename(columns={0: 'record_count'}))"
   ]
  },
  {
   "cell_type": "code",
   "execution_count": 17,
   "id": "5cc2229e-8b95-4baf-9f31-36761ff9b76d",
   "metadata": {},
   "outputs": [
    {
     "name": "stdout",
     "output_type": "stream",
     "text": [
      "Pickling to /mnt/c/Users/DaveBabbitt/Documents/GitHub/itm-analysis-reporting/saves/pkl/frvrs_logs_df.pkl\n",
      "Saving to /mnt/c/Users/DaveBabbitt/Documents/GitHub/itm-analysis-reporting/saves/csv/frvrs_logs_df.csv\n",
      "(829116, 118)\n"
     ]
    },
    {
     "data": {
      "text/html": [
       "<div>\n",
       "<style scoped>\n",
       "    .dataframe tbody tr th:only-of-type {\n",
       "        vertical-align: middle;\n",
       "    }\n",
       "\n",
       "    .dataframe tbody tr th {\n",
       "        vertical-align: top;\n",
       "    }\n",
       "\n",
       "    .dataframe thead th {\n",
       "        text-align: right;\n",
       "    }\n",
       "</style>\n",
       "<table border=\"1\" class=\"dataframe\">\n",
       "  <thead>\n",
       "    <tr style=\"text-align: right;\">\n",
       "      <th></th>\n",
       "      <th>record_count</th>\n",
       "    </tr>\n",
       "    <tr>\n",
       "      <th>injury_required_procedure</th>\n",
       "      <th></th>\n",
       "    </tr>\n",
       "  </thead>\n",
       "  <tbody>\n",
       "    <tr>\n",
       "      <th>tourniquet</th>\n",
       "      <td>4547</td>\n",
       "    </tr>\n",
       "    <tr>\n",
       "      <th>gauzePressure</th>\n",
       "      <td>2991</td>\n",
       "    </tr>\n",
       "    <tr>\n",
       "      <th>decompress</th>\n",
       "      <td>1606</td>\n",
       "    </tr>\n",
       "    <tr>\n",
       "      <th>woundpack</th>\n",
       "      <td>2512</td>\n",
       "    </tr>\n",
       "    <tr>\n",
       "      <th>airway</th>\n",
       "      <td>703</td>\n",
       "    </tr>\n",
       "    <tr>\n",
       "      <th>none</th>\n",
       "      <td>798</td>\n",
       "    </tr>\n",
       "  </tbody>\n",
       "</table>\n",
       "</div>"
      ],
      "text/plain": [
       "                           record_count\n",
       "injury_required_procedure              \n",
       "tourniquet                         4547\n",
       "gauzePressure                      2991\n",
       "decompress                         1606\n",
       "woundpack                          2512\n",
       "airway                              703\n",
       "none                                798"
      ]
     },
     "metadata": {},
     "output_type": "display_data"
    }
   ],
   "source": [
    "\n",
    "# Modalize into one injury required_procedure column if possible\n",
    "new_column_name = 'injury_required_procedure'\n",
    "if (new_column_name not in frvrs_logs_df.columns):\n",
    "    frvrs_logs_df = nu.modalize_columns(frvrs_logs_df, fu.injury_required_procedure_columns_list, new_column_name)\n",
    "    frvrs_logs_df[new_column_name] = frvrs_logs_df[new_column_name].astype(fu.required_procedure_category_order)\n",
    "    \n",
    "    # Store the results and show the new data frame shape\n",
    "    nu.store_objects(frvrs_logs_df=frvrs_logs_df)\n",
    "    nu.save_data_frames(frvrs_logs_df=frvrs_logs_df)\n",
    "    print(frvrs_logs_df.shape) # (829116, 110)\n",
    "    \n",
    "display(frvrs_logs_df.groupby(new_column_name).size().to_frame().rename(columns={0: 'record_count'}))"
   ]
  },
  {
   "cell_type": "code",
   "execution_count": 18,
   "id": "f64a066f-7d90-4f77-8582-568a246b2c43",
   "metadata": {},
   "outputs": [
    {
     "name": "stdout",
     "output_type": "stream",
     "text": [
      "Pickling to /mnt/c/Users/DaveBabbitt/Documents/GitHub/itm-analysis-reporting/saves/pkl/frvrs_logs_df.pkl\n",
      "Saving to /mnt/c/Users/DaveBabbitt/Documents/GitHub/itm-analysis-reporting/saves/csv/frvrs_logs_df.csv\n",
      "(829116, 119)\n"
     ]
    },
    {
     "data": {
      "text/html": [
       "<div>\n",
       "<style scoped>\n",
       "    .dataframe tbody tr th:only-of-type {\n",
       "        vertical-align: middle;\n",
       "    }\n",
       "\n",
       "    .dataframe tbody tr th {\n",
       "        vertical-align: top;\n",
       "    }\n",
       "\n",
       "    .dataframe thead th {\n",
       "        text-align: right;\n",
       "    }\n",
       "</style>\n",
       "<table border=\"1\" class=\"dataframe\">\n",
       "  <thead>\n",
       "    <tr style=\"text-align: right;\">\n",
       "      <th></th>\n",
       "      <th>record_count</th>\n",
       "    </tr>\n",
       "    <tr>\n",
       "      <th>injury_body_region</th>\n",
       "      <th></th>\n",
       "    </tr>\n",
       "  </thead>\n",
       "  <tbody>\n",
       "    <tr>\n",
       "      <th>head</th>\n",
       "      <td>1614</td>\n",
       "    </tr>\n",
       "    <tr>\n",
       "      <th>neck</th>\n",
       "      <td>18</td>\n",
       "    </tr>\n",
       "    <tr>\n",
       "      <th>chest</th>\n",
       "      <td>2162</td>\n",
       "    </tr>\n",
       "    <tr>\n",
       "      <th>abdomen</th>\n",
       "      <td>1989</td>\n",
       "    </tr>\n",
       "    <tr>\n",
       "      <th>leftLeg</th>\n",
       "      <td>2080</td>\n",
       "    </tr>\n",
       "    <tr>\n",
       "      <th>rightLeg</th>\n",
       "      <td>3207</td>\n",
       "    </tr>\n",
       "    <tr>\n",
       "      <th>rightArm</th>\n",
       "      <td>829</td>\n",
       "    </tr>\n",
       "    <tr>\n",
       "      <th>leftArm</th>\n",
       "      <td>1258</td>\n",
       "    </tr>\n",
       "  </tbody>\n",
       "</table>\n",
       "</div>"
      ],
      "text/plain": [
       "                    record_count\n",
       "injury_body_region              \n",
       "head                        1614\n",
       "neck                          18\n",
       "chest                       2162\n",
       "abdomen                     1989\n",
       "leftLeg                     2080\n",
       "rightLeg                    3207\n",
       "rightArm                     829\n",
       "leftArm                     1258"
      ]
     },
     "metadata": {},
     "output_type": "display_data"
    }
   ],
   "source": [
    "\n",
    "# Modalize into one injury body_region column if possible\n",
    "new_column_name = 'injury_body_region'\n",
    "if (new_column_name not in frvrs_logs_df.columns):\n",
    "    frvrs_logs_df = nu.modalize_columns(frvrs_logs_df, fu.body_region_columns_list, new_column_name)\n",
    "    frvrs_logs_df[new_column_name] = frvrs_logs_df[new_column_name].astype(fu.body_region_category_order)\n",
    "    \n",
    "    # Store the results and show the new data frame shape\n",
    "    nu.store_objects(frvrs_logs_df=frvrs_logs_df)\n",
    "    nu.save_data_frames(frvrs_logs_df=frvrs_logs_df)\n",
    "    print(frvrs_logs_df.shape) # (829116, 120)\n",
    "    \n",
    "display(frvrs_logs_df.groupby(new_column_name).size().to_frame().rename(columns={0: 'record_count'}))"
   ]
  },
  {
   "cell_type": "code",
   "execution_count": 19,
   "id": "0a27522b-521b-4766-aa86-e7e64b662b50",
   "metadata": {},
   "outputs": [
    {
     "name": "stdout",
     "output_type": "stream",
     "text": [
      "Pickling to /mnt/c/Users/DaveBabbitt/Documents/GitHub/itm-analysis-reporting/saves/pkl/frvrs_logs_df.pkl\n",
      "Saving to /mnt/c/Users/DaveBabbitt/Documents/GitHub/itm-analysis-reporting/saves/csv/frvrs_logs_df.csv\n",
      "(829116, 120)\n"
     ]
    },
    {
     "data": {
      "text/html": [
       "<div>\n",
       "<style scoped>\n",
       "    .dataframe tbody tr th:only-of-type {\n",
       "        vertical-align: middle;\n",
       "    }\n",
       "\n",
       "    .dataframe tbody tr th {\n",
       "        vertical-align: top;\n",
       "    }\n",
       "\n",
       "    .dataframe thead th {\n",
       "        text-align: right;\n",
       "    }\n",
       "</style>\n",
       "<table border=\"1\" class=\"dataframe\">\n",
       "  <thead>\n",
       "    <tr style=\"text-align: right;\">\n",
       "      <th></th>\n",
       "      <th>record_count</th>\n",
       "    </tr>\n",
       "    <tr>\n",
       "      <th>tool_type</th>\n",
       "      <th></th>\n",
       "    </tr>\n",
       "  </thead>\n",
       "  <tbody>\n",
       "    <tr>\n",
       "      <th>Tourniquet</th>\n",
       "      <td>74483</td>\n",
       "    </tr>\n",
       "    <tr>\n",
       "      <th>Gauze_Pack</th>\n",
       "      <td>1452</td>\n",
       "    </tr>\n",
       "    <tr>\n",
       "      <th>Needle</th>\n",
       "      <td>36848</td>\n",
       "    </tr>\n",
       "    <tr>\n",
       "      <th>Naso</th>\n",
       "      <td>10</td>\n",
       "    </tr>\n",
       "    <tr>\n",
       "      <th>Nasal Airway</th>\n",
       "      <td>3301</td>\n",
       "    </tr>\n",
       "    <tr>\n",
       "      <th>Gauze_Dressing</th>\n",
       "      <td>1445</td>\n",
       "    </tr>\n",
       "  </tbody>\n",
       "</table>\n",
       "</div>"
      ],
      "text/plain": [
       "                record_count\n",
       "tool_type                   \n",
       "Tourniquet             74483\n",
       "Gauze_Pack              1452\n",
       "Needle                 36848\n",
       "Naso                      10\n",
       "Nasal Airway            3301\n",
       "Gauze_Dressing          1445"
      ]
     },
     "metadata": {},
     "output_type": "display_data"
    }
   ],
   "source": [
    "\n",
    "# Modalize into one tool type column if possible\n",
    "new_column_name = 'tool_type'\n",
    "if (new_column_name not in frvrs_logs_df.columns):\n",
    "    frvrs_logs_df = nu.modalize_columns(frvrs_logs_df, fu.tool_type_columns_list, new_column_name)\n",
    "    frvrs_logs_df[new_column_name] = frvrs_logs_df[new_column_name].astype(fu.tool_type_category_order)\n",
    "    \n",
    "    # Store the results and show the new data frame shape\n",
    "    nu.store_objects(frvrs_logs_df=frvrs_logs_df)\n",
    "    nu.save_data_frames(frvrs_logs_df=frvrs_logs_df)\n",
    "    print(frvrs_logs_df.shape) # (829116, 122)\n",
    "    \n",
    "display(frvrs_logs_df.groupby(new_column_name).size().to_frame().rename(columns={0: 'record_count'}))"
   ]
  },
  {
   "cell_type": "markdown",
   "id": "c48bacf9-8c36-40a4-a3f4-d3d9a04bcd15",
   "metadata": {},
   "source": [
    "\n",
    "### Convert text columns to categorical"
   ]
  },
  {
   "cell_type": "code",
   "execution_count": 20,
   "id": "8612de8a-0d0d-4474-a70a-8390e673434e",
   "metadata": {},
   "outputs": [
    {
     "name": "stdout",
     "output_type": "stream",
     "text": [
      "Pickling to /mnt/c/Users/DaveBabbitt/Documents/GitHub/itm-analysis-reporting/saves/pkl/frvrs_logs_df.pkl\n",
      "Saving to /mnt/c/Users/DaveBabbitt/Documents/GitHub/itm-analysis-reporting/saves/csv/frvrs_logs_df.csv\n"
     ]
    }
   ],
   "source": [
    "\n",
    "new_column_name = 'pulse_taken_pulse_name'\n",
    "if (new_column_name in frvrs_logs_df.columns):\n",
    "    frvrs_logs_df[new_column_name] = frvrs_logs_df[new_column_name].astype(fu.pulse_name_category_order)\n",
    "    nu.store_objects(frvrs_logs_df=frvrs_logs_df)\n",
    "    nu.save_data_frames(frvrs_logs_df=frvrs_logs_df)"
   ]
  },
  {
   "cell_type": "code",
   "execution_count": 21,
   "id": "841cf16a-dde2-4a3b-bc69-9d2c741c9c8c",
   "metadata": {},
   "outputs": [
    {
     "name": "stdout",
     "output_type": "stream",
     "text": [
      "Pickling to /mnt/c/Users/DaveBabbitt/Documents/GitHub/itm-analysis-reporting/saves/pkl/frvrs_logs_df.pkl\n",
      "Saving to /mnt/c/Users/DaveBabbitt/Documents/GitHub/itm-analysis-reporting/saves/csv/frvrs_logs_df.csv\n"
     ]
    }
   ],
   "source": [
    "\n",
    "new_column_name = 'tool_applied_data'\n",
    "if (new_column_name in frvrs_logs_df.columns):\n",
    "    frvrs_logs_df[new_column_name] = frvrs_logs_df[new_column_name].astype(fu.tool_applied_data_category_order)\n",
    "    nu.store_objects(frvrs_logs_df=frvrs_logs_df)\n",
    "    nu.save_data_frames(frvrs_logs_df=frvrs_logs_df)"
   ]
  },
  {
   "cell_type": "markdown",
   "id": "46e74b8e-5484-4b70-bb33-d2010d26ff48",
   "metadata": {},
   "source": [
    "\n",
    "## Mask PII"
   ]
  },
  {
   "cell_type": "code",
   "execution_count": 22,
   "id": "d65f54fd-2e10-438d-a22c-a88dd4738674",
   "metadata": {},
   "outputs": [
    {
     "name": "stdout",
     "output_type": "stream",
     "text": [
      "Pickling to /mnt/c/Users/DaveBabbitt/Documents/GitHub/itm-analysis-reporting/saves/pkl/frvrs_logs_df.pkl\n",
      "Saving to /mnt/c/Users/DaveBabbitt/Documents/GitHub/itm-analysis-reporting/saves/csv/frvrs_logs_df.csv\n",
      "(829116, 120)\n"
     ]
    }
   ],
   "source": [
    "\n",
    "# Mask voice capture PII. OSU screened all of the **VOICE_COMMAND** and **VOICE_CAPTURE** lines and\n",
    "# replaced any names with either Max or Jane, regardless of whether the name was that of the responder.\n",
    "# But, just to make sure...\n",
    "columns_list = ['voice_command_command_description', 'voice_capture_message']\n",
    "if not frvrs_logs_df[columns_list].applymap(lambda x: '[PERSON]' in str(x), na_action='ignore').sum().sum():\n",
    "    import spacy\n",
    "    try: nlp = spacy.load('en_core_web_sm')\n",
    "    except OSError as e:\n",
    "        print(str(e).strip())\n",
    "        command_str = f'{sys.executable} -m spacy download en_core_web_sm --quiet'\n",
    "        print(command_str)\n",
    "        !{command_str}\n",
    "        nlp = spacy.load('en_core_web_sm')\n",
    "    import en_core_web_sm\n",
    "    nlp = en_core_web_sm.load()\n",
    "    \n",
    "    mask_series = frvrs_logs_df.voice_command_command_description.isnull() & frvrs_logs_df.voice_capture_message.isnull()\n",
    "    df = frvrs_logs_df[~mask_series]\n",
    "    def mask_pii(srs):\n",
    "        for idx in columns_list:\n",
    "            new_text = srs[idx]\n",
    "            if notnull(new_text):\n",
    "                doc = nlp(new_text)\n",
    "                for entity in doc.ents:\n",
    "                    if entity.label_ == 'PERSON': new_text = re.sub('\\\\b' + entity.text + '\\\\b', '[PERSON]', new_text)\n",
    "                srs[idx] = new_text\n",
    "    \n",
    "        return srs\n",
    "    \n",
    "    for row_index, row_series in df.apply(mask_pii, axis='columns')[columns_list].iterrows():\n",
    "        for column_name, column_value in row_series.items():\n",
    "            if notnull(column_value): frvrs_logs_df.loc[row_index, column_name] = column_value\n",
    "    \n",
    "    # Store the results and show the new data frame shape\n",
    "    nu.store_objects(frvrs_logs_df=frvrs_logs_df)\n",
    "    nu.save_data_frames(frvrs_logs_df=frvrs_logs_df)\n",
    "    \n",
    "    print(frvrs_logs_df.shape) # (829116, 113)"
   ]
  },
  {
   "cell_type": "code",
   "execution_count": null,
   "id": "2ed650b7-d542-4097-8375-f762f7a3c442",
   "metadata": {},
   "outputs": [],
   "source": []
  }
 ],
 "metadata": {
  "kernelspec": {
   "display_name": "ITM Analysis Reporting (Python 3.11.7)",
   "language": "python",
   "name": "itm_analysis_reporting"
  },
  "language_info": {
   "codemirror_mode": {
    "name": "ipython",
    "version": 3
   },
   "file_extension": ".py",
   "mimetype": "text/x-python",
   "name": "python",
   "nbconvert_exporter": "python",
   "pygments_lexer": "ipython3",
   "version": "3.7.12"
  }
 },
 "nbformat": 4,
 "nbformat_minor": 5
}
