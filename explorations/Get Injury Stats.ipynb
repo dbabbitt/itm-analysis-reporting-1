{
 "cells": [
  {
   "cell_type": "code",
   "execution_count": 1,
   "id": "d0b2a6e2-e492-4fbb-aec1-2a3a33ad718c",
   "metadata": {
    "tags": []
   },
   "outputs": [
    {
     "name": "stdout",
     "output_type": "stream",
     "text": [
      "Pretty printing has been turned OFF\n"
     ]
    }
   ],
   "source": [
    "\n",
    "# Set up notebook\n",
    "%pprint\n",
    "import sys\n",
    "if (osp.join(os.pardir, 'py') not in sys.path): sys.path.insert(1, osp.join(os.pardir, 'py'))"
   ]
  },
  {
   "cell_type": "code",
   "execution_count": 3,
   "id": "8703d1cc-017e-4c73-bf00-8f716090029c",
   "metadata": {},
   "outputs": [],
   "source": [
    "\n",
    "# load libraries\n",
    "from FRVRS import (nu, fu, DataFrame, to_datetime, Series, np, osp, nan)\n",
    "from datetime import date, timedelta\n",
    "import os\n",
    "from IPython.display import HTML\n",
    "import pandas as pd\n",
    "\n",
    "nu.delete_ipynb_checkpoint_folders()"
   ]
  },
  {
   "cell_type": "markdown",
   "id": "852af1e6-4aaa-4184-8521-06024a20ddf5",
   "metadata": {},
   "source": [
    "\n",
    "# Get Injury Stats"
   ]
  },
  {
   "cell_type": "code",
   "execution_count": 4,
   "id": "c816b00c-5799-4fd5-b9b9-240f1250e07e",
   "metadata": {},
   "outputs": [
    {
     "name": "stdout",
     "output_type": "stream",
     "text": [
      "(401177, 111)\n",
      "(332, 19)\n",
      "(486, 48)\n",
      "(399048, 115)\n"
     ]
    }
   ],
   "source": [
    "\n",
    "# Get the standard data frames\n",
    "data_frames_dict = nu.load_data_frames(\n",
    "    verbose=False, first_responder_master_registry_df='', first_responder_master_registry_file_stats_df='',\n",
    "    first_responder_master_registry_scene_stats_df=''\n",
    ")\n",
    "triage_paper_df = data_frames_dict['first_responder_master_registry_df']\n",
    "print(triage_paper_df.shape)\n",
    "file_stats_df = data_frames_dict['first_responder_master_registry_file_stats_df']\n",
    "print(file_stats_df.shape)\n",
    "scene_stats_df = data_frames_dict['first_responder_master_registry_scene_stats_df']\n",
    "print(scene_stats_df.shape)\n",
    "elevens_df = fu.get_elevens_dataframe(\n",
    "    triage_paper_df, file_stats_df, scene_stats_df, needed_columns=[\n",
    "        'scene_type', 'is_scene_aborted', 'is_a_one_triage_file', 'responder_category'\n",
    "    ]\n",
    ")\n",
    "print(elevens_df.shape)"
   ]
  },
  {
   "cell_type": "code",
   "execution_count": 5,
   "id": "380b5bd8-04f9-46e1-9e02-e500bdfedc3c",
   "metadata": {},
   "outputs": [],
   "source": [
    "\n",
    "rows_list = []\n",
    "for (session_uuid, scene_id, patient_id), patient_df in elevens_df.groupby(fu.patient_groupby_columns):\n",
    "    for injury_id, injury_df in patient_df.groupby('injury_id'):\n",
    "        row_dict = {cn: eval(cn) for cn in fu.injury_groupby_columns}\n",
    "        row_dict['is_injury_correctly_treated'] = fu.get_is_injury_correctly_treated(injury_df)\n",
    "        row_dict['is_injury_hemorrhage'] = fu.get_is_injury_hemorrhage(injury_df)\n",
    "        row_dict['is_hemorrhage_tool_applied'] = fu.get_is_hemorrhage_tool_applied(injury_df, patient_df)\n",
    "        row_dict['is_injury_severe'] = fu.get_is_injury_severe(injury_df)\n",
    "        row_dict['is_bleeding_correctly_treated'] = fu.get_is_bleeding_correctly_treated(injury_df)\n",
    "        row_dict['injury_correctly_treated_time'] = fu.get_injury_correctly_treated_time(injury_df)\n",
    "        rows_list.append(row_dict)\n",
    "df = DataFrame(rows_list)"
   ]
  },
  {
   "cell_type": "code",
   "execution_count": 6,
   "id": "f22933f1-7841-4342-b569-22b550ea5a1a",
   "metadata": {},
   "outputs": [
    {
     "data": {
      "text/html": [
       "<div>\n",
       "<style scoped>\n",
       "    .dataframe tbody tr th:only-of-type {\n",
       "        vertical-align: middle;\n",
       "    }\n",
       "\n",
       "    .dataframe tbody tr th {\n",
       "        vertical-align: top;\n",
       "    }\n",
       "\n",
       "    .dataframe thead th {\n",
       "        text-align: right;\n",
       "    }\n",
       "</style>\n",
       "<table border=\"1\" class=\"dataframe\">\n",
       "  <thead>\n",
       "    <tr style=\"text-align: right;\">\n",
       "      <th></th>\n",
       "      <th>0</th>\n",
       "      <th>2</th>\n",
       "      <th>8</th>\n",
       "      <th>12</th>\n",
       "    </tr>\n",
       "  </thead>\n",
       "  <tbody>\n",
       "    <tr>\n",
       "      <th>session_uuid</th>\n",
       "      <td>009b848c-ea64-4f22-bd40-711213a3d327</td>\n",
       "      <td>009b848c-ea64-4f22-bd40-711213a3d327</td>\n",
       "      <td>009b848c-ea64-4f22-bd40-711213a3d327</td>\n",
       "      <td>009b848c-ea64-4f22-bd40-711213a3d327</td>\n",
       "    </tr>\n",
       "    <tr>\n",
       "      <th>scene_id</th>\n",
       "      <td>0</td>\n",
       "      <td>0</td>\n",
       "      <td>0</td>\n",
       "      <td>0</td>\n",
       "    </tr>\n",
       "    <tr>\n",
       "      <th>patient_id</th>\n",
       "      <td>Bob_0 Root</td>\n",
       "      <td>Bob_0 Root</td>\n",
       "      <td>Gary_3 Root</td>\n",
       "      <td>Lily_2 Root</td>\n",
       "    </tr>\n",
       "    <tr>\n",
       "      <th>injury_id</th>\n",
       "      <td>Face Shrapnel</td>\n",
       "      <td>L Stomach Puncture</td>\n",
       "      <td>R Chest Collapse</td>\n",
       "      <td>R Shin Amputation</td>\n",
       "    </tr>\n",
       "    <tr>\n",
       "      <th>is_injury_correctly_treated</th>\n",
       "      <td>False</td>\n",
       "      <td>False</td>\n",
       "      <td>True</td>\n",
       "      <td>True</td>\n",
       "    </tr>\n",
       "    <tr>\n",
       "      <th>is_injury_hemorrhage</th>\n",
       "      <td>False</td>\n",
       "      <td>True</td>\n",
       "      <td>False</td>\n",
       "      <td>True</td>\n",
       "    </tr>\n",
       "    <tr>\n",
       "      <th>is_hemorrhage_tool_applied</th>\n",
       "      <td>False</td>\n",
       "      <td>False</td>\n",
       "      <td>False</td>\n",
       "      <td>False</td>\n",
       "    </tr>\n",
       "    <tr>\n",
       "      <th>is_injury_severe</th>\n",
       "      <td>False</td>\n",
       "      <td>True</td>\n",
       "      <td>False</td>\n",
       "      <td>True</td>\n",
       "    </tr>\n",
       "    <tr>\n",
       "      <th>is_bleeding_correctly_treated</th>\n",
       "      <td>False</td>\n",
       "      <td>False</td>\n",
       "      <td>False</td>\n",
       "      <td>True</td>\n",
       "    </tr>\n",
       "    <tr>\n",
       "      <th>injury_correctly_treated_time</th>\n",
       "      <td>NaN</td>\n",
       "      <td>NaN</td>\n",
       "      <td>941653.0</td>\n",
       "      <td>413178.0</td>\n",
       "    </tr>\n",
       "  </tbody>\n",
       "</table>\n",
       "</div>"
      ],
      "text/plain": [
       "                                                                 0   \\\n",
       "session_uuid                   009b848c-ea64-4f22-bd40-711213a3d327   \n",
       "scene_id                                                          0   \n",
       "patient_id                                               Bob_0 Root   \n",
       "injury_id                                             Face Shrapnel   \n",
       "is_injury_correctly_treated                                   False   \n",
       "is_injury_hemorrhage                                          False   \n",
       "is_hemorrhage_tool_applied                                    False   \n",
       "is_injury_severe                                              False   \n",
       "is_bleeding_correctly_treated                                 False   \n",
       "injury_correctly_treated_time                                   NaN   \n",
       "\n",
       "                                                                 2   \\\n",
       "session_uuid                   009b848c-ea64-4f22-bd40-711213a3d327   \n",
       "scene_id                                                          0   \n",
       "patient_id                                               Bob_0 Root   \n",
       "injury_id                                        L Stomach Puncture   \n",
       "is_injury_correctly_treated                                   False   \n",
       "is_injury_hemorrhage                                           True   \n",
       "is_hemorrhage_tool_applied                                    False   \n",
       "is_injury_severe                                               True   \n",
       "is_bleeding_correctly_treated                                 False   \n",
       "injury_correctly_treated_time                                   NaN   \n",
       "\n",
       "                                                                 8   \\\n",
       "session_uuid                   009b848c-ea64-4f22-bd40-711213a3d327   \n",
       "scene_id                                                          0   \n",
       "patient_id                                              Gary_3 Root   \n",
       "injury_id                                          R Chest Collapse   \n",
       "is_injury_correctly_treated                                    True   \n",
       "is_injury_hemorrhage                                          False   \n",
       "is_hemorrhage_tool_applied                                    False   \n",
       "is_injury_severe                                              False   \n",
       "is_bleeding_correctly_treated                                 False   \n",
       "injury_correctly_treated_time                              941653.0   \n",
       "\n",
       "                                                                 12  \n",
       "session_uuid                   009b848c-ea64-4f22-bd40-711213a3d327  \n",
       "scene_id                                                          0  \n",
       "patient_id                                              Lily_2 Root  \n",
       "injury_id                                         R Shin Amputation  \n",
       "is_injury_correctly_treated                                    True  \n",
       "is_injury_hemorrhage                                           True  \n",
       "is_hemorrhage_tool_applied                                    False  \n",
       "is_injury_severe                                               True  \n",
       "is_bleeding_correctly_treated                                  True  \n",
       "injury_correctly_treated_time                              413178.0  "
      ]
     },
     "execution_count": 6,
     "metadata": {},
     "output_type": "execute_result"
    }
   ],
   "source": [
    "\n",
    "columns_list = ['is_injury_correctly_treated', 'is_injury_hemorrhage', 'is_hemorrhage_tool_applied']\n",
    "df2 = df.drop_duplicates(subset=columns_list).T\n",
    "df2"
   ]
  },
  {
   "cell_type": "code",
   "execution_count": 11,
   "id": "79bb5e95-d63b-4407-8829-e1e6d7b0be9a",
   "metadata": {},
   "outputs": [
    {
     "name": "stdout",
     "output_type": "stream",
     "text": [
      "(7, 115)\n"
     ]
    }
   ],
   "source": [
    "\n",
    "mask_series = elevens_df.session_uuid.isin(df2.T.session_uuid) & elevens_df.scene_id.isin(df2.T.scene_id)\n",
    "mask_series &= elevens_df.patient_id.isin(df2.T.patient_id) & elevens_df.injury_id.isin(df2.T.injury_id)"
   ]
  },
  {
   "cell_type": "code",
   "execution_count": 32,
   "id": "8349db20-30f0-442d-b339-01ae82c0afa9",
   "metadata": {},
   "outputs": [
    {
     "name": "stdout",
     "output_type": "stream",
     "text": [
      "\n",
      "    def setUp(self):\n",
      "        # Create a sample DataFrame\n",
      "        self.scene_df = DataFrame({\n",
      "            'action_tick': [223819, 223819, 223819, 241120, 256019, 256924, 285654, 289814, 317108, 319906, 321245, 367706, 368149, 568501, 571875],\n",
      "            'patient_id': ['Lily_4 Root', 'Lily_2 Root', 'Bob_0 Root', 'Gloria_6 Root', nan, nan, 'Lily_2 Root', nan, nan, nan, 'Mike_7 Root', nan, nan, 'Gloria_8 Root', nan],\n",
      "            'injury_required_procedure': ['woundpack', 'tourniquet', 'tourniquet', nan, nan, nan, 'tourniquet', nan, nan, nan, 'tourniquet', nan, nan, nan, nan],\n",
      "            'action_type': ['INJURY_RECORD', 'INJURY_RECORD', 'INJURY_RECORD', 'S_A_L_T_WAVE_IF_CAN', 'TOOL_HOVER', 'TOOL_HOVER', 'INJURY_TREATED', 'VOICE_CAPTURE', 'TOOL_HOVER', 'TOOL_HOVER', 'INJURY_TREATED', 'TOOL_HOVER', 'TOOL_HOVER', 'S_A_L_T_WALK_IF_CAN', 'TELEPORT'],\n",
      "            'injury_id': ['L Side Puncture', 'R Shin Amputation', 'L Thigh Laceration', nan, nan, nan, 'R Shin Amputation', nan, nan, nan, 'L Thigh Puncture', nan, nan, nan, nan],\n",
      "            'injury_record_required_procedure': ['woundpack', 'tourniquet', 'tourniquet', nan, nan, nan, nan, nan, nan, nan, nan, nan, nan, nan, nan],\n",
      "            'injury_treated_required_procedure': [nan, nan, nan, nan, nan, nan, 'tourniquet', nan, nan, nan, 'tourniquet', nan, nan, nan, nan],\n",
      "        })\n"
     ]
    }
   ],
   "source": [
    "\n",
    "from random import choices\n",
    "\n",
    "scene_df = choices(scene_dfs_list, k=1)[0]\n",
    "df = scene_df.sample(15).sort_values('action_tick')\n",
    "mask_series =  df.injury_required_procedure.isin(fu.hemorrhage_control_procedures_list)\n",
    "while not mask_series.sum() >= 5:\n",
    "    df = scene_df.sample(15).sort_values('action_tick')\n",
    "    mask_series =  df.injury_required_procedure.isin(fu.hemorrhage_control_procedures_list)\n",
    "# mask_series = ~scene_df.injury_treated_injury_treated_with_wrong_treatment.isnull()\n",
    "# df = scene_df[mask_series]\n",
    "columns_list = [\n",
    "    'action_tick', 'patient_id', 'injury_required_procedure', 'action_type', 'injury_id',\n",
    "    'injury_record_required_procedure', 'injury_treated_required_procedure'\n",
    "]\n",
    "for cn in columns_list: print(f\"\"\"            '{cn}': {df[cn].tolist()},\"\"\")"
   ]
  },
  {
   "cell_type": "code",
   "execution_count": 10,
   "id": "57d896b3-fb27-4d96-9907-46938271f10f",
   "metadata": {},
   "outputs": [
    {
     "data": {
      "text/plain": [
       "False    5932\n",
       "Name: is_hemorrhage_tool_applied, dtype: int64"
      ]
     },
     "execution_count": 10,
     "metadata": {},
     "output_type": "execute_result"
    }
   ],
   "source": [
    "\n",
    "df.is_hemorrhage_tool_applied.value_counts()"
   ]
  },
  {
   "cell_type": "code",
   "execution_count": 12,
   "id": "9dee2079-7bed-4c8b-b832-d86af56e61c6",
   "metadata": {},
   "outputs": [
    {
     "name": "stdout",
     "output_type": "stream",
     "text": [
      "class TestGetIsHemorrhageToolApplied(unittest.TestCase)\n"
     ]
    }
   ],
   "source": [
    "\n",
    "class_name = ''.join([w.title() for w in 'get_is_hemorrhage_tool_applied'.split('_')])\n",
    "print(f\"class Test{class_name}(unittest.TestCase)\")"
   ]
  },
  {
   "cell_type": "code",
   "execution_count": null,
   "id": "6a3c568b-3b25-4a1e-b961-b93e4ac40489",
   "metadata": {},
   "outputs": [],
   "source": []
  }
 ],
 "metadata": {
  "kernelspec": {
   "display_name": "ITM Analysis Reporting (Python 3.11.7)",
   "language": "python",
   "name": "itm_analysis_reporting"
  },
  "language_info": {
   "codemirror_mode": {
    "name": "ipython",
    "version": 3
   },
   "file_extension": ".py",
   "mimetype": "text/x-python",
   "name": "python",
   "nbconvert_exporter": "python",
   "pygments_lexer": "ipython3",
   "version": "3.7.12"
  }
 },
 "nbformat": 4,
 "nbformat_minor": 5
}
