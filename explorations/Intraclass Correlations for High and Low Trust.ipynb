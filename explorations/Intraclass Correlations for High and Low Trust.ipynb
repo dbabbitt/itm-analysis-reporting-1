{
 "cells": [
  {
   "cell_type": "code",
   "execution_count": null,
   "id": "388df70f-0238-4ac2-b8c8-f008540c40c7",
   "metadata": {},
   "outputs": [],
   "source": [
    "\n",
    "# Set up the notebook\n",
    "%pprint\n",
    "import sys\n",
    "if (osp.join('..', 'py') not in sys.path): sys.path.insert(1, osp.join('..', 'py'))"
   ]
  },
  {
   "cell_type": "code",
   "execution_count": null,
   "id": "671275a6-8b93-486a-9d0f-440661adfd74",
   "metadata": {},
   "outputs": [],
   "source": [
    "\n",
    "from FRVRS import (read_excel, to_datetime, Series)\n",
    "import json\n",
    "\n",
    "warnings.filterwarnings('ignore')"
   ]
  },
  {
   "cell_type": "code",
   "execution_count": 2,
   "id": "dccff9fa-8a7e-4f4e-8efb-31937047ba69",
   "metadata": {},
   "outputs": [
    {
     "data": {
      "text/plain": [
       "['AD_Align_High_Four', 'AD_Align_High_Sim', 'AD_Align_High_Text', 'AD_Align_Low_Four', 'AD_Align_Low_Sim', 'AD_Align_Low_Text', 'AD_High_Agree', 'AD_High_Alignsr', 'AD_High_Trust', 'AD_High_Trustworthy', 'AD_Low_Agree', 'AD_Low_Alignsr', 'AD_Low_Trust', 'AD_Low_Trustworthy', 'ST_Align_High_Four', 'ST_Align_High_Sim', 'ST_Align_High_Text', 'ST_Align_Low_Four', 'ST_Align_Low_Sim', 'ST_Align_Low_Text', 'ST_High_Agree', 'ST_High_Agree_Omni', 'ST_High_Alignsr', 'ST_High_Alignsr_Omni', 'ST_High_Trust', 'ST_High_Trust_Omni', 'ST_High_Trustworthy', 'ST_High_Trustworthy_Omni', 'ST_Low_Agree', 'ST_Low_Agree_Omni', 'ST_Low_Alignsr', 'ST_Low_Alignsr_Omni', 'ST_Low_Trust', 'ST_Low_Trust_Omni', 'ST_Low_Trustworthy', 'ST_Low_Trustworthy_Omni', 'participant_id']"
      ]
     },
     "execution_count": 2,
     "metadata": {},
     "output_type": "execute_result"
    }
   ],
   "source": [
    "\n",
    "from pandas import \n",
    "\n",
    "file_path = '../data/xlsx/Alignment_x_Trust_Correlations.xlsx'\n",
    "alignment_x_trust_correlations_df = read_excel(file_path)\n",
    "alignment_x_trust_correlations_df.columns = alignment_x_trust_correlations_df.columns.map(\n",
    "    lambda x: '_'.join([s.title() for s in x.split('_')])\n",
    ")\n",
    "alignment_x_trust_correlations_df.columns = alignment_x_trust_correlations_df.columns.map(lambda x: x[:2].upper() + x[2:])\n",
    "alignment_x_trust_correlations_df = alignment_x_trust_correlations_df.rename(columns={'PArticipantid': 'participant_id'})\n",
    "sorted(alignment_x_trust_correlations_df.columns)"
   ]
  },
  {
   "cell_type": "code",
   "execution_count": 33,
   "id": "fca243b0-4da9-4de0-aaa6-e0233df1e692",
   "metadata": {},
   "outputs": [],
   "source": [
    "\n",
    "import pingouin as pg\n",
    "\n",
    "def calculate_icc(participant_data, trust_rating_variable_name, alignment_score_variable_name, targets_column_name='participant_id'):\n",
    "    \"\"\"\n",
    "    Calculates ICC(2,1) for a given Data Frame.\n",
    "    \n",
    "    Parameters:\n",
    "        participant_data: The Data Frame containing participant data.\n",
    "        trust_rating_variable_name: The column name for the trust rating variable.\n",
    "        alignment_score_variable_name: The column name for the specific alignment score variable (e.g., AD_Align_High_Text).\n",
    "        targets_column_name: The column name for participant ID. Defaults to 'participant_id'. Say you did measurements at n\n",
    "            different settings, using k different methods, then 'targets' should look something like [1, 2, ..., n, 1, 2, ..., n],\n",
    "            to indicate which rating belongs to which setting. Specifically, the function expects at least 5 non-missing\n",
    "            values for each combination of target and rater.\n",
    "    \n",
    "    Returns:\n",
    "        A pingouin ICC results object.\n",
    "    \"\"\"\n",
    "    \n",
    "    return pg.intraclass_corr(\n",
    "        data=participant_data,\n",
    "        targets=targets_column_name,\n",
    "        raters=trust_rating_variable_name,\n",
    "        ratings=alignment_score_variable_name,\n",
    "        nan_policy='omit'\n",
    "    )"
   ]
  },
  {
   "cell_type": "code",
   "execution_count": 32,
   "id": "dd1ffcc1-cca4-4039-8292-78641b93ce51",
   "metadata": {},
   "outputs": [
    {
     "data": {
      "text/plain": [
       "1"
      ]
     },
     "metadata": {},
     "output_type": "display_data"
    },
    {
     "ename": "AssertionError",
     "evalue": "Data must have at least 5 non-missing values.",
     "output_type": "error",
     "traceback": [
      "\u001b[0;31m---------------------------------------------------------------------------\u001b[0m",
      "\u001b[0;31mAssertionError\u001b[0m                            Traceback (most recent call last)",
      "\u001b[0;32m/tmp/ipykernel_2687/2810583341.py\u001b[0m in \u001b[0;36m<module>\u001b[0;34m\u001b[0m\n\u001b[0;32m----> 1\u001b[0;31m \u001b[0mcalculate_icc\u001b[0m\u001b[0;34m(\u001b[0m\u001b[0malignment_x_trust_correlations_df\u001b[0m\u001b[0;34m,\u001b[0m \u001b[0;34m'AD_Align_High_Text'\u001b[0m\u001b[0;34m,\u001b[0m \u001b[0;34m'AD_High_Trust'\u001b[0m\u001b[0;34m,\u001b[0m \u001b[0mtargets_column_name\u001b[0m\u001b[0;34m=\u001b[0m\u001b[0;34m'participant_id'\u001b[0m\u001b[0;34m)\u001b[0m\u001b[0;34m\u001b[0m\u001b[0;34m\u001b[0m\u001b[0m\n\u001b[0m",
      "\u001b[0;32m/tmp/ipykernel_2687/1397185069.py\u001b[0m in \u001b[0;36mcalculate_icc\u001b[0;34m(participant_data, trust_rating_variable_name, alignment_score_variable_name, targets_column_name)\u001b[0m\n\u001b[1;32m     25\u001b[0m         \u001b[0mraters\u001b[0m\u001b[0;34m=\u001b[0m\u001b[0mtrust_rating_variable_name\u001b[0m\u001b[0;34m,\u001b[0m\u001b[0;34m\u001b[0m\u001b[0;34m\u001b[0m\u001b[0m\n\u001b[1;32m     26\u001b[0m         \u001b[0mratings\u001b[0m\u001b[0;34m=\u001b[0m\u001b[0malignment_score_variable_name\u001b[0m\u001b[0;34m,\u001b[0m\u001b[0;34m\u001b[0m\u001b[0;34m\u001b[0m\u001b[0m\n\u001b[0;32m---> 27\u001b[0;31m         \u001b[0mnan_policy\u001b[0m\u001b[0;34m=\u001b[0m\u001b[0;34m'omit'\u001b[0m\u001b[0;34m\u001b[0m\u001b[0;34m\u001b[0m\u001b[0m\n\u001b[0m\u001b[1;32m     28\u001b[0m     )\n",
      "\u001b[0;32m~/anaconda3/envs/itm_analysis_reporting/lib/python3.7/site-packages/pingouin/reliability.py\u001b[0m in \u001b[0;36mintraclass_corr\u001b[0;34m(data, targets, raters, ratings, nan_policy)\u001b[0m\n\u001b[1;32m    300\u001b[0m         \u001b[0mold_options\u001b[0m \u001b[0;34m=\u001b[0m \u001b[0moptions\u001b[0m\u001b[0;34m.\u001b[0m\u001b[0mcopy\u001b[0m\u001b[0;34m(\u001b[0m\u001b[0;34m)\u001b[0m\u001b[0;34m\u001b[0m\u001b[0;34m\u001b[0m\u001b[0m\n\u001b[1;32m    301\u001b[0m         \u001b[0moptions\u001b[0m\u001b[0;34m[\u001b[0m\u001b[0;34m\"round\"\u001b[0m\u001b[0;34m]\u001b[0m \u001b[0;34m=\u001b[0m \u001b[0;32mNone\u001b[0m\u001b[0;34m\u001b[0m\u001b[0;34m\u001b[0m\u001b[0m\n\u001b[0;32m--> 302\u001b[0;31m         \u001b[0maov\u001b[0m \u001b[0;34m=\u001b[0m \u001b[0manova\u001b[0m\u001b[0;34m(\u001b[0m\u001b[0mdata\u001b[0m\u001b[0;34m=\u001b[0m\u001b[0mdata\u001b[0m\u001b[0;34m,\u001b[0m \u001b[0mdv\u001b[0m\u001b[0;34m=\u001b[0m\u001b[0mratings\u001b[0m\u001b[0;34m,\u001b[0m \u001b[0mbetween\u001b[0m\u001b[0;34m=\u001b[0m\u001b[0;34m[\u001b[0m\u001b[0mtargets\u001b[0m\u001b[0;34m,\u001b[0m \u001b[0mraters\u001b[0m\u001b[0;34m]\u001b[0m\u001b[0;34m,\u001b[0m \u001b[0mss_type\u001b[0m\u001b[0;34m=\u001b[0m\u001b[0;36m2\u001b[0m\u001b[0;34m)\u001b[0m\u001b[0;34m\u001b[0m\u001b[0;34m\u001b[0m\u001b[0m\n\u001b[0m\u001b[1;32m    303\u001b[0m         \u001b[0moptions\u001b[0m\u001b[0;34m.\u001b[0m\u001b[0mupdate\u001b[0m\u001b[0;34m(\u001b[0m\u001b[0mold_options\u001b[0m\u001b[0;34m)\u001b[0m  \u001b[0;31m# restore options\u001b[0m\u001b[0;34m\u001b[0m\u001b[0;34m\u001b[0m\u001b[0m\n\u001b[1;32m    304\u001b[0m \u001b[0;34m\u001b[0m\u001b[0m\n",
      "\u001b[0;32m~/anaconda3/envs/itm_analysis_reporting/lib/python3.7/site-packages/pingouin/parametric.py\u001b[0m in \u001b[0;36manova\u001b[0;34m(data, dv, between, ss_type, detailed, effsize)\u001b[0m\n\u001b[1;32m    974\u001b[0m             \u001b[0;31m# Two factors with balanced design = Pingouin implementation\u001b[0m\u001b[0;34m\u001b[0m\u001b[0;34m\u001b[0m\u001b[0;34m\u001b[0m\u001b[0m\n\u001b[1;32m    975\u001b[0m             \u001b[0;31m# Two factors with unbalanced design = statsmodels\u001b[0m\u001b[0;34m\u001b[0m\u001b[0;34m\u001b[0m\u001b[0;34m\u001b[0m\u001b[0m\n\u001b[0;32m--> 976\u001b[0;31m             \u001b[0;32mreturn\u001b[0m \u001b[0manova2\u001b[0m\u001b[0;34m(\u001b[0m\u001b[0mdv\u001b[0m\u001b[0;34m=\u001b[0m\u001b[0mdv\u001b[0m\u001b[0;34m,\u001b[0m \u001b[0mbetween\u001b[0m\u001b[0;34m=\u001b[0m\u001b[0mbetween\u001b[0m\u001b[0;34m,\u001b[0m \u001b[0mdata\u001b[0m\u001b[0;34m=\u001b[0m\u001b[0mdata\u001b[0m\u001b[0;34m,\u001b[0m \u001b[0mss_type\u001b[0m\u001b[0;34m=\u001b[0m\u001b[0mss_type\u001b[0m\u001b[0;34m,\u001b[0m \u001b[0meffsize\u001b[0m\u001b[0;34m=\u001b[0m\u001b[0meffsize\u001b[0m\u001b[0;34m)\u001b[0m\u001b[0;34m\u001b[0m\u001b[0;34m\u001b[0m\u001b[0m\n\u001b[0m\u001b[1;32m    977\u001b[0m         \u001b[0;32melse\u001b[0m\u001b[0;34m:\u001b[0m\u001b[0;34m\u001b[0m\u001b[0;34m\u001b[0m\u001b[0m\n\u001b[1;32m    978\u001b[0m             \u001b[0;31m# 3 or more factors with (un)-balanced design = statsmodels\u001b[0m\u001b[0;34m\u001b[0m\u001b[0;34m\u001b[0m\u001b[0;34m\u001b[0m\u001b[0m\n",
      "\u001b[0;32m~/anaconda3/envs/itm_analysis_reporting/lib/python3.7/site-packages/pingouin/parametric.py\u001b[0m in \u001b[0;36manova2\u001b[0;34m(data, dv, between, ss_type, effsize)\u001b[0m\n\u001b[1;32m   1059\u001b[0m     \u001b[0;31m# Drop missing values\u001b[0m\u001b[0;34m\u001b[0m\u001b[0;34m\u001b[0m\u001b[0;34m\u001b[0m\u001b[0m\n\u001b[1;32m   1060\u001b[0m     \u001b[0mdata\u001b[0m \u001b[0;34m=\u001b[0m \u001b[0mdata\u001b[0m\u001b[0;34m[\u001b[0m\u001b[0;34m[\u001b[0m\u001b[0mdv\u001b[0m\u001b[0;34m,\u001b[0m \u001b[0mfac1\u001b[0m\u001b[0;34m,\u001b[0m \u001b[0mfac2\u001b[0m\u001b[0;34m]\u001b[0m\u001b[0;34m]\u001b[0m\u001b[0;34m.\u001b[0m\u001b[0mdropna\u001b[0m\u001b[0;34m(\u001b[0m\u001b[0;34m)\u001b[0m\u001b[0;34m\u001b[0m\u001b[0;34m\u001b[0m\u001b[0m\n\u001b[0;32m-> 1061\u001b[0;31m     \u001b[0;32massert\u001b[0m \u001b[0mdata\u001b[0m\u001b[0;34m.\u001b[0m\u001b[0mshape\u001b[0m\u001b[0;34m[\u001b[0m\u001b[0;36m0\u001b[0m\u001b[0;34m]\u001b[0m \u001b[0;34m>=\u001b[0m \u001b[0;36m5\u001b[0m\u001b[0;34m,\u001b[0m \u001b[0;34m\"Data must have at least 5 non-missing values.\"\u001b[0m\u001b[0;34m\u001b[0m\u001b[0;34m\u001b[0m\u001b[0m\n\u001b[0m\u001b[1;32m   1062\u001b[0m \u001b[0;34m\u001b[0m\u001b[0m\n\u001b[1;32m   1063\u001b[0m     \u001b[0;31m# Reset index (avoid duplicate axis error)\u001b[0m\u001b[0;34m\u001b[0m\u001b[0;34m\u001b[0m\u001b[0;34m\u001b[0m\u001b[0m\n",
      "\u001b[0;31mAssertionError\u001b[0m: Data must have at least 5 non-missing values."
     ]
    }
   ],
   "source": [
    "\n",
    "calculate_icc(alignment_x_trust_correlations_df, 'AD_Align_High_Text', 'AD_High_Trust', targets_column_name='participant_id')"
   ]
  },
  {
   "cell_type": "markdown",
   "id": "9bf01316-142e-49a0-ab7e-ad4760066a68",
   "metadata": {},
   "source": [
    "\n",
    "I have separate columns in the alignment_x_trust_correlations_dfn Data Frame for AD High Trust, AD Low Trust, etc. The relationships I want primarily need to understand are:\n",
    "\n",
    " - AD_Align_High_Text by AD_High_Trust\n",
    " - AD_Align_Low_Text by AD_Low_Trust\n",
    "\n",
    " - ST_Align_High_Text by ST_High_Trust\n",
    " - ST_Align_Low_Text by ST_Low_Trust"
   ]
  },
  {
   "cell_type": "code",
   "execution_count": 35,
   "id": "85375975-23e1-4b21-b28c-fdcd7ea9430e",
   "metadata": {},
   "outputs": [
    {
     "name": "stdout",
     "output_type": "stream",
     "text": [
      "participant_id AD_High_Trust 1\n",
      "participant_id AD_Align_High_Text 1\n",
      "participant_id AD_Low_Trust 1\n",
      "participant_id AD_Align_Low_Text 1\n",
      "participant_id ST_High_Trust 1\n",
      "participant_id ST_Align_High_Text 1\n",
      "participant_id ST_Low_Trust 1\n",
      "participant_id ST_Align_Low_Text 1\n"
     ]
    }
   ],
   "source": [
    "\n",
    "from scipy.stats import pointbiserialr\n",
    "\n",
    "# Loop through desired groups\n",
    "relationships_str = '''AD_Align_High_Text by AD_High_Trust|AD_Align_Low_Text by AD_Low_Trust\n",
    "ST_Align_High_Text by ST_High_Trust|ST_Align_Low_Text by ST_Low_Trust'''\n",
    "\n",
    "for relationship_str in relationships_str.split('\\n'):\n",
    "    high_low_list = relationship_str.split('|')\n",
    "    high_variable_names_list = high_low_list[0].split(' by ')\n",
    "    low_variable_names_list = high_low_list[1].split(' by ')\n",
    "    \n",
    "    # Define column names for high trust rating and high alignment score column name\n",
    "    high_trust_rating_variable_name = high_variable_names_list[1]\n",
    "    high_alignment_score_column_name = high_variable_names_list[0]\n",
    "    \n",
    "    # Select data for the high trust group (assuming separate columns)\n",
    "    high_columns_list = ['participant_id', high_alignment_score_column_name, high_trust_rating_variable_name]\n",
    "    high_trust_data = alignment_x_trust_correlations_df[high_columns_list].dropna()\n",
    "    \n",
    "    # Define column names for low trust rating and low alignment score column name\n",
    "    low_trust_rating_variable_name = low_variable_names_list[1]\n",
    "    low_alignment_score_column_name = low_variable_names_list[0]\n",
    "\n",
    "    for trust_rating_variable_name in [\n",
    "        high_trust_rating_variable_name, high_alignment_score_column_name, low_trust_rating_variable_name, low_alignment_score_column_name\n",
    "    ]:\n",
    "        columns_list = ['participant_id', trust_rating_variable_name]\n",
    "        print(*columns_list, alignment_x_trust_correlations_df.groupby(columns_list).size().min())\n",
    "    continue\n",
    "    \n",
    "    # Select data for the low trust group (assuming separate columns)\n",
    "    low_columns_list = ['participant_id', low_alignment_score_column_name, low_trust_rating_variable_name]\n",
    "    low_trust_data = alignment_x_trust_correlations_df[low_columns_list].dropna()\n",
    "    \n",
    "    # Calculate point-biserial correlation for high trust\n",
    "    high_trust_corr, _ = pointbiserialr(high_trust_data[high_alignment_score_column_name], high_trust_data[high_trust_rating_variable_name])\n",
    "    \n",
    "    # Calculate point-biserial correlation for low trust\n",
    "    low_trust_corr, _ = pointbiserialr(low_trust_data[low_alignment_score_column_name], low_trust_data[low_trust_rating_variable_name])\n",
    "    \n",
    "    # Print results for the current group\n",
    "    print(f'Point-biserial Correlation ({high_low_list[0]}):')\n",
    "    print(high_trust_corr)\n",
    "    print(f'Point-biserial Correlation ({high_low_list[1]}):')\n",
    "    print(low_trust_corr)"
   ]
  },
  {
   "cell_type": "markdown",
   "id": "fe0a14dd-9b62-43b3-936c-8ca671e75dd2",
   "metadata": {},
   "source": [
    "\n",
    "----"
   ]
  },
  {
   "cell_type": "code",
   "execution_count": 14,
   "id": "0c1c1d42-81ce-46a9-bc4d-a63128a0e829",
   "metadata": {},
   "outputs": [
    {
     "data": {
      "text/plain": [
       "[1, 2, 3, 4, 5, 6, 7, 8, 1, 2, 3, 4, 5, 6, 7, 8, 1, 2, 3, 4, 5, 6, 7, 8, 1, 2, 3, 4, 5, 6, 7, 8]"
      ]
     },
     "execution_count": 14,
     "metadata": {},
     "output_type": "execute_result"
    }
   ],
   "source": [
    "\n",
    "pg.read_dataset('icc').Wine.tolist()"
   ]
  },
  {
   "cell_type": "code",
   "execution_count": 16,
   "id": "ceee48a2-83d5-4131-a529-17d09e4dc0ff",
   "metadata": {},
   "outputs": [
    {
     "data": {
      "text/plain": [
       "[2024201, 2024202, 2024203, 2024204, 2024205, 2024206, 2024207, 2024208, 2024209, 2024211, 2024212, 2024213, 2024214, 2024215, 2024216, 2024217, 2024218, 2024219, 2024220, 2024221, 2024222, 2024223, 2024224, 2024225, 2024226, 2024227]"
      ]
     },
     "execution_count": 16,
     "metadata": {},
     "output_type": "execute_result"
    }
   ],
   "source": [
    "\n",
    "alignment_x_trust_correlations_df.participant_id.tolist()"
   ]
  },
  {
   "cell_type": "code",
   "execution_count": 27,
   "id": "968d1b03-05b5-4247-aa5d-c607aeae2cb7",
   "metadata": {},
   "outputs": [
    {
     "ename": "AssertionError",
     "evalue": "Data must have at least 5 non-missing values.",
     "output_type": "error",
     "traceback": [
      "\u001b[0;31m---------------------------------------------------------------------------\u001b[0m",
      "\u001b[0;31mAssertionError\u001b[0m                            Traceback (most recent call last)",
      "\u001b[0;32m/tmp/ipykernel_2687/1644607712.py\u001b[0m in \u001b[0;36m<module>\u001b[0;34m\u001b[0m\n\u001b[1;32m      6\u001b[0m \u001b[0mstring_to_integer_map\u001b[0m \u001b[0;34m=\u001b[0m \u001b[0;34m{\u001b[0m\u001b[0mk\u001b[0m\u001b[0;34m:\u001b[0m \u001b[0mv\u001b[0m\u001b[0;34m+\u001b[0m\u001b[0;36m1\u001b[0m \u001b[0;32mfor\u001b[0m \u001b[0mk\u001b[0m\u001b[0;34m,\u001b[0m \u001b[0mv\u001b[0m \u001b[0;32min\u001b[0m \u001b[0mstring_to_integer_map\u001b[0m\u001b[0;34m.\u001b[0m\u001b[0mitems\u001b[0m\u001b[0;34m(\u001b[0m\u001b[0;34m)\u001b[0m\u001b[0;34m}\u001b[0m\u001b[0;34m\u001b[0m\u001b[0;34m\u001b[0m\u001b[0m\n\u001b[1;32m      7\u001b[0m \u001b[0malignment_x_trust_correlations_df\u001b[0m\u001b[0;34m[\u001b[0m\u001b[0;34m'new_sequence'\u001b[0m\u001b[0;34m]\u001b[0m \u001b[0;34m=\u001b[0m \u001b[0mnew_sequence\u001b[0m\u001b[0;34m\u001b[0m\u001b[0;34m\u001b[0m\u001b[0m\n\u001b[0;32m----> 8\u001b[0;31m \u001b[0mcalculate_icc\u001b[0m\u001b[0;34m(\u001b[0m\u001b[0malignment_x_trust_correlations_df\u001b[0m\u001b[0;34m,\u001b[0m \u001b[0;34m'AD_Align_High_Text'\u001b[0m\u001b[0;34m,\u001b[0m \u001b[0;34m'AD_High_Trust'\u001b[0m\u001b[0;34m,\u001b[0m \u001b[0mtargets_column_name\u001b[0m\u001b[0;34m=\u001b[0m\u001b[0;34m'new_sequence'\u001b[0m\u001b[0;34m)\u001b[0m\u001b[0;34m\u001b[0m\u001b[0;34m\u001b[0m\u001b[0m\n\u001b[0m",
      "\u001b[0;32m/tmp/ipykernel_2687/3739159105.py\u001b[0m in \u001b[0;36mcalculate_icc\u001b[0;34m(participant_data, trust_rating_variable_name, alignment_score_variable_name, targets_column_name)\u001b[0m\n\u001b[1;32m     21\u001b[0m       \u001b[0mraters\u001b[0m\u001b[0;34m=\u001b[0m\u001b[0mtrust_rating_variable_name\u001b[0m\u001b[0;34m,\u001b[0m\u001b[0;34m\u001b[0m\u001b[0;34m\u001b[0m\u001b[0m\n\u001b[1;32m     22\u001b[0m       \u001b[0mratings\u001b[0m\u001b[0;34m=\u001b[0m\u001b[0malignment_score_variable_name\u001b[0m\u001b[0;34m,\u001b[0m\u001b[0;34m\u001b[0m\u001b[0;34m\u001b[0m\u001b[0m\n\u001b[0;32m---> 23\u001b[0;31m       \u001b[0mnan_policy\u001b[0m\u001b[0;34m=\u001b[0m\u001b[0;34m'omit'\u001b[0m\u001b[0;34m\u001b[0m\u001b[0;34m\u001b[0m\u001b[0m\n\u001b[0m\u001b[1;32m     24\u001b[0m   )\n",
      "\u001b[0;32m~/anaconda3/envs/itm_analysis_reporting/lib/python3.7/site-packages/pingouin/reliability.py\u001b[0m in \u001b[0;36mintraclass_corr\u001b[0;34m(data, targets, raters, ratings, nan_policy)\u001b[0m\n\u001b[1;32m    300\u001b[0m         \u001b[0mold_options\u001b[0m \u001b[0;34m=\u001b[0m \u001b[0moptions\u001b[0m\u001b[0;34m.\u001b[0m\u001b[0mcopy\u001b[0m\u001b[0;34m(\u001b[0m\u001b[0;34m)\u001b[0m\u001b[0;34m\u001b[0m\u001b[0;34m\u001b[0m\u001b[0m\n\u001b[1;32m    301\u001b[0m         \u001b[0moptions\u001b[0m\u001b[0;34m[\u001b[0m\u001b[0;34m\"round\"\u001b[0m\u001b[0;34m]\u001b[0m \u001b[0;34m=\u001b[0m \u001b[0;32mNone\u001b[0m\u001b[0;34m\u001b[0m\u001b[0;34m\u001b[0m\u001b[0m\n\u001b[0;32m--> 302\u001b[0;31m         \u001b[0maov\u001b[0m \u001b[0;34m=\u001b[0m \u001b[0manova\u001b[0m\u001b[0;34m(\u001b[0m\u001b[0mdata\u001b[0m\u001b[0;34m=\u001b[0m\u001b[0mdata\u001b[0m\u001b[0;34m,\u001b[0m \u001b[0mdv\u001b[0m\u001b[0;34m=\u001b[0m\u001b[0mratings\u001b[0m\u001b[0;34m,\u001b[0m \u001b[0mbetween\u001b[0m\u001b[0;34m=\u001b[0m\u001b[0;34m[\u001b[0m\u001b[0mtargets\u001b[0m\u001b[0;34m,\u001b[0m \u001b[0mraters\u001b[0m\u001b[0;34m]\u001b[0m\u001b[0;34m,\u001b[0m \u001b[0mss_type\u001b[0m\u001b[0;34m=\u001b[0m\u001b[0;36m2\u001b[0m\u001b[0;34m)\u001b[0m\u001b[0;34m\u001b[0m\u001b[0;34m\u001b[0m\u001b[0m\n\u001b[0m\u001b[1;32m    303\u001b[0m         \u001b[0moptions\u001b[0m\u001b[0;34m.\u001b[0m\u001b[0mupdate\u001b[0m\u001b[0;34m(\u001b[0m\u001b[0mold_options\u001b[0m\u001b[0;34m)\u001b[0m  \u001b[0;31m# restore options\u001b[0m\u001b[0;34m\u001b[0m\u001b[0;34m\u001b[0m\u001b[0m\n\u001b[1;32m    304\u001b[0m \u001b[0;34m\u001b[0m\u001b[0m\n",
      "\u001b[0;32m~/anaconda3/envs/itm_analysis_reporting/lib/python3.7/site-packages/pingouin/parametric.py\u001b[0m in \u001b[0;36manova\u001b[0;34m(data, dv, between, ss_type, detailed, effsize)\u001b[0m\n\u001b[1;32m    974\u001b[0m             \u001b[0;31m# Two factors with balanced design = Pingouin implementation\u001b[0m\u001b[0;34m\u001b[0m\u001b[0;34m\u001b[0m\u001b[0;34m\u001b[0m\u001b[0m\n\u001b[1;32m    975\u001b[0m             \u001b[0;31m# Two factors with unbalanced design = statsmodels\u001b[0m\u001b[0;34m\u001b[0m\u001b[0;34m\u001b[0m\u001b[0;34m\u001b[0m\u001b[0m\n\u001b[0;32m--> 976\u001b[0;31m             \u001b[0;32mreturn\u001b[0m \u001b[0manova2\u001b[0m\u001b[0;34m(\u001b[0m\u001b[0mdv\u001b[0m\u001b[0;34m=\u001b[0m\u001b[0mdv\u001b[0m\u001b[0;34m,\u001b[0m \u001b[0mbetween\u001b[0m\u001b[0;34m=\u001b[0m\u001b[0mbetween\u001b[0m\u001b[0;34m,\u001b[0m \u001b[0mdata\u001b[0m\u001b[0;34m=\u001b[0m\u001b[0mdata\u001b[0m\u001b[0;34m,\u001b[0m \u001b[0mss_type\u001b[0m\u001b[0;34m=\u001b[0m\u001b[0mss_type\u001b[0m\u001b[0;34m,\u001b[0m \u001b[0meffsize\u001b[0m\u001b[0;34m=\u001b[0m\u001b[0meffsize\u001b[0m\u001b[0;34m)\u001b[0m\u001b[0;34m\u001b[0m\u001b[0;34m\u001b[0m\u001b[0m\n\u001b[0m\u001b[1;32m    977\u001b[0m         \u001b[0;32melse\u001b[0m\u001b[0;34m:\u001b[0m\u001b[0;34m\u001b[0m\u001b[0;34m\u001b[0m\u001b[0m\n\u001b[1;32m    978\u001b[0m             \u001b[0;31m# 3 or more factors with (un)-balanced design = statsmodels\u001b[0m\u001b[0;34m\u001b[0m\u001b[0;34m\u001b[0m\u001b[0;34m\u001b[0m\u001b[0m\n",
      "\u001b[0;32m~/anaconda3/envs/itm_analysis_reporting/lib/python3.7/site-packages/pingouin/parametric.py\u001b[0m in \u001b[0;36manova2\u001b[0;34m(data, dv, between, ss_type, effsize)\u001b[0m\n\u001b[1;32m   1059\u001b[0m     \u001b[0;31m# Drop missing values\u001b[0m\u001b[0;34m\u001b[0m\u001b[0;34m\u001b[0m\u001b[0;34m\u001b[0m\u001b[0m\n\u001b[1;32m   1060\u001b[0m     \u001b[0mdata\u001b[0m \u001b[0;34m=\u001b[0m \u001b[0mdata\u001b[0m\u001b[0;34m[\u001b[0m\u001b[0;34m[\u001b[0m\u001b[0mdv\u001b[0m\u001b[0;34m,\u001b[0m \u001b[0mfac1\u001b[0m\u001b[0;34m,\u001b[0m \u001b[0mfac2\u001b[0m\u001b[0;34m]\u001b[0m\u001b[0;34m]\u001b[0m\u001b[0;34m.\u001b[0m\u001b[0mdropna\u001b[0m\u001b[0;34m(\u001b[0m\u001b[0;34m)\u001b[0m\u001b[0;34m\u001b[0m\u001b[0;34m\u001b[0m\u001b[0m\n\u001b[0;32m-> 1061\u001b[0;31m     \u001b[0;32massert\u001b[0m \u001b[0mdata\u001b[0m\u001b[0;34m.\u001b[0m\u001b[0mshape\u001b[0m\u001b[0;34m[\u001b[0m\u001b[0;36m0\u001b[0m\u001b[0;34m]\u001b[0m \u001b[0;34m>=\u001b[0m \u001b[0;36m5\u001b[0m\u001b[0;34m,\u001b[0m \u001b[0;34m\"Data must have at least 5 non-missing values.\"\u001b[0m\u001b[0;34m\u001b[0m\u001b[0;34m\u001b[0m\u001b[0m\n\u001b[0m\u001b[1;32m   1062\u001b[0m \u001b[0;34m\u001b[0m\u001b[0m\n\u001b[1;32m   1063\u001b[0m     \u001b[0;31m# Reset index (avoid duplicate axis error)\u001b[0m\u001b[0;34m\u001b[0m\u001b[0;34m\u001b[0m\u001b[0;34m\u001b[0m\u001b[0m\n",
      "\u001b[0;31mAssertionError\u001b[0m: Data must have at least 5 non-missing values."
     ]
    }
   ],
   "source": [
    "\n",
    "new_sequence, string_to_integer_map = nu.convert_strings_to_integers(alignment_x_trust_correlations_df.participant_id.tolist())\n",
    "new_sequence = [k+1 for k in new_sequence]\n",
    "string_to_integer_map = {k: v+1 for k, v in string_to_integer_map.items()}\n",
    "alignment_x_trust_correlations_df['new_sequence'] = new_sequence\n",
    "calculate_icc(alignment_x_trust_correlations_df, 'AD_Align_High_Text', 'AD_High_Trust', targets_column_name='new_sequence')"
   ]
  },
  {
   "cell_type": "code",
   "execution_count": null,
   "id": "319758c7-fb8a-4ec8-bb81-128e7b5d4ee7",
   "metadata": {},
   "outputs": [],
   "source": []
  }
 ],
 "metadata": {
  "kernelspec": {
   "display_name": "ITM Analysis Reporting (Python 3.11.7)",
   "language": "python",
   "name": "itm_analysis_reporting"
  },
  "language_info": {
   "codemirror_mode": {
    "name": "ipython",
    "version": 3
   },
   "file_extension": ".py",
   "mimetype": "text/x-python",
   "name": "python",
   "nbconvert_exporter": "python",
   "pygments_lexer": "ipython3",
   "version": "3.7.12"
  }
 },
 "nbformat": 4,
 "nbformat_minor": 5
}
