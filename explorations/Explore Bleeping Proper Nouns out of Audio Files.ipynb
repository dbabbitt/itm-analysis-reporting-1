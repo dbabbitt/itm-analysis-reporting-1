{
 "cells": [
  {
   "cell_type": "code",
   "execution_count": 1,
   "metadata": {},
   "outputs": [
    {
     "name": "stdout",
     "output_type": "stream",
     "text": [
      "Pretty printing has been turned OFF\n"
     ]
    }
   ],
   "source": [
    "\n",
    "%pprint\n",
    "import sys\n",
    "if (osp.join(os.pardir, 'py') not in sys.path): sys.path.insert(1, osp.join(os.pardir, 'py'))"
   ]
  },
  {
   "cell_type": "code",
   "execution_count": 2,
   "metadata": {},
   "outputs": [],
   "source": [
    "\n",
    "from FRVRS import (nu, re, display)\n",
    "import os"
   ]
  },
  {
   "cell_type": "code",
   "execution_count": 3,
   "metadata": {},
   "outputs": [
    {
     "name": "stdout",
     "output_type": "stream",
     "text": [
      "(832366, 109)\n"
     ]
    }
   ],
   "source": [
    "\n",
    "# Get all CSVs into one data frame\n",
    "if nu.pickle_exists('frvrs_logs_df'):\n",
    "    frvrs_logs_df = nu.load_object('frvrs_logs_df')\n",
    "    print(frvrs_logs_df.shape)\n",
    "    # df = frvrs_logs_df.sample(4).dropna(axis='columns', how='all')\n",
    "    # display(df.T)"
   ]
  },
  {
   "cell_type": "code",
   "execution_count": 5,
   "metadata": {},
   "outputs": [
    {
     "data": {
      "text/html": [
       "<div>\n",
       "<style scoped>\n",
       "    .dataframe tbody tr th:only-of-type {\n",
       "        vertical-align: middle;\n",
       "    }\n",
       "\n",
       "    .dataframe tbody tr th {\n",
       "        vertical-align: top;\n",
       "    }\n",
       "\n",
       "    .dataframe thead th {\n",
       "        text-align: right;\n",
       "    }\n",
       "</style>\n",
       "<table border=\"1\" class=\"dataframe\">\n",
       "  <thead>\n",
       "    <tr style=\"text-align: right;\">\n",
       "      <th></th>\n",
       "      <th>726008</th>\n",
       "      <th>233484</th>\n",
       "      <th>153284</th>\n",
       "      <th>184316</th>\n",
       "    </tr>\n",
       "  </thead>\n",
       "  <tbody>\n",
       "    <tr>\n",
       "      <th>action_type</th>\n",
       "      <td>VOICE_CAPTURE</td>\n",
       "      <td>VOICE_CAPTURE</td>\n",
       "      <td>VOICE_CAPTURE</td>\n",
       "      <td>VOICE_CAPTURE</td>\n",
       "    </tr>\n",
       "    <tr>\n",
       "      <th>action_tick</th>\n",
       "      <td>34486</td>\n",
       "      <td>271681</td>\n",
       "      <td>273009</td>\n",
       "      <td>312736</td>\n",
       "    </tr>\n",
       "    <tr>\n",
       "      <th>event_time</th>\n",
       "      <td>2023-06-23 10:54:00</td>\n",
       "      <td>2022-03-16 09:35:38</td>\n",
       "      <td>2022-12-08 08:39:40</td>\n",
       "      <td>2023-08-03 12:36:51</td>\n",
       "    </tr>\n",
       "    <tr>\n",
       "      <th>session_uuid</th>\n",
       "      <td>0b41cfdc-0891-4d1d-91ea-ac86fa54a34c</td>\n",
       "      <td>d8c6bf18-14e3-45f2-bfa1-9a904cb4b82b</td>\n",
       "      <td>48c426ae-e88c-49bd-8010-37dc7b042c95</td>\n",
       "      <td>716087c9-37c5-43b8-93ab-18339caefcd2</td>\n",
       "    </tr>\n",
       "    <tr>\n",
       "      <th>file_name</th>\n",
       "      <td>v.1.0/clean-0b41cfdc-0891-4d1d-91ea-ac86fa54a3...</td>\n",
       "      <td>Disaster Day 2022/AK_938.csv</td>\n",
       "      <td>All CSV files renamed by date/12.08.22.0842.csv</td>\n",
       "      <td>DCEMS Round 2 only triage sessions/716087c9-37...</td>\n",
       "    </tr>\n",
       "    <tr>\n",
       "      <th>logger_version</th>\n",
       "      <td>1.0</td>\n",
       "      <td>1.3</td>\n",
       "      <td>1.0</td>\n",
       "      <td>1.3</td>\n",
       "    </tr>\n",
       "    <tr>\n",
       "      <th>scene_id</th>\n",
       "      <td>1</td>\n",
       "      <td>1</td>\n",
       "      <td>1</td>\n",
       "      <td>1</td>\n",
       "    </tr>\n",
       "    <tr>\n",
       "      <th>voice_capture_message</th>\n",
       "      <td>yeah</td>\n",
       "      <td>tagged a few</td>\n",
       "      <td>never responsive so had to make her red</td>\n",
       "      <td>can you wave</td>\n",
       "    </tr>\n",
       "    <tr>\n",
       "      <th>voice_capture_command_description</th>\n",
       "      <td>NaN</td>\n",
       "      <td>NA</td>\n",
       "      <td>NaN</td>\n",
       "      <td>NA</td>\n",
       "    </tr>\n",
       "  </tbody>\n",
       "</table>\n",
       "</div>"
      ],
      "text/plain": [
       "                                                                              726008  \\\n",
       "action_type                                                            VOICE_CAPTURE   \n",
       "action_tick                                                                   34486   \n",
       "event_time                                                       2023-06-23 10:54:00   \n",
       "session_uuid                                    0b41cfdc-0891-4d1d-91ea-ac86fa54a34c   \n",
       "file_name                          v.1.0/clean-0b41cfdc-0891-4d1d-91ea-ac86fa54a3...   \n",
       "logger_version                                                                   1.0   \n",
       "scene_id                                                                         1   \n",
       "voice_capture_message                                                           yeah   \n",
       "voice_capture_command_description                                                NaN   \n",
       "\n",
       "                                                                 233484  \\\n",
       "action_type                                               VOICE_CAPTURE   \n",
       "action_tick                                                     271681   \n",
       "event_time                                          2022-03-16 09:35:38   \n",
       "session_uuid                       d8c6bf18-14e3-45f2-bfa1-9a904cb4b82b   \n",
       "file_name                                  Disaster Day 2022/AK_938.csv   \n",
       "logger_version                                                      1.3   \n",
       "scene_id                                                            1   \n",
       "voice_capture_message                                      tagged a few   \n",
       "voice_capture_command_description                                    NA   \n",
       "\n",
       "                                                                            153284  \\\n",
       "action_type                                                          VOICE_CAPTURE   \n",
       "action_tick                                                                273009   \n",
       "event_time                                                     2022-12-08 08:39:40   \n",
       "session_uuid                                  48c426ae-e88c-49bd-8010-37dc7b042c95   \n",
       "file_name                          All CSV files renamed by date/12.08.22.0842.csv   \n",
       "logger_version                                                                 1.0   \n",
       "scene_id                                                                       1   \n",
       "voice_capture_message                      never responsive so had to make her red   \n",
       "voice_capture_command_description                                              NaN   \n",
       "\n",
       "                                                                              184316  \n",
       "action_type                                                            VOICE_CAPTURE  \n",
       "action_tick                                                                  312736  \n",
       "event_time                                                       2023-08-03 12:36:51  \n",
       "session_uuid                                    716087c9-37c5-43b8-93ab-18339caefcd2  \n",
       "file_name                          DCEMS Round 2 only triage sessions/716087c9-37...  \n",
       "logger_version                                                                   1.3  \n",
       "scene_id                                                                         1  \n",
       "voice_capture_message                                                   can you wave  \n",
       "voice_capture_command_description                                                 NA  "
      ]
     },
     "metadata": {},
     "output_type": "display_data"
    }
   ],
   "source": [
    "\n",
    "mask_series = frvrs_logs_df.voice_command_command_description.isnull()\n",
    "mask_series &= frvrs_logs_df.voice_capture_message.isnull()\n",
    "df = frvrs_logs_df[~mask_series]\n",
    "# display(df.voice_command_command_description.unique().tolist())\n",
    "display(df.sample(min(4, frvrs_logs_df[mask_series].shape[0])).dropna(axis='columns', how='all').T)"
   ]
  },
  {
   "cell_type": "code",
   "execution_count": 7,
   "metadata": {},
   "outputs": [
    {
     "data": {
      "text/html": [
       "<div>\n",
       "<style scoped>\n",
       "    .dataframe tbody tr th:only-of-type {\n",
       "        vertical-align: middle;\n",
       "    }\n",
       "\n",
       "    .dataframe tbody tr th {\n",
       "        vertical-align: top;\n",
       "    }\n",
       "\n",
       "    .dataframe thead th {\n",
       "        text-align: right;\n",
       "    }\n",
       "</style>\n",
       "<table border=\"1\" class=\"dataframe\">\n",
       "  <thead>\n",
       "    <tr style=\"text-align: right;\">\n",
       "      <th></th>\n",
       "    </tr>\n",
       "  </thead>\n",
       "  <tbody>\n",
       "  </tbody>\n",
       "</table>\n",
       "</div>"
      ],
      "text/plain": [
       "Empty DataFrame\n",
       "Columns: []\n",
       "Index: []"
      ]
     },
     "execution_count": 7,
     "metadata": {},
     "output_type": "execute_result"
    }
   ],
   "source": [
    "\n",
    "# Verify that a known mis-masked voice capture no longer exists\n",
    "mask_series = (frvrs_logs_df.voice_command_command_description == 'Jocelyn can you take a picture for Hannah')\n",
    "mask_series |= (frvrs_logs_df.voice_capture_message == 'Jocelyn can you take a picture for Hannah')\n",
    "df = frvrs_logs_df[mask_series]\n",
    "df.sample(min(4, frvrs_logs_df[mask_series].shape[0])).dropna(axis='columns', how='all').T"
   ]
  },
  {
   "cell_type": "code",
   "execution_count": 2,
   "metadata": {
    "colab": {
     "base_uri": "https://localhost:8080/"
    },
    "id": "yTiGvN6iDNmt",
    "outputId": "6d3fca47-0b5a-46ea-d4f6-0d49d0445168"
   },
   "outputs": [
    {
     "name": "stdout",
     "output_type": "stream",
     "text": [
      "C:\\Users\\DaveBabbitt\\Documents\\GitHub\\notebooks\\nb_env\\python.exe -m pip install pip --upgrade\n",
      "Requirement already satisfied: pip in c:\\users\\davebabbitt\\documents\\github\\notebooks\\nb_env\\lib\\site-packages (22.3.1)\n",
      "Collecting pip\n",
      "  Downloading pip-23.1.2-py3-none-any.whl (2.1 MB)\n",
      "     ---------------------------------------- 2.1/2.1 MB 5.0 MB/s eta 0:00:00\n",
      "Installing collected packages: pip\n",
      "  Attempting uninstall: pip\n",
      "    Found existing installation: pip 22.3.1\n",
      "    Uninstalling pip-22.3.1:\n",
      "      Successfully uninstalled pip-22.3.1\n",
      "Successfully installed pip-23.1.2\n"
     ]
    }
   ],
   "source": [
    "\n",
    "command_str = f'{sys.executable} -m pip install pip --upgrade'\n",
    "print(command_str)\n",
    "!{command_str}"
   ]
  },
  {
   "cell_type": "code",
   "execution_count": 4,
   "metadata": {
    "colab": {
     "base_uri": "https://localhost:8080/"
    },
    "id": "H4WmwkAYDQzx",
    "outputId": "dc01dbb2-5553-429d-c517-af6f0484353b"
   },
   "outputs": [
    {
     "name": "stdout",
     "output_type": "stream",
     "text": [
      "C:\\Users\\DaveBabbitt\\Documents\\GitHub\\notebooks\\nb_env\\python.exe -m pip install SpeechRecognition --upgrade --quiet\n"
     ]
    }
   ],
   "source": [
    "\n",
    "command_str = f'{sys.executable} -m pip install SpeechRecognition --upgrade --quiet'\n",
    "print(command_str)\n",
    "!{command_str}"
   ]
  },
  {
   "cell_type": "code",
   "execution_count": 5,
   "metadata": {
    "colab": {
     "base_uri": "https://localhost:8080/",
     "height": 36
    },
    "id": "D0m4psGcEFl4",
    "outputId": "45e69376-c860-4d2a-e349-ed69135f94bd"
   },
   "outputs": [
    {
     "data": {
      "text/plain": [
       "'Windows'"
      ]
     },
     "execution_count": 5,
     "metadata": {},
     "output_type": "execute_result"
    }
   ],
   "source": [
    "\n",
    "import platform\n",
    "\n",
    "platform.system()"
   ]
  },
  {
   "cell_type": "code",
   "execution_count": 6,
   "metadata": {
    "colab": {
     "base_uri": "https://localhost:8080/",
     "height": 36
    },
    "id": "hK78YiPoEfzJ",
    "outputId": "045d7f75-49e5-4398-d495-3c2c447f6d80"
   },
   "outputs": [
    {
     "data": {
      "text/plain": [
       "'3.9.16'"
      ]
     },
     "execution_count": 6,
     "metadata": {},
     "output_type": "execute_result"
    }
   ],
   "source": [
    "\n",
    "platform.python_version()"
   ]
  },
  {
   "cell_type": "code",
   "execution_count": 7,
   "metadata": {
    "colab": {
     "base_uri": "https://localhost:8080/"
    },
    "id": "H4WmwkAYDQzx",
    "outputId": "dc01dbb2-5553-429d-c517-af6f0484353b"
   },
   "outputs": [
    {
     "name": "stdout",
     "output_type": "stream",
     "text": [
      "C:\\Users\\DaveBabbitt\\Documents\\GitHub\\notebooks\\nb_env\\python.exe -m pip install pyaudio --upgrade --quiet\n"
     ]
    }
   ],
   "source": [
    "\n",
    "command_str = f'{sys.executable} -m pip install pyaudio --upgrade --quiet'\n",
    "print(command_str)\n",
    "!{command_str}"
   ]
  },
  {
   "cell_type": "code",
   "execution_count": 11,
   "metadata": {
    "colab": {
     "base_uri": "https://localhost:8080/"
    },
    "id": "yY5A5DRjL3bO",
    "outputId": "2390d363-859f-4163-cc07-4f24f296d975"
   },
   "outputs": [
    {
     "name": "stdout",
     "output_type": "stream",
     "text": [
      "\"C:\\Program Files (x86)\\sox-14-4-2\\sox.exe\" --info C:\\Users\\DaveBabbitt\\Documents\\GitHub\\notebooks\\data\\wav\\Harvard_list_01.wav\n",
      "\n",
      "Input File     : 'C:\\Users\\DaveBabbitt\\Documents\\GitHub\\notebooks\\data\\wav\\Harvard_list_01.wav'\n",
      "Channels       : 1\n",
      "Sample Rate    : 48000\n",
      "Precision      : 25-bit\n",
      "Duration       : 00:01:07.67 = 3248128 samples ~ 5075.2 CDDA sectors\n",
      "File Size      : 13.0M\n",
      "Bit Rate       : 1.54M\n",
      "Sample Encoding: 32-bit Floating Point PCM\n",
      "\n"
     ]
    }
   ],
   "source": [
    "\n",
    "audio_file_path = os.path.abspath('../data/wav/Harvard_list_01.wav')\n",
    "command_str = f'\"C:\\Program Files (x86)\\sox-14-4-2\\sox.exe\" --info {audio_file_path}'\n",
    "print(command_str)\n",
    "!{command_str}"
   ]
  },
  {
   "cell_type": "code",
   "execution_count": 10,
   "metadata": {
    "colab": {
     "base_uri": "https://localhost:8080/"
    },
    "id": "ca0y4VUsO5NP",
    "outputId": "4287bf61-5667-4bc8-de34-78908652ce72"
   },
   "outputs": [
    {
     "name": "stdout",
     "output_type": "stream",
     "text": [
      "C:\\Users\\DaveBabbitt\\Documents\\GitHub\\notebooks\\nb_env\\python.exe -m pip install soundfile --upgrade --quiet\n"
     ]
    }
   ],
   "source": [
    "\n",
    "command_str = f'{sys.executable} -m pip install soundfile --upgrade --quiet'\n",
    "print(command_str)\n",
    "!{command_str}"
   ]
  },
  {
   "cell_type": "code",
   "execution_count": 12,
   "metadata": {
    "id": "wIwo8_FnNHe9"
   },
   "outputs": [],
   "source": [
    "\n",
    "import soundfile as sf\n",
    "\n",
    "data, samplerate = sf.read(audio_file_path)"
   ]
  },
  {
   "cell_type": "code",
   "execution_count": 13,
   "metadata": {
    "id": "1ZNKWgeTQCpf"
   },
   "outputs": [],
   "source": [
    "\n",
    "SoundFile_obj = sf.SoundFile(audio_file_path, 'r+')"
   ]
  },
  {
   "cell_type": "code",
   "execution_count": 14,
   "metadata": {
    "colab": {
     "base_uri": "https://localhost:8080/"
    },
    "id": "E2Gtlk30SZBi",
    "outputId": "c7d702de-8e6f-4766-9661-9d9773165fb0"
   },
   "outputs": [
    {
     "name": "stdout",
     "output_type": "stream",
     "text": [
      "File : 'C:\\Users\\DaveBabbitt\\Documents\\GitHub\\notebooks\\data\\wav\\Harvard_list_01.wav' (utf-8 converted from ucs-2)\n",
      "Length : 13000052\n",
      "RIFF : 13000044\n",
      "WAVE\n",
      "fmt  : 18\n",
      "  Format        : 0x3 => WAVE_FORMAT_IEEE_FLOAT\n",
      "  Channels      : 1\n",
      "  Sample Rate   : 48000\n",
      "  Block Align   : 4\n",
      "  Bit Width     : 32\n",
      "  Bytes/sec     : 192000\n",
      "data : 12992512\n",
      "LIST : 78\n",
      "  INFO\n",
      "    ICRD : 2018-12-20T15:58:54Z\n",
      "    ISFT : Adobe Audition CC 2017.1 (Windows)\n",
      "bext : 602\n",
      "iXML : 1162\n",
      "_PMX : 5619\n",
      "End\n",
      "**** All non-PCM format files should have a 'fact' chunk.\n",
      "\n"
     ]
    }
   ],
   "source": [
    "\n",
    "print(SoundFile_obj.extra_info)"
   ]
  },
  {
   "cell_type": "code",
   "execution_count": 15,
   "metadata": {
    "id": "ZJaG9Fc4SOWG"
   },
   "outputs": [],
   "source": [
    "\n",
    "SoundFile_obj.close()"
   ]
  },
  {
   "cell_type": "code",
   "execution_count": 16,
   "metadata": {
    "colab": {
     "base_uri": "https://localhost:8080/"
    },
    "id": "YcLdZWHbfaWT",
    "outputId": "cec1e9ca-e8a6-4f41-e6aa-118e4ff62ac9"
   },
   "outputs": [
    {
     "name": "stdout",
     "output_type": "stream",
     "text": [
      "C:\\Users\\DaveBabbitt\\Documents\\GitHub\\notebooks\\nb_env\\python.exe -m pip install pydub --upgrade\n",
      "Collecting pydub\n",
      "  Downloading pydub-0.25.1-py2.py3-none-any.whl (32 kB)\n",
      "Installing collected packages: pydub\n",
      "Successfully installed pydub-0.25.1\n"
     ]
    }
   ],
   "source": [
    "\n",
    "command_str = f'{sys.executable} -m pip install pydub --upgrade'\n",
    "print(command_str)\n",
    "!{command_str}"
   ]
  },
  {
   "cell_type": "code",
   "execution_count": 17,
   "metadata": {
    "id": "sKUAnB6QBpxt"
   },
   "outputs": [],
   "source": [
    "\n",
    "import speech_recognition as sr\n",
    "import soundfile as sf\n",
    "import tempfile\n",
    "from pydub import AudioSegment\n",
    "from pydub.generators import Sine"
   ]
  },
  {
   "cell_type": "code",
   "execution_count": 18,
   "metadata": {
    "id": "sKUAnB6QBpxt"
   },
   "outputs": [],
   "source": [
    "\n",
    "# Function to generate beep audio segment\n",
    "def generate_beep(duration, frequency, volume):\n",
    "    beep = Sine(frequency).to_audio_segment(duration=duration * 1000)\n",
    "    beep = beep.apply_gain(volume)\n",
    "    return beep"
   ]
  },
  {
   "cell_type": "code",
   "execution_count": 19,
   "metadata": {
    "id": "sKUAnB6QBpxt"
   },
   "outputs": [],
   "source": [
    "\n",
    "# Function to replace proper nouns with beeps\n",
    "def censor_proper_nouns(text, audio_data, sample_rate):\n",
    "    proper_nouns = re.findall(r'\\b[A-Z][a-z]+\\b', text)\n",
    "    audio_segment = AudioSegment(\n",
    "        audio_data.tobytes(),\n",
    "        frame_rate=sample_rate,\n",
    "        sample_width=audio_data.dtype.itemsize,\n",
    "        channels=len(audio_data.shape)\n",
    "    )\n",
    "    for noun in proper_nouns:\n",
    "        beep_duration = len(noun) * 100  # Adjust the beep duration as needed\n",
    "        beep_frequency = 1000  # Adjust the beep frequency as needed\n",
    "        beep_volume = -20  # Adjust the beep volume as needed\n",
    "        beep = generate_beep(beep_duration, beep_frequency, beep_volume)\n",
    "        start_time = re.search(r'\\b{}\\b'.format(noun), text).start() / len(text) * len(audio_segment)\n",
    "        end_time = start_time + len(beep)\n",
    "        audio_segment = audio_segment.overlay(beep, position=int(start_time), loop=False)\n",
    "\n",
    "    modified_audio = audio_segment.get_array_of_samples()\n",
    "    return modified_audio"
   ]
  },
  {
   "cell_type": "code",
   "execution_count": 20,
   "metadata": {
    "id": "sKUAnB6QBpxt"
   },
   "outputs": [],
   "source": [
    "\n",
    "# Function to convert speech to text\n",
    "def transcribe_audio(file_path):\n",
    "    r = sr.Recognizer()\n",
    "    audio = sr.AudioFile(file_path)\n",
    "\n",
    "    with audio as source:\n",
    "        audio_data = r.record(source)\n",
    "        text = r.recognize_google(audio_data)\n",
    "\n",
    "    return text"
   ]
  },
  {
   "cell_type": "code",
   "execution_count": 21,
   "metadata": {
    "id": "sKUAnB6QBpxt"
   },
   "outputs": [],
   "source": [
    "\n",
    "# Function to save the modified audio file\n",
    "def save_audio(file_path, audio_data, sample_rate):\n",
    "    sf.write(file_path, audio_data, sample_rate, format='WAV')"
   ]
  },
  {
   "cell_type": "code",
   "execution_count": 22,
   "metadata": {
    "id": "sKUAnB6QBpxt"
   },
   "outputs": [],
   "source": [
    "\n",
    "# Function to censor the audio file\n",
    "def censor_audio(file_path):\n",
    "    sf_obj = sf.SoundFile(file_path, 'r')\n",
    "\n",
    "    audio_data = sf_obj.read(dtype='float32')\n",
    "    sample_rate = sf_obj.samplerate\n",
    "    sf_obj.close()\n",
    "\n",
    "    temp_file_path = tempfile.NamedTemporaryFile(suffix=\".wav\").name\n",
    "    save_audio(temp_file_path, audio_data, sample_rate)\n",
    "\n",
    "    text = transcribe_audio(temp_file_path)\n",
    "    modified_audio = censor_proper_nouns(text, audio_data, sample_rate)\n",
    "\n",
    "\n",
    "    save_audio(temp_file_path, modified_audio, sample_rate)\n",
    "\n",
    "    return temp_file_path"
   ]
  },
  {
   "cell_type": "code",
   "execution_count": 25,
   "metadata": {
    "id": "sKUAnB6QBpxt"
   },
   "outputs": [],
   "source": [
    "\n",
    "modified_audio_file_path = censor_audio(audio_file_path)"
   ]
  },
  {
   "cell_type": "code",
   "execution_count": 26,
   "metadata": {},
   "outputs": [
    {
     "name": "stdout",
     "output_type": "stream",
     "text": [
      "C:\\Users\\DAVEBA~1\\AppData\\Local\\Temp\\tmpc_9ag1j4.wav\n"
     ]
    }
   ],
   "source": [
    "\n",
    "print(modified_audio_file_path)"
   ]
  },
  {
   "cell_type": "code",
   "execution_count": null,
   "metadata": {},
   "outputs": [],
   "source": []
  }
 ],
 "metadata": {
  "colab": {
   "provenance": []
  },
  "kernelspec": {
   "display_name": "Notebooks (Python 3.9.16)",
   "language": "python",
   "name": "nb_env"
  },
  "language_info": {
   "codemirror_mode": {
    "name": "ipython",
    "version": 3
   },
   "file_extension": ".py",
   "mimetype": "text/x-python",
   "name": "python",
   "nbconvert_exporter": "python",
   "pygments_lexer": "ipython3",
   "version": "3.9.16"
  }
 },
 "nbformat": 4,
 "nbformat_minor": 4
}
