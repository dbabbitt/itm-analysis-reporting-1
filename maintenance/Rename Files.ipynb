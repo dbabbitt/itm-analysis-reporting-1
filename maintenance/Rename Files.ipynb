{
 "cells": [
  {
   "cell_type": "code",
   "execution_count": 1,
   "id": "a0ac669e-80e2-4263-8d1a-be00db9ba7be",
   "metadata": {},
   "outputs": [
    {
     "name": "stdout",
     "output_type": "stream",
     "text": [
      "Pretty printing has been turned OFF\n"
     ]
    }
   ],
   "source": [
    "\n",
    "%pprint\n",
    "import sys\n",
    "if (osp.join(os.pardir, 'py') not in sys.path): sys.path.insert(1, osp.join(os.pardir, 'py'))"
   ]
  },
  {
   "cell_type": "code",
   "execution_count": null,
   "id": "0a582a8d-32f5-410b-8c16-d55b83762d1f",
   "metadata": {},
   "outputs": [],
   "source": [
    "\n",
    "from FRVRS import (nu, csv, walk, sep, makedirs)\n",
    "from datetime import datetime\n",
    "import os\n",
    "import shutil"
   ]
  },
  {
   "cell_type": "code",
   "execution_count": null,
   "id": "71e21a5e-7338-4469-892b-8d3463419c94",
   "metadata": {},
   "outputs": [],
   "source": [
    "\n",
    "rename_folder = os.path.join(nu.saves_folder, 'rename')\n",
    "for old_sub_directory, directories_list, files_list in walk(nu.data_logs_folder):\n",
    "    for old_file_name in files_list:\n",
    "        if old_file_name.endswith('.csv'):\n",
    "            old_file_path = os.path.join(old_sub_directory, old_file_name)\n",
    "            with open(old_file_path, 'r') as f:\n",
    "                reader = csv.reader(f, delimiter=',', quotechar='\"')\n",
    "                for values_list in reader:\n",
    "                    date_str = values_list[2]\n",
    "                    break\n",
    "                try: date_obj = datetime.strptime(date_str, '%m/%d/%Y %H:%M')\n",
    "                except ValueError: date_obj = datetime.strptime(date_str, '%m/%d/%Y %I:%M:%S %p')\n",
    "                new_file_name = date_obj.strftime('%y.%m.%d.%H%M.csv')\n",
    "                new_sub_directory = sep.join([rename_folder] + old_sub_directory.split(sep)[1:])\n",
    "                makedirs(new_sub_directory, exist_ok=True)\n",
    "                new_file_path = os.path.join(new_sub_directory, new_file_name)\n",
    "                if not os.path.exists(new_file_path): shutil.copy(old_file_path, new_file_path)"
   ]
  },
  {
   "cell_type": "code",
   "execution_count": null,
   "id": "2e9fddd8-880e-4dc6-81e6-37b84840eecc",
   "metadata": {},
   "outputs": [],
   "source": []
  }
 ],
 "metadata": {
  "kernelspec": {
   "display_name": "LlamaIndex (Python 3.10.13)",
   "language": "python",
   "name": "llama_index"
  },
  "language_info": {
   "codemirror_mode": {
    "name": "ipython",
    "version": 3
   },
   "file_extension": ".py",
   "mimetype": "text/x-python",
   "name": "python",
   "nbconvert_exporter": "python",
   "pygments_lexer": "ipython3",
   "version": "3.9.18"
  }
 },
 "nbformat": 4,
 "nbformat_minor": 5
}
