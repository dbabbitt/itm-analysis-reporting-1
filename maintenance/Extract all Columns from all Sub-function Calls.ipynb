{
 "cells": [
  {
   "cell_type": "code",
   "execution_count": 1,
   "metadata": {
    "tags": []
   },
   "outputs": [
    {
     "name": "stdout",
     "output_type": "stream",
     "text": [
      "Pretty printing has been turned OFF\n"
     ]
    }
   ],
   "source": [
    "\n",
    "# Set up notebook\n",
    "%pprint\n",
    "import sys\n",
    "if (osp.join('..', 'py') not in sys.path): sys.path.insert(1, osp.join('..', 'py'))\n",
    "from FRVRS import (nu, fu, re)\n",
    "nu.delete_ipynb_checkpoint_folders()"
   ]
  },
  {
   "cell_type": "code",
   "execution_count": 7,
   "metadata": {},
   "outputs": [
    {
     "name": "stdout",
     "output_type": "stream",
     "text": [
      "\n",
      "        \n",
      "        # Ensure all needed columns are present in injury_df\n",
      "        needed_columns = set(['patient_count', 'error_type'])\n",
      "        all_columns = set(injury_df.columns)\n",
      "        assert needed_columns.issubset(all_columns), f\"You're missing {needed_columns.difference(all_columns)} from injury_df\"\n",
      "\n"
     ]
    }
   ],
   "source": [
    "\n",
    "# Extract all the needed columns from all the function calls in the function\n",
    "import inspect\n",
    "import pyperclip\n",
    "\n",
    "functions_regex = re.compile(r'\\bself\\.[a-z_]+\\([^\\)]+_df[^\\)]*\\)')\n",
    "issubset_regex = re.compile(r'\\.issubset\\(')\n",
    "needed_columns_set = set()\n",
    "fn_obj = fu.create_triage_error_rates_dataframe\n",
    "source_code = inspect.getsource(fn_obj)\n",
    "parts_list = functions_regex.findall(source_code)\n",
    "statements_list = [f'These functions still need code to ensure all needed columns can be checked in {fn_obj.__name__}:']\n",
    "for fn_str in parts_list:\n",
    "    fn_obj = eval(fn_str.split('(')[0].replace('self.', 'fu.'))\n",
    "    source_code = inspect.getsource(fn_obj)\n",
    "    parts_list = re.split('(needed_columns = |all_columns = )', source_code, 0)\n",
    "    if (issubset_regex.search(source_code) is None) or (len(parts_list) < 2):\n",
    "        statements_list.append('    ' + fn_obj.__name__)\n",
    "    else:\n",
    "        needed_columns_str = parts_list[2].strip()\n",
    "        try:\n",
    "            needed_columns_set = needed_columns_set.union(eval(re.sub(r'\\bself\\.', 'fu.', needed_columns_str)))\n",
    "        except:\n",
    "            print(needed_columns_str)\n",
    "if len(statements_list) > 1: print('\\n'.join(statements_list))\n",
    "elif len(needed_columns_set):\n",
    "    print_str = f\"\"\"\n",
    "        \n",
    "        # Ensure all needed columns are present in injury_df\n",
    "        needed_columns = set({list(needed_columns_set)})\n",
    "        all_columns = set(injury_df.columns)\n",
    "        assert needed_columns.issubset(all_columns), f\"You're missing {{needed_columns.difference(all_columns)}} from injury_df\"\n",
    "\"\"\"\n",
    "    pyperclip.copy(print_str)\n",
    "    print(print_str)"
   ]
  },
  {
   "cell_type": "code",
   "execution_count": null,
   "metadata": {},
   "outputs": [],
   "source": []
  }
 ],
 "metadata": {
  "kernelspec": {
   "display_name": "ITM Analysis Reporting (Python 3.11.7)",
   "language": "python",
   "name": "itm_analysis_reporting"
  },
  "language_info": {
   "codemirror_mode": {
    "name": "ipython",
    "version": 3
   },
   "file_extension": ".py",
   "mimetype": "text/x-python",
   "name": "python",
   "nbconvert_exporter": "python",
   "pygments_lexer": "ipython3",
   "version": "3.7.12"
  }
 },
 "nbformat": 4,
 "nbformat_minor": 4
}
