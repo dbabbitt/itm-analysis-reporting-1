{
 "cells": [
  {
   "cell_type": "code",
   "execution_count": 1,
   "id": "4468dd39-dda3-4cb9-a165-307e900a13e7",
   "metadata": {},
   "outputs": [
    {
     "name": "stdout",
     "output_type": "stream",
     "text": [
      "Pretty printing has been turned OFF\n"
     ]
    }
   ],
   "source": [
    "\n",
    "%pprint\n",
    "import sys\n",
    "if (osp.join(os.pardir, 'py') not in sys.path): sys.path.insert(1, osp.join(os.pardir, 'py'))"
   ]
  },
  {
   "cell_type": "code",
   "execution_count": 2,
   "id": "c5ad29b4-ad31-4275-8f5e-58c516b61059",
   "metadata": {},
   "outputs": [],
   "source": [
    "\n",
    "from FRVRS import (nu, fu, DataFrame, osp, re, read_csv)\n",
    "import pandas as pd"
   ]
  },
  {
   "cell_type": "code",
   "execution_count": 3,
   "id": "ae71dfae-b31e-47fa-8b3f-40f6a85c8cc4",
   "metadata": {},
   "outputs": [],
   "source": [
    "\n",
    "sub_directory_df = DataFrame([])\n",
    "sub_directory = '../data/logs/All CSV files renamed by date'\n",
    "file_name = '03.10.23.0753.csv'\n",
    "\n",
    "# Construct the full path to the file\n",
    "file_path = osp.join(sub_directory, file_name)"
   ]
  },
  {
   "cell_type": "code",
   "execution_count": 4,
   "id": "3a7bc161-08cd-4cb9-be8a-bd9113afe784",
   "metadata": {},
   "outputs": [],
   "source": [
    "\n",
    "version_number = '1.0'\n",
    "file_df = read_csv(file_path, header=None, index_col=False)"
   ]
  },
  {
   "cell_type": "code",
   "execution_count": 5,
   "id": "5f247049-bc37-4dc5-9345-6cc9ea0b617f",
   "metadata": {},
   "outputs": [
    {
     "data": {
      "text/plain": [
       "[]"
      ]
     },
     "execution_count": 5,
     "metadata": {},
     "output_type": "execute_result"
    }
   ],
   "source": [
    "\n",
    "# Find columns containing only version numbers\n",
    "VERSION_REGEX = re.compile(r'^\\d\\.\\d$')\n",
    "is_version_there = lambda x: bool(re.match(VERSION_REGEX, str(x)))\n",
    "srs = file_df.applymap(is_version_there, na_action='ignore').sum()\n",
    "columns_list = srs[srs == file_df.shape[0]].index.tolist()\n",
    "columns_list"
   ]
  },
  {
   "cell_type": "code",
   "execution_count": 8,
   "id": "6d097048-2194-40cc-9c9a-9754f1526add",
   "metadata": {},
   "outputs": [
    {
     "data": {
      "text/plain": [
       "1.0"
      ]
     },
     "execution_count": 8,
     "metadata": {},
     "output_type": "execute_result"
    }
   ],
   "source": [
    "\n",
    "float(version_number)"
   ]
  },
  {
   "cell_type": "code",
   "execution_count": null,
   "id": "01b5939c-fe7e-4ddb-be8d-ff3b1bbc93cb",
   "metadata": {},
   "outputs": [],
   "source": []
  }
 ],
 "metadata": {
  "kernelspec": {
   "display_name": "ITM Analysis Reporting (Python 3.11.7)",
   "language": "python",
   "name": "itm_analysis_reporting"
  },
  "language_info": {
   "codemirror_mode": {
    "name": "ipython",
    "version": 3
   },
   "file_extension": ".py",
   "mimetype": "text/x-python",
   "name": "python",
   "nbconvert_exporter": "python",
   "pygments_lexer": "ipython3",
   "version": "3.7.12"
  }
 },
 "nbformat": 4,
 "nbformat_minor": 5
}
