{
 "cells": [
  {
   "cell_type": "code",
   "execution_count": 1,
   "id": "2dbfa640-1f3f-4a24-8d2a-b6b35c946057",
   "metadata": {},
   "outputs": [
    {
     "name": "stdout",
     "output_type": "stream",
     "text": [
      "Pretty printing has been turned OFF\n"
     ]
    }
   ],
   "source": [
    "\n",
    "%pprint\n",
    "import sys\n",
    "if (osp.join(os.pardir, 'py') not in sys.path): sys.path.insert(1, osp.join(os.pardir, 'py'))"
   ]
  },
  {
   "cell_type": "code",
   "execution_count": 2,
   "id": "cd0388a9-d467-41c1-aafa-339f3f8d6371",
   "metadata": {},
   "outputs": [],
   "source": [
    "\n",
    "from FRVRS import (nu)\n",
    "import os\n",
    "import pandas as pd"
   ]
  },
  {
   "cell_type": "markdown",
   "id": "0bf0a863-a0e7-4101-afcd-eabb38c3f6a9",
   "metadata": {},
   "source": [
    "\n",
    "# Reserialize Data Frame pickles"
   ]
  },
  {
   "cell_type": "code",
   "execution_count": 7,
   "id": "ac0b7aa3-9567-4f60-82a5-06f974151a39",
   "metadata": {},
   "outputs": [
    {
     "name": "stdout",
     "output_type": "stream",
     "text": [
      "\n",
      "\\bnu\\.store_objects\\((percentage_treated_df=percentage_treated_df|next_transactions_one_hot_df=next_transactions_one_hot_df|feature_importances_df=feature_importances_df|teleport_count_df=teleport_count_df|some_transactions_itemsets_df=some_transactions_itemsets_df|tag_to_salt_df=tag_to_salt_df|some_transactions_one_hot_df=some_transactions_one_hot_df|notice_to_control_time_df=notice_to_control_time_df|correct_count_df=correct_count_df|simultaneous_actions_itemsets_df=simultaneous_actions_itemsets_df|simultaneous_actions_one_hot_df=simultaneous_actions_one_hot_df|engagement_sort_df=engagement_sort_df|still_patients_df=still_patients_df|engagement_delta_df=engagement_delta_df|feature_coefficients_df=feature_coefficients_df|some_transactions_rules_df=some_transactions_rules_df|euclidean_footprint_df=euclidean_footprint_df|pulses_count_df=pulses_count_df|next_transactions_itemsets_df=next_transactions_itemsets_df|patient_ranking_df=patient_ranking_df|hgb_permutation_importances_df=hgb_permutation_importances_df|next_actions_rules_df=next_actions_rules_df|walk_and_wave_count_df=walk_and_wave_count_df|one_hot_column_descriptions_df=one_hot_column_descriptions_df|next_transactions_rules_df=next_transactions_rules_df|next_actions_itemsets_df=next_actions_itemsets_df|rightly_treated_count_df=rightly_treated_count_df|voices_captured_df=voices_captured_df|run_control_time_df=run_control_time_df|patient_count_df=patient_count_df|sub_directory_df=sub_directory_df|simultaneous_actions_rules_df=simultaneous_actions_rules_df|time_to_engagement_df=time_to_engagement_df|all_transactions_one_hot_df=all_transactions_one_hot_df|time_to_treatment_df=time_to_treatment_df|total_actions_df=total_actions_df|next_actions_one_hot_df=next_actions_one_hot_df|all_transactions_one_hot_df=all_transactions_one_hot_df|correct_count_df=correct_count_df|engagement_delta_df=engagement_delta_df|engagement_sort_df=engagement_sort_df|euclidean_footprint_df=euclidean_footprint_df|feature_coefficients_df=feature_coefficients_df|feature_importances_df=feature_importances_df|hgb_permutation_importances_df=hgb_permutation_importances_df|next_actions_itemsets_df=next_actions_itemsets_df|next_actions_one_hot_df=next_actions_one_hot_df|next_actions_rules_df=next_actions_rules_df|next_transactions_itemsets_df=next_transactions_itemsets_df|next_transactions_one_hot_df=next_transactions_one_hot_df|next_transactions_rules_df=next_transactions_rules_df|notice_to_control_time_df=notice_to_control_time_df|one_hot_column_descriptions_df=one_hot_column_descriptions_df|patient_count_df=patient_count_df|patient_ranking_df=patient_ranking_df|percentage_treated_df=percentage_treated_df|pulses_count_df=pulses_count_df|rightly_treated_count_df=rightly_treated_count_df|run_control_time_df=run_control_time_df|simultaneous_actions_itemsets_df=simultaneous_actions_itemsets_df|simultaneous_actions_one_hot_df=simultaneous_actions_one_hot_df|simultaneous_actions_rules_df=simultaneous_actions_rules_df|some_transactions_itemsets_df=some_transactions_itemsets_df|some_transactions_one_hot_df=some_transactions_one_hot_df|some_transactions_rules_df=some_transactions_rules_df|still_patients_df=still_patients_df|sub_directory_df=sub_directory_df|tag_to_salt_df=tag_to_salt_df|teleport_count_df=teleport_count_df|time_to_engagement_df=time_to_engagement_df|time_to_treatment_df=time_to_treatment_df|total_actions_df=total_actions_df|voices_captured_df=voices_captured_df|walk_and_wave_count_df=walk_and_wave_count_df)\\)\n"
     ]
    }
   ],
   "source": [
    "\n",
    "# conda activate itm_analysis_reporting; python -c \"import pandas as pd; print(pd.__version__)\"\n",
    "pickles_list = nu.list_dfs_in_folder()\n",
    "nu.delete_ipynb_checkpoint_folders()\n",
    "loadable_pickles_list = []\n",
    "for pickle_name in pickles_list:\n",
    "    try:\n",
    "        df = nu.load_object(pickle_name)\n",
    "        # nu.store_objects(**{pickle_name: df})\n",
    "        # nu.save_data_frames(**{pickle_name: df})\n",
    "        loadable_pickles_list.append(pickle_name)\n",
    "    except AttributeError as e:\n",
    "        # print(f'Pandas {pd.__version__} gets this error trying to load {pickle_name}: {str(e).strip()}')\n",
    "        unloadable_pickles_list.append(pickle_name)\n",
    "        continue\n",
    "print()\n",
    "# unloadable_pickles_list = list(set(pickles_list) - set(loadable_pickles_list))\n",
    "print(\"\\\\bnu\\\\.store_objects\\\\((\" + '|'.join([pn + '=' + pn for pn in unloadable_pickles_list]) + \")\\\\)\")"
   ]
  },
  {
   "cell_type": "code",
   "execution_count": 8,
   "id": "7746de21-5b78-45e8-8468-b9048ba1069d",
   "metadata": {},
   "outputs": [
    {
     "name": "stdout",
     "output_type": "stream",
     "text": [
      "\\bnu\\.store_objects\\((percentage_treated_df=percentage_treated_df|next_transactions_one_hot_df=next_transactions_one_hot_df|feature_importances_df=feature_importances_df|teleport_count_df=teleport_count_df|some_transactions_itemsets_df=some_transactions_itemsets_df|tag_to_salt_df=tag_to_salt_df|some_transactions_one_hot_df=some_transactions_one_hot_df|notice_to_control_time_df=notice_to_control_time_df|correct_count_df=correct_count_df|simultaneous_actions_itemsets_df=simultaneous_actions_itemsets_df|simultaneous_actions_one_hot_df=simultaneous_actions_one_hot_df|engagement_sort_df=engagement_sort_df|still_patients_df=still_patients_df|engagement_delta_df=engagement_delta_df|feature_coefficients_df=feature_coefficients_df|some_transactions_rules_df=some_transactions_rules_df|euclidean_footprint_df=euclidean_footprint_df|pulses_count_df=pulses_count_df|next_transactions_itemsets_df=next_transactions_itemsets_df|patient_ranking_df=patient_ranking_df|hgb_permutation_importances_df=hgb_permutation_importances_df|next_actions_rules_df=next_actions_rules_df|walk_and_wave_count_df=walk_and_wave_count_df|one_hot_column_descriptions_df=one_hot_column_descriptions_df|next_transactions_rules_df=next_transactions_rules_df|next_actions_itemsets_df=next_actions_itemsets_df|rightly_treated_count_df=rightly_treated_count_df|voices_captured_df=voices_captured_df|run_control_time_df=run_control_time_df|patient_count_df=patient_count_df|sub_directory_df=sub_directory_df|simultaneous_actions_rules_df=simultaneous_actions_rules_df|time_to_engagement_df=time_to_engagement_df|all_transactions_one_hot_df=all_transactions_one_hot_df|time_to_treatment_df=time_to_treatment_df|total_actions_df=total_actions_df|next_actions_one_hot_df=next_actions_one_hot_df)\\)\n"
     ]
    }
   ],
   "source": [
    "\n",
    "unloadable_pickles_list = list(set(pickles_list) - set(loadable_pickles_list))\n",
    "print(\"\\\\bnu\\\\.store_objects\\\\((\" + '|'.join([pn + '=' + pn for pn in unloadable_pickles_list]) + \")\\\\)\")"
   ]
  }
 ],
 "metadata": {
  "kernelspec": {
   "display_name": "ITM Analysis Reporting (Python 3.11.7)",
   "language": "python",
   "name": "itm_analysis_reporting"
  },
  "language_info": {
   "codemirror_mode": {
    "name": "ipython",
    "version": 3
   },
   "file_extension": ".py",
   "mimetype": "text/x-python",
   "name": "python",
   "nbconvert_exporter": "python",
   "pygments_lexer": "ipython3",
   "version": "3.7.12"
  }
 },
 "nbformat": 4,
 "nbformat_minor": 5
}
