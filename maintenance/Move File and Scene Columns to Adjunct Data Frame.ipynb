{
 "cells": [
  {
   "cell_type": "code",
   "execution_count": 1,
   "id": "0d497083-b501-4f84-bca7-d691eded680d",
   "metadata": {},
   "outputs": [
    {
     "name": "stdout",
     "output_type": "stream",
     "text": [
      "Pretty printing has been turned OFF\n"
     ]
    }
   ],
   "source": [
    "\n",
    "%pprint\n",
    "import sys\n",
    "if (osp.join('..', 'py') not in sys.path): sys.path.insert(1, osp.join('..', 'py'))"
   ]
  },
  {
   "cell_type": "code",
   "execution_count": 2,
   "id": "16caa025-311a-4cf5-a53a-7258640a8a7b",
   "metadata": {},
   "outputs": [],
   "source": [
    "\n",
    "from FRVRS import (nu, fu, display)"
   ]
  },
  {
   "cell_type": "code",
   "execution_count": 3,
   "id": "5c8efbc6-3281-42a4-8c8e-4fe8062b7723",
   "metadata": {},
   "outputs": [
    {
     "name": "stdout",
     "output_type": "stream",
     "text": [
      "Attempting to load /mnt/c/Users/DaveBabbitt/Documents/GitHub/itm-analysis-reporting/saves/pkl/frvrs_logs_df.pkl.\n",
      "Attempting to load /mnt/c/Users/DaveBabbitt/Documents/GitHub/itm-analysis-reporting/saves/pkl/file_stats_df.pkl.\n",
      "Attempting to load /mnt/c/Users/DaveBabbitt/Documents/GitHub/itm-analysis-reporting/saves/pkl/scene_stats_df.pkl.\n"
     ]
    }
   ],
   "source": [
    "\n",
    "# load data frames\n",
    "data_frames_dict = nu.load_data_frames(frvrs_logs_df='', file_stats_df='', scene_stats_df='')\n",
    "frvrs_logs_df = data_frames_dict['frvrs_logs_df']\n",
    "file_stats_df = data_frames_dict['file_stats_df']\n",
    "scene_stats_df = data_frames_dict['scene_stats_df']"
   ]
  },
  {
   "cell_type": "code",
   "execution_count": 4,
   "id": "722bdaf9-910b-4ca1-8fc3-551c60238c5b",
   "metadata": {},
   "outputs": [
    {
     "data": {
      "text/plain": [
       "['scene_id', 'session_uuid', 'scene_type']"
      ]
     },
     "execution_count": 4,
     "metadata": {},
     "output_type": "execute_result"
    }
   ],
   "source": [
    "\n",
    "on_columns = list(set(frvrs_logs_df.columns).intersection(set(scene_stats_df.columns)))\n",
    "on_columns"
   ]
  },
  {
   "cell_type": "code",
   "execution_count": 5,
   "id": "386a038e-f5ad-476a-8e97-14a737df6669",
   "metadata": {},
   "outputs": [
    {
     "name": "stdout",
     "output_type": "stream",
     "text": [
      "Pickling to /mnt/c/Users/DaveBabbitt/Documents/GitHub/itm-analysis-reporting/saves/pkl/frvrs_logs_df.pkl\n",
      "Saving to /mnt/c/Users/DaveBabbitt/Documents/GitHub/itm-analysis-reporting/saves/csv/frvrs_logs_df.csv\n"
     ]
    }
   ],
   "source": [
    "\n",
    "frvrs_logs_df = frvrs_logs_df.drop(columns=['scene_type'])\n",
    "nu.store_objects(frvrs_logs_df=frvrs_logs_df)\n",
    "nu.save_data_frames(frvrs_logs_df=frvrs_logs_df)"
   ]
  },
  {
   "cell_type": "code",
   "execution_count": 8,
   "id": "1fdba830-3ff5-4be1-9615-282b52803be7",
   "metadata": {},
   "outputs": [
    {
     "name": "stdout",
     "output_type": "stream",
     "text": [
      "Pickling to /mnt/c/Users/DaveBabbitt/Documents/GitHub/itm-analysis-reporting/saves/pkl/frvrs_logs_df.pkl\n",
      "Saving to /mnt/c/Users/DaveBabbitt/Documents/GitHub/itm-analysis-reporting/saves/csv/frvrs_logs_df.csv\n"
     ]
    }
   ],
   "source": [
    "\n",
    "# Fix inexplicable logger version values\n",
    "session_uuid = '13839608-6085-4a88-a8f2-74af9fd06a05'\n",
    "mask_series = (frvrs_logs_df.session_uuid == session_uuid)\n",
    "frvrs_logs_df.loc[mask_series, 'logger_version'] = 1.0\n",
    "nu.store_objects(frvrs_logs_df=frvrs_logs_df)\n",
    "nu.save_data_frames(frvrs_logs_df=frvrs_logs_df)"
   ]
  },
  {
   "cell_type": "code",
   "execution_count": 7,
   "id": "86178db3-2665-4584-acec-2af4ab1c21f5",
   "metadata": {},
   "outputs": [],
   "source": [
    "\n",
    "groupby_columns = list(set(frvrs_logs_df.columns).intersection(set(file_stats_df.columns)))\n",
    "for (logger_version, file_name, session_uuid), session_df in frvrs_logs_df.groupby(groupby_columns):\n",
    "    \n",
    "    # Get file stats for this session\n",
    "    mask_series = (file_stats_df.session_uuid == session_uuid) & ((file_stats_df.logger_version != logger_version) | (file_stats_df.file_name != file_name))\n",
    "    if mask_series.any():\n",
    "        \n",
    "        # Fix inexplicable logger version values in the file stats data frame\n",
    "        file_stats_df.loc[mask_series, 'logger_version'] = logger_version\n",
    "        file_stats_df.loc[mask_series, 'file_name'] = file_name"
   ]
  },
  {
   "cell_type": "code",
   "execution_count": 8,
   "id": "cf2d2610-6cea-4a93-a00f-cefe8e500747",
   "metadata": {},
   "outputs": [
    {
     "name": "stdout",
     "output_type": "stream",
     "text": [
      "Pickling to /mnt/c/Users/DaveBabbitt/Documents/GitHub/itm-analysis-reporting/saves/pkl/file_stats_df.pkl\n",
      "Saving to /mnt/c/Users/DaveBabbitt/Documents/GitHub/itm-analysis-reporting/saves/csv/file_stats_df.csv\n",
      "Pickling to /mnt/c/Users/DaveBabbitt/Documents/GitHub/itm-analysis-reporting/saves/pkl/frvrs_logs_df.pkl\n",
      "Saving to /mnt/c/Users/DaveBabbitt/Documents/GitHub/itm-analysis-reporting/saves/csv/frvrs_logs_df.csv\n"
     ]
    }
   ],
   "source": [
    "\n",
    "# Save changes\n",
    "nu.store_objects(file_stats_df=file_stats_df)\n",
    "nu.save_data_frames(file_stats_df=file_stats_df)\n",
    "frvrs_logs_df = frvrs_logs_df.drop(columns=['logger_version', 'file_name'])\n",
    "nu.store_objects(frvrs_logs_df=frvrs_logs_df)\n",
    "nu.save_data_frames(frvrs_logs_df=frvrs_logs_df)"
   ]
  },
  {
   "cell_type": "code",
   "execution_count": 5,
   "id": "6bbc1e9e-d97f-4fd5-b530-c53ba474feec",
   "metadata": {},
   "outputs": [
    {
     "data": {
      "text/plain": [
       "['is_a_one_triage_file', 'is_scene_aborted', 'session_uuid', 'responder_name', 'responder_type', 'site_name', 'encounter_layout', 'session_file_date']"
      ]
     },
     "execution_count": 5,
     "metadata": {},
     "output_type": "execute_result"
    }
   ],
   "source": [
    "\n",
    "on_columns = list(set(file_stats_df.columns).intersection(set(scene_stats_df.columns)))\n",
    "on_columns"
   ]
  },
  {
   "cell_type": "code",
   "execution_count": 7,
   "id": "05a2b45d-aa6b-4324-a6be-f59f2183c5ca",
   "metadata": {},
   "outputs": [
    {
     "name": "stdout",
     "output_type": "stream",
     "text": [
      "Pickling to /mnt/c/Users/DaveBabbitt/Documents/GitHub/itm-analysis-reporting/saves/pkl/scene_stats_df.pkl\n",
      "Saving to /mnt/c/Users/DaveBabbitt/Documents/GitHub/itm-analysis-reporting/saves/csv/scene_stats_df.csv\n"
     ]
    }
   ],
   "source": [
    "\n",
    "scene_stats_df = scene_stats_df.drop(columns=['is_a_one_triage_file', 'session_file_date'])\n",
    "nu.store_objects(scene_stats_df=scene_stats_df)\n",
    "nu.save_data_frames(scene_stats_df=scene_stats_df)"
   ]
  },
  {
   "cell_type": "code",
   "execution_count": 38,
   "id": "ac18b354-2d34-444e-aa76-eda3be7b52db",
   "metadata": {},
   "outputs": [
    {
     "data": {
      "text/plain": [
       "(7, 55)"
      ]
     },
     "metadata": {},
     "output_type": "display_data"
    },
    {
     "name": "stdout",
     "output_type": "stream",
     "text": [
      "Pickling to /mnt/c/Users/DaveBabbitt/Documents/GitHub/itm-analysis-reporting/saves/pkl/scene_stats_df.pkl\n",
      "Saving to /mnt/c/Users/DaveBabbitt/Documents/GitHub/itm-analysis-reporting/saves/csv/scene_stats_df.csv\n"
     ]
    }
   ],
   "source": [
    "\n",
    "# Remove duplicates\n",
    "subset_columns = ['session_uuid', 'scene_id']\n",
    "mask_series = scene_stats_df.duplicated(subset=subset_columns)\n",
    "display(scene_stats_df[mask_series].shape)\n",
    "scene_stats_df = scene_stats_df[~mask_series]\n",
    "nu.store_objects(scene_stats_df=scene_stats_df)\n",
    "nu.save_data_frames(scene_stats_df=scene_stats_df)"
   ]
  },
  {
   "cell_type": "code",
   "execution_count": null,
   "id": "1d0a61e5-e744-47ed-90f1-bcf6a0c82632",
   "metadata": {},
   "outputs": [],
   "source": []
  }
 ],
 "metadata": {
  "kernelspec": {
   "display_name": "ITM Analysis Reporting (Python 3.11.7)",
   "language": "python",
   "name": "itm_analysis_reporting"
  },
  "language_info": {
   "codemirror_mode": {
    "name": "ipython",
    "version": 3
   },
   "file_extension": ".py",
   "mimetype": "text/x-python",
   "name": "python",
   "nbconvert_exporter": "python",
   "pygments_lexer": "ipython3",
   "version": "3.7.12"
  }
 },
 "nbformat": 4,
 "nbformat_minor": 5
}
