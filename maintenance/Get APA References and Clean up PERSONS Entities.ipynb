{
 "cells": [
  {
   "cell_type": "code",
   "execution_count": 1,
   "id": "85d9339d-a614-4ed9-9889-ee376e219d95",
   "metadata": {
    "tags": []
   },
   "outputs": [
    {
     "name": "stdout",
     "output_type": "stream",
     "text": [
      "Pretty printing has been turned OFF\n"
     ]
    }
   ],
   "source": [
    "\n",
    "%pprint\n",
    "import sys\n",
    "if (osp.join(os.pardir, 'py') not in sys.path): sys.path.insert(1, osp.join(os.pardir, 'py'))"
   ]
  },
  {
   "cell_type": "code",
   "execution_count": 2,
   "id": "70ef15ab-e506-4dc7-888c-3043ce39e3e8",
   "metadata": {},
   "outputs": [],
   "source": [
    "\n",
    "from FRVRS import (nu, osp, re, walk, sep)\n",
    "import os\n",
    "from IPython.display import clear_output"
   ]
  },
  {
   "cell_type": "markdown",
   "id": "e625ba10-e83f-48a3-9c54-453a4593f4d5",
   "metadata": {},
   "source": [
    "\n",
    "# Get APA References\n",
    "\n",
    "Previously downloaded all documents from https://nextcentury.atlassian.net/wiki/spaces/ITMC/pages/2991849482/Domain+Documents and converted them all to TXT files and stored them in the Domain_Knowledge folder."
   ]
  },
  {
   "cell_type": "code",
   "execution_count": 3,
   "id": "0d47dd45",
   "metadata": {},
   "outputs": [
    {
     "name": "stdout",
     "output_type": "stream",
     "text": [
      "Lewy G ent_phrase ent_type\n",
      "Saving to /mnt/c/Users/DaveBabbitt/Documents/GitHub/itm-analysis-reporting/saves/csv/domain_doc_ners_df.csv\n"
     ]
    }
   ],
   "source": [
    "\n",
    "# Look for the author name in the ENT phrase and set the ENT type to PERSON if it's there\n",
    "domain_doc_ners_df = nu.load_data_frames(domain_doc_ners_df='domain_doc_ners_df')['domain_doc_ners_df']\n",
    "author_names_set = nu.load_object('author_names_set')\n",
    "for author_name in author_names_set:\n",
    "    search_regex = re.compile(author_name)\n",
    "    text_columns = ['nlp_word', 'ent_phrase']\n",
    "    type_columns = ['nlp_type', 'ent_type']\n",
    "    for text_column, type_column in zip(text_columns, type_columns):\n",
    "        clear_output(wait=True)\n",
    "        print(author_name, text_column, type_column)\n",
    "        mask_series = domain_doc_ners_df[text_column].map(lambda x: bool(search_regex.search(str(x))))\n",
    "        domain_doc_ners_df.loc[mask_series, type_column] = 'PERSON'\n",
    "nu.save_data_frames(domain_doc_ners_df=domain_doc_ners_df)"
   ]
  },
  {
   "cell_type": "markdown",
   "id": "e8e47740-b85b-43cc-8259-4b86d7a4989e",
   "metadata": {},
   "source": [
    "\n",
    "## Let us remove the names of people"
   ]
  },
  {
   "cell_type": "code",
   "execution_count": 149,
   "id": "d86f1c71-de85-41c7-8e0a-1c5152faf793",
   "metadata": {},
   "outputs": [],
   "source": [
    "\n",
    "# Search through all the files we ingested to find refs sections\n",
    "dk_folder = '../data/Domain_Knowledge'\n",
    "references_regex = re.compile('(?<![a-zA-Z])REFERENCES[^a-zA-Z\\r\\n]*$', re.IGNORECASE | re.MULTILINE)\n",
    "apa_reference_regex = re.compile(\n",
    "    r'^(?:\\d+\\.\\s+)?' +\n",
    "    r'((?:(?:de )?[A-Z][A-Za-z-]+(?:\\s+[A-Z]{1,2}|,\\s+(?:[A-Z]\\.){1,2})(?:\\s+JR|\\s+3RD)?,\\s*)*' +\n",
    "    r'(?:(?:de )?[A-Z][A-Za-z-]+(?:\\s+[A-Z]{1,2}|,\\s+(?:[A-Z]\\.){1,2})(?:\\s+JR|\\s+3RD)?))(?:\\.|,? ?eds\\.| \\d|,? et al\\.)',\n",
    "    re.MULTILINE\n",
    ")\n",
    "file_paths_list = []\n",
    "for sub_directory, directories_list, files_list in walk(dk_folder):\n",
    "    for file_name in files_list:\n",
    "        if file_name.endswith('.txt'):\n",
    "            file_path = osp.join(sub_directory, file_name)\n",
    "            with open(file_path, 'r', encoding=nu.encoding_type) as f: text = f.read()\n",
    "            \n",
    "            # Successful match, so extract the possible APA references in this file\n",
    "            if apa_reference_regex.search(text): file_paths_list.append(file_path)"
   ]
  },
  {
   "cell_type": "code",
   "execution_count": 150,
   "id": "844fff31-95bb-49ff-83d8-53b86d31432e",
   "metadata": {},
   "outputs": [],
   "source": [
    "\n",
    "# Create a Notepad++ session file to examine all REFERENCES lists together\n",
    "session_xml_prefix = '''<?xml version=\"1.0\" encoding=\"UTF-8\" ?>\n",
    "<NotepadPlus>\n",
    "    <Session activeView=\"0\">\n",
    "        <mainView activeIndex=\"16\">\n",
    "            <File firstVisibleLine=\"0\" xOffset=\"0\" scrollWidth=\"2152\" startPos=\"0\" endPos=\"0\" selMode=\"0\" offset=\"0\" wrapCount=\"1\" lang=\"None'''\n",
    "session_xml_prefix += ''' (Normal Text)\" encoding=\"-1\" userReadOnly=\"no\" filename=\"'''\n",
    "path_prefix_to = 'C:\\\\Users\\\\DaveBabbitt\\\\Documents\\\\GitHub\\\\itm-analysis-reporting\\\\data\\\\Domain_Knowledge\\\\'\n",
    "path_prefix_from = '/mnt/c/Users/DaveBabbitt/Documents/GitHub/itm-analysis-reporting/data/Domain_Knowledge/'\n",
    "session_xml_infix = '''\" backupFilePath=\"\" tabColourId=\"-1\" mapFirstVisibleDisplayLine=\"-1\" mapFirstVisibleDocLine=\"-1\" mapLastVisibleDocLine=\"-1\" mapNbLine=\"-1\"'''\n",
    "session_xml_infix += ''' mapHigherPos=\"-1\" mapWidth=\"-1\" mapHeight=\"-1\" mapKByteInDoc=\"512\" mapWrapIndentMode=\"-1\" mapIsWrap=\"no\" />\n",
    "            <File firstVisibleLine=\"0\" xOffset=\"0\" scrollWidth=\"2152\" startPos=\"0\" endPos=\"0\" selMode=\"0\" offset=\"0\" wrapCount=\"1\" lang=\"None (Normal Text)\"'''\n",
    "session_xml_infix += ''' encoding=\"-1\" userReadOnly=\"no\" filename=\"'''\n",
    "session_xml_suffix = '''\" backupFilePath=\"\" tabColourId=\"-1\" mapFirstVisibleDisplayLine=\"-1\" mapFirstVisibleDocLine=\"-1\" mapLastVisibleDocLine=\"-1\" mapNbLine=\"-1\"'''\n",
    "session_xml_suffix += ''' mapHigherPos=\"-1\" mapWidth=\"-1\" mapHeight=\"-1\" mapKByteInDoc=\"512\" mapWrapIndentMode=\"-1\" mapIsWrap=\"no\" />\n",
    "        </mainView>\n",
    "        <subView activeIndex=\"0\" />\n",
    "    </Session>\n",
    "</NotepadPlus>\n",
    "'''\n",
    "open_files_list = []\n",
    "for file_path in file_paths_list:\n",
    "    path_str = osp.abspath(file_path).replace(path_prefix_from, path_prefix_to).replace(sep, '\\\\')\n",
    "    open_files_list.append(path_str.strip())\n",
    "file_path = '../saves/notepad_sessions/notepad_session_of_references.xml'\n",
    "with open(file_path, 'w', encoding=nu.encoding_type) as f:\n",
    "    print(session_xml_prefix + session_xml_infix.join(open_files_list) + session_xml_suffix, file=f)"
   ]
  },
  {
   "cell_type": "code",
   "execution_count": 160,
   "id": "9cfcc55c-2c43-433c-9a5b-aafd33322965",
   "metadata": {},
   "outputs": [],
   "source": [
    "\n",
    "# Create a set of author's names from the REFERENCES sections\n",
    "section_end_regex = re.compile(\n",
    "    r'^(CHAPTER|APPENDIX|GLOSSARY|TABLE|Attachment|Required|Related|URL)',\n",
    "    re.MULTILINE\n",
    ")\n",
    "author_names_set = set()\n",
    "for file_path in file_paths_list:\n",
    "    file_name = file_path.split('/')[-1]\n",
    "    with open(file_path, 'r', encoding=nu.encoding_type) as f: text = f.read()\n",
    "    lines_list = references_regex.findall(text)\n",
    "    references_list = references_regex.split(text)\n",
    "    for line, reference in zip(lines_list, references_list[1:]):\n",
    "        reference = section_end_regex.split(reference)[0]\n",
    "        apa_refs_list = apa_reference_regex.findall(reference)\n",
    "        if apa_refs_list:\n",
    "            for authors_str in apa_refs_list:\n",
    "                authors_str = re.sub(r',\\s+((?:[A-Z]\\.){1,2})', r' \\1', authors_str).replace('.', '')\n",
    "                authors_str = re.sub(r'\\s+', ' ', authors_str).strip()\n",
    "                authors_str = re.sub(r',\\s*', ',', authors_str)\n",
    "                for author_name in authors_str.split(','): author_names_set.add(author_name)"
   ]
  },
  {
   "cell_type": "code",
   "execution_count": 173,
   "id": "4f2ec3f0-e079-4bde-8827-b369f5b203a3",
   "metadata": {},
   "outputs": [
    {
     "name": "stdout",
     "output_type": "stream",
     "text": [
      "Pickling to /mnt/c/Users/DaveBabbitt/Documents/GitHub/itm-analysis-reporting/saves/pkl/author_names_set.pkl\n",
      "Pickling to /mnt/c/Users/DaveBabbitt/Documents/GitHub/itm-analysis-reporting/saves/pkl/authors_list.pkl\n"
     ]
    }
   ],
   "source": [
    "\n",
    "authors_list = sorted(author_names_set)\n",
    "authors_list.extend([\n",
    "    'Fan D', 'Liu X', 'Lim N', 'Han B', 'Ring A', 'Koff G', 'Song Z', 'Tops M', 'Loo CM', 'Zika S', 'Sin NL', 'Jha AP', 'West J', 'Lim BR', 'Hoge C',\n",
    "    'Kane R', 'Otte C', 'Thrive', 'Chi SH', 'Roy MJ', 'Rose R', 'Wang C', 'Rhea A', 'Fear NT', 'Haack M', 'Booth B', 'Ford JL', 'Bell DB', 'Spera C',\n",
    "    'Koren D', 'Motl RW', 'Mohr DC', 'Dovey H', 'Cohen A', 'Cohen S', 'Taft CT', 'Tsai AC', 'Ryan DM', 'Dahn JR', 'Wade NG', 'Ramel J', 'Ware WB',\n",
    "    'Geher K', 'Wong PT', 'Moore D', 'Cohen F', 'Zhang Y', 'Syme SL', 'Crow JR', 'Kruse K', 'Hoge CW', 'Thom NJ', 'Scott T', 'Bell RJ', 'Segal MW',\n",
    "    'Draper P', 'Kubik MY', 'Clark JC', 'Parker S', 'Rippen N', 'Wills TA', 'Rentz ED', 'Jones DH', 'House JS', 'Gibbs DA', 'Chang TL', 'Wardle J',\n",
    "    'Marmot M', 'Berman J', 'Uutela A', 'Adler JM', 'Sanna LJ', 'Knoops L', 'White RF', 'Clark MS', 'Adler AB', 'Farley D', 'Klein EM', 'Burton T',\n",
    "    'Bowen GL', 'Goff BSN', 'Loomis D', 'Bryant C', 'Burke RJ', 'Erbes CR', 'Newman S', 'Lyons JA', 'Chang EC', 'Yang K-M', 'Brown BA', 'Heeren T',\n",
    "    'Jacka FN', 'Engel CC', 'McGurk D', 'Britt TW', 'Levin JS', 'Martin D', 'Moodie S', 'Reker GT', 'Kiang PN', 'Simon CR', 'Fritz HL', 'Dritsa M',\n",
    "    'Norman D', 'Eaton KM', 'Pasco JA', 'Dolan SL', 'Davis SR', 'Smith SE', 'Robbins C', 'Witters D', 'Kemeny ME', 'Orthner D', 'Deckman T', 'Arnold AL',\n",
    "    'Oswald AJ', 'Steptoe A', 'Jaycox LH', 'Linley PA', 'Gaynes BN', 'Fennell M', 'DeWall CN', 'Reifman A', 'Asbury ET', 'Messer SC', 'Trainor S',\n",
    "    'Pessimism', 'Ursano RJ', 'Panuzio J', 'Folkman S', 'Nelson JP', 'Bliese PD', 'Casteel C', 'Koenig HG', 'Stubbe JH', 'Schumm WR', 'Martin SL',\n",
    "    'Hassmen P', 'Penedo FJ', 'Kinney JM', 'Amoroso P', 'Johnson P', 'Holden SL', 'Blakely T', 'Schmid CH', 'Castro CA', 'Uchino BN', 'Thoits PA',\n",
    "    'Koivula N', 'Martin JA', 'Agazio JG', 'Soeken KL', 'Sutton GW', 'Berger SS', 'Carver CS', 'Bannuru R', 'Stites DP', 'Rostrup N', 'Fritts MJ',\n",
    "    'Chandra A', 'Morton RK', 'LaChina M', 'Carter KN', 'Padden DL', 'Johnson J', 'Salami SO', 'Zegans LS', 'Deuster PA', 'Schaffer J', 'Francis JL',\n",
    "    'Hamilton S', 'Kinicki AJ', 'Scheier MF', 'Ryckman RM', 'Kearney KA', 'Dishman RK', 'DeGraff AH', 'Cotting DI', 'Mancini JA', 'Compton JS',\n",
    "    'Collings S', 'de Moor MH', 'Merrill JC', 'Stanley EA', 'Wanberg CR', 'Da Costa D', 'Connors RA', 'Johnson DC', 'Anderson S', 'Helgeson V',\n",
    "    'Sweeney PJ', 'Ellison CG', 'Reisbig AM', 'Riviere LA', 'Lazarus RS', 'Bushman BJ', 'Patrick JH', 'Sherrod DR', 'Iversen AC', 'Proctor SP',\n",
    "    'Harrell MC', 'Hufford DJ', 'Kennedy MC', 'Boomsma DI', 'Griffith J', 'Polusny MA', 'Renshaw KD', 'Ecklund CJ', 'McNally ST', 'Peacock EJ',\n",
    "    'de Bruin E', 'Davison SL', 'Koffman RL', 'Metzner HL', 'Mykletun A', 'Kaufman JS', 'van Dam HA', 'de Geus EJ', 'Collins RC', 'Castro CAE',\n",
    "    'Berkman LF', 'Galovski T', 'Orthner DK', 'Frankel BG', 'Burrell LM', 'O’Donnell K', 'Grimsley RN', 'Hamilton KR', 'Winefield A', 'Magruder KM',\n",
    "    'Chatters LM', 'Dimiceli EE', 'Sonnentag S', 'Campbell JC', 'Gailliot MT', 'Pietrucha A', 'Delfabbro P', 'Johnston SL', 'McLeland KC',\n",
    "    'Greenberg N', 'Grunberg NE', 'Morrison AB', 'Matthews KA', 'Pressman SD', 'Cacioppo JT', 'Golinelli D', 'Marshall AD', 'Kupelnick B',\n",
    "    'Marshall SW', 'Manzanera R', 'Macdermid S', 'Birnbaum AS', 'Dickinson JM', 'Crebolder HF', 'McKee-Ryan F', 'Chatterjee A', 'Rodrigues CS',\n",
    "    'Leardmann CA', 'Mansfield AJ', 'Pargament KI', 'Schoomaker E', 'Castaneda LW', 'Fiksenbaum L', 'Morrissey JP', 'McCarroll JE', 'D’Zurilla TJ',\n",
    "    'Blackwell SE', 'Lopez-Zafra E', 'Steinhardt MA', 'Chamberlain K', 'Vasterling JJ', 'Durand-Bush N', 'Segerstrom SC', 'Hershfield HE',\n",
    "    'Dainer-Best J', 'Mullington JM', 'Baldacchino D', 'Lucier-Greer M', 'Pulido-Martos M', 'Montero-Marin J', 'Piva Demarzo MM', 'Blanchflower DG',\n",
    "    'Stewart-Brown S', 'Lara-Cinisomo S', 'Garcia-Campayo J', 'van den Borne BH', 'Alvarez de Mon M', 'Augusto-Landa JM', 'van der Horst FG',\n",
    "    'Rius-Ottenheim N', 'Kiecolt-Glaser JK', 'Maydeu-Olivares A', 'Armistead-Jehle P', 'Schulte-van Maaren YW'\n",
    "])\n",
    "authors_list.extend([\n",
    "    'Arend AC', 'Beck RJ', 'Smart JK', 'Franz DR', 'Sidell FR', 'Krepon M', 'Gordon MR', 'Trainor BE', 'Levie HS', 'Feilchenfeld EH', 'Smoke R',\n",
    "    'Claude IL Jr', 'Bishop WW Jr', 'Singh N', 'Poulet DC', 'Phillipson C', 'Marsden ME', 'Burrelli DF', 'Segal MW', 'Treadwell ME', 'Redhead CS',\n",
    "    'Brown D', 'Smith AM', 'Coser LA', 'Segal DR', 'Moskos CC', 'Lerner M', 'Stanley SC', 'Aldine', 'Cooper EC', 'Tarantola D', 'Mechanic D',\n",
    "    'Pressman SD', 'Bryant C', 'Ford JL', 'McCarroll JE', 'Marshall AD', 'Loomis D', 'Marshall SW', 'Stites DP', 'Ecklund CJ'\n",
    "])\n",
    "author_names_set = set(authors_list)\n",
    "authors_list = sorted(author_names_set)\n",
    "nu.store_objects(author_names_set=author_names_set, authors_list=authors_list)"
   ]
  },
  {
   "cell_type": "code",
   "execution_count": null,
   "id": "50997073-8915-4099-9e9e-6f0a453fe34c",
   "metadata": {},
   "outputs": [],
   "source": []
  }
 ],
 "metadata": {
  "kernelspec": {
   "display_name": "ITM Analysis Reporting (Python 3.11.7)",
   "language": "python",
   "name": "itm_analysis_reporting"
  },
  "language_info": {
   "codemirror_mode": {
    "name": "ipython",
    "version": 3
   },
   "file_extension": ".py",
   "mimetype": "text/x-python",
   "name": "python",
   "nbconvert_exporter": "python",
   "pygments_lexer": "ipython3",
   "version": "3.7.12"
  }
 },
 "nbformat": 4,
 "nbformat_minor": 5
}
