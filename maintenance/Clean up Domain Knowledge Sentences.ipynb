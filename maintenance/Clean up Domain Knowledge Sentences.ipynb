{
 "cells": [
  {
   "cell_type": "code",
   "execution_count": 1,
   "id": "a51ab3c6-9bc9-4299-86d6-64763b66e8f7",
   "metadata": {
    "tags": []
   },
   "outputs": [
    {
     "name": "stdout",
     "output_type": "stream",
     "text": [
      "Pretty printing has been turned OFF\n"
     ]
    }
   ],
   "source": [
    "\n",
    "%pprint\n",
    "import sys\n",
    "if (osp.join('..', 'py') not in sys.path): sys.path.insert(1, osp.join('..', 'py'))"
   ]
  },
  {
   "cell_type": "code",
   "execution_count": 2,
   "id": "d5c96aaf-34eb-4e78-b477-d2e6bd721e2b",
   "metadata": {},
   "outputs": [],
   "source": [
    "\n",
    "from FRVRS import (nu, osp)\n",
    "from scrape_utils import WebScrapingUtilities\n",
    "import os\n",
    "import random\n",
    "import logging\n",
    "\n",
    "wsu = WebScrapingUtilities(\n",
    "    s=nu,\n",
    "    secrets_json_path=osp.abspath(osp.join(nu.data_folder, 'secrets', 'itm_secrets.json'))\n",
    ")"
   ]
  },
  {
   "cell_type": "markdown",
   "id": "aba76ba4-1188-4912-80b4-c9cb20ec01f0",
   "metadata": {},
   "source": [
    "\n",
    "## Extract the text from PDFs and save it into text documents"
   ]
  },
  {
   "cell_type": "code",
   "execution_count": 3,
   "id": "3655159d-289f-4306-b6ac-6c70ee1d02c9",
   "metadata": {},
   "outputs": [
    {
     "name": "stdout",
     "output_type": "stream",
     "text": [
      "Text length for ../data/Domain_Knowledge/OSU Additions/17-13-tactical-casualty-combat-care-handbook-v5-may-17-distro-a (1).pdf is 146,122 characters.\n",
      "Text length for ../data/Domain_Knowledge/OSU Additions/9-LINE MEDEVAC AND MIST PREP.pdf is 1,561 characters.\n",
      "Text length for ../data/Domain_Knowledge/OSU Additions/Tactical Combat Casualty Care (TCCC) 2021.pdf is 38,355 characters.\n"
     ]
    }
   ],
   "source": [
    "\n",
    "# Get text from PDFs\n",
    "if nu.pickle_exists('domain_knowledge_sentences_dict'):\n",
    "    domain_knowledge_sentences_dict = nu.load_object('domain_knowledge_sentences_dict')\n",
    "    for file_path, text in domain_knowledge_sentences_dict.items():\n",
    "        text_length = len(text)\n",
    "        print(f'Text length for {file_path} is {text_length:,} characters.')\n",
    "        with open(file_path.replace('.pdf', '.txt'), 'w', encoding=nu.encoding_type) as f: f.write(text)"
   ]
  },
  {
   "cell_type": "code",
   "execution_count": 5,
   "id": "b7419d9f-969d-4787-90e9-2fd5e870c9e4",
   "metadata": {},
   "outputs": [
    {
     "name": "stdout",
     "output_type": "stream",
     "text": [
      "Attempting to open /mnt/c/Users/DaveBabbitt/Documents/GitHub/itm-analysis-reporting/data/Domain_Knowledge/Rules of Engagement/ARN19354_FM 6-27 _C1_FINAL_WEB_v2.txt\n"
     ]
    }
   ],
   "source": [
    "\n",
    "nu.open_path_in_notepad('../data/Domain_Knowledge/Rules of Engagement/ARN19354_FM 6-27 _C1_FINAL_WEB_v2.txt', verbose=True)"
   ]
  },
  {
   "cell_type": "code",
   "execution_count": 10,
   "id": "162fb50e-2df7-4dd5-a3bf-015158bc41a3",
   "metadata": {},
   "outputs": [
    {
     "data": {
      "text/plain": [
       "dict_keys(['../data/Domain_Knowledge/Fundamentals of Military Medicine/Fund ch 36.pdf'])"
      ]
     },
     "execution_count": 10,
     "metadata": {},
     "output_type": "execute_result"
    }
   ],
   "source": [
    "\n",
    "nu.get_random_subdictionary(domain_knowledge_sentences_dict, 1).keys()"
   ]
  },
  {
   "cell_type": "code",
   "execution_count": 13,
   "id": "af45efe2-7b72-40c5-82bd-8d72298e5321",
   "metadata": {},
   "outputs": [
    {
     "name": "stdout",
     "output_type": "stream",
     "text": [
      "Pickling to /mnt/c/Users/DaveBabbitt/Documents/GitHub/itm-analysis-reporting/saves/pkl/domain_knowledge_sentences_dict.pkl\n"
     ]
    }
   ],
   "source": [
    "\n",
    "# Get text from PDFs\n",
    "txt_dict = {}\n",
    "for file_path in domain_knowledge_sentences_dict.keys():\n",
    "    assert file_path.endswith('.pdf'), f'{file_path} is not a PDF.'\n",
    "    file_path = file_path.replace('.pdf', '.txt')\n",
    "    with open(file_path, 'r', encoding=nu.encoding_type) as f: text = f.read()\n",
    "    txt_dict[file_path] = text\n",
    "nu.store_objects(domain_knowledge_sentences_dict=txt_dict)"
   ]
  },
  {
   "cell_type": "code",
   "execution_count": null,
   "id": "d3083085-8b20-4a66-8b2a-b2e8ba4a256f",
   "metadata": {},
   "outputs": [],
   "source": []
  }
 ],
 "metadata": {
  "kernelspec": {
   "display_name": "LlamaIndex (Python 3.10.13)",
   "language": "python",
   "name": "llama_index"
  },
  "language_info": {
   "codemirror_mode": {
    "name": "ipython",
    "version": 3
   },
   "file_extension": ".py",
   "mimetype": "text/x-python",
   "name": "python",
   "nbconvert_exporter": "python",
   "pygments_lexer": "ipython3",
   "version": "3.9.18"
  }
 },
 "nbformat": 4,
 "nbformat_minor": 5
}
