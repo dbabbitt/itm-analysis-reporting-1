{
 "cells": [
  {
   "cell_type": "code",
   "execution_count": 1,
   "metadata": {
    "tags": []
   },
   "outputs": [
    {
     "name": "stdout",
     "output_type": "stream",
     "text": [
      "Pretty printing has been turned OFF\n"
     ]
    }
   ],
   "source": [
    "\n",
    "# Set up notebook\n",
    "%pprint\n",
    "import sys\n",
    "if (osp.join('..', 'py') not in sys.path): sys.path.insert(1, osp.join('..', 'py'))\n",
    "from FRVRS import (nu, fu, re)\n",
    "nu.delete_ipynb_checkpoint_folders()"
   ]
  },
  {
   "cell_type": "code",
   "execution_count": 2,
   "metadata": {},
   "outputs": [
    {
     "name": "stdout",
     "output_type": "stream",
     "text": [
      "\n",
      "# Ensure all needed columns are present in csv_stats_df\n",
      "needed_columns = set(['action_tick', 'action_type', 'injury_id', 'injury_record_required_procedure', 'injury_severity', 'injury_treated_injury_treated', 'injury_treated_injury_treated_with_wrong_treatment', 'injury_treated_required_procedure', 'location_id', 'patient_engaged_salt', 'patient_id', 'patient_record_salt', 'patient_salt', 'patient_sort', 'scene_id', 'session_uuid', 'tool_applied_type'])\n",
      "all_columns = set(csv_stats_df.columns)\n",
      "assert needed_columns.issubset(all_columns), f\"You're missing {needed_columns.difference(all_columns)} from csv_stats_df\"\n",
      "\n"
     ]
    }
   ],
   "source": [
    "\n",
    "# Extract all the needed columns from all the function calls in the notebook\n",
    "import inspect\n",
    "import pyperclip\n",
    "\n",
    "file_path = '../open_world/Eighteen Variables.ipynb'\n",
    "df_name = 'csv_stats_df'\n",
    "functions_regex = re.compile(r'\\bfu\\.[a-z_]+\\([^\\)]+_df[^\\)]*\\)')\n",
    "issubset_regex = re.compile(r'\\.issubset\\(')\n",
    "statements_list = ['These functions still need code to ensure all needed columns are present in the DataFrame:']\n",
    "needed_columns_set = set()\n",
    "with open(file_path, 'r', encoding=nu.encoding_type) as f:\n",
    "    text = f.read()\n",
    "    parts_list = functions_regex.findall(text)\n",
    "    for fn_str in parts_list:\n",
    "        fn_obj = eval(fn_str.split('(')[0])\n",
    "        source_code = inspect.getsource(fn_obj)\n",
    "        if issubset_regex.search(source_code) is None:\n",
    "            statements_list.append('    ' + fn_obj.__name__)\n",
    "        else:\n",
    "            parts_list = re.split('(needed_columns = |all_columns = )', source_code, 0)\n",
    "            needed_columns_str = parts_list[2].strip()\n",
    "            try:\n",
    "                needed_columns_set = needed_columns_set.union(eval(re.sub(r'\\bself\\.', 'fu.', needed_columns_str)))\n",
    "                # print(needed_columns_set)\n",
    "            except:\n",
    "                # print(needed_columns_str)\n",
    "                continue\n",
    "if len(statements_list) > 1: print('\\n'.join(statements_list))\n",
    "elif len(needed_columns_set):\n",
    "    print_str = f\"\"\"\n",
    "# Ensure all needed columns are present in {df_name}\n",
    "needed_columns = set({sorted(needed_columns_set)})\n",
    "all_columns = set({df_name}.columns)\n",
    "assert needed_columns.issubset(all_columns), f\"You're missing {{needed_columns.difference(all_columns)}} from {df_name}\"\n",
    "\"\"\"\n",
    "    pyperclip.copy(print_str)\n",
    "    print(print_str)"
   ]
  },
  {
   "cell_type": "code",
   "execution_count": null,
   "metadata": {},
   "outputs": [],
   "source": []
  }
 ],
 "metadata": {
  "kernelspec": {
   "display_name": "ITM Analysis Reporting (Python 3.11.7)",
   "language": "python",
   "name": "itm_analysis_reporting"
  },
  "language_info": {
   "codemirror_mode": {
    "name": "ipython",
    "version": 3
   },
   "file_extension": ".py",
   "mimetype": "text/x-python",
   "name": "python",
   "nbconvert_exporter": "python",
   "pygments_lexer": "ipython3",
   "version": "3.7.12"
  }
 },
 "nbformat": 4,
 "nbformat_minor": 4
}
