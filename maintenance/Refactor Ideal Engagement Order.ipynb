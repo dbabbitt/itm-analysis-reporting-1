{
 "cells": [
  {
   "cell_type": "code",
   "execution_count": 1,
   "id": "5ec5efba-ea3b-422a-99d8-7f522deab9e0",
   "metadata": {},
   "outputs": [
    {
     "name": "stdout",
     "output_type": "stream",
     "text": [
      "Pretty printing has been turned OFF\n"
     ]
    }
   ],
   "source": [
    "\n",
    "%pprint\n",
    "import sys\n",
    "if (osp.join('..', 'py') not in sys.path): sys.path.insert(1, osp.join('..', 'py'))"
   ]
  },
  {
   "cell_type": "code",
   "execution_count": 2,
   "id": "b7fb0b7b-0f7b-4088-af2a-c54794e72aac",
   "metadata": {},
   "outputs": [],
   "source": [
    "\n",
    "from FRVRS import (nu, fu, DataFrame, Index, Series, concat, math, np, osp, re, sm, isna)\n",
    "import matplotlib.pyplot as plt\n",
    "import os\n",
    "import pandas as pd\n",
    "import seaborn as sns"
   ]
  },
  {
   "cell_type": "markdown",
   "id": "f55f88e2-dbe0-4266-8482-9b6a5ca33995",
   "metadata": {},
   "source": [
    "\n",
    "# Refactor Ideal Engagement Order"
   ]
  },
  {
   "cell_type": "code",
   "execution_count": 3,
   "id": "a333ea41-0ec2-4ad7-8b17-5d022a629528",
   "metadata": {},
   "outputs": [
    {
     "name": "stdout",
     "output_type": "stream",
     "text": [
      "Attempting to load /mnt/c/Users/DaveBabbitt/Documents/GitHub/itm-analysis-reporting/saves/pkl/first_responder_master_registry_df.pkl.\n",
      "Attempting to load /mnt/c/Users/DaveBabbitt/Documents/GitHub/itm-analysis-reporting/saves/pkl/first_responder_master_registry_file_stats_df.pkl.\n",
      "Attempting to load /mnt/c/Users/DaveBabbitt/Documents/GitHub/itm-analysis-reporting/saves/pkl/first_responder_master_registry_scene_stats_df.pkl.\n",
      "Attempting to load /mnt/c/Users/DaveBabbitt/Documents/GitHub/itm-analysis-reporting/saves/pkl/category_history_df.pkl.\n",
      "No csv exists for Correct_order_of_FIRST11 - trying /mnt/c/Users/DaveBabbitt/Documents/GitHub/itm-analysis-reporting/data/csv/Correct_order_of_FIRST11.csv.\n"
     ]
    }
   ],
   "source": [
    "\n",
    "# load data frames\n",
    "data_frames_dict = nu.load_data_frames(\n",
    "    first_responder_master_registry_df='', first_responder_master_registry_file_stats_df='',\n",
    "    first_responder_master_registry_scene_stats_df='',\n",
    "    category_history_df='', Correct_order_of_FIRST11=''\n",
    ")\n",
    "triage_paper_df = data_frames_dict['first_responder_master_registry_df']\n",
    "file_stats_df = data_frames_dict['first_responder_master_registry_file_stats_df']\n",
    "scene_stats_df = data_frames_dict['first_responder_master_registry_scene_stats_df']\n",
    "elevens_df = fu.get_elevens_dataframe(\n",
    "    triage_paper_df, file_stats_df, scene_stats_df,\n",
    "    needed_columns=['scene_type', 'is_scene_aborted', 'is_a_one_triage_file', 'responder_category', 'responder_type', 'session_file_date']\n",
    ")\n",
    "Correct_order_of_FIRST11_df = data_frames_dict['Correct_order_of_FIRST11']\n",
    "engagement_dict = {patient_str + ' Root': group_id for (patient_str, group_id), patient_group_df in Correct_order_of_FIRST11_df.groupby(\n",
    "    ['Patient', 'Group']\n",
    ")}\n",
    "first11_patients_list = [p + ' Root' for p in Correct_order_of_FIRST11_df.Patient]\n",
    "first11_df = elevens_df.groupby(fu.scene_groupby_columns).filter(\n",
    "    lambda scene_df: scene_df[~scene_df.patient_id.isnull()].patient_id.isin(first11_patients_list).all()\n",
    ")"
   ]
  },
  {
   "cell_type": "code",
   "execution_count": 4,
   "id": "055b19b6-a6f8-45b3-8c3b-f0cfb16770eb",
   "metadata": {},
   "outputs": [
    {
     "name": "stderr",
     "output_type": "stream",
     "text": [
      ".....\n",
      "----------------------------------------------------------------------\n",
      "Ran 5 tests in 0.004s\n",
      "\n",
      "OK\n"
     ]
    },
    {
     "data": {
      "text/plain": [
       "<unittest.runner.TextTestResult run=5 errors=0 failures=0>"
      ]
     },
     "execution_count": 4,
     "metadata": {},
     "output_type": "execute_result"
    }
   ],
   "source": [
    "\n",
    "# Test all the methods used in this notebook in one test suite\n",
    "import unittest\n",
    "if ('../tests' not in sys.path): sys.path.insert(1, '../tests')\n",
    "suite = unittest.TestSuite()\n",
    "\n",
    "# Add all test cases from each class to the suite\n",
    "from test_notebook_utils_ordering_functions import (\n",
    "    TestCountSwapsToPerfectOrder\n",
    ")\n",
    "suite.addTest(unittest.makeSuite(TestCountSwapsToPerfectOrder))\n",
    "\n",
    "# Run the test suite\n",
    "runner = unittest.TextTestRunner()\n",
    "runner.run(suite)"
   ]
  },
  {
   "cell_type": "code",
   "execution_count": 5,
   "id": "86978a7c-ee81-4c77-8c6f-6738403a27fa",
   "metadata": {},
   "outputs": [
    {
     "data": {
      "text/plain": [
       "{'Bob_0 Root': 1, 'Bob_9 Root': 3, 'Gary_1 Root': 1, 'Gary_3 Root': 1, 'Gloria_6 Root': 2, 'Gloria_8 Root': 3, 'Helga_10 Root': 3, 'Lily_2 Root': 1, 'Lily_4 Root': 1, 'Mike_5 Root': 1, 'Mike_7 Root': 1}"
      ]
     },
     "execution_count": 5,
     "metadata": {},
     "output_type": "execute_result"
    }
   ],
   "source": [
    "\n",
    "engagement_dict"
   ]
  },
  {
   "cell_type": "code",
   "execution_count": 6,
   "id": "29fae7c2-db02-45fe-8da8-756a34eb6fe2",
   "metadata": {},
   "outputs": [],
   "source": [
    "\n",
    "from scipy.stats import kendalltau\n",
    "\n",
    "rows_list = []\n",
    "for (session_uuid, scene_id), scene_df in first11_df.groupby(fu.scene_groupby_columns):\n",
    "    row_dict = {cn: eval(cn) for cn in fu.scene_groupby_columns}\n",
    "    \n",
    "    actual_sequence, ideal_sequence, sort_dict = fu.get_actual_and_ideal_patient_sort_sequences(scene_df)\n",
    "    if isna(actual_sequence).all(): continue\n",
    "    row_dict = nu.get_flattened_dictionary(actual_sequence.tolist(), row_dict=row_dict, key_prefix='actual_sequence')\n",
    "    row_dict = nu.get_flattened_dictionary(ideal_sequence.tolist(), row_dict=row_dict, key_prefix='ideal_sequence')\n",
    "    \n",
    "    engagement_order = fu.get_order_of_actual_engagement(scene_df)\n",
    "    engagement_order_dicts_list = [\n",
    "        {\n",
    "            'patient_id': engagement_tuple[0],\n",
    "            'engagement_start': engagement_tuple[1],\n",
    "            'location_tuple': engagement_tuple[2],\n",
    "            'patient_sort': engagement_tuple[3],\n",
    "            'predicted_priority': engagement_tuple[4],\n",
    "            'injury_severity': engagement_tuple[5]\n",
    "        } for engagement_tuple in engagement_order\n",
    "    ]\n",
    "    row_dict = nu.get_flattened_dictionary(engagement_order_dicts_list, row_dict=row_dict, key_prefix='engagement_order')\n",
    "    \n",
    "    actual_patient_sequence = Series([engagement_dict.get(engagement_tuple[0]) for engagement_tuple in engagement_order])\n",
    "    row_dict = nu.get_flattened_dictionary(actual_patient_sequence.tolist(), row_dict=row_dict, key_prefix='actual_patient_sequence')\n",
    "    \n",
    "    ideal_patient_sequence = actual_patient_sequence.sort_values(ascending=True)\n",
    "    row_dict = nu.get_flattened_dictionary(ideal_patient_sequence.tolist(), row_dict=row_dict, key_prefix='ideal_patient_sequence')\n",
    "    \n",
    "    measure_of_ordering = fu.get_measure_of_ordering(actual_patient_sequence, ideal_patient_sequence)\n",
    "    row_dict['measure_of_ordering'] = measure_of_ordering\n",
    "\n",
    "    swaps_to_perfect_order = nu.count_swaps_to_perfect_order(ideal_patient_sequence.tolist(), actual_patient_sequence.tolist())\n",
    "    row_dict['swaps_to_perfect_order'] = swaps_to_perfect_order\n",
    "    \n",
    "    # Calculate Kendall's tau coefficient\n",
    "    tau, p_value = kendalltau(ideal_patient_sequence.tolist(), actual_patient_sequence.tolist())\n",
    "    row_dict['kendall_tau_coefficient'] = tau\n",
    "    \n",
    "    rows_list.append(row_dict)\n",
    "measure_of_ordering_df = DataFrame(rows_list)"
   ]
  },
  {
   "cell_type": "code",
   "execution_count": 7,
   "id": "dada3d5d-c97f-495c-a80f-01a44cf977d8",
   "metadata": {},
   "outputs": [
    {
     "data": {
      "text/html": [
       "<div>\n",
       "<style scoped>\n",
       "    .dataframe tbody tr th:only-of-type {\n",
       "        vertical-align: middle;\n",
       "    }\n",
       "\n",
       "    .dataframe tbody tr th {\n",
       "        vertical-align: top;\n",
       "    }\n",
       "\n",
       "    .dataframe thead th {\n",
       "        text-align: right;\n",
       "    }\n",
       "</style>\n",
       "<table border=\"1\" class=\"dataframe\">\n",
       "  <thead>\n",
       "    <tr style=\"text-align: right;\">\n",
       "      <th></th>\n",
       "      <th>28</th>\n",
       "      <th>17</th>\n",
       "      <th>11</th>\n",
       "      <th>37</th>\n",
       "      <th>29</th>\n",
       "    </tr>\n",
       "  </thead>\n",
       "  <tbody>\n",
       "    <tr>\n",
       "      <th>session_uuid</th>\n",
       "      <td>991af001-9414-4a2d-8079-0663c4ddb1e4</td>\n",
       "      <td>38b995b3-fb77-4fda-b0b4-21f062ed6a38</td>\n",
       "      <td>26f08763-076e-4531-a6f7-f00232f664bd</td>\n",
       "      <td>b1ebfdc9-6338-4b80-ba76-947f8690bd91</td>\n",
       "      <td>9a6d2f32-10fb-40ea-bacc-dd6a7d2f4a13</td>\n",
       "    </tr>\n",
       "    <tr>\n",
       "      <th>scene_id</th>\n",
       "      <td>0</td>\n",
       "      <td>0</td>\n",
       "      <td>0</td>\n",
       "      <td>0</td>\n",
       "      <td>1</td>\n",
       "    </tr>\n",
       "    <tr>\n",
       "      <th>actual_sequence00</th>\n",
       "      <td>54837.0</td>\n",
       "      <td>65654.0</td>\n",
       "      <td>30996.0</td>\n",
       "      <td>48140.0</td>\n",
       "      <td>261333.0</td>\n",
       "    </tr>\n",
       "    <tr>\n",
       "      <th>actual_sequence01</th>\n",
       "      <td>56460.0</td>\n",
       "      <td>69168.0</td>\n",
       "      <td>39071.0</td>\n",
       "      <td>87445.0</td>\n",
       "      <td>262646.0</td>\n",
       "    </tr>\n",
       "    <tr>\n",
       "      <th>actual_sequence02</th>\n",
       "      <td>78736.0</td>\n",
       "      <td>126165.0</td>\n",
       "      <td>84011.0</td>\n",
       "      <td>165001.0</td>\n",
       "      <td>276234.0</td>\n",
       "    </tr>\n",
       "    <tr>\n",
       "      <th>...</th>\n",
       "      <td>...</td>\n",
       "      <td>...</td>\n",
       "      <td>...</td>\n",
       "      <td>...</td>\n",
       "      <td>...</td>\n",
       "    </tr>\n",
       "    <tr>\n",
       "      <th>ideal_patient_sequence4</th>\n",
       "      <td>NaN</td>\n",
       "      <td>NaN</td>\n",
       "      <td>1.0</td>\n",
       "      <td>NaN</td>\n",
       "      <td>NaN</td>\n",
       "    </tr>\n",
       "    <tr>\n",
       "      <th>ideal_patient_sequence5</th>\n",
       "      <td>NaN</td>\n",
       "      <td>NaN</td>\n",
       "      <td>1.0</td>\n",
       "      <td>NaN</td>\n",
       "      <td>NaN</td>\n",
       "    </tr>\n",
       "    <tr>\n",
       "      <th>ideal_patient_sequence6</th>\n",
       "      <td>NaN</td>\n",
       "      <td>NaN</td>\n",
       "      <td>1.0</td>\n",
       "      <td>NaN</td>\n",
       "      <td>NaN</td>\n",
       "    </tr>\n",
       "    <tr>\n",
       "      <th>ideal_patient_sequence7</th>\n",
       "      <td>NaN</td>\n",
       "      <td>NaN</td>\n",
       "      <td>2.0</td>\n",
       "      <td>NaN</td>\n",
       "      <td>NaN</td>\n",
       "    </tr>\n",
       "    <tr>\n",
       "      <th>ideal_patient_sequence8</th>\n",
       "      <td>NaN</td>\n",
       "      <td>NaN</td>\n",
       "      <td>3.0</td>\n",
       "      <td>NaN</td>\n",
       "      <td>NaN</td>\n",
       "    </tr>\n",
       "  </tbody>\n",
       "</table>\n",
       "<p>167 rows × 5 columns</p>\n",
       "</div>"
      ],
      "text/plain": [
       "                                                           28  \\\n",
       "session_uuid             991af001-9414-4a2d-8079-0663c4ddb1e4   \n",
       "scene_id                                                    0   \n",
       "actual_sequence00                                     54837.0   \n",
       "actual_sequence01                                     56460.0   \n",
       "actual_sequence02                                     78736.0   \n",
       "...                                                       ...   \n",
       "ideal_patient_sequence4                                   NaN   \n",
       "ideal_patient_sequence5                                   NaN   \n",
       "ideal_patient_sequence6                                   NaN   \n",
       "ideal_patient_sequence7                                   NaN   \n",
       "ideal_patient_sequence8                                   NaN   \n",
       "\n",
       "                                                           17  \\\n",
       "session_uuid             38b995b3-fb77-4fda-b0b4-21f062ed6a38   \n",
       "scene_id                                                    0   \n",
       "actual_sequence00                                     65654.0   \n",
       "actual_sequence01                                     69168.0   \n",
       "actual_sequence02                                    126165.0   \n",
       "...                                                       ...   \n",
       "ideal_patient_sequence4                                   NaN   \n",
       "ideal_patient_sequence5                                   NaN   \n",
       "ideal_patient_sequence6                                   NaN   \n",
       "ideal_patient_sequence7                                   NaN   \n",
       "ideal_patient_sequence8                                   NaN   \n",
       "\n",
       "                                                           11  \\\n",
       "session_uuid             26f08763-076e-4531-a6f7-f00232f664bd   \n",
       "scene_id                                                    0   \n",
       "actual_sequence00                                     30996.0   \n",
       "actual_sequence01                                     39071.0   \n",
       "actual_sequence02                                     84011.0   \n",
       "...                                                       ...   \n",
       "ideal_patient_sequence4                                   1.0   \n",
       "ideal_patient_sequence5                                   1.0   \n",
       "ideal_patient_sequence6                                   1.0   \n",
       "ideal_patient_sequence7                                   2.0   \n",
       "ideal_patient_sequence8                                   3.0   \n",
       "\n",
       "                                                           37  \\\n",
       "session_uuid             b1ebfdc9-6338-4b80-ba76-947f8690bd91   \n",
       "scene_id                                                    0   \n",
       "actual_sequence00                                     48140.0   \n",
       "actual_sequence01                                     87445.0   \n",
       "actual_sequence02                                    165001.0   \n",
       "...                                                       ...   \n",
       "ideal_patient_sequence4                                   NaN   \n",
       "ideal_patient_sequence5                                   NaN   \n",
       "ideal_patient_sequence6                                   NaN   \n",
       "ideal_patient_sequence7                                   NaN   \n",
       "ideal_patient_sequence8                                   NaN   \n",
       "\n",
       "                                                           29  \n",
       "session_uuid             9a6d2f32-10fb-40ea-bacc-dd6a7d2f4a13  \n",
       "scene_id                                                    1  \n",
       "actual_sequence00                                    261333.0  \n",
       "actual_sequence01                                    262646.0  \n",
       "actual_sequence02                                    276234.0  \n",
       "...                                                       ...  \n",
       "ideal_patient_sequence4                                   NaN  \n",
       "ideal_patient_sequence5                                   NaN  \n",
       "ideal_patient_sequence6                                   NaN  \n",
       "ideal_patient_sequence7                                   NaN  \n",
       "ideal_patient_sequence8                                   NaN  \n",
       "\n",
       "[167 rows x 5 columns]"
      ]
     },
     "execution_count": 7,
     "metadata": {},
     "output_type": "execute_result"
    }
   ],
   "source": [
    "\n",
    "measure_of_ordering_df.sort_values('kendall_tau_coefficient').head(5).dropna(axis='columns', how='all').T"
   ]
  },
  {
   "cell_type": "code",
   "execution_count": 9,
   "id": "ad120883-1459-422d-975a-ba2c325476ee",
   "metadata": {},
   "outputs": [
    {
     "data": {
      "text/plain": [
       "(48, 187)"
      ]
     },
     "execution_count": 9,
     "metadata": {},
     "output_type": "execute_result"
    }
   ],
   "source": [
    "\n",
    "measure_of_ordering_df.shape"
   ]
  },
  {
   "cell_type": "code",
   "execution_count": 15,
   "id": "ff9afcdf-f77c-40c7-b0ae-0d1becfd4565",
   "metadata": {},
   "outputs": [
    {
     "data": {
      "text/plain": [
       "0    0.062500\n",
       "1    0.333333\n",
       "2    0.104167\n",
       "3    0.062500\n",
       "4    0.229167\n",
       "5    0.041667\n",
       "6    0.166667\n",
       "Name: swaps_to_perfect_order, dtype: float64"
      ]
     },
     "execution_count": 15,
     "metadata": {},
     "output_type": "execute_result"
    }
   ],
   "source": [
    "\n",
    "measure_of_ordering_df.swaps_to_perfect_order.value_counts(normalize=True, sort=True).sort_index()"
   ]
  },
  {
   "cell_type": "code",
   "execution_count": 16,
   "id": "f19fafe2-ff18-4898-92e3-2061cb4c1353",
   "metadata": {},
   "outputs": [
    {
     "data": {
      "text/plain": [
       "-0.142857    0.020833\n",
       "-0.118343    0.020833\n",
       "-0.107967    0.062500\n",
       "-0.106584    0.041667\n",
       "-0.074770    0.041667\n",
       "-0.071429    0.020833\n",
       "-0.019441    0.062500\n",
       " 0.041420    0.041667\n",
       " 0.080152    0.041667\n",
       " 0.080152    0.166667\n",
       " 0.203259    0.062500\n",
       " 0.203259    0.020833\n",
       " 0.356798    0.020833\n",
       " 0.739369    0.041667\n",
       " 0.755168    0.270833\n",
       " 1.000000    0.062500\n",
       "Name: measure_of_ordering, dtype: float64"
      ]
     },
     "execution_count": 16,
     "metadata": {},
     "output_type": "execute_result"
    }
   ],
   "source": [
    "\n",
    "measure_of_ordering_df.measure_of_ordering.value_counts(normalize=True, sort=True).sort_index()"
   ]
  },
  {
   "cell_type": "code",
   "execution_count": 18,
   "id": "53ff29aa-972d-40b7-bbc6-ee0c2ee76279",
   "metadata": {},
   "outputs": [
    {
     "data": {
      "image/png": "[encoded data removed]",
      "text/plain": [
       "<Figure size 1800x600 with 3 Axes>"
      ]
     },
     "metadata": {},
     "output_type": "display_data"
    }
   ],
   "source": [
    "\n",
    "from itertools import combinations\n",
    "import seaborn as sns\n",
    "\n",
    "columns_list = ['measure_of_ordering', 'kendall_tau_coefficient', 'swaps_to_perfect_order']\n",
    "fig, axes = plt.subplots(nrows=1, ncols=3, figsize=(18, 6))\n",
    "for i, list_pair in enumerate(combinations(columns_list, 2)):\n",
    "    _ = sns.regplot(x=list_pair[0], y=list_pair[1], scatter=True, data=measure_of_ordering_df, ax=axes[i])\n",
    "    \n",
    "    # Annotate r squared value\n",
    "    s_str = nu.get_r_squared_value_latex(measure_of_ordering_df[list_pair[0]], measure_of_ordering_df[list_pair[1]])\n",
    "    text_tuple = axes[i].text(0.33, 0.9, s_str, alpha=0.5, transform=axes[i].transAxes, fontsize='x-large')"
   ]
  },
  {
   "cell_type": "code",
   "execution_count": 23,
   "id": "bae697e8-a81f-4183-9039-12869b37c9b4",
   "metadata": {},
   "outputs": [
    {
     "name": "stdout",
     "output_type": "stream",
     "text": [
      "\n",
      "measure_of_ordering\n",
      "mean 0.3181783083494876\n",
      "mode 0.7551682510940094\n",
      "median 0.08015190382777548\n",
      "SD 0.38914315408262845\n",
      "min -0.1428571428571428\n",
      "25% -0.019440671998390613\n",
      "50% 0.08015190382777548\n",
      "75% 0.7551682510940094\n",
      "max 1.0\n",
      "\n",
      "kendall_tau_coefficient\n",
      "mean 0.38707649076980544\n",
      "mode 0.7419354838709679\n",
      "median 0.32258064516129037\n",
      "SD 0.39554285494375246\n",
      "min -0.39130434782608703\n",
      "25% 0.09677419354838711\n",
      "50% 0.32258064516129037\n",
      "75% 0.7419354838709679\n",
      "max 1.0\n",
      "\n",
      "swaps_to_perfect_order\n",
      "mean 2.8541666666666665\n",
      "mode 1.0\n",
      "median 2.5\n",
      "SD 1.9892218443650997\n",
      "min 0.0\n",
      "25% 1.0\n",
      "50% 2.5\n",
      "75% 4.0\n",
      "max 6.0\n"
     ]
    }
   ],
   "source": [
    "\n",
    "from IPython.display import HTML\n",
    "\n",
    "for cn in columns_list:\n",
    "    print()\n",
    "    print(cn)\n",
    "    for row_index, row_series in nu.get_statistics(measure_of_ordering_df, [cn]).iterrows():\n",
    "        print(row_index, row_series.squeeze())"
   ]
  },
  {
   "cell_type": "code",
   "execution_count": 5,
   "id": "03525159-959d-4ac5-84ce-989ac26c10e6",
   "metadata": {},
   "outputs": [
    {
     "data": {
      "text/plain": [
       "-0.019440671998390613"
      ]
     },
     "execution_count": 5,
     "metadata": {},
     "output_type": "execute_result"
    }
   ],
   "source": [
    "\n",
    "distracted_sequence = Series([engagement_dict.get(engagement_tuple[0]) for engagement_tuple in fu.get_order_of_distracted_engagement(scene_df)])\n",
    "fu.get_measure_of_ordering(actual_sequence, distracted_sequence)"
   ]
  },
  {
   "cell_type": "code",
   "execution_count": 7,
   "id": "6a99a0e2-02f5-4fe7-bffd-0a03ff84ad4e",
   "metadata": {},
   "outputs": [],
   "source": [
    "\n",
    "input_features = [\n",
    "    'injury_id', 'injury_severity', 'injury_required_procedure', 'patient_salt', 'patient_sort', 'patient_pulse', 'patient_breath',\n",
    "    'patient_hearing', 'patient_mood', 'patient_pose'\n",
    "    ]"
   ]
  },
  {
   "cell_type": "code",
   "execution_count": 39,
   "id": "943f6685-0342-4455-ad60-806330d1df61",
   "metadata": {},
   "outputs": [],
   "source": [
    "\n",
    "ml_columns = ['lr_triage_priority_model_prediction', 'dtr_triage_priority_model_prediction']\n",
    "stats_column_name = 'stats_type'\n",
    "stats_columns_list = fu.scene_groupby_columns + ['patient_id', stats_column_name] + ml_columns\n",
    "scene_stats_df = DataFrame([], columns=stats_columns_list)\n",
    "for (session_uuid, scene_id), scene_df in elevens_df.groupby(fu.scene_groupby_columns):\n",
    "\n",
    "    # Create the patient sort tuples list\n",
    "    engagement_starts_list = []\n",
    "    patient_stats_df = DataFrame([], columns=stats_columns_list)\n",
    "    for patient_id, patient_df in scene_df.groupby('patient_id'):\n",
    "\n",
    "        # Get the cluster ID, if available\n",
    "        mask_series = ~patient_df.patient_sort.isnull()\n",
    "        patient_sort = (\n",
    "            patient_df[mask_series].sort_values('action_tick').iloc[-1].patient_sort\n",
    "            if mask_series.any():\n",
    "            else None\n",
    "        )\n",
    "\n",
    "        # Check if the responder even interacted with this patient\n",
    "        mask_series = patient_df.action_type.isin(fu.responder_negotiations_list)\n",
    "        if mask_series.any():\n",
    "\n",
    "            # Get the list of engagements as action ticks\n",
    "            engagements_list = patient_df[mask_series].action_tick\n",
    "            mask_series = patient_df.action_tick.isin(engagements_list) & ~patient_df.location_id.isnull()\n",
    "            if mask_series.any():\n",
    "                df = patient_df[mask_series].sort_values('action_tick')\n",
    "\n",
    "                # Get the first engagement start and location\n",
    "                engagement_start = df.iloc[0].action_tick\n",
    "                engagement_location = eval(df.iloc[0].location_id) # Evaluate string to get tuple\n",
    "                location_tuple = (engagement_location[0], engagement_location[2])\n",
    "\n",
    "                # Add engagement information to the list\n",
    "                engagement_tuple = (patient_id, engagement_start, location_tuple, patient_sort)\n",
    "                engagement_starts_list.append(engagement_tuple)\n",
    "                \n",
    "                # Get the patient stats\n",
    "                df = nu.get_statistics(patient_df, ml_columns).reset_index(drop=False).rename(columns={'index': stats_column_name})\n",
    "                for cn in fu.scene_groupby_columns: df[cn] = eval(cn)\n",
    "                df['patient_id'] = patient_id\n",
    "                df = df[stats_columns_list]\n",
    "                \n",
    "                # Append the data frame for the current patient to the stats data frame\n",
    "                patient_stats_df = concat([patient_stats_df, df], axis='index').reset_index(drop=True)\n",
    "\n",
    "    # Sort the starts list chronologically\n",
    "    actual_engagement_order = sorted(engagement_starts_list, key=lambda x: x[1], reverse=False)\n",
    "    engagement_starts_dict = {patient_id: engagement_start for patient_id, engagement_start, location_tuple, patient_sort in actual_engagement_order}\n",
    "    \n",
    "    # Calculate the R-squared adjusted value as a measure of derived ordering\n",
    "    y = Series([t[1] for t in actual_engagement_order]).values.reshape(-1, 1)\n",
    "    max_measure = -2\n",
    "    max_stats_type = 'stats_type'\n",
    "    max_ml_column = 'ml_column'\n",
    "    max_ascending = 'ascending'\n",
    "    for stats_type in patient_stats_df.stats_type.unique():\n",
    "        mask_series = (patient_stats_df.stats_type == stats_type)\n",
    "        for ml_column in ml_columns:\n",
    "            for ascending in [True, False]:\n",
    "                derived_engagement_order = patient_stats_df[mask_series].sort_values(ml_column, ascending=ascending).patient_id.tolist()\n",
    "                X = Series([engagement_starts_dict[patient_id] for patient_id in derived_engagement_order]).values.reshape(-1, 1)\n",
    "                if X.shape[0]:\n",
    "                    X1 = sm.add_constant(X)\n",
    "                    try:\n",
    "                        measure_of_derived_ordering = sm.OLS(y, X1).fit().rsquared_adj\n",
    "                        if (max_measure < measure_of_derived_ordering):\n",
    "                            max_measure = measure_of_derived_ordering\n",
    "                            max_stats_type = stats_type\n",
    "                            max_ml_column = ml_column\n",
    "                            max_ascending = ascending\n",
    "                    except: continue\n",
    "    patient_stats_df['max_measure'] = max_measure\n",
    "    patient_stats_df['max_stats_type'] = max_stats_type\n",
    "    patient_stats_df['max_ml_column'] = max_ml_column\n",
    "    patient_stats_df['max_ascending'] = max_ascending\n",
    "    \n",
    "    # Append the data frame for the current patient to the stats data frame\n",
    "    scene_stats_df = concat([scene_stats_df, patient_stats_df], axis='index').reset_index(drop=True)"
   ]
  },
  {
   "cell_type": "code",
   "execution_count": 51,
   "id": "d205d01c-76e7-44a7-bfe4-a206e7f8b7f5",
   "metadata": {},
   "outputs": [
    {
     "data": {
      "text/plain": [
       "mean    837\n",
       "25%     432\n",
       "SD      378\n",
       "max     261\n",
       "mode    171\n",
       "min      45\n",
       "75%      36\n",
       "Name: max_stats_type, dtype: int64"
      ]
     },
     "metadata": {},
     "output_type": "display_data"
    }
   ],
   "source": [
    "\n",
    "mask_series = (scene_stats_df.max_measure == 1.0)\n",
    "display(scene_stats_df[mask_series].max_stats_type.value_counts())"
   ]
  },
  {
   "cell_type": "code",
   "execution_count": 57,
   "id": "33df039f-1c79-4bc8-a6ad-2d6adeb704d0",
   "metadata": {},
   "outputs": [
    {
     "data": {
      "text/plain": [
       "dtr_triage_priority_model_prediction    630\n",
       "lr_triage_priority_model_prediction     207\n",
       "Name: max_ml_column, dtype: int64"
      ]
     },
     "metadata": {},
     "output_type": "display_data"
    }
   ],
   "source": [
    "\n",
    "mask_series = (scene_stats_df.max_measure == 1.0) & (scene_stats_df.max_stats_type == 'mean')\n",
    "display(scene_stats_df[mask_series].max_ml_column.value_counts())"
   ]
  },
  {
   "cell_type": "code",
   "execution_count": 58,
   "id": "7bb30053-8660-4dee-8cd2-1ef3f9609eac",
   "metadata": {},
   "outputs": [
    {
     "data": {
      "text/plain": [
       "True     522\n",
       "False    108\n",
       "Name: max_ascending, dtype: int64"
      ]
     },
     "metadata": {},
     "output_type": "display_data"
    }
   ],
   "source": [
    "\n",
    "mask_series = (scene_stats_df.max_measure == 1.0) & (scene_stats_df.max_stats_type == 'mean')\n",
    "mask_series &= (scene_stats_df.max_ml_column == 'dtr_triage_priority_model_prediction')\n",
    "display(scene_stats_df[mask_series].max_ascending.value_counts())"
   ]
  },
  {
   "cell_type": "code",
   "execution_count": 61,
   "id": "6fc79fb4-4921-4d93-80ea-3aec0f61eeb7",
   "metadata": {},
   "outputs": [
    {
     "data": {
      "text/html": [
       "<div>\n",
       "<style scoped>\n",
       "    .dataframe tbody tr th:only-of-type {\n",
       "        vertical-align: middle;\n",
       "    }\n",
       "\n",
       "    .dataframe tbody tr th {\n",
       "        vertical-align: top;\n",
       "    }\n",
       "\n",
       "    .dataframe thead th {\n",
       "        text-align: right;\n",
       "    }\n",
       "</style>\n",
       "<table border=\"1\" class=\"dataframe\">\n",
       "  <thead>\n",
       "    <tr style=\"text-align: right;\">\n",
       "      <th></th>\n",
       "      <th>patient_id</th>\n",
       "      <th>stats_type</th>\n",
       "      <th>lr_triage_priority_model_prediction</th>\n",
       "      <th>dtr_triage_priority_model_prediction</th>\n",
       "    </tr>\n",
       "  </thead>\n",
       "  <tbody>\n",
       "    <tr>\n",
       "      <th>5868</th>\n",
       "      <td>Mike_0 Root</td>\n",
       "      <td>mean</td>\n",
       "      <td>7.081984</td>\n",
       "      <td>7.375000</td>\n",
       "    </tr>\n",
       "    <tr>\n",
       "      <th>5869</th>\n",
       "      <td>Mike_0 Root</td>\n",
       "      <td>mode</td>\n",
       "      <td>8.623898</td>\n",
       "      <td>9.000000</td>\n",
       "    </tr>\n",
       "    <tr>\n",
       "      <th>5870</th>\n",
       "      <td>Mike_0 Root</td>\n",
       "      <td>median</td>\n",
       "      <td>8.623898</td>\n",
       "      <td>9.000000</td>\n",
       "    </tr>\n",
       "    <tr>\n",
       "      <th>5871</th>\n",
       "      <td>Mike_0 Root</td>\n",
       "      <td>SD</td>\n",
       "      <td>2.075794</td>\n",
       "      <td>2.939736</td>\n",
       "    </tr>\n",
       "    <tr>\n",
       "      <th>5872</th>\n",
       "      <td>Mike_0 Root</td>\n",
       "      <td>min</td>\n",
       "      <td>3.926232</td>\n",
       "      <td>2.500000</td>\n",
       "    </tr>\n",
       "    <tr>\n",
       "      <th>...</th>\n",
       "      <td>...</td>\n",
       "      <td>...</td>\n",
       "      <td>...</td>\n",
       "      <td>...</td>\n",
       "    </tr>\n",
       "    <tr>\n",
       "      <th>41692</th>\n",
       "      <td>Mike_3 Root</td>\n",
       "      <td>min</td>\n",
       "      <td>5.734049</td>\n",
       "      <td>8.000000</td>\n",
       "    </tr>\n",
       "    <tr>\n",
       "      <th>41693</th>\n",
       "      <td>Mike_3 Root</td>\n",
       "      <td>25%</td>\n",
       "      <td>6.206855</td>\n",
       "      <td>8.000000</td>\n",
       "    </tr>\n",
       "    <tr>\n",
       "      <th>41694</th>\n",
       "      <td>Mike_3 Root</td>\n",
       "      <td>50%</td>\n",
       "      <td>8.623898</td>\n",
       "      <td>9.000000</td>\n",
       "    </tr>\n",
       "    <tr>\n",
       "      <th>41695</th>\n",
       "      <td>Mike_3 Root</td>\n",
       "      <td>75%</td>\n",
       "      <td>8.623898</td>\n",
       "      <td>9.000000</td>\n",
       "    </tr>\n",
       "    <tr>\n",
       "      <th>41696</th>\n",
       "      <td>Mike_3 Root</td>\n",
       "      <td>max</td>\n",
       "      <td>8.623898</td>\n",
       "      <td>9.000000</td>\n",
       "    </tr>\n",
       "  </tbody>\n",
       "</table>\n",
       "<p>522 rows × 4 columns</p>\n",
       "</div>"
      ],
      "text/plain": [
       "        patient_id stats_type  lr_triage_priority_model_prediction  \\\n",
       "5868   Mike_0 Root       mean                             7.081984   \n",
       "5869   Mike_0 Root       mode                             8.623898   \n",
       "5870   Mike_0 Root     median                             8.623898   \n",
       "5871   Mike_0 Root         SD                             2.075794   \n",
       "5872   Mike_0 Root        min                             3.926232   \n",
       "...            ...        ...                                  ...   \n",
       "41692  Mike_3 Root        min                             5.734049   \n",
       "41693  Mike_3 Root        25%                             6.206855   \n",
       "41694  Mike_3 Root        50%                             8.623898   \n",
       "41695  Mike_3 Root        75%                             8.623898   \n",
       "41696  Mike_3 Root        max                             8.623898   \n",
       "\n",
       "       dtr_triage_priority_model_prediction  \n",
       "5868                               7.375000  \n",
       "5869                               9.000000  \n",
       "5870                               9.000000  \n",
       "5871                               2.939736  \n",
       "5872                               2.500000  \n",
       "...                                     ...  \n",
       "41692                              8.000000  \n",
       "41693                              8.000000  \n",
       "41694                              9.000000  \n",
       "41695                              9.000000  \n",
       "41696                              9.000000  \n",
       "\n",
       "[522 rows x 4 columns]"
      ]
     },
     "metadata": {},
     "output_type": "display_data"
    }
   ],
   "source": [
    "\n",
    "mask_series = (scene_stats_df.max_measure == 1.0) & (scene_stats_df.max_stats_type == 'mean')\n",
    "mask_series &= (scene_stats_df.max_ml_column == 'dtr_triage_priority_model_prediction')\n",
    "mask_series &= scene_stats_df.max_ascending\n",
    "columns_list = [\n",
    "    'patient_id', 'stats_type', 'lr_triage_priority_model_prediction', 'dtr_triage_priority_model_prediction'\n",
    "]\n",
    "display(scene_stats_df[mask_series][columns_list])"
   ]
  },
  {
   "cell_type": "code",
   "execution_count": null,
   "id": "320be325-5bb0-4951-9e41-a9fb4e3d81cb",
   "metadata": {},
   "outputs": [],
   "source": [
    "\n",
    "mask_series = (patient_stats_df.stats_type == 'mean')\n",
    "derived_engagement_order = patient_stats_df[mask_series].sort_values('dtr_triage_priority_model_prediction', ascending=True).patient_id.tolist()"
   ]
  },
  {
   "cell_type": "code",
   "execution_count": 39,
   "id": "3117d2a9-f98d-450c-b16b-cc066e839e53",
   "metadata": {},
   "outputs": [],
   "source": [
    "\n",
    "for (session_uuid, scene_id), scene_df in elevens_df.groupby(fu.scene_groupby_columns):\n",
    "\n",
    "    # Create the patient sort tuples list\n",
    "    engagement_starts_list = []\n",
    "    patient_stats_df = DataFrame([], columns=stats_columns_list)\n",
    "    for patient_id, patient_df in scene_df.groupby('patient_id'):\n",
    "\n",
    "        # Get the cluster ID, if available\n",
    "        mask_series = ~patient_df.patient_sort.isnull()\n",
    "        patient_sort = (\n",
    "            patient_df[mask_series].sort_values('action_tick').iloc[-1].patient_sort\n",
    "            if mask_series.any():\n",
    "            else None\n",
    "        )\n",
    "\n",
    "        # Check if the responder even interacted with this patient\n",
    "        mask_series = patient_df.action_type.isin(fu.responder_negotiations_list)\n",
    "        if mask_series.any():\n",
    "\n",
    "            # Get the list of engagements as action ticks\n",
    "            engagements_list = patient_df[mask_series].action_tick\n",
    "            mask_series = patient_df.action_tick.isin(engagements_list) & ~patient_df.location_id.isnull()\n",
    "            if mask_series.any():\n",
    "                df = patient_df[mask_series].sort_values('action_tick')\n",
    "\n",
    "                # Get the first engagement start and location\n",
    "                engagement_start = df.iloc[0].action_tick\n",
    "                engagement_location = eval(df.iloc[0].location_id) # Evaluate string to get tuple\n",
    "                location_tuple = (engagement_location[0], engagement_location[2])\n",
    "\n",
    "                # Add engagement information to the list\n",
    "                engagement_tuple = (patient_id, engagement_start, location_tuple, patient_sort)\n",
    "                engagement_starts_list.append(engagement_tuple)\n",
    "                \n",
    "                # Get the patient stats\n",
    "                df = nu.get_statistics(patient_df, ml_columns).reset_index(drop=False).rename(columns={'index': stats_column_name})\n",
    "                for cn in fu.scene_groupby_columns: df[cn] = eval(cn)\n",
    "                df['patient_id'] = patient_id\n",
    "                df = df[stats_columns_list]\n",
    "                \n",
    "                # Append the data frame for the current patient to the stats data frame\n",
    "                patient_stats_df = concat([patient_stats_df, df], axis='index').reset_index(drop=True)\n",
    "\n",
    "    # Sort the starts list chronologically\n",
    "    actual_engagement_order = sorted(engagement_starts_list, key=lambda x: x[1], reverse=False)\n",
    "    engagement_starts_dict = {patient_id: engagement_start for patient_id, engagement_start, location_tuple, patient_sort in actual_engagement_order}\n",
    "    \n",
    "    # Calculate the R-squared adjusted value as a measure of derived ordering\n",
    "    y = Series([t[1] for t in actual_engagement_order]).values.reshape(-1, 1)\n",
    "    max_measure = -2\n",
    "    max_stats_type = 'stats_type'\n",
    "    max_ml_column = 'ml_column'\n",
    "    max_ascending = 'ascending'\n",
    "    for stats_type in patient_stats_df.stats_type.unique():\n",
    "        mask_series = (patient_stats_df.stats_type == stats_type)\n",
    "        for ml_column in ml_columns:\n",
    "            for ascending in [True, False]:\n",
    "                derived_engagement_order = patient_stats_df[mask_series].sort_values(ml_column, ascending=ascending).patient_id.tolist()\n",
    "                X = Series([engagement_starts_dict[patient_id] for patient_id in derived_engagement_order]).values.reshape(-1, 1)\n",
    "                if X.shape[0]:\n",
    "                    X1 = sm.add_constant(X)\n",
    "                    try:\n",
    "                        measure_of_derived_ordering = sm.OLS(y, X1).fit().rsquared_adj\n",
    "                        if (max_measure < measure_of_derived_ordering):\n",
    "                            max_measure = measure_of_derived_ordering\n",
    "                            max_stats_type = stats_type\n",
    "                            max_ml_column = ml_column\n",
    "                            max_ascending = ascending\n",
    "                    except: continue\n",
    "    patient_stats_df['max_measure'] = max_measure\n",
    "    patient_stats_df['max_stats_type'] = max_stats_type\n",
    "    patient_stats_df['max_ml_column'] = max_ml_column\n",
    "    patient_stats_df['max_ascending'] = max_ascending\n",
    "    \n",
    "    # Append the data frame for the current patient to the stats data frame\n",
    "    scene_stats_df = concat([scene_stats_df, patient_stats_df], axis='index').reset_index(drop=True)"
   ]
  },
  {
   "cell_type": "code",
   "execution_count": null,
   "id": "abb47e6a-8b61-4db4-84b2-7053b8d83d76",
   "metadata": {},
   "outputs": [],
   "source": []
  }
 ],
 "metadata": {
  "kernelspec": {
   "display_name": "ITM Analysis Reporting (Python 3.11.7)",
   "language": "python",
   "name": "itm_analysis_reporting"
  },
  "language_info": {
   "codemirror_mode": {
    "name": "ipython",
    "version": 3
   },
   "file_extension": ".py",
   "mimetype": "text/x-python",
   "name": "python",
   "nbconvert_exporter": "python",
   "pygments_lexer": "ipython3",
   "version": "3.7.12"
  }
 },
 "nbformat": 4,
 "nbformat_minor": 5
}
