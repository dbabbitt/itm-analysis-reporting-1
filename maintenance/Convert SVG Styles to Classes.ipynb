{
 "cells": [
  {
   "cell_type": "code",
   "execution_count": 1,
   "id": "91e37b94-91f0-4b4d-ba44-53701f52e249",
   "metadata": {
    "tags": []
   },
   "outputs": [
    {
     "name": "stdout",
     "output_type": "stream",
     "text": [
      "Pretty printing has been turned OFF\n"
     ]
    }
   ],
   "source": [
    "\n",
    "%pprint\n",
    "import sys\n",
    "if (osp.join(os.pardir, 'py') not in sys.path): sys.path.insert(1, osp.join(os.pardir, 'py'))"
   ]
  },
  {
   "cell_type": "code",
   "execution_count": 2,
   "id": "8a5c681b-2cce-4fcc-a916-429f1c23f7ed",
   "metadata": {},
   "outputs": [],
   "source": [
    "\n",
    "from FRVRS import (re)"
   ]
  },
  {
   "cell_type": "code",
   "execution_count": 3,
   "id": "d1cc68af-cca4-4ec5-8182-b01d56984066",
   "metadata": {},
   "outputs": [],
   "source": [
    "\n",
    "# Load the style attributes from the SVG file\n",
    "with open('../saves/svg/The_RPD_Model.svg', 'r') as f: svg_str = f.read()\n",
    "# inline_style_regex = re.compile('(?:style=\"([^\"]+)\"[^>]+id=\"([^\"]+)\"|id=\"([^\"]+)\"[^>]+style=\"([^\"]+)\")')\n",
    "inline_style_regex = re.compile('(?:style=\"([^\"]+)\"[^>]+(?<!k)id=\"([^\"]+)\"|(?<!k)id=\"([^\"]+)\"[^>]+style=\"([^\"]+)\")')\n",
    "style_attributes_list = []\n",
    "style_attributes_dict = {}\n",
    "for match_obj in inline_style_regex.finditer(svg_str):\n",
    "    css_properties = match_obj.group(1) or match_obj.group(4)\n",
    "    css_properties_list = sorted([css_property.replace(':', ': ') for css_property in css_properties.split(';') if css_property])\n",
    "    style_attributes_dict[match_obj.group(2) or match_obj.group(3)] = str(css_properties_list)\n",
    "    style_attributes_list.append(css_properties_list)"
   ]
  },
  {
   "cell_type": "code",
   "execution_count": 4,
   "id": "72d66714-1280-4478-9ce1-e73cd41aed80",
   "metadata": {},
   "outputs": [
    {
     "data": {
      "text/plain": [
       "[(1, \"['shape-inside: url(#rect-text-experience-the-situation)']\"), (1, \"['shape-inside: url(#rect-text-mental-simulation-of)']\"), (1, \"['shape-inside: url(#rect-text-recognition-has-four)']\"), (1, \"['shape-inside: url(#rect-are-expectations-violated)']\"), (1, \"['shape-inside: url(#rect-seek-more-information)']\"), (1, \"['shape-inside: url(#rect-text-is-the-situation)']\"), (1, \"['shape-inside: url(#rect-text-modify-yes-but)']\"), (1, \"['shape-inside: url(#rect-reassess-situation)']\"), (1, \"['shape-inside: url(#rect-text-will-it-work)']\"), (1, \"['shape-inside: url(#rect-text-expectancies)']\"), (1, \"['shape-inside: url(#rect-expectations-yes)']\"), (1, \"['shape-inside: url(#rect-expectations-no)']\"), (1, \"['shape-inside: url(#rect-text-implement)']\"), (1, \"['shape-inside: url(#rect-situation-yes)']\"), (1, \"['shape-inside: url(#rect-text-actions)']\"), (1, \"['shape-inside: url(#rect-situation-no)']\"), (1, \"['shape-inside: url(#rect-text-modify)']\"), (1, \"['shape-inside: url(#rect-text-goals)']\"), (1, \"['shape-inside: url(#rect-text-cues)']\"), (1, \"['shape-inside: url(#rect-work-yes)']\"), (1, \"['shape-inside: url(#rect-work-no)']\")]"
      ]
     },
     "execution_count": 4,
     "metadata": {},
     "output_type": "execute_result"
    }
   ],
   "source": [
    "\n",
    "# Get the value counts of the style attributes\n",
    "value_counts = {}\n",
    "for value in style_attributes_dict.values():\n",
    "    value = str(value)\n",
    "    value_counts[value] = value_counts.get(value, 0) + 1\n",
    "value_str = sorted([(v, k) for k, v in value_counts.items()], key=lambda x: len(x[1]), reverse=True)\n",
    "value_str"
   ]
  },
  {
   "cell_type": "code",
   "execution_count": 5,
   "id": "c139d612-ec36-4aa2-a95c-d008383b88c1",
   "metadata": {},
   "outputs": [
    {
     "name": "stdout",
     "output_type": "stream",
     "text": [
      "\\b(?<!k)id=\"(text-experience-the-situation)\"\n",
      "\n",
      "      <style\n",
      "   type=\"text/css\"\n",
      "   id=\"style-rpd-model\">\n",
      "          .text-style {\n",
      "             shape-inside: url(#rect-text-experience-the-situation);\n",
      "          }\n",
      "      </style>\n"
     ]
    }
   ],
   "source": [
    "\n",
    "# Get the most common style attribute and replace it with a class\n",
    "# value_str = sorted([(v, k) for k, v in value_counts.items()], key=lambda x: x[0], reverse=True)\n",
    "print('\\\\b(?<!k)id=\"(' + '|'.join([k for k, v in style_attributes_dict.items() if v == value_str[0][1]]) + ')\"')\n",
    "style_name = 'text-style'\n",
    "property_delimiter = \"\"\";\n",
    "             \"\"\"\n",
    "element_str = f\"\"\"\n",
    "      <style\n",
    "   type=\"text/css\"\n",
    "   id=\"style-rpd-model\">\n",
    "          .{style_name} {{\n",
    "             {property_delimiter.join(eval(value_str[0][1]))};\n",
    "          }}\n",
    "      </style>\"\"\"\n",
    "print(element_str)"
   ]
  },
  {
   "cell_type": "code",
   "execution_count": 6,
   "id": "f87b9182-728f-46fa-b1c5-7f3b8f511b19",
   "metadata": {},
   "outputs": [],
   "source": [
    "\n",
    "# Get pairs of identical style attributes\n",
    "same_value_keys = []\n",
    "for key1, value1 in style_attributes_dict.items():\n",
    "    for key2, value2 in style_attributes_dict.items():\n",
    "        if (key1 != key2) and (value1 == value2):\n",
    "            same_value_keys.append((key1, key2))\n",
    "for same_value_tuple in same_value_keys:\n",
    "    key1 = same_value_tuple[0]\n",
    "    value1 = style_attributes_dict[key1]\n",
    "    key2 = same_value_tuple[1]\n",
    "    value2 = style_attributes_dict[key2]\n",
    "    print(f'{key1}: {value1}\\n{key2}: {value2}')"
   ]
  },
  {
   "cell_type": "code",
   "execution_count": 7,
   "id": "e84d8d86-9849-4d34-acc8-ae3eace49af5",
   "metadata": {},
   "outputs": [
    {
     "name": "stdout",
     "output_type": "stream",
     "text": [
      "text-implement: ['shape-inside: url(#rect-text-implement)']\n",
      "text-modify: ['shape-inside: url(#rect-text-modify)']\n",
      "text-modify-yes-but: ['shape-inside: url(#rect-text-modify-yes-but)']\n",
      "text-will-it-work: ['shape-inside: url(#rect-text-will-it-work)']\n",
      "text-work-yes: ['shape-inside: url(#rect-work-yes)']\n",
      "text-work-no: ['shape-inside: url(#rect-work-no)']\n",
      "text-mental-simulation-of: ['shape-inside: url(#rect-text-mental-simulation-of)']\n",
      "text-expectancies: ['shape-inside: url(#rect-text-expectancies)']\n",
      "text-goals: ['shape-inside: url(#rect-text-goals)']\n",
      "text-recognition-has-four: ['shape-inside: url(#rect-text-recognition-has-four)']\n",
      "text-are-expectations-violated: ['shape-inside: url(#rect-are-expectations-violated)']\n",
      "text-expectations-yes: ['shape-inside: url(#rect-expectations-yes)']\n",
      "text-expectations-no: ['shape-inside: url(#rect-expectations-no)']\n",
      "text-actions: ['shape-inside: url(#rect-text-actions)']\n",
      "text-cues: ['shape-inside: url(#rect-text-cues)']\n",
      "text-reassess-situation: ['shape-inside: url(#rect-reassess-situation)']\n",
      "text-seek-more-information: ['shape-inside: url(#rect-seek-more-information)']\n",
      "text-is-the-situation: ['shape-inside: url(#rect-text-is-the-situation)']\n",
      "text-situation-no: ['shape-inside: url(#rect-situation-no)']\n",
      "text-situation-yes: ['shape-inside: url(#rect-situation-yes)']\n",
      "text-experience-the-situation: ['shape-inside: url(#rect-text-experience-the-situation)']\n"
     ]
    }
   ],
   "source": [
    "\n",
    "for k, v in style_attributes_dict.items(): print(f'{k}: {v}')"
   ]
  },
  {
   "cell_type": "code",
   "execution_count": 8,
   "id": "67be6a01-4a4f-4c01-b4d7-b4a4951b5414",
   "metadata": {},
   "outputs": [
    {
     "name": "stdout",
     "output_type": "stream",
     "text": [
      "['shape-inside: url(#rect-are-expectations-violated)']\n",
      "['shape-inside: url(#rect-expectations-no)']\n",
      "['shape-inside: url(#rect-expectations-yes)']\n",
      "['shape-inside: url(#rect-reassess-situation)']\n",
      "['shape-inside: url(#rect-seek-more-information)']\n",
      "['shape-inside: url(#rect-situation-no)']\n",
      "['shape-inside: url(#rect-situation-yes)']\n",
      "['shape-inside: url(#rect-text-actions)']\n",
      "['shape-inside: url(#rect-text-cues)']\n",
      "['shape-inside: url(#rect-text-expectancies)']\n",
      "['shape-inside: url(#rect-text-experience-the-situation)']\n",
      "['shape-inside: url(#rect-text-goals)']\n",
      "['shape-inside: url(#rect-text-implement)']\n",
      "['shape-inside: url(#rect-text-is-the-situation)']\n",
      "['shape-inside: url(#rect-text-mental-simulation-of)']\n",
      "['shape-inside: url(#rect-text-modify)']\n",
      "['shape-inside: url(#rect-text-modify-yes-but)']\n",
      "['shape-inside: url(#rect-text-recognition-has-four)']\n",
      "['shape-inside: url(#rect-text-will-it-work)']\n",
      "['shape-inside: url(#rect-work-no)']\n",
      "['shape-inside: url(#rect-work-yes)']\n"
     ]
    }
   ],
   "source": [
    "\n",
    "for css_properties_list in sorted(style_attributes_list): print(css_properties_list)"
   ]
  },
  {
   "cell_type": "code",
   "execution_count": null,
   "id": "e3af56f5-0130-4595-ba17-31224ff1531c",
   "metadata": {},
   "outputs": [],
   "source": []
  }
 ],
 "metadata": {
  "kernelspec": {
   "display_name": "ITM Analysis Reporting (Python 3.11.7)",
   "language": "python",
   "name": "itm_analysis_reporting"
  },
  "language_info": {
   "codemirror_mode": {
    "name": "ipython",
    "version": 3
   },
   "file_extension": ".py",
   "mimetype": "text/x-python",
   "name": "python",
   "nbconvert_exporter": "python",
   "pygments_lexer": "ipython3",
   "version": "3.7.12"
  }
 },
 "nbformat": 4,
 "nbformat_minor": 5
}
